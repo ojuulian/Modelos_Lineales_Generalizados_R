{
 "cells": [
  {
   "cell_type": "markdown",
   "metadata": {},
   "source": [
    "<img src=\"./unal.png\" align=left width=\"150\" height=\"150\"></img>\n",
    "\n",
    "$\\;$\n",
    "\n",
    "---\n",
    "<h2 align=\"center\">MLG Poisson (Número de premios en estudiantes buenos en matemáticas) INTERPRETACIÓN</h2>\n",
    "\n",
    "\n",
    "#### Oscar Julian Layton\n",
    "\n",
    "En el siguiente ejemplo se identifica el número de premios ganados por 200 estudiantes en una escuela secundaria. Los predictores de la cantidad de premios obtenidos incluyen el tipo de programa en el que el estudiante se matriculó (por ejemplo, vocacional, general o académico) y el puntaje en su examen final de matemáticas.\n",
    "\n",
    "En este ejemplo:\n",
    "\n",
    "\n",
    "* **num_awardses**: la variable de resultado e indica el número de premios ganados por los estudiantes en una escuela secundaria en un año.\n",
    "* **mathes**: una variable predictiva continua y representa los puntajes de los estudiantes en su examen final de matemáticas.\n",
    "* **proges**: una variable predictiva categórica con tres niveles indicando el tipo de programa en el que se matricularon los estudiantes. Se codifica como 1 = “General”, 2 = “Académico” y 3 = “Vocacional”.\n"
   ]
  },
  {
   "cell_type": "code",
   "execution_count": 2,
   "metadata": {},
   "outputs": [
    {
     "data": {
      "text/html": [
       "<table>\n",
       "<thead><tr><th scope=col>id</th><th scope=col>num_awards</th><th scope=col>prog</th><th scope=col>math</th></tr></thead>\n",
       "<tbody>\n",
       "\t<tr><td> 45</td><td>0  </td><td>3  </td><td>41 </td></tr>\n",
       "\t<tr><td>108</td><td>0  </td><td>1  </td><td>41 </td></tr>\n",
       "\t<tr><td> 15</td><td>0  </td><td>3  </td><td>44 </td></tr>\n",
       "\t<tr><td> 67</td><td>0  </td><td>3  </td><td>42 </td></tr>\n",
       "\t<tr><td>153</td><td>0  </td><td>3  </td><td>40 </td></tr>\n",
       "\t<tr><td> 51</td><td>0  </td><td>1  </td><td>42 </td></tr>\n",
       "\t<tr><td>164</td><td>0  </td><td>3  </td><td>46 </td></tr>\n",
       "\t<tr><td>133</td><td>0  </td><td>3  </td><td>40 </td></tr>\n",
       "\t<tr><td>  2</td><td>0  </td><td>3  </td><td>33 </td></tr>\n",
       "\t<tr><td> 53</td><td>0  </td><td>3  </td><td>46 </td></tr>\n",
       "</tbody>\n",
       "</table>\n"
      ],
      "text/latex": [
       "\\begin{tabular}{r|llll}\n",
       " id & num\\_awards & prog & math\\\\\n",
       "\\hline\n",
       "\t  45 & 0   & 3   & 41 \\\\\n",
       "\t 108 & 0   & 1   & 41 \\\\\n",
       "\t  15 & 0   & 3   & 44 \\\\\n",
       "\t  67 & 0   & 3   & 42 \\\\\n",
       "\t 153 & 0   & 3   & 40 \\\\\n",
       "\t  51 & 0   & 1   & 42 \\\\\n",
       "\t 164 & 0   & 3   & 46 \\\\\n",
       "\t 133 & 0   & 3   & 40 \\\\\n",
       "\t   2 & 0   & 3   & 33 \\\\\n",
       "\t  53 & 0   & 3   & 46 \\\\\n",
       "\\end{tabular}\n"
      ],
      "text/markdown": [
       "\n",
       "| id | num_awards | prog | math |\n",
       "|---|---|---|---|\n",
       "|  45 | 0   | 3   | 41  |\n",
       "| 108 | 0   | 1   | 41  |\n",
       "|  15 | 0   | 3   | 44  |\n",
       "|  67 | 0   | 3   | 42  |\n",
       "| 153 | 0   | 3   | 40  |\n",
       "|  51 | 0   | 1   | 42  |\n",
       "| 164 | 0   | 3   | 46  |\n",
       "| 133 | 0   | 3   | 40  |\n",
       "|   2 | 0   | 3   | 33  |\n",
       "|  53 | 0   | 3   | 46  |\n",
       "\n"
      ],
      "text/plain": [
       "   id  num_awards prog math\n",
       "1   45 0          3    41  \n",
       "2  108 0          1    41  \n",
       "3   15 0          3    44  \n",
       "4   67 0          3    42  \n",
       "5  153 0          3    40  \n",
       "6   51 0          1    42  \n",
       "7  164 0          3    46  \n",
       "8  133 0          3    40  \n",
       "9    2 0          3    33  \n",
       "10  53 0          3    46  "
      ]
     },
     "metadata": {},
     "output_type": "display_data"
    }
   ],
   "source": [
    "#ESTAS LINEAS ES PARA LLAMAR LAS FUNCIONES REALIZADAS POR EL DOCENTE hernando vanegas\n",
    "setwd(\"\") #busca por default en una carpeta en especifica todo.\n",
    "source(\"macros.txt\")#Lllamar el archivo de macros que está en la carpeta especifica,(son una fuciines especificas del profesor)\n",
    "# awards <- read.csv(\"https://stats.idre.ucla.edu/stat/data/poisson_sim.csv\")   #datos disrectamente desde la web.\n",
    "awards<-read.csv(\"awards.csv\")#Lllamar csv base\n",
    "head(awards,n=10)\n"
   ]
  },
  {
   "cell_type": "code",
   "execution_count": 3,
   "metadata": {},
   "outputs": [
    {
     "data": {
      "text/plain": [
       "       id        num_awards           prog          math      \n",
       " 1      :  1   Min.   :0.00   General   : 45   Min.   :33.00  \n",
       " 2      :  1   1st Qu.:0.00   Academic  :105   1st Qu.:45.00  \n",
       " 3      :  1   Median :0.00   Vocational: 50   Median :52.00  \n",
       " 4      :  1   Mean   :0.63                    Mean   :52.65  \n",
       " 5      :  1   3rd Qu.:1.00                    3rd Qu.:59.00  \n",
       " 6      :  1   Max.   :6.00                    Max.   :75.00  \n",
       " (Other):194                                                  "
      ]
     },
     "metadata": {},
     "output_type": "display_data"
    },
    {
     "data": {
      "text/html": [
       "<table>\n",
       "<thead><tr><th scope=col>id</th><th scope=col>num_awards</th><th scope=col>prog</th><th scope=col>math</th></tr></thead>\n",
       "<tbody>\n",
       "\t<tr><td>45        </td><td>0         </td><td>Vocational</td><td>41        </td></tr>\n",
       "\t<tr><td>108       </td><td>0         </td><td>General   </td><td>41        </td></tr>\n",
       "\t<tr><td>15        </td><td>0         </td><td>Vocational</td><td>44        </td></tr>\n",
       "\t<tr><td>67        </td><td>0         </td><td>Vocational</td><td>42        </td></tr>\n",
       "\t<tr><td>153       </td><td>0         </td><td>Vocational</td><td>40        </td></tr>\n",
       "\t<tr><td>51        </td><td>0         </td><td>General   </td><td>42        </td></tr>\n",
       "</tbody>\n",
       "</table>\n"
      ],
      "text/latex": [
       "\\begin{tabular}{r|llll}\n",
       " id & num\\_awards & prog & math\\\\\n",
       "\\hline\n",
       "\t 45         & 0          & Vocational & 41        \\\\\n",
       "\t 108        & 0          & General    & 41        \\\\\n",
       "\t 15         & 0          & Vocational & 44        \\\\\n",
       "\t 67         & 0          & Vocational & 42        \\\\\n",
       "\t 153        & 0          & Vocational & 40        \\\\\n",
       "\t 51         & 0          & General    & 42        \\\\\n",
       "\\end{tabular}\n"
      ],
      "text/markdown": [
       "\n",
       "| id | num_awards | prog | math |\n",
       "|---|---|---|---|\n",
       "| 45         | 0          | Vocational | 41         |\n",
       "| 108        | 0          | General    | 41         |\n",
       "| 15         | 0          | Vocational | 44         |\n",
       "| 67         | 0          | Vocational | 42         |\n",
       "| 153        | 0          | Vocational | 40         |\n",
       "| 51         | 0          | General    | 42         |\n",
       "\n"
      ],
      "text/plain": [
       "  id  num_awards prog       math\n",
       "1 45  0          Vocational 41  \n",
       "2 108 0          General    41  \n",
       "3 15  0          Vocational 44  \n",
       "4 67  0          Vocational 42  \n",
       "5 153 0          Vocational 40  \n",
       "6 51  0          General    42  "
      ]
     },
     "metadata": {},
     "output_type": "display_data"
    }
   ],
   "source": [
    "awards <- within(awards, {\n",
    "  prog <- factor(prog, levels=1:3, labels=c(\"General\", \"Academic\", \n",
    "                                                     \"Vocational\"))\n",
    "  id <- factor(id)\n",
    "})\n",
    "summary(awards)\n",
    "head(awards)"
   ]
  },
  {
   "cell_type": "code",
   "execution_count": 4,
   "metadata": {},
   "outputs": [
    {
     "data": {
      "text/html": [
       "<dl class=dl-horizontal>\n",
       "\t<dt>General</dt>\n",
       "\t\t<dd>'M (SD) = 0.20 (0.40)'</dd>\n",
       "\t<dt>Academic</dt>\n",
       "\t\t<dd>'M (SD) = 1.00 (1.28)'</dd>\n",
       "\t<dt>Vocational</dt>\n",
       "\t\t<dd>'M (SD) = 0.24 (0.52)'</dd>\n",
       "</dl>\n"
      ],
      "text/latex": [
       "\\begin{description*}\n",
       "\\item[General] 'M (SD) = 0.20 (0.40)'\n",
       "\\item[Academic] 'M (SD) = 1.00 (1.28)'\n",
       "\\item[Vocational] 'M (SD) = 0.24 (0.52)'\n",
       "\\end{description*}\n"
      ],
      "text/markdown": [
       "General\n",
       ":   'M (SD) = 0.20 (0.40)'Academic\n",
       ":   'M (SD) = 1.00 (1.28)'Vocational\n",
       ":   'M (SD) = 0.24 (0.52)'\n",
       "\n"
      ],
      "text/plain": [
       "               General               Academic             Vocational \n",
       "\"M (SD) = 0.20 (0.40)\" \"M (SD) = 1.00 (1.28)\" \"M (SD) = 0.24 (0.52)\" "
      ]
     },
     "metadata": {},
     "output_type": "display_data"
    }
   ],
   "source": [
    "with(awards, tapply(num_awards, prog, function(x) {\n",
    "  sprintf(\"M (SD) = %1.2f (%1.2f)\", mean(x), sd(x))\n",
    "}))"
   ]
  },
  {
   "cell_type": "code",
   "execution_count": 5,
   "metadata": {},
   "outputs": [
    {
     "name": "stderr",
     "output_type": "stream",
     "text": [
      "Loading required package: ggplot2\n"
     ]
    },
    {
     "data": {
      "image/png": "[encoded data removed]",
      "text/plain": [
       "plot without title"
      ]
     },
     "metadata": {},
     "output_type": "display_data"
    }
   ],
   "source": [
    "require(ggplot2)\n",
    "ggplot(awards, aes(num_awards, fill = prog)) +\n",
    "  geom_histogram(binwidth=.5, position=\"dodge\")"
   ]
  },
  {
   "cell_type": "code",
   "execution_count": 7,
   "metadata": {},
   "outputs": [
    {
     "data": {
      "text/plain": [
       "\n",
       "  0   1   2   3   4   5   6 \n",
       "124  49  13   9   2   2   1 "
      ]
     },
     "metadata": {},
     "output_type": "display_data"
    }
   ],
   "source": [
    "table(awards$num_awards)                     #Realizando tabla de frecuencias con respecto al número de premios.\n",
    "awards$prog <- relevel(awards$prog ,ref=1)   #Estableciendo como categoria de base general."
   ]
  },
  {
   "cell_type": "markdown",
   "metadata": {},
   "source": [
    "En la anterior gráfica se puede establecer que hay 124 estudiantes tienen 0 premios, de igual forma trece con 2 premios y 1 estudiante con 6 premios. No obstante se procede realizar un ajuste al modelo donde la variable de respuesta es el número de premios, hay que considerar que **prog** es una variable dummie, asi como la presencia de interacciones lo cual establece un número mayor de parámetros en el modelo:"
   ]
  },
  {
   "cell_type": "code",
   "execution_count": 8,
   "metadata": {},
   "outputs": [
    {
     "data": {
      "text/plain": [
       "\n",
       "Call:\n",
       "glm(formula = num_awards ~ prog * math, family = poisson, data = awards)\n",
       "\n",
       "Deviance Residuals: \n",
       "    Min       1Q   Median       3Q      Max  \n",
       "-2.2295  -0.7958  -0.5298   0.2528   2.6826  \n",
       "\n",
       "Coefficients:\n",
       "                    Estimate Std. Error z value Pr(>|z|)\n",
       "(Intercept)         -3.86179    2.49317  -1.549    0.121\n",
       "progAcademic        -0.44107    2.60299  -0.169    0.865\n",
       "progVocational      -0.84473    2.86990  -0.294    0.768\n",
       "math                 0.04400    0.04721   0.932    0.351\n",
       "progAcademic:math    0.02841    0.04870   0.583    0.560\n",
       "progVocational:math  0.02290    0.05421   0.422    0.673\n",
       "\n",
       "(Dispersion parameter for poisson family taken to be 1)\n",
       "\n",
       "    Null deviance: 287.67  on 199  degrees of freedom\n",
       "Residual deviance: 189.10  on 194  degrees of freedom\n",
       "AIC: 377.16\n",
       "\n",
       "Number of Fisher Scoring iterations: 6\n"
      ]
     },
     "metadata": {},
     "output_type": "display_data"
    }
   ],
   "source": [
    "fit1 = glm(num_awards ~ prog*math, family = poisson, data = awards)  #rta Poisson y función de enlace Logaritmo \n",
    "summary(fit1)"
   ]
  },
  {
   "cell_type": "markdown",
   "metadata": {},
   "source": [
    "conociendo que el anterior modelo es el **más complejo** en términos de ajuste se procede a realizar un step_glm para poder determinar el modelo más conveniente en términos de AIC o BIC. Usamos un criterio **BIC** bajo el procedimiento **backward** el cual simplificará el modelo:"
   ]
  },
  {
   "cell_type": "code",
   "execution_count": 9,
   "metadata": {},
   "outputs": [
    {
     "name": "stdout",
     "output_type": "stream",
     "text": [
      "\n",
      "  Family:  poisson \n",
      "    Link:  log \n",
      "\n",
      "Initial model:\n",
      "num_awards ~ 1 + prog + math + prog:math \n",
      "\n",
      "Step 0 :    \n",
      "            Df      BIC      AIC   Deviance+ Pearson^ p-value*\n",
      "- prog:math  2   386.6978 373.5045    0.3314   0.3849   0.8364\n",
      "<none>           396.9464 377.1565    0.3257   0.3902         \n",
      "\n",
      "Step 1 :  - prog:math \n",
      "       Df      BIC      AIC   Deviance+ Pearson^  p-value*\n",
      "<none>      386.6978 373.5045    0.3314   0.3849          \n",
      "- prog  2   390.6728 384.0762    0.2872   0.3430    0.0021\n",
      "- math  1   426.4098 416.5149    0.1767   0.2481 3.625e-11\n",
      "\n",
      "+ Adjusted R-squared based on the residual deviance\n",
      "^ Adjusted R-squared based on the Pearson statistic\n",
      "* p-value of the Wald test\n",
      "\n",
      "Final model:\n",
      "num_awards ~ 1 + prog + math \n",
      "\n"
     ]
    }
   ],
   "source": [
    "step_glm(fit1, criterion=\"BIC\", direction = \"backward\")   #forward  o  backward"
   ]
  },
  {
   "cell_type": "markdown",
   "metadata": {},
   "source": [
    "El anterior codigo establece el mejor modelo. Si usamos el proceso backward, se tiene: \n",
    "\n",
    "* **paso 0**: Si quito la interacción tendría un BIC=386.6978  mucho menor que el BIC de no hacer nada. luego es aconsejable quitar la interacción triple. Con el AIC me da la misma conclusión. COn el R^2 basado en desvio (DECIANCE+) tambien.  Con el R^2 basado en la estadística Pearson **NO quitarlo** (entre mayor mejor). Según el p-valor=0.8364 el cual contrasta la hipótesis de que los dos betas de la interacción son iguales a cero, establece que hay que sacar esa interacción (pues los dos betas son iguales a cero, no se rechazo $H_0$).   **CONCLUSIÓN: Sacar la interacción doble**.\n",
    "\n",
    "* **paso 1**: Con el BIC, AIC se es necesario no hacer nada BIC= 386.6978 , En el $R^2_d$ se sugiere también no hacer nada igual que el $R^2_p$. Luego:\n",
    "\n",
    "$$num_awards = 1 + prog + math$$\n",
    "\n",
    "No obstante se tiene la estimación de los parámetros del modelo final:"
   ]
  },
  {
   "cell_type": "code",
   "execution_count": 41,
   "metadata": {},
   "outputs": [
    {
     "data": {
      "text/plain": [
       "\n",
       "Call:\n",
       "glm(formula = num_awards ~ prog + math, family = poisson, data = awards)\n",
       "\n",
       "Deviance Residuals: \n",
       "    Min       1Q   Median       3Q      Max  \n",
       "-2.2043  -0.8436  -0.5106   0.2558   2.6796  \n",
       "\n",
       "Coefficients:\n",
       "               Estimate Std. Error z value Pr(>|z|)    \n",
       "(Intercept)    -5.24712    0.65845  -7.969 1.60e-15 ***\n",
       "progAcademic    1.08386    0.35825   3.025  0.00248 ** \n",
       "progVocational  0.36981    0.44107   0.838  0.40179    \n",
       "math            0.07015    0.01060   6.619 3.63e-11 ***\n",
       "---\n",
       "Signif. codes:  0 '***' 0.001 '**' 0.01 '*' 0.05 '.' 0.1 ' ' 1\n",
       "\n",
       "(Dispersion parameter for poisson family taken to be 1)\n",
       "\n",
       "    Null deviance: 287.67  on 199  degrees of freedom\n",
       "Residual deviance: 189.45  on 196  degrees of freedom\n",
       "AIC: 373.5\n",
       "\n",
       "Number of Fisher Scoring iterations: 6\n"
      ]
     },
     "metadata": {},
     "output_type": "display_data"
    }
   ],
   "source": [
    "fit2 = glm(num_awards ~ prog+math, family = poisson, data = awards)  #rta Poisson y función de enlace Logaritmo natural.\n",
    "summary(fit2)"
   ]
  },
  {
   "cell_type": "markdown",
   "metadata": {},
   "source": [
    "Al tratarse de la función de enlace logaritmo natural la cual es monotamente creciente, se realiza un análisis con respecto a los signos de las estimaciones de los parámetros.\n",
    "\n",
    "* El número esperado de premios es mayor para los estudiantes inscritos en el **ProgramaAcademico**  que en el **programa general**. \n",
    "* El $\\beta$ correspoondiente a **progVocational** es casi cero puesto que la significancia que muestra el p-valor establece que no se rechaza $H_0$\n",
    "* Considerando que la estimación del $\\beta$ alusivo a la variable matemáticas es mayor que cero, se tiene que entre mayor sea el puntaje en el puntaje de matematicas el número esperado de premios será mucho mayor (todo lo anterior porque la función de enlace es positiva.)\n",
    "\n",
    "\n",
    "En lo que concierne a la estimación de parámetros es un modelo lineal generalizado que puede ser descrito como sigue: \n",
    "\n",
    "$$\\begin{equation*}\n",
    "     \\left\\{\n",
    "\t       \\begin{array}{ll}\n",
    "\t\t Y_k \\sim Poisson(\\mu_k), \\\\\n",
    "\t\t log(\\mu_k)=\\eta_k= \\beta_1 + \\beta_2 ProgAcad_{k} +  \\beta_3 ProgVoc_{k} +\\beta_4 Math_{k}\\\\\n",
    "\t\t Y_1, Y_2,...,Y_n ind\n",
    "\t       \\end{array}\n",
    "\t     \\right.\n",
    "   \\end{equation*}\n",
    "   $$\n",
    "   \n",
    " ## Interpretación\n",
    " \n",
    " $$\tlog(\\mu_k)=\\eta_k= \\beta_1 + \\beta_2 ProgAcad_{k} +  \\beta_3 ProgVoc_{k} +\\beta_4 Math_{k}$$\n",
    " \n",
    "\n",
    "Considerando que se desea comparar a dos estudiantes que pertenecen al mismo programa, ya sea los dos en el general o los dos  en el academico o los dos en el vocacional. Uno de ellos con un puntaje de matemáticas $\\delta$ mayor que el otro se describe el número esperado de premios como:\n",
    "\n",
    " $$\t\\mu_k = \\beta_1 + \\beta_2 ProgAcad_{k} +  \\beta_3 ProgVoc_{k} +\\beta_4 (x_o + \\delta)$$\n",
    " \n",
    "Sacando exponencial para comparar los dos estudiantes y de esta manera determinar el numero esperado de premios, se tiene:\n",
    "  \n",
    " $$\\mu_k= \\frac{ exp[ \\beta_1 + \\beta_2 ProgAcad_{k} +  \\beta_3 ProgVoc_{k} +\\beta_4 (x_o + \\delta) ]}{exp[ \\beta_1 + \\beta_2 ProgAcad_{k} +  \\beta_3 ProgVoc_{k} +\\beta_4 x_o] } = exp(\\delta \\beta_4) $$\n",
    " \n",
    " Lo anterior puede ser puesto que al considerar que los estudiantes provienen del mismo progrmama se anulan muchos términos. No obstante si \n",
    "  $$exp(\\delta \\hat{\\beta_4}) = exp( 0.07015)=1.073$$\n",
    " \n",
    "* **Interpretación del puntaje matemáticas:** Por cada unidad adicional en el puntaje de matemátiacas, el número esperado de premios del mayor puntaje es de $7.3 \\%$ mayor que el que obtuvo menor puntaje.\n",
    " \n",
    " En consecuencia si $\\delta =5$ (delta es seleccionado en el contexto): \n",
    " \n",
    "   $$exp(\\delta \\hat{\\beta_4}) = exp(5 *  0.07015)=1.42$$\n",
    "   \n",
    "* **Interpretación del puntaje matemáticas:** Por cada 5 unidades adicionales en el puntaje de matemátiacas, el número esperado de premios aumenta aproximadamente  $42\\%$. (esto es dejando constante el programa)\n",
    " \n",
    " \n",
    "* **Interpretación del programa académico:** Comparando dos estudiante con el mismo puntaje de matemáticas, uno en el programa academico y otro en el programa general (categoria base para poder comparar)\n",
    "\n",
    " $$\\mu_k= \\frac{exp[  \\beta_1 + \\beta_2 ProgAcad_{k} +  \\beta_3 ProgVoc_{k} +\\beta_4 Math_k]  }{ exp[ \\beta_1 + \\beta_2 ProgAcad_{k} +  \\beta_3 ProgVoc_{k} +\\beta_4 Math_k  ] } $$\n",
    " \n",
    "  $$\\mu_k= \\frac{exp[  \\beta_1 + \\beta_2 1 +  0 +\\beta_4 Math_k]  }{ exp[ \\beta_1 + 0 +  0 +\\beta_4 Math_k  ] } = exp(\\delta \\beta_2) $$\n",
    "  \n",
    "En consecuencia si $\\delta =1$ (delta es seleccionado en el contexto): \n",
    " \n",
    "   $$exp(\\hat{\\beta_2}) = exp(5 *  1.083)=2.96 $$\n",
    "   \n",
    "Luego sin importar el puntaje obtenido en la prueba de matemáticas, el numero esperado de premios para los inscritos en el programa academico es 2.96 veces el esperado para los inscritos en el progrmama general (nivel base). "
   ]
  },
  {
   "cell_type": "markdown",
   "metadata": {},
   "source": [
    "* **Interpretación con interacciones:** Comparando dos estudiante con el mismo puntaje de matemáticas, uno en el programa academico y otro en el programa general (categoria base para poder comparar)\n",
    "\n",
    "$$\\mu_k= \\frac{exp[  \\beta_1 + \\beta_2 ProgAcad_{k} +  \\beta_3 ProgVoc_{k} +\\beta_4 Math_k + \\beta_5 (ProgAcad:Math) + \\beta_6 (ProgVoc:Math)   ]  }{ exp[ \\beta_1 + \\beta_2 ProgAcad_{k} +  \\beta_3 ProgVoc_{k} +\\beta_4 Math_k +\\beta_5 (ProgAcad:Math) + \\beta_6 (ProgVoc:Math)  ] } $$\n",
    "\n",
    "\n",
    "**¿Cuál es el efecto sobre el número esperado de premios de 5puntos adicionales en el examen de matemáticas para los estudiantes del programa general?**\n",
    "\n",
    "$$\\mu_k= \\frac{exp[  \\beta_1  + 0  + 0 + \\beta_4 (Math_k +\\delta)+ 0 +0]  }{ exp[ \\beta_1 + 0 + 0 +\\beta_4 Math_k +0 + 0  ] } = exp(\\delta \\beta_4)$$\n",
    "\n",
    "\n",
    " En consecuencia como son 5 puntos adicionales $\\delta =5$ (delta es seleccionado en el contexto): \n",
    " \n",
    "   $$exp(\\delta \\hat{\\beta_4}) = exp(5 *  \\hat{\\beta_4})$$\n",
    "\n",
    "\n",
    "\n",
    "**¿Cuál es el efecto sobre el número esperado de premios de 5puntos adicionales en el examen de matemáticas para los estudiantes del programa académico?**\n",
    "\n",
    "\n",
    "$$\\mu_k= \\frac{exp[  \\beta_1  + \\beta_2  + 0 + \\beta_4 (Math_k +5) +  \\beta_5 (Math_k +5) +0]  }{ exp[ \\beta_1 + \\beta_2 + 0 +\\beta_4 Math_k + \\beta_5 + 0  ] } = exp(5 \\beta_4 + 5\\beta_5)$$\n",
    "\n"
   ]
  },
  {
   "cell_type": "code",
   "execution_count": 92,
   "metadata": {},
   "outputs": [
    {
     "data": {
      "text/html": [
       "<strong>math:</strong> 1.07267164126816"
      ],
      "text/latex": [
       "\\textbf{math:} 1.07267164126816"
      ],
      "text/markdown": [
       "**math:** 1.07267164126816"
      ],
      "text/plain": [
       "    math \n",
       "1.072672 "
      ]
     },
     "metadata": {},
     "output_type": "display_data"
    }
   ],
   "source": [
    "exp(coef(fit2)['math'])"
   ]
  },
  {
   "cell_type": "markdown",
   "metadata": {},
   "source": [
    "## GRÁFICAS\n",
    "\n",
    "Use la predict() función para agregar una nueva columna ( $pred) al awards objeto de datos para los valores pronosticados del modelo original, fit2.  En este caso, no necesitamos proporcionar ninguno newdata. Además, para obtener * recuentos8 predichos (en lugar de recuentos de registros), necesitamos establecer `type = 'response'.\n",
    "\n",
    "Para trazar los resultados, primero debemos ordenar los datos por **program** y **math**, de modo que las líneas que tracemos sean curvas y no vayan por todo el diagrama. Podemos hacerlo usando la función order() entre corchetes:"
   ]
  },
  {
   "cell_type": "code",
   "execution_count": 93,
   "metadata": {},
   "outputs": [
    {
     "data": {
      "text/html": [
       "<table>\n",
       "<thead><tr><th scope=col>id</th><th scope=col>num_awards</th><th scope=col>prog</th><th scope=col>math</th><th scope=col>pred</th></tr></thead>\n",
       "<tbody>\n",
       "\t<tr><td>45        </td><td>0         </td><td>Vocational</td><td>41        </td><td>0.13519097</td></tr>\n",
       "\t<tr><td>108       </td><td>0         </td><td>General   </td><td>41        </td><td>0.09339886</td></tr>\n",
       "\t<tr><td>15        </td><td>0         </td><td>Vocational</td><td>44        </td><td>0.16685841</td></tr>\n",
       "\t<tr><td>67        </td><td>0         </td><td>Vocational</td><td>42        </td><td>0.14501552</td></tr>\n",
       "\t<tr><td>153       </td><td>0         </td><td>Vocational</td><td>40        </td><td>0.12603202</td></tr>\n",
       "\t<tr><td>51        </td><td>0         </td><td>General   </td><td>42        </td><td>0.10018631</td></tr>\n",
       "</tbody>\n",
       "</table>\n"
      ],
      "text/latex": [
       "\\begin{tabular}{r|lllll}\n",
       " id & num\\_awards & prog & math & pred\\\\\n",
       "\\hline\n",
       "\t 45         & 0          & Vocational & 41         & 0.13519097\\\\\n",
       "\t 108        & 0          & General    & 41         & 0.09339886\\\\\n",
       "\t 15         & 0          & Vocational & 44         & 0.16685841\\\\\n",
       "\t 67         & 0          & Vocational & 42         & 0.14501552\\\\\n",
       "\t 153        & 0          & Vocational & 40         & 0.12603202\\\\\n",
       "\t 51         & 0          & General    & 42         & 0.10018631\\\\\n",
       "\\end{tabular}\n"
      ],
      "text/markdown": [
       "\n",
       "| id | num_awards | prog | math | pred |\n",
       "|---|---|---|---|---|\n",
       "| 45         | 0          | Vocational | 41         | 0.13519097 |\n",
       "| 108        | 0          | General    | 41         | 0.09339886 |\n",
       "| 15         | 0          | Vocational | 44         | 0.16685841 |\n",
       "| 67         | 0          | Vocational | 42         | 0.14501552 |\n",
       "| 153        | 0          | Vocational | 40         | 0.12603202 |\n",
       "| 51         | 0          | General    | 42         | 0.10018631 |\n",
       "\n"
      ],
      "text/plain": [
       "  id  num_awards prog       math pred      \n",
       "1 45  0          Vocational 41   0.13519097\n",
       "2 108 0          General    41   0.09339886\n",
       "3 15  0          Vocational 44   0.16685841\n",
       "4 67  0          Vocational 42   0.14501552\n",
       "5 153 0          Vocational 40   0.12603202\n",
       "6 51  0          General    42   0.10018631"
      ]
     },
     "metadata": {},
     "output_type": "display_data"
    },
    {
     "data": {
      "text/html": [
       "<table>\n",
       "<thead><tr><th></th><th scope=col>id</th><th scope=col>num_awards</th><th scope=col>prog</th><th scope=col>math</th><th scope=col>pred</th></tr></thead>\n",
       "<tbody>\n",
       "\t<tr><th scope=row>105</th><td>167       </td><td>0         </td><td>General   </td><td>35        </td><td>0.06131134</td></tr>\n",
       "\t<tr><th scope=row>16</th><td>134       </td><td>0         </td><td>General   </td><td>39        </td><td>0.08117233</td></tr>\n",
       "\t<tr><th scope=row>48</th><td>111       </td><td>0         </td><td>General   </td><td>39        </td><td>0.08117233</td></tr>\n",
       "\t<tr><th scope=row>2</th><td>108       </td><td>0         </td><td>General   </td><td>41        </td><td>0.09339886</td></tr>\n",
       "\t<tr><th scope=row>74</th><td>70        </td><td>0         </td><td>General   </td><td>41        </td><td>0.09339886</td></tr>\n",
       "\t<tr><th scope=row>6</th><td>51        </td><td>0         </td><td>General   </td><td>42        </td><td>0.10018631</td></tr>\n",
       "</tbody>\n",
       "</table>\n"
      ],
      "text/latex": [
       "\\begin{tabular}{r|lllll}\n",
       "  & id & num\\_awards & prog & math & pred\\\\\n",
       "\\hline\n",
       "\t105 & 167        & 0          & General    & 35         & 0.06131134\\\\\n",
       "\t16 & 134        & 0          & General    & 39         & 0.08117233\\\\\n",
       "\t48 & 111        & 0          & General    & 39         & 0.08117233\\\\\n",
       "\t2 & 108        & 0          & General    & 41         & 0.09339886\\\\\n",
       "\t74 & 70         & 0          & General    & 41         & 0.09339886\\\\\n",
       "\t6 & 51         & 0          & General    & 42         & 0.10018631\\\\\n",
       "\\end{tabular}\n"
      ],
      "text/markdown": [
       "\n",
       "| <!--/--> | id | num_awards | prog | math | pred |\n",
       "|---|---|---|---|---|---|\n",
       "| 105 | 167        | 0          | General    | 35         | 0.06131134 |\n",
       "| 16 | 134        | 0          | General    | 39         | 0.08117233 |\n",
       "| 48 | 111        | 0          | General    | 39         | 0.08117233 |\n",
       "| 2 | 108        | 0          | General    | 41         | 0.09339886 |\n",
       "| 74 | 70         | 0          | General    | 41         | 0.09339886 |\n",
       "| 6 | 51         | 0          | General    | 42         | 0.10018631 |\n",
       "\n"
      ],
      "text/plain": [
       "    id  num_awards prog    math pred      \n",
       "105 167 0          General 35   0.06131134\n",
       "16  134 0          General 39   0.08117233\n",
       "48  111 0          General 39   0.08117233\n",
       "2   108 0          General 41   0.09339886\n",
       "74  70  0          General 41   0.09339886\n",
       "6   51  0          General 42   0.10018631"
      ]
     },
     "metadata": {},
     "output_type": "display_data"
    }
   ],
   "source": [
    "awards$pred <- predict(fit2, type = \"response\") ; head(awards,n=6)        #adicionando una nueva columna de valores predichos\n",
    "awards2 <- awards[order(awards$prog, awards$math), ] ; head(awards2,n=6)  #ordenando el dataframe por programa"
   ]
  },
  {
   "cell_type": "code",
   "execution_count": 94,
   "metadata": {},
   "outputs": [
    {
     "data": {
      "image/png": "[encoded data removed]",
      "text/plain": [
       "plot without title"
      ]
     },
     "metadata": {},
     "output_type": "display_data"
    }
   ],
   "source": [
    "plot(jitter(num_awards) ~ math, data = awards2, col = prog, pch = 20)     #jitter(awards$num_awards) ordena de menor a mayor\n"
   ]
  },
  {
   "cell_type": "markdown",
   "metadata": {},
   "source": [
    "Para graficar la curva, Configure la fórmula (es decir, los valores pronosticados en función de la variable continua) y use el data =argumento para subconjuntar solo las filas de datos que desea para cada línea. Primero, trace el grupo **Academic** con los parámetros de línea predeterminados."
   ]
  },
  {
   "cell_type": "code",
   "execution_count": 57,
   "metadata": {},
   "outputs": [
    {
     "data": {
      "image/png": "[encoded data removed]",
      "text/plain": [
       "plot without title"
      ]
     },
     "metadata": {},
     "output_type": "display_data"
    }
   ],
   "source": [
    "plot(jitter(num_awards) ~ math, data = awards2, col = prog, pch = 20)\n",
    "lines(pred ~ math, data = awards2[awards2$prog == 'Academic', ])\n",
    "lines(pred ~ math, data = awards2[awards2$prog == 'General', ], col = 2)\n",
    "lines(pred ~ math, data = awards2[awards2$prog == 'Vocational', ], col = 3)\n"
   ]
  },
  {
   "cell_type": "code",
   "execution_count": 69,
   "metadata": {},
   "outputs": [
    {
     "data": {
      "image/png": "[encoded data removed]",
      "text/plain": [
       "plot without title"
      ]
     },
     "metadata": {},
     "output_type": "display_data"
    }
   ],
   "source": [
    "require(ggplot2)\n",
    "ggplot(data = awards, aes(x = math, y = predict(fit2, type = \"response\"),\n",
    "                           colour = prog)) + \n",
    "  geom_point() + xlab(\"Math\") + ylab(\"Expected number of awards\")"
   ]
  },
  {
   "cell_type": "markdown",
   "metadata": {},
   "source": [
    "## Gráfico de los residuos"
   ]
  },
  {
   "cell_type": "code",
   "execution_count": 70,
   "metadata": {},
   "outputs": [
    {
     "data": {
      "image/png": "[encoded data removed]",
      "text/plain": [
       "Plot with title \" \""
      ]
     },
     "metadata": {},
     "output_type": "display_data"
    }
   ],
   "source": [
    "residuals_glm(fit2)"
   ]
  },
  {
   "cell_type": "code",
   "execution_count": 75,
   "metadata": {},
   "outputs": [
    {
     "data": {
      "image/png": "[encoded data removed]",
      "text/plain": [
       "Plot with title \" \""
      ]
     },
     "metadata": {},
     "output_type": "display_data"
    }
   ],
   "source": [
    "Cookdis_glm(fit2)      #aproximación a la distancia de cook"
   ]
  },
  {
   "cell_type": "code",
   "execution_count": 76,
   "metadata": {},
   "outputs": [
    {
     "name": "stdout",
     "output_type": "stream",
     "text": [
      "\n",
      "               Estimate  Std. Error   Pr(>|z|)  | Estimate* Std. Error*\n",
      "(Intercept)     -5.24712     0.65845    0.00000 |  -5.43085     0.66826\n",
      "progAcademic     1.08386     0.35825    0.00248 |   1.03113     0.35938\n",
      "progVocational   0.36981     0.44107    0.40179 |   0.37256     0.44102\n",
      "math             0.07015     0.01060    0.00000 |   0.07358     0.01078\n",
      "                Pr(>|z|)* | Change(%)\n",
      "(Intercept)       0.00000 |    -3.502\n",
      "progAcademic      0.00411 |    -4.865\n",
      "progVocational    0.39823 |     0.745\n",
      "math              0.00000 |     4.882\n",
      "\n",
      "(*) estimates, standard errors and p-values obtained using the specified subset of individuals.\n"
     ]
    }
   ],
   "source": [
    "case.deletion_glm(fit2, subset=-c(54))"
   ]
  },
  {
   "cell_type": "markdown",
   "metadata": {},
   "source": [
    "Quitando el estudiante 54 los signos no cambiaron, la significancia tampoco."
   ]
  },
  {
   "cell_type": "code",
   "execution_count": 79,
   "metadata": {},
   "outputs": [
    {
     "name": "stdout",
     "output_type": "stream",
     "text": [
      "\n",
      "               Estimate  Std. Error   Pr(>|z|)  | Estimate* Std. Error*\n",
      "(Intercept)     -5.24712     0.65845    0.00000 |  -5.41774     0.67255\n",
      "progAcademic     1.08386     0.35825    0.00248 |   1.18071     0.37697\n",
      "progVocational   0.36981     0.44107    0.40179 |   0.47761     0.45655\n",
      "math             0.07015     0.01060    0.00000 |   0.07134     0.01064\n",
      "                Pr(>|z|)* | Change(%)\n",
      "(Intercept)       0.00000 |    -3.252\n",
      "progAcademic      0.00174 |     8.936\n",
      "progVocational    0.29550 |    29.152\n",
      "math              0.00000 |     1.699\n",
      "\n",
      "(*) estimates, standard errors and p-values obtained using the specified subset of individuals.\n"
     ]
    }
   ],
   "source": [
    "case.deletion_glm(fit2, subset=-c(58))"
   ]
  },
  {
   "cell_type": "markdown",
   "metadata": {},
   "source": [
    "Se presenta a continuación los residuos cuantil "
   ]
  },
  {
   "cell_type": "code",
   "execution_count": 91,
   "metadata": {},
   "outputs": [
    {
     "name": "stdout",
     "output_type": "stream",
     "text": [
      "  |++++++++++++++++++++++++++++++++++++++++++++++++++| 100%\n"
     ]
    },
    {
     "data": {
      "image/png": "[encoded data removed]",
      "text/plain": [
       "Plot with title \" \""
      ]
     },
     "metadata": {},
     "output_type": "display_data"
    }
   ],
   "source": [
    "envelope_glm(fit2,conf = 0.90)"
   ]
  }
 ],
 "metadata": {
  "kernelspec": {
   "display_name": "R",
   "language": "R",
   "name": "ir"
  },
  "language_info": {
   "codemirror_mode": "r",
   "file_extension": ".r",
   "mimetype": "text/x-r-source",
   "name": "R",
   "pygments_lexer": "r",
   "version": "3.6.1"
  }
 },
 "nbformat": 4,
 "nbformat_minor": 2
}
