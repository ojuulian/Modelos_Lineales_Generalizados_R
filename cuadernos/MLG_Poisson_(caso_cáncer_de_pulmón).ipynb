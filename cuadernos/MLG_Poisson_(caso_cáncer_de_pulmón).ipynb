{
 "cells": [
  {
   "cell_type": "markdown",
   "metadata": {},
   "source": [
    "<img src=\"./unal.png\" align=left width=\"150\" height=\"150\"></img>\n",
    "\n",
    "$\\;$\n",
    "\n",
    "---\n",
    "<h2 align=\"center\">MLG Poisson (Casos de muerte a causa del cancer de pulmón) INTERPRETACIÓN</h2>\n",
    "\n",
    "### Oscar Julian Layton\n",
    "\n",
    "se muestra un conjunto de datos paertenecientes al número de casos de cáncer de pulmón en **Fredericia, Horsens, Kolding** y **Vejle**  que hacen referencia a ciudades danesas entre 1968 y 1971. Es un marco de datos con 24 observaciones y se caracterizapor las siguientes variables:\n",
    "\n",
    "* **Cases**: la variable hace referencia a la cantidad de casos de cáncer de pulmón.\n",
    "* **Age**: Intervalos de edades (rangos de edades).\n",
    "* **Pop**: Es la población de cada grupo de edad en cada ciudad.\n",
    "* **City**: Es un factor con niveles Fredericia, Horsens, Kolding y Vejle.\n",
    "\n",
    "Aquí la variable de respuesta es Poisson, sin embargo puede ser descrita por medio de una binomial mas aún por ser n grande y $\\pi$ pequeño tiende a una **Poisson**. "
   ]
  },
  {
   "cell_type": "code",
   "execution_count": 28,
   "metadata": {},
   "outputs": [
    {
     "data": {
      "text/html": [
       "<table>\n",
       "<thead><tr><th scope=col>Cases</th><th scope=col>Pop</th><th scope=col>Age</th><th scope=col>City</th></tr></thead>\n",
       "<tbody>\n",
       "\t<tr><td>11        </td><td>3059      </td><td>40-54     </td><td>Fredericia</td></tr>\n",
       "\t<tr><td>11        </td><td> 800      </td><td>55-59     </td><td>Fredericia</td></tr>\n",
       "\t<tr><td>11        </td><td> 710      </td><td>60-64     </td><td>Fredericia</td></tr>\n",
       "\t<tr><td>10        </td><td> 581      </td><td>65-69     </td><td>Fredericia</td></tr>\n",
       "\t<tr><td>11        </td><td> 509      </td><td>70-74     </td><td>Fredericia</td></tr>\n",
       "\t<tr><td>10                                              </td><td> 605                                            </td><td><span style=white-space:pre-wrap>&gt;74  </span></td><td>Fredericia                                      </td></tr>\n",
       "\t<tr><td>13        </td><td>2879      </td><td>40-54     </td><td>Horsens   </td></tr>\n",
       "\t<tr><td> 6        </td><td>1083      </td><td>55-59     </td><td>Horsens   </td></tr>\n",
       "\t<tr><td>15        </td><td> 923      </td><td>60-64     </td><td>Horsens   </td></tr>\n",
       "\t<tr><td>10        </td><td> 834      </td><td>65-69     </td><td>Horsens   </td></tr>\n",
       "</tbody>\n",
       "</table>\n"
      ],
      "text/latex": [
       "\\begin{tabular}{r|llll}\n",
       " Cases & Pop & Age & City\\\\\n",
       "\\hline\n",
       "\t 11         & 3059       & 40-54      & Fredericia\\\\\n",
       "\t 11         &  800       & 55-59      & Fredericia\\\\\n",
       "\t 11         &  710       & 60-64      & Fredericia\\\\\n",
       "\t 10         &  581       & 65-69      & Fredericia\\\\\n",
       "\t 11         &  509       & 70-74      & Fredericia\\\\\n",
       "\t 10         &  605       & >74        & Fredericia\\\\\n",
       "\t 13         & 2879       & 40-54      & Horsens   \\\\\n",
       "\t  6         & 1083       & 55-59      & Horsens   \\\\\n",
       "\t 15         &  923       & 60-64      & Horsens   \\\\\n",
       "\t 10         &  834       & 65-69      & Horsens   \\\\\n",
       "\\end{tabular}\n"
      ],
      "text/markdown": [
       "\n",
       "| Cases | Pop | Age | City |\n",
       "|---|---|---|---|\n",
       "| 11         | 3059       | 40-54      | Fredericia |\n",
       "| 11         |  800       | 55-59      | Fredericia |\n",
       "| 11         |  710       | 60-64      | Fredericia |\n",
       "| 10         |  581       | 65-69      | Fredericia |\n",
       "| 11         |  509       | 70-74      | Fredericia |\n",
       "| 10         |  605       | >74        | Fredericia |\n",
       "| 13         | 2879       | 40-54      | Horsens    |\n",
       "|  6         | 1083       | 55-59      | Horsens    |\n",
       "| 15         |  923       | 60-64      | Horsens    |\n",
       "| 10         |  834       | 65-69      | Horsens    |\n",
       "\n"
      ],
      "text/plain": [
       "   Cases Pop  Age   City      \n",
       "1  11    3059 40-54 Fredericia\n",
       "2  11     800 55-59 Fredericia\n",
       "3  11     710 60-64 Fredericia\n",
       "4  10     581 65-69 Fredericia\n",
       "5  11     509 70-74 Fredericia\n",
       "6  10     605 >74   Fredericia\n",
       "7  13    2879 40-54 Horsens   \n",
       "8   6    1083 55-59 Horsens   \n",
       "9  15     923 60-64 Horsens   \n",
       "10 10     834 65-69 Horsens   "
      ]
     },
     "metadata": {},
     "output_type": "display_data"
    }
   ],
   "source": [
    "library(GLMsData)                        #Se hace necesario descargar la libreria en consideración.\n",
    "data(danishlc)                           #Data set\n",
    "head(danishlc,n=10)"
   ]
  },
  {
   "cell_type": "markdown",
   "metadata": {},
   "source": [
    "* **Interpretación 1**\n",
    "\n",
    "Para el rango de 40-54 se tiene: \n",
    "\n",
    "$$\\frac{11}{3059}=0.0035$$\n",
    "\n",
    "donde la probabilidad es pequeña y el n es grande. Convirtiéndose en un Poisson. En consecuencia se multiplica por una constante **C** que gneralmente es un múltiplo de 10.\n",
    "\n",
    "$$ C\\frac{11}{3059}=C*0.0035$$\n",
    "\n",
    "$$ 10000\\frac{11}{3059}=35$$\n",
    "\n",
    "Lo anterior se traduce a: **En Fredericia en el rango de 40-54 años hay 35 casos de cancer de pulmón por cada 10000 personas.**\n",
    "\n",
    "\n",
    "* **Interpretación 2**\n",
    "\n",
    "Para el rango >74 años se tiene: \n",
    "\n",
    "$$ C\\frac{10}{605}= C *0.0165$$\n",
    "\n",
    "$$ 10000\\frac{11}{3059}=165$$\n",
    "\n",
    "Lo anterior se traduce a: **En Fredericia en el rango de >74 años hay 165 casos de cancer de pulmón por cada 10000 personas.**\n"
   ]
  },
  {
   "cell_type": "code",
   "execution_count": 29,
   "metadata": {},
   "outputs": [
    {
     "data": {
      "image/png": "[encoded data removed]",
      "text/plain": [
       "plot without title"
      ]
     },
     "metadata": {},
     "output_type": "display_data"
    }
   ],
   "source": [
    "plot(Cases/Pop ~ City, data=danishlc)"
   ]
  },
  {
   "cell_type": "markdown",
   "metadata": {},
   "source": [
    "En la anterior gráfica se logra observar cuatro boxplot que hacen referencia al conteo de casos de cancer de pulmón en cada una de las ciudades, cabe destacar que las poblaciones varian lo cual se logra identificar en la magnitud de las cajas.\n",
    "\n",
    "No obstante la primera pregunta que surge es si ¿la cantidad de casos de cancer de pulmón es mayor de una ciudad que en la otra?, es incorrecto contrastar solamente el número de casos sin tener en cuenta la cantidad de población. por ejemplo es incorrecto decir que en Fredericia se han presentado muchos casos para la edad de 40-54 y menor cantidad para 65-69, esto se debe a que no se está comparando correctamente con respecto a la cantidad poblacional por rango de edad.  "
   ]
  },
  {
   "cell_type": "markdown",
   "metadata": {},
   "source": [
    "## Modelo\n",
    "\n",
    "En lo que concierne al modelo lineal generalizado _se quiere investigar la incidencia en casos de cancer de pulmón por grupos de edad_ y también _Por ciudad_  ¿Es mayor la incidencia a medida que aumenta el rango de edad? ¿Hay mayor incidencia en una ciudad que en otra? ¿Hay interacción?\n",
    "\n",
    "$$\\begin{equation*}\n",
    "     \\left\\{\n",
    "\t       \\begin{array}{ll}\n",
    "\t\t Y_k \\sim Poisson(\\mu_k), \\\\\n",
    "\t\t log(C*\\frac{\\mu_k}{Pobl_k})= \\beta_1 + \\beta_2 Edad_{k} +  \\beta_3 Ciudad_{k} \\\\\n",
    "\t\t Y_1, Y_2,...,Y_n ind\n",
    "\t       \\end{array}\n",
    "\t     \\right.\n",
    "   \\end{equation*}\n",
    "   $$\n",
    "   \n",
    "Donde: $\\mu_k$ es el número esperado de casos de cáncer que depende del grupo de edad. pero para que sea comparable multiplico por una constante **C** (numero esperado de casos de cáncer por cada C personas expuestas)\n",
    "\n",
    "La función de enlace a usar será **log.** donde:\n",
    "\n",
    "$$log(C*\\frac{\\mu_k}{Pobl_k})= \\beta_1 + \\beta_2 Edad_{k} +  \\beta_3 Ciudada_{k}$$\n",
    "\n",
    "Aplicando logaritmo se tiene:\n",
    "\n",
    "$$log(\\mu_k)= [\\beta_1 - log(c)] + \\beta_2 Edad_{k} +  \\beta_3 Ciudad_{k} + log(Pobl_k)$$\n",
    "\n",
    "$$log(\\mu_k)= \\beta_1^{*}  + \\beta_2 Edad_{k} +  \\beta_3 Ciudad_{k} + log(Pobl_k)$$\n",
    "\n",
    "Aqui:\n",
    "\n",
    "$\\beta_1^{*}=\\beta_1 - log(c) \\;\\;\\;\\; \\;\\;\\;\\;$y $\\;\\;\\;\\;\\;\\;\\;\\; log(Pobl_k)= \\beta_4 log(Pobl_k)\\;\\;$ con $\\;\\;\\beta_4=1$"
   ]
  },
  {
   "cell_type": "markdown",
   "metadata": {},
   "source": [
    "##### OFFSET\n",
    "\n",
    "En lo que corresponde a $log(\\mu_k)= \\beta_1^{*}  + \\beta_2 Edad_{k} +  \\beta_3 Ciudad_{k} + log(Pobl_k)$ se tiene que al realizar el modelo en R, se estimará un $\\beta$ para $log(Pobl_k)$, sin embargo este ya tiene parámetro y es uno. Luego:\n",
    "\n",
    "$$OFFSET=log(Pobl_k)$$\n"
   ]
  },
  {
   "cell_type": "markdown",
   "metadata": {},
   "source": [
    "###  MODELO\n",
    "\n",
    "Puede considerarse como categoria de base la edad de 40-54, no obstante se tendían 5 betas (5 dummies) para describir la edad. supongamos que $\\beta_2$  hace referencia a la dummie del rango de 55-59 "
   ]
  },
  {
   "cell_type": "code",
   "execution_count": 49,
   "metadata": {},
   "outputs": [
    {
     "data": {
      "text/plain": [
       "\n",
       "Call:\n",
       "glm(formula = Cases ~ Age + City + offset(log(Pop)), data = danishlc)\n",
       "\n",
       "Deviance Residuals: \n",
       "    Min       1Q   Median       3Q      Max  \n",
       "-6.1261  -1.8336  -0.0374   1.3568   5.1305  \n",
       "\n",
       "Coefficients:\n",
       "               Estimate Std. Error t value Pr(>|t|)  \n",
       "(Intercept)     -0.4893     2.0339  -0.241   0.8131  \n",
       "Age>74           0.9724     2.3485   0.414   0.6847  \n",
       "Age55-59         0.8673     2.3485   0.369   0.7171  \n",
       "Age60-64         3.7384     2.3485   1.592   0.1323  \n",
       "Age65-69         4.4459     2.3485   1.893   0.0778 .\n",
       "Age70-74         3.4048     2.3485   1.450   0.1677  \n",
       "CityFredericia   2.2048     1.9175   1.150   0.2682  \n",
       "CityHorsens      0.9811     1.9175   0.512   0.6164  \n",
       "CityKolding     -0.1043     1.9175  -0.054   0.9573  \n",
       "---\n",
       "Signif. codes:  0 '***' 0.001 '**' 0.01 '*' 0.05 '.' 0.1 ' ' 1\n",
       "\n",
       "(Dispersion parameter for gaussian family taken to be 11.0308)\n",
       "\n",
       "    Null deviance: 254.13  on 23  degrees of freedom\n",
       "Residual deviance: 165.46  on 15  degrees of freedom\n",
       "AIC: 134.45\n",
       "\n",
       "Number of Fisher Scoring iterations: 2\n"
      ]
     },
     "metadata": {},
     "output_type": "display_data"
    }
   ],
   "source": [
    "danishlc$Age <- relevel(danishlc$Age ,ref=\"40-54\")              #Estableciendo como categoria de base el rango de edad de 40-54.\n",
    "fit1<-glm(Cases ~  Age + City + offset(log(Pop)), data=danishlc) #offset(log(Pop) indica que beta es conocido no se debe estimar\n",
    "summary(fit1)"
   ]
  },
  {
   "cell_type": "markdown",
   "metadata": {},
   "source": [
    " ## Interpretación\n",
    " \n",
    "$$log(\\mu_k)= \\beta_1^{*}  + \\beta_2 Edad(55-59)_{k} + \\beta_3 Edad(60-64)_{k}+ \\beta_4 Edad(65-69)_{k}+ \\beta_5 Edad(70-74)_{k}+  \\beta_6 Ciudad1_{k}+\\beta_7 Ciudad2+\\beta_8 Ciudad3 + log(Pobl_k)$$\n",
    " \n",
    "\n",
    "Se describe el número esperado de muertes a causa de cancer de pulmon como:\n",
    "\n",
    "$$\\mu_k=  Exp[ \\beta_1^{*}  + \\beta_2 Edad(55-59)_{k} + \\beta_3 Edad(60-64)_{k}+ \\beta_4 Edad(65-69)_{k}+ \\beta_5 Edad(70-74)_{k}+  \\beta_6 Ciudad1_{k}+\\beta_7 Ciudad2+\\beta_8 Ciudad3 + log(Pobl_k)]$$\n",
    " \n",
    "Considerando que se desea comparar a dos personas que pertenecen a la misma ciudad, uno de ellos en elrango de edad de 55-59 y el otro 40-54 (base) se tiene:\n",
    "  \n",
    " $$\\mu_k= \\frac{ exp[ \\beta_1^{*}  + \\beta_2 Edad(55-59)_{k} + \\beta_3 Edad(60-64)_{k}+ .......]}{exp[  \\beta_1^{*}  + \\beta_2 Edad(55-59)_{k} + \\beta_3 Edad(60-64)_{k}+ ......] } = exp(\\beta_2) $$\n",
    " \n",
    "Al suponer que $\\hat{\\beta}_2=0.19$, se tiene:\n",
    "\n",
    "  $$exp(\\hat{\\beta}_2) = exp( 0.19)=1.21$$\n",
    " \n",
    "* **Interpretación entre dos rangos de edad:** dejando constante las ciudades se tiene que dados dos individuos uno de 55-59 años y otro de 40-54 :  El número esperado de muertes por cada **C** habitantes (personas expuestas) en el rango de 55-59 es aproximadamente mayor $21\\%$ que los que pertenecencen al rango de 55-59 (rango base).\n"
   ]
  },
  {
   "cell_type": "code",
   "execution_count": 45,
   "metadata": {},
   "outputs": [
    {
     "data": {
      "text/plain": [
       "\n",
       "Call:\n",
       "glm(formula = Cases ~ Age + offset(log(Pop)), data = danishlc)\n",
       "\n",
       "Deviance Residuals: \n",
       "    Min       1Q   Median       3Q      Max  \n",
       "-5.9154  -1.5838  -0.4813   2.4292   4.7537  \n",
       "\n",
       "Coefficients:\n",
       "            Estimate Std. Error t value Pr(>|t|)  \n",
       "(Intercept)   0.2811     1.6082   0.175   0.8632  \n",
       "Age>74        0.9724     2.2744   0.428   0.6740  \n",
       "Age55-59      0.8673     2.2744   0.381   0.7074  \n",
       "Age60-64      3.7384     2.2744   1.644   0.1176  \n",
       "Age65-69      4.4459     2.2744   1.955   0.0663 .\n",
       "Age70-74      3.4048     2.2744   1.497   0.1517  \n",
       "---\n",
       "Signif. codes:  0 '***' 0.001 '**' 0.01 '*' 0.05 '.' 0.1 ' ' 1\n",
       "\n",
       "(Dispersion parameter for gaussian family taken to be 10.34586)\n",
       "\n",
       "    Null deviance: 254.13  on 23  degrees of freedom\n",
       "Residual deviance: 186.23  on 18  degrees of freedom\n",
       "AIC: 131.28\n",
       "\n",
       "Number of Fisher Scoring iterations: 2\n"
      ]
     },
     "metadata": {},
     "output_type": "display_data"
    }
   ],
   "source": [
    "fit2<-glm(Cases ~  Age + offset(log(Pop)), data=danishlc) #offset(log(Pop) indica que beta es conocido no se debe estimar\n",
    "summary(fit2)"
   ]
  },
  {
   "cell_type": "code",
   "execution_count": 48,
   "metadata": {},
   "outputs": [
    {
     "name": "stdout",
     "output_type": "stream",
     "text": [
      "\n",
      " F test \n",
      "\n",
      " Model 1:  Cases ~ Age + City + offset(log(Pop)) \n",
      " Model 2:  Cases ~ Age + offset(log(Pop)) \n",
      "\n",
      "     F    Df1 Df2 Pr(>F)\n",
      "  0.62744   3  15 0.6084\n"
     ]
    }
   ],
   "source": [
    "#ESTAS LINEAS ES PARA LLAMAR LAS FUNCIONES REALIZADAS POR EL DOCENTE hernando vanegas\n",
    "setwd(\"\") #busca por default en una carpeta en especifica todo.\n",
    "source(\"macros.txt\")#Lllamar el archivo de macros que está en la carpeta especifica,(son una fuciines especificas del profesor)\n",
    "\n",
    "\n",
    "anova_glm(fit1,fit2)"
   ]
  },
  {
   "cell_type": "markdown",
   "metadata": {},
   "source": [
    "Según la prueba los betas de la variable ciudad son simultaneamente iguales a cero."
   ]
  }
 ],
 "metadata": {
  "kernelspec": {
   "display_name": "R",
   "language": "R",
   "name": "ir"
  },
  "language_info": {
   "codemirror_mode": "r",
   "file_extension": ".r",
   "mimetype": "text/x-r-source",
   "name": "R",
   "pygments_lexer": "r",
   "version": "3.6.1"
  }
 },
 "nbformat": 4,
 "nbformat_minor": 2
}
