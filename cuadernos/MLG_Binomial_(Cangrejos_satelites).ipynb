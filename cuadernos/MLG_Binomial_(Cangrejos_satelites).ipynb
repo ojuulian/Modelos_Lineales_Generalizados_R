{
 "cells": [
  {
   "cell_type": "markdown",
   "metadata": {},
   "source": [
    "## MLG Cangrejos satelites (Caso binomial)\n",
    "#### Oscar Julian Layton\n",
    "\n",
    "Consideramos un conjunto de datos que tiene como objetivo estudiar la probabilidad de que un\n",
    "cangrejo herradura hembra tenga algún cangrejo macho viviendo cerca (satélite) para una muestra\n",
    "de 173 cangrejos de esta especie. Se define Y=1 si la hembra tiene al menos un satélite y Y=0 si ella\n",
    "no tiene ninguno. Se consideran tres variables explicativas:\n",
    "\n",
    "* **Color:** Color del caparazón (Dark, Brigth).\n",
    "* **Columna** Condición de la columna vertebral (s=1 buena, s=0 deteriorada).\n",
    "* **Weidth**  Ancho del caparazón en centímetros.\n",
    "* **Satellite** Condición del escarabajo (Satellite=1 tiene almenos un satellite, Satellite=0 no tiene ningun satellite). **Esta es considerada como la RTA**\n",
    "\n",
    "Aquí $m_k$ es igual apra todo el mundo, no se tiene la necesidad de dividir el satelite sobre nada (la RTA no se divide en nada).\n",
    "\n",
    "* $m_k Y_k \\sim Binomial(m_k, \\mu_k)$\n",
    "* $\\mu_k$ : El número de ensayos. es igual a 1"
   ]
  },
  {
   "cell_type": "code",
   "execution_count": 2,
   "metadata": {},
   "outputs": [
    {
     "data": {
      "text/html": [
       "'C:/Users/YULY'"
      ],
      "text/latex": [
       "'C:/Users/YULY'"
      ],
      "text/markdown": [
       "'C:/Users/YULY'"
      ],
      "text/plain": [
       "[1] \"C:/Users/YULY\""
      ]
     },
     "metadata": {},
     "output_type": "display_data"
    }
   ],
   "source": [
    "getwd()\n",
    "setwd(\"C:\\\\Users\\\\YULY\\\\Desktop\\\\Desktop\\\\UNAL 2018\\\\MLGz\\\\MLG Vanegas\")#asignando capeta busqueda"
   ]
  },
  {
   "cell_type": "code",
   "execution_count": 3,
   "metadata": {},
   "outputs": [
    {
     "data": {
      "text/html": [
       "<table>\n",
       "<thead><tr><th scope=col>color</th><th scope=col>columna</th><th scope=col>width</th><th scope=col>satellite</th></tr></thead>\n",
       "<tbody>\n",
       "\t<tr><td>Bright</td><td>0     </td><td>28.3  </td><td>1     </td></tr>\n",
       "\t<tr><td>Dark  </td><td>0     </td><td>26.0  </td><td>1     </td></tr>\n",
       "\t<tr><td>Dark  </td><td>0     </td><td>25.6  </td><td>0     </td></tr>\n",
       "\t<tr><td>Dark  </td><td>1     </td><td>21.0  </td><td>0     </td></tr>\n",
       "\t<tr><td>Bright</td><td>0     </td><td>29.0  </td><td>1     </td></tr>\n",
       "\t<tr><td>Bright</td><td>1     </td><td>25.0  </td><td>1     </td></tr>\n",
       "\t<tr><td>Dark  </td><td>0     </td><td>26.2  </td><td>0     </td></tr>\n",
       "\t<tr><td>Bright</td><td>0     </td><td>24.9  </td><td>0     </td></tr>\n",
       "\t<tr><td>Bright</td><td>1     </td><td>25.7  </td><td>1     </td></tr>\n",
       "\t<tr><td>Bright</td><td>0     </td><td>27.5  </td><td>1     </td></tr>\n",
       "\t<tr><td>Bright</td><td>1     </td><td>26.1  </td><td>1     </td></tr>\n",
       "\t<tr><td>Dark  </td><td>0     </td><td>28.9  </td><td>1     </td></tr>\n",
       "\t<tr><td>Bright</td><td>1     </td><td>30.3  </td><td>1     </td></tr>\n",
       "</tbody>\n",
       "</table>\n"
      ],
      "text/latex": [
       "\\begin{tabular}{r|llll}\n",
       " color & columna & width & satellite\\\\\n",
       "\\hline\n",
       "\t Bright & 0      & 28.3   & 1     \\\\\n",
       "\t Dark   & 0      & 26.0   & 1     \\\\\n",
       "\t Dark   & 0      & 25.6   & 0     \\\\\n",
       "\t Dark   & 1      & 21.0   & 0     \\\\\n",
       "\t Bright & 0      & 29.0   & 1     \\\\\n",
       "\t Bright & 1      & 25.0   & 1     \\\\\n",
       "\t Dark   & 0      & 26.2   & 0     \\\\\n",
       "\t Bright & 0      & 24.9   & 0     \\\\\n",
       "\t Bright & 1      & 25.7   & 1     \\\\\n",
       "\t Bright & 0      & 27.5   & 1     \\\\\n",
       "\t Bright & 1      & 26.1   & 1     \\\\\n",
       "\t Dark   & 0      & 28.9   & 1     \\\\\n",
       "\t Bright & 1      & 30.3   & 1     \\\\\n",
       "\\end{tabular}\n"
      ],
      "text/markdown": [
       "\n",
       "| color | columna | width | satellite |\n",
       "|---|---|---|---|\n",
       "| Bright | 0      | 28.3   | 1      |\n",
       "| Dark   | 0      | 26.0   | 1      |\n",
       "| Dark   | 0      | 25.6   | 0      |\n",
       "| Dark   | 1      | 21.0   | 0      |\n",
       "| Bright | 0      | 29.0   | 1      |\n",
       "| Bright | 1      | 25.0   | 1      |\n",
       "| Dark   | 0      | 26.2   | 0      |\n",
       "| Bright | 0      | 24.9   | 0      |\n",
       "| Bright | 1      | 25.7   | 1      |\n",
       "| Bright | 0      | 27.5   | 1      |\n",
       "| Bright | 1      | 26.1   | 1      |\n",
       "| Dark   | 0      | 28.9   | 1      |\n",
       "| Bright | 1      | 30.3   | 1      |\n",
       "\n"
      ],
      "text/plain": [
       "   color  columna width satellite\n",
       "1  Bright 0       28.3  1        \n",
       "2  Dark   0       26.0  1        \n",
       "3  Dark   0       25.6  0        \n",
       "4  Dark   1       21.0  0        \n",
       "5  Bright 0       29.0  1        \n",
       "6  Bright 1       25.0  1        \n",
       "7  Dark   0       26.2  0        \n",
       "8  Bright 0       24.9  0        \n",
       "9  Bright 1       25.7  1        \n",
       "10 Bright 0       27.5  1        \n",
       "11 Bright 1       26.1  1        \n",
       "12 Dark   0       28.9  1        \n",
       "13 Bright 1       30.3  1        "
      ]
     },
     "metadata": {},
     "output_type": "display_data"
    }
   ],
   "source": [
    "library(readxl)\n",
    "cangrejos2 <- read_excel(\"cangrejos.xlsx\")                                         #Leyendo Archivos.\n",
    "colnames(cangrejos2)<-c(\"color\",\"columna\",\"width\",\"satellite\")                     #Estableciendo nombre de columnas.\n",
    "cangrejos <-within(cangrejos2,{color <- factor(color, levels=c(\"Bright\",\"Dark\") )})#organizando niveles, Brillante=0, Dark=1\n",
    "head(cangrejos2,n=13)"
   ]
  },
  {
   "cell_type": "markdown",
   "metadata": {},
   "source": [
    "En lo que corresponde a las información anteriormente suministrada se logra identificar que el color está determinado por Dark=Oscuro y Bright=Brillante, considerando que la respuesta $Y$ es bernoulli, se genera el siguiente modelo lineal generealizado con función de enlace logit:\n",
    "\n",
    "\n",
    "### Función de enlace logit"
   ]
  },
  {
   "cell_type": "code",
   "execution_count": 4,
   "metadata": {},
   "outputs": [
    {
     "data": {
      "text/plain": [
       "\n",
       "Call:\n",
       "glm(formula = satellite ~ width * color, family = binomial(\"logit\"), \n",
       "    data = cangrejos)\n",
       "\n",
       "Deviance Residuals: \n",
       "    Min       1Q   Median       3Q      Max  \n",
       "-2.0224  -0.9898   0.5662   0.8512   1.9783  \n",
       "\n",
       "Coefficients:\n",
       "                Estimate Std. Error z value Pr(>|z|)   \n",
       "(Intercept)      -9.3641     3.3597  -2.787  0.00532 **\n",
       "width             0.3927     0.1287   3.052  0.00227 **\n",
       "colorDark        -5.6067     5.6084  -1.000  0.31745   \n",
       "width:colorDark   0.1925     0.2175   0.885  0.37613   \n",
       "---\n",
       "Signif. codes:  0 '***' 0.001 '**' 0.01 '*' 0.05 '.' 0.1 ' ' 1\n",
       "\n",
       "(Dispersion parameter for binomial family taken to be 1)\n",
       "\n",
       "    Null deviance: 225.76  on 172  degrees of freedom\n",
       "Residual deviance: 190.31  on 169  degrees of freedom\n",
       "AIC: 198.31\n",
       "\n",
       "Number of Fisher Scoring iterations: 4\n"
      ]
     },
     "metadata": {},
     "output_type": "display_data"
    }
   ],
   "source": [
    "fit1<-glm(satellite~width*color, family = binomial(\"logit\"), data = cangrejos)  #factor para identificar cuales toma como 1ons\n",
    "summary(fit1)"
   ]
  },
  {
   "cell_type": "code",
   "execution_count": 5,
   "metadata": {},
   "outputs": [
    {
     "data": {
      "text/html": [
       "<dl class=dl-horizontal>\n",
       "\t<dt>(Intercept)</dt>\n",
       "\t\t<dd>-9.36406039352366</dd>\n",
       "\t<dt>width</dt>\n",
       "\t\t<dd>0.392705705280274</dd>\n",
       "\t<dt>colorDark</dt>\n",
       "\t\t<dd>-5.60670784503558</dd>\n",
       "\t<dt>width:colorDark</dt>\n",
       "\t\t<dd>0.192458183955442</dd>\n",
       "</dl>\n"
      ],
      "text/latex": [
       "\\begin{description*}\n",
       "\\item[(Intercept)] -9.36406039352366\n",
       "\\item[width] 0.392705705280274\n",
       "\\item[colorDark] -5.60670784503558\n",
       "\\item[width:colorDark] 0.192458183955442\n",
       "\\end{description*}\n"
      ],
      "text/markdown": [
       "(Intercept)\n",
       ":   -9.36406039352366width\n",
       ":   0.392705705280274colorDark\n",
       ":   -5.60670784503558width:colorDark\n",
       ":   0.192458183955442\n",
       "\n"
      ],
      "text/plain": [
       "    (Intercept)           width       colorDark width:colorDark \n",
       "     -9.3640604       0.3927057      -5.6067078       0.1924582 "
      ]
     },
     "metadata": {},
     "output_type": "display_data"
    },
    {
     "data": {
      "text/html": [
       "<table>\n",
       "<thead><tr><th></th><th scope=col>(Intercept)</th><th scope=col>width</th><th scope=col>colorDark</th><th scope=col>width:colorDark</th></tr></thead>\n",
       "<tbody>\n",
       "\t<tr><th scope=row>(Intercept)</th><td> 11.2875553</td><td>-0.43129269</td><td>-11.2875553</td><td> 0.43129269</td></tr>\n",
       "\t<tr><th scope=row>width</th><td> -0.4312927</td><td> 0.01655673</td><td>  0.4312927</td><td>-0.01655673</td></tr>\n",
       "\t<tr><th scope=row>colorDark</th><td>-11.2875553</td><td> 0.43129269</td><td> 31.4539136</td><td>-1.21701261</td></tr>\n",
       "\t<tr><th scope=row>width:colorDark</th><td>  0.4312927</td><td>-0.01655673</td><td> -1.2170126</td><td> 0.04728658</td></tr>\n",
       "</tbody>\n",
       "</table>\n"
      ],
      "text/latex": [
       "\\begin{tabular}{r|llll}\n",
       "  & (Intercept) & width & colorDark & width:colorDark\\\\\n",
       "\\hline\n",
       "\t(Intercept) &  11.2875553 & -0.43129269 & -11.2875553 &  0.43129269\\\\\n",
       "\twidth &  -0.4312927 &  0.01655673 &   0.4312927 & -0.01655673\\\\\n",
       "\tcolorDark & -11.2875553 &  0.43129269 &  31.4539136 & -1.21701261\\\\\n",
       "\twidth:colorDark &   0.4312927 & -0.01655673 &  -1.2170126 &  0.04728658\\\\\n",
       "\\end{tabular}\n"
      ],
      "text/markdown": [
       "\n",
       "| <!--/--> | (Intercept) | width | colorDark | width:colorDark |\n",
       "|---|---|---|---|---|\n",
       "| (Intercept) |  11.2875553 | -0.43129269 | -11.2875553 |  0.43129269 |\n",
       "| width |  -0.4312927 |  0.01655673 |   0.4312927 | -0.01655673 |\n",
       "| colorDark | -11.2875553 |  0.43129269 |  31.4539136 | -1.21701261 |\n",
       "| width:colorDark |   0.4312927 | -0.01655673 |  -1.2170126 |  0.04728658 |\n",
       "\n"
      ],
      "text/plain": [
       "                (Intercept) width       colorDark   width:colorDark\n",
       "(Intercept)      11.2875553 -0.43129269 -11.2875553  0.43129269    \n",
       "width            -0.4312927  0.01655673   0.4312927 -0.01655673    \n",
       "colorDark       -11.2875553  0.43129269  31.4539136 -1.21701261    \n",
       "width:colorDark   0.4312927 -0.01655673  -1.2170126  0.04728658    "
      ]
     },
     "metadata": {},
     "output_type": "display_data"
    },
    {
     "data": {
      "text/html": [
       "190.312210740973"
      ],
      "text/latex": [
       "190.312210740973"
      ],
      "text/markdown": [
       "190.312210740973"
      ],
      "text/plain": [
       "[1] 190.3122"
      ]
     },
     "metadata": {},
     "output_type": "display_data"
    },
    {
     "data": {
      "text/html": [
       "166.445776266617"
      ],
      "text/latex": [
       "166.445776266617"
      ],
      "text/markdown": [
       "166.445776266617"
      ],
      "text/plain": [
       "[1] 166.4458"
      ]
     },
     "metadata": {},
     "output_type": "display_data"
    },
    {
     "data": {
      "text/plain": [
       "'log Lik.' 190.3122 (df=4)"
      ]
     },
     "metadata": {},
     "output_type": "display_data"
    },
    {
     "data": {
      "text/html": [
       "198.312210740973"
      ],
      "text/latex": [
       "198.312210740973"
      ],
      "text/markdown": [
       "198.312210740973"
      ],
      "text/plain": [
       "[1] 198.3122"
      ]
     },
     "metadata": {},
     "output_type": "display_data"
    },
    {
     "data": {
      "text/html": [
       "210.925377118964"
      ],
      "text/latex": [
       "210.925377118964"
      ],
      "text/markdown": [
       "210.925377118964"
      ],
      "text/plain": [
       "[1] 210.9254"
      ]
     },
     "metadata": {},
     "output_type": "display_data"
    },
    {
     "data": {
      "text/html": [
       "<dl>\n",
       "\t<dt>$names</dt>\n",
       "\t\t<dd><ol class=list-inline>\n",
       "\t<li>'coefficients'</li>\n",
       "\t<li>'residuals'</li>\n",
       "\t<li>'fitted.values'</li>\n",
       "\t<li>'effects'</li>\n",
       "\t<li>'R'</li>\n",
       "\t<li>'rank'</li>\n",
       "\t<li>'qr'</li>\n",
       "\t<li>'family'</li>\n",
       "\t<li>'linear.predictors'</li>\n",
       "\t<li>'deviance'</li>\n",
       "\t<li>'aic'</li>\n",
       "\t<li>'null.deviance'</li>\n",
       "\t<li>'iter'</li>\n",
       "\t<li>'weights'</li>\n",
       "\t<li>'prior.weights'</li>\n",
       "\t<li>'df.residual'</li>\n",
       "\t<li>'df.null'</li>\n",
       "\t<li>'y'</li>\n",
       "\t<li>'converged'</li>\n",
       "\t<li>'boundary'</li>\n",
       "\t<li>'model'</li>\n",
       "\t<li>'call'</li>\n",
       "\t<li>'formula'</li>\n",
       "\t<li>'terms'</li>\n",
       "\t<li>'data'</li>\n",
       "\t<li>'offset'</li>\n",
       "\t<li>'control'</li>\n",
       "\t<li>'method'</li>\n",
       "\t<li>'contrasts'</li>\n",
       "\t<li>'xlevels'</li>\n",
       "</ol>\n",
       "</dd>\n",
       "\t<dt>$class</dt>\n",
       "\t\t<dd><ol class=list-inline>\n",
       "\t<li>'glm'</li>\n",
       "\t<li>'lm'</li>\n",
       "</ol>\n",
       "</dd>\n",
       "</dl>\n"
      ],
      "text/latex": [
       "\\begin{description}\n",
       "\\item[\\$names] \\begin{enumerate*}\n",
       "\\item 'coefficients'\n",
       "\\item 'residuals'\n",
       "\\item 'fitted.values'\n",
       "\\item 'effects'\n",
       "\\item 'R'\n",
       "\\item 'rank'\n",
       "\\item 'qr'\n",
       "\\item 'family'\n",
       "\\item 'linear.predictors'\n",
       "\\item 'deviance'\n",
       "\\item 'aic'\n",
       "\\item 'null.deviance'\n",
       "\\item 'iter'\n",
       "\\item 'weights'\n",
       "\\item 'prior.weights'\n",
       "\\item 'df.residual'\n",
       "\\item 'df.null'\n",
       "\\item 'y'\n",
       "\\item 'converged'\n",
       "\\item 'boundary'\n",
       "\\item 'model'\n",
       "\\item 'call'\n",
       "\\item 'formula'\n",
       "\\item 'terms'\n",
       "\\item 'data'\n",
       "\\item 'offset'\n",
       "\\item 'control'\n",
       "\\item 'method'\n",
       "\\item 'contrasts'\n",
       "\\item 'xlevels'\n",
       "\\end{enumerate*}\n",
       "\n",
       "\\item[\\$class] \\begin{enumerate*}\n",
       "\\item 'glm'\n",
       "\\item 'lm'\n",
       "\\end{enumerate*}\n",
       "\n",
       "\\end{description}\n"
      ],
      "text/markdown": [
       "$names\n",
       ":   1. 'coefficients'\n",
       "2. 'residuals'\n",
       "3. 'fitted.values'\n",
       "4. 'effects'\n",
       "5. 'R'\n",
       "6. 'rank'\n",
       "7. 'qr'\n",
       "8. 'family'\n",
       "9. 'linear.predictors'\n",
       "10. 'deviance'\n",
       "11. 'aic'\n",
       "12. 'null.deviance'\n",
       "13. 'iter'\n",
       "14. 'weights'\n",
       "15. 'prior.weights'\n",
       "16. 'df.residual'\n",
       "17. 'df.null'\n",
       "18. 'y'\n",
       "19. 'converged'\n",
       "20. 'boundary'\n",
       "21. 'model'\n",
       "22. 'call'\n",
       "23. 'formula'\n",
       "24. 'terms'\n",
       "25. 'data'\n",
       "26. 'offset'\n",
       "27. 'control'\n",
       "28. 'method'\n",
       "29. 'contrasts'\n",
       "30. 'xlevels'\n",
       "\n",
       "\n",
       "\n",
       "$class\n",
       ":   1. 'glm'\n",
       "2. 'lm'\n",
       "\n",
       "\n",
       "\n",
       "\n",
       "\n"
      ],
      "text/plain": [
       "$names\n",
       " [1] \"coefficients\"      \"residuals\"         \"fitted.values\"    \n",
       " [4] \"effects\"           \"R\"                 \"rank\"             \n",
       " [7] \"qr\"                \"family\"            \"linear.predictors\"\n",
       "[10] \"deviance\"          \"aic\"               \"null.deviance\"    \n",
       "[13] \"iter\"              \"weights\"           \"prior.weights\"    \n",
       "[16] \"df.residual\"       \"df.null\"           \"y\"                \n",
       "[19] \"converged\"         \"boundary\"          \"model\"            \n",
       "[22] \"call\"              \"formula\"           \"terms\"            \n",
       "[25] \"data\"              \"offset\"            \"control\"          \n",
       "[28] \"method\"            \"contrasts\"         \"xlevels\"          \n",
       "\n",
       "$class\n",
       "[1] \"glm\" \"lm\" \n"
      ]
     },
     "metadata": {},
     "output_type": "display_data"
    }
   ],
   "source": [
    "#model.matrix(fit1)                #Matriz modelo\n",
    "coef(fit1)                         #Estimación de los parámetros\n",
    "vcov(fit1)                         #Matriz de varianza y covarianza \n",
    "#fitted(fit1)                      #Valores ajustados\n",
    "deviance(fit1)                     #Deviance residual\n",
    "sum(resid(fit1,type=\"pearson\")^2)  #Estadística de Pearson\n",
    "-2*logLik(fit1)                    # Log-verosimilitud\n",
    "AIC(fit1)\n",
    "BIC(fit1)\n",
    "attributes(fit1)                  #otros atributos"
   ]
  },
  {
   "cell_type": "markdown",
   "metadata": {},
   "source": [
    "Considerando que se está haciendo un modelo, se estudia que posibles valores son los ideales en el modelo, para esto se usa el procedimiento paso a paso mediante la función **step_glm()**"
   ]
  },
  {
   "cell_type": "code",
   "execution_count": 19,
   "metadata": {},
   "outputs": [
    {
     "name": "stdout",
     "output_type": "stream",
     "text": [
      "\n",
      "  Family:  binomial \n",
      "    Link:  logit \n",
      "\n",
      "Initial model:\n",
      "satellite ~ 1  \n",
      "\n",
      "Step 0 :    \n",
      "        Df      BIC      AIC   Deviance+ Pearson^  p-value*\n",
      "+ width  1   204.7592 198.4527    0.1336   0.0398 1.021e-06\n",
      "+ color  1   226.8376 220.5311    0.0353  -0.0058    0.0026\n",
      "<none>       230.9118 227.7585    0.0000   0.0000          \n",
      "\n",
      "Step 1 :  + width \n",
      "        Df      BIC      AIC   Deviance+ Pearson^ p-value*\n",
      "<none>       204.7592 198.4527    0.1336   0.0398         \n",
      "+ color  1   206.5781 197.1183    0.1435   0.0200   0.0675\n",
      "\n",
      "+ Adjusted R-squared based on the residual deviance\n",
      "^ Adjusted R-squared based on the Pearson statistic\n",
      "* p-value of the Wald test\n",
      "\n",
      "Final model:\n",
      "satellite ~ 1 + width \n",
      "\n"
     ]
    }
   ],
   "source": [
    "#ESTAS LINEAS ES PARA LLAMAR LAS FUNCIONES REALIZADAS POR EL DOCENTE hernando vanegas\n",
    "setwd(\"C:\\\\Users\\\\YULY\\\\Desktop\\\\Desktop\\\\UNAL 2018\\\\MLGz\\\\MLG Vanegas\") #busca por default en una carpeta en especifica todo.\n",
    "source(\"macros.txt\")#Lllamar el archivo de macros que está en la carpeta especifica,(son una fuciines especificas del profesor)\n",
    "\n",
    "\n",
    "step_glm(fit1,direction = \"forward\",criterion = \"BIC\")  # direction=\"backward\" o \"forward\""
   ]
  },
  {
   "cell_type": "markdown",
   "metadata": {},
   "source": [
    "El anterior codigo establece el mejor modelo. Si usamos el proceso forward, establece: \n",
    "\n",
    "* **modelo inicial**:El que solo tiene intercepto.\n",
    "* **paso 0**: ¿Cuál agragar color o ancho del caparazón? Si se agrega el ancho del caparazon **BIC=204.7592** indica que se debe realizar al igual que el AIC=198.45 luego es aconsejable colocar el efecto principal width (ancho del caparazon). Con respecto al R^2 basado en desvio (DECIANCE+) tambien (porque es el mayor).  Con el $R^2_{p}$ basado en la estadística Pearson también (entre mayor mejor). Según el p-valor se establece que hay que ingresar este efecto principal (cuanto menor mejor).   **CONCLUSIÓN: colocar el efecto principal With**.\n",
    "\n",
    "* **paso 1**: se tienen la posibilidad o de ingresar color o no hacer nada, esto puede decidirse con el BIC, AIC los cuales indican que es mejor no hacer nada,  observandose el $R^2_p$ establece que no hay que colocar mas efectos igual que AIC-BIC. No obstante el **P-valor** y el  $R^2_D$ indican lo contrario (es decir se debe adicionar color)\n",
    "\n",
    "Luego el modelo final es:\n",
    "\n",
    "$$satellite = 1 + width$$"
   ]
  },
  {
   "cell_type": "markdown",
   "metadata": {},
   "source": [
    "Suponiendo que el mejor modelo es el establecido por \n",
    "\n",
    "$$satellite = 1 + width+color$$\n",
    "\n",
    "A continuación se presenta los modelos dependiendo de la función de enclace y \n",
    "$satellite = 1 + width$, para luego analizar los AIC,BIC,$R^2_{D}$,$R^2_{P}$ \n",
    "\n",
    "### Función de enlace probit"
   ]
  },
  {
   "cell_type": "code",
   "execution_count": 20,
   "metadata": {},
   "outputs": [
    {
     "data": {
      "text/plain": [
       "\n",
       "Call:\n",
       "glm(formula = satellite ~ width * color, family = binomial(\"probit\"), \n",
       "    data = cangrejos)\n",
       "\n",
       "Deviance Residuals: \n",
       "    Min       1Q   Median       3Q      Max  \n",
       "-2.0396  -0.9991   0.5606   0.8516   1.9919  \n",
       "\n",
       "Coefficients:\n",
       "                Estimate Std. Error z value Pr(>|z|)   \n",
       "(Intercept)     -5.62489    1.93552  -2.906  0.00366 **\n",
       "width            0.23608    0.07358   3.209  0.00133 **\n",
       "colorDark       -3.48596    3.19391  -1.091  0.27508   \n",
       "width:colorDark  0.12034    0.12347   0.975  0.32977   \n",
       "---\n",
       "Signif. codes:  0 '***' 0.001 '**' 0.01 '*' 0.05 '.' 0.1 ' ' 1\n",
       "\n",
       "(Dispersion parameter for binomial family taken to be 1)\n",
       "\n",
       "    Null deviance: 225.76  on 172  degrees of freedom\n",
       "Residual deviance: 189.95  on 169  degrees of freedom\n",
       "AIC: 197.95\n",
       "\n",
       "Number of Fisher Scoring iterations: 5\n"
      ]
     },
     "metadata": {},
     "output_type": "display_data"
    }
   ],
   "source": [
    "fit2<-glm(satellite~width*color, family = binomial(\"probit\"), data = cangrejos)#factor para identificar cuales toma como 1ons\n",
    "summary(fit2)"
   ]
  },
  {
   "cell_type": "markdown",
   "metadata": {},
   "source": [
    "### Función de enlace cloglog"
   ]
  },
  {
   "cell_type": "code",
   "execution_count": 21,
   "metadata": {},
   "outputs": [
    {
     "data": {
      "text/plain": [
       "\n",
       "Call:\n",
       "glm(formula = satellite ~ 1 + width + color, family = binomial(\"cloglog\"), \n",
       "    data = cangrejos)\n",
       "\n",
       "Deviance Residuals: \n",
       "    Min       1Q   Median       3Q      Max  \n",
       "-2.2006  -1.0045   0.5126   0.9335   1.6743  \n",
       "\n",
       "Coefficients:\n",
       "            Estimate Std. Error z value Pr(>|z|)    \n",
       "(Intercept) -7.43013    1.61857  -4.591 4.42e-06 ***\n",
       "width        0.28970    0.06053   4.786 1.70e-06 ***\n",
       "colorDark   -0.35183    0.22562  -1.559    0.119    \n",
       "---\n",
       "Signif. codes:  0 '***' 0.001 '**' 0.01 '*' 0.05 '.' 0.1 ' ' 1\n",
       "\n",
       "(Dispersion parameter for binomial family taken to be 1)\n",
       "\n",
       "    Null deviance: 225.76  on 172  degrees of freedom\n",
       "Residual deviance: 190.90  on 170  degrees of freedom\n",
       "AIC: 196.9\n",
       "\n",
       "Number of Fisher Scoring iterations: 6\n"
      ]
     },
     "metadata": {},
     "output_type": "display_data"
    }
   ],
   "source": [
    "fit3<-glm(satellite~1+width+color, family = binomial(\"cloglog\"), data = cangrejos)#factor para identificar cuales toma como 1ons\n",
    "summary(fit3)"
   ]
  },
  {
   "cell_type": "code",
   "execution_count": 22,
   "metadata": {},
   "outputs": [
    {
     "data": {
      "text/html": [
       "<table>\n",
       "<thead><tr><th></th><th scope=col>df</th><th scope=col>AIC</th></tr></thead>\n",
       "<tbody>\n",
       "\t<tr><th scope=row>fit1</th><td>4       </td><td>198.3122</td></tr>\n",
       "\t<tr><th scope=row>fit2</th><td>4       </td><td>197.9547</td></tr>\n",
       "\t<tr><th scope=row>fit3</th><td>3       </td><td>196.8951</td></tr>\n",
       "</tbody>\n",
       "</table>\n"
      ],
      "text/latex": [
       "\\begin{tabular}{r|ll}\n",
       "  & df & AIC\\\\\n",
       "\\hline\n",
       "\tfit1 & 4        & 198.3122\\\\\n",
       "\tfit2 & 4        & 197.9547\\\\\n",
       "\tfit3 & 3        & 196.8951\\\\\n",
       "\\end{tabular}\n"
      ],
      "text/markdown": [
       "\n",
       "| <!--/--> | df | AIC |\n",
       "|---|---|---|\n",
       "| fit1 | 4        | 198.3122 |\n",
       "| fit2 | 4        | 197.9547 |\n",
       "| fit3 | 3        | 196.8951 |\n",
       "\n"
      ],
      "text/plain": [
       "     df AIC     \n",
       "fit1 4  198.3122\n",
       "fit2 4  197.9547\n",
       "fit3 3  196.8951"
      ]
     },
     "metadata": {},
     "output_type": "display_data"
    },
    {
     "data": {
      "text/html": [
       "<table>\n",
       "<thead><tr><th></th><th scope=col>df</th><th scope=col>BIC</th></tr></thead>\n",
       "<tbody>\n",
       "\t<tr><th scope=row>fit1</th><td>4       </td><td>210.9254</td></tr>\n",
       "\t<tr><th scope=row>fit2</th><td>4       </td><td>210.5678</td></tr>\n",
       "\t<tr><th scope=row>fit3</th><td>3       </td><td>206.3550</td></tr>\n",
       "</tbody>\n",
       "</table>\n"
      ],
      "text/latex": [
       "\\begin{tabular}{r|ll}\n",
       "  & df & BIC\\\\\n",
       "\\hline\n",
       "\tfit1 & 4        & 210.9254\\\\\n",
       "\tfit2 & 4        & 210.5678\\\\\n",
       "\tfit3 & 3        & 206.3550\\\\\n",
       "\\end{tabular}\n"
      ],
      "text/markdown": [
       "\n",
       "| <!--/--> | df | BIC |\n",
       "|---|---|---|\n",
       "| fit1 | 4        | 210.9254 |\n",
       "| fit2 | 4        | 210.5678 |\n",
       "| fit3 | 3        | 206.3550 |\n",
       "\n"
      ],
      "text/plain": [
       "     df BIC     \n",
       "fit1 4  210.9254\n",
       "fit2 4  210.5678\n",
       "fit3 3  206.3550"
      ]
     },
     "metadata": {},
     "output_type": "display_data"
    }
   ],
   "source": [
    "AIC(fit1,fit2,fit3)  \n",
    "BIC(fit1,fit2,fit3)   #No dan lo mismo porque tienen diferente cantidad de parámetros"
   ]
  },
  {
   "cell_type": "markdown",
   "metadata": {},
   "source": [
    "Se observa que el mejor modelo es el ajuste 3 el cual corresponde al que usa la función de enlace **cloglog**.  No obstante observese los siguientes $R^2_{D}$,$R^2_{P}$"
   ]
  },
  {
   "cell_type": "code",
   "execution_count": 23,
   "metadata": {},
   "outputs": [
    {
     "name": "stdout",
     "output_type": "stream",
     "text": [
      "\n",
      "  Family:  binomial \n",
      "    Link:  logit \n",
      "                                                     Df    Value\n",
      "Residual deviance                                   169 190.3122\n",
      "Pearson's statistic                                 169 166.4458\n",
      "Adjusted R-squared based on the residual deviance         0.1420\n",
      "Adjusted R-squared based on the Pearson's statistic       0.0208\n",
      "-2*log-Likelihood                                       190.3122\n",
      "AIC                                                     198.3122\n",
      "BIC                                                     210.9254\n",
      "\n",
      "\n",
      "\n",
      "  Family:  binomial \n",
      "    Link:  probit \n",
      "                                                     Df    Value\n",
      "Residual deviance                                   169 189.9547\n",
      "Pearson's statistic                                 169 166.5049\n",
      "Adjusted R-squared based on the residual deviance         0.1437\n",
      "Adjusted R-squared based on the Pearson's statistic       0.0205\n",
      "-2*log-Likelihood                                       189.9547\n",
      "AIC                                                     197.9547\n",
      "BIC                                                     210.5678\n",
      "\n",
      "\n",
      "\n",
      "  Family:  binomial \n",
      "    Link:  cloglog \n",
      "                                                     Df    Value\n",
      "Residual deviance                                   170 190.8951\n",
      "Pearson's statistic                                 170 167.0524\n",
      "Adjusted R-squared based on the residual deviance         0.1445\n",
      "Adjusted R-squared based on the Pearson's statistic       0.0230\n",
      "-2*log-Likelihood                                       190.8951\n",
      "AIC                                                     196.8951\n",
      "BIC                                                     206.3550\n",
      "\n",
      "\n"
     ]
    }
   ],
   "source": [
    "#ESTAS LINEAS ES PARA LLAMAR LAS FUNCIONES REALIZADAS POR EL DOCENTE hernando vanegas\n",
    "setwd(\"C:\\\\Users\\\\YULY\\\\Desktop\\\\Desktop\\\\UNAL 2018\\\\MLGz\\\\MLG Vanegas\") #busca por default en una carpeta en especifica todo.\n",
    "source(\"macros.txt\")#Lllamar el archivo de macros que está en la carpeta especifica,(son una fuciines especificas del profesor)\n",
    "\n",
    "gof_glm(fit1)   #analisis del logit\n",
    "gof_glm(fit2)\n",
    "gof_glm(fit3)   #analisis del complementologlog"
   ]
  },
  {
   "cell_type": "markdown",
   "metadata": {},
   "source": [
    "Con respecto a lo anterior también es aconsejable el modelo ocn enlace **cloglog** pues es el que mejor se ajusta."
   ]
  },
  {
   "cell_type": "markdown",
   "metadata": {},
   "source": [
    "#### Calculando $R_{D}^2$ del modelo con enlace cloglog\n",
    "\n",
    "$$R^2_{D}=1-\\frac{Deviance mejor modelo}{Deviance peor modelo}=\\frac{\\frac{190.90}{170}}{\\frac{225.76}{172}}$$\n",
    "\n",
    "**NOTA:** EL Deviance del peor modelo en términos de ajuste es aquel que todos los betas son iguales a cero menos el intercepto."
   ]
  },
  {
   "cell_type": "code",
   "execution_count": 24,
   "metadata": {},
   "outputs": [
    {
     "data": {
      "text/html": [
       "0.14448000509061"
      ],
      "text/latex": [
       "0.14448000509061"
      ],
      "text/markdown": [
       "0.14448000509061"
      ],
      "text/plain": [
       "[1] 0.14448"
      ]
     },
     "metadata": {},
     "output_type": "display_data"
    }
   ],
   "source": [
    "Rd<- 1-(fit3$deviance/170)/(fit3$null.deviance/172); Rd    #Este valor tambien es el que aparece en     gof_glm(fit3) "
   ]
  },
  {
   "cell_type": "markdown",
   "metadata": {},
   "source": [
    "# MODELO FINAL (CON FUNCION DE ENLACE CLOGLOG)"
   ]
  },
  {
   "cell_type": "code",
   "execution_count": 37,
   "metadata": {},
   "outputs": [
    {
     "data": {
      "text/plain": [
       "\n",
       "Call:\n",
       "glm(formula = satellite ~ 1 + width + color, family = binomial(\"cloglog\"), \n",
       "    data = cangrejos)\n",
       "\n",
       "Deviance Residuals: \n",
       "    Min       1Q   Median       3Q      Max  \n",
       "-2.2006  -1.0045   0.5126   0.9335   1.6743  \n",
       "\n",
       "Coefficients:\n",
       "            Estimate Std. Error z value Pr(>|z|)    \n",
       "(Intercept) -7.43013    1.61857  -4.591 4.42e-06 ***\n",
       "width        0.28970    0.06053   4.786 1.70e-06 ***\n",
       "colorDark   -0.35183    0.22562  -1.559    0.119    \n",
       "---\n",
       "Signif. codes:  0 '***' 0.001 '**' 0.01 '*' 0.05 '.' 0.1 ' ' 1\n",
       "\n",
       "(Dispersion parameter for binomial family taken to be 1)\n",
       "\n",
       "    Null deviance: 225.76  on 172  degrees of freedom\n",
       "Residual deviance: 190.90  on 170  degrees of freedom\n",
       "AIC: 196.9\n",
       "\n",
       "Number of Fisher Scoring iterations: 6\n"
      ]
     },
     "metadata": {},
     "output_type": "display_data"
    }
   ],
   "source": [
    "fit3<-glm(satellite~1+width+color, family = binomial(\"cloglog\"), data = cangrejos)#factor para identificar cuales toma como 1ons\n",
    "summary(fit3)"
   ]
  },
  {
   "cell_type": "markdown",
   "metadata": {},
   "source": [
    "---\n",
    "\n",
    "## Test de Wald\n",
    "\n",
    "\n",
    " Ahora para hacer una hipótesis sobre la dosis, considero a $\\beta_2$. \n",
    "\n",
    "$$H_{0}: \\beta_2 = 0 \\;\\;\\;\\;\\; vs \\;\\;\\;\\;\\;\\; H_{1}: \\beta_2 \\neq  0 $$\n",
    "\n",
    "donde \n",
    "\n",
    "$$ \\xi _{W} = (\\hat{\\beta_2}  - \\beta_2^{0})' [\\hat{Var}(\\hat{\\beta_2})]{-1}(\\hat{\\beta_2}  - \\beta_2^{0})$$\n",
    "\n",
    "\n",
    "Para hacer inferencia con respecto a los datos se tiene:\n",
    "\n",
    "* Consideranddo que $Z_{\\hat{\\beta_2}}=4.786$, se contrasta con la estadistica normal (concluyendose que se rechaza $H_0$, ver significancia de $\\beta_2$).\n",
    "\n",
    "* $ \\xi _{W} = 22.90$ que al ser contrastado con una chi cuadrado con un grado de libertad $\\chi^2_{1}$ se tiene: $ 22.9=\\xi _{W} > \\chi^2_{1} =3.8416$ es decír que a un nivel de significancia aproximado de $100(\\alpha)\\%$ se rechaza la hiótesis nula. concluyendose que el ancho del caparazon actúa de manera significativa en el tener satelites.\n",
    "\n",
    "* considerando lo anterior $(Z_{\\hat{\\beta_2}})^2=(4.786)^2 = \\xi _{W} =  22.90$ se tiene la misma desición. veamos el calculo de la estadística de Wald y el p-valor:\n"
   ]
  },
  {
   "cell_type": "code",
   "execution_count": 39,
   "metadata": {},
   "outputs": [
    {
     "data": {
      "text/html": [
       "<strong>width:</strong> 22.9056651070915"
      ],
      "text/latex": [
       "\\textbf{width:} 22.9056651070915"
      ],
      "text/markdown": [
       "**width:** 22.9056651070915"
      ],
      "text/plain": [
       "   width \n",
       "22.90567 "
      ]
     },
     "metadata": {},
     "output_type": "display_data"
    }
   ],
   "source": [
    "(coef(fit3)[c(2)])^2 /(vcov(fit3)[c(2), c(2)])     #test de wald"
   ]
  },
  {
   "cell_type": "code",
   "execution_count": 41,
   "metadata": {},
   "outputs": [
    {
     "data": {
      "text/html": [
       "0"
      ],
      "text/latex": [
       "0"
      ],
      "text/markdown": [
       "0"
      ],
      "text/plain": [
       "[1] 0"
      ]
     },
     "metadata": {},
     "output_type": "display_data"
    }
   ],
   "source": [
    "pvalor<- 1-pchisq(( 22.90)^2,1);pvalor"
   ]
  },
  {
   "cell_type": "markdown",
   "metadata": {},
   "source": [
    "<div class=\"alert alert-success\">\n",
    "    <b>Desición:</b>\n",
    "    \n",
    "Se rechaza la hipótesis nula $H_{0}: \\beta_2 =0$ luego es sigfnificativo, concluyendose que el ancho del caparazon si está afectando la probabilidad de exito $\\mu_k$\n",
    "</div>"
   ]
  },
  {
   "cell_type": "markdown",
   "metadata": {},
   "source": [
    "<div class=\"alert alert-danger\" role=\"alert\">\n",
    "    <b>Nota:</b>\n",
    "    \n",
    "Recuerde que se compara con una $\\chi^2_{(1)}$ con un grado de libertad porque es solo un parámetro. $\\chi^2_{(1)}=(Z_{\\alpha})^2=(1.96)^2=3.8416$\n",
    "</div>"
   ]
  },
  {
   "cell_type": "markdown",
   "metadata": {},
   "source": [
    "---\n",
    "\n",
    "## Test de razón de verosimilitudes\n",
    "\n",
    "Para evaluar si:\n",
    "\n",
    "$$H_{0}: \\beta_2 = 0 \\;\\;\\;\\;\\; vs \\;\\;\\;\\;\\;\\;H_{1}: \\beta_2 \\neq  0 $$\n",
    "\n",
    "Considerando que el test de verosimilitudes está determinado por: $\\xi _{RV}=2[l(\\hat{\\beta})-l(\\hat{\\beta^{o}})]$ sumando y restando $\\hat{\\beta}$ del modelo saturado se obtiene:\n",
    "\n",
    "$$\\xi _{RV}=2[l(\\hat{\\beta})-l(\\hat{\\beta^{o}})]=\\phi^{-1} [D(y;\\hat{\\mu}^0)-D(y;\\hat{\\mu})]  $$\n",
    "\n",
    "Donde $D(y;\\hat{\\mu}^0)$ es el desvio del modelo restringido llamado **Null Deviance** y donde $D(y;\\hat{\\mu})$ es el desvio del modelo sin restricción llamado **Residual Deviance**\n",
    "\n",
    "**Null Deviance** Es el desvio de un modelo donde todos los betas excepto el intercepto son iguales a cero.\n",
    "\n",
    "\n",
    "Luego como $\\phi=1$ se tiene:\n",
    "\n",
    "$$\\xi _{RV}=Null deviance- Residual Deviance=225.76 - 190.90 =34.86$$\n",
    "\n",
    "<div class=\"alert alert-success\">\n",
    "    <b>Desición:</b>\n",
    "    \n",
    "Luego se rechaza $H_0$ a un nivel de significancia APROXIMADO del $ 100(\\alpha)\\%$ puesto que $34.86=\\xi _{RV}>\\chi^2(1) =3.8416$ A firmandose que es significativo en el modelo. \n",
    "\n",
    "* Se rechaza igual como se realizó en el test de Wald\n",
    "</div>\n",
    "\n",
    "\n"
   ]
  },
  {
   "cell_type": "code",
   "execution_count": 43,
   "metadata": {},
   "outputs": [
    {
     "data": {
      "text/html": [
       "34.8634173649798"
      ],
      "text/latex": [
       "34.8634173649798"
      ],
      "text/markdown": [
       "34.8634173649798"
      ],
      "text/plain": [
       "[1] 34.86342"
      ]
     },
     "metadata": {},
     "output_type": "display_data"
    }
   ],
   "source": [
    "fit3$null.deviance-fit3$deviance"
   ]
  },
  {
   "cell_type": "markdown",
   "metadata": {},
   "source": [
    "## Gráficas"
   ]
  },
  {
   "cell_type": "code",
   "execution_count": 27,
   "metadata": {},
   "outputs": [
    {
     "name": "stderr",
     "output_type": "stream",
     "text": [
      "Loading required package: sqldf\n",
      "Loading required package: gsubfn\n",
      "Loading required package: proto\n",
      "Loading required package: RSQLite\n"
     ]
    },
    {
     "data": {
      "image/png": "[encoded data removed]",
      "text/plain": [
       "Plot with title \"color\""
      ]
     },
     "metadata": {},
     "output_type": "display_data"
    }
   ],
   "source": [
    "#install.packages(\"sqldf\", \"/Users/YULY/anaconda/Lib/R/library\")\n",
    "require(sqldf)\n",
    "graphs_glm(fit.model =fit3,a=1,b=2,col = \"blue\" ,ngroup=30)   \n",
    "#el (a,b)=(2,2) establece cantidad de graficas matriz(1*1), ngroup=8, pch=  ,col="
   ]
  },
  {
   "cell_type": "markdown",
   "metadata": {},
   "source": [
    "## Análisis de sensibilidad\n",
    "\n",
    "La siguiente gráfica es la de los residuos cuantil, mediante la función **residuals_glm()** la cual es generada por defecto."
   ]
  },
  {
   "cell_type": "code",
   "execution_count": 28,
   "metadata": {},
   "outputs": [
    {
     "data": {
      "image/png": "[encoded data removed]",
      "text/plain": [
       "Plot with title \" \""
      ]
     },
     "metadata": {},
     "output_type": "display_data"
    }
   ],
   "source": [
    "residuals_glm(fit3)   #Por default residuos quantile"
   ]
  },
  {
   "cell_type": "code",
   "execution_count": 29,
   "metadata": {},
   "outputs": [
    {
     "data": {
      "image/png": "[encoded data removed]",
      "text/plain": [
       "Plot with title \" \""
      ]
     },
     "metadata": {},
     "output_type": "display_data"
    }
   ],
   "source": [
    "Cookdis_glm(fit3)   #hay que quitar la observacion 94,128"
   ]
  },
  {
   "cell_type": "markdown",
   "metadata": {},
   "source": [
    "### ¿Qué sucede si quitamos los puntos alto leverage?\n",
    "\n",
    "Quitando el dato 128 se tiene:"
   ]
  },
  {
   "cell_type": "code",
   "execution_count": 30,
   "metadata": {},
   "outputs": [
    {
     "name": "stdout",
     "output_type": "stream",
     "text": [
      "\n",
      "            Estimate  Std. Error   Pr(>|z|)  | Estimate* Std. Error*  Pr(>|z|)*\n",
      "(Intercept)  -7.43013     1.61857     0.0000 |  -7.41292     1.61524     0.0000\n",
      "width         0.28970     0.06053     0.0000 |   0.28906     0.06040     0.0000\n",
      "colorDark    -0.35183     0.22562     0.1189 |  -0.32803     0.22601     0.1467\n",
      "            | Change(%)\n",
      "(Intercept) |     0.232\n",
      "width       |    -0.222\n",
      "colorDark   |     6.764\n",
      "\n",
      "(*) estimates, standard errors and p-values obtained using the specified subset of individuals.\n"
     ]
    }
   ],
   "source": [
    "case.deletion_glm(fit3,subset = c(-128))"
   ]
  },
  {
   "cell_type": "markdown",
   "metadata": {},
   "source": [
    "**(Continúa el signo y la significancia)**\n",
    "\n",
    "La estimación del intercepto aumentó un $2\\%$, mientras que la estimación de $\\beta_2$ disminuyó $2\\%$ todo al quitar la observación 128. con respecto a color se tiene que  $\\beta_3$ aumentó $6.7\\%$  No obstante la significancia permaneció prácticamente igual lo cual indica que al quitar el dato 128 las cosas siguen siendo prácticamente iguales con respecto a la significancia."
   ]
  },
  {
   "cell_type": "markdown",
   "metadata": {},
   "source": [
    "# Interpretación de los $\\beta$ dada la función de enlace Logit\n",
    "\n",
    "\n",
    "  $\\;$\n",
    "$$\\begin{equation*}\n",
    "     \\left\\{\n",
    "\t       \\begin{array}{ll}\n",
    "           n_k Y_k \\sim Binomial(n_k, \\mu_k)\\\\\n",
    "\t\t g(\\mu_k)=\\mathbf{x}_k'\\beta = \\beta_1 + \\beta_2 x_{k} + \\beta_3 x_{k3} \\\\\n",
    "\t\t Y_1,  Y_2, ..., Y_n\n",
    "\t       \\end{array}\n",
    "\t     \\right.\n",
    "   \\end{equation*}\n",
    "   $$\n",
    "   \n",
    "   \n",
    "$$\\begin{equation*}\n",
    "     \\left\\{\n",
    "\t       \\begin{array}{ll}\n",
    "           n_k Y_k \\sim Binomial(n_k, \\mu_k)\\\\\n",
    "\t\t log(\\frac{\\mu_k}{1-\\mu_k})=\\mathbf{x}_k'\\beta = \\beta_1 + \\beta_2 Width_{k2} + \\beta_3 Color_{k3} \\\\\n",
    "\t\t Y_1,  Y_2, ..., Y_n\n",
    "\t       \\end{array}\n",
    "\t     \\right.\n",
    "   \\end{equation*}\n",
    "   $$\n",
    "   \n",
    "   \n",
    "\n",
    "Al tratarse de la función de enlace **logit** donde:\n",
    "\n",
    "$$log(\\frac{\\mu_k}{1-\\mu_k})= \\beta_1 + \\beta_2 Width_{k} +  \\beta_3 Color_{k}$$\n",
    "\n",
    "--- \n",
    "\n",
    "Aplicando exponencial y considerando que tener color **Oscuro:Dark=1** se tiene:\n",
    "\n",
    " $$\\frac{\\mu_k}{1-\\mu_k} = \\frac{ exp[ \\beta_1 + \\beta_2 Width_{k} +  \\beta_3 Color_{k}]}{ exp[ \\beta_1 + \\beta_2 Width_{k} +  \\beta_3 Color_{k}]} = exp(\\beta_3)=exp(-0.351) $$\n",
    " \n",
    "Al suponer que $\\hat{\\beta}_3=-0.351$, se tiene:\n",
    "\n",
    "  $$exp(\\hat{\\beta}_3) = exp(-0.351)=  0.70398$$\n",
    " \n",
    "* **Interpretación color:** Al comparar dos cangrejos, los dos con el mismo peso uno oscuro y uno brillante. El chance de tener un satélite oscuro es $29\\%$ menor que el brillante.\n",
    "\n",
    "---\n",
    "\n",
    "Caso variable continua:\n",
    "\n",
    " $$\\frac{\\mu_k}{1-\\mu_k} = \\frac{ exp[ \\beta_1 + \\beta_2 (X_{0}+\\delta) +  \\beta_3 Color_{k}]}{ exp[ \\beta_1 + \\beta_2 X_{0} +  \\beta_3 Color_{k}]} = exp(\\beta_2 \\delta) $$\n",
    " \n",
    "Considerando que $\\hat{\\beta}_2=0.289$, se tiene:\n",
    "\n",
    "  $$exp(\\hat{\\beta}_2) = exp(0.289)= 1.335$$\n",
    " \n",
    "* **Interpretación ancho:** Por cada unidad adicional en el ancho del caparazon, el chance de tener almenos un satelite aumenta $33\\%$.\n",
    "\n",
    "<div class=\"alert alert-danger\" role=\"alert\">\n",
    "    <b>Nota:</b>\n",
    "    \n",
    "Recuerde que $\\delta$ depende de las unidades por ejemplo si se trata de x son cada 10.000 habitantes , $\\delta=10000$\n",
    "</div>"
   ]
  },
  {
   "cell_type": "code",
   "execution_count": 34,
   "metadata": {},
   "outputs": [
    {
     "data": {
      "text/html": [
       "<dl class=dl-horizontal>\n",
       "\t<dt>(Intercept)</dt>\n",
       "\t\t<dd>-7.43012901825715</dd>\n",
       "\t<dt>width</dt>\n",
       "\t\t<dd>0.289701406097546</dd>\n",
       "\t<dt>colorDark</dt>\n",
       "\t\t<dd>-0.351826465457305</dd>\n",
       "</dl>\n"
      ],
      "text/latex": [
       "\\begin{description*}\n",
       "\\item[(Intercept)] -7.43012901825715\n",
       "\\item[width] 0.289701406097546\n",
       "\\item[colorDark] -0.351826465457305\n",
       "\\end{description*}\n"
      ],
      "text/markdown": [
       "(Intercept)\n",
       ":   -7.43012901825715width\n",
       ":   0.289701406097546colorDark\n",
       ":   -0.351826465457305\n",
       "\n"
      ],
      "text/plain": [
       "(Intercept)       width   colorDark \n",
       " -7.4301290   0.2897014  -0.3518265 "
      ]
     },
     "metadata": {},
     "output_type": "display_data"
    }
   ],
   "source": [
    "coef(fit3)"
   ]
  },
  {
   "cell_type": "markdown",
   "metadata": {},
   "source": [
    "# REFERENCIAS\n",
    "\n",
    "Para poder instalar paquetes en jupyter, uso la siguiente linea.\n",
    "\n",
    "* install.packages(\"glmx\", \"/Users/YULY/anaconda/Lib/R/library\")"
   ]
  }
 ],
 "metadata": {
  "kernelspec": {
   "display_name": "R",
   "language": "R",
   "name": "ir"
  },
  "language_info": {
   "codemirror_mode": "r",
   "file_extension": ".r",
   "mimetype": "text/x-r-source",
   "name": "R",
   "pygments_lexer": "r",
   "version": "3.6.1"
  }
 },
 "nbformat": 4,
 "nbformat_minor": 2
}
