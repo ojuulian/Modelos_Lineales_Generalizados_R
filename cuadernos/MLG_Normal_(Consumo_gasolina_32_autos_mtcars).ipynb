{
 "cells": [
  {
   "cell_type": "markdown",
   "metadata": {},
   "source": [
    "# Rendimiento de 32 automoviles (Consumo de gasolina)\n",
    "\n",
    "## Oscar Julian Layton\n",
    "\n",
    "* $Y_k:$ la respuesta es el consumo de combustible del automóvil (mpg) en kilómetros por litro.\n",
    "* **hp: $x_{k2}$** caballos de fuerza.\n",
    "* **wt: $x_{k3}$** el peso (en miles de libras) del k-ésimo automóvil.\n",
    "* **qsec: $x_{k4}$** el tiempo en segundos que el automovil tarda en recorrer 1/4 de milla.\n",
    "\n",
    "\n",
    "Los datos están disponibles en el objeto mtcars del paquete estadístico R, fueron extraídos de la revista Motor Trend US de 1974, y comprenden 11 aspectos del diseño y el rendimiento de 32 automóviles modelo 1973, en que la respuesta es el consumo de combustible del automóvil, en kilómetros por litro. Se propone analizar estos datos usando modelos en los que se asume que el rendimiento del automóvil k es la realización de la variable aleatoria $Y_k$, la cual sigue distribución normal, log-gama sesgada a la izquierda, o log-gama sesgada a la derecha, **en esta instancia se usara la distribución normal**\n",
    " \n",
    "$$\\begin{equation*}\n",
    "     \\left\\{\n",
    "\t       \\begin{array}{ll}\n",
    "           Y_k = \\mu_k + \\epsilon_k\\\\\n",
    "\t\t \\mu_k=\\beta_1 + \\beta_2 x_{k2} + \\beta_3 x_{k3} + \\beta_4 x_{k2} + \\beta_5 x_{k2} x_{k3} + \\beta_6 x_{k2} x_{k4} + \\beta_7 x_{k3} x_{k4}+ \\beta_8 x_{k2} x_{k3} x_{k4} \\\\\n",
    "\t\t \\epsilon_k \\overset{\\text{iid}}{\\sim} Normal(0, \\sigma^2)\n",
    "\t       \\end{array}\n",
    "\t     \\right.\n",
    "   \\end{equation*}\n",
    "   $$"
   ]
  },
  {
   "cell_type": "code",
   "execution_count": 1,
   "metadata": {},
   "outputs": [
    {
     "data": {
      "text/html": [
       "'C:/Users/YULY'"
      ],
      "text/latex": [
       "'C:/Users/YULY'"
      ],
      "text/markdown": [
       "'C:/Users/YULY'"
      ],
      "text/plain": [
       "[1] \"C:/Users/YULY\""
      ]
     },
     "metadata": {},
     "output_type": "display_data"
    }
   ],
   "source": [
    "#rm(list=ls())\n",
    "getwd()\n",
    "setwd(\"C:\\\\Users\\\\YULY\\\\Desktop\\\\Desktop\\\\UNAL 2018\\\\MLGz\\\\MLG Vanegas\")  #Asignando capeta busqueda por default\n",
    "source(\"macros.txt\")           # Llamar el archivo de macros que esta en la carpeta especifica,\n",
    "                               # macros son una fuciines especificas creadas porel profesor"
   ]
  },
  {
   "cell_type": "markdown",
   "metadata": {},
   "source": [
    "La lectura de los datos se realiza por medio de la siguiente linea:"
   ]
  },
  {
   "cell_type": "code",
   "execution_count": 2,
   "metadata": {},
   "outputs": [
    {
     "name": "stdout",
     "output_type": "stream",
     "text": [
      "'data.frame':\t32 obs. of  11 variables:\n",
      " $ mpg : num  21 21 22.8 21.4 18.7 18.1 14.3 24.4 22.8 19.2 ...\n",
      " $ cyl : num  6 6 4 6 8 6 8 4 4 6 ...\n",
      " $ disp: num  160 160 108 258 360 ...\n",
      " $ hp  : num  110 110 93 110 175 105 245 62 95 123 ...\n",
      " $ drat: num  3.9 3.9 3.85 3.08 3.15 2.76 3.21 3.69 3.92 3.92 ...\n",
      " $ wt  : num  2.62 2.88 2.32 3.21 3.44 ...\n",
      " $ qsec: num  16.5 17 18.6 19.4 17 ...\n",
      " $ vs  : num  0 0 1 1 0 1 0 1 1 1 ...\n",
      " $ am  : num  1 1 1 0 0 0 0 0 0 0 ...\n",
      " $ gear: num  4 4 4 3 3 3 3 4 4 4 ...\n",
      " $ carb: num  4 4 1 1 2 1 4 2 2 4 ...\n"
     ]
    }
   ],
   "source": [
    "#################### Lectura de los datos ####################\n",
    "data(mtcars)\n",
    "str(mtcars)"
   ]
  },
  {
   "cell_type": "markdown",
   "metadata": {},
   "source": [
    "Para hacer una limpieza de los datos, se tiene el nuevo DataFrame de 32 obs con 3 variables explicativas y una variable de respuesta."
   ]
  },
  {
   "cell_type": "code",
   "execution_count": 3,
   "metadata": {},
   "outputs": [
    {
     "data": {
      "text/html": [
       "<table>\n",
       "<thead><tr><th></th><th scope=col>mpg</th><th scope=col>hp</th><th scope=col>wt</th><th scope=col>qsec</th></tr></thead>\n",
       "<tbody>\n",
       "\t<tr><th scope=row>Mazda RX4</th><td>21.0 </td><td>110  </td><td>2.620</td><td>16.46</td></tr>\n",
       "\t<tr><th scope=row>Mazda RX4 Wag</th><td>21.0 </td><td>110  </td><td>2.875</td><td>17.02</td></tr>\n",
       "\t<tr><th scope=row>Datsun 710</th><td>22.8 </td><td> 93  </td><td>2.320</td><td>18.61</td></tr>\n",
       "\t<tr><th scope=row>Hornet 4 Drive</th><td>21.4 </td><td>110  </td><td>3.215</td><td>19.44</td></tr>\n",
       "\t<tr><th scope=row>Hornet Sportabout</th><td>18.7 </td><td>175  </td><td>3.440</td><td>17.02</td></tr>\n",
       "\t<tr><th scope=row>Valiant</th><td>18.1 </td><td>105  </td><td>3.460</td><td>20.22</td></tr>\n",
       "</tbody>\n",
       "</table>\n"
      ],
      "text/latex": [
       "\\begin{tabular}{r|llll}\n",
       "  & mpg & hp & wt & qsec\\\\\n",
       "\\hline\n",
       "\tMazda RX4 & 21.0  & 110   & 2.620 & 16.46\\\\\n",
       "\tMazda RX4 Wag & 21.0  & 110   & 2.875 & 17.02\\\\\n",
       "\tDatsun 710 & 22.8  &  93   & 2.320 & 18.61\\\\\n",
       "\tHornet 4 Drive & 21.4  & 110   & 3.215 & 19.44\\\\\n",
       "\tHornet Sportabout & 18.7  & 175   & 3.440 & 17.02\\\\\n",
       "\tValiant & 18.1  & 105   & 3.460 & 20.22\\\\\n",
       "\\end{tabular}\n"
      ],
      "text/markdown": [
       "\n",
       "| <!--/--> | mpg | hp | wt | qsec |\n",
       "|---|---|---|---|---|\n",
       "| Mazda RX4 | 21.0  | 110   | 2.620 | 16.46 |\n",
       "| Mazda RX4 Wag | 21.0  | 110   | 2.875 | 17.02 |\n",
       "| Datsun 710 | 22.8  |  93   | 2.320 | 18.61 |\n",
       "| Hornet 4 Drive | 21.4  | 110   | 3.215 | 19.44 |\n",
       "| Hornet Sportabout | 18.7  | 175   | 3.440 | 17.02 |\n",
       "| Valiant | 18.1  | 105   | 3.460 | 20.22 |\n",
       "\n"
      ],
      "text/plain": [
       "                  mpg  hp  wt    qsec \n",
       "Mazda RX4         21.0 110 2.620 16.46\n",
       "Mazda RX4 Wag     21.0 110 2.875 17.02\n",
       "Datsun 710        22.8  93 2.320 18.61\n",
       "Hornet 4 Drive    21.4 110 3.215 19.44\n",
       "Hornet Sportabout 18.7 175 3.440 17.02\n",
       "Valiant           18.1 105 3.460 20.22"
      ]
     },
     "metadata": {},
     "output_type": "display_data"
    },
    {
     "data": {
      "text/html": [
       "<pre class=language-r><code>function (x, ...) \n",
       "UseMethod(\"head\")</code></pre>"
      ],
      "text/latex": [
       "\\begin{minted}{r}\n",
       "function (x, ...) \n",
       "UseMethod(\"head\")\n",
       "\\end{minted}"
      ],
      "text/markdown": [
       "```r\n",
       "function (x, ...) \n",
       "UseMethod(\"head\")\n",
       "```"
      ],
      "text/plain": [
       "function (x, ...) \n",
       "UseMethod(\"head\")\n",
       "<bytecode: 0x000000002cbf6cb0>\n",
       "<environment: namespace:utils>"
      ]
     },
     "metadata": {},
     "output_type": "display_data"
    }
   ],
   "source": [
    "mtcars<-mtcars[,c(1,4,6,7)]; head(mtcars)\n",
    "head"
   ]
  },
  {
   "cell_type": "code",
   "execution_count": 4,
   "metadata": {},
   "outputs": [],
   "source": [
    "#library(ggplot2)\n",
    "#library(ggExtra)\n",
    "\n",
    "#p=ggplot(mtcars, aes(x=wt, y=mpg)) +\n",
    "#  geom_point() +\n",
    "#  theme(legend.position=\"none\")\n",
    "#ggMarginal(p, type=\"histogram\")}\n",
    "\n",
    "#ggMarginal(p, type=\"boxplot\")\n"
   ]
  },
  {
   "cell_type": "markdown",
   "metadata": {},
   "source": [
    "Se procede a realizar un análisis de las variables en consideración, en este caso $x_2, x_3$ y $x_4$ son variables numéricas. A continuación se muestra la regresión por pares de variables."
   ]
  },
  {
   "cell_type": "code",
   "execution_count": 5,
   "metadata": {},
   "outputs": [
    {
     "data": {
      "image/png": "[encoded data removed]",
      "text/plain": [
       "Plot with title \"qsec\""
      ]
     },
     "metadata": {},
     "output_type": "display_data"
    }
   ],
   "source": [
    "fit1<-lm(mpg ~ hp*wt*qsec, data=mtcars)\n",
    "graphs_glm(fit1,1,3,pch=16)"
   ]
  },
  {
   "cell_type": "markdown",
   "metadata": {},
   "source": [
    "En el gráfico scatter plot (hp vs mpg) de los datos indica que el consumo de combustible por kilómetro disminuye linealmente a medida que aumentan los caballos de fuerza (hp) en los vehiculos. Se evidencia entonces una correlación negativa asi como se evidencia  el scatter plot (wt vs mpg) el cual da indicios de que el consumo de combustible disminuye linealmente a medida que aumentaq el peso del automovil.\n",
    "\n",
    "En lo que corresponde al scatter plot (qsec vs mpg) se logra observar que el consumo de combustible por kilómetro aumenta linealmente a medida que aumenta el tiempo en segundos que el automovil tarda en recorrer 1/4 de milla implicando una correlación positiva (directamente proporcional).\n",
    "\n",
    "\n",
    "Ajustando el modelo por medio de la función **lm** se tiene:"
   ]
  },
  {
   "cell_type": "code",
   "execution_count": 6,
   "metadata": {},
   "outputs": [
    {
     "data": {
      "text/plain": [
       "\n",
       "Call:\n",
       "lm(formula = mpg ~ hp + wt + qsec, data = mtcars)\n",
       "\n",
       "Residuals:\n",
       "    Min      1Q  Median      3Q     Max \n",
       "-3.8591 -1.6418 -0.4636  1.1940  5.6092 \n",
       "\n",
       "Coefficients:\n",
       "            Estimate Std. Error t value Pr(>|t|)    \n",
       "(Intercept) 27.61053    8.41993   3.279  0.00278 ** \n",
       "hp          -0.01782    0.01498  -1.190  0.24418    \n",
       "wt          -4.35880    0.75270  -5.791 3.22e-06 ***\n",
       "qsec         0.51083    0.43922   1.163  0.25463    \n",
       "---\n",
       "Signif. codes:  0 '***' 0.001 '**' 0.01 '*' 0.05 '.' 0.1 ' ' 1\n",
       "\n",
       "Residual standard error: 2.578 on 28 degrees of freedom\n",
       "Multiple R-squared:  0.8348,\tAdjusted R-squared:  0.8171 \n",
       "F-statistic: 47.15 on 3 and 28 DF,  p-value: 4.506e-11\n"
      ]
     },
     "metadata": {},
     "output_type": "display_data"
    },
    {
     "data": {
      "text/plain": [
       "\n",
       "Call:\n",
       "lm(formula = mpg ~ hp * wt * qsec, data = mtcars)\n",
       "\n",
       "Residuals:\n",
       "    Min      1Q  Median      3Q     Max \n",
       "-3.4250 -1.4475 -0.3224  1.4808  3.8751 \n",
       "\n",
       "Coefficients:\n",
       "             Estimate Std. Error t value Pr(>|t|)\n",
       "(Intercept)  3.390830  61.505159   0.055    0.956\n",
       "hp           0.262481   0.486684   0.539    0.595\n",
       "wt           0.798347  19.265774   0.041    0.967\n",
       "qsec         2.541218   3.342305   0.760    0.454\n",
       "hp:wt       -0.059683   0.142575  -0.419    0.679\n",
       "hp:qsec     -0.021579   0.027228  -0.793    0.436\n",
       "wt:qsec     -0.487965   1.050227  -0.465    0.646\n",
       "hp:wt:qsec   0.004907   0.007969   0.616    0.544\n",
       "\n",
       "Residual standard error: 2.185 on 24 degrees of freedom\n",
       "Multiple R-squared:  0.8982,\tAdjusted R-squared:  0.8685 \n",
       "F-statistic: 30.25 on 7 and 24 DF,  p-value: 2.033e-10\n"
      ]
     },
     "metadata": {},
     "output_type": "display_data"
    }
   ],
   "source": [
    "fit <- lm(mpg ~ hp+wt+qsec, data=mtcars)\n",
    "summary(fit)\n",
    "\n",
    "fit1 <- lm(mpg ~ hp*wt*qsec, data=mtcars)\n",
    "summary(fit1)"
   ]
  },
  {
   "cell_type": "markdown",
   "metadata": {},
   "source": [
    "## Contraste de hipótesis de interacción\n",
    "\n",
    "Analizando el modelo mediante la función **lm:modelo lineal**, las interacciones no son significativas, se evalua considerando el siguiente sistema de hipótesis:\n",
    "\n",
    "$$H_{0}: \\beta_5=\\beta_6=\\beta_7=\\beta_8 =0\\;\\;\\;\\;vs \\;\\;\\;\\; H_{1}: \\beta_5 \\neq  \\beta_6  \\neq  \\beta_7  \\neq  \\beta_8  \\neq 0$$\n"
   ]
  },
  {
   "cell_type": "code",
   "execution_count": 7,
   "metadata": {},
   "outputs": [
    {
     "name": "stdout",
     "output_type": "stream",
     "text": [
      "\n",
      " F test \n",
      "\n",
      " Model 1:  mpg ~ hp + wt + qsec + hp * wt + hp * qsec + wt * qsec + hp * wt * qsec \n",
      " Model 2:  mpg ~ hp + wt + qsec \n",
      "\n",
      "    F    Df1 Df2  Pr(>F)  \n",
      "  3.7397   4  24 0.01675 *\n"
     ]
    }
   ],
   "source": [
    "fit1 <- lm(mpg ~ hp+ wt+ qsec+ hp*wt+ hp*qsec+ wt*qsec+ hp*wt*qsec, data=mtcars)\n",
    "anova_glm(fit1,fit)    #H_o  :  b_5=b_6=0   se concluye que no hay interaccion, las rectas son paralelas, las rectas\n",
    "                        #tienen la misma pendianete.  \n",
    "                        #comparando la SCres, OBSERVANDO LA SALIDA RESIDUAL STANDAR ERROR ES SQRT(SIGMA{2)"
   ]
  },
  {
   "cell_type": "markdown",
   "metadata": {},
   "source": [
    "El resultado anterior generado por **anova_glm(fit1,fit)** está determinado al particionar $\\mathbf{\\beta}=(\\beta_1 , \\beta_2)$ donde **s=4** es la dimensión del vector $\\beta_2$:\n",
    "\n",
    "$$F=\\frac{Q(\\mathbf{\\widehat{\\beta}}^{(0)})-Q(\\mathbf{\\widehat{\\beta}})}{s \\widehat{\\sigma}^2}\\;\\;\\;\\;\\;\\; ; \\;\\;\\;\\;\\;\\;\\;F \\sim F_{(1-\\alpha)}(s,n-p)$$\n",
    "\n",
    "$$F=\\frac{(2.578^2)*28 - (2.185^2)*24}{(4 )(2.185^2)}= 3.7397$$\n",
    "\n",
    "Aquí: \n",
    "* #4 es la dimension del vector de hipotesisi nula\n",
    "* $Q(\\mathbf{\\widehat{\\beta}}^{(0)})= (\\widehat{\\sigma}^2)* gl $ es: **scres  del modelo sin interacción**\n",
    "* $Q(\\mathbf{\\widehat{\\beta}})= (\\widehat{\\sigma}^2)* gl  $ es:  **scres del modelo con interacción (se sabe que sigma es mas pequeño)**\n",
    "\n",
    "* pv=1-pf(3.7397, , )= 0.01675\n",
    "\n",
    "Esta es la prueba de significancia de la regresión todo para determinar si existe relación lineal entre la respuesta y cualquiera de las variables regresoras. Los resultados indican que SI existe evidencia estadísticamente significativa para rechazar $H_0$, por lo que se puede concluir que almenos un $\\beta_j \\neq 0$ para algún $j\\in(5,6,7,8)$. Por lo tanto, el modelo seleccionado para analizar los datos puede identificarse mediante: \n"
   ]
  },
  {
   "cell_type": "code",
   "execution_count": 8,
   "metadata": {},
   "outputs": [
    {
     "name": "stdout",
     "output_type": "stream",
     "text": [
      "\n",
      "Initial model:\n",
      "mpg ~ 1 + hp + wt + qsec + hp:wt + hp:qsec + wt:qsec + hp:wt:qsec \n",
      "\n",
      "Step 0 :    \n",
      "             Df      BIC      AIC   R-squared*   PRESS+     CP**  p-value\n",
      "- hp:wt:qsec  1   159.8676 148.1417     0.8718   6.4924   6.3792   0.5438\n",
      "<none>            162.8317 149.6401     0.8685   7.0929   8.0000         \n",
      "\n",
      "Step 1 :  - hp:wt:qsec \n",
      "          Df      BIC      AIC   R-squared*   PRESS+     CP**  p-value\n",
      "- wt:qsec  1   156.4130 146.1528     0.8767   5.5295   4.3876   0.9266\n",
      "- hp:qsec  1   157.5716 147.3114     0.8721   5.9284   5.2868   0.3439\n",
      "<none>         159.8676 148.1417     0.8718   6.4924   6.3792         \n",
      "- hp:wt    1   167.6471 157.3869     0.8248   8.9619  14.6446   0.0033\n",
      "\n",
      "Step 2 :  - wt:qsec \n",
      "          Df      BIC      AIC   R-squared*   PRESS+     CP**  p-value\n",
      "- hp:qsec  1   154.1791 145.3847     0.8766   5.2179   3.3448   0.3217\n",
      "<none>         156.4130 146.1528     0.8767   5.5295   4.3876         \n",
      "- hp:wt    1   166.9253 158.1309     0.8162   7.9165  15.7465   0.0008\n",
      "\n",
      "Step 3 :  - hp:qsec \n",
      "        Df      BIC      AIC   R-squared*   PRESS+     CP**  p-value\n",
      "- qsec   1   152.9395 145.6109     0.8724   5.4852   3.1707   0.1745\n",
      "<none>       154.1791 145.3847     0.8766   5.2179   3.3448         \n",
      "- hp:wt  1   164.4713 157.1426     0.8171   7.6714  14.9589   0.0007\n",
      "\n",
      "Step 4 :  - qsec \n",
      "        Df      BIC      AIC   R-squared*   PRESS+     CP**  p-value\n",
      "<none>       152.9395 145.6109     0.8724   5.4852   3.1707         \n",
      "- hp:wt  1   162.5153 156.6523     0.8148   7.7033  14.8410   0.0008\n",
      "\n",
      "*  Adjusted R-squared\n",
      "+  Allen's PRESS divided by the sample size\n",
      "** Mallows's CP\n",
      "\n",
      "\n",
      "Final model:\n",
      "mpg ~ 1 + hp + wt + hp:wt \n",
      "\n"
     ]
    }
   ],
   "source": [
    "step_glm(fit1,direction=\"backward\",criterion=\"BIC\")             #forward"
   ]
  },
  {
   "cell_type": "markdown",
   "metadata": {},
   "source": [
    "El anterior codigo establece el procedimiento *backward* de selección de variables para de esta forma identificar el mejor modelo en terminos algunos criterios como AIC, BIC, CP-Mallows, p-valor: \n",
    "\n",
    "* **paso 0**: Si quito la interacción  triple tendría un BIC=159.8676 mucho menor que el bic de no hacer nada. luego es aconsejable quitar la interacción triple. Con el AIC me da la misma conclusión. Con el R^2 (Entre mayor + mejor ) tambien indica que es bueno quirtar la interaccion triple.  **CONCLUSIÓN: Sacar la interacción doble**.\n",
    "\n",
    "* **paso 1**:   quitar  wt:qsec \n",
    "* **paso 2**:   quitar hp:qsec \n",
    "* **paso 3**:\n",
    "\n",
    "Se puede notar que los nivles de significacia del p-valor en los pasos 1-4 son muy grandes, por tal motivo se opta porquitar dichas variables explicativas en el modelo hasta quedar valors significativos al $1\\%, 5\\% y 10\\%$  Después de realizar el paso a paso se llega al siguiente modelo:\n",
    "\n",
    "$$mpg \\sim 1 + hp + wt + hp:wt $$\n",
    "\n",
    "\n",
    "$$\\begin{equation*}\n",
    "     \\left\\{\n",
    "\t       \\begin{array}{ll}\n",
    "           Y_k = \\mu_k + \\epsilon_k\\\\\n",
    "\t\t \\mu_k=\\mathbf{x}_k'\\beta = \\beta_1 + \\beta_2 x_{k2} + \\beta_3 x_{k3} + \\beta_4 x_{k2} x_{k3} \\\\\n",
    "\t\t \\epsilon_k \\overset{\\text{iid}}{\\sim} Normal(0, \\sigma^2)\n",
    "\t       \\end{array}\n",
    "\t     \\right.\n",
    "   \\end{equation*}\n",
    "   $$"
   ]
  },
  {
   "cell_type": "code",
   "execution_count": 9,
   "metadata": {},
   "outputs": [
    {
     "name": "stdout",
     "output_type": "stream",
     "text": [
      "                           Value\n",
      "Dispersion parameter      4.6343\n",
      "Multiple R-squared        0.8848\n",
      "Adjusted R-squared        0.8724\n",
      "Allen's PRESS*            5.4852\n",
      "-2*log-Likelihood       135.6109\n",
      "AIC                     145.6109\n",
      "BIC                     152.9395\n",
      "\n",
      "* value divided by the sample size\n",
      "\n"
     ]
    },
    {
     "data": {
      "text/plain": [
       "\n",
       "Call:\n",
       "lm(formula = mpg ~ hp * wt, data = mtcars)\n",
       "\n",
       "Residuals:\n",
       "    Min      1Q  Median      3Q     Max \n",
       "-3.0632 -1.6491 -0.7362  1.4211  4.5513 \n",
       "\n",
       "Coefficients:\n",
       "            Estimate Std. Error t value Pr(>|t|)    \n",
       "(Intercept) 49.80842    3.60516  13.816 5.01e-14 ***\n",
       "hp          -0.12010    0.02470  -4.863 4.04e-05 ***\n",
       "wt          -8.21662    1.26971  -6.471 5.20e-07 ***\n",
       "hp:wt        0.02785    0.00742   3.753 0.000811 ***\n",
       "---\n",
       "Signif. codes:  0 '***' 0.001 '**' 0.01 '*' 0.05 '.' 0.1 ' ' 1\n",
       "\n",
       "Residual standard error: 2.153 on 28 degrees of freedom\n",
       "Multiple R-squared:  0.8848,\tAdjusted R-squared:  0.8724 \n",
       "F-statistic: 71.66 on 3 and 28 DF,  p-value: 2.981e-13\n"
      ]
     },
     "metadata": {},
     "output_type": "display_data"
    }
   ],
   "source": [
    "#################### Ajuste del modelo ####################\n",
    "fit2 <- lm(mpg ~ hp*wt, data=mtcars)\n",
    "gof_glm(fit2)\n",
    "summary(fit2)"
   ]
  },
  {
   "cell_type": "code",
   "execution_count": 10,
   "metadata": {},
   "outputs": [],
   "source": [
    "X <- model.matrix(fit2)                               # Matriz del modelo\n",
    "betas <- coef(fit2)                                   # Par?metros estimados\n",
    "sigma2 <- sum(resid(fit2)^2)/fit2$df.residual         # Estimaci?n de sigma^2\n",
    "MV<-vcov(fit2)                                        # Matriz de varianzas y covarianzas estimada\n",
    "a<-sigma2*solve(t(X)%*%X)\n",
    "b<-sqrt(diag(vcov(fit2)))                             # Errores est?ndar\n",
    "c<-sqrt(diag(sigma2*solve(t(X)%*%X)))\n",
    "d<-fitted(fit2)                                       # Estimaci?n de mu\n",
    "e<-X%*%betas"
   ]
  },
  {
   "cell_type": "markdown",
   "metadata": {},
   "source": [
    "## Interpretación de los parámetros\n",
    "\n",
    "* Al nivel de significancia del $5\\%$ existe evidencia estadísticamente significativa de que el efecto del peso del automovil sobre el consumo esperado de combustible depende del número de caballos de fuerza. (en otras palabras estadisticamente $\\beta_4 \\neq 0$)\n",
    "\n",
    "En correspondencia al modelo generado por el **step_glm()** se procede a realizar la interpretación de los parámetros estimados:\n",
    "\n",
    "**Interpretación del efecto de la biomasa ($\\beta_2$)**\n",
    "\n",
    "* Sin importar el peso del automovil, el consumo esperado de combustible disminuye aproximadamente, 0.12 galones por cada unidad que aumenta los caballos de fuerza.  (en otras palabras a medida que aumentan los caballos de fuerza, el consumo esperado de combustible disminuye en 0.12 aproximadamente por cada unidad adicional en caballos de fuerza) *otra interpretación es que al comparar dos carros con peso cero, se tiene que por cada caballo de fuerza adicional el consumo de combustible promedio disminuye en 0.12 mpg*\n",
    "\n",
    "**Interpretación del efecto del ph ($\\beta_3 , \\beta_4$)**\n",
    "\n",
    "* Si se comparan dos autos con los mismos caballos de fuerza pero donde uno de ellos tiene una unidad adicional en peso mayor que el otro, entonces el consumo de combustible esperado en el auto con mayor peso disminuye aproximadamente 8.21 mpg.\n",
    "\n",
    "\n",
    "**Interpretación de $\\sigma$**\n",
    "\n",
    "* Distancia promedio entre la diferencia del consumo de combustible en un carro particular y el valor promedio de los mismos.\n",
    "\n",
    "Por otro lado, el valor del coeficiente de determinación ($R^2 = 0.8848$) indica que $88.48 \\%$ de las diferencias entre los 32 automoviles de la muestra con respecto al consumo de combustible se explica por las diferencias entre las mismas en relación al peso y a los caballos de fuerza.\n",
    "\n",
    "\n",
    "---\n",
    "## Análisis de sensibilidad\n"
   ]
  },
  {
   "cell_type": "code",
   "execution_count": 12,
   "metadata": {},
   "outputs": [
    {
     "data": {
      "text/html": [],
      "text/latex": [],
      "text/markdown": [],
      "text/plain": [
       "integer(0)"
      ]
     },
     "metadata": {},
     "output_type": "display_data"
    },
    {
     "data": {
      "image/png": "[encoded data removed]",
      "text/plain": [
       "Plot with title \" \""
      ]
     },
     "metadata": {},
     "output_type": "display_data"
    }
   ],
   "source": [
    "#################### Leverage #################### \n",
    "par(mfrow=c(1,2))\n",
    "out <- leverage_glm(fit2,identify=5,out=TRUE)\n",
    "\n",
    "with(mtcars,{plot(mtcars$hp,mtcars$wt,pch=20,xlab=\"Caballos de fuerza\",ylab=\"Peso\")\n",
    "  identify(mtcars$hp,mtcars$wt,n=5)})\n"
   ]
  },
  {
   "cell_type": "code",
   "execution_count": 13,
   "metadata": {},
   "outputs": [
    {
     "data": {
      "image/png": "[encoded data removed]",
      "text/plain": [
       "Plot with title \" \""
      ]
     },
     "metadata": {},
     "output_type": "display_data"
    }
   ],
   "source": [
    "#################### Residuos estandarizados #################### \n",
    "residuals_glm(fit2,identify=3)"
   ]
  },
  {
   "cell_type": "code",
   "execution_count": 14,
   "metadata": {},
   "outputs": [
    {
     "name": "stdout",
     "output_type": "stream",
     "text": [
      "\n",
      "            Estimate  Std. Error   Pr(>|t|)  | Estimate* Std. Error*  Pr(>|t|)*\n",
      "(Intercept) 49.808423    3.605156    0.00000 | 48.317387    3.748003    0.00000\n",
      "hp          -0.120102    0.024698    0.00004 | -0.104246    0.027356    0.00073\n",
      "wt          -8.216624    1.269708    0.00000 | -7.740378    1.308743    0.00000\n",
      "hp:wt        0.027848    0.007420    0.00081 |  0.023043    0.008233    0.00935\n",
      "            | Change(%)\n",
      "(Intercept) |    -2.994\n",
      "hp          |    13.202\n",
      "wt          |     5.796\n",
      "hp:wt       |   -17.255\n",
      "\n",
      "(*) estimates, standard errors and p-values obtained using the specified subset of individuals.\n",
      "\n",
      "            Estimate  Std. Error   Pr(>|t|)  | Estimate* Std. Error*  Pr(>|t|)*\n",
      "(Intercept) 49.808423    3.605156    0.00000 | 47.870452    3.423355    0.00000\n",
      "hp          -0.120102    0.024698    0.00004 | -0.109439    0.023224    0.00007\n",
      "wt          -8.216624    1.269708    0.00000 | -7.716642    1.190283    0.00000\n",
      "hp:wt        0.027848    0.007420    0.00081 |  0.025141    0.006941    0.00119\n",
      "            | Change(%)\n",
      "(Intercept) |    -3.891\n",
      "hp          |     8.878\n",
      "wt          |     6.085\n",
      "hp:wt       |    -9.721\n",
      "\n",
      "(*) estimates, standard errors and p-values obtained using the specified subset of individuals.\n",
      "\n",
      "            Estimate  Std. Error   Pr(>|t|)  | Estimate* Std. Error*  Pr(>|t|)*\n",
      "(Intercept) 49.808423    3.605156    0.00000 | 52.468752    4.161926    0.00000\n",
      "hp          -0.120102    0.024698    0.00004 | -0.135047    0.027252    0.00003\n",
      "wt          -8.216624    1.269708    0.00000 | -9.045428    1.423082    0.00000\n",
      "hp:wt        0.027848    0.007420    0.00081 |  0.032310    0.008177    0.00050\n",
      "            | Change(%)\n",
      "(Intercept) |     5.341\n",
      "hp          |   -12.444\n",
      "wt          |   -10.087\n",
      "hp:wt       |    16.023\n",
      "\n",
      "(*) estimates, standard errors and p-values obtained using the specified subset of individuals.\n",
      "\n",
      "            Estimate  Std. Error   Pr(>|t|)  | Estimate* Std. Error*  Pr(>|t|)*\n",
      "(Intercept)  49.80842     3.60516    0.00000 |  47.13505     3.69611    0.00000\n",
      "hp           -0.12010     0.02470    0.00004 |  -0.10598     0.02461    0.00020\n",
      "wt           -8.21662     1.26971    0.00000 |  -7.40853     1.27818    0.00000\n",
      "hp:wt         0.02785     0.00742    0.00081 |   0.02370     0.00738    0.00340\n",
      "            | Change(%)\n",
      "(Intercept) |    -5.367\n",
      "hp          |    11.755\n",
      "wt          |     9.835\n",
      "hp:wt       |   -14.898\n",
      "\n",
      "(*) estimates, standard errors and p-values obtained using the specified subset of individuals.\n"
     ]
    },
    {
     "data": {
      "image/png": "[encoded data removed]",
      "text/plain": [
       "Plot with title \" \""
      ]
     },
     "metadata": {},
     "output_type": "display_data"
    }
   ],
   "source": [
    "#################### Distancia de Cook #################### \n",
    "Cookdis_glm(fit2,identify=4)\n",
    "case.deletion_glm(fit2,subset=-c(17))\n",
    "case.deletion_glm(fit2,subset=-c(18))\n",
    "case.deletion_glm(fit2,subset=-c(19))\n",
    "case.deletion_glm(fit2,subset=-c(20))"
   ]
  },
  {
   "cell_type": "code",
   "execution_count": 16,
   "metadata": {},
   "outputs": [
    {
     "name": "stdout",
     "output_type": "stream",
     "text": [
      "  |++++++++++++++++++++++++++++++++++++++++++++++++++| 100%\n"
     ]
    },
    {
     "data": {
      "image/png": "[encoded data removed]",
      "text/plain": [
       "Plot with title \" \""
      ]
     },
     "metadata": {},
     "output_type": "display_data"
    }
   ],
   "source": [
    "#################### Envelope simulado #################### \n",
    "envelope_glm(fit2,rep=100,conf=0.95)"
   ]
  },
  {
   "cell_type": "markdown",
   "metadata": {},
   "source": [
    "---\n",
    "\n",
    "## Test de varianza constante\n",
    "\n",
    "\n",
    "La homocedasticidad, es una característica de un modelo de regresión lineal que implica que la varianza de los errores es constante a lo largo del tiempo. Supongase el *modelo normal lineal heterocedastico* descrito por:\n",
    "\n",
    "$\\;$\n",
    "$$\\begin{equation*}\n",
    "     \\left\\{\n",
    "\t       \\begin{array}{ll}\n",
    "           Y_k = \\mu_k + \\epsilon_k\\\\\n",
    "\t\t \\mu_k=\\mathbf{x}_k'\\beta  \\\\\n",
    "\t\t \\epsilon_k \\overset{\\text{iid}}{\\sim} Normal(0, \\sigma_k^2)\\\\\n",
    "         log(\\sigma_k^2) =\\vartheta_1 + Z_k \\vartheta \n",
    "\t       \\end{array}\n",
    "\t     \\right.\n",
    "   \\end{equation*}\n",
    "   $$\n",
    "  \n",
    "  \n",
    " Tengase en cuenta $\\Theta_{(p+q)}$ de dimensión (p+q) donde: $\\Theta= \\left ( \\beta ^r , \\vartheta _1, \\vartheta ^T \\right )^T$ con $\\beta$ de dimensión p, $\\vartheta _1$ de dimensión 1 y $\\vartheta ^T$ de dimensión q-1.\n",
    " \n",
    "La forma de proceder está en contrastar la siguiente hipótesis:\n",
    "\n",
    "$$H_{0}: \\vartheta =0\\;\\;\\;\\;\\;\\;\\;\\;vs \\;\\;\\;\\; \\;\\;\\;\\;H_{1}: \\vartheta \\neq  0$$\n",
    " \n",
    " \n",
    " <div class=\"alert alert-success\">\n",
    "  Si no rechazo $H_0$ entonces $H_0= \\vartheta =0$ implica que  $log(\\sigma_k^2) =\\vartheta _1$ lo cual da indicios de que $log(\\sigma_k^2)$ no depende de k lo cual acevera que existe varianza constante.\n",
    "</div>\n",
    "\n",
    "Dentro de todos los test existentes, en el modelo normal lineal los test de homogeneidad son iguales. *Sin embargo el test de Rao-Score es el mas barato de hacer*"
   ]
  },
  {
   "cell_type": "markdown",
   "metadata": {},
   "source": [
    "---\n",
    "#####  Test razon de verosimilutudes (para verificar homoceasticidad)\n",
    "\n",
    "$$\\zeta_{RV}=2[l( \\widehat{\\theta} )-l( \\widehat{\\theta}^{(0)} )]\\;\\;\\;\\;\\;\\;\\; ; \\;\\;\\;\\;\\;\\;\\; \\zeta_{RV}\\; \\overset{H_0}{\\underset{n \\to \\infty }{\\sim}} \\; \\chi^2_{(q-1)} $$\n",
    "\n",
    "*Verosimilitud del modelo completo* menos la *verosimilitud del modelo restringido*, aquí $\\widehat{\\theta}= {\\underset{\\theta \\in \\mathbb{R}^{p+q} }{argmax}}\\;l(\\theta)$\n",
    "\n",
    "---\n",
    "#####  Test razon de wald (necesita 1 parámetro a estimar $\\widehat{\\theta}$ )\n",
    "\n",
    "$$\\zeta_{w}=(\\widehat{\\vartheta} -0)^{T}[\\widehat{Var}(\\widehat{\\vartheta})]^{-1}(\\widehat{\\vartheta} -0) \\;\\;\\;\\;\\;\\;\\; ; \\;\\;\\;\\;\\;\\;\\; \\zeta_{w}\\; \\overset{H_0}{\\underset{n \\to \\infty }{\\sim}} \\; \\chi^2_{(q-1)} $$\n",
    "\n",
    "---\n",
    "#####  Test de Score o Rao  (necesita 1 parámetro a estimar $\\widehat{\\theta}^{(0)}$ )\n",
    "\n",
    "$$\\zeta_{s}=\\left \\{   [U_{\\vartheta}(\\theta)]^{T}Var(\\widehat{\\vartheta})[U_{\\vartheta}(\\theta)]   \\right \\} |_{\\theta=\\widehat{\\theta}^{(0)}}  \\;\\;\\;\\;\\;\\;\\; ; \\;\\;\\;\\;\\;\\;\\; \\zeta_{s}\\; \\overset{H_0}{\\underset{n \\to \\infty }{\\sim}} \\; \\chi^2_{(q-1)} $$\n",
    "\n",
    "Aquí $U(\\theta)= \\bigtriangledown l(\\theta)$ es el vector gradiente y $U_{\\vartheta}(\\theta)$ los últimos (q-1) valores del vector gradiente.\n",
    "\n",
    "---\n",
    "#####  Test gradiente  (necesita 2 maximizaciones $\\widehat{\\theta}$ y $\\widehat{\\theta}^{(0)}$)\n",
    "\n",
    "$$\\zeta_{G}= [U_{\\vartheta}(\\theta)]^{T}\\; \\widehat{\\theta}^{(0)} (\\widehat{\\vartheta} -0)  \\;\\;\\;\\;\\;\\;\\; ; \\;\\;\\;\\;\\;\\;\\; \\zeta_{s}\\; \\overset{H_0}{\\underset{n \\to \\infty }{\\sim}} \\; \\chi^2_{(q-1)} $$\n",
    "\n",
    "---"
   ]
  },
  {
   "cell_type": "code",
   "execution_count": 100,
   "metadata": {},
   "outputs": [
    {
     "name": "stdout",
     "output_type": "stream",
     "text": [
      "\n",
      "             Score test for varying dispersion\n",
      "\n",
      "          Statistic =  5.08072 \n",
      " degrees of freedom =  3 \n",
      "            p-value =  0.16598 \n",
      "\n"
     ]
    },
    {
     "ename": "ERROR",
     "evalue": "Error in bptest(fit2, studentize = FALSE): no se pudo encontrar la función \"bptest\"\n",
     "output_type": "error",
     "traceback": [
      "Error in bptest(fit2, studentize = FALSE): no se pudo encontrar la función \"bptest\"\nTraceback:\n"
     ]
    }
   ],
   "source": [
    "#################### Test de varianza constante #################### \n",
    "vdtest(fit2)\n",
    "bptest(fit2,studentize=FALSE)"
   ]
  },
  {
   "cell_type": "markdown",
   "metadata": {},
   "source": [
    "El anterior test establece que: \n",
    "\n",
    "$$log(\\sigma_k^2) =\\vartheta_1 + \\vartheta_2 (hp) + \\vartheta_3 (wt) + \\vartheta_4 (ℎ𝑝:𝑤𝑡) $$\n",
    "\n",
    "Donde:\n",
    "\n",
    "$$H_{0}: \\vartheta_2 = \\vartheta_3 = \\vartheta_4 = 0\\;\\;\\;\\;\\;\\;\\;\\;vs \\;\\;\\;\\; \\;\\;\\;\\;H_{1}: \\vartheta_2 \\neq \\vartheta_3 \\neq \\vartheta_4 \\neq 0$$\n",
    "\n",
    "Al $5\\% $ se concluye que NO existe evidencia estadísticamente significativa para rechazar $H_0$ lo cual implica que que el modelo es homocedastico, es decir el supuesto de varianza constante se cumple."
   ]
  },
  {
   "cell_type": "code",
   "execution_count": 101,
   "metadata": {},
   "outputs": [
    {
     "name": "stdout",
     "output_type": "stream",
     "text": [
      "\n",
      " Exact 95 percent confidence intervals\n",
      "\n",
      "            Lower limit Upper limit\n",
      "(Intercept)    42.42360     57.1933\n",
      "hp             -0.17069     -0.0695\n",
      "wt            -10.81750     -5.6157\n",
      "hp:wt           0.01265      0.0430\n"
     ]
    }
   ],
   "source": [
    "#################### Intervalos de confianza para beta #################### \n",
    "ci_glm(fit2, conf=0.95)"
   ]
  },
  {
   "cell_type": "markdown",
   "metadata": {},
   "source": [
    "# Estimación de $\\mu$ para individuos que no estan en la muestra\n",
    "\n",
    "Se realizará la estimación de dos individuos que tienen las siguientes características: \n",
    "\n",
    "* (hp:145 y wt=3.2)\n",
    "* (hp:88 y wt=3)"
   ]
  },
  {
   "cell_type": "code",
   "execution_count": 102,
   "metadata": {},
   "outputs": [
    {
     "data": {
      "text/html": [
       "<strong>1:</strong> 21.9414776871111"
      ],
      "text/latex": [
       "\\textbf{1:} 21.9414776871111"
      ],
      "text/markdown": [
       "**1:** 21.9414776871111"
      ],
      "text/plain": [
       "       1 \n",
       "21.94148 "
      ]
     },
     "metadata": {},
     "output_type": "display_data"
    },
    {
     "data": {
      "text/html": [
       "<strong>1:</strong> 21.9414776871111"
      ],
      "text/latex": [
       "\\textbf{1:} 21.9414776871111"
      ],
      "text/markdown": [
       "**1:** 21.9414776871111"
      ],
      "text/plain": [
       "       1 \n",
       "21.94148 "
      ]
     },
     "metadata": {},
     "output_type": "display_data"
    }
   ],
   "source": [
    "#################### Estimaci?n de mu para individuos que no est?n en la muestra #################### \n",
    "estimacion <- predict(fit2,data.frame(hp=145,wt=3.2)) ;estimaciones\n",
    "estimaciones <- predict(fit2,data.frame(hp=88,wt=3)) ;estimaciones"
   ]
  },
  {
   "cell_type": "markdown",
   "metadata": {},
   "source": [
    "## NOTA:   \n",
    "\n",
    "Para instalar librerias de R en jupyter notebooks usamos la siguiente linea \n",
    "\n",
    "* install.packages(\"ISLR\", \"/home/user/anaconda3/lib/R/library\")  no usar este comando\n",
    "* install.packages(\"sm\", \"/Users/YULY/anaconda/Lib/R/library\")\n",
    "\n",
    "Para más información verificar el siguiente enlace::\n",
    "\n",
    "https://www.pythond.com/23094/conda-como-instalar-paquetes-r-que-no-estan-disponibles-en-r-essentials.html\n",
    "\n",
    "* También puede usarse el siguiente comando desde r para instalar el entorno de r \n",
    "\n",
    "install.packages(\"CASdatasets\", \"/Users/YULY/anaconda/Lib/R/library\",repos = \"http://cas.uqam.ca/pub/R/\")\n"
   ]
  },
  {
   "cell_type": "markdown",
   "metadata": {},
   "source": [
    "---\n",
    "Algunas de las bases de datos están en el siguiente enlace: \n",
    "\n",
    "* http://users.stat.ufl.edu/~aa/glm/data/\n",
    "* http://rpubs.com/angie_angie/465175"
   ]
  },
  {
   "cell_type": "code",
   "execution_count": 4,
   "metadata": {},
   "outputs": [],
   "source": []
  }
 ],
 "metadata": {
  "kernelspec": {
   "display_name": "R",
   "language": "R",
   "name": "ir"
  },
  "language_info": {
   "codemirror_mode": "r",
   "file_extension": ".r",
   "mimetype": "text/x-r-source",
   "name": "R",
   "pygments_lexer": "r",
   "version": "3.6.1"
  }
 },
 "nbformat": 4,
 "nbformat_minor": 2
}
