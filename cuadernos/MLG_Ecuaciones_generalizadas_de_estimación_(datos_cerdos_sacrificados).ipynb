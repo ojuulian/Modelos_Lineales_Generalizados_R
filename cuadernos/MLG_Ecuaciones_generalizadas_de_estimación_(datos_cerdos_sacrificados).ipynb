{
 "cells": [
  {
   "cell_type": "markdown",
   "metadata": {},
   "source": [
    "<img src=\"./unal.png\" align=left width=\"150\" height=\"150\"></img>\n",
    "\n",
    "$\\;$\n",
    "\n",
    "---\n",
    "<h2 align=\"center\">Ecuaciones generalizadas de estimación (datos cerdos sacrificados)</h2>\n",
    "\n",
    "Data contains weight of slaughter pigs measured weekly for 12 weeks. Data also contains the startweight (i.e. the weight at week 1). The treatments are 3 different levels of vitamin E (dose: 0, 100, 200 mg dl-alpha-tocopheryl acetat /kg feed) in combination with 3 different levels of Cu=copper (dose: 0, 35, 175 mg/kg feed) in the feed. "
   ]
  },
  {
   "cell_type": "code",
   "execution_count": 2,
   "metadata": {},
   "outputs": [],
   "source": [
    "rm(list=ls())\n",
    "setwd(\"\")\n",
    "library(sqldf)\n",
    "library(numDeriv)\n",
    "library(Rfast)\n",
    "source(\"macros.txt\")\n",
    "source(\"test.txt\")"
   ]
  },
  {
   "cell_type": "code",
   "execution_count": 7,
   "metadata": {},
   "outputs": [
    {
     "name": "stdout",
     "output_type": "stream",
     "text": [
      "'data.frame':\t861 obs. of  8 variables:\n",
      " $ Pig   : Factor w/ 72 levels \"4601\",\"4602\",..: 1 1 1 1 1 1 1 1 1 1 ...\n",
      " $ Evit  : Factor w/ 3 levels \"Evit000\",\"Evit100\",..: 1 1 1 1 1 1 1 1 1 1 ...\n",
      " $ Cu    : Factor w/ 3 levels \"Cu000\",\"Cu035\",..: 1 1 1 1 1 1 1 1 1 1 ...\n",
      " $ Litter: Factor w/ 21 levels \"1\",\"2\",\"3\",\"4\",..: 1 1 1 1 1 1 1 1 1 1 ...\n",
      " $ Start : num  26.5 26.5 26.5 26.5 26.5 26.5 26.5 26.5 26.5 26.5 ...\n",
      " $ Weight: num  26.5 27.6 36.5 40.3 49.1 ...\n",
      " $ Feed  : num  NA 5.2 17.6 28.5 45.2 ...\n",
      " $ Time  : int  1 2 3 4 5 6 7 8 9 10 ...\n"
     ]
    },
    {
     "data": {
      "text/html": [
       "<table>\n",
       "<thead><tr><th scope=col>Pig</th><th scope=col>Evit</th><th scope=col>Cu</th><th scope=col>Litter</th><th scope=col>Start</th><th scope=col>Weight</th><th scope=col>Feed</th><th scope=col>Time</th></tr></thead>\n",
       "<tbody>\n",
       "\t<tr><td>4601     </td><td>Evit000  </td><td>Cu000    </td><td>1        </td><td>26.5     </td><td>26.50000 </td><td>       NA</td><td>1        </td></tr>\n",
       "\t<tr><td>4601     </td><td>Evit000  </td><td>Cu000    </td><td>1        </td><td>26.5     </td><td>27.59999 </td><td> 5.200005</td><td>2        </td></tr>\n",
       "\t<tr><td>4601     </td><td>Evit000  </td><td>Cu000    </td><td>1        </td><td>26.5     </td><td>36.50000 </td><td>17.600000</td><td>3        </td></tr>\n",
       "\t<tr><td>4601     </td><td>Evit000  </td><td>Cu000    </td><td>1        </td><td>26.5     </td><td>40.29999 </td><td>28.500000</td><td>4        </td></tr>\n",
       "\t<tr><td>4601     </td><td>Evit000  </td><td>Cu000    </td><td>1        </td><td>26.5     </td><td>49.09998 </td><td>45.200001</td><td>5        </td></tr>\n",
       "\t<tr><td>4601     </td><td>Evit000  </td><td>Cu000    </td><td>1        </td><td>26.5     </td><td>55.39999 </td><td>56.900002</td><td>6        </td></tr>\n",
       "</tbody>\n",
       "</table>\n"
      ],
      "text/latex": [
       "\\begin{tabular}{r|llllllll}\n",
       " Pig & Evit & Cu & Litter & Start & Weight & Feed & Time\\\\\n",
       "\\hline\n",
       "\t 4601      & Evit000   & Cu000     & 1         & 26.5      & 26.50000  &        NA & 1        \\\\\n",
       "\t 4601      & Evit000   & Cu000     & 1         & 26.5      & 27.59999  &  5.200005 & 2        \\\\\n",
       "\t 4601      & Evit000   & Cu000     & 1         & 26.5      & 36.50000  & 17.600000 & 3        \\\\\n",
       "\t 4601      & Evit000   & Cu000     & 1         & 26.5      & 40.29999  & 28.500000 & 4        \\\\\n",
       "\t 4601      & Evit000   & Cu000     & 1         & 26.5      & 49.09998  & 45.200001 & 5        \\\\\n",
       "\t 4601      & Evit000   & Cu000     & 1         & 26.5      & 55.39999  & 56.900002 & 6        \\\\\n",
       "\\end{tabular}\n"
      ],
      "text/markdown": [
       "\n",
       "| Pig | Evit | Cu | Litter | Start | Weight | Feed | Time |\n",
       "|---|---|---|---|---|---|---|---|\n",
       "| 4601      | Evit000   | Cu000     | 1         | 26.5      | 26.50000  |        NA | 1         |\n",
       "| 4601      | Evit000   | Cu000     | 1         | 26.5      | 27.59999  |  5.200005 | 2         |\n",
       "| 4601      | Evit000   | Cu000     | 1         | 26.5      | 36.50000  | 17.600000 | 3         |\n",
       "| 4601      | Evit000   | Cu000     | 1         | 26.5      | 40.29999  | 28.500000 | 4         |\n",
       "| 4601      | Evit000   | Cu000     | 1         | 26.5      | 49.09998  | 45.200001 | 5         |\n",
       "| 4601      | Evit000   | Cu000     | 1         | 26.5      | 55.39999  | 56.900002 | 6         |\n",
       "\n"
      ],
      "text/plain": [
       "  Pig  Evit    Cu    Litter Start Weight   Feed      Time\n",
       "1 4601 Evit000 Cu000 1      26.5  26.50000        NA 1   \n",
       "2 4601 Evit000 Cu000 1      26.5  27.59999  5.200005 2   \n",
       "3 4601 Evit000 Cu000 1      26.5  36.50000 17.600000 3   \n",
       "4 4601 Evit000 Cu000 1      26.5  40.29999 28.500000 4   \n",
       "5 4601 Evit000 Cu000 1      26.5  49.09998 45.200001 5   \n",
       "6 4601 Evit000 Cu000 1      26.5  55.39999 56.900002 6   "
      ]
     },
     "metadata": {},
     "output_type": "display_data"
    }
   ],
   "source": [
    "###################### Lectura de los datos ######################\n",
    "data(dietox, package=\"geepack\")\n",
    "dietox$Cu <- as.factor(dietox$Cu)\n",
    "str(dietox)\n",
    "head(dietox)"
   ]
  },
  {
   "cell_type": "markdown",
   "metadata": {},
   "source": []
  },
  {
   "cell_type": "code",
   "execution_count": 8,
   "metadata": {},
   "outputs": [],
   "source": [
    "###################### Estimación del modelo ######################\n",
    "fit201 <- geeglm(Weight ~ Cu*poly(Time,3), data=dietox, id=Pig, family=poisson(\"identity\"), corstr=\"AR-1\")\n",
    "fit202 <- geeglm(Weight ~ Cu*poly(Time,3), data=dietox, id=Pig, family=poisson(\"identity\"), corstr=\"Exchangeable\")\n",
    "fit203 <- geeglm(Weight ~ Cu*poly(Time,3), data=dietox, id=Pig, family=poisson(\"identity\"), corstr=\"Stationary-M-dependent(2)\")\n",
    "fit204 <- geeglm(Weight ~ Cu*poly(Time,3), data=dietox, id=Pig, family=poisson(\"identity\"), corstr=\"Non-Stationary-M-dependent(2)\")"
   ]
  },
  {
   "cell_type": "markdown",
   "metadata": {},
   "source": []
  },
  {
   "cell_type": "code",
   "execution_count": 9,
   "metadata": {},
   "outputs": [
    {
     "name": "stdout",
     "output_type": "stream",
     "text": [
      "\n",
      "Variance to mean relation:  poisson \n",
      "                     Link:  identity \n",
      "         Linear predictor:  1 + Cu + poly(Time, 3) + Cu:poly(Time, 3) \n",
      "\n",
      " Object                   Correlation -2*quasi-likelihood  df     QIC  \n",
      " fit201                          AR-1           -423844.5  12 -423777.1\n",
      " fit202                  Exchangeable           -424572.7  12 -424505.0\n",
      " fit203     Stationary-M-dependent(2)           -422709.4  12 -422640.7\n",
      " fit204 Non-Stationary-M-dependent(2)           -422717.4  12 -422648.7\n"
     ]
    }
   ],
   "source": [
    "###################### Valores del QIC ######################\n",
    "QIC(fit201,fit202,fit203,fit204)"
   ]
  },
  {
   "cell_type": "code",
   "execution_count": 10,
   "metadata": {},
   "outputs": [
    {
     "name": "stdout",
     "output_type": "stream",
     "text": [
      "\n",
      "Sample size\n",
      "       Number of clusters:  72\n",
      "     Minimum cluster size:  11\n",
      "     Maximum cluster size:  12\n",
      "*************************************************************\n",
      "Model\n",
      "Variance to mean relation:  poisson\n",
      "                     Link:  identity\n",
      "    Correlation structure:  Exchangeable\n",
      "*************************************************************\n",
      "Coefficients\n",
      "                        Estimate Std.Error   z-value   Pr(>|z|)\n",
      "(Intercept)             60.41130   1.02612  58.87379 < 2.22e-16\n",
      "CuCu035                 -0.84112   1.55978  -0.53926    0.58971\n",
      "CuCu175                  1.77529   1.87472   0.94696    0.34366\n",
      "poly(Time, 3)1         704.89515  12.18525  57.84821 < 2.22e-16\n",
      "poly(Time, 3)2          34.55083   7.80446   4.42706 9.5526e-06\n",
      "poly(Time, 3)3         -17.67932   2.93970  -6.01399 1.8102e-09\n",
      "CuCu035:poly(Time, 3)1 -11.14901  17.27515  -0.64538    0.51868\n",
      "CuCu175:poly(Time, 3)1   0.63366  20.63728   0.03070    0.97550\n",
      "CuCu035:poly(Time, 3)2   3.00243  11.09465   0.27062    0.78668\n",
      "CuCu175:poly(Time, 3)2 -13.31171   8.99959  -1.47915    0.13910\n",
      "CuCu035:poly(Time, 3)3  -4.19968   4.56431  -0.92011    0.35751\n",
      "CuCu175:poly(Time, 3)3   3.29572   5.62640   0.58576    0.55804\n",
      "\n",
      "Dispersion  0.7849 \n",
      "*************************************************************\n",
      "Goodness-of-fit statistics\n",
      "      -2*quasi-likelihood:  -424572.7 \n",
      "                      QIC:  -424505 \n",
      "                     QICu:  -424548.7 \n",
      " Deviance-based R-squared:  0.923 \n",
      "*************************************************************\n",
      "Working correlation\n",
      "       [1]    [2]    [3]    [4]    [5]    [6]    [7]    [8]    [9]   [10] \n",
      "[1]  1.0000 0.8314 0.8314 0.8314 0.8314 0.8314 0.8314 0.8314 0.8314 0.8314\n",
      "[2]  0.8314 1.0000 0.8314 0.8314 0.8314 0.8314 0.8314 0.8314 0.8314 0.8314\n",
      "[3]  0.8314 0.8314 1.0000 0.8314 0.8314 0.8314 0.8314 0.8314 0.8314 0.8314\n",
      "[4]  0.8314 0.8314 0.8314 1.0000 0.8314 0.8314 0.8314 0.8314 0.8314 0.8314\n",
      "[5]  0.8314 0.8314 0.8314 0.8314 1.0000 0.8314 0.8314 0.8314 0.8314 0.8314\n",
      "[6]  0.8314 0.8314 0.8314 0.8314 0.8314 1.0000 0.8314 0.8314 0.8314 0.8314\n",
      "[7]  0.8314 0.8314 0.8314 0.8314 0.8314 0.8314 1.0000 0.8314 0.8314 0.8314\n",
      "[8]  0.8314 0.8314 0.8314 0.8314 0.8314 0.8314 0.8314 1.0000 0.8314 0.8314\n",
      "[9]  0.8314 0.8314 0.8314 0.8314 0.8314 0.8314 0.8314 0.8314 1.0000 0.8314\n",
      "[10] 0.8314 0.8314 0.8314 0.8314 0.8314 0.8314 0.8314 0.8314 0.8314 1.0000\n",
      "[11] 0.8314 0.8314 0.8314 0.8314 0.8314 0.8314 0.8314 0.8314 0.8314 0.8314\n",
      "[12] 0.8314 0.8314 0.8314 0.8314 0.8314 0.8314 0.8314 0.8314 0.8314 0.8314\n",
      "      [11]   [12] \n",
      "[1]  0.8314 0.8314\n",
      "[2]  0.8314 0.8314\n",
      "[3]  0.8314 0.8314\n",
      "[4]  0.8314 0.8314\n",
      "[5]  0.8314 0.8314\n",
      "[6]  0.8314 0.8314\n",
      "[7]  0.8314 0.8314\n",
      "[8]  0.8314 0.8314\n",
      "[9]  0.8314 0.8314\n",
      "[10] 0.8314 0.8314\n",
      "[11] 1.0000 0.8314\n",
      "[12] 0.8314 1.0000\n"
     ]
    }
   ],
   "source": [
    "###################### Resumen del modelo seleccionado ######################\n",
    "summary(fit202)"
   ]
  },
  {
   "cell_type": "code",
   "execution_count": 11,
   "metadata": {},
   "outputs": [
    {
     "name": "stdout",
     "output_type": "stream",
     "text": [
      "\n",
      "  Wald test \n",
      "\n",
      " Model 1:  Weight ~ Cu * poly(Time, 3) \n",
      " Model 2:  Weight ~ Cu + poly(Time, 3) \n",
      "\n",
      "   Chi    Df   Pr(>Chi)\n",
      "  7.3539   6     0.2894\n"
     ]
    }
   ],
   "source": [
    "###################### Test de Wald ######################\n",
    "fit205 <- geeglm(Weight ~ Cu + poly(Time,3), data=dietox, id=Pig, family=poisson(\"identity\"), corstr=\"Exchangeable\")\n",
    "anova_glm(fit202,fit205,test=\"wald\")"
   ]
  },
  {
   "cell_type": "code",
   "execution_count": 12,
   "metadata": {},
   "outputs": [
    {
     "name": "stdout",
     "output_type": "stream",
     "text": [
      "\n",
      "  Generalized score test \n",
      "\n",
      " Model 1:  Weight ~ Cu * poly(Time, 3) \n",
      " Model 2:  Weight ~ Cu + poly(Time, 3) \n",
      "\n",
      "   Chi    Df   Pr(>Chi)\n",
      "  6.4003   6     0.3799\n"
     ]
    }
   ],
   "source": [
    "###################### Test de score ######################\n",
    "anova_glm(fit202,fit205,test=\"score\")"
   ]
  },
  {
   "cell_type": "code",
   "execution_count": 13,
   "metadata": {},
   "outputs": [
    {
     "name": "stdout",
     "output_type": "stream",
     "text": [
      "\n",
      "Sample size\n",
      "       Number of clusters:  72\n",
      "     Minimum cluster size:  11\n",
      "     Maximum cluster size:  12\n",
      "*************************************************************\n",
      "Model\n",
      "Variance to mean relation:  poisson\n",
      "                     Link:  identity\n",
      "    Correlation structure:  Exchangeable\n",
      "*************************************************************\n",
      "Coefficients\n",
      "                Estimate Std.Error   z-value   Pr(>|z|)\n",
      "(Intercept)     60.12576   1.27189  47.27282 < 2.22e-16\n",
      "CuCu035          0.74897   1.56198   0.47950    0.63158\n",
      "CuCu175          0.97935   1.73719   0.56376    0.57292\n",
      "poly(Time, 3)1 701.23054   8.02972  87.32944 < 2.22e-16\n",
      "poly(Time, 3)2  31.16701   4.08229   7.63468 2.2637e-14\n",
      "poly(Time, 3)3 -18.05992   2.24300  -8.05167 8.1674e-16\n",
      "\n",
      "Dispersion  0.80025 \n",
      "*************************************************************\n",
      "Goodness-of-fit statistics\n",
      "      -2*quasi-likelihood:  -416409.5 \n",
      "                      QIC:  -416348.5 \n",
      "                     QICu:  -416397.5 \n",
      " Deviance-based R-squared:  0.922 \n",
      "*************************************************************\n",
      "Working correlation\n",
      "       [1]    [2]    [3]    [4]    [5]    [6]    [7]    [8]    [9]   [10] \n",
      "[1]  1.0000 0.8384 0.8384 0.8384 0.8384 0.8384 0.8384 0.8384 0.8384 0.8384\n",
      "[2]  0.8384 1.0000 0.8384 0.8384 0.8384 0.8384 0.8384 0.8384 0.8384 0.8384\n",
      "[3]  0.8384 0.8384 1.0000 0.8384 0.8384 0.8384 0.8384 0.8384 0.8384 0.8384\n",
      "[4]  0.8384 0.8384 0.8384 1.0000 0.8384 0.8384 0.8384 0.8384 0.8384 0.8384\n",
      "[5]  0.8384 0.8384 0.8384 0.8384 1.0000 0.8384 0.8384 0.8384 0.8384 0.8384\n",
      "[6]  0.8384 0.8384 0.8384 0.8384 0.8384 1.0000 0.8384 0.8384 0.8384 0.8384\n",
      "[7]  0.8384 0.8384 0.8384 0.8384 0.8384 0.8384 1.0000 0.8384 0.8384 0.8384\n",
      "[8]  0.8384 0.8384 0.8384 0.8384 0.8384 0.8384 0.8384 1.0000 0.8384 0.8384\n",
      "[9]  0.8384 0.8384 0.8384 0.8384 0.8384 0.8384 0.8384 0.8384 1.0000 0.8384\n",
      "[10] 0.8384 0.8384 0.8384 0.8384 0.8384 0.8384 0.8384 0.8384 0.8384 1.0000\n",
      "[11] 0.8384 0.8384 0.8384 0.8384 0.8384 0.8384 0.8384 0.8384 0.8384 0.8384\n",
      "[12] 0.8384 0.8384 0.8384 0.8384 0.8384 0.8384 0.8384 0.8384 0.8384 0.8384\n",
      "      [11]   [12] \n",
      "[1]  0.8384 0.8384\n",
      "[2]  0.8384 0.8384\n",
      "[3]  0.8384 0.8384\n",
      "[4]  0.8384 0.8384\n",
      "[5]  0.8384 0.8384\n",
      "[6]  0.8384 0.8384\n",
      "[7]  0.8384 0.8384\n",
      "[8]  0.8384 0.8384\n",
      "[9]  0.8384 0.8384\n",
      "[10] 0.8384 0.8384\n",
      "[11] 1.0000 0.8384\n",
      "[12] 0.8384 1.0000\n"
     ]
    }
   ],
   "source": [
    "###################### Resumen del modelo seleccionado ######################\n",
    "summary(fit205)"
   ]
  },
  {
   "cell_type": "code",
   "execution_count": 14,
   "metadata": {},
   "outputs": [
    {
     "name": "stdout",
     "output_type": "stream",
     "text": [
      "\n",
      "  Wald test \n",
      "\n",
      " Model 1:  Weight ~ Cu + poly(Time, 3) \n",
      " Model 2:  Weight ~ poly(Time, 3) \n",
      "\n",
      "    Chi    Df   Pr(>Chi)\n",
      "  0.36461   2     0.8333\n"
     ]
    }
   ],
   "source": [
    "\n",
    "###################### Test de Wald ######################\n",
    "fit206 <- geeglm(Weight ~ poly(Time,3), data=dietox, id=Pig, family=poisson(\"identity\"), corstr=\"Exchangeable\")\n",
    "anova_glm(fit206,fit205,test=\"wald\")\n"
   ]
  },
  {
   "cell_type": "code",
   "execution_count": 15,
   "metadata": {},
   "outputs": [
    {
     "name": "stdout",
     "output_type": "stream",
     "text": [
      "\n",
      "  Generalized score test \n",
      "\n",
      " Model 1:  Weight ~ Cu + poly(Time, 3) \n",
      " Model 2:  Weight ~ poly(Time, 3) \n",
      "\n",
      "    Chi    Df   Pr(>Chi)\n",
      "  0.35954   2     0.8355\n"
     ]
    }
   ],
   "source": [
    "###################### Test de score ######################\n",
    "anova_glm(fit206,fit205,test=\"score\")"
   ]
  },
  {
   "cell_type": "code",
   "execution_count": 16,
   "metadata": {},
   "outputs": [
    {
     "name": "stdout",
     "output_type": "stream",
     "text": [
      "\n",
      "Sample size\n",
      "       Number of clusters:  72\n",
      "     Minimum cluster size:  11\n",
      "     Maximum cluster size:  12\n",
      "*************************************************************\n",
      "Model\n",
      "Variance to mean relation:  poisson\n",
      "                     Link:  identity\n",
      "    Correlation structure:  Exchangeable\n",
      "*************************************************************\n",
      "Coefficients\n",
      "                Estimate Std.Error   z-value   Pr(>|z|)\n",
      "(Intercept)     60.71040   0.75131  80.80606 < 2.22e-16\n",
      "poly(Time, 3)1 701.20402   8.02054  87.42603 < 2.22e-16\n",
      "poly(Time, 3)2  31.12154   4.07612   7.63509 2.2566e-14\n",
      "poly(Time, 3)3 -18.05711   2.25281  -8.01537 1.0981e-15\n",
      "\n",
      "Dispersion  0.80387 \n",
      "*************************************************************\n",
      "Goodness-of-fit statistics\n",
      "      -2*quasi-likelihood:  -414530.7 \n",
      "                      QIC:  -414507.8 \n",
      "                     QICu:  -414522.7 \n",
      " Deviance-based R-squared:  0.922 \n",
      "*************************************************************\n",
      "Working correlation\n",
      "       [1]    [2]    [3]    [4]    [5]    [6]    [7]    [8]    [9]   [10] \n",
      "[1]  1.0000 0.8408 0.8408 0.8408 0.8408 0.8408 0.8408 0.8408 0.8408 0.8408\n",
      "[2]  0.8408 1.0000 0.8408 0.8408 0.8408 0.8408 0.8408 0.8408 0.8408 0.8408\n",
      "[3]  0.8408 0.8408 1.0000 0.8408 0.8408 0.8408 0.8408 0.8408 0.8408 0.8408\n",
      "[4]  0.8408 0.8408 0.8408 1.0000 0.8408 0.8408 0.8408 0.8408 0.8408 0.8408\n",
      "[5]  0.8408 0.8408 0.8408 0.8408 1.0000 0.8408 0.8408 0.8408 0.8408 0.8408\n",
      "[6]  0.8408 0.8408 0.8408 0.8408 0.8408 1.0000 0.8408 0.8408 0.8408 0.8408\n",
      "[7]  0.8408 0.8408 0.8408 0.8408 0.8408 0.8408 1.0000 0.8408 0.8408 0.8408\n",
      "[8]  0.8408 0.8408 0.8408 0.8408 0.8408 0.8408 0.8408 1.0000 0.8408 0.8408\n",
      "[9]  0.8408 0.8408 0.8408 0.8408 0.8408 0.8408 0.8408 0.8408 1.0000 0.8408\n",
      "[10] 0.8408 0.8408 0.8408 0.8408 0.8408 0.8408 0.8408 0.8408 0.8408 1.0000\n",
      "[11] 0.8408 0.8408 0.8408 0.8408 0.8408 0.8408 0.8408 0.8408 0.8408 0.8408\n",
      "[12] 0.8408 0.8408 0.8408 0.8408 0.8408 0.8408 0.8408 0.8408 0.8408 0.8408\n",
      "      [11]   [12] \n",
      "[1]  0.8408 0.8408\n",
      "[2]  0.8408 0.8408\n",
      "[3]  0.8408 0.8408\n",
      "[4]  0.8408 0.8408\n",
      "[5]  0.8408 0.8408\n",
      "[6]  0.8408 0.8408\n",
      "[7]  0.8408 0.8408\n",
      "[8]  0.8408 0.8408\n",
      "[9]  0.8408 0.8408\n",
      "[10] 0.8408 0.8408\n",
      "[11] 1.0000 0.8408\n",
      "[12] 0.8408 1.0000\n"
     ]
    }
   ],
   "source": [
    "###################### Resumen del modelo seleccionado ######################\n",
    "summary(fit206)"
   ]
  },
  {
   "cell_type": "code",
   "execution_count": 17,
   "metadata": {},
   "outputs": [
    {
     "data": {
      "image/png": "[encoded data removed]",
      "text/plain": [
       "plot without title"
      ]
     },
     "metadata": {},
     "output_type": "display_data"
    }
   ],
   "source": [
    "###################### Análisis de residuos ######################\n",
    "residuals(fit206,out=FALSE,plot=TRUE,type=\"mahalanobis\",identify=1)"
   ]
  },
  {
   "cell_type": "code",
   "execution_count": 18,
   "metadata": {},
   "outputs": [
    {
     "data": {
      "image/png": "[encoded data removed]",
      "text/plain": [
       "plot without title"
      ]
     },
     "metadata": {},
     "output_type": "display_data"
    }
   ],
   "source": [
    "###################### Análisis de sensibilidad ######################\n",
    "CookDistance(fit206,plot=TRUE,out=FALSE,identify=3)"
   ]
  }
 ],
 "metadata": {
  "kernelspec": {
   "display_name": "R",
   "language": "R",
   "name": "ir"
  },
  "language_info": {
   "codemirror_mode": "r",
   "file_extension": ".r",
   "mimetype": "text/x-r-source",
   "name": "R",
   "pygments_lexer": "r",
   "version": "3.6.1"
  }
 },
 "nbformat": 4,
 "nbformat_minor": 2
}
