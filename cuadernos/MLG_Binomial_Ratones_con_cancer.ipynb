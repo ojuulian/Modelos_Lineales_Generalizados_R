{
 "cells": [
  {
   "cell_type": "markdown",
   "metadata": {},
   "source": [
    "<img src=\"./unal.png\" align=left width=\"150\" height=\"150\"></img>\n",
    "\n",
    "$\\;$\n",
    "\n",
    "---\n",
    "<h2 align=\"center\">MLG Ratones con cancer de vejiga </h2>\n",
    "\n",
    "### Oscar Julian Layton\n",
    "\n",
    "Estos datos, extraídos de Zhang y Zelterman (1999) y presentados en la siguientes tabla, surgen de un experimento donde grupos de ratones hembra que fueron alimentados con dosis muy bajas de 2-acetilaminofluoreno, un derivado carcinógeno y mutagénico\n",
    "del fluoreno. Luego de la exposición al 2-acetilaminofluoreno los ratones se examinaron en busca de tumores y se registro el número de casos de cáncer (de **higado** y **vejiga**). \n",
    "\n",
    "* **Dosis**\n",
    "* **Expuestos**\n",
    "* **Enfermos**"
   ]
  },
  {
   "cell_type": "code",
   "execution_count": null,
   "metadata": {},
   "outputs": [],
   "source": [
    "#rm(list=ls())\n",
    "getwd()\n",
    "setwd(\"\")  #Asignando capeta busqueda por default\n",
    "source(\"macros.txt\")           # Llamar el archivo de macros que esta en la carpeta especifica,\n",
    "                               # macros son una fuciines especificas creadas porel profesor"
   ]
  },
  {
   "cell_type": "code",
   "execution_count": 59,
   "metadata": {},
   "outputs": [
    {
     "name": "stderr",
     "output_type": "stream",
     "text": [
      "The following objects are masked from higado (pos = 4):\n",
      "\n",
      "    Dosis, Enfermos, Expuestos\n",
      "\n",
      "The following objects are masked from higado (pos = 6):\n",
      "\n",
      "    Dosis, Enfermos, Expuestos\n",
      "\n",
      "The following objects are masked from higado (pos = 8):\n",
      "\n",
      "    Dosis, Enfermos, Expuestos\n",
      "\n",
      "The following objects are masked from vejiga (pos = 4):\n",
      "\n",
      "    Dosisv, Enfermosv, Expuestosv\n",
      "\n",
      "The following objects are masked from vejiga (pos = 6):\n",
      "\n",
      "    Dosisv, Enfermosv, Expuestosv\n",
      "\n",
      "The following objects are masked from vejiga (pos = 8):\n",
      "\n",
      "    Dosisv, Enfermosv, Expuestosv\n",
      "\n"
     ]
    }
   ],
   "source": [
    "library(\"tidyverse\")\n",
    "higado <- structure(list(dosis = c(0.00,0.30,0.35,0.45,0.60,0.75,1.00,1.50)\n",
    "                    , n_h = c(555,2014,1102,550,441,382,213,211)\n",
    "                    , y_h = c(6,34,20,15,13,17,19,24))\n",
    "                    , .Names = c(\"Dosis\", \"Expuestos\", \"Enfermos\")\n",
    "                    , row.names = c(NA, -8L), class = \"data.frame\")\n",
    "attach(higado)\n",
    "vejiga <- structure(list(dosis = c(0.00,0.30,0.35,0.45,0.60,0.75,1.00,1.50)\n",
    "                    , n_v = c(101,443,200,103,66,75,31,11)\n",
    "                    , y_v = c(1,5,0,2,2,12,21,11))\n",
    "                    , .Names = c(\"Dosisv\", \"Expuestosv\", \"Enfermosv\")\n",
    "                    , row.names = c(NA, -8L), class = \"data.frame\")\n",
    "attach(vejiga)\n",
    "a <- 0.05\n",
    "data_v <-vejiga %>% mutate(p = ifelse(Enfermosv/Expuestosv == 0 |\n",
    "     Enfermosv/Expuestosv == 1 ,\n",
    "     abs(Enfermosv/Expuestosv-a/Expuestosv),\n",
    "    Enfermosv/Expuestosv))"
   ]
  },
  {
   "cell_type": "code",
   "execution_count": 60,
   "metadata": {},
   "outputs": [
    {
     "data": {
      "text/html": [
       "<table>\n",
       "<thead><tr><th scope=col>Dosis</th><th scope=col>Expuestos</th><th scope=col>Enfermos</th></tr></thead>\n",
       "<tbody>\n",
       "\t<tr><td>0.00</td><td> 555</td><td> 6  </td></tr>\n",
       "\t<tr><td>0.30</td><td>2014</td><td>34  </td></tr>\n",
       "\t<tr><td>0.35</td><td>1102</td><td>20  </td></tr>\n",
       "\t<tr><td>0.45</td><td> 550</td><td>15  </td></tr>\n",
       "\t<tr><td>0.60</td><td> 441</td><td>13  </td></tr>\n",
       "\t<tr><td>0.75</td><td> 382</td><td>17  </td></tr>\n",
       "\t<tr><td>1.00</td><td> 213</td><td>19  </td></tr>\n",
       "\t<tr><td>1.50</td><td> 211</td><td>24  </td></tr>\n",
       "</tbody>\n",
       "</table>\n"
      ],
      "text/latex": [
       "\\begin{tabular}{r|lll}\n",
       " Dosis & Expuestos & Enfermos\\\\\n",
       "\\hline\n",
       "\t 0.00 &  555 &  6  \\\\\n",
       "\t 0.30 & 2014 & 34  \\\\\n",
       "\t 0.35 & 1102 & 20  \\\\\n",
       "\t 0.45 &  550 & 15  \\\\\n",
       "\t 0.60 &  441 & 13  \\\\\n",
       "\t 0.75 &  382 & 17  \\\\\n",
       "\t 1.00 &  213 & 19  \\\\\n",
       "\t 1.50 &  211 & 24  \\\\\n",
       "\\end{tabular}\n"
      ],
      "text/markdown": [
       "\n",
       "| Dosis | Expuestos | Enfermos |\n",
       "|---|---|---|\n",
       "| 0.00 |  555 |  6   |\n",
       "| 0.30 | 2014 | 34   |\n",
       "| 0.35 | 1102 | 20   |\n",
       "| 0.45 |  550 | 15   |\n",
       "| 0.60 |  441 | 13   |\n",
       "| 0.75 |  382 | 17   |\n",
       "| 1.00 |  213 | 19   |\n",
       "| 1.50 |  211 | 24   |\n",
       "\n"
      ],
      "text/plain": [
       "  Dosis Expuestos Enfermos\n",
       "1 0.00   555       6      \n",
       "2 0.30  2014      34      \n",
       "3 0.35  1102      20      \n",
       "4 0.45   550      15      \n",
       "5 0.60   441      13      \n",
       "6 0.75   382      17      \n",
       "7 1.00   213      19      \n",
       "8 1.50   211      24      "
      ]
     },
     "metadata": {},
     "output_type": "display_data"
    },
    {
     "data": {
      "text/html": [
       "<table>\n",
       "<thead><tr><th scope=col>Dosisv</th><th scope=col>Expuestosv</th><th scope=col>Enfermosv</th></tr></thead>\n",
       "<tbody>\n",
       "\t<tr><td>0.00</td><td>101 </td><td> 1  </td></tr>\n",
       "\t<tr><td>0.30</td><td>443 </td><td> 5  </td></tr>\n",
       "\t<tr><td>0.35</td><td>200 </td><td> 0  </td></tr>\n",
       "\t<tr><td>0.45</td><td>103 </td><td> 2  </td></tr>\n",
       "\t<tr><td>0.60</td><td> 66 </td><td> 2  </td></tr>\n",
       "\t<tr><td>0.75</td><td> 75 </td><td>12  </td></tr>\n",
       "\t<tr><td>1.00</td><td> 31 </td><td>21  </td></tr>\n",
       "\t<tr><td>1.50</td><td> 11 </td><td>11  </td></tr>\n",
       "</tbody>\n",
       "</table>\n"
      ],
      "text/latex": [
       "\\begin{tabular}{r|lll}\n",
       " Dosisv & Expuestosv & Enfermosv\\\\\n",
       "\\hline\n",
       "\t 0.00 & 101  &  1  \\\\\n",
       "\t 0.30 & 443  &  5  \\\\\n",
       "\t 0.35 & 200  &  0  \\\\\n",
       "\t 0.45 & 103  &  2  \\\\\n",
       "\t 0.60 &  66  &  2  \\\\\n",
       "\t 0.75 &  75  & 12  \\\\\n",
       "\t 1.00 &  31  & 21  \\\\\n",
       "\t 1.50 &  11  & 11  \\\\\n",
       "\\end{tabular}\n"
      ],
      "text/markdown": [
       "\n",
       "| Dosisv | Expuestosv | Enfermosv |\n",
       "|---|---|---|\n",
       "| 0.00 | 101  |  1   |\n",
       "| 0.30 | 443  |  5   |\n",
       "| 0.35 | 200  |  0   |\n",
       "| 0.45 | 103  |  2   |\n",
       "| 0.60 |  66  |  2   |\n",
       "| 0.75 |  75  | 12   |\n",
       "| 1.00 |  31  | 21   |\n",
       "| 1.50 |  11  | 11   |\n",
       "\n"
      ],
      "text/plain": [
       "  Dosisv Expuestosv Enfermosv\n",
       "1 0.00   101         1       \n",
       "2 0.30   443         5       \n",
       "3 0.35   200         0       \n",
       "4 0.45   103         2       \n",
       "5 0.60    66         2       \n",
       "6 0.75    75        12       \n",
       "7 1.00    31        21       \n",
       "8 1.50    11        11       "
      ]
     },
     "metadata": {},
     "output_type": "display_data"
    }
   ],
   "source": [
    "higado;vejiga"
   ]
  },
  {
   "cell_type": "markdown",
   "metadata": {},
   "source": [
    " * **a)** Analice los datos para cada tipo de cáncer separadamente. Ajuste a los datos modelos de respuesta binomial con funciones de enlace logit, probit, complemento log-log y Cauchy. Use los criterios AIC, BIC y $R_{D}^2$  para comparar y seleccionar el “mejor” modelo para cada tipo de cáncer"
   ]
  },
  {
   "cell_type": "markdown",
   "metadata": {},
   "source": [
    "Denotemos por $Y_k$ la variable aleatoria que mide la proporción de ratones que presentan cáncer después de recibir cierta dosis de 2-acetilaminofluoreno, con $k = 1, · · · , 8$, entonces:\n",
    "\n",
    "$$m_k Y_k \\; \\sim \\; Bin(m_k, µ_k)$$\n",
    "\n",
    "Donde $m_k$ es el número de ratones hembra que fueron expuestros al derivado del fluoreno. Sí $Y_1, · · · , Y_8$ son independientes y $\\mu_k$ depende de la dosis $x_k$ a través de la función $g(.)$, considerando las funciones de enlace logit, probit, complemento log-log y Cauchy, se ajustan los siguientes modelos:"
   ]
  },
  {
   "cell_type": "code",
   "execution_count": 85,
   "metadata": {},
   "outputs": [],
   "source": [
    "#-------------------Higado----------------------------------------------------------------\n",
    "#logit_h\n",
    "fit1<- glm(Enfermos/Expuestos ~ Dosis, weights = Expuestos, family =binomial(link = \"logit\"))\n",
    "\n",
    "#probit_h\n",
    "fit2<- glm(Enfermos/Expuestos ~ Dosis, weights = Expuestos, family =binomial(link = \"probit\"))\n",
    "\n",
    "#loglog_h\n",
    "fit3<- glm(Enfermos/Expuestos ~ Dosis, weights = Expuestos, family =binomial(link = \"cloglog\"))\n",
    "#cloglog es complementary loglog\n",
    "\n",
    "#cauchy_h\n",
    "fit4<- glm(Enfermos/Expuestos ~ Dosis, weights = Expuestos, family =binomial(link = \"cauchit\"))\n",
    "\n",
    "#AIC(fit1,fit2,fit3,fit4)\n",
    "#BIC(fit1,fit2,fit3,fit4)\n",
    "#gof_glm(fit1)\n",
    "#gof_glm(fit2)\n",
    "#gof_glm(fit3)\n",
    "#gof_glm(fit4)\n"
   ]
  },
  {
   "cell_type": "code",
   "execution_count": 62,
   "metadata": {},
   "outputs": [
    {
     "data": {
      "text/html": [
       "<table>\n",
       "<thead><tr><th></th><th scope=col>df</th><th scope=col>BIC</th></tr></thead>\n",
       "<tbody>\n",
       "\t<tr><th scope=row>fit1</th><td>2       </td><td>45.65330</td></tr>\n",
       "\t<tr><th scope=row>fit2</th><td>2       </td><td>44.64968</td></tr>\n",
       "\t<tr><th scope=row>fit3</th><td>2       </td><td>45.90280</td></tr>\n",
       "\t<tr><th scope=row>fit4</th><td>2       </td><td>57.65330</td></tr>\n",
       "</tbody>\n",
       "</table>\n"
      ],
      "text/latex": [
       "\\begin{tabular}{r|ll}\n",
       "  & df & BIC\\\\\n",
       "\\hline\n",
       "\tfit1 & 2        & 45.65330\\\\\n",
       "\tfit2 & 2        & 44.64968\\\\\n",
       "\tfit3 & 2        & 45.90280\\\\\n",
       "\tfit4 & 2        & 57.65330\\\\\n",
       "\\end{tabular}\n"
      ],
      "text/markdown": [
       "\n",
       "| <!--/--> | df | BIC |\n",
       "|---|---|---|\n",
       "| fit1 | 2        | 45.65330 |\n",
       "| fit2 | 2        | 44.64968 |\n",
       "| fit3 | 2        | 45.90280 |\n",
       "| fit4 | 2        | 57.65330 |\n",
       "\n"
      ],
      "text/plain": [
       "     df BIC     \n",
       "fit1 2  45.65330\n",
       "fit2 2  44.64968\n",
       "fit3 2  45.90280\n",
       "fit4 2  57.65330"
      ]
     },
     "metadata": {},
     "output_type": "display_data"
    }
   ],
   "source": [
    "BIC(fit1,fit2,fit3,fit4)"
   ]
  },
  {
   "cell_type": "markdown",
   "metadata": {},
   "source": [
    "###  Selección del modelo mediante BIC\n",
    "\n",
    "Para los modelos ajustados en los individuos que presentarón cáncer de higado, se tiene que el BIC del modelo con mejor calidad de ajuste es fit2, es decir el modelo con link probit.\n",
    "\n",
    "Para los datos que hacen referentia a cáncer de vejiga se realiza el ajuste para los modelos binomiales con diferentes funciones de enlace se tiene:"
   ]
  },
  {
   "cell_type": "code",
   "execution_count": 88,
   "metadata": {},
   "outputs": [
    {
     "name": "stderr",
     "output_type": "stream",
     "text": [
      "Warning message:\n",
      "\"glm.fit: fitted probabilities numerically 0 or 1 occurred\""
     ]
    },
    {
     "data": {
      "text/html": [
       "<table>\n",
       "<thead><tr><th></th><th scope=col>df</th><th scope=col>BIC</th></tr></thead>\n",
       "<tbody>\n",
       "\t<tr><th scope=row>fit11</th><td>2       </td><td>34.17801</td></tr>\n",
       "\t<tr><th scope=row>fit21</th><td>2       </td><td>41.97665</td></tr>\n",
       "\t<tr><th scope=row>fit31</th><td>2       </td><td>32.12375</td></tr>\n",
       "\t<tr><th scope=row>fit41</th><td>2       </td><td>43.66368</td></tr>\n",
       "</tbody>\n",
       "</table>\n"
      ],
      "text/latex": [
       "\\begin{tabular}{r|ll}\n",
       "  & df & BIC\\\\\n",
       "\\hline\n",
       "\tfit11 & 2        & 34.17801\\\\\n",
       "\tfit21 & 2        & 41.97665\\\\\n",
       "\tfit31 & 2        & 32.12375\\\\\n",
       "\tfit41 & 2        & 43.66368\\\\\n",
       "\\end{tabular}\n"
      ],
      "text/markdown": [
       "\n",
       "| <!--/--> | df | BIC |\n",
       "|---|---|---|\n",
       "| fit11 | 2        | 34.17801 |\n",
       "| fit21 | 2        | 41.97665 |\n",
       "| fit31 | 2        | 32.12375 |\n",
       "| fit41 | 2        | 43.66368 |\n",
       "\n"
      ],
      "text/plain": [
       "      df BIC     \n",
       "fit11 2  34.17801\n",
       "fit21 2  41.97665\n",
       "fit31 2  32.12375\n",
       "fit41 2  43.66368"
      ]
     },
     "metadata": {},
     "output_type": "display_data"
    }
   ],
   "source": [
    "#--------------------------Vejiga--------------------------------------------------------------\n",
    "#logit_v\n",
    "fit11<- glm(Enfermosv/Expuestosv ~ Dosisv, weights = Expuestosv, family =binomial(link = \"logit\"))\n",
    "\n",
    "#probit_v\n",
    "fit21<- glm(Enfermosv/Expuestosv ~ Dosisv, weights = Expuestosv, family =binomial(link = \"probit\"))\n",
    "\n",
    "#loglog_v\n",
    "fit31<- glm(Enfermosv/Expuestosv ~ Dosisv, weights = Expuestosv, family =binomial(link = \"cloglog\"))\n",
    "#cloglog es complementary loglog, que pasa con el 0...\n",
    "\n",
    "#cauchy_v\n",
    "fit41<- glm(Enfermosv/Expuestosv ~ Dosisv, weights = Expuestosv, family =binomial(link = \"cauchit\"))\n",
    "\n",
    "#AIC(fit11,fit21,fit31,fit41)\n",
    "BIC(fit11,fit21,fit31,fit41)\n",
    "#gof_glm(fit11)\n",
    "#gof_glm(fit21)\n",
    "#gof_glm(fit31) #mayor\n",
    "#gof_glm(fit41)\n",
    "#Tanto por el críterio del AIC,BIC, R^2_D, el modelo seleccionado es fit31\n"
   ]
  },
  {
   "cell_type": "code",
   "execution_count": 104,
   "metadata": {},
   "outputs": [
    {
     "name": "stderr",
     "output_type": "stream",
     "text": [
      "Warning message:\n",
      "\"glm.fit: fitted probabilities numerically 0 or 1 occurred\""
     ]
    },
    {
     "data": {
      "image/png": "[encoded data removed]",
      "text/plain": [
       "Plot with title \"Dosis\""
      ]
     },
     "metadata": {},
     "output_type": "display_data"
    },
    {
     "data": {
      "image/png": "[encoded data removed]",
      "text/plain": [
       "Plot with title \"Dosisv\""
      ]
     },
     "metadata": {},
     "output_type": "display_data"
    }
   ],
   "source": [
    "require(sqldf)\n",
    "\n",
    "par(mfrow=c(2,2))\n",
    "a<-graphs_glm(fit.model =fit2,a=1,b=2,col = \"blue\" ,ngroup=30) \n",
    "b<-graphs_glm(fit.model =fit31,a=1,b=2,col = \"blue\" ,ngroup=30)"
   ]
  },
  {
   "cell_type": "markdown",
   "metadata": {},
   "source": [
    "Se tiene que el BIC del modelo con mejor calidad de ajuste es fit31, es decir el modelo con link cloglog.\n",
    "\n",
    "# gráficos"
   ]
  },
  {
   "cell_type": "code",
   "execution_count": 64,
   "metadata": {},
   "outputs": [
    {
     "data": {
      "image/png": "[encoded data removed]",
      "text/plain": [
       "Plot with title \"Cáncer de Vejiga\""
      ]
     },
     "metadata": {},
     "output_type": "display_data"
    }
   ],
   "source": [
    "xdosis <- seq(0, 1.9, 0.001)\n",
    "ydosis1 <- predict(fit1, list(Dosis=xdosis),type=\"response\")\n",
    "ydosis2 <- predict(fit2, list(Dosis=xdosis),type=\"response\")\n",
    "ydosis3 <- predict(fit3, list(Dosis=xdosis),type=\"response\")\n",
    "ydosis4 <- predict(fit4, list(Dosis=xdosis),type=\"response\")\n",
    "\n",
    "par(mfrow=c(1,2))\n",
    "{plot(Dosis, Enfermos/Expuestos, pch=20, xlab = \"Dosis de 2-acetilaminofuoreno\", ylab = \"Proporción de Enfermos (y)\",\n",
    "      title(main =\"Cáncer de Higado\"))}\n",
    "lines(xdosis, ydosis2 , col=\"red\",lwd=2)\n",
    "lines(xdosis, ydosis1, lty =2)\n",
    "lines(xdosis, ydosis3, lty=5)\n",
    "lines(xdosis, ydosis4, lty =3)\n",
    "\n",
    "\n",
    "\n",
    "legend(0.01,0.11,box.lty=0,legend=c(\"logit\",\"probit\",\"cloglog\",\"cauchy\"),lty=c(2,1,5,3),col=c(\"black\",\"red\",\"black\",\"black\"))\n",
    "ydosis11 <- predict.glm(fit11, list(Dosisv=xdosis),type=\"response\")\n",
    "ydosis21 <- predict.glm(fit21, list(Dosisv=xdosis),type=\"response\")\n",
    "ydosis31 <- predict.glm(fit31, list(Dosisv=xdosis),type=\"response\")\n",
    "ydosis41 <- predict.glm(fit41, list(Dosisv=xdosis),type=\"response\")\n",
    "\n",
    "\n",
    "{plot(Dosisv, Enfermosv/Expuestosv, pch=20, xlab = \"Dosis de 2-acetilaminofuoreno\", ylab = \"Proporción de Enfermos (y)\",\n",
    "      title(main =\"Cáncer de Vejiga\") )}\n",
    "lines(xdosis, ydosis11, lty=2)\n",
    "lines(xdosis, ydosis21, lty=5)\n",
    "lines(xdosis, ydosis31, col=\"red\", lwd=2)\n",
    "lines(xdosis, ydosis41, lty=3)\n",
    "legend(0.01,0.95,box.lty=0,legend=c(\"logit\",\"probit\",\"cloglog\",\"cauchy\"),lty=c(2,5,1,3),col=c(\"black\",\"red\",\"black\",\"black\"))"
   ]
  },
  {
   "cell_type": "markdown",
   "metadata": {},
   "source": [
    "En el grafico de la dosis de 2-acetilaminofuoreno contra la proporción de ratones enfermos en ambos\n",
    "tipos de cáncer, podemos observar que la relación entre las variables no es lineal, por otra parte en\n",
    "el caso de cáncer de higado los modelos que mejor ajustan son los de enlace probit y complemento\n",
    "log-log, y en efecto el mejor modelo seleccionado es el de enlace probit, mientras que en el caso\n",
    "del cáncer de vejiga es el modelo con enlace complemento log-log. Finalmente estaríamos tentados\n",
    "a afirmar que la proporción de enfermos de cuálquier tipo de cancer aumeta cuando aumenta la\n",
    "dosis.\n",
    "\n",
    "# Modelo final cancer de higado"
   ]
  },
  {
   "cell_type": "code",
   "execution_count": 65,
   "metadata": {},
   "outputs": [
    {
     "data": {
      "text/plain": [
       "\n",
       "Call:\n",
       "glm(formula = Enfermos/Expuestos ~ Dosis, family = binomial(link = \"probit\"), \n",
       "    weights = Expuestos)\n",
       "\n",
       "Deviance Residuals: \n",
       "     Min        1Q    Median        3Q       Max  \n",
       "-0.76407  -0.39332  -0.01644   0.32739   1.46682  \n",
       "\n",
       "Coefficients:\n",
       "            Estimate Std. Error z value Pr(>|z|)    \n",
       "(Intercept) -2.34065    0.06294 -37.191   <2e-16 ***\n",
       "Dosis        0.81313    0.09068   8.967   <2e-16 ***\n",
       "---\n",
       "Signif. codes:  0 '***' 0.001 '**' 0.01 '*' 0.05 '.' 0.1 ' ' 1\n",
       "\n",
       "(Dispersion parameter for binomial family taken to be 1)\n",
       "\n",
       "    Null deviance: 77.6029  on 7  degrees of freedom\n",
       "Residual deviance:  3.5181  on 6  degrees of freedom\n",
       "AIC: 44.491\n",
       "\n",
       "Number of Fisher Scoring iterations: 4\n"
      ]
     },
     "metadata": {},
     "output_type": "display_data"
    }
   ],
   "source": [
    "#probit_h\n",
    "fit2<- glm(Enfermos/Expuestos ~ Dosis, weights = Expuestos,family =binomial(link = \"probit\"))\n",
    "summary(fit2)"
   ]
  },
  {
   "cell_type": "markdown",
   "metadata": {},
   "source": [
    "\n",
    "# Modelo final cancer de vejiga"
   ]
  },
  {
   "cell_type": "code",
   "execution_count": 66,
   "metadata": {},
   "outputs": [
    {
     "name": "stderr",
     "output_type": "stream",
     "text": [
      "Warning message:\n",
      "\"glm.fit: fitted probabilities numerically 0 or 1 occurred\""
     ]
    },
    {
     "data": {
      "text/plain": [
       "\n",
       "Call:\n",
       "glm(formula = Enfermosv/Expuestosv ~ Dosisv, family = binomial(link = \"cloglog\"), \n",
       "    weights = Expuestosv)\n",
       "\n",
       "Deviance Residuals: \n",
       "     Min        1Q    Median        3Q       Max  \n",
       "-2.02269  -0.33507  -0.01813   0.49905   1.75967  \n",
       "\n",
       "Coefficients:\n",
       "            Estimate Std. Error z value Pr(>|z|)    \n",
       "(Intercept)  -7.0732     0.5228  -13.53   <2e-16 ***\n",
       "Dosisv        7.1160     0.6438   11.05   <2e-16 ***\n",
       "---\n",
       "Signif. codes:  0 '***' 0.001 '**' 0.01 '*' 0.05 '.' 0.1 ' ' 1\n",
       "\n",
       "(Dispersion parameter for binomial family taken to be 1)\n",
       "\n",
       "    Null deviance: 214.9447  on 7  degrees of freedom\n",
       "Residual deviance:   9.3954  on 6  degrees of freedom\n",
       "AIC: 31.965\n",
       "\n",
       "Number of Fisher Scoring iterations: 6\n"
      ]
     },
     "metadata": {},
     "output_type": "display_data"
    }
   ],
   "source": [
    "#loglog_v\n",
    "fit31<- glm(Enfermosv/Expuestosv ~ Dosisv, weights = Expuestosv, family =binomial(link = \"cloglog\"))\n",
    "#cloglog es complementary loglog, que pasa con el 0...\n",
    "summary(fit31)"
   ]
  },
  {
   "cell_type": "markdown",
   "metadata": {},
   "source": [
    "### C) test de wald y razón de verosimilitudes \n",
    "\n",
    "#### Test de WALD\n",
    "\n",
    "En correspondencia al modelo anterior  propuesto surge una pregunta alusiva a si _¿existe evidencia estadísticamente significativa en que el efecto de la dosis del carcinógeno afecta la probabilidad que los ratones desarrollen cáncer de higado?_ Para responder esta pregunta se realiza el siguiente contraste de hipótesis:\n",
    "\n",
    "$$H_{0}: \\beta_2=0 \\;\\;\\;\\;\\; vs \\;\\;\\;\\;\\;\\;H_{1}: \\beta_2 \\neq 0 $$\n",
    "\n",
    "donde \n",
    "\n",
    "$$ \\xi _{W} = (\\hat{\\beta_2}  - \\beta_2^{0})' [\\hat{Var}(\\hat{\\beta_2})]^{-1}(\\hat{\\beta_2}  - \\beta_5^{0})$$\n"
   ]
  },
  {
   "cell_type": "code",
   "execution_count": 81,
   "metadata": {},
   "outputs": [
    {
     "ename": "ERROR",
     "evalue": "Error in !all.equal(fit1$call$data, fit0$call$data): argumento de tipo inválido\n",
     "output_type": "error",
     "traceback": [
      "Error in !all.equal(fit1$call$data, fit0$call$data): argumento de tipo inválido\nTraceback:\n",
      "1. anova_glm(fit0, fit2, test = \"wald\")"
     ]
    }
   ],
   "source": [
    "fit0 <- glm(Enfermos/Expuestos ~ 1, weights = Expuestos, data= higado, family= binomial(link = \"probit\"))\n",
    "#Test de Wald y verosimilitudes\n",
    "anova_glm(fit0, fit2, test=\"wald\")\n",
    "anova_glm(fit0, fit2, test=\"LRT\")\n"
   ]
  },
  {
   "cell_type": "code",
   "execution_count": 69,
   "metadata": {},
   "outputs": [
    {
     "ename": "ERROR",
     "evalue": "Error in !all.equal(fit1$call$data, fit0$call$data): argumento de tipo inválido\n",
     "output_type": "error",
     "traceback": [
      "Error in !all.equal(fit1$call$data, fit0$call$data): argumento de tipo inválido\nTraceback:\n",
      "1. anova_glm(fit0, fit2, test = \"LRT\")"
     ]
    }
   ],
   "source": [
    "fit00 <- glm(Enfermosv/Expuestosv ~ 1, weights = Expuestosv, data= data_v,family = binomial(link = \"cloglog\"))\n",
    "#Razón de Verosimilitud\n",
    "anova_glm(fit0, fit2, test= \"LRT\")\n",
    "anova_glm(fit00, fit31, test= \"Wald\")"
   ]
  },
  {
   "cell_type": "markdown",
   "metadata": {},
   "source": [
    "Se obtuvo que tanto el test de Wald, como el test de razón de verosimilitud rechazan $H_0$ a un nivel de significancia de $5\\%$, en ambos modelos de cáncer. Por lo tanto se concluye que la dosis del 2-acetilaminofuoreno sí afecta la probabilidad de que los ratones desarrollen cáncer.\n",
    "\n",
    "## Análisis de influencia"
   ]
  },
  {
   "cell_type": "code",
   "execution_count": 71,
   "metadata": {},
   "outputs": [
    {
     "name": "stdout",
     "output_type": "stream",
     "text": [
      "  |++++++++++++++++++++++++++++++++++++++++++++++++++| 100%\n",
      "  |++++++++++++++++++++++++++++++++++++++++++++++++++| 100%\n",
      "  |++++++++++++++++++++++++++++++++++++++++++++++++++| 100%\n"
     ]
    },
    {
     "data": {
      "image/png": "[encoded data removed]",
      "text/plain": [
       "Plot with title \"Residuos de Pearson\""
      ]
     },
     "metadata": {},
     "output_type": "display_data"
    }
   ],
   "source": [
    "#Análisis Residual\n",
    "par(mfrow=c(2,3))\n",
    "residuals_glm(fit2, xlab = \"Valores estimados\")\n",
    "title(\"Residuos Cualtil\")\n",
    "residuals_glm(fit2, xlab = \"Valores estimados\", type= \"deviance\")\n",
    "title(\"Residuos desvío\")\n",
    "residuals_glm(fit2, xlab = \"Valores estimados\", type= \"pearson\")\n",
    "title(\"Residuos de Pearson\")\n",
    "envelope_glm(fit2)\n",
    "title(\"Residuos Cualtil\")\n",
    "envelope_glm(fit2, type= \"deviance\")\n",
    "title(\"Residuos desvío\")\n",
    "envelope_glm(fit2, type= \"pearson\")\n",
    "title(\"Residuos de Pearson\")"
   ]
  },
  {
   "cell_type": "markdown",
   "metadata": {},
   "source": [
    "El gráfico presenta los valores estimado contra los residuos cuántil, desvio, y de pearson. En este\n",
    "podemos resaltar que no se presentan datos potencialmente atípicos para el caso de cáncer de higado.\n",
    "Para el caso de cáncer de vejiga las siguientes gráficas indican que exiten datos potencialmente\n",
    "atípicos, que corresponden a los indice 1,2 y 7.\n"
   ]
  },
  {
   "cell_type": "code",
   "execution_count": 72,
   "metadata": {},
   "outputs": [
    {
     "name": "stdout",
     "output_type": "stream",
     "text": [
      "  |++++++++++++++++++++++++++++++++++++++++++++++++++| 100%\n",
      "  |++++++++++++++++++++++++++++++++++++++++++++++++++| 100%\n",
      "  |++++++++++++++++++++++++++++++++++++++++++++++++++| 100%\n"
     ]
    },
    {
     "data": {
      "image/png": "[encoded data removed]",
      "text/plain": [
       "Plot with title \"Residuos de Pearson\""
      ]
     },
     "metadata": {},
     "output_type": "display_data"
    }
   ],
   "source": [
    "par(mfrow=c(2,3))\n",
    "residuals_glm(fit21, xlab = \"Valores estimados\")\n",
    "title(\"Residuos Cualtil\")\n",
    "residuals_glm(fit21, xlab = \"Valores estimados\", type= \"deviance\")\n",
    "title(\"Residuos desvío\")\n",
    "residuals_glm(fit21, xlab = \"Valores estimados\", type= \"pearson\")\n",
    "title(\"Residuos de Pearson\")\n",
    "envelope_glm(fit21)\n",
    "title(\"Residuos Cualtil\")\n",
    "envelope_glm(fit21, type= \"deviance\")\n",
    "title(\"Residuos desvío\")\n",
    "envelope_glm(fit21, type= \"pearson\")\n",
    "title(\"Residuos de Pearson\")"
   ]
  },
  {
   "cell_type": "markdown",
   "metadata": {},
   "source": [
    "Por otra parte, haciendo uso de la distancia de cook, tenemos que para el modelo de cáncer de\n",
    "higado, los posible valores influyentes corresponden a los indices 7 y 8. Mientras que para el modelo\n",
    "de cáncer de vejida los valores influyentes corresponden a los indices 2 y 7"
   ]
  },
  {
   "cell_type": "code",
   "execution_count": 74,
   "metadata": {},
   "outputs": [
    {
     "data": {
      "image/png": "[encoded data removed]",
      "text/plain": [
       "Plot with title \"Cáncer de Vejiga\""
      ]
     },
     "metadata": {},
     "output_type": "display_data"
    }
   ],
   "source": [
    "#Sensibilidad\n",
    "par(mfrow=c(1,2))\n",
    "Cookdis_glm(fit2)\n",
    "title(\"Cáncer de Higado\")\n",
    "Cookdis_glm(fit21)\n",
    "title(\"Cáncer de Vejiga\")"
   ]
  },
  {
   "cell_type": "markdown",
   "metadata": {},
   "source": [
    "Para cada tipo de cáncer debemos realizar la estimación de los parámetros sin las presencia de\n",
    "los posibles valores influyentes, que en el caso de c. higado corresponden a los indices 7 y 8,\n",
    "mientras que en c. vejiga a los indices 2 y 7. A continuación se muestra el cambio en la estimación\n",
    "de los parametros a través de la instrucción case.deletion_glm(), para los indices y los modelos\n",
    "anteriormente descritos. En todos los casos el parámetro sigue siendo significativo."
   ]
  },
  {
   "cell_type": "code",
   "execution_count": 75,
   "metadata": {},
   "outputs": [
    {
     "name": "stdout",
     "output_type": "stream",
     "text": [
      "\n",
      "            Estimate  Std. Error   Pr(>|z|)  | Estimate* Std. Error*  Pr(>|z|)*\n",
      "(Intercept)  -2.34065     0.06294          0 |  -2.33045     0.06375          0\n",
      "Dosis         0.81313     0.09068          0 |   0.76222     0.09725          0\n",
      "            | Change(%)\n",
      "(Intercept) |     0.436\n",
      "Dosis       |    -6.261\n",
      "\n",
      "(*) estimates, standard errors and p-values obtained using the specified subset of individuals.\n",
      "\n",
      "            Estimate  Std. Error   Pr(>|z|)  | Estimate* Std. Error*  Pr(>|z|)*\n",
      "(Intercept)  -2.34065     0.06294          0 |  -2.41040     0.08226          0\n",
      "Dosis         0.81313     0.09068          0 |   0.98701     0.15632          0\n",
      "            | Change(%)\n",
      "(Intercept) |     -2.98\n",
      "Dosis       |     21.38\n",
      "\n",
      "(*) estimates, standard errors and p-values obtained using the specified subset of individuals.\n",
      "\n",
      "            Estimate  Std. Error   Pr(>|z|)  | Estimate* Std. Error*  Pr(>|z|)*\n",
      "(Intercept)  -2.34065     0.06294    0.00000 |  -2.36020     0.09698    0.00000\n",
      "Dosis         0.81313     0.09068    0.00000 |   0.84271     0.21868    0.00012\n",
      "            | Change(%)\n",
      "(Intercept) |    -0.835\n",
      "Dosis       |     3.638\n",
      "\n",
      "(*) estimates, standard errors and p-values obtained using the specified subset of individuals.\n",
      "\n",
      "            Estimate  Std. Error   Pr(>|z|)  | Estimate* Std. Error*  Pr(>|z|)*\n",
      "(Intercept)   -3.6258      0.2308          0 |   -4.0521      0.3600          0\n",
      "Dosisv         3.7049      0.3440          0 |    4.2176      0.4843          0\n",
      "            | Change(%)\n",
      "(Intercept) |    -11.76\n",
      "Dosisv      |     13.84\n",
      "\n",
      "(*) estimates, standard errors and p-values obtained using the specified subset of individuals.\n",
      "\n",
      "            Estimate  Std. Error   Pr(>|z|)  | Estimate* Std. Error*  Pr(>|z|)*\n",
      "(Intercept)   -3.6258      0.2308          0 |   -3.3912      0.2282          0\n",
      "Dosisv         3.7049      0.3440          0 |    3.1432      0.3774          0\n",
      "            | Change(%)\n",
      "(Intercept) |      6.47\n",
      "Dosisv      |    -15.16\n",
      "\n",
      "(*) estimates, standard errors and p-values obtained using the specified subset of individuals.\n",
      "\n",
      "            Estimate  Std. Error   Pr(>|z|)  | Estimate* Std. Error*  Pr(>|z|)*\n",
      "(Intercept)   -3.6258      0.2308          0 |   -3.6993      0.3500          0\n",
      "Dosisv         3.7049      0.3440          0 |    3.5298      0.5179          0\n",
      "            | Change(%)\n",
      "(Intercept) |    -2.028\n",
      "Dosisv      |    -4.726\n",
      "\n",
      "(*) estimates, standard errors and p-values obtained using the specified subset of individuals.\n"
     ]
    }
   ],
   "source": [
    "case.deletion_glm(fit2, -c(7))\n",
    "case.deletion_glm(fit2, -c(8))\n",
    "case.deletion_glm(fit2, -c(7,8))\n",
    "case.deletion_glm(fit21, -c(2))\n",
    "case.deletion_glm(fit21, -c(7))\n",
    "case.deletion_glm(fit21, -c(2,7))\n"
   ]
  },
  {
   "cell_type": "markdown",
   "metadata": {},
   "source": [
    "### Interpretación \n",
    "\n",
    "Dado que el modelo seleccionado corresponde a la función de enlace probit, solo es posible interpretar el signo de los parámetros. Así, en ambos casos diremos que al aumentar la dosis del\n",
    "carcinógeno, se presenta un aumento en la proporción de casos de cáncer de ratones hembra"
   ]
  },
  {
   "cell_type": "markdown",
   "metadata": {},
   "source": [
    "### Estimación\n",
    "\n",
    "Estime la probabilidad que un ratón expuesto a una dosis de 2-acetilaminofluoreno de 0.6 desarrolle cáncer de hígado. Haga esta estimación “manualmente” y usando la función predict()"
   ]
  },
  {
   "cell_type": "code",
   "execution_count": 84,
   "metadata": {},
   "outputs": [
    {
     "data": {
      "text/html": [
       "<table>\n",
       "<tbody>\n",
       "\t<tr><td>-1.852777</td></tr>\n",
       "</tbody>\n",
       "</table>\n"
      ],
      "text/latex": [
       "\\begin{tabular}{l}\n",
       "\t -1.852777\\\\\n",
       "\\end{tabular}\n"
      ],
      "text/markdown": [
       "\n",
       "| -1.852777 |\n",
       "\n"
      ],
      "text/plain": [
       "     [,1]     \n",
       "[1,] -1.852777"
      ]
     },
     "metadata": {},
     "output_type": "display_data"
    },
    {
     "data": {
      "text/html": [
       "<table>\n",
       "<tbody>\n",
       "\t<tr><td>0.0319572</td></tr>\n",
       "</tbody>\n",
       "</table>\n"
      ],
      "text/latex": [
       "\\begin{tabular}{l}\n",
       "\t 0.0319572\\\\\n",
       "\\end{tabular}\n"
      ],
      "text/markdown": [
       "\n",
       "| 0.0319572 |\n",
       "\n"
      ],
      "text/plain": [
       "     [,1]     \n",
       "[1,] 0.0319572"
      ]
     },
     "metadata": {},
     "output_type": "display_data"
    }
   ],
   "source": [
    "#Manualmente:\n",
    "nueva_dosis <- c(1, 0.6)\n",
    "beta <- as.numeric(coefficients(fit2))\n",
    "mu <- t(beta)%*%nueva_dosis;mu\n",
    "pnorm(mu)\n",
    "\n",
    "\n"
   ]
  },
  {
   "cell_type": "code",
   "execution_count": 82,
   "metadata": {},
   "outputs": [
    {
     "data": {
      "text/html": [
       "<strong>1:</strong> 0.0319571984085749"
      ],
      "text/latex": [
       "\\textbf{1:} 0.0319571984085749"
      ],
      "text/markdown": [
       "**1:** 0.0319571984085749"
      ],
      "text/plain": [
       "        1 \n",
       "0.0319572 "
      ]
     },
     "metadata": {},
     "output_type": "display_data"
    }
   ],
   "source": [
    "#Con la función predict()\n",
    "predict(fit2, list(Dosis=0.6) ,type=\"response\")"
   ]
  }
 ],
 "metadata": {
  "kernelspec": {
   "display_name": "R",
   "language": "R",
   "name": "ir"
  },
  "language_info": {
   "codemirror_mode": "r",
   "file_extension": ".r",
   "mimetype": "text/x-r-source",
   "name": "R",
   "pygments_lexer": "r",
   "version": "3.6.1"
  }
 },
 "nbformat": 4,
 "nbformat_minor": 2
}
