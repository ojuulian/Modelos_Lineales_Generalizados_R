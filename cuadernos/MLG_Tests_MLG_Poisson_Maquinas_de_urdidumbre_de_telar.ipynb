{
 "cells": [
  {
   "cell_type": "markdown",
   "metadata": {},
   "source": [
    "<img src=\"./unal.png\" align=left width=\"150\" height=\"150\"></img>\n",
    "\n",
    "$\\;$\n",
    "\n",
    "---\n",
    "<h2 align=\"center\">Test de razón de verosimilitudes,  Wald, score, gradiente</h2>\n",
    "\n",
    "### Oscar Julian Layton\n",
    "\n",
    "\n",
    "A continuación se muestra un conjunto de datos que representan el número de roturas de urdimbre por telar, donde un telar corresponde a una longitud fija de hilo. Donde:\n",
    "\n",
    "* **Breaks:** Número de roturas.\n",
    "* **Wool:** Tipo de lana (A,B).\n",
    "* **Tension:** Nivel de tensión (L,M,H)."
   ]
  },
  {
   "cell_type": "code",
   "execution_count": 2,
   "metadata": {},
   "outputs": [
    {
     "data": {
      "text/html": [
       "<table>\n",
       "<thead><tr><th scope=col>breaks</th><th scope=col>wool</th><th scope=col>tension</th></tr></thead>\n",
       "<tbody>\n",
       "\t<tr><td>26</td><td>A </td><td>L </td></tr>\n",
       "\t<tr><td>30</td><td>A </td><td>L </td></tr>\n",
       "\t<tr><td>54</td><td>A </td><td>L </td></tr>\n",
       "\t<tr><td>25</td><td>A </td><td>L </td></tr>\n",
       "\t<tr><td>70</td><td>A </td><td>L </td></tr>\n",
       "\t<tr><td>52</td><td>A </td><td>L </td></tr>\n",
       "\t<tr><td>51</td><td>A </td><td>L </td></tr>\n",
       "\t<tr><td>26</td><td>A </td><td>L </td></tr>\n",
       "\t<tr><td>67</td><td>A </td><td>L </td></tr>\n",
       "\t<tr><td>18</td><td>A </td><td>M </td></tr>\n",
       "</tbody>\n",
       "</table>\n"
      ],
      "text/latex": [
       "\\begin{tabular}{r|lll}\n",
       " breaks & wool & tension\\\\\n",
       "\\hline\n",
       "\t 26 & A  & L \\\\\n",
       "\t 30 & A  & L \\\\\n",
       "\t 54 & A  & L \\\\\n",
       "\t 25 & A  & L \\\\\n",
       "\t 70 & A  & L \\\\\n",
       "\t 52 & A  & L \\\\\n",
       "\t 51 & A  & L \\\\\n",
       "\t 26 & A  & L \\\\\n",
       "\t 67 & A  & L \\\\\n",
       "\t 18 & A  & M \\\\\n",
       "\\end{tabular}\n"
      ],
      "text/markdown": [
       "\n",
       "| breaks | wool | tension |\n",
       "|---|---|---|\n",
       "| 26 | A  | L  |\n",
       "| 30 | A  | L  |\n",
       "| 54 | A  | L  |\n",
       "| 25 | A  | L  |\n",
       "| 70 | A  | L  |\n",
       "| 52 | A  | L  |\n",
       "| 51 | A  | L  |\n",
       "| 26 | A  | L  |\n",
       "| 67 | A  | L  |\n",
       "| 18 | A  | M  |\n",
       "\n"
      ],
      "text/plain": [
       "   breaks wool tension\n",
       "1  26     A    L      \n",
       "2  30     A    L      \n",
       "3  54     A    L      \n",
       "4  25     A    L      \n",
       "5  70     A    L      \n",
       "6  52     A    L      \n",
       "7  51     A    L      \n",
       "8  26     A    L      \n",
       "9  67     A    L      \n",
       "10 18     A    M      "
      ]
     },
     "metadata": {},
     "output_type": "display_data"
    }
   ],
   "source": [
    "data(warpbreaks)\n",
    "head(warpbreaks,n = 10)"
   ]
  },
  {
   "cell_type": "markdown",
   "metadata": {},
   "source": [
    "Al realizarse una regresión se quiere ver si el número de roturas en que cada uno de los dispositivos funcionó en el modo 1 po en el modo 2 me ayuda a explicar las diferencias en el numero de fallas que rpesentaron los disposiitivos. Por consiguiente se procede a hacer una regresión con respuesta Poisson, $Y_k$ es Poisson con media $\\mu_k$ donde $\\mu_k$ depende de las covariables (intercepto $\\beta_1$, $\\beta_2$ que depende de wool,  $\\beta_3$ que depende de tension), a qui la función de enlace es la canonica que en caso de la Poisson en la **LOGARITMO**."
   ]
  },
  {
   "cell_type": "code",
   "execution_count": 3,
   "metadata": {},
   "outputs": [
    {
     "data": {
      "text/plain": [
       "\n",
       "Call:\n",
       "glm(formula = breaks ~ wool + tension, family = poisson(link = \"log\"), \n",
       "    data = warpbreaks)\n",
       "\n",
       "Deviance Residuals: \n",
       "    Min       1Q   Median       3Q      Max  \n",
       "-3.6871  -1.6503  -0.4269   1.1902   4.2616  \n",
       "\n",
       "Coefficients:\n",
       "            Estimate Std. Error z value Pr(>|z|)    \n",
       "(Intercept)  3.69196    0.04541  81.302  < 2e-16 ***\n",
       "woolB       -0.20599    0.05157  -3.994 6.49e-05 ***\n",
       "tensionM    -0.32132    0.06027  -5.332 9.73e-08 ***\n",
       "tensionH    -0.51849    0.06396  -8.107 5.21e-16 ***\n",
       "---\n",
       "Signif. codes:  0 '***' 0.001 '**' 0.01 '*' 0.05 '.' 0.1 ' ' 1\n",
       "\n",
       "(Dispersion parameter for poisson family taken to be 1)\n",
       "\n",
       "    Null deviance: 297.37  on 53  degrees of freedom\n",
       "Residual deviance: 210.39  on 50  degrees of freedom\n",
       "AIC: 493.06\n",
       "\n",
       "Number of Fisher Scoring iterations: 4\n"
      ]
     },
     "metadata": {},
     "output_type": "display_data"
    }
   ],
   "source": [
    "fit <- glm(breaks ~ wool + tension, family = poisson(link=\"log\"), data=warpbreaks) \n",
    "summary(fit)"
   ]
  },
  {
   "cell_type": "markdown",
   "metadata": {},
   "source": [
    "Para evaluar si:\n",
    "\n",
    "$$H_{0}: \\beta_2 = \\beta_3=\\beta_4 \\;\\;\\;\\;\\; vs \\;\\;\\;\\;\\;\\;H_{1}: \\beta_2 \\neq \\beta_2 \\neq \\beta_3 \\neq  0 $$\n",
    "\n",
    "Considerando que el test de verosimilitudes está determinado por: $\\xi _{RV}=2[l(\\hat{\\beta})-l(\\hat{\\beta^{o}})]$ sumando y restando $\\hat{\\beta}$ del modelo saturado se obtiene:\n",
    "\n",
    "$$\\xi _{RV}=2[l(\\hat{\\beta})-l(\\hat{\\beta^{o}})]=\\phi^{-1} [D(y;\\hat{\\mu}^0)-D(y;\\hat{\\mu})]  $$\n",
    "\n",
    "Donde $D(y;\\hat{\\mu}^0)$ es el desvio del modelo restringido llamado **Null Deviance** y donde $D(y;\\hat{\\mu})$ es el desvio del modelo sin restricción llamado **Residual Deviance**\n",
    "\n",
    "**Null Deviance** Es el desvio de un modelo donde todos los betas excepto el intercepto son iguales a cero.\n",
    "\n",
    "\n",
    "Luego como $\\phi=1$ se tiene:\n",
    "\n",
    "$$\\xi _{RV}=Null deviance- Residual Deviance=297.37-210.39 =86.980$$\n",
    "\n",
    "\n",
    "Luego se rechaza $H_0$ a un nivel de significancia APROXIMADO del 100$ \\alpha\\%$ puesto que $\\xi _{RV}>\\chi^2(1)$ A firmandose que essignificativo en el modelo."
   ]
  },
  {
   "cell_type": "code",
   "execution_count": 4,
   "metadata": {},
   "outputs": [
    {
     "data": {
      "text/html": [
       "86.9803230421515"
      ],
      "text/latex": [
       "86.9803230421515"
      ],
      "text/markdown": [
       "86.9803230421515"
      ],
      "text/plain": [
       "[1] 86.98032"
      ]
     },
     "metadata": {},
     "output_type": "display_data"
    }
   ],
   "source": [
    "(fit$null.deviance -fit$deviance)/1"
   ]
  },
  {
   "cell_type": "markdown",
   "metadata": {},
   "source": [
    "#### Segunda forma "
   ]
  },
  {
   "cell_type": "code",
   "execution_count": 5,
   "metadata": {},
   "outputs": [
    {
     "data": {
      "text/html": [
       "<table>\n",
       "<thead><tr><th scope=col>Resid. Df</th><th scope=col>Resid. Dev</th><th scope=col>Df</th><th scope=col>Deviance</th><th scope=col>Pr(&gt;Chi)</th></tr></thead>\n",
       "<tbody>\n",
       "\t<tr><td>53          </td><td>297.3722    </td><td>NA          </td><td>      NA    </td><td>          NA</td></tr>\n",
       "\t<tr><td>50          </td><td>210.3919    </td><td> 3          </td><td>86.98032    </td><td>9.750414e-19</td></tr>\n",
       "</tbody>\n",
       "</table>\n"
      ],
      "text/latex": [
       "\\begin{tabular}{r|lllll}\n",
       " Resid. Df & Resid. Dev & Df & Deviance & Pr(>Chi)\\\\\n",
       "\\hline\n",
       "\t 53           & 297.3722     & NA           &       NA     &           NA\\\\\n",
       "\t 50           & 210.3919     &  3           & 86.98032     & 9.750414e-19\\\\\n",
       "\\end{tabular}\n"
      ],
      "text/markdown": [
       "\n",
       "| Resid. Df | Resid. Dev | Df | Deviance | Pr(>Chi) |\n",
       "|---|---|---|---|---|\n",
       "| 53           | 297.3722     | NA           |       NA     |           NA |\n",
       "| 50           | 210.3919     |  3           | 86.98032     | 9.750414e-19 |\n",
       "\n"
      ],
      "text/plain": [
       "  Resid. Df Resid. Dev Df Deviance Pr(>Chi)    \n",
       "1 53        297.3722   NA       NA           NA\n",
       "2 50        210.3919    3 86.98032 9.750414e-19"
      ]
     },
     "metadata": {},
     "output_type": "display_data"
    }
   ],
   "source": [
    "#test de razon de verosimilitudes\n",
    "fit1<-glm(breaks~1 ,family = poisson(link=\"log\"), data=warpbreaks)      # modelo solo ocn el intercepto\n",
    "anova(fit1,fit, test = \"LRT\")                                           #Test razon de verosimilitudes"
   ]
  },
  {
   "cell_type": "markdown",
   "metadata": {},
   "source": [
    "$$H_{0}: \\beta_2 = \\beta_3= \\beta_4=0\\;\\;\\;\\;\\; vs \\;\\;\\;\\;\\;\\; H_{1}: \\beta_2 \\neq \\beta_3 \\neq \\beta_4 \\neq 0 $$\n",
    "\n",
    "Luego se rechaza $H_0$ a un nivel de significancia APROXIMADO del 100$ \\alpha\\%$ puesto que  ...........\n",
    "estableciendo que almenos uno de los betas es significativo"
   ]
  },
  {
   "cell_type": "markdown",
   "metadata": {},
   "source": [
    "#### Tercera forma "
   ]
  },
  {
   "cell_type": "code",
   "execution_count": 6,
   "metadata": {},
   "outputs": [
    {
     "data": {
      "text/html": [
       "<table>\n",
       "<thead><tr><th scope=col>Resid. Df</th><th scope=col>Resid. Dev</th><th scope=col>Df</th><th scope=col>Deviance</th><th scope=col>Pr(&gt;Chi)</th></tr></thead>\n",
       "<tbody>\n",
       "\t<tr><td>52          </td><td>281.3335    </td><td>NA          </td><td>      NA    </td><td>          NA</td></tr>\n",
       "\t<tr><td>50          </td><td>210.3919    </td><td> 2          </td><td>70.94157    </td><td>3.937619e-16</td></tr>\n",
       "</tbody>\n",
       "</table>\n"
      ],
      "text/latex": [
       "\\begin{tabular}{r|lllll}\n",
       " Resid. Df & Resid. Dev & Df & Deviance & Pr(>Chi)\\\\\n",
       "\\hline\n",
       "\t 52           & 281.3335     & NA           &       NA     &           NA\\\\\n",
       "\t 50           & 210.3919     &  2           & 70.94157     & 3.937619e-16\\\\\n",
       "\\end{tabular}\n"
      ],
      "text/markdown": [
       "\n",
       "| Resid. Df | Resid. Dev | Df | Deviance | Pr(>Chi) |\n",
       "|---|---|---|---|---|\n",
       "| 52           | 281.3335     | NA           |       NA     |           NA |\n",
       "| 50           | 210.3919     |  2           | 70.94157     | 3.937619e-16 |\n",
       "\n"
      ],
      "text/plain": [
       "  Resid. Df Resid. Dev Df Deviance Pr(>Chi)    \n",
       "1 52        281.3335   NA       NA           NA\n",
       "2 50        210.3919    2 70.94157 3.937619e-16"
      ]
     },
     "metadata": {},
     "output_type": "display_data"
    }
   ],
   "source": [
    "#test de razon de verosimilitudes\n",
    "fit2<-glm(breaks~1+wool ,family = poisson(link=\"log\"), data=warpbreaks)      # modelo solo ocn el intercepto\n",
    "anova(fit2,fit, test = \"LRT\")                                           #Test razon de verosimilitudes"
   ]
  },
  {
   "cell_type": "markdown",
   "metadata": {},
   "source": [
    "$$H_{0}: \\beta_3= \\beta_4=0\\;\\;\\;\\;\\; vs \\;\\;\\;\\;\\;\\; H_{1}: \\beta_3 \\neq \\beta_4 \\neq 0 $$\n",
    "\n",
    "Luego se rechaza $H_0$ a un nivel de significancia APROXIMADO del 100$ \\alpha\\%$ estableciendo que la tensión es significativa en el numero de roturas."
   ]
  },
  {
   "cell_type": "markdown",
   "metadata": {},
   "source": [
    "### EJEMPLO DE HIPOTESIS\n",
    "\n",
    "Se quiere verificar que la variable tensión afecta la media de la poisson (la variable tensión es significativa??), al observar la matriz diseño se puede ver que $\\beta_3$ y $\\beta_4$ son nuestro objetivo:"
   ]
  },
  {
   "cell_type": "code",
   "execution_count": 8,
   "metadata": {},
   "outputs": [
    {
     "data": {
      "text/html": [
       "<table>\n",
       "<thead><tr><th scope=col>(Intercept)</th><th scope=col>woolB</th><th scope=col>tensionM</th><th scope=col>tensionH</th></tr></thead>\n",
       "<tbody>\n",
       "\t<tr><td>1</td><td>0</td><td>0</td><td>0</td></tr>\n",
       "\t<tr><td>1</td><td>0</td><td>0</td><td>0</td></tr>\n",
       "\t<tr><td>1</td><td>0</td><td>0</td><td>0</td></tr>\n",
       "\t<tr><td>1</td><td>0</td><td>0</td><td>0</td></tr>\n",
       "\t<tr><td>1</td><td>0</td><td>0</td><td>0</td></tr>\n",
       "\t<tr><td>1</td><td>0</td><td>0</td><td>0</td></tr>\n",
       "\t<tr><td>1</td><td>0</td><td>0</td><td>0</td></tr>\n",
       "\t<tr><td>1</td><td>0</td><td>0</td><td>0</td></tr>\n",
       "\t<tr><td>1</td><td>0</td><td>0</td><td>0</td></tr>\n",
       "\t<tr><td>1</td><td>0</td><td>1</td><td>0</td></tr>\n",
       "\t<tr><td>1</td><td>0</td><td>1</td><td>0</td></tr>\n",
       "\t<tr><td>1</td><td>0</td><td>1</td><td>0</td></tr>\n",
       "\t<tr><td>1</td><td>0</td><td>1</td><td>0</td></tr>\n",
       "\t<tr><td>1</td><td>0</td><td>1</td><td>0</td></tr>\n",
       "</tbody>\n",
       "</table>\n"
      ],
      "text/latex": [
       "\\begin{tabular}{r|llll}\n",
       " (Intercept) & woolB & tensionM & tensionH\\\\\n",
       "\\hline\n",
       "\t 1 & 0 & 0 & 0\\\\\n",
       "\t 1 & 0 & 0 & 0\\\\\n",
       "\t 1 & 0 & 0 & 0\\\\\n",
       "\t 1 & 0 & 0 & 0\\\\\n",
       "\t 1 & 0 & 0 & 0\\\\\n",
       "\t 1 & 0 & 0 & 0\\\\\n",
       "\t 1 & 0 & 0 & 0\\\\\n",
       "\t 1 & 0 & 0 & 0\\\\\n",
       "\t 1 & 0 & 0 & 0\\\\\n",
       "\t 1 & 0 & 1 & 0\\\\\n",
       "\t 1 & 0 & 1 & 0\\\\\n",
       "\t 1 & 0 & 1 & 0\\\\\n",
       "\t 1 & 0 & 1 & 0\\\\\n",
       "\t 1 & 0 & 1 & 0\\\\\n",
       "\\end{tabular}\n"
      ],
      "text/markdown": [
       "\n",
       "| (Intercept) | woolB | tensionM | tensionH |\n",
       "|---|---|---|---|\n",
       "| 1 | 0 | 0 | 0 |\n",
       "| 1 | 0 | 0 | 0 |\n",
       "| 1 | 0 | 0 | 0 |\n",
       "| 1 | 0 | 0 | 0 |\n",
       "| 1 | 0 | 0 | 0 |\n",
       "| 1 | 0 | 0 | 0 |\n",
       "| 1 | 0 | 0 | 0 |\n",
       "| 1 | 0 | 0 | 0 |\n",
       "| 1 | 0 | 0 | 0 |\n",
       "| 1 | 0 | 1 | 0 |\n",
       "| 1 | 0 | 1 | 0 |\n",
       "| 1 | 0 | 1 | 0 |\n",
       "| 1 | 0 | 1 | 0 |\n",
       "| 1 | 0 | 1 | 0 |\n",
       "\n"
      ],
      "text/plain": [
       "   (Intercept) woolB tensionM tensionH\n",
       "1  1           0     0        0       \n",
       "2  1           0     0        0       \n",
       "3  1           0     0        0       \n",
       "4  1           0     0        0       \n",
       "5  1           0     0        0       \n",
       "6  1           0     0        0       \n",
       "7  1           0     0        0       \n",
       "8  1           0     0        0       \n",
       "9  1           0     0        0       \n",
       "10 1           0     1        0       \n",
       "11 1           0     1        0       \n",
       "12 1           0     1        0       \n",
       "13 1           0     1        0       \n",
       "14 1           0     1        0       "
      ]
     },
     "metadata": {},
     "output_type": "display_data"
    }
   ],
   "source": [
    "X <- model.matrix(fit);  head(X,n=14)                                      #Matriz diseño"
   ]
  },
  {
   "cell_type": "markdown",
   "metadata": {},
   "source": [
    "En este orden de ideas, si $\\beta_3= \\beta_4=0$ se puede decir que tensión no aporta al modelo. En cambio si alguno es diferente, tensión si aporta. En consecuencia la hipótesisi a considerar es:\n",
    "$$H_{0}: \\beta = 0 \\;\\;\\;\\;\\; vs \\;\\;\\;\\;\\;\\; H_{1}: \\beta \\neq  0 $$\n",
    "\n",
    "Donde $\\beta$ (que restringimos) es de dimensión 2 donde $\\beta = [\\beta'_3 , \\beta'_4]'$\n",
    "\n",
    "Luego se tiene 4 elecciones de la estadística de prueba:\n",
    "\n",
    "* Test Razón de verosimilitudes.\n",
    "* Test de Wald.\n",
    "* Test de Score.\n",
    "* Test gradiente.\n",
    "\n",
    "Estos gradientes pueden son contrastados con una $\\chi^{2}_{2}$ con 2 DF\n",
    "\n",
    "$$H_{0}: \\beta_2 = \\beta_3=0 \\;\\;\\;\\;\\; vs \\;\\;\\;\\;\\;\\; H_{1}: \\beta_2 \\neq \\beta_3 \\neq 0 $$"
   ]
  },
  {
   "cell_type": "code",
   "execution_count": 9,
   "metadata": {},
   "outputs": [],
   "source": [
    "#ESTAS LINEAS ES PARA LLAMAR LAS FUNCIONES REALIZADAS POR EL DOCENTE hernando vanegas\n",
    "setwd(\"\") #busca por default en una carpeta en especifica todo.\n",
    "source(\"macros.txt\")#Lllamar el archivo de macros que está en la carpeta especifica,(son una fuciines especificas del profesor)\n"
   ]
  },
  {
   "cell_type": "code",
   "execution_count": 10,
   "metadata": {},
   "outputs": [
    {
     "name": "stdout",
     "output_type": "stream",
     "text": [
      "\n",
      "  Likelihood-ratio test \n",
      "\n",
      " Model 1:  breaks ~ wool + tension \n",
      " Model 2:  breaks ~ 1 + wool \n",
      "\n",
      "   Chi   Df  Pr(>Chi)    \n",
      "  70.942  2 4.441e-16 ***\n"
     ]
    },
    {
     "data": {
      "text/html": [
       "4.44089209850063e-16"
      ],
      "text/latex": [
       "4.44089209850063e-16"
      ],
      "text/markdown": [
       "4.44089209850063e-16"
      ],
      "text/plain": [
       "[1] 4.440892e-16"
      ]
     },
     "metadata": {},
     "output_type": "display_data"
    },
    {
     "name": "stdout",
     "output_type": "stream",
     "text": [
      "\n",
      "  Wald test \n",
      "\n",
      " Model 1:  breaks ~ wool + tension \n",
      " Model 2:  breaks ~ 1 + wool \n",
      "\n",
      "   Chi   Df  Pr(>Chi)    \n",
      "  71.051  2 3.331e-16 ***\n"
     ]
    },
    {
     "data": {
      "text/html": [
       "3.33066907387547e-16"
      ],
      "text/latex": [
       "3.33066907387547e-16"
      ],
      "text/markdown": [
       "3.33066907387547e-16"
      ],
      "text/plain": [
       "[1] 3.330669e-16"
      ]
     },
     "metadata": {},
     "output_type": "display_data"
    },
    {
     "name": "stdout",
     "output_type": "stream",
     "text": [
      "\n",
      "  Rao test \n",
      "\n",
      " Model 1:  breaks ~ wool + tension \n",
      " Model 2:  breaks ~ 1 + wool \n",
      "\n",
      "  Chi   Df Pr(>Chi)    \n",
      "  72.27  2 2.22e-16 ***\n"
     ]
    },
    {
     "data": {
      "text/html": [
       "2.22044604925031e-16"
      ],
      "text/latex": [
       "2.22044604925031e-16"
      ],
      "text/markdown": [
       "2.22044604925031e-16"
      ],
      "text/plain": [
       "[1] 2.220446e-16"
      ]
     },
     "metadata": {},
     "output_type": "display_data"
    },
    {
     "name": "stdout",
     "output_type": "stream",
     "text": [
      "\n",
      "  Gradient test \n",
      "\n",
      " Model 1:  breaks ~ wool + tension \n",
      " Model 2:  breaks ~ 1 + wool \n",
      "\n",
      "   Chi   Df  Pr(>Chi)    \n",
      "  70.666  2 4.441e-16 ***\n"
     ]
    },
    {
     "data": {
      "text/html": [
       "4.44089209850063e-16"
      ],
      "text/latex": [
       "4.44089209850063e-16"
      ],
      "text/markdown": [
       "4.44089209850063e-16"
      ],
      "text/plain": [
       "[1] 4.440892e-16"
      ]
     },
     "metadata": {},
     "output_type": "display_data"
    }
   ],
   "source": [
    "#test de razon de verosimilitudes\n",
    "fit1<-glm(breaks~1+ wool ,family = poisson(link=\"log\"), data=warpbreaks)      # modelo solo ocn el intercepto\n",
    "anova_glm(fit1,fit, test = \"LRT\")                                           #Test razon de verosimilitudes\n",
    "1-pchisq(70.942,df = 2)         #pvalor\n",
    "\n",
    "anova_glm(fit,fit1,test=\"wald\") #test de wald\n",
    "1-pchisq(71.051,df = 2)         #pvalor\n",
    "\n",
    "anova_glm(fit,fit1,test=\"rao\") #test de rao\n",
    "1-pchisq(72.27,df = 2)         #pvalor\n",
    "\n",
    "anova_glm(fit,fit1,test=\"gradient\") #test de wald\n",
    "1-pchisq(70.666,df = 2)         #pvalor"
   ]
  },
  {
   "cell_type": "markdown",
   "metadata": {},
   "source": [
    "En todos los test se rechaza $H_0$\n",
    "\n",
    "**Conclusión:** o $\\beta_3$ o $\\beta_4$ es diferente de cero, lo que quiere decir que tensión es significativo pues uno de los dos es significativo. En otras palabras tensión tiene un efecto significativo sobre la media de Y"
   ]
  },
  {
   "cell_type": "code",
   "execution_count": 11,
   "metadata": {},
   "outputs": [
    {
     "data": {
      "text/html": [
       "<table>\n",
       "<tbody>\n",
       "\t<tr><td>0.001983426</td></tr>\n",
       "</tbody>\n",
       "</table>\n"
      ],
      "text/latex": [
       "\\begin{tabular}{l}\n",
       "\t 0.001983426\\\\\n",
       "\\end{tabular}\n"
      ],
      "text/markdown": [
       "\n",
       "| 0.001983426 |\n",
       "\n"
      ],
      "text/plain": [
       "     [,1]       \n",
       "[1,] 0.001983426"
      ]
     },
     "metadata": {},
     "output_type": "display_data"
    }
   ],
   "source": [
    "t(coef(fit)[c(3,4)])%*%(vcov(fit)[c(3,4), c(3,4)])%*%(coef(fit)[c(3,4)])       #test de wald"
   ]
  },
  {
   "cell_type": "markdown",
   "metadata": {},
   "source": [
    " \n",
    " ##  Nueva  hipótesis\n",
    " \n",
    " Ahora para hacer una hipótesis sobre el tipo de lana, considero a $\\beta_2$. \n",
    "\n",
    "$$H_{0}: \\beta_2 = 0 \\;\\;\\;\\;\\; vs \\;\\;\\;\\;\\;\\; H_{1}: \\beta_2 \\neq  0 $$\n",
    "\n",
    "donde \n",
    "\n",
    "$$ \\xi _{W} = (\\hat{\\beta_2}  - \\beta_2^{0})' [\\hat{Var}(\\hat{\\beta_2})]{-1}(\\hat{\\beta_2}  - \\beta_2^{0})$$"
   ]
  },
  {
   "cell_type": "code",
   "execution_count": 7,
   "metadata": {},
   "outputs": [
    {
     "data": {
      "text/html": [
       "<strong>woolB:</strong> 15.9540798868803"
      ],
      "text/latex": [
       "\\textbf{woolB:} 15.9540798868803"
      ],
      "text/markdown": [
       "**woolB:** 15.9540798868803"
      ],
      "text/plain": [
       "   woolB \n",
       "15.95408 "
      ]
     },
     "metadata": {},
     "output_type": "display_data"
    }
   ],
   "source": [
    "(coef(fit)[c(2)])^2 /(vcov(fit)[c(2), c(2)])     #test de wald"
   ]
  },
  {
   "cell_type": "markdown",
   "metadata": {},
   "source": [
    "Aqui hay que notar que $\\xi _{W}=15.95407$ es el mismo test de wald para el casi univariado, vease la salida"
   ]
  },
  {
   "cell_type": "code",
   "execution_count": 8,
   "metadata": {},
   "outputs": [
    {
     "data": {
      "text/plain": [
       "\n",
       "Call:\n",
       "glm(formula = breaks ~ wool + tension, family = poisson(link = \"log\"), \n",
       "    data = warpbreaks)\n",
       "\n",
       "Deviance Residuals: \n",
       "    Min       1Q   Median       3Q      Max  \n",
       "-3.6871  -1.6503  -0.4269   1.1902   4.2616  \n",
       "\n",
       "Coefficients:\n",
       "            Estimate Std. Error z value Pr(>|z|)    \n",
       "(Intercept)  3.69196    0.04541  81.302  < 2e-16 ***\n",
       "woolB       -0.20599    0.05157  -3.994 6.49e-05 ***\n",
       "tensionM    -0.32132    0.06027  -5.332 9.73e-08 ***\n",
       "tensionH    -0.51849    0.06396  -8.107 5.21e-16 ***\n",
       "---\n",
       "Signif. codes:  0 '***' 0.001 '**' 0.01 '*' 0.05 '.' 0.1 ' ' 1\n",
       "\n",
       "(Dispersion parameter for poisson family taken to be 1)\n",
       "\n",
       "    Null deviance: 297.37  on 53  degrees of freedom\n",
       "Residual deviance: 210.39  on 50  degrees of freedom\n",
       "AIC: 493.06\n",
       "\n",
       "Number of Fisher Scoring iterations: 4\n"
      ]
     },
     "metadata": {},
     "output_type": "display_data"
    }
   ],
   "source": [
    "summary(fit)"
   ]
  },
  {
   "cell_type": "markdown",
   "metadata": {},
   "source": [
    "Dese cuenta que $\\xi _{W}=15.95407$ es el mismo valor de   $(zvalue)^2=(-3.994)^2 = 15.95407$ este valor es el que hay que comparar con una $\\chi ^2 $ con un grado de libertad, 1df"
   ]
  }
 ],
 "metadata": {
  "kernelspec": {
   "display_name": "R",
   "language": "R",
   "name": "ir"
  },
  "language_info": {
   "codemirror_mode": "r",
   "file_extension": ".r",
   "mimetype": "text/x-r-source",
   "name": "R",
   "pygments_lexer": "r",
   "version": "3.6.1"
  }
 },
 "nbformat": 4,
 "nbformat_minor": 2
}
