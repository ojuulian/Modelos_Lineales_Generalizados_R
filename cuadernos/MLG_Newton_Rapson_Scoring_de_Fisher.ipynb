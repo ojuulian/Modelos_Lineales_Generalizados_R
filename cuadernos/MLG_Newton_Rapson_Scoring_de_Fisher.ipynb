{
 "cells": [
  {
   "cell_type": "markdown",
   "metadata": {},
   "source": [
    "<img src=\"./unal.png\" align=left width=\"150\" height=\"150\"></img>\n",
    "\n",
    "$\\;$\n",
    "\n",
    "---\n",
    "<h2 align=\"center\">Algoritmo Newton Rapson caso univariado (aproximación de cuadratica mediante polinomios de taylor)</h2>\n",
    "\n",
    "\n",
    "#### Oscar Julian Layton"
   ]
  },
  {
   "cell_type": "markdown",
   "metadata": {},
   "source": [
    "En lo que concierne a la estimación de parámetros en un modelo lineal generalizado que puede ser descrito como sigue: \n",
    "\n",
    "$\\;$\n",
    "$$\\begin{equation*}\n",
    "     \\left\\{\n",
    "\t       \\begin{array}{ll}\n",
    "\t\t Y_k \\sim FED(\\mu_k, \\frac{\\phi}{m_k}), \\\\\n",
    "\t\t g(\\mu_k)=\\eta_k=\\mathbf{x}_k'\\beta \\\\\n",
    "\t\t Y_1, Y_2,...,Y_n ind\n",
    "\t       \\end{array}\n",
    "\t     \\right.\n",
    "   \\end{equation*}\n",
    "   $$\n",
    "   \n",
    "   \n",
    "Se procede a realizar por máxima verosimilitud, consistiendo en maximixar $l(\\theta)$,\n",
    "\n",
    "$$\\widehat{\\beta}=argmin \\sum_{k=1}^{n}log[f(y_k , \\mu_k , \\phi/M_k)] $$\n",
    "$$l(\\beta)==\\sum_{k=1}^{n}\\frac{M_k}{\\phi}[y_k \\theta_k - b(\\theta_k)] + c(y_k , \\phi/M_k)$$\n",
    "\n",
    "que es lo mismo que maximixar a:\n",
    "\n",
    "$$l(\\beta)=\\sum_{k=1}^{n}\\frac{M_k}{\\phi}[y_k \\theta_k - b(\\theta_k)] $$\n",
    "\n",
    "Para lo grar lo anterior hallo el vector gradiente e igualo a cero:\n",
    "\n",
    "$$U(\\beta)=[\\frac{dl(\\beta)}{d\\beta_j}=\\frac{1}{\\phi} \\sum_{k=1}^{n} M_k [  y_k \\frac{d\\theta_k}{d\\mu_k}  \\frac{d\\mu_k}{d\\eta_k}  \\frac{d\\eta_k}{d\\beta_k}-b'(\\theta)\\frac{d\\theta_k}{d\\mu_k}  \\frac{d\\mu_k}{d\\eta_k}  \\frac{d\\eta_k}{d\\beta_k}]]=0$$\n",
    "\n",
    "Obteniendose de esta manera: \n",
    "\n",
    "$$U(\\beta)= \\frac{dl(\\beta)}{d\\beta_j} = \\sum_{k=1}^{n} \\frac{M_k}{\\phi}\\frac{(y_k - \\mu_k)}{V(\\mu_k)g'(\\mu_k)}x_{kj}$$\n",
    "\n",
    "De forma matricial:\n",
    "\n",
    "$$U(\\beta)=\\frac{1}{\\phi}X'MSV^{1/2}(Y-\\mu)$$\n",
    "\n",
    "Pero el despeje solo puede hacerse de forma analícica cuando se trata del enclace canónico, donde $\\beta=(X'X)^{-1} X'Y$. No obstante encontrar el $\\beta$ que maximiza a $l(\\beta)$ cuando $U(\\beta)=\\frac{1}{\\phi}X'MSV^{1/2}(Y-\\mu)=0$ puede hallarse haciendo una aproximación por polinomios de Taylor de la función $l(\\beta)$ la cual denominaremos $l^{*}(\\beta)$ la cual es el nuevo objetivo a maximizar."
   ]
  },
  {
   "cell_type": "markdown",
   "metadata": {},
   "source": [
    "$$l(\\beta) \t\\approx l^{*}(\\beta) = l(\\beta^{(o)}) +\\frac{dl(\\beta)}{d\\beta}|_{(\\beta^{(o)})}(\\beta-\\beta^{(o)}) +\\frac{d^2l(\\beta)}{d^2\\beta}|_{(\\beta^{(o)})}\\frac{(\\beta-\\beta^{(o)})}{{2!}} $$\n",
    "\n",
    "\n",
    "$$l^{*}_{(\\beta)}=l_{(\\beta^{(o)})}+l'_{(\\beta^{(o)})}(\\beta-\\beta^{(o)})\n",
    "+l''_{(\\beta^{(o)})}\\dfrac {(\\beta-\\beta^{(o)})^2}{2!}\n",
    "$$\n",
    "\n",
    "Quedando: \n",
    "$$l^{*}(\\beta)= l(\\beta^{0}) + U(\\beta^{0})(\\beta -\\beta^{0} )- \\frac{1}{2}J(\\beta^{0})(\\beta-\\beta^{0})^2$$\n",
    "$$\\beta^{max} = \\beta^{o} - [J(\\beta^{o})]^{-1} U(\\beta^{o}) $$\n",
    "\n",
    "Luego el método Newton Rapson es \" maximizar iterativamente\":\n",
    "\n",
    "$$\\beta^{[t+1]} = \\beta^{[t]} + J[\\beta^{[t]}]^{-1}U[\\beta^{t}] \\;\\;\\; z=0,1,2,...$$  "
   ]
  },
  {
   "cell_type": "markdown",
   "metadata": {},
   "source": [
    "## Ejemplo"
   ]
  },
  {
   "cell_type": "markdown",
   "metadata": {},
   "source": [
    "A continuación se muestra un conjunto de datos que representan el número de roturas de urdimbre por telar, donde un telar corresponde a una longitud fija de hilo. Donde:\n",
    "\n",
    "* **Breaks:** Número de roturas.\n",
    "* **Wool:** Tipo de lana (A,B).\n",
    "* **Tension:** Nivel de tensión (L,M,H)."
   ]
  },
  {
   "cell_type": "code",
   "execution_count": 2,
   "metadata": {},
   "outputs": [
    {
     "data": {
      "text/html": [
       "<table>\n",
       "<thead><tr><th scope=col>breaks</th><th scope=col>wool</th><th scope=col>tension</th></tr></thead>\n",
       "<tbody>\n",
       "\t<tr><td>26</td><td>A </td><td>L </td></tr>\n",
       "\t<tr><td>30</td><td>A </td><td>L </td></tr>\n",
       "\t<tr><td>54</td><td>A </td><td>L </td></tr>\n",
       "\t<tr><td>25</td><td>A </td><td>L </td></tr>\n",
       "\t<tr><td>70</td><td>A </td><td>L </td></tr>\n",
       "\t<tr><td>52</td><td>A </td><td>L </td></tr>\n",
       "\t<tr><td>51</td><td>A </td><td>L </td></tr>\n",
       "\t<tr><td>26</td><td>A </td><td>L </td></tr>\n",
       "\t<tr><td>67</td><td>A </td><td>L </td></tr>\n",
       "\t<tr><td>18</td><td>A </td><td>M </td></tr>\n",
       "</tbody>\n",
       "</table>\n"
      ],
      "text/latex": [
       "\\begin{tabular}{r|lll}\n",
       " breaks & wool & tension\\\\\n",
       "\\hline\n",
       "\t 26 & A  & L \\\\\n",
       "\t 30 & A  & L \\\\\n",
       "\t 54 & A  & L \\\\\n",
       "\t 25 & A  & L \\\\\n",
       "\t 70 & A  & L \\\\\n",
       "\t 52 & A  & L \\\\\n",
       "\t 51 & A  & L \\\\\n",
       "\t 26 & A  & L \\\\\n",
       "\t 67 & A  & L \\\\\n",
       "\t 18 & A  & M \\\\\n",
       "\\end{tabular}\n"
      ],
      "text/markdown": [
       "\n",
       "| breaks | wool | tension |\n",
       "|---|---|---|\n",
       "| 26 | A  | L  |\n",
       "| 30 | A  | L  |\n",
       "| 54 | A  | L  |\n",
       "| 25 | A  | L  |\n",
       "| 70 | A  | L  |\n",
       "| 52 | A  | L  |\n",
       "| 51 | A  | L  |\n",
       "| 26 | A  | L  |\n",
       "| 67 | A  | L  |\n",
       "| 18 | A  | M  |\n",
       "\n"
      ],
      "text/plain": [
       "   breaks wool tension\n",
       "1  26     A    L      \n",
       "2  30     A    L      \n",
       "3  54     A    L      \n",
       "4  25     A    L      \n",
       "5  70     A    L      \n",
       "6  52     A    L      \n",
       "7  51     A    L      \n",
       "8  26     A    L      \n",
       "9  67     A    L      \n",
       "10 18     A    M      "
      ]
     },
     "metadata": {},
     "output_type": "display_data"
    }
   ],
   "source": [
    "data(warpbreaks)\n",
    "head(warpbreaks,n = 10)"
   ]
  },
  {
   "cell_type": "markdown",
   "metadata": {},
   "source": [
    "Al realizarse una regresión se quiere ver si el número de roturas en que cada uno de los dispositivos funcionó en el modo 1 po en el modo 2 me ayuda a explicar las diferencias en el numero de fallas que rpesentaron los disposiitivos. Por consiguiente se procede a hacer una regresión con respuesta Poisson, $Y_k$ es Poisson con media $\\mu_k$ donde $\\mu_k$ depende de las covariables (intercepto $\\beta_1$, $\\beta_2$ que depende de wool,  $\\beta_3$ que depende de tension), a qui la función de enlace es la canonica que en caso de la Poisson en la **LOGARITMO**."
   ]
  },
  {
   "cell_type": "code",
   "execution_count": 3,
   "metadata": {},
   "outputs": [
    {
     "data": {
      "text/html": [
       "<table>\n",
       "<thead><tr><th scope=col>(Intercept)</th><th scope=col>woolB</th><th scope=col>tensionM</th><th scope=col>tensionH</th></tr></thead>\n",
       "<tbody>\n",
       "\t<tr><td>1</td><td>0</td><td>0</td><td>0</td></tr>\n",
       "\t<tr><td>1</td><td>0</td><td>0</td><td>0</td></tr>\n",
       "\t<tr><td>1</td><td>0</td><td>0</td><td>0</td></tr>\n",
       "\t<tr><td>1</td><td>0</td><td>0</td><td>0</td></tr>\n",
       "\t<tr><td>1</td><td>0</td><td>0</td><td>0</td></tr>\n",
       "\t<tr><td>1</td><td>0</td><td>0</td><td>0</td></tr>\n",
       "\t<tr><td>1</td><td>0</td><td>0</td><td>0</td></tr>\n",
       "\t<tr><td>1</td><td>0</td><td>0</td><td>0</td></tr>\n",
       "\t<tr><td>1</td><td>0</td><td>0</td><td>0</td></tr>\n",
       "\t<tr><td>1</td><td>0</td><td>1</td><td>0</td></tr>\n",
       "\t<tr><td>1</td><td>0</td><td>1</td><td>0</td></tr>\n",
       "\t<tr><td>1</td><td>0</td><td>1</td><td>0</td></tr>\n",
       "\t<tr><td>1</td><td>0</td><td>1</td><td>0</td></tr>\n",
       "</tbody>\n",
       "</table>\n"
      ],
      "text/latex": [
       "\\begin{tabular}{r|llll}\n",
       " (Intercept) & woolB & tensionM & tensionH\\\\\n",
       "\\hline\n",
       "\t 1 & 0 & 0 & 0\\\\\n",
       "\t 1 & 0 & 0 & 0\\\\\n",
       "\t 1 & 0 & 0 & 0\\\\\n",
       "\t 1 & 0 & 0 & 0\\\\\n",
       "\t 1 & 0 & 0 & 0\\\\\n",
       "\t 1 & 0 & 0 & 0\\\\\n",
       "\t 1 & 0 & 0 & 0\\\\\n",
       "\t 1 & 0 & 0 & 0\\\\\n",
       "\t 1 & 0 & 0 & 0\\\\\n",
       "\t 1 & 0 & 1 & 0\\\\\n",
       "\t 1 & 0 & 1 & 0\\\\\n",
       "\t 1 & 0 & 1 & 0\\\\\n",
       "\t 1 & 0 & 1 & 0\\\\\n",
       "\\end{tabular}\n"
      ],
      "text/markdown": [
       "\n",
       "| (Intercept) | woolB | tensionM | tensionH |\n",
       "|---|---|---|---|\n",
       "| 1 | 0 | 0 | 0 |\n",
       "| 1 | 0 | 0 | 0 |\n",
       "| 1 | 0 | 0 | 0 |\n",
       "| 1 | 0 | 0 | 0 |\n",
       "| 1 | 0 | 0 | 0 |\n",
       "| 1 | 0 | 0 | 0 |\n",
       "| 1 | 0 | 0 | 0 |\n",
       "| 1 | 0 | 0 | 0 |\n",
       "| 1 | 0 | 0 | 0 |\n",
       "| 1 | 0 | 1 | 0 |\n",
       "| 1 | 0 | 1 | 0 |\n",
       "| 1 | 0 | 1 | 0 |\n",
       "| 1 | 0 | 1 | 0 |\n",
       "\n"
      ],
      "text/plain": [
       "   (Intercept) woolB tensionM tensionH\n",
       "1  1           0     0        0       \n",
       "2  1           0     0        0       \n",
       "3  1           0     0        0       \n",
       "4  1           0     0        0       \n",
       "5  1           0     0        0       \n",
       "6  1           0     0        0       \n",
       "7  1           0     0        0       \n",
       "8  1           0     0        0       \n",
       "9  1           0     0        0       \n",
       "10 1           0     1        0       \n",
       "11 1           0     1        0       \n",
       "12 1           0     1        0       \n",
       "13 1           0     1        0       "
      ]
     },
     "metadata": {},
     "output_type": "display_data"
    }
   ],
   "source": [
    "fit <- glm(breaks ~ wool + tension, family = poisson(link=\"log\"), data=warpbreaks)\n",
    "X <- model.matrix(fit); head(X,n=13)                           #matriz modelo\n",
    "y<-warpbreaks$breaks\n",
    "#y <- fit$y;y???????\n",
    "yes <- log(ifelse(warpbreaks$breaks==0,0.1,y))     #\n",
    "#b0 <- solve(t(X)%*%X)%*%t(X)%*%yes                #condicion inicial con yes=g(y)\n",
    "V <- diag(yes)\n",
    "b0 <- solve(t(X)%*%V%*%X)%*%t(X)%*%V%*%yes         #Valor inicial"
   ]
  },
  {
   "cell_type": "code",
   "execution_count": 4,
   "metadata": {},
   "outputs": [
    {
     "data": {
      "text/html": [
       "<table>\n",
       "<tbody>\n",
       "\t<tr><th scope=row>(Intercept)</th><td> 3.6367997</td></tr>\n",
       "\t<tr><th scope=row>woolB</th><td>-0.1761909</td></tr>\n",
       "\t<tr><th scope=row>tensionM</th><td>-0.2942874</td></tr>\n",
       "\t<tr><th scope=row>tensionH</th><td>-0.4985860</td></tr>\n",
       "</tbody>\n",
       "</table>\n"
      ],
      "text/latex": [
       "\\begin{tabular}{r|l}\n",
       "\t(Intercept) &  3.6367997\\\\\n",
       "\twoolB & -0.1761909\\\\\n",
       "\ttensionM & -0.2942874\\\\\n",
       "\ttensionH & -0.4985860\\\\\n",
       "\\end{tabular}\n"
      ],
      "text/markdown": [
       "\n",
       "| (Intercept) |  3.6367997 |\n",
       "| woolB | -0.1761909 |\n",
       "| tensionM | -0.2942874 |\n",
       "| tensionH | -0.4985860 |\n",
       "\n"
      ],
      "text/plain": [
       "            [,1]      \n",
       "(Intercept)  3.6367997\n",
       "woolB       -0.1761909\n",
       "tensionM    -0.2942874\n",
       "tensionH    -0.4985860"
      ]
     },
     "metadata": {},
     "output_type": "display_data"
    }
   ],
   "source": [
    "b0"
   ]
  },
  {
   "cell_type": "markdown",
   "metadata": {},
   "source": [
    "Adicionalmente X es la matriz diseño del modelo, como hay que determinar un valor inicial $\\beta^{[0]}=(X'X)^{-1}X' Y^{*}$ donde $Y^{*}=g(y)$, no obstante como en el acaso de la Poisson **la funcion de enlace canonica es LOGARITMO**  $Y^{*}=log(y)$ existe problemas en el caso que $y_k = 0$. Se procede a establecer otro $Y_k= yes$ el cual es el verdadero valor inicial. \n",
    "\n",
    "### ALGORITMO SCORING DE FISHER PARA EL EJEMPLO DEL MUMERO DE ROTURAS."
   ]
  },
  {
   "cell_type": "code",
   "execution_count": 50,
   "metadata": {},
   "outputs": [
    {
     "name": "stdout",
     "output_type": "stream",
     "text": [
      " t    beta1      beta2      beta3      beta4      U(beta)1      U(beta)2\n",
      " 0 3.636800 -0.1761909 -0.2942874 -0.4985860  4.205289e+01  7.958771e+00\n",
      " 1 3.693322 -0.2067940 -0.3220936 -0.5191305 -8.982168e-01 -9.997627e-02\n",
      " 2 3.691964 -0.2059889 -0.3213209 -0.5184889 -4.837670e-04 -5.073176e-05\n",
      " 3 3.691963 -0.2059884 -0.3213204 -0.5184885 -1.522054e-10 -1.919176e-11\n",
      " 4 3.691963 -0.2059884 -0.3213204 -0.5184885 -3.552714e-14 -7.105427e-15\n",
      "      U(beta)3      U(beta)4        delta\n",
      "  6.908359e+00  8.402871e+00             \n",
      " -1.063661e-01 -1.384748e-01 1.736926e-01\n",
      " -4.998201e-05 -5.583474e-05 3.893134e-03\n",
      " -1.405809e-11 -1.329070e-11 2.147502e-06\n",
      "  1.065814e-13 -1.172396e-13 6.339675e-13\n"
     ]
    }
   ],
   "source": [
    "epsilon <- 0.000000001\n",
    "tol <- 1\n",
    "iter <- 30\n",
    "beta_old <- b0\n",
    "b <- gsub(\" \",\"\",paste(\"beta\",as.character(1:length(b0))))\n",
    "u <- gsub(\" \",\"\",paste(\"U(beta)\",as.character(1:length(b0))))\n",
    "salida <- matrix(NA,iter+1,2*length(b0)+2)\n",
    "colnames(salida) <- c(\"t\",b,u,\"delta\")\n",
    "rownames(salida) <- rep(\"\",nrow(salida))\n",
    "for(t in 0:iter){\n",
    "  mu <- exp(X%*%beta_old)\n",
    "  U <- t(X)%*%(y-mu)\n",
    "  salida[t+1,1:(ncol(salida)-1)] <- c(t,beta_old,U)\n",
    "  if(tol < epsilon) break\n",
    "  Xw <- X*matrix(sqrt(mu),nrow(X),ncol(X))\n",
    "  K <-  t(Xw)%*%Xw\n",
    "  beta_new <- beta_old + solve(K)%*%U\n",
    "  tol <- max(abs((beta_new - beta_old)/beta_old))    #funcion delta que establece el criterio de convergencia en el proceso\n",
    "  beta_old <- beta_new\n",
    "  salida[t+2,ncol(salida)] <- tol\n",
    "}\n",
    "print(salida[!is.na(salida[,2]),],na.print = \"\")"
   ]
  },
  {
   "cell_type": "markdown",
   "metadata": {},
   "source": [
    "Con respecto a la estimación del primer beta se tiene $\\beta^{[1]} = \\beta^{[0]} + J[\\beta^{[0]}]^{-1}U[\\beta^{[0]}] \\;\\;\\;$, no obstante las columnas $U(beta)1$, $U(beta)2$, $U(beta)3$, $U(beta)4$ es el gradiente evaluado en el $\\beta$ correspondiente, cabe destacar que el objetrivo es: **Al tener U($\\beta$)= 0 se tiene pequeños cambios en las estimaciones de $\\beta$ en conclusión $\\beta^{[t+1]}=\\beta^{[t]} $** se deternrá en tal caso el procedimiento. En el ejemplo son necesarios solamente 4 iteraciones cuando se cumple el criterio de convergencia especificado en el codigo. **Delta** es la función no negativa que compara los $\\beta^{[t+1]}=\\beta^{[t]} $ de las iteraciones\n",
    "\n",
    "Para comparar, realizo glm:"
   ]
  },
  {
   "cell_type": "code",
   "execution_count": 51,
   "metadata": {},
   "outputs": [
    {
     "data": {
      "text/plain": [
       "\n",
       "Call:\n",
       "glm(formula = breaks ~ wool + tension, family = poisson(link = \"log\"), \n",
       "    data = warpbreaks)\n",
       "\n",
       "Deviance Residuals: \n",
       "    Min       1Q   Median       3Q      Max  \n",
       "-3.6871  -1.6503  -0.4269   1.1902   4.2616  \n",
       "\n",
       "Coefficients:\n",
       "            Estimate Std. Error z value Pr(>|z|)    \n",
       "(Intercept)  3.69196    0.04541  81.302  < 2e-16 ***\n",
       "woolB       -0.20599    0.05157  -3.994 6.49e-05 ***\n",
       "tensionM    -0.32132    0.06027  -5.332 9.73e-08 ***\n",
       "tensionH    -0.51849    0.06396  -8.107 5.21e-16 ***\n",
       "---\n",
       "Signif. codes:  0 '***' 0.001 '**' 0.01 '*' 0.05 '.' 0.1 ' ' 1\n",
       "\n",
       "(Dispersion parameter for poisson family taken to be 1)\n",
       "\n",
       "    Null deviance: 297.37  on 53  degrees of freedom\n",
       "Residual deviance: 210.39  on 50  degrees of freedom\n",
       "AIC: 493.06\n",
       "\n",
       "Number of Fisher Scoring iterations: 4\n"
      ]
     },
     "metadata": {},
     "output_type": "display_data"
    },
    {
     "data": {
      "text/html": [
       "<dl class=dl-horizontal>\n",
       "\t<dt>(Intercept)</dt>\n",
       "\t\t<dd>3.6919631449538</dd>\n",
       "\t<dt>woolB</dt>\n",
       "\t\t<dd>-0.205988442648863</dd>\n",
       "\t<dt>tensionM</dt>\n",
       "\t\t<dd>-0.321320431600191</dd>\n",
       "\t<dt>tensionH</dt>\n",
       "\t\t<dd>-0.518488496517345</dd>\n",
       "</dl>\n"
      ],
      "text/latex": [
       "\\begin{description*}\n",
       "\\item[(Intercept)] 3.6919631449538\n",
       "\\item[woolB] -0.205988442648863\n",
       "\\item[tensionM] -0.321320431600191\n",
       "\\item[tensionH] -0.518488496517345\n",
       "\\end{description*}\n"
      ],
      "text/markdown": [
       "(Intercept)\n",
       ":   3.6919631449538woolB\n",
       ":   -0.205988442648863tensionM\n",
       ":   -0.321320431600191tensionH\n",
       ":   -0.518488496517345\n",
       "\n"
      ],
      "text/plain": [
       "(Intercept)       woolB    tensionM    tensionH \n",
       "  3.6919631  -0.2059884  -0.3213204  -0.5184885 "
      ]
     },
     "metadata": {},
     "output_type": "display_data"
    }
   ],
   "source": [
    "fit <- glm(breaks ~ wool + tension, family = poisson(link=\"log\"), data=warpbreaks) \n",
    "summary(fit)\n",
    "coef(fit)\n",
    "#En la funcion glm se puede modificar el numero de tolerancia y especificar el número de iretaciones mediante glm(, control)"
   ]
  },
  {
   "cell_type": "markdown",
   "metadata": {},
   "source": [
    "Se puede ver que el numero de iteraciones en el scoring de fisher es 4. lo mismo que el procedimiento descrito, asi mismo la estimaciones de los parámetros son exactas a las especificadas en el código."
   ]
  },
  {
   "cell_type": "markdown",
   "metadata": {},
   "source": [
    "## Ejemplo Bernoulli\n",
    "\n",
    "Un conjunto de datos simulados que contiene información sobre diez mil clientes. Es llamado **Default**"
   ]
  },
  {
   "cell_type": "code",
   "execution_count": 52,
   "metadata": {},
   "outputs": [
    {
     "name": "stdout",
     "output_type": "stream",
     "text": [
      " t      beta1      beta2        beta3        beta4      U(beta)1      U(beta)2\n",
      " 0  -2.553964 -0.0453951 0.0005830983 8.751667e-07 -8.368837e+02 -2.308846e+02\n",
      " 1  -4.364250 -0.1303933 0.0016181177 2.332365e-06 -2.890197e+02 -7.730394e+01\n",
      " 2  -6.481413 -0.2686569 0.0030116574 3.566512e-06 -1.240687e+02 -3.491946e+01\n",
      " 3  -8.565415 -0.4373601 0.0043310472 3.620872e-06 -4.864910e+01 -1.453082e+01\n",
      " 4 -10.138458 -0.5785662 0.0052969997 3.252553e-06 -1.342946e+01 -4.204264e+00\n",
      " 5 -10.787351 -0.6390603 0.0056878504 3.058279e-06 -1.508081e+00 -4.868680e-01\n",
      " 6 -10.867968 -0.6466731 0.0057358668 3.033781e-06 -2.082621e-02 -6.835144e-03\n",
      " 7 -10.869045 -0.6467758 0.0057365052 3.033450e-06 -3.766851e-06 -1.246861e-06\n",
      " 8 -10.869045 -0.6467758 0.0057365053 3.033450e-06 -2.700062e-13 -8.970602e-14\n",
      " 9 -10.869045 -0.6467758 0.0057365053 3.033450e-06  2.042810e-13  6.483702e-14\n",
      "      U(beta)3      U(beta)4        delta\n",
      " -5.353207e+05 -2.830501e+07             \n",
      " -1.563975e+05 -9.822362e+06 1.872410e+00\n",
      " -8.142922e+04 -4.197034e+06 1.060357e+00\n",
      " -3.888365e+04 -1.632853e+06 6.279507e-01\n",
      " -1.231053e+04 -4.470442e+05 3.228600e-01\n",
      " -1.502258e+03 -4.988015e+04 1.045587e-01\n",
      " -2.155016e+01 -6.864000e+02 1.191246e-02\n",
      " -3.949396e-03 -1.239464e-01 1.587674e-04\n",
      " -4.147296e-10 -8.905772e-09 2.838318e-08\n",
      "  3.310561e-10  5.937181e-09 9.773081e-16\n"
     ]
    },
    {
     "data": {
      "text/plain": [
       "\n",
       "Call:\n",
       "glm(formula = default ~ student + balance + income, family = \"binomial\", \n",
       "    data = Default)\n",
       "\n",
       "Deviance Residuals: \n",
       "    Min       1Q   Median       3Q      Max  \n",
       "-2.4691  -0.1418  -0.0557  -0.0203   3.7383  \n",
       "\n",
       "Coefficients:\n",
       "              Estimate Std. Error z value Pr(>|z|)    \n",
       "(Intercept) -1.087e+01  4.923e-01 -22.080  < 2e-16 ***\n",
       "studentYes  -6.468e-01  2.363e-01  -2.738  0.00619 ** \n",
       "balance      5.737e-03  2.319e-04  24.738  < 2e-16 ***\n",
       "income       3.033e-06  8.203e-06   0.370  0.71152    \n",
       "---\n",
       "Signif. codes:  0 '***' 0.001 '**' 0.01 '*' 0.05 '.' 0.1 ' ' 1\n",
       "\n",
       "(Dispersion parameter for binomial family taken to be 1)\n",
       "\n",
       "    Null deviance: 2920.6  on 9999  degrees of freedom\n",
       "Residual deviance: 1571.5  on 9996  degrees of freedom\n",
       "AIC: 1579.5\n",
       "\n",
       "Number of Fisher Scoring iterations: 8\n"
      ]
     },
     "metadata": {},
     "output_type": "display_data"
    },
    {
     "data": {
      "text/html": [
       "<dl class=dl-horizontal>\n",
       "\t<dt>(Intercept)</dt>\n",
       "\t\t<dd>-10.8690451961682</dd>\n",
       "\t<dt>studentYes</dt>\n",
       "\t\t<dd>-0.646775806644788</dd>\n",
       "\t<dt>balance</dt>\n",
       "\t\t<dd>0.00573650525598958</dd>\n",
       "\t<dt>income</dt>\n",
       "\t\t<dd>3.03345012467619e-06</dd>\n",
       "</dl>\n"
      ],
      "text/latex": [
       "\\begin{description*}\n",
       "\\item[(Intercept)] -10.8690451961682\n",
       "\\item[studentYes] -0.646775806644788\n",
       "\\item[balance] 0.00573650525598958\n",
       "\\item[income] 3.03345012467619e-06\n",
       "\\end{description*}\n"
      ],
      "text/markdown": [
       "(Intercept)\n",
       ":   -10.8690451961682studentYes\n",
       ":   -0.646775806644788balance\n",
       ":   0.00573650525598958income\n",
       ":   3.03345012467619e-06\n",
       "\n"
      ],
      "text/plain": [
       "  (Intercept)    studentYes       balance        income \n",
       "-1.086905e+01 -6.467758e-01  5.736505e-03  3.033450e-06 "
      ]
     },
     "metadata": {},
     "output_type": "display_data"
    }
   ],
   "source": [
    "#####################################################################################################################\n",
    "###################################################### Bernoulli ####################################################\n",
    "#####################################################################################################################\n",
    "\n",
    "library(ISLR)\n",
    "data(Default)\n",
    "fit <- glm(default ~ student + balance + income, family=\"binomial\", data=Default)\n",
    "X <- model.matrix(fit)\n",
    "y <- as.numeric(Default$default)-1\n",
    "yes <- log(abs(y-0.1)/(1 - abs(y-0.1)))\n",
    "b0 <- solve(t(X)%*%X)%*%t(X)%*%yes\n",
    "\n",
    "epsilon <- 0.0000000001\n",
    "tol <- 1\n",
    "iter <- 30\n",
    "beta_old <- b0\n",
    "b <- gsub(\" \",\"\",paste(\"beta\",as.character(1:length(b0))))\n",
    "u <- gsub(\" \",\"\",paste(\"U(beta)\",as.character(1:length(b0))))\n",
    "salida <- matrix(NA,iter+1,2*length(b0)+2)\n",
    "colnames(salida) <- c(\"t\",b,u,\"delta\")\n",
    "rownames(salida) <- rep(\"\",nrow(salida))\n",
    "for(t in 0:iter){\n",
    "     mu <- exp(X%*%beta_old)/(1 + exp(X%*%beta_old))\n",
    "     U <- t(X)%*%(y-mu)\n",
    "     salida[t+1,1:(ncol(salida)-1)] <- c(t,beta_old,U)\n",
    "     if(tol < epsilon) break\n",
    "     Xw <- X*matrix(sqrt(mu*(1-mu)),nrow(X),ncol(X))\n",
    "     K <-  t(Xw)%*%Xw\n",
    "     beta_new <- beta_old + solve(K)%*%U\n",
    "     tol <- max(abs((beta_new - beta_old)/beta_old))\n",
    "     beta_old <- beta_new\n",
    "     salida[t+2,1:ncol(salida)] <- tol\n",
    "}\n",
    "print(salida[!is.na(salida[,2]),],na.print = \"\")\n",
    "fit <- glm(default ~ student + balance + income, family=\"binomial\", data=Default)\n",
    "summary(fit)\n",
    "coef(fit)"
   ]
  },
  {
   "cell_type": "markdown",
   "metadata": {},
   "source": [
    "## Ejemplo Poisson\n",
    "\n",
    "Un conjunto de datos simulados que contiene información sobre diez mil clientes. Conjunto de datos que es llamado **warpbreaks**"
   ]
  },
  {
   "cell_type": "code",
   "execution_count": 53,
   "metadata": {},
   "outputs": [
    {
     "ename": "ERROR",
     "evalue": "Error in solve.default(t(X) %*% V %*% X): sistema es computacionalmente singular: número de condición recíproco = 0\n",
     "output_type": "error",
     "traceback": [
      "Error in solve.default(t(X) %*% V %*% X): sistema es computacionalmente singular: número de condición recíproco = 0\nTraceback:\n",
      "1. solve(t(X) %*% V %*% X)",
      "2. solve.default(t(X) %*% V %*% X)"
     ]
    }
   ],
   "source": [
    "\n",
    "#####################################################################################################################\n",
    "###################################################### Poisson ######################################################\n",
    "#####################################################################################################################\n",
    "\n",
    "data(warpbreaks)\n",
    "fit <- glm(breaks ~ wool + tension, family = poisson(link=\"log\"), data=warpbreaks)\n",
    "X <- model.matrix(fit)\n",
    "yes <- log(ifelse(warpbreaks$breaks==0,0.1,y))\n",
    "#b0 <- solve(t(X)%*%X)%*%t(X)%*%yes\n",
    "V <- diag(yes)\n",
    "b0 <- solve(t(X)%*%V%*%X)%*%t(X)%*%V%*%yes\n",
    "\n",
    "epsilon <- 0.000000001\n",
    "tol <- 1\n",
    "iter <- 30\n",
    "beta_old <- b0\n",
    "b <- gsub(\" \",\"\",paste(\"beta\",as.character(1:length(b0))))\n",
    "u <- gsub(\" \",\"\",paste(\"U(beta)\",as.character(1:length(b0))))\n",
    "salida <- matrix(NA,iter+1,2*length(b0)+2)\n",
    "colnames(salida) <- c(\"t\",b,u,\"delta\")\n",
    "rownames(salida) <- rep(\"\",nrow(salida))\n",
    "for(t in 0:iter){\n",
    "     mu <- exp(X%*%beta_old)\n",
    "     U <- t(X)%*%(y-mu)\n",
    "     salida[t+1,1:(ncol(salida)-1)] <- c(t,beta_old,U)\n",
    "     if(tol < epsilon) break\n",
    "     Xw <- X*matrix(sqrt(mu),nrow(X),ncol(X))\n",
    "     K <-  t(Xw)%*%Xw\n",
    "     beta_new <- beta_old + solve(K)%*%U\n",
    "     tol <- max(abs((beta_new - beta_old)/beta_old))\n",
    "     beta_old <- beta_new\n",
    "     salida[t+2,ncol(salida)] <- tol\n",
    "}\n",
    "print(salida[!is.na(salida[,2]),],na.print = \"\")\n",
    "fit <- glm(breaks ~ wool + tension, family = poisson(link=\"log\"), data=warpbreaks)\n",
    "summary(fit)\n",
    "coef(fit)"
   ]
  },
  {
   "cell_type": "markdown",
   "metadata": {},
   "source": [
    "## Ejemplo Gamma\n",
    "\n",
    "El conjunto de datos tiene 200 filas y 5 columnas. Los sujetos eran hombres y mujeres que realizaban ejercicio regularmente. Hay algunos datos faltantes.. Conjunto de datos que es llamado **warpbreaks**"
   ]
  },
  {
   "cell_type": "markdown",
   "metadata": {},
   "source": [
    "**NOTA** El algoritmo lo que hace es biuscar ceros en el vector gradiente."
   ]
  },
  {
   "cell_type": "markdown",
   "metadata": {},
   "source": [
    "# Algoritmo scoring de Fisher"
   ]
  },
  {
   "cell_type": "code",
   "execution_count": 1,
   "metadata": {},
   "outputs": [
    {
     "name": "stderr",
     "output_type": "stream",
     "text": [
      "Loading required package: carData\n"
     ]
    },
    {
     "name": "stdout",
     "output_type": "stream",
     "text": [
      " t      beta1         beta2         beta3         beta4      U(beta)1\n",
      " 0 0.04511081 -0.0001392190 -0.0003779692 -0.0001167892 -1.239956e+01\n",
      " 1 0.04219535 -0.0001279321 -0.0005803408 -0.0001039265 -3.510622e+00\n",
      " 2 0.04214907 -0.0001275907 -0.0005859674 -0.0001037573 -3.539485e-03\n",
      " 3 0.04214901 -0.0001275902 -0.0005859743 -0.0001037572 -5.503985e-09\n",
      " 4 0.04214901 -0.0001275902 -0.0005859743 -0.0001037572 -5.755396e-13\n",
      "      U(beta)2      U(beta)3      U(beta)4        delta\n",
      " -3.506942e+03 -5.476393e+01 -3.715462e+03             \n",
      " -3.208712e+02 -2.917217e+00 -6.278386e+02 5.354181e-01\n",
      " -3.518534e-01 -3.197001e-03 -6.318923e-01 9.695390e-03\n",
      " -5.698058e-07 -4.803738e-09 -9.535402e-07 1.174952e-05\n",
      " -3.137757e-11 -9.166001e-13 -1.014087e-10 1.634405e-11\n"
     ]
    },
    {
     "data": {
      "text/plain": [
       "\n",
       "Call:\n",
       "glm(formula = repwt ~ weight + sex + height, family = Gamma, \n",
       "    data = Davis)\n",
       "\n",
       "Deviance Residuals: \n",
       "      Min         1Q     Median         3Q        Max  \n",
       "-0.168375  -0.034415   0.001928   0.034984   0.172745  \n",
       "\n",
       "Coefficients:\n",
       "              Estimate Std. Error t value Pr(>|t|)    \n",
       "(Intercept)  4.215e-02  1.150e-03  36.662  < 2e-16 ***\n",
       "weight      -1.276e-04  4.624e-06 -27.594  < 2e-16 ***\n",
       "sexM        -5.860e-04  1.996e-04  -2.936  0.00376 ** \n",
       "height      -1.038e-04  6.468e-06 -16.041  < 2e-16 ***\n",
       "---\n",
       "Signif. codes:  0 '***' 0.001 '**' 0.01 '*' 0.05 '.' 0.1 ' ' 1\n",
       "\n",
       "(Dispersion parameter for Gamma family taken to be 0.003313355)\n",
       "\n",
       "    Null deviance: 7.42377  on 182  degrees of freedom\n",
       "Residual deviance: 0.59648  on 179  degrees of freedom\n",
       "  (17 observations deleted due to missingness)\n",
       "AIC: 1005.4\n",
       "\n",
       "Number of Fisher Scoring iterations: 4\n"
      ]
     },
     "metadata": {},
     "output_type": "display_data"
    },
    {
     "data": {
      "text/html": [
       "<dl class=dl-horizontal>\n",
       "\t<dt>(Intercept)</dt>\n",
       "\t\t<dd>0.0421490149601566</dd>\n",
       "\t<dt>weight</dt>\n",
       "\t\t<dd>-0.00012759022923072</dd>\n",
       "\t<dt>sexM</dt>\n",
       "\t\t<dd>-0.000585974315809507</dd>\n",
       "\t<dt>height</dt>\n",
       "\t\t<dd>-0.000103757166158914</dd>\n",
       "</dl>\n"
      ],
      "text/latex": [
       "\\begin{description*}\n",
       "\\item[(Intercept)] 0.0421490149601566\n",
       "\\item[weight] -0.00012759022923072\n",
       "\\item[sexM] -0.000585974315809507\n",
       "\\item[height] -0.000103757166158914\n",
       "\\end{description*}\n"
      ],
      "text/markdown": [
       "(Intercept)\n",
       ":   0.0421490149601566weight\n",
       ":   -0.00012759022923072sexM\n",
       ":   -0.000585974315809507height\n",
       ":   -0.000103757166158914\n",
       "\n"
      ],
      "text/plain": [
       "  (Intercept)        weight          sexM        height \n",
       " 0.0421490150 -0.0001275902 -0.0005859743 -0.0001037572 "
      ]
     },
     "metadata": {},
     "output_type": "display_data"
    }
   ],
   "source": [
    "#####################################################################################################################\n",
    "######################################################## Gama #######################################################\n",
    "#####################################################################################################################\n",
    "\n",
    "#library(CASdatasets)\n",
    "library(car)\n",
    "data(Davis)\n",
    "fit <- glm(repwt  ~ weight + sex + height, family=Gamma, data=Davis)\n",
    "X <- model.matrix(fit)\n",
    "y <- fit$y\n",
    "b0 <- solve(t(X)%*%X)%*%t(X)%*%(1/y)\n",
    "\n",
    "epsilon <- 0.0000000001\n",
    "tol <- 1\n",
    "iter <- 30\n",
    "beta_old <- b0\n",
    "b <- gsub(\" \",\"\",paste(\"beta\",as.character(1:length(b0))))\n",
    "u <- gsub(\" \",\"\",paste(\"U(beta)\",as.character(1:length(b0))))\n",
    "salida <- matrix(NA,iter+1,2*length(b0)+2)\n",
    "colnames(salida) <- c(\"t\",b,u,\"delta\")\n",
    "rownames(salida) <- rep(\"\",nrow(salida))\n",
    "for(t in 0:iter){\n",
    "     mu <- 1/(X%*%beta_old)\n",
    "     U <- t(X)%*%(y-mu)\n",
    "     salida[t+1,1:(ncol(salida)-1)] <- c(t,beta_old,U)\n",
    "     if(tol < epsilon) break\n",
    "     Xw <- X*matrix(sqrt(mu^2),nrow(X),ncol(X))\n",
    "     K <-  t(Xw)%*%Xw\n",
    "     beta_new <- beta_old - solve(K)%*%U\n",
    "     tol <- max(abs((beta_new - beta_old)/beta_old))\n",
    "     beta_old <- beta_new\n",
    "     salida[t+2,1:ncol(salida)] <- tol\n",
    "}\n",
    "print(salida[!is.na(salida[,2]),],na.print = \"\")\n",
    "fit <- glm(repwt  ~ weight + sex + height, family=Gamma, data=Davis)\n",
    "summary(fit)\n",
    "coef(fit)\n",
    "\n"
   ]
  },
  {
   "cell_type": "markdown",
   "metadata": {},
   "source": [
    "## Estimación del parámetro de dispersión $\\phi$ (CASO GAMMA)\n",
    "\n",
    "\n",
    "Esta estimación solo tiene sentido en el caso de la gamma puesto que en las otras distribuciones es 1.\n"
   ]
  },
  {
   "cell_type": "code",
   "execution_count": 8,
   "metadata": {},
   "outputs": [],
   "source": [
    "#ESTAS LINEAS ES PARA LLAMAR LAS FUNCIONES REALIZADAS POR EL DOCENTE hernando vanegas\n",
    "setwd(\"C:\\\\Users\\\\YULY\\\\Desktop\\\\Desktop\\\\UNAL 2018\\\\MLGz\\\\MLG Vanegas\") #busca por default en una carpeta en especifica todo.\n",
    "source(\"macros.txt\")#Lllamar el archivo de macros que está en la carpeta especifica,(son una fuciines especificas del profesor)"
   ]
  },
  {
   "cell_type": "code",
   "execution_count": 7,
   "metadata": {},
   "outputs": [
    {
     "name": "stdout",
     "output_type": "stream",
     "text": [
      "\n",
      "  Family:  Gamma \n",
      "    Link:  inverse \n",
      "                                                     Df     Value\n",
      "Residual deviance                                   179    0.5965\n",
      "Deviance-based estimate of dispersion parameter            0.0033\n",
      "Pearson's statistic                                 179    0.5931\n",
      "Pearson-based estimate of dispersion parameter             0.0033\n",
      "Adjusted R-squared based on the residual deviance          0.9183\n",
      "Adjusted R-squared based on the Pearson's statistic        0.9248\n",
      "-2*log-Likelihood                                        995.4288\n",
      "AIC                                                     1005.4288\n",
      "BIC                                                     1021.4762\n",
      "\n",
      "\n"
     ]
    }
   ],
   "source": [
    "gof_glm(fit)"
   ]
  },
  {
   "cell_type": "markdown",
   "metadata": {},
   "source": [
    "$$\\hat{\\phi}=\\frac{P(y;\\hat{\\mu})}{n-p} = \\frac{0.5931}{200-5} =0.003041538$$"
   ]
  }
 ],
 "metadata": {
  "kernelspec": {
   "display_name": "R",
   "language": "R",
   "name": "ir"
  },
  "language_info": {
   "codemirror_mode": "r",
   "file_extension": ".r",
   "mimetype": "text/x-r-source",
   "name": "R",
   "pygments_lexer": "r",
   "version": "3.6.1"
  }
 },
 "nbformat": 4,
 "nbformat_minor": 2
}
