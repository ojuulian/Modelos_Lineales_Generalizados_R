{
 "cells": [
  {
   "cell_type": "markdown",
   "metadata": {},
   "source": [
    "<img src=\"./unal.png\" align=left width=\"150\" height=\"150\"></img>\n",
    "\n",
    "$\\;$\n",
    "\n",
    "---\n",
    "<h2 align=\"center\">Ecuaciones generalizadas de estimación (Efectos de contaminación en aire)</h2>\n",
    "\n",
    "he ohio data frame has 2148 rows and 4 columns. The dataset is a subset of the ix-city study, a longitudinal study of the health effects of air pollution. This data frame contains the following columns: resp, an indicator of wheeze status\n",
    " (1=yes, 0=no); id, a numeric vector for subject id; age, a numeric vector of age,  0 is 9 years old; smoke, an indicator of maternal smoking at the first year of the study."
   ]
  },
  {
   "cell_type": "code",
   "execution_count": 2,
   "metadata": {},
   "outputs": [],
   "source": [
    "rm(list=ls())\n",
    "setwd(\"C:\\\\Users\\\\YULY\\\\Desktop\\\\Desktop\\\\UNAL 2018\\\\MLGz\\\\MLG Vanegas\")\n",
    "library(sqldf)\n",
    "library(numDeriv)\n",
    "library(Rfast)\n",
    "source(\"macros.txt\")\n",
    "source(\"test.txt\")"
   ]
  },
  {
   "cell_type": "code",
   "execution_count": 3,
   "metadata": {},
   "outputs": [
    {
     "name": "stdout",
     "output_type": "stream",
     "text": [
      "'data.frame':\t2148 obs. of  4 variables:\n",
      " $ resp : int  0 0 0 0 0 0 0 0 0 0 ...\n",
      " $ id   : int  0 0 0 0 1 1 1 1 2 2 ...\n",
      " $ age  : int  -2 -1 0 1 -2 -1 0 1 -2 -1 ...\n",
      " $ smoke: int  0 0 0 0 0 0 0 0 0 0 ...\n"
     ]
    },
    {
     "data": {
      "text/html": [
       "<table>\n",
       "<thead><tr><th scope=col>resp</th><th scope=col>id</th><th scope=col>age</th><th scope=col>smoke</th></tr></thead>\n",
       "<tbody>\n",
       "\t<tr><td>0 </td><td>0 </td><td>-2</td><td>0 </td></tr>\n",
       "\t<tr><td>0 </td><td>0 </td><td>-1</td><td>0 </td></tr>\n",
       "\t<tr><td>0 </td><td>0 </td><td> 0</td><td>0 </td></tr>\n",
       "\t<tr><td>0 </td><td>0 </td><td> 1</td><td>0 </td></tr>\n",
       "\t<tr><td>0 </td><td>1 </td><td>-2</td><td>0 </td></tr>\n",
       "\t<tr><td>0 </td><td>1 </td><td>-1</td><td>0 </td></tr>\n",
       "</tbody>\n",
       "</table>\n"
      ],
      "text/latex": [
       "\\begin{tabular}{r|llll}\n",
       " resp & id & age & smoke\\\\\n",
       "\\hline\n",
       "\t 0  & 0  & -2 & 0 \\\\\n",
       "\t 0  & 0  & -1 & 0 \\\\\n",
       "\t 0  & 0  &  0 & 0 \\\\\n",
       "\t 0  & 0  &  1 & 0 \\\\\n",
       "\t 0  & 1  & -2 & 0 \\\\\n",
       "\t 0  & 1  & -1 & 0 \\\\\n",
       "\\end{tabular}\n"
      ],
      "text/markdown": [
       "\n",
       "| resp | id | age | smoke |\n",
       "|---|---|---|---|\n",
       "| 0  | 0  | -2 | 0  |\n",
       "| 0  | 0  | -1 | 0  |\n",
       "| 0  | 0  |  0 | 0  |\n",
       "| 0  | 0  |  1 | 0  |\n",
       "| 0  | 1  | -2 | 0  |\n",
       "| 0  | 1  | -1 | 0  |\n",
       "\n"
      ],
      "text/plain": [
       "  resp id age smoke\n",
       "1 0    0  -2  0    \n",
       "2 0    0  -1  0    \n",
       "3 0    0   0  0    \n",
       "4 0    0   1  0    \n",
       "5 0    1  -2  0    \n",
       "6 0    1  -1  0    "
      ]
     },
     "metadata": {},
     "output_type": "display_data"
    }
   ],
   "source": [
    "data(ohio, package=\"geepack\")\n",
    "str(ohio)\n",
    "head(ohio)"
   ]
  },
  {
   "cell_type": "markdown",
   "metadata": {},
   "source": [
    "Las funciones que hacen las ecuaiones generalizadas de estimación es **geeglm** cuya respuesta en este caso es **resp** y el predictor lineal con interacción, además en **id** se debe especificar las filas que hacen parte de los cluster. Con **corstr** se verifica la matriz de correlación, pues hay que estimar $\\Sigma$ con corrstr decimos que estructura de correlación queremos para sigma. En AR-1 la estimación sigma se realiza con el paso 1 del algoritmo.\n",
    "\n",
    "* *Intercambiable* es cuando cualquier par de correlacion es exactamente igual\n",
    "* *Exchangeable* donde la correlacion de dos observaciones depende de la distancia \"entre ellos\"\n",
    "* *AR-1* lo que quiere decir es que la correlacion entre la medicion realizada en la semana 1 y la semana 2 es mayotr que la correlacion entre la observacion realizada en la semana 1 y la semana 4, mientras que si es intercambiable esta correlacion es la misma."
   ]
  },
  {
   "cell_type": "code",
   "execution_count": 4,
   "metadata": {},
   "outputs": [],
   "source": [
    "fit100 <- geeglm(resp ~ age + smoke + age*smoke, id=id, family=binomial(\"logit\"), corstr=\"AR-1\", data=ohio)\n",
    "fit101 <- geeglm(resp ~ age + smoke + age*smoke, id=id, family=binomial(\"logit\"), corstr=\"Exchangeable\", data=ohio)\n",
    "fit102 <- geeglm(resp ~ age + smoke + age*smoke, id=id, family=binomial(\"logit\"), corstr=\"Unstructured\", data=ohio)\n",
    "fit103 <- geeglm(resp ~ age + smoke + age*smoke, id=id, family=binomial(\"logit\"), corstr=\"Stationary-M-dependent(2)\", data=ohio)\n",
    "fit104 <- geeglm(resp ~ age + smoke + age*smoke, id=id, family=binomial(\"logit\"), corstr=\"Non-Stationary-M-dependent(2)\", data=ohio)"
   ]
  },
  {
   "cell_type": "code",
   "execution_count": 5,
   "metadata": {},
   "outputs": [
    {
     "name": "stdout",
     "output_type": "stream",
     "text": [
      "\n",
      "Sample size\n",
      "       Number of clusters:  537\n",
      "     Minimum cluster size:  4\n",
      "     Maximum cluster size:  4\n",
      "*************************************************************\n",
      "Model\n",
      "Variance to mean relation:  binomial\n",
      "                     Link:  logit\n",
      "    Correlation structure:  AR-1\n",
      "*************************************************************\n",
      "Coefficients\n",
      "             Estimate Std.Error   z-value Pr(>|z|)\n",
      "(Intercept)  -1.91951   0.12001 -15.99412  < 2e-16\n",
      "age          -0.14681   0.05934  -2.47396 0.013362\n",
      "smoke         0.29528   0.18997   1.55431 0.120111\n",
      "age:smoke     0.08147   0.09066   0.89867 0.368828\n",
      "\n",
      "Dispersion  1.01847 \n",
      "*************************************************************\n",
      "Goodness-of-fit statistics\n",
      "      -2*quasi-likelihood:  1786.695 \n",
      "                      QIC:  1797.464 \n",
      "                     QICu:  1794.695 \n",
      " Deviance-based R-squared:  0.004 \n",
      "*************************************************************\n",
      "Working correlation\n",
      "       [1]    [2]    [3]     [4] \n",
      "[1] 1.00000 0.3997 0.1597 0.06384\n",
      "[2] 0.39967 1.0000 0.3997 0.15973\n",
      "[3] 0.15973 0.3997 1.0000 0.39967\n",
      "[4] 0.06384 0.1597 0.3997 1.00000\n"
     ]
    }
   ],
   "source": [
    "summary(fit100)"
   ]
  },
  {
   "cell_type": "markdown",
   "metadata": {},
   "source": [
    "La anterior salida queire decir que: 537 son las observaciones en otras palabras el tamaño de la muestra (537 son los valores diferentes de id registrados), *Minimum cluster size:  4* es el tamaño mínimo de cluster.\n",
    "\n",
    "* **Variance to mean relation:  binomial**: hace referencia a la relación media varianza que en este caso es la varianza del moselo binomial que es $\\mu(1-\\mu)$.\n",
    "\n",
    "* **Working correlation** Es la estimación de sigma. \n"
   ]
  },
  {
   "cell_type": "code",
   "execution_count": 6,
   "metadata": {},
   "outputs": [
    {
     "name": "stdout",
     "output_type": "stream",
     "text": [
      "\n",
      "Variance to mean relation:  binomial \n",
      "                     Link:  logit \n",
      "         Linear predictor:  1 + age + smoke + age:smoke \n",
      "\n",
      " Object                   Correlation -2*quasi-likelihood  df    QIC  \n",
      " fit100                          AR-1            1786.695   4 1797.464\n",
      " fit101                  Exchangeable            1817.168   4 1828.022\n",
      " fit102                  Unstructured            1802.901   4 1813.659\n",
      " fit103     Stationary-M-dependent(2)            1768.212   4 1779.103\n",
      " fit104 Non-Stationary-M-dependent(2)            1766.196   4 1777.184\n"
     ]
    }
   ],
   "source": [
    "QIC(fit100,fit101,fit102,fit103,fit104)"
   ]
  },
  {
   "cell_type": "code",
   "execution_count": null,
   "metadata": {},
   "outputs": [],
   "source": []
  },
  {
   "cell_type": "code",
   "execution_count": 7,
   "metadata": {},
   "outputs": [
    {
     "name": "stdout",
     "output_type": "stream",
     "text": [
      "\n",
      "Sample size\n",
      "       Number of clusters:  537\n",
      "     Minimum cluster size:  4\n",
      "     Maximum cluster size:  4\n",
      "*************************************************************\n",
      "Model\n",
      "Variance to mean relation:  binomial\n",
      "                     Link:  logit\n",
      "    Correlation structure:  Stationary-M-dependent(2)\n",
      "*************************************************************\n",
      "Coefficients\n",
      "             Estimate Std.Error   z-value Pr(>|z|)\n",
      "(Intercept)  -1.92389   0.12098 -15.90255  < 2e-16\n",
      "age          -0.13694   0.05978  -2.29083 0.021973\n",
      "smoke         0.27028   0.19324   1.39869 0.161906\n",
      "age:smoke     0.06619   0.09202   0.71928 0.471968\n",
      "\n",
      "Dispersion  1.02933 \n",
      "*************************************************************\n",
      "Goodness-of-fit statistics\n",
      "      -2*quasi-likelihood:  1768.212 \n",
      "                      QIC:  1779.103 \n",
      "                     QICu:  1776.212 \n",
      " Deviance-based R-squared:  0.004 \n",
      "*************************************************************\n",
      "Working correlation\n",
      "      [1]    [2]    [3]    [4] \n",
      "[1] 1.0000 0.3999 0.3143 0.0000\n",
      "[2] 0.3999 1.0000 0.3999 0.3143\n",
      "[3] 0.3143 0.3999 1.0000 0.3999\n",
      "[4] 0.0000 0.3143 0.3999 1.0000\n"
     ]
    }
   ],
   "source": [
    "###################### Resumen del modelo seleccionado ######################\n",
    "summary(fit103)"
   ]
  },
  {
   "cell_type": "code",
   "execution_count": 8,
   "metadata": {},
   "outputs": [
    {
     "name": "stdout",
     "output_type": "stream",
     "text": [
      "\n",
      "  Wald test \n",
      "\n",
      " Model 1:  resp ~ age + smoke + age * smoke \n",
      " Model 2:  resp ~ age \n",
      "\n",
      "   Chi    Df   Pr(>Chi)\n",
      "  2.0405   2     0.3605\n"
     ]
    }
   ],
   "source": [
    "###################### Test de Wald ######################\n",
    "fit100 <- geeglm(resp ~ age, id=id, family=binomial, corstr=\"Stationary-M-dependent(2)\", data=ohio)\n",
    "anova_glm(fit103,fit100,test=\"wald\")"
   ]
  },
  {
   "cell_type": "code",
   "execution_count": 9,
   "metadata": {},
   "outputs": [
    {
     "name": "stdout",
     "output_type": "stream",
     "text": [
      "\n",
      "  Generalized score test \n",
      "\n",
      " Model 1:  resp ~ age + smoke + age * smoke \n",
      " Model 2:  resp ~ age \n",
      "\n",
      "   Chi    Df   Pr(>Chi)\n",
      "  1.9956   2     0.3687\n"
     ]
    }
   ],
   "source": [
    "###################### Test de score ######################\n",
    "anova_glm(fit103,fit100,test=\"score\")"
   ]
  },
  {
   "cell_type": "code",
   "execution_count": 10,
   "metadata": {},
   "outputs": [
    {
     "data": {
      "image/png": "[encoded data removed]",
      "text/plain": [
       "plot without title"
      ]
     },
     "metadata": {},
     "output_type": "display_data"
    }
   ],
   "source": [
    "###################### Análisis de residuos ######################\n",
    "residuals(fit100,out=FALSE,plot=TRUE,type=\"mahalanobis\")"
   ]
  },
  {
   "cell_type": "code",
   "execution_count": 11,
   "metadata": {},
   "outputs": [
    {
     "data": {
      "image/png": "[encoded data removed]",
      "text/plain": [
       "plot without title"
      ]
     },
     "metadata": {},
     "output_type": "display_data"
    }
   ],
   "source": [
    "###################### Análisis de sensibilidad ######################\n",
    "CookDistance(fit100,plot=TRUE,out=FALSE)"
   ]
  },
  {
   "cell_type": "code",
   "execution_count": 12,
   "metadata": {},
   "outputs": [
    {
     "name": "stdout",
     "output_type": "stream",
     "text": [
      "\n",
      " Approximate 95 percent confidence intervals based on the Wald test \n",
      "\n",
      "            Lower limit Upper limit\n",
      "(Intercept)    -2.00758     -1.6382\n",
      "age            -0.19946     -0.0213\n"
     ]
    }
   ],
   "source": [
    "\n",
    "###################### Intervalos de confianza ######################\n",
    "ci_glm(fit100)\t"
   ]
  }
 ],
 "metadata": {
  "kernelspec": {
   "display_name": "R",
   "language": "R",
   "name": "ir"
  },
  "language_info": {
   "codemirror_mode": "r",
   "file_extension": ".r",
   "mimetype": "text/x-r-source",
   "name": "R",
   "pygments_lexer": "r",
   "version": "3.6.1"
  }
 },
 "nbformat": 4,
 "nbformat_minor": 2
}
