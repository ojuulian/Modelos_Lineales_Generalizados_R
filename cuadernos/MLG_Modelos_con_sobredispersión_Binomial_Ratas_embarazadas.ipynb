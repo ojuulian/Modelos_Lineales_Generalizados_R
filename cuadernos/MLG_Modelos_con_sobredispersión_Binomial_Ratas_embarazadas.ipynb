{
 "cells": [
  {
   "cell_type": "markdown",
   "metadata": {},
   "source": [
    "<img src=\"./unal.png\" align=left width=\"150\" height=\"150\"></img>\n",
    "\n",
    "$\\;$\n",
    "\n",
    "---\n",
    "<h2 align=\"center\">Modelos con sobredispersión (Ratas embarazadas)</h2>\n",
    "\n",
    "(Morel y Neerchal (2012, página 103)) Los datos provienen de un experimento con ratas embarazadas. El propósito fue investigar el efecto sinérgico de fenitoína (PHT) y óxido de tricloropropeno (TCPO) sobre la presencia o ausencia de osificación en las\n",
    "falanges de los fetos, lo cual se considera una medida del efecto teratogénico de estas sustancias. Las ratas recibieron diariamente, por sonda gástrica, la dosis de PHT (0 o 60 mg/kg) y TCPO (0 o 100 mg/kg). El día 18 de gestación los fetos de cada una de las 81 ratas se recuperaron, se tiñeron, y se limpiaron. Luego, mediante inspección visual, se determinó la presencia o ausencia de osificación para las diferentes articulaciones de las patas delanteras derecha e izquierda. Estos datos se encuentran en el archivo teratogenico.xls, donde\n",
    "\n",
    "* **pht:** Dosis de PHT.  (0 o 60 mg/kg)\n",
    "* **tcpo:** Dosis de TCPO. (0 o 100 mg/kg)\n",
    "* **fetuses:** Número total de fetos.\n",
    "* **ossification:** Número de fetos con presencia de osificación."
   ]
  },
  {
   "cell_type": "code",
   "execution_count": 9,
   "metadata": {},
   "outputs": [],
   "source": [
    "setwd(\"\")  #Asignando capeta busqueda por default\n",
    "library(sqldf)\n",
    "library(numDeriv)\n",
    "library(Rfast)\n",
    "source(\"macros.txt\")\n",
    "source(\"test.txt\")"
   ]
  },
  {
   "cell_type": "code",
   "execution_count": 12,
   "metadata": {},
   "outputs": [
    {
     "name": "stdout",
     "output_type": "stream",
     "text": [
      "Classes 'tbl_df', 'tbl' and 'data.frame':\t81 obs. of  4 variables:\n",
      " $ pht         : num  0 0 0 0 0 0 0 0 0 0 ...\n",
      " $ tcpo        : num  0 0 0 0 0 0 0 0 0 0 ...\n",
      " $ fetuses     : num  8 9 9 5 3 8 10 8 8 6 ...\n",
      " $ ossification: num  8 9 7 0 3 5 9 5 5 1 ...\n"
     ]
    },
    {
     "data": {
      "text/html": [
       "<table>\n",
       "<thead><tr><th scope=col>pht</th><th scope=col>tcpo</th><th scope=col>fetuses</th><th scope=col>ossification</th></tr></thead>\n",
       "<tbody>\n",
       "\t<tr><td>0</td><td>0</td><td>8</td><td>8</td></tr>\n",
       "\t<tr><td>0</td><td>0</td><td>9</td><td>9</td></tr>\n",
       "\t<tr><td>0</td><td>0</td><td>9</td><td>7</td></tr>\n",
       "\t<tr><td>0</td><td>0</td><td>5</td><td>0</td></tr>\n",
       "\t<tr><td>0</td><td>0</td><td>3</td><td>3</td></tr>\n",
       "\t<tr><td>0</td><td>0</td><td>8</td><td>5</td></tr>\n",
       "</tbody>\n",
       "</table>\n"
      ],
      "text/latex": [
       "\\begin{tabular}{r|llll}\n",
       " pht & tcpo & fetuses & ossification\\\\\n",
       "\\hline\n",
       "\t 0 & 0 & 8 & 8\\\\\n",
       "\t 0 & 0 & 9 & 9\\\\\n",
       "\t 0 & 0 & 9 & 7\\\\\n",
       "\t 0 & 0 & 5 & 0\\\\\n",
       "\t 0 & 0 & 3 & 3\\\\\n",
       "\t 0 & 0 & 8 & 5\\\\\n",
       "\\end{tabular}\n"
      ],
      "text/markdown": [
       "\n",
       "| pht | tcpo | fetuses | ossification |\n",
       "|---|---|---|---|\n",
       "| 0 | 0 | 8 | 8 |\n",
       "| 0 | 0 | 9 | 9 |\n",
       "| 0 | 0 | 9 | 7 |\n",
       "| 0 | 0 | 5 | 0 |\n",
       "| 0 | 0 | 3 | 3 |\n",
       "| 0 | 0 | 8 | 5 |\n",
       "\n"
      ],
      "text/plain": [
       "  pht tcpo fetuses ossification\n",
       "1 0   0    8       8           \n",
       "2 0   0    9       9           \n",
       "3 0   0    9       7           \n",
       "4 0   0    5       0           \n",
       "5 0   0    3       3           \n",
       "6 0   0    8       5           "
      ]
     },
     "metadata": {},
     "output_type": "display_data"
    }
   ],
   "source": [
    "###################### Lectura de los datos ######################\n",
    "library(readxl)\n",
    "tera <- read_excel(\"teratogenico.xls.xlsx\")                                         #Leyendo Archivos.\n",
    "str(tera)\n",
    "#head(tera,n=10)\n",
    "#tera<-read.table(\"teratogenico.txt\", header=TRUE, dec=\",\")\n",
    "head(tera)"
   ]
  },
  {
   "cell_type": "markdown",
   "metadata": {},
   "source": [
    "# A)\n",
    "\n",
    "Ajuste MLGs binomial con funciones de enlace logit, probit y complemento loglog, y las covariables categóricas dosis de PHT, dosis de TCPO, y la interacción entre estas. Use los criterios AIC y BIC para seleccionar el “mejor” modelo. Evalúe\n",
    "si hay indicios de la presencia de sobredispersión."
   ]
  },
  {
   "cell_type": "code",
   "execution_count": 15,
   "metadata": {},
   "outputs": [],
   "source": [
    "###################### Estimación del modelo ######################\n",
    "fit11 <- glm(ossification/fetuses ~ factor(pht) * factor(tcpo), weights=fetuses, family=binomial(link=\"logit\"), data=tera)\n",
    "fit12 <- glm(ossification/fetuses ~ factor(pht) * factor(tcpo), weights=fetuses, family=binomial(link=\"probit\"), data=tera)\n",
    "fit13 <- glm(ossification/fetuses ~ factor(pht) * factor(tcpo), weights=fetuses, family=binomial(link=\"cloglog\"), data=tera)"
   ]
  },
  {
   "cell_type": "markdown",
   "metadata": {},
   "source": [
    "Para poder especificar el mejor modelo en términos de AIC, BIC se tiene:"
   ]
  },
  {
   "cell_type": "code",
   "execution_count": 58,
   "metadata": {},
   "outputs": [
    {
     "data": {
      "text/html": [
       "<table>\n",
       "<thead><tr><th></th><th scope=col>df</th><th scope=col>AIC</th></tr></thead>\n",
       "<tbody>\n",
       "\t<tr><th scope=row>fit11</th><td>4       </td><td>409.7828</td></tr>\n",
       "\t<tr><th scope=row>fit12</th><td>4       </td><td>409.7828</td></tr>\n",
       "\t<tr><th scope=row>fit13</th><td>4       </td><td>409.7828</td></tr>\n",
       "</tbody>\n",
       "</table>\n"
      ],
      "text/latex": [
       "\\begin{tabular}{r|ll}\n",
       "  & df & AIC\\\\\n",
       "\\hline\n",
       "\tfit11 & 4        & 409.7828\\\\\n",
       "\tfit12 & 4        & 409.7828\\\\\n",
       "\tfit13 & 4        & 409.7828\\\\\n",
       "\\end{tabular}\n"
      ],
      "text/markdown": [
       "\n",
       "| <!--/--> | df | AIC |\n",
       "|---|---|---|\n",
       "| fit11 | 4        | 409.7828 |\n",
       "| fit12 | 4        | 409.7828 |\n",
       "| fit13 | 4        | 409.7828 |\n",
       "\n"
      ],
      "text/plain": [
       "      df AIC     \n",
       "fit11 4  409.7828\n",
       "fit12 4  409.7828\n",
       "fit13 4  409.7828"
      ]
     },
     "metadata": {},
     "output_type": "display_data"
    },
    {
     "data": {
      "text/html": [
       "<table>\n",
       "<thead><tr><th></th><th scope=col>df</th><th scope=col>BIC</th></tr></thead>\n",
       "<tbody>\n",
       "\t<tr><th scope=row>fit11</th><td>4       </td><td>419.3606</td></tr>\n",
       "\t<tr><th scope=row>fit12</th><td>4       </td><td>419.3606</td></tr>\n",
       "\t<tr><th scope=row>fit13</th><td>4       </td><td>419.3606</td></tr>\n",
       "</tbody>\n",
       "</table>\n"
      ],
      "text/latex": [
       "\\begin{tabular}{r|ll}\n",
       "  & df & BIC\\\\\n",
       "\\hline\n",
       "\tfit11 & 4        & 419.3606\\\\\n",
       "\tfit12 & 4        & 419.3606\\\\\n",
       "\tfit13 & 4        & 419.3606\\\\\n",
       "\\end{tabular}\n"
      ],
      "text/markdown": [
       "\n",
       "| <!--/--> | df | BIC |\n",
       "|---|---|---|\n",
       "| fit11 | 4        | 419.3606 |\n",
       "| fit12 | 4        | 419.3606 |\n",
       "| fit13 | 4        | 419.3606 |\n",
       "\n"
      ],
      "text/plain": [
       "      df BIC     \n",
       "fit11 4  419.3606\n",
       "fit12 4  419.3606\n",
       "fit13 4  419.3606"
      ]
     },
     "metadata": {},
     "output_type": "display_data"
    }
   ],
   "source": [
    "###################### Valores del AIC y BIC ######################\n",
    "AIC(fit11,fit12,fit13)\n",
    "BIC(fit11,fit12,fit13)"
   ]
  },
  {
   "cell_type": "markdown",
   "metadata": {},
   "source": [
    "Aquí se puede establecer que los BIC, AIC de los anteirores modelos son iguales, en este orden de ideas se selecciona el modelo binomial con función de enlace canonica.\n",
    "\n",
    "En la siguiente estimación de los parámetros se puede identificar que los parámetros de los efectos principales son negativos, además significativos y la estimacion de la interacción es positiva lo cual implica que cuando se les inyecta pht la probabilidad de que tenga osificacion en las falanges disminuye, lo mismo ocurre con el tcpo, sin embargo al estar los dos presentes uno contrarrestra a otro indicando que hay que aplicar uno de los dos pues al aplicar los dos uno contrarrestra el otro."
   ]
  },
  {
   "cell_type": "code",
   "execution_count": 16,
   "metadata": {},
   "outputs": [
    {
     "data": {
      "text/plain": [
       "\n",
       "Call:\n",
       "glm(formula = ossification/fetuses ~ factor(pht) * factor(tcpo), \n",
       "    family = binomial(link = \"logit\"), data = tera, weights = fetuses)\n",
       "\n",
       "Deviance Residuals: \n",
       "    Min       1Q   Median       3Q      Max  \n",
       "-3.6797  -1.5294   0.1009   1.5095   4.0580  \n",
       "\n",
       "Coefficients:\n",
       "                              Estimate Std. Error z value Pr(>|z|)    \n",
       "(Intercept)                     0.8323     0.1365   6.097 1.08e-09 ***\n",
       "factor(pht)60                  -2.1094     0.2505  -8.422  < 2e-16 ***\n",
       "factor(tcpo)100                -0.8481     0.2239  -3.788 0.000152 ***\n",
       "factor(pht)60:factor(tcpo)100   1.0453     0.4107   2.545 0.010921 *  \n",
       "---\n",
       "Signif. codes:  0 '***' 0.001 '**' 0.01 '*' 0.05 '.' 0.1 ' ' 1\n",
       "\n",
       "(Dispersion parameter for binomial family taken to be 1)\n",
       "\n",
       "    Null deviance: 393.60  on 80  degrees of freedom\n",
       "Residual deviance: 290.43  on 77  degrees of freedom\n",
       "AIC: 409.78\n",
       "\n",
       "Number of Fisher Scoring iterations: 4\n"
      ]
     },
     "metadata": {},
     "output_type": "display_data"
    },
    {
     "name": "stdout",
     "output_type": "stream",
     "text": [
      "\n",
      "  Family:  binomial \n",
      "    Link:  logit \n",
      "                                                    Df    Value\n",
      "Residual deviance                                   77 290.4319\n",
      "Pearson's statistic                                 77 252.0833\n",
      "Adjusted R-squared based on the residual deviance        0.2334\n",
      "Adjusted R-squared based on the Pearson's statistic      0.1583\n",
      "-2*log-Likelihood                                      401.7828\n",
      "AIC                                                    409.7828\n",
      "BIC                                                    419.3606\n",
      "\n",
      "\n"
     ]
    }
   ],
   "source": [
    "###################### Resumen del modelo seleccionado ######################\n",
    "summary(fit11)\n",
    "gof_glm(fit11)"
   ]
  },
  {
   "cell_type": "markdown",
   "metadata": {},
   "source": [
    "Conocemos que en el caso de la Binomial el $\\phi$ es conocido y es 1. No obstante para conocer $\\phi$ estimamos mediante:\n",
    "\n",
    "$$\\widehat{\\phi}= \\frac{D(y; \\widehat{\\mu})}{n-p}$$\n"
   ]
  },
  {
   "cell_type": "code",
   "execution_count": 17,
   "metadata": {},
   "outputs": [
    {
     "data": {
      "text/html": [
       "3.77184285714286"
      ],
      "text/latex": [
       "3.77184285714286"
      ],
      "text/markdown": [
       "3.77184285714286"
      ],
      "text/plain": [
       "[1] 3.771843"
      ]
     },
     "metadata": {},
     "output_type": "display_data"
    }
   ],
   "source": [
    "290.4319/77"
   ]
  },
  {
   "cell_type": "markdown",
   "metadata": {},
   "source": [
    "Se puede ver que la estimación de $\\phi$ se encuentra muy lejos de 1, se esperaria que fuera muy cercano pero es mas del triple. Esto es un indicio a sobredispersión. Al igual como se especifica en el envelope, residuos positivos con tendencia a ser más positivos saliéndose de las bandas. Así mimso residuos negativos con tendencia a ser más negativos y saliéndose de las bandas."
   ]
  },
  {
   "cell_type": "code",
   "execution_count": 18,
   "metadata": {},
   "outputs": [
    {
     "name": "stdout",
     "output_type": "stream",
     "text": [
      "  |++++++++++++++++++++++++++++++++++++++++++++++++++| 100%\n"
     ]
    },
    {
     "data": {
      "image/png": "[encoded data removed]",
      "text/plain": [
       "Plot with title \" \""
      ]
     },
     "metadata": {},
     "output_type": "display_data"
    }
   ],
   "source": [
    "envelope_glm(fit11,rep=100)"
   ]
  },
  {
   "cell_type": "markdown",
   "metadata": {},
   "source": [
    "# B)\n",
    "\n",
    "Ajuste modelos beta-binomial con funciones de enlace logit, probit y complemento log-log, y las covariables categóricas dosis de PHT, dosis de TCPO, y la interacción entre estas. Use los criterios AIC y BIC para seleccionar el “mejor” modelo. Compare con lo obtenido en (A), especialmente las magnitudes de los errores estándar.\n",
    "\n",
    "\n",
    "En este tipo de modelo los pesos (weigths) no significa lo mismo que los $m_k$ y es necesario colocarlo en términos de éxitos y fracasos, en este orden de ideas se obtiene el ajuste de los siguientes modelos:"
   ]
  },
  {
   "cell_type": "code",
   "execution_count": 21,
   "metadata": {},
   "outputs": [
    {
     "name": "stdout",
     "output_type": "stream",
     "text": [
      "\n",
      "\n",
      "  Family:  Beta-Binomial \n",
      "Predictor:  1 + factor(pht) + factor(tcpo) + factor(pht):factor(tcpo) \n",
      "\n",
      " Object    Link -2*log-likelihood df     AIC \n",
      "  fit21   logit          306.5751  5 316.5751\n",
      "  fit22  probit          306.5751  5 316.5751\n",
      "  fit23 cloglog          306.5751  5 316.5751\n",
      "\n",
      "\n",
      "  Family:  Beta-Binomial \n",
      "Predictor:  1 + factor(pht) + factor(tcpo) + factor(pht):factor(tcpo) \n",
      "\n",
      " Object    Link -2*log-likelihood df     BIC \n",
      "  fit21   logit          306.5751  5 328.5474\n",
      "  fit22  probit          306.5751  5 328.5474\n",
      "  fit23 cloglog          306.5751  5 328.5474\n"
     ]
    }
   ],
   "source": [
    "###################### Estimación del modelo ######################\n",
    "fit21 <- overglm(cbind(ossification,fetuses-ossification) ~ factor(pht) * factor(tcpo), family=\"bb(logit)\",data=tera)\n",
    "fit22 <- overglm(cbind(ossification,fetuses-ossification) ~ factor(pht) * factor(tcpo), family=\"bb(probit)\", data=tera)\n",
    "fit23 <- overglm(cbind(ossification,fetuses-ossification) ~ factor(pht) * factor(tcpo), family=\"bb(cloglog)\", data=tera)\n",
    "AIC(fit21,fit22,fit23)\n",
    "BIC(fit21,fit22,fit23)"
   ]
  },
  {
   "cell_type": "markdown",
   "metadata": {},
   "source": [
    "Seún lasel AIC, BIC, se puede decir que son iguales, en consecuencia se procede a seleccionar la que tiene funcion de enlace canonica."
   ]
  },
  {
   "cell_type": "code",
   "execution_count": 24,
   "metadata": {},
   "outputs": [
    {
     "name": "stdout",
     "output_type": "stream",
     "text": [
      "\n",
      "Sample size:  81 \n",
      "     Family:  Beta-Binomial\n",
      "       Link:  logit\n",
      " *************************************************************\n",
      "                              Estimate Std.Error  z-value   Pr(>|z|)\n",
      "(Intercept)                    0.70428   0.23408  3.00871  0.0026236\n",
      "factor(pht)60                 -1.69172   0.40181 -4.21030 2.5503e-05\n",
      "factor(tcpo)100               -0.78222   0.40166 -1.94745  0.0514804\n",
      "factor(pht)60:factor(tcpo)100  0.67698   0.69019  0.98087  0.3266563\n",
      "\n",
      "                              Estimate Std.Error\n",
      "Dispersion                     0.50912   0.12332\n",
      " *************************************************************\n",
      "                 -2*log-likelihood:  306.575 \n",
      "                               AIC:  316.575 \n",
      "                               BIC:  328.547 \n"
     ]
    }
   ],
   "source": [
    "summary(fit21)"
   ]
  },
  {
   "cell_type": "markdown",
   "metadata": {},
   "source": [
    "   Según los valores de los parámetros se puede decir que uno de los factores se contrarrestra con el otro al verse que $\\beta_4 = 0.67698$, sin embargo ese efecto no es significativo lo cual implica que no hay interacción. "
   ]
  },
  {
   "cell_type": "markdown",
   "metadata": {},
   "source": [
    "# C)\n",
    "\n",
    "Use los criterios AIC y BIC para comparar los modelos seleccionados en (A) y (B). Cual de ellos parece describir mejor los datos?"
   ]
  },
  {
   "cell_type": "code",
   "execution_count": 22,
   "metadata": {},
   "outputs": [
    {
     "data": {
      "text/html": [
       "<table>\n",
       "<thead><tr><th></th><th scope=col>df</th><th scope=col>AIC</th></tr></thead>\n",
       "<tbody>\n",
       "\t<tr><th scope=row>fit11</th><td>4       </td><td>409.7828</td></tr>\n",
       "\t<tr><th scope=row>fit21</th><td>5       </td><td>316.5751</td></tr>\n",
       "</tbody>\n",
       "</table>\n"
      ],
      "text/latex": [
       "\\begin{tabular}{r|ll}\n",
       "  & df & AIC\\\\\n",
       "\\hline\n",
       "\tfit11 & 4        & 409.7828\\\\\n",
       "\tfit21 & 5        & 316.5751\\\\\n",
       "\\end{tabular}\n"
      ],
      "text/markdown": [
       "\n",
       "| <!--/--> | df | AIC |\n",
       "|---|---|---|\n",
       "| fit11 | 4        | 409.7828 |\n",
       "| fit21 | 5        | 316.5751 |\n",
       "\n"
      ],
      "text/plain": [
       "      df AIC     \n",
       "fit11 4  409.7828\n",
       "fit21 5  316.5751"
      ]
     },
     "metadata": {},
     "output_type": "display_data"
    },
    {
     "data": {
      "text/html": [
       "<table>\n",
       "<thead><tr><th></th><th scope=col>df</th><th scope=col>BIC</th></tr></thead>\n",
       "<tbody>\n",
       "\t<tr><th scope=row>fit11</th><td>4       </td><td>419.3606</td></tr>\n",
       "\t<tr><th scope=row>fit21</th><td>5       </td><td>      NA</td></tr>\n",
       "</tbody>\n",
       "</table>\n"
      ],
      "text/latex": [
       "\\begin{tabular}{r|ll}\n",
       "  & df & BIC\\\\\n",
       "\\hline\n",
       "\tfit11 & 4        & 419.3606\\\\\n",
       "\tfit21 & 5        &       NA\\\\\n",
       "\\end{tabular}\n"
      ],
      "text/markdown": [
       "\n",
       "| <!--/--> | df | BIC |\n",
       "|---|---|---|\n",
       "| fit11 | 4        | 419.3606 |\n",
       "| fit21 | 5        |       NA |\n",
       "\n"
      ],
      "text/plain": [
       "      df BIC     \n",
       "fit11 4  419.3606\n",
       "fit21 5        NA"
      ]
     },
     "metadata": {},
     "output_type": "display_data"
    }
   ],
   "source": [
    "AIC(fit11,fit21)\n",
    "BIC(fit11,fit21)"
   ]
  },
  {
   "cell_type": "markdown",
   "metadata": {},
   "source": [
    "En correspondencia al AIC, BIC se selecciona el modelo beta-binomial con función de enlace canonica."
   ]
  },
  {
   "cell_type": "markdown",
   "metadata": {},
   "source": [
    "# D) \n",
    "Use los tests de Wald y razón de verosimilitudes para evaluar, al nivel de significancia aproximado de 5%, si existe evidencia de sinergia entre las dos sustancias aplicadas para inducir efectos teratogénicos."
   ]
  },
  {
   "cell_type": "markdown",
   "metadata": {},
   "source": [
    "### Test Wald\n",
    "Para contrastar la prueba se tiene el siguiente sistema de hipótesis:\n",
    "\n",
    "$$H_{0}: \\beta_4=0 \\;\\;\\;\\;\\; vs \\;\\;\\;\\;\\;\\;H_{1}: \\beta_4 \\neq 0 $$\n",
    "\n",
    "donde \n",
    "\n",
    "$$ \\xi _{W} = (\\hat{\\beta_4}  - \\beta_4^{0})' [\\hat{Var}(\\hat{\\beta_4})]^{-1}(\\hat{\\beta_4}  - \\beta_4^{0})$$\n"
   ]
  },
  {
   "cell_type": "code",
   "execution_count": 27,
   "metadata": {},
   "outputs": [
    {
     "name": "stdout",
     "output_type": "stream",
     "text": [
      "\n",
      "  Wald test \n",
      "\n",
      " Model 1:  cbind(ossification, fetuses - ossification) ~ factor(pht) * factor(tcpo) \n",
      " Model 2:  cbind(ossification, fetuses - ossification) ~ factor(pht) + factor(tcpo) \n",
      "\n",
      "    Chi    Df   Pr(>Chi)\n",
      "  0.96211   1     0.3267\n"
     ]
    }
   ],
   "source": [
    "fit <-  overglm(cbind(ossification,fetuses-ossification) ~ factor(pht) + factor(tcpo), family=\"bb(logit)\",data=tera)\n",
    "anova_glm(fit21,fit,test=\"wald\") #test de wald"
   ]
  },
  {
   "cell_type": "markdown",
   "metadata": {},
   "source": [
    "Considerando las anteriores salidas NO se rechaza $H_0$ a un nivel de significancia APROXIMADO del 100$ \\alpha \\%$ puesto que $\\xi _{W}=0.96211 >\\chi^2(1)$ Afirmandose que $\\beta_4$ NO es significativo en el modelo. Es decír **no existe evidencia estadisticamente significativa para afirmar que la sinergia entre las sustancias aplicadas induce efectos teratogénicos..**"
   ]
  },
  {
   "cell_type": "code",
   "execution_count": 28,
   "metadata": {},
   "outputs": [
    {
     "name": "stdout",
     "output_type": "stream",
     "text": [
      "\n",
      "  Likelihood-ratio test \n",
      "\n",
      " Model 1:  cbind(ossification, fetuses - ossification) ~ factor(pht) * factor(tcpo) \n",
      " Model 2:  cbind(ossification, fetuses - ossification) ~ factor(pht) + factor(tcpo) \n",
      "\n",
      "    Chi    Df   Pr(>Chi)\n",
      "  0.93894   1     0.3326\n"
     ]
    }
   ],
   "source": [
    "anova_glm(fit21,fit, test = \"lrt\")  "
   ]
  },
  {
   "cell_type": "markdown",
   "metadata": {},
   "source": [
    "Como el caso del test de wald, en el test de razón de verosimilitudes NO se rechaza $H_0$ a un nivel de significancia APROXIMADO del 100$ \\alpha \\%$ puesto que $\\xi _{W}=0.93894  >\\chi^2(1)$ Afirmandose que $\\beta_4$ NO es significativo en el modelo. Es decír **no existe evidencia estadisticamente significativa para afirmar que la sinergia entre las sustancias aplicadas induce efectos teratogénicos..**"
   ]
  },
  {
   "cell_type": "markdown",
   "metadata": {},
   "source": [
    "# E) \n",
    "\n",
    "Interprete las estimaciones de los parámetros del modelo excepto el intercepto."
   ]
  },
  {
   "cell_type": "code",
   "execution_count": 30,
   "metadata": {},
   "outputs": [
    {
     "name": "stdout",
     "output_type": "stream",
     "text": [
      "\n",
      "Sample size:  81 \n",
      "     Family:  Beta-Binomial\n",
      "       Link:  logit\n",
      " *************************************************************\n",
      "                Estimate Std.Error  z-value   Pr(>|z|)\n",
      "(Intercept)      0.62824   0.22000  2.85567  0.0042947\n",
      "factor(pht)60   -1.47991   0.33643 -4.39884 1.0883e-05\n",
      "factor(tcpo)100 -0.55950   0.33292 -1.68061  0.0928387\n",
      "\n",
      "                Estimate Std.Error\n",
      "Dispersion       0.52070   0.12513\n",
      " *************************************************************\n",
      "                 -2*log-likelihood:  307.514 \n",
      "                               AIC:  315.514 \n",
      "                               BIC:  325.092 \n"
     ]
    }
   ],
   "source": [
    "summary(fit)"
   ]
  },
  {
   "cell_type": "markdown",
   "metadata": {},
   "source": [
    "Al tratarse de la función de enlace **logit** donde:\n",
    "\n",
    "$$log(\\frac{\\mu_k}{1-\\mu_k})= \\beta_1 + \\beta_2 Pht60_{k} +  \\beta_3 Tcpo100_{k}$$\n",
    "\n",
    "--- \n",
    "\n",
    "Aplicando exponencial y considerando que  **Tcpo100=1** se tiene:\n",
    "\n",
    " $$\\frac{\\mu_k}{1-\\mu_k} = \\frac{ exp[ \\beta_1 + \\beta_2 Pht60_{k} +  \\beta_3 Tcpo100_{k}]}{ exp[ \\beta_1 + \\beta_2 Pht60_{k} +  \\beta_3 Tcpo100_{k}]} = exp(\\beta_3)=exp(-0.5595) $$\n",
    " \n",
    "Al suponer que $\\hat{\\beta}_3=-0.5595$, se tiene:\n",
    "\n",
    "  $$exp(\\hat{\\beta}_3) = exp(-0.5595)=  0.571$$\n",
    " \n",
    "* **Interpretación Tcpo:** Al comparar dos ratas embarazadas, las dos con la misma dosis de **Pht** una con dosis TCPO100 y otra con TCPO0. El chance de tener una rata con efectos teratogénicos con dosis de TCPO100 es $42\\%$ menor que la raa con dosis TCPO0.\n",
    "\n",
    "---\n",
    "\n",
    "Aplicando exponencial y considerando que  **Pht60=1** se tiene:\n",
    "\n",
    " $$\\frac{\\mu_k}{1-\\mu_k} = \\frac{ exp[ \\beta_1 + \\beta_2 Pht60_{k} +  \\beta_3 Tcpo100_{k}]}{ exp[ \\beta_1 + \\beta_2 Pht60_{k} +  \\beta_3 Tcpo100_{k}]} = exp(\\beta_3)=exp(-1.47991) $$\n",
    " \n",
    "Al suponer que $\\hat{\\beta}_2=-1.47991$, se tiene:\n",
    "\n",
    "  $$exp(\\hat{\\beta}_2) = exp(-1.47991)=  0.2276$$\n",
    " \n",
    "* **Interpretación Pht60:** Al comparar dos ratas embarazadas, las dos con la misma dosis de **TCPO** una con dosis Pht60 y otra con Pht0. El chance de tener una rata con efectos teratogénicos con dosis de Pht60 es $22\\%$ menor que la rata con dosis TCPO0."
   ]
  }
 ],
 "metadata": {
  "kernelspec": {
   "display_name": "R",
   "language": "R",
   "name": "ir"
  },
  "language_info": {
   "codemirror_mode": "r",
   "file_extension": ".r",
   "mimetype": "text/x-r-source",
   "name": "R",
   "pygments_lexer": "r",
   "version": "3.6.1"
  }
 },
 "nbformat": 4,
 "nbformat_minor": 2
}
