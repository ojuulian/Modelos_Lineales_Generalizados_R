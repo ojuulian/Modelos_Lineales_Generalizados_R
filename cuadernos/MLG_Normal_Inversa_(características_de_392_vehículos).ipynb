{
 "cells": [
  {
   "cell_type": "markdown",
   "metadata": {},
   "source": [
    "<img src=\"./unal.png\" align=left width=\"150\" height=\"150\"></img>\n",
    "\n",
    "$\\;$\n",
    "\n",
    "---\n",
    "<h2 align=\"center\">MLG Características de vehículos</h2>\n",
    "\n",
    "\n",
    "### Oscar Julian Layton\n",
    "\n",
    "El conjunto de datos escribe las características de 392 vehículos, Se pretende explicar las diferencias entre los vehículos con respecto a su rendimiento, en millas por galón (mpg), usando algunas características como:\n",
    "\n",
    "\n",
    "* **cylinders:** Hace referencia al número de cilindros.\n",
    "* **displacement:** Desplazamiento del motor, en pulgadas cúbicas.\n",
    "* **horsepower:** Potencia del motor. \n",
    "* **weight:** Peso en libras.\n",
    "* **acceleration:** Tiempo, en segundos, para acelerar de 0 a 60 millas por hora \n",
    "* **origin:** origen que hace referencia a origin = ‘‘1’’, origin = ‘‘2’’ y origin = ‘‘3’’ representan, respectivamente, vehículos americanos, europeos y japoneses.\n",
    "\n",
    "A continuación se presentan las primeras 10 observaciones del conjunto de datos."
   ]
  },
  {
   "cell_type": "code",
   "execution_count": null,
   "metadata": {},
   "outputs": [],
   "source": [
    "#rm(list=ls())\n",
    "getwd()\n",
    "setwd(\"\")  #Asignando capeta busqueda por default\n",
    "source(\"macros.txt\")           # Llamar el archivo de macros que esta en la carpeta especifica,\n",
    "                               # macros son una fuciines especificas creadas porel profesor"
   ]
  },
  {
   "cell_type": "code",
   "execution_count": 8,
   "metadata": {},
   "outputs": [
    {
     "data": {
      "text/html": [
       "<table>\n",
       "<thead><tr><th scope=col>mpg</th><th scope=col>cylinders</th><th scope=col>displacement</th><th scope=col>horsepower</th><th scope=col>weight</th><th scope=col>acceleration</th><th scope=col>year</th><th scope=col>origin</th><th scope=col>name</th></tr></thead>\n",
       "<tbody>\n",
       "\t<tr><td>18                       </td><td>8                        </td><td>307                      </td><td>130                      </td><td>3504                     </td><td>12.0                     </td><td>70                       </td><td>1                        </td><td>chevrolet chevelle malibu</td></tr>\n",
       "\t<tr><td>15                       </td><td>8                        </td><td>350                      </td><td>165                      </td><td>3693                     </td><td>11.5                     </td><td>70                       </td><td>1                        </td><td>buick skylark 320        </td></tr>\n",
       "\t<tr><td>18                       </td><td>8                        </td><td>318                      </td><td>150                      </td><td>3436                     </td><td>11.0                     </td><td>70                       </td><td>1                        </td><td>plymouth satellite       </td></tr>\n",
       "\t<tr><td>16                       </td><td>8                        </td><td>304                      </td><td>150                      </td><td>3433                     </td><td>12.0                     </td><td>70                       </td><td>1                        </td><td>amc rebel sst            </td></tr>\n",
       "\t<tr><td>17                       </td><td>8                        </td><td>302                      </td><td>140                      </td><td>3449                     </td><td>10.5                     </td><td>70                       </td><td>1                        </td><td>ford torino              </td></tr>\n",
       "\t<tr><td>15                       </td><td>8                        </td><td>429                      </td><td>198                      </td><td>4341                     </td><td>10.0                     </td><td>70                       </td><td>1                        </td><td>ford galaxie 500         </td></tr>\n",
       "\t<tr><td>14                       </td><td>8                        </td><td>454                      </td><td>220                      </td><td>4354                     </td><td> 9.0                     </td><td>70                       </td><td>1                        </td><td>chevrolet impala         </td></tr>\n",
       "\t<tr><td>14                       </td><td>8                        </td><td>440                      </td><td>215                      </td><td>4312                     </td><td> 8.5                     </td><td>70                       </td><td>1                        </td><td>plymouth fury iii        </td></tr>\n",
       "\t<tr><td>14                       </td><td>8                        </td><td>455                      </td><td>225                      </td><td>4425                     </td><td>10.0                     </td><td>70                       </td><td>1                        </td><td>pontiac catalina         </td></tr>\n",
       "\t<tr><td>15                       </td><td>8                        </td><td>390                      </td><td>190                      </td><td>3850                     </td><td> 8.5                     </td><td>70                       </td><td>1                        </td><td>amc ambassador dpl       </td></tr>\n",
       "\t<tr><td>15                       </td><td>8                        </td><td>383                      </td><td>170                      </td><td>3563                     </td><td>10.0                     </td><td>70                       </td><td>1                        </td><td>dodge challenger se      </td></tr>\n",
       "\t<tr><td>14                       </td><td>8                        </td><td>340                      </td><td>160                      </td><td>3609                     </td><td> 8.0                     </td><td>70                       </td><td>1                        </td><td>plymouth 'cuda 340       </td></tr>\n",
       "</tbody>\n",
       "</table>\n"
      ],
      "text/latex": [
       "\\begin{tabular}{r|lllllllll}\n",
       " mpg & cylinders & displacement & horsepower & weight & acceleration & year & origin & name\\\\\n",
       "\\hline\n",
       "\t 18                        & 8                         & 307                       & 130                       & 3504                      & 12.0                      & 70                        & 1                         & chevrolet chevelle malibu\\\\\n",
       "\t 15                        & 8                         & 350                       & 165                       & 3693                      & 11.5                      & 70                        & 1                         & buick skylark 320        \\\\\n",
       "\t 18                        & 8                         & 318                       & 150                       & 3436                      & 11.0                      & 70                        & 1                         & plymouth satellite       \\\\\n",
       "\t 16                        & 8                         & 304                       & 150                       & 3433                      & 12.0                      & 70                        & 1                         & amc rebel sst            \\\\\n",
       "\t 17                        & 8                         & 302                       & 140                       & 3449                      & 10.5                      & 70                        & 1                         & ford torino              \\\\\n",
       "\t 15                        & 8                         & 429                       & 198                       & 4341                      & 10.0                      & 70                        & 1                         & ford galaxie 500         \\\\\n",
       "\t 14                        & 8                         & 454                       & 220                       & 4354                      &  9.0                      & 70                        & 1                         & chevrolet impala         \\\\\n",
       "\t 14                        & 8                         & 440                       & 215                       & 4312                      &  8.5                      & 70                        & 1                         & plymouth fury iii        \\\\\n",
       "\t 14                        & 8                         & 455                       & 225                       & 4425                      & 10.0                      & 70                        & 1                         & pontiac catalina         \\\\\n",
       "\t 15                        & 8                         & 390                       & 190                       & 3850                      &  8.5                      & 70                        & 1                         & amc ambassador dpl       \\\\\n",
       "\t 15                        & 8                         & 383                       & 170                       & 3563                      & 10.0                      & 70                        & 1                         & dodge challenger se      \\\\\n",
       "\t 14                        & 8                         & 340                       & 160                       & 3609                      &  8.0                      & 70                        & 1                         & plymouth 'cuda 340       \\\\\n",
       "\\end{tabular}\n"
      ],
      "text/markdown": [
       "\n",
       "| mpg | cylinders | displacement | horsepower | weight | acceleration | year | origin | name |\n",
       "|---|---|---|---|---|---|---|---|---|\n",
       "| 18                        | 8                         | 307                       | 130                       | 3504                      | 12.0                      | 70                        | 1                         | chevrolet chevelle malibu |\n",
       "| 15                        | 8                         | 350                       | 165                       | 3693                      | 11.5                      | 70                        | 1                         | buick skylark 320         |\n",
       "| 18                        | 8                         | 318                       | 150                       | 3436                      | 11.0                      | 70                        | 1                         | plymouth satellite        |\n",
       "| 16                        | 8                         | 304                       | 150                       | 3433                      | 12.0                      | 70                        | 1                         | amc rebel sst             |\n",
       "| 17                        | 8                         | 302                       | 140                       | 3449                      | 10.5                      | 70                        | 1                         | ford torino               |\n",
       "| 15                        | 8                         | 429                       | 198                       | 4341                      | 10.0                      | 70                        | 1                         | ford galaxie 500          |\n",
       "| 14                        | 8                         | 454                       | 220                       | 4354                      |  9.0                      | 70                        | 1                         | chevrolet impala          |\n",
       "| 14                        | 8                         | 440                       | 215                       | 4312                      |  8.5                      | 70                        | 1                         | plymouth fury iii         |\n",
       "| 14                        | 8                         | 455                       | 225                       | 4425                      | 10.0                      | 70                        | 1                         | pontiac catalina          |\n",
       "| 15                        | 8                         | 390                       | 190                       | 3850                      |  8.5                      | 70                        | 1                         | amc ambassador dpl        |\n",
       "| 15                        | 8                         | 383                       | 170                       | 3563                      | 10.0                      | 70                        | 1                         | dodge challenger se       |\n",
       "| 14                        | 8                         | 340                       | 160                       | 3609                      |  8.0                      | 70                        | 1                         | plymouth 'cuda 340        |\n",
       "\n"
      ],
      "text/plain": [
       "   mpg cylinders displacement horsepower weight acceleration year origin\n",
       "1  18  8         307          130        3504   12.0         70   1     \n",
       "2  15  8         350          165        3693   11.5         70   1     \n",
       "3  18  8         318          150        3436   11.0         70   1     \n",
       "4  16  8         304          150        3433   12.0         70   1     \n",
       "5  17  8         302          140        3449   10.5         70   1     \n",
       "6  15  8         429          198        4341   10.0         70   1     \n",
       "7  14  8         454          220        4354    9.0         70   1     \n",
       "8  14  8         440          215        4312    8.5         70   1     \n",
       "9  14  8         455          225        4425   10.0         70   1     \n",
       "10 15  8         390          190        3850    8.5         70   1     \n",
       "11 15  8         383          170        3563   10.0         70   1     \n",
       "12 14  8         340          160        3609    8.0         70   1     \n",
       "   name                     \n",
       "1  chevrolet chevelle malibu\n",
       "2  buick skylark 320        \n",
       "3  plymouth satellite       \n",
       "4  amc rebel sst            \n",
       "5  ford torino              \n",
       "6  ford galaxie 500         \n",
       "7  chevrolet impala         \n",
       "8  plymouth fury iii        \n",
       "9  pontiac catalina         \n",
       "10 amc ambassador dpl       \n",
       "11 dodge challenger se      \n",
       "12 plymouth 'cuda 340       "
      ]
     },
     "metadata": {},
     "output_type": "display_data"
    }
   ],
   "source": [
    "require(ISLR)\n",
    "data(Auto)\n",
    "head(Auto,n=12)              #primeras 10 observaciones de 394"
   ]
  },
  {
   "cell_type": "markdown",
   "metadata": {},
   "source": [
    "Considerando que se toman características de vehiculos, se puede caracterizar el tipo de automovil con respecto a su origen origin = ‘‘1’’, origin = ‘‘2’’ y origin = ‘‘3’’ que representan, respectivamente, vehículos americanos, europeos y japoneses. Observandose el siguiente boxplot de se logra observar que los vehículos japoneses tienen un mayor rendimiento en millas por galon los cuales en promedio consumen 30.45mpg (millas por galon), caso contrario con los autos de origen americano los cuales por promedio tienen un rendimiento de 20.03mpg (millas por galon), en el caso de los de origen Europeo se tiene que consumen aproximadamente 27.60 mpg."
   ]
  },
  {
   "cell_type": "code",
   "execution_count": 76,
   "metadata": {},
   "outputs": [
    {
     "name": "stdout",
     "output_type": "stream",
     "text": [
      "'data.frame':\t392 obs. of  9 variables:\n",
      " $ mpg         : num  18 15 18 16 17 15 14 14 14 15 ...\n",
      " $ cylinders   : num  8 8 8 8 8 8 8 8 8 8 ...\n",
      " $ displacement: num  307 350 318 304 302 429 454 440 455 390 ...\n",
      " $ horsepower  : num  130 165 150 150 140 198 220 215 225 190 ...\n",
      " $ weight      : num  3504 3693 3436 3433 3449 ...\n",
      " $ acceleration: num  12 11.5 11 12 10.5 10 9 8.5 10 8.5 ...\n",
      " $ year        : num  70 70 70 70 70 70 70 70 70 70 ...\n",
      " $ origin      : num  1 1 1 1 1 1 1 1 1 1 ...\n",
      " $ name        : Factor w/ 304 levels \"amc ambassador brougham\",..: 49 36 231 14 161 141 54 223 241 2 ...\n"
     ]
    }
   ],
   "source": [
    "str(Auto)"
   ]
  },
  {
   "cell_type": "code",
   "execution_count": 63,
   "metadata": {},
   "outputs": [
    {
     "data": {
      "image/png": "[encoded data removed]",
      "text/plain": [
       "plot without title"
      ]
     },
     "metadata": {},
     "output_type": "display_data"
    }
   ],
   "source": [
    "require(ggplot2)\n",
    "library(cowplot)\n",
    "origen<-as.factor(Auto$origin)\n",
    "cilindraje<-as.factor(Auto$cylinders)\n",
    "\n",
    "p<-ggplot(Auto, aes(x=origen, y=mpg, color=origen)) +\n",
    "  geom_boxplot()\n",
    "q<-ggplot(Auto, aes(x=cilindraje, y=mpg, color=cilindraje)) +\n",
    "  geom_boxplot()\n",
    "\n",
    "plot_grid(p, q, labels = \"AUTO\")\n"
   ]
  },
  {
   "cell_type": "markdown",
   "metadata": {},
   "source": [
    "No obstante puede observarse el boxplot B, el cual representa al rendimiento en millas por galón **(mpg)** de los automóviles que tienen diferente cilindraje, en este puede observarse que entre mayor el el cilindraje, menor rendimiento genera el vehículo.\n",
    "\n",
    "Considerando que la variable de respuesta hace referencia al rendimiento en millas por galón **(mpg)** que es continua se procede a ajustar modelos con diferentes distribuciones:\n",
    "\n",
    "## Ajuste Normal\n",
    "\n",
    "##### Ajuste Normal con función de enlace Identidad"
   ]
  },
  {
   "cell_type": "markdown",
   "metadata": {},
   "source": [
    "\n",
    "$$\\begin{equation*}\n",
    "     \\left\\{\n",
    "\t       \\begin{array}{ll}\n",
    "\t\t Y_k \\sim Normal(\\mu_k, \\phi), \\\\\n",
    "\t\t \\mu_k= \\beta_1 + \\beta_2 cilynders_{k} +  \\beta_3 displacement_{k}+ \\beta_4 acceleration_{k} + \\beta_5 origin_k +\\beta_6 horsepower + \\beta_7 weight_{k}+ \\beta_8 horsepower:weight _{k} \\\\\n",
    "\t\t Y_1, Y_2,...,Y_n ind\n",
    "\t       \\end{array}\n",
    "\t     \\right.\n",
    "   \\end{equation*}\n",
    "   $$\n",
    "   \n"
   ]
  },
  {
   "cell_type": "code",
   "execution_count": 98,
   "metadata": {},
   "outputs": [],
   "source": [
    "fitNormal1 <- glm(mpg ~ 1+ factor(cilindraje) + displacement +acceleration +factor(origin) + horsepower*weight ,data = Auto, family = gaussian(link=\"identity\"))\n",
    "#summary(fitNormal1)"
   ]
  },
  {
   "cell_type": "markdown",
   "metadata": {},
   "source": [
    "#####  Ajuste Normal con función de enlace log\n",
    "\n",
    "$$\\begin{equation*}\n",
    "     \\left\\{\n",
    "\t       \\begin{array}{ll}\n",
    "\t\t Y_k \\sim Normal(\\mu_k, \\phi), \\\\\n",
    "\t\t log(\\mu_k)=  \\beta_1 + \\beta_2 cilynders_{k} +  \\beta_3 displacement_{k}+ \\beta_4 acceleration_{k} + \\beta_5 origin_k +\\beta_6 horsepower + \\beta_7 weight_{k}+ \\beta_8 horsepower:weight _{k} \\\\\n",
    "\t\t Y_1, Y_2,...,Y_n ind\n",
    "\t       \\end{array}\n",
    "\t     \\right.\n",
    "   \\end{equation*}\n",
    "   $$\n",
    "   "
   ]
  },
  {
   "cell_type": "code",
   "execution_count": 100,
   "metadata": {},
   "outputs": [],
   "source": [
    "fitNormal2 <- glm(mpg ~ 1+ factor(cilindraje) + displacement +acceleration +factor(origin) + horsepower*weight ,data = Auto, family = gaussian(link=\"log\"))\n",
    "#summary(fitNormal2)"
   ]
  },
  {
   "cell_type": "markdown",
   "metadata": {},
   "source": [
    "##### Ajuste Normal con función de enlace inversa\n",
    "\n",
    "$$\\begin{equation*}\n",
    "     \\left\\{\n",
    "\t       \\begin{array}{ll}\n",
    "\t\t Y_k \\sim Normal(\\mu_k, \\phi), \\\\\n",
    "\t\t g^{-1}(\\mu_k)=  \\beta_1 + \\beta_2 cilynders_{k} +  \\beta_3 displacement_{k}+ \\beta_4 acceleration_{k} + \\beta_5 origin_k +\\beta_6 horsepower + \\beta_7 weight_{k}+ \\beta_8 horsepower:weight _{k} \\\\\n",
    "\t\t Y_1, Y_2,...,Y_n ind\n",
    "\t       \\end{array}\n",
    "\t     \\right.\n",
    "   \\end{equation*}\n",
    "   $$\n",
    "   "
   ]
  },
  {
   "cell_type": "code",
   "execution_count": 101,
   "metadata": {},
   "outputs": [],
   "source": [
    "fitNormal3 <- glm(mpg ~ 1+ factor(cilindraje) + displacement +acceleration +factor(origin) + horsepower*weight ,data = Auto, family = gaussian(link=\"inverse\"))\n",
    "#summary(fitNormal3)"
   ]
  },
  {
   "cell_type": "markdown",
   "metadata": {},
   "source": [
    "## Ajuste Gama\n",
    "\n",
    "##### Ajuste Gama con función de enlace Identidad\n",
    "\n",
    "$$\\begin{equation*}\n",
    "     \\left\\{\n",
    "\t       \\begin{array}{ll}\n",
    "\t\t Y_k \\sim Gama(\\mu_k, \\phi), \\\\\n",
    "\t\t \\mu_k=  \\beta_1 + \\beta_2 cilynders_{k} +  \\beta_3 displacement_{k}+ \\beta_4 acceleration_{k} + \\beta_5 origin_k +\\beta_6 horsepower + \\beta_7 weight_{k}+ \\beta_8 horsepower:weight _{k} \\\\\n",
    "\t\t Y_1, Y_2,...,Y_n ind\n",
    "\t       \\end{array}\n",
    "\t     \\right.\n",
    "   \\end{equation*}\n",
    "   $$\n",
    "   "
   ]
  },
  {
   "cell_type": "code",
   "execution_count": 102,
   "metadata": {},
   "outputs": [],
   "source": [
    "fitGama1 <- glm(mpg ~ 1+ factor(cilindraje) + displacement +acceleration +factor(origin) + horsepower*weight ,data = Auto, family = Gamma(link=\"identity\"))\n",
    "#summary(fitGama1)"
   ]
  },
  {
   "cell_type": "markdown",
   "metadata": {},
   "source": [
    "##### Ajuste Gama con función de enlace log\n",
    "\n",
    "$$\\begin{equation*}\n",
    "     \\left\\{\n",
    "\t       \\begin{array}{ll}\n",
    "\t\t Y_k \\sim Gama(\\mu_k, \\phi), \\\\\n",
    "\t\t log(\\mu_k)=  \\beta_1 + \\beta_2 cilynders_{k} +  \\beta_3 displacement_{k}+ \\beta_4 acceleration_{k} + \\beta_5 origin_k +\\beta_6 horsepower + \\beta_7 weight_{k}+ \\beta_8 horsepower:weight _{k} \\\\\n",
    "\t\t Y_1, Y_2,...,Y_n ind\n",
    "\t       \\end{array}\n",
    "\t     \\right.\n",
    "   \\end{equation*}\n",
    "   $$"
   ]
  },
  {
   "cell_type": "code",
   "execution_count": 103,
   "metadata": {},
   "outputs": [],
   "source": [
    "fitGama2 <- glm(mpg ~ 1+ factor(cilindraje) + displacement +acceleration +factor(origin) + horsepower*weight ,data = Auto, family = Gamma(link=\"log\"))\n",
    "#summary(fitGama2)"
   ]
  },
  {
   "cell_type": "markdown",
   "metadata": {},
   "source": [
    "##### Ajuste Gama con función de enlace inversa\n",
    "\n",
    "$$\\begin{equation*}\n",
    "     \\left\\{\n",
    "\t       \\begin{array}{ll}\n",
    "\t\t Y_k \\sim Gama(\\mu_k, \\phi), \\\\\n",
    "\t\t g^{-1}(\\mu_k)=  \\beta_1 + \\beta_2 cilynders_{k} +  \\beta_3 displacement_{k}+ \\beta_4 acceleration_{k} + \\beta_5 origin_k +\\beta_6 horsepower + \\beta_7 weight_{k}+ \\beta_8 horsepower:weight _{k} \\\\\n",
    "\t\t Y_1, Y_2,...,Y_n ind\n",
    "\t       \\end{array}\n",
    "\t     \\right.\n",
    "   \\end{equation*}\n",
    "   $$"
   ]
  },
  {
   "cell_type": "code",
   "execution_count": 104,
   "metadata": {},
   "outputs": [],
   "source": [
    "fitGama3 <- glm(mpg ~ 1+ factor(cilindraje) + displacement +acceleration +factor(origin) + horsepower*weight ,data = Auto, family = Gamma(link=\"inverse\"))\n",
    "#summary(fitGama3)"
   ]
  },
  {
   "cell_type": "markdown",
   "metadata": {},
   "source": [
    "## Ajuste Normal Inversa\n",
    "\n",
    "##### Ajuste NI con función de enlace Identidad\n",
    "\n",
    "$$\\begin{equation*}\n",
    "     \\left\\{\n",
    "\t       \\begin{array}{ll}\n",
    "\t\t Y_k \\sim NI(\\mu_k, \\phi), \\\\\n",
    "\t\t \\mu_k=  \\beta_1 + \\beta_2 cilynders_{k} +  \\beta_3 displacement_{k}+ \\beta_4 acceleration_{k} + \\beta_5 origin_k +\\beta_6 horsepower + \\beta_7 weight_{k}+ \\beta_8 horsepower:weight _{k} \\\\\n",
    "\t\t Y_1, Y_2,...,Y_n ind\n",
    "\t       \\end{array}\n",
    "\t     \\right.\n",
    "   \\end{equation*}\n",
    "   $$"
   ]
  },
  {
   "cell_type": "code",
   "execution_count": 105,
   "metadata": {},
   "outputs": [],
   "source": [
    "fitNI1<- glm(mpg ~ 1+ factor(cilindraje) + displacement +acceleration +factor(origin) + horsepower*weight ,data = Auto, family = inverse.gaussian(link=\"identity\"))\n",
    "#summary(fitNI1)"
   ]
  },
  {
   "cell_type": "markdown",
   "metadata": {},
   "source": [
    "##### Ajuste NI con función de enlace log\n",
    "\n",
    "$$\\begin{equation*}\n",
    "     \\left\\{\n",
    "\t       \\begin{array}{ll}\n",
    "\t\t Y_k \\sim NI(\\mu_k, \\phi), \\\\\n",
    "\t\t log(\\mu_k)= \\beta_1 + \\beta_2 cilynders_{k} +  \\beta_3 displacement_{k}+ \\beta_4 acceleration_{k} + \\beta_5 origin_k +\\beta_6 horsepower + \\beta_7 weight_{k}+ \\beta_8 horsepower:weight _{k} \\\\\n",
    "\t\t Y_1, Y_2,...,Y_n ind\n",
    "\t       \\end{array}\n",
    "\t     \\right.\n",
    "   \\end{equation*}\n",
    "   $$"
   ]
  },
  {
   "cell_type": "code",
   "execution_count": 113,
   "metadata": {},
   "outputs": [
    {
     "data": {
      "text/plain": [
       "\n",
       "Call:\n",
       "glm(formula = mpg ~ 1 + factor(cilindraje) + displacement + acceleration + \n",
       "    factor(origin) + horsepower * weight, family = inverse.gaussian(link = \"log\"), \n",
       "    data = Auto)\n",
       "\n",
       "Deviance Residuals: \n",
       "      Min         1Q     Median         3Q        Max  \n",
       "-0.086322  -0.022331  -0.003998   0.016423   0.117298  \n",
       "\n",
       "Coefficients:\n",
       "                      Estimate Std. Error t value Pr(>|t|)    \n",
       "(Intercept)          4.065e+00  1.768e-01  22.993  < 2e-16 ***\n",
       "factor(cilindraje)4  2.864e-01  7.878e-02   3.635 0.000316 ***\n",
       "factor(cilindraje)5  4.216e-01  1.274e-01   3.311 0.001020 ** \n",
       "factor(cilindraje)6  1.649e-01  8.585e-02   1.921 0.055498 .  \n",
       "factor(cilindraje)8  1.545e-01  9.664e-02   1.599 0.110694    \n",
       "displacement         3.231e-04  3.139e-04   1.029 0.303940    \n",
       "acceleration        -7.416e-03  4.577e-03  -1.620 0.106029    \n",
       "factor(origin)2      2.208e-03  2.843e-02   0.078 0.938138    \n",
       "factor(origin)3      8.063e-02  2.887e-02   2.793 0.005492 ** \n",
       "horsepower          -5.829e-03  1.229e-03  -4.743 2.98e-06 ***\n",
       "weight              -2.548e-04  4.099e-05  -6.218 1.33e-09 ***\n",
       "horsepower:weight    6.585e-07  2.841e-07   2.318 0.020986 *  \n",
       "---\n",
       "Signif. codes:  0 '***' 0.001 '**' 0.01 '*' 0.05 '.' 0.1 ' ' 1\n",
       "\n",
       "(Dispersion parameter for inverse.gaussian family taken to be 0.001022483)\n",
       "\n",
       "    Null deviance: 2.02706  on 391  degrees of freedom\n",
       "Residual deviance: 0.36712  on 380  degrees of freedom\n",
       "AIC: 2048.5\n",
       "\n",
       "Number of Fisher Scoring iterations: 7\n"
      ]
     },
     "metadata": {},
     "output_type": "display_data"
    }
   ],
   "source": [
    "fitNI2<- glm(mpg ~ 1+ factor(cilindraje) + displacement +acceleration +factor(origin) + horsepower*weight ,data = Auto, family = inverse.gaussian(link=\"log\"))\n",
    "summary(fitNI2)"
   ]
  },
  {
   "cell_type": "markdown",
   "metadata": {},
   "source": [
    "##### Ajuste NI con función de enlace inversa\n",
    "\n",
    "$$\\begin{equation*}\n",
    "     \\left\\{\n",
    "\t       \\begin{array}{ll}\n",
    "\t\t Y_k \\sim NI(\\mu_k, \\phi), \\\\\n",
    "\t\t g^{-1}(\\mu_k)=  \\beta_1 + \\beta_2 cilynders_{k} +  \\beta_3 displacement_{k}+ \\beta_4 acceleration_{k} + \\beta_5 origin_k +\\beta_6 horsepower + \\beta_7 weight_{k}+ \\beta_8 horsepower:weight _{k} \\\\\n",
    "\t\t Y_1, Y_2,...,Y_n ind\n",
    "\t       \\end{array}\n",
    "\t     \\right.\n",
    "   \\end{equation*}\n",
    "   $$"
   ]
  },
  {
   "cell_type": "code",
   "execution_count": 107,
   "metadata": {},
   "outputs": [],
   "source": [
    "fitNI3<- glm(mpg ~ 1+ factor(cilindraje) + displacement +acceleration +factor(origin) + horsepower*weight ,data = Auto, family = inverse.gaussian(link=\"inverse\"))\n",
    "#summary(fitNI3)"
   ]
  },
  {
   "cell_type": "markdown",
   "metadata": {},
   "source": [
    "### B) Selección del modelo mediante BIC\n",
    "\n",
    "En correspondencia a los modelos establecidos, se calcula el BIC:"
   ]
  },
  {
   "cell_type": "code",
   "execution_count": 112,
   "metadata": {},
   "outputs": [
    {
     "data": {
      "text/html": [
       "<table>\n",
       "<thead><tr><th></th><th scope=col>df</th><th scope=col>BIC</th></tr></thead>\n",
       "<tbody>\n",
       "\t<tr><th scope=row>fitNormal1</th><td>13      </td><td>2217.293</td></tr>\n",
       "\t<tr><th scope=row>fitNormal2</th><td>13      </td><td>2210.496</td></tr>\n",
       "\t<tr><th scope=row>fitNormal3</th><td>13      </td><td>2202.363</td></tr>\n",
       "\t<tr><th scope=row>fitGama1</th><td>13      </td><td>2107.790</td></tr>\n",
       "\t<tr><th scope=row>fitGama2</th><td>13      </td><td>2106.945</td></tr>\n",
       "\t<tr><th scope=row>fitGama3</th><td>13      </td><td>2105.637</td></tr>\n",
       "\t<tr><th scope=row>fitNI1</th><td>13      </td><td>2096.973</td></tr>\n",
       "\t<tr><th scope=row>fitNI2</th><td>13      </td><td>2100.140</td></tr>\n",
       "\t<tr><th scope=row>fitNI3</th><td>13      </td><td>2103.727</td></tr>\n",
       "</tbody>\n",
       "</table>\n"
      ],
      "text/latex": [
       "\\begin{tabular}{r|ll}\n",
       "  & df & BIC\\\\\n",
       "\\hline\n",
       "\tfitNormal1 & 13       & 2217.293\\\\\n",
       "\tfitNormal2 & 13       & 2210.496\\\\\n",
       "\tfitNormal3 & 13       & 2202.363\\\\\n",
       "\tfitGama1 & 13       & 2107.790\\\\\n",
       "\tfitGama2 & 13       & 2106.945\\\\\n",
       "\tfitGama3 & 13       & 2105.637\\\\\n",
       "\tfitNI1 & 13       & 2096.973\\\\\n",
       "\tfitNI2 & 13       & 2100.140\\\\\n",
       "\tfitNI3 & 13       & 2103.727\\\\\n",
       "\\end{tabular}\n"
      ],
      "text/markdown": [
       "\n",
       "| <!--/--> | df | BIC |\n",
       "|---|---|---|\n",
       "| fitNormal1 | 13       | 2217.293 |\n",
       "| fitNormal2 | 13       | 2210.496 |\n",
       "| fitNormal3 | 13       | 2202.363 |\n",
       "| fitGama1 | 13       | 2107.790 |\n",
       "| fitGama2 | 13       | 2106.945 |\n",
       "| fitGama3 | 13       | 2105.637 |\n",
       "| fitNI1 | 13       | 2096.973 |\n",
       "| fitNI2 | 13       | 2100.140 |\n",
       "| fitNI3 | 13       | 2103.727 |\n",
       "\n"
      ],
      "text/plain": [
       "           df BIC     \n",
       "fitNormal1 13 2217.293\n",
       "fitNormal2 13 2210.496\n",
       "fitNormal3 13 2202.363\n",
       "fitGama1   13 2107.790\n",
       "fitGama2   13 2106.945\n",
       "fitGama3   13 2105.637\n",
       "fitNI1     13 2096.973\n",
       "fitNI2     13 2100.140\n",
       "fitNI3     13 2103.727"
      ]
     },
     "metadata": {},
     "output_type": "display_data"
    }
   ],
   "source": [
    "BIC(fitNormal1,fitNormal2,fitNormal3, fitGama1, fitGama2, fitGama3,fitNI1,fitNI2,fitNI3 )"
   ]
  },
  {
   "cell_type": "markdown",
   "metadata": {},
   "source": [
    "<div class=\"alert alert-info\">\n",
    "Según lo anterior, se puede establecer que el modelo que tiene mejor BIC es (fitNI2) el cual hace referencia a un ajuste Normal-Inversa con función de enlace identidad. Ahora bien para seleccionar el mejor modelo se usa step_glm con el criterio BIC con procedimiento backward como se muestra en la siguiente línea :\n",
    "</div>\n",
    "\n"
   ]
  },
  {
   "cell_type": "code",
   "execution_count": 111,
   "metadata": {},
   "outputs": [
    {
     "name": "stdout",
     "output_type": "stream",
     "text": [
      "\n",
      "  Family:  inverse.gaussian \n",
      "    Link:  log \n",
      "\n",
      "Initial model:\n",
      "mpg ~ 1 + factor(cilindraje) + displacement + acceleration + factor(origin) + horsepower + weight + horsepower:weight \n",
      "\n",
      "Step 0 :    \n",
      "                     Df       BIC       AIC   Deviance+  Pearson^  p-value*\n",
      "- displacement        1   2095.3320 2047.6768    0.8136    0.7826    0.3033\n",
      "- acceleration        1   2097.0744 2049.4193    0.8128    0.7852    0.1052\n",
      "- factor(origin)      2   2098.9976 2055.3137    0.8094    0.7782    0.0077\n",
      "- horsepower:weight   1   2099.9164 2052.2612    0.8114    0.7813    0.0205\n",
      "<none>                    2100.1403 2048.5139    0.8137    0.7837          \n",
      "- factor(cilindraje)  4   2104.1890 2068.4477    0.8020    0.7754 1.099e-05\n",
      "\n",
      "Step 1 :  - displacement \n",
      "                     Df       BIC       AIC   Deviance+  Pearson^  p-value*\n",
      "- acceleration        1   2092.6153 2048.9314    0.8125    0.7842    0.0826\n",
      "- factor(origin)      2   2093.1974 2053.4848    0.8099    0.7785    0.0123\n",
      "<none>                    2095.3320 2047.6768    0.8136    0.7826          \n",
      "- horsepower:weight   1   2096.4724 2052.7885    0.8107    0.7787    0.0106\n",
      "- factor(cilindraje)  4   2098.2262 2066.4561    0.8025    0.7758 1.691e-05\n",
      "\n",
      "Step 2 :  - acceleration \n",
      "                     Df       BIC       AIC   Deviance+  Pearson^  p-value*\n",
      "- factor(origin)      2   2090.7888 2055.0475    0.8086    0.7799    0.0100\n",
      "<none>                    2092.6153 2048.9314    0.8125    0.7842          \n",
      "- horsepower:weight   1   2092.6188 2052.9061    0.8101    0.7805    0.0174\n",
      "- factor(cilindraje)  4   2094.4134 2066.6145    0.8019    0.7771 2.425e-05\n",
      "\n",
      "Step 3 :  - factor(origin) \n",
      "                     Df       BIC       AIC   Deviance+  Pearson^  p-value*\n",
      "- factor(cilindraje)  4   2089.3634 2069.5071    0.7994    0.7735    0.0002\n",
      "<none>                    2090.7888 2055.0475    0.8086    0.7799          \n",
      "- horsepower:weight   1   2092.9680 2061.1979    0.8051    0.7750    0.0052\n",
      "\n",
      "Step 4 :  - factor(cilindraje) \n",
      "                    Df       BIC       AIC   Deviance+  Pearson^  p-value*\n",
      "<none>                   2089.3634 2069.5071    0.7994    0.7735          \n",
      "- horsepower:weight  1   2109.6257 2093.7407    0.7861    0.7591 3.444e-07\n",
      "\n",
      "+ Adjusted R-squared based on the residual deviance\n",
      "^ Adjusted R-squared based on the Pearson statistic\n",
      "* p-value of the Wald test\n",
      "\n",
      "Final model:\n",
      "mpg ~ 1 + horsepower + weight + horsepower:weight \n",
      "\n"
     ]
    }
   ],
   "source": [
    "setwd(\"C:\\\\Users\\\\YULY\\\\Desktop\\\\Desktop\\\\UNAL 2018\\\\MLGz\\\\MLG Vanegas\")\n",
    "source(\"macros.txt\")\n",
    "\n",
    "step_glm(fitNI2, criterion=\"BIC\", direction = \"backward\")   #forward  o  backward"
   ]
  },
  {
   "cell_type": "markdown",
   "metadata": {},
   "source": [
    "El anterior codigo establece el mejor modelo. Se usa el proceso backward (que inicia con el modelo más complejo): \n",
    "\n",
    "* **paso 0**: Si se quita el efecto _displacement_ se tendría un BIC=2095.3320 el cual es mucho menor que el bic de los demás efectos principales e interacciones dobles. **CONCLUSIÓN: Sacar elefecto displacement del modelo**.\n",
    "\n",
    "* **paso 1**: En correspondencia a todos los efectos simples e interaciones dobles se tiene que al quitar el efecto _acceleration_, se obtiene un modleo con BIC=2092.6153 menor **CONCLUSIÓN: Sacar elefecto acceleration del modelo**\n",
    "\n",
    "* **paso 3**: Si se quita el efecto _origin_ se tendría un BIC=2090.7888 mucho menor que el bic de los demás efectos principales e interacciones dobles. **CONCLUSIÓN: Sacar elefecto origin del modelo**.\n",
    "\n",
    "* **paso 4**: Si se quita el efecto _2089.3634_ se tendría un BIC2089.3634 mucho menor que el bic de los demás efectos principales e interacciones dobles. **CONCLUSIÓN: Sacar elefecto 2089.3634 del modelo**.\n",
    "\n",
    "* **paso 5**: Según las indicaciones del procedimiento se sugiere  no hacer nada más, es decir _none_ tendría el BIC=2089.3634 mucho menor que el bic de los demás efectos principales e interacciones dobles restantes. **CONCLUSIÓN: No quitar más efectos**.\n",
    "\n",
    "Obteniéndose el siguiente predictor lineal: \n",
    "\n",
    "\n",
    "$$\\eta = 1 + horsepower + weight + horsepower:weight$$\n",
    "\n",
    "cuyo ajuste es:"
   ]
  },
  {
   "cell_type": "code",
   "execution_count": 117,
   "metadata": {},
   "outputs": [
    {
     "data": {
      "text/plain": [
       "\n",
       "Call:\n",
       "glm(formula = mpg ~ 1 + horsepower * weight, family = inverse.gaussian(link = \"log\"), \n",
       "    data = Auto)\n",
       "\n",
       "Deviance Residuals: \n",
       "      Min         1Q     Median         3Q        Max  \n",
       "-0.095026  -0.022058  -0.003469   0.018309   0.112080  \n",
       "\n",
       "Coefficients:\n",
       "                    Estimate Std. Error t value Pr(>|t|)    \n",
       "(Intercept)        4.556e+00  9.410e-02  48.415  < 2e-16 ***\n",
       "horsepower        -7.254e-03  1.024e-03  -7.087 6.50e-12 ***\n",
       "weight            -3.743e-04  2.942e-05 -12.721  < 2e-16 ***\n",
       "horsepower:weight  1.257e-06  2.466e-07   5.097 5.39e-07 ***\n",
       "---\n",
       "Signif. codes:  0 '***' 0.001 '**' 0.01 '*' 0.05 '.' 0.1 ' ' 1\n",
       "\n",
       "(Dispersion parameter for inverse.gaussian family taken to be 0.001070424)\n",
       "\n",
       "    Null deviance: 2.02706  on 391  degrees of freedom\n",
       "Residual deviance: 0.40345  on 388  degrees of freedom\n",
       "AIC: 2069.5\n",
       "\n",
       "Number of Fisher Scoring iterations: 4\n"
      ]
     },
     "metadata": {},
     "output_type": "display_data"
    }
   ],
   "source": [
    "ajustefinal<- glm(mpg ~ 1 + horsepower*weight,data = Auto, family = inverse.gaussian(link=\"log\"))\n",
    "summary(ajustefinal)"
   ]
  },
  {
   "cell_type": "markdown",
   "metadata": {},
   "source": [
    "La anterior salida especifica la estimación de los parámetros a partir de 5 iteraciones del scoring de fisher."
   ]
  },
  {
   "cell_type": "markdown",
   "metadata": {},
   "source": [
    "### C) test de wald y razón de verosimilitudes\n",
    "\n",
    "#### Test de WALD\n",
    "\n",
    "En correspondencia al modelo anterior modelo propuesto surge una pregunta alusiva a si _¿existe evidencia estadísticamente significativa en que el efecto del peso del vehículo sobre su rendimiento esperado depende de la potencia del motor?_ Para responder esta pregunta se realiza el siguiente contraste de hipótesis:\n",
    "\n",
    "$$H_{0}: \\beta_4=0 \\;\\;\\;\\;\\; vs \\;\\;\\;\\;\\;\\;H_{1}: \\beta_4 \\neq 0 $$\n",
    "\n",
    "donde \n",
    "\n",
    "$$ \\xi _{W} = (\\hat{\\beta_4}  - \\beta_4^{0})' [\\hat{Var}(\\hat{\\beta_4})]^{-1}(\\hat{\\beta_4}  - \\beta_4^{0})$$\n"
   ]
  },
  {
   "cell_type": "code",
   "execution_count": 120,
   "metadata": {},
   "outputs": [
    {
     "data": {
      "text/html": [
       "<strong>horsepower:weight:</strong> 25.9829874254362"
      ],
      "text/latex": [
       "\\textbf{horsepower:weight:} 25.9829874254362"
      ],
      "text/markdown": [
       "**horsepower:weight:** 25.9829874254362"
      ],
      "text/plain": [
       "horsepower:weight \n",
       "         25.98299 "
      ]
     },
     "metadata": {},
     "output_type": "display_data"
    }
   ],
   "source": [
    "(coef(ajustefinal)[c(4)])^2 /(vcov(ajustefinal)[c(4), c(4)])     #test de wald"
   ]
  },
  {
   "cell_type": "markdown",
   "metadata": {},
   "source": [
    "Aqui hay que notar que $\\xi _{W}=  25.98$ es el mismo test de wald para el casi univariado, vease la salida presentada en _summary(ajustefinal)_ Dese cuenta que $\\xi _{W}=  25.98$ que este valor es el que hay que comparar con una $\\chi ^2 $ con un grado de libertad, 1df, concluyendose que hay evidencia para rechazar la hipótesis nula, al igual que especifica la salida _summary(ajustefinal)_ en su $p-valor=5.39e^{-7}$. Finalmente **el efecto del peso del vehículo sobre su rendimiento esperado  SI depende de la potencia del motor.**"
   ]
  },
  {
   "cell_type": "markdown",
   "metadata": {},
   "source": [
    "#### Otra forma del test de wald"
   ]
  },
  {
   "cell_type": "code",
   "execution_count": 119,
   "metadata": {},
   "outputs": [
    {
     "name": "stdout",
     "output_type": "stream",
     "text": [
      "\n",
      "  Wald test \n",
      "\n",
      " Model 1:  mpg ~ 1 + horsepower * weight \n",
      " Model 2:  mpg ~ 1 + horsepower + weight \n",
      "\n",
      "   Chi   Df  Pr(>Chi)    \n",
      "  25.983  1 3.444e-07 ***\n"
     ]
    }
   ],
   "source": [
    "fit<-glm(mpg ~ 1+ horsepower+weight ,data = Auto, family = inverse.gaussian(link=\"log\"))\n",
    "anova_glm(ajustefinal,fit,test=\"wald\") #test de wald"
   ]
  },
  {
   "cell_type": "markdown",
   "metadata": {},
   "source": [
    "Con el código anterior también se llega a la misma conclusión anterior. **el efecto del peso del vehículo sobre su rendimiento esperado  SI depende de la potencia del motor.**"
   ]
  },
  {
   "cell_type": "markdown",
   "metadata": {},
   "source": [
    "#### Test razón de verosimilitudes\n",
    "\n",
    "_¿existe evidencia estadísticamente significativa en que el efecto del peso del vehículo sobre su rendimiento esperado depende de la potencia del motor?_ Para responder esta pregunta se realiza el siguiente contraste de hipótesis:\n",
    "\n",
    "$$H_{0}: \\beta_4=0 \\;\\;\\;\\;\\; vs \\;\\;\\;\\;\\;\\;H_{1}: \\beta_4 \\neq 0 $$\n",
    "\n",
    "Consideradndo el siguiente código se rechaza $H_0$ a un nivel de significancia APROXIMADO del 100$ \\alpha\\%$ puesto que $\\xi _{RV}=26.087>\\chi^2(1)$ A firmandose que $\\beta_4$ es significativo en el modelo. Es decír **el efecto del peso del vehículo sobre su rendimiento esperado  SI depende de la potencia del motor.**"
   ]
  },
  {
   "cell_type": "code",
   "execution_count": 121,
   "metadata": {},
   "outputs": [
    {
     "name": "stdout",
     "output_type": "stream",
     "text": [
      "\n",
      "  Likelihood-ratio test \n",
      "\n",
      " Model 1:  mpg ~ 1 + horsepower * weight \n",
      " Model 2:  mpg ~ 1 + horsepower + weight \n",
      "\n",
      "   Chi   Df  Pr(>Chi)    \n",
      "  26.087  1 3.264e-07 ***\n"
     ]
    }
   ],
   "source": [
    "anova_glm(ajustefinal,fit, test = \"LRT\")  "
   ]
  },
  {
   "cell_type": "markdown",
   "metadata": {},
   "source": [
    "### D) Análsis del diagnóstico del modelo\n",
    "\n",
    "La siguiente gráfica es la de los residuos cuantil, mediante la función **residuals_glm()** la cual genera por defecto los residuos cuantil."
   ]
  },
  {
   "cell_type": "code",
   "execution_count": 122,
   "metadata": {},
   "outputs": [
    {
     "data": {
      "image/png": "[encoded data removed]",
      "text/plain": [
       "Plot with title \" \""
      ]
     },
     "metadata": {},
     "output_type": "display_data"
    }
   ],
   "source": [
    "residuals_glm(ajustefinal,identify = 4)"
   ]
  },
  {
   "cell_type": "markdown",
   "metadata": {},
   "source": [
    "Los carros que tienen altos residuos son (360,382) y menor residuo el auto (29,154)."
   ]
  },
  {
   "cell_type": "code",
   "execution_count": 123,
   "metadata": {},
   "outputs": [
    {
     "data": {
      "image/png": "[encoded data removed]",
      "text/plain": [
       "Plot with title \" \""
      ]
     },
     "metadata": {},
     "output_type": "display_data"
    }
   ],
   "source": [
    "Cookdis_glm(ajustefinal,identify = 6)  "
   ]
  },
  {
   "cell_type": "markdown",
   "metadata": {},
   "source": [
    "Los carros que aproximadamente tienen más alta distancia de cook son (29,26,360,331,124)  "
   ]
  },
  {
   "cell_type": "markdown",
   "metadata": {},
   "source": [
    "### ¿Qué sucede si quitamos los puntos alto leverage?\n",
    "\n",
    "Quitando el dato 331 se tiene:"
   ]
  },
  {
   "cell_type": "code",
   "execution_count": 125,
   "metadata": {},
   "outputs": [
    {
     "name": "stdout",
     "output_type": "stream",
     "text": [
      "\n",
      "                   Estimate  Std. Error   Pr(>|t|)  |  Estimate* Std. Error*\n",
      "(Intercept)        4.556e+00   9.410e-02          0 |  4.571e+00   9.307e-02\n",
      "horsepower        -7.254e-03   1.024e-03          0 | -7.290e-03   1.011e-03\n",
      "weight            -3.743e-04   2.942e-05          0 | -3.823e-04   2.915e-05\n",
      "horsepower:weight  1.257e-06   2.466e-07          0 |  1.290e-06   2.438e-07\n",
      "                   Pr(>|t|)* | Change(%)\n",
      "(Intercept)                0 |    0.3312\n",
      "horsepower                 0 |   -0.4955\n",
      "weight                     0 |   -2.1330\n",
      "horsepower:weight          0 |    2.6337\n",
      "\n",
      "(*) estimates, standard errors and p-values obtained using the specified subset of individuals.\n"
     ]
    }
   ],
   "source": [
    "case.deletion_glm(ajustefinal,subset = c(-360))"
   ]
  },
  {
   "cell_type": "markdown",
   "metadata": {},
   "source": [
    "* Quitando el dato 360 se tiene que **(Continúa el signo y la significancia)**\n",
    "\n",
    "La estimación del intercepto aumentó un $0.3\\%$, mientras que la estimación de $\\beta_2$ disminuyó $0.4\\%$ todo al quitar la observación 360. con respecto a _horsepower:weight_  se tiene que  $\\beta_4$ aumento $2.6\\%$  No obstante la significancia permaneció prácticamente igual lo cual indica que al quitar el dato 360 las cosas siguen siendo prácticamente iguales con respecto a la significancia."
   ]
  },
  {
   "cell_type": "code",
   "execution_count": 126,
   "metadata": {},
   "outputs": [
    {
     "name": "stdout",
     "output_type": "stream",
     "text": [
      "\n",
      "                   Estimate  Std. Error   Pr(>|t|)  |  Estimate* Std. Error*\n",
      "(Intercept)        4.556e+00   9.410e-02          0 |  4.559e+00   9.226e-02\n",
      "horsepower        -7.254e-03   1.024e-03          0 | -7.238e-03   1.004e-03\n",
      "weight            -3.743e-04   2.942e-05          0 | -3.781e-04   2.886e-05\n",
      "horsepower:weight  1.257e-06   2.466e-07          0 |  1.271e-06   2.419e-07\n",
      "                   Pr(>|t|)* | Change(%)\n",
      "(Intercept)                0 |    0.0704\n",
      "horsepower                 0 |    0.2152\n",
      "weight                     0 |   -1.0147\n",
      "horsepower:weight          0 |    1.1166\n",
      "\n",
      "(*) estimates, standard errors and p-values obtained using the specified subset of individuals.\n"
     ]
    }
   ],
   "source": [
    "case.deletion_glm(ajustefinal,subset = c(-382))"
   ]
  },
  {
   "cell_type": "markdown",
   "metadata": {},
   "source": [
    "* Quitando el dato 382 se tiene que **(Continúa el signo y la significancia)**\n",
    "\n",
    "La estimación de $\\beta_3$ disminuyó $1\\%$ todo al quitar la observación 382. No obstante la significancia permaneció igual lo cual indica que al quitar la observación las cosas siguen siendo prácticamente iguales."
   ]
  },
  {
   "cell_type": "markdown",
   "metadata": {},
   "source": [
    "### Envelope\n",
    "\n",
    "En cosideración al modelo descrito se tiene el envelope con respecto a los residuos cuantil:"
   ]
  },
  {
   "cell_type": "code",
   "execution_count": 131,
   "metadata": {},
   "outputs": [
    {
     "name": "stdout",
     "output_type": "stream",
     "text": [
      "  |++++++++++++++++++++++++++++++++++++++++++++++++++| 100%\n"
     ]
    },
    {
     "data": {
      "image/png": "[encoded data removed]",
      "text/plain": [
       "Plot with title \" \""
      ]
     },
     "metadata": {},
     "output_type": "display_data"
    }
   ],
   "source": [
    "envelope_glm(ajustefinal)"
   ]
  },
  {
   "cell_type": "markdown",
   "metadata": {},
   "source": [
    "### supuesto de dispersión constante\n",
    "\n",
    "\n",
    "La homocedasticidad, es una característica de un modelo de regresión lineal que implica que la varianza de los errores es constante a lo largo del tiempo. Supongase el *modelo Normal inverso heterocedastico* descrito por:\n",
    "\n",
    "$\\;$\n",
    "$$\\begin{equation*}\n",
    "     \\left\\{\n",
    "\t       \\begin{array}{ll}\n",
    "           Y_k = \\mu_k + \\epsilon_k\\\\\n",
    "\t\t \\mu_k=\\mathbf{x}_k'\\beta  \\\\\n",
    "\t\t Y_k \\sim NI(\\mu_k, \\phi_k)\\\\\n",
    "         log(\\phi_k) =\\vartheta_1 + Z_k \\vartheta \n",
    "\t       \\end{array}\n",
    "\t     \\right.\n",
    "   \\end{equation*}\n",
    "   $$\n",
    "  \n",
    "  \n",
    " Tengase en cuenta $\\Theta_{(p+q)}$ de dimensión (p+q) donde: $\\Theta= \\left ( \\beta ^r , \\vartheta _1, \\vartheta ^T \\right )^T$ con $\\beta$ de dimensión p, $\\vartheta _1$ de dimensión 1 y $\\vartheta ^T$ de dimensión q-1.\n",
    " \n",
    "La forma de proceder está en contrastar la siguiente hipótesis:\n",
    "\n",
    "$$H_{0}: \\vartheta =0\\;\\;\\;\\;\\;\\;\\;\\;vs \\;\\;\\;\\; \\;\\;\\;\\;H_{1}: \\vartheta \\neq  0$$\n",
    " \n",
    " \n",
    " \n",
    "#####  Test de Score o Rao  (necesita 1 parámetro a estimar $\\widehat{\\theta}^{(0)}$ )\n",
    "\n",
    "$$\\zeta_{s}=\\left \\{   [U_{\\vartheta}(\\theta)]^{T}Var(\\widehat{\\vartheta})[U_{\\vartheta}(\\theta)]   \\right \\} |_{\\theta=\\widehat{\\theta}^{(0)}}  \\;\\;\\;\\;\\;\\;\\; ; \\;\\;\\;\\;\\;\\;\\; \\zeta_{s}\\; \\overset{H_0}{\\underset{n \\to \\infty }{\\sim}} \\; \\chi^2_{(q-1)} $$\n",
    "\n",
    "Aquí $U(\\theta)= \\bigtriangledown l(\\theta)$ es el vector gradiente y $U_{\\vartheta}(\\theta)$ los últimos (q-1) valores del vector gradiente.\n"
   ]
  },
  {
   "cell_type": "code",
   "execution_count": 129,
   "metadata": {},
   "outputs": [
    {
     "name": "stdout",
     "output_type": "stream",
     "text": [
      "\n",
      "             Score test for varying dispersion\n",
      "\n",
      "          Statistic =  1.50238 \n",
      " degrees of freedom =  3 \n",
      "            p-value =  0.68172 \n",
      "\n"
     ]
    },
    {
     "ename": "ERROR",
     "evalue": "Error in bptest(ajustefinal, studentize = FALSE): no se pudo encontrar la función \"bptest\"\n",
     "output_type": "error",
     "traceback": [
      "Error in bptest(ajustefinal, studentize = FALSE): no se pudo encontrar la función \"bptest\"\nTraceback:\n"
     ]
    }
   ],
   "source": [
    "vdtest(ajustefinal)\n",
    "bptest(ajustefinal,studentize=FALSE)"
   ]
  },
  {
   "cell_type": "markdown",
   "metadata": {},
   "source": [
    "Luego No se rechaza $H_0$ entonces $H_0= \\vartheta =0$ implica que  $log(\\phi_k) =\\vartheta_1 + Z_k \\vartheta$ lo cual da indicios de que $log(\\phi_k)$ depende de k lo cual acevera que existe varianza constante."
   ]
  },
  {
   "cell_type": "markdown",
   "metadata": {},
   "source": [
    "## Interpretación\n",
    " \n",
    "$$log(\\mu_k)= \\beta_1 + \\beta_2 hosepower_{k} + \\beta_3 weigth_{k}+ \\beta_4  hosepower:weigth_{k}$$\n",
    " \n",
    "\n",
    "Se describe el rendimiento esperado mpg en millas por galon como:\n",
    "\n",
    "$$\\mu_k=  Exp[\\beta_1 + \\beta_2 hosepower_{k} + \\beta_3 weigth_{k}+ \\beta_4  hosepower:weigth_{k}]$$\n",
    "\n",
    "--- \n",
    "\n",
    "Considerando que se desea comparar a dos automoviles que tienen los mismos caballos de fuerza, uno de ellos con una unidad de peso mayor se tiene:\n",
    "  \n",
    " $$\\mu_k= \\frac{ Exp[(\\beta_1 + \\beta_2 hosepower_{k})  + (\\beta_3 weigth_{k}+ \\beta_4  hosepower) (weigth_{k} + \\delta)]}{Exp[\\beta_1 + \\beta_2 hosepower_{k} + (\\beta_3 weigth_{k}+ \\beta_4  hosepower)weigth_{k}] } = exp((\\beta_3 weigth_{k}+ \\beta_4  hosepower)\\delta) $$\n",
    " \n",
    "$$exp[(\\beta_3 weigth_{k}+ \\beta_4  hosepower)\\delta]=exp[(-68.55*weigth_{k} + 3.11*hosepower)\\delta] $$\n",
    "\n",
    " Como $\\beta_3=-68.55$ es negativo, cuando aumenta el peso $weigth_{k}$ en $\\delta$ unidades y al sumar $\\beta_3$ se vuelve una cantidad negativa esto significa que el efecto esperado será la exponencial de algo negativo , es decir que a medida que el peso aumenta el rendimiento esperado disminuye.\n",
    "\n",
    "--- \n",
    "\n",
    "Considerando que se desea comparar a dos automoviles que tienenel mismo peso, uno de ellos con un caballo de fuerza mayor se tiene:\n",
    "  \n",
    " $$\\mu_k= \\frac{ Exp[(\\beta_1 + \\beta_3 weigth)  + (\\beta_2+ \\beta_4 weigth_{k}) (hosepower + \\delta)]}{Exp[(\\beta_1 + \\beta_3 weigth)  + (\\beta_2+ \\beta_4 weigth)hosepower] } = exp((\\beta_2+ \\beta_4 weigth) \\delta) $$\n",
    " \n",
    "$$ exp((-7.254e-03+1.257e-06 weigth_{k}) \\delta) = exp((-361.1 + 3.11 weigth_{k}) \\delta)  $$\n",
    "\n",
    " Como $\\beta_2$ es negativo, cuando aumenta los caballos de fuerza en $\\delta$ unidades y al sumar $\\beta_3$ se vuelve una cantidad negativa esto significa que el efecto esperado será la exponencial de algo negativo , es decir que a medida que el peso aumenta el peso el rendimiento esperado disminuye.\n",
    "\n"
   ]
  }
 ],
 "metadata": {
  "kernelspec": {
   "display_name": "R",
   "language": "R",
   "name": "ir"
  },
  "language_info": {
   "codemirror_mode": "r",
   "file_extension": ".r",
   "mimetype": "text/x-r-source",
   "name": "R",
   "pygments_lexer": "r",
   "version": "3.6.1"
  }
 },
 "nbformat": 4,
 "nbformat_minor": 2
}
