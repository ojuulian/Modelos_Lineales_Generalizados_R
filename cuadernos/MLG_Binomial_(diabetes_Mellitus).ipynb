{
 "cells": [
  {
   "cell_type": "markdown",
   "metadata": {},
   "source": [
    "## MLG Diabetes Melitus (Caso binomial)\n",
    "#### Grupo2\n",
    "\n",
    "Consideramos un conjunto de datos que tiene como objetivo estudiar la probabilidad de que una persona tenga diabetes Mellitus\n",
    "Se define Y=1 si el adulto tiene diabetes y Y=0 si el adulto no tiene diabetes.\n",
    "no tiene ninguno. Se consideran tres variables explicativas:\n",
    "\n",
    "* **peso** \n",
    "* **talla** \n",
    "* **imc**  \n",
    "* **cintura** \n",
    "* **pantorrilla** \n",
    "* **branquial** \n",
    "* **puntajepruebas**\n",
    "* **diabetes** Autorreporte de diabetes mellitus (diabetes=1, tiene diabetes mellitus, diabetes=0 no tiene diabetes mellitus). **Esta es considerada como la RTA**\n",
    "\n",
    "\n",
    "* $m_k Y_k \\sim Binomial(m_k, \\mu_k)$\n",
    "* $\\mu_k$ : El número de ensayos. es igual a 1"
   ]
  },
  {
   "cell_type": "code",
   "execution_count": 40,
   "metadata": {},
   "outputs": [
    {
     "data": {
      "text/html": [
       "'C:/Users/YULY/Desktop/Desktop/UNAL 2018/MLGz/MLG Vanegas'"
      ],
      "text/latex": [
       "'C:/Users/YULY/Desktop/Desktop/UNAL 2018/MLGz/MLG Vanegas'"
      ],
      "text/markdown": [
       "'C:/Users/YULY/Desktop/Desktop/UNAL 2018/MLGz/MLG Vanegas'"
      ],
      "text/plain": [
       "[1] \"C:/Users/YULY/Desktop/Desktop/UNAL 2018/MLGz/MLG Vanegas\""
      ]
     },
     "metadata": {},
     "output_type": "display_data"
    }
   ],
   "source": [
    "getwd()\n",
    "setwd(\"C:\\\\Users\\\\YULY\\\\Desktop\\\\Desktop\\\\UNAL 2018\\\\MLGz\\\\MLG Vanegas\")#asignando capeta busqueda"
   ]
  },
  {
   "cell_type": "code",
   "execution_count": 41,
   "metadata": {},
   "outputs": [
    {
     "data": {
      "text/html": [
       "<table>\n",
       "<thead><tr><th scope=col>PESO</th><th scope=col>TALLA</th><th scope=col>IMC</th><th scope=col>I_IMC</th><th scope=col>CINTURA</th><th scope=col>I_CINTURA</th><th scope=col>PANTORRILLA</th><th scope=col>I_PANTORRILLA</th><th scope=col>BRANQUIAL</th><th scope=col>I_BRAQUIAL</th><th scope=col>...</th><th scope=col>PUNTAJE_SPPB_V</th><th scope=col>PUNTAJE_SPPB_I</th><th scope=col>SPPB_FINAL</th><th scope=col>ESTADO DE LA PERSONA</th><th scope=col>AUTOREPORTE_DIABETES</th><th scope=col>COLESTEROL_HDL</th><th scope=col>COLESTEROL_LDL</th><th scope=col>TRIGLICERIDOS</th><th scope=col>GLUCOSA</th><th scope=col>COLESTEROL_TOTAL</th></tr></thead>\n",
       "<tbody>\n",
       "\t<tr><td>91.6                  </td><td>158.5                 </td><td>36.46170              </td><td>OBESIDAD II           </td><td>102.0                 </td><td>EXCESO GRASA ABDOMINAL</td><td>40.0                  </td><td>ADECUADO              </td><td>35.0                  </td><td>ADECUADO              </td><td>...                   </td><td>1                     </td><td>2                     </td><td>206.2285              </td><td>CON                   </td><td>1                     </td><td>52                    </td><td>117                   </td><td>223                   </td><td> 97                   </td><td>192                   </td></tr>\n",
       "\t<tr><td>59.9                  </td><td>164.9                 </td><td>22.02853              </td><td>NORMOPESO             </td><td> 94.4                 </td><td>EXCESO GRASA ABDOMINAL</td><td>31.1                  </td><td>ADECUADO              </td><td>26.9                  </td><td>ADECUADO              </td><td>...                   </td><td>1                     </td><td>3                     </td><td>207.5598              </td><td>SIN                   </td><td>0                     </td><td>43                    </td><td>125                   </td><td> 91                   </td><td> 88                   </td><td>183                   </td></tr>\n",
       "\t<tr><td>65.5                  </td><td>173.1                 </td><td>21.85985              </td><td>PESO INSUFICIENTE     </td><td> 91.5                 </td><td>EXCESO GRASA ABDOMINAL</td><td>35.5                  </td><td>ADECUADO              </td><td>26.7                  </td><td>ADECUADO              </td><td>...                   </td><td>1                     </td><td>2                     </td><td>224.0713              </td><td>SIN                   </td><td>0                     </td><td>33                    </td><td>117                   </td><td>134                   </td><td> 90                   </td><td>167                   </td></tr>\n",
       "\t<tr><td>63.2                  </td><td>145.7                 </td><td>29.77131              </td><td>SOBREPESO             </td><td> 97.6                 </td><td>EXCESO GRASA ABDOMINAL</td><td>36.5                  </td><td>ADECUADO              </td><td>30.5                  </td><td>ADECUADO              </td><td>...                   </td><td>1                     </td><td>3                     </td><td>234.6934              </td><td>SIN                   </td><td>0                     </td><td>59                    </td><td> 87                   </td><td> 77                   </td><td> 79                   </td><td>161                   </td></tr>\n",
       "\t<tr><td>70.2                  </td><td>153.5                 </td><td>29.79342              </td><td>SOBREPESO             </td><td>102.2                 </td><td>EXCESO GRASA ABDOMINAL</td><td>36.4                  </td><td>ADECUADO              </td><td>31.5                  </td><td>ADECUADO              </td><td>...                   </td><td>1                     </td><td>1                     </td><td>198.2449              </td><td>CON                   </td><td>1                     </td><td>41                    </td><td> 60                   </td><td>100                   </td><td>223                   </td><td>114                   </td></tr>\n",
       "\t<tr><td>59.1                  </td><td>148.1                 </td><td>26.94495              </td><td>NORMOPESO             </td><td> 82.5                 </td><td>EXCESO GRASA ABDOMINAL</td><td>34.2                  </td><td>ADECUADO              </td><td>26.7                  </td><td>ADECUADO              </td><td>...                   </td><td>1                     </td><td>3                     </td><td>208.1749              </td><td>SIN                   </td><td>0                     </td><td>32                    </td><td>114                   </td><td>180                   </td><td> 95                   </td><td>176                   </td></tr>\n",
       "</tbody>\n",
       "</table>\n"
      ],
      "text/latex": [
       "\\begin{tabular}{r|lllllllllllllllllllll}\n",
       " PESO & TALLA & IMC & I\\_IMC & CINTURA & I\\_CINTURA & PANTORRILLA & I\\_PANTORRILLA & BRANQUIAL & I\\_BRAQUIAL & ... & PUNTAJE\\_SPPB\\_V & PUNTAJE\\_SPPB\\_I & SPPB\\_FINAL & ESTADO DE LA PERSONA & AUTOREPORTE\\_DIABETES & COLESTEROL\\_HDL & COLESTEROL\\_LDL & TRIGLICERIDOS & GLUCOSA & COLESTEROL\\_TOTAL\\\\\n",
       "\\hline\n",
       "\t 91.6                   & 158.5                  & 36.46170               & OBESIDAD II            & 102.0                  & EXCESO GRASA ABDOMINAL & 40.0                   & ADECUADO               & 35.0                   & ADECUADO               & ...                    & 1                      & 2                      & 206.2285               & CON                    & 1                      & 52                     & 117                    & 223                    &  97                    & 192                   \\\\\n",
       "\t 59.9                   & 164.9                  & 22.02853               & NORMOPESO              &  94.4                  & EXCESO GRASA ABDOMINAL & 31.1                   & ADECUADO               & 26.9                   & ADECUADO               & ...                    & 1                      & 3                      & 207.5598               & SIN                    & 0                      & 43                     & 125                    &  91                    &  88                    & 183                   \\\\\n",
       "\t 65.5                   & 173.1                  & 21.85985               & PESO INSUFICIENTE      &  91.5                  & EXCESO GRASA ABDOMINAL & 35.5                   & ADECUADO               & 26.7                   & ADECUADO               & ...                    & 1                      & 2                      & 224.0713               & SIN                    & 0                      & 33                     & 117                    & 134                    &  90                    & 167                   \\\\\n",
       "\t 63.2                   & 145.7                  & 29.77131               & SOBREPESO              &  97.6                  & EXCESO GRASA ABDOMINAL & 36.5                   & ADECUADO               & 30.5                   & ADECUADO               & ...                    & 1                      & 3                      & 234.6934               & SIN                    & 0                      & 59                     &  87                    &  77                    &  79                    & 161                   \\\\\n",
       "\t 70.2                   & 153.5                  & 29.79342               & SOBREPESO              & 102.2                  & EXCESO GRASA ABDOMINAL & 36.4                   & ADECUADO               & 31.5                   & ADECUADO               & ...                    & 1                      & 1                      & 198.2449               & CON                    & 1                      & 41                     &  60                    & 100                    & 223                    & 114                   \\\\\n",
       "\t 59.1                   & 148.1                  & 26.94495               & NORMOPESO              &  82.5                  & EXCESO GRASA ABDOMINAL & 34.2                   & ADECUADO               & 26.7                   & ADECUADO               & ...                    & 1                      & 3                      & 208.1749               & SIN                    & 0                      & 32                     & 114                    & 180                    &  95                    & 176                   \\\\\n",
       "\\end{tabular}\n"
      ],
      "text/markdown": [
       "\n",
       "| PESO | TALLA | IMC | I_IMC | CINTURA | I_CINTURA | PANTORRILLA | I_PANTORRILLA | BRANQUIAL | I_BRAQUIAL | ... | PUNTAJE_SPPB_V | PUNTAJE_SPPB_I | SPPB_FINAL | ESTADO DE LA PERSONA | AUTOREPORTE_DIABETES | COLESTEROL_HDL | COLESTEROL_LDL | TRIGLICERIDOS | GLUCOSA | COLESTEROL_TOTAL |\n",
       "|---|---|---|---|---|---|---|---|---|---|---|---|---|---|---|---|---|---|---|---|---|\n",
       "| 91.6                   | 158.5                  | 36.46170               | OBESIDAD II            | 102.0                  | EXCESO GRASA ABDOMINAL | 40.0                   | ADECUADO               | 35.0                   | ADECUADO               | ...                    | 1                      | 2                      | 206.2285               | CON                    | 1                      | 52                     | 117                    | 223                    |  97                    | 192                    |\n",
       "| 59.9                   | 164.9                  | 22.02853               | NORMOPESO              |  94.4                  | EXCESO GRASA ABDOMINAL | 31.1                   | ADECUADO               | 26.9                   | ADECUADO               | ...                    | 1                      | 3                      | 207.5598               | SIN                    | 0                      | 43                     | 125                    |  91                    |  88                    | 183                    |\n",
       "| 65.5                   | 173.1                  | 21.85985               | PESO INSUFICIENTE      |  91.5                  | EXCESO GRASA ABDOMINAL | 35.5                   | ADECUADO               | 26.7                   | ADECUADO               | ...                    | 1                      | 2                      | 224.0713               | SIN                    | 0                      | 33                     | 117                    | 134                    |  90                    | 167                    |\n",
       "| 63.2                   | 145.7                  | 29.77131               | SOBREPESO              |  97.6                  | EXCESO GRASA ABDOMINAL | 36.5                   | ADECUADO               | 30.5                   | ADECUADO               | ...                    | 1                      | 3                      | 234.6934               | SIN                    | 0                      | 59                     |  87                    |  77                    |  79                    | 161                    |\n",
       "| 70.2                   | 153.5                  | 29.79342               | SOBREPESO              | 102.2                  | EXCESO GRASA ABDOMINAL | 36.4                   | ADECUADO               | 31.5                   | ADECUADO               | ...                    | 1                      | 1                      | 198.2449               | CON                    | 1                      | 41                     |  60                    | 100                    | 223                    | 114                    |\n",
       "| 59.1                   | 148.1                  | 26.94495               | NORMOPESO              |  82.5                  | EXCESO GRASA ABDOMINAL | 34.2                   | ADECUADO               | 26.7                   | ADECUADO               | ...                    | 1                      | 3                      | 208.1749               | SIN                    | 0                      | 32                     | 114                    | 180                    |  95                    | 176                    |\n",
       "\n"
      ],
      "text/plain": [
       "  PESO TALLA IMC      I_IMC             CINTURA I_CINTURA             \n",
       "1 91.6 158.5 36.46170 OBESIDAD II       102.0   EXCESO GRASA ABDOMINAL\n",
       "2 59.9 164.9 22.02853 NORMOPESO          94.4   EXCESO GRASA ABDOMINAL\n",
       "3 65.5 173.1 21.85985 PESO INSUFICIENTE  91.5   EXCESO GRASA ABDOMINAL\n",
       "4 63.2 145.7 29.77131 SOBREPESO          97.6   EXCESO GRASA ABDOMINAL\n",
       "5 70.2 153.5 29.79342 SOBREPESO         102.2   EXCESO GRASA ABDOMINAL\n",
       "6 59.1 148.1 26.94495 NORMOPESO          82.5   EXCESO GRASA ABDOMINAL\n",
       "  PANTORRILLA I_PANTORRILLA BRANQUIAL I_BRAQUIAL ... PUNTAJE_SPPB_V\n",
       "1 40.0        ADECUADO      35.0      ADECUADO   ... 1             \n",
       "2 31.1        ADECUADO      26.9      ADECUADO   ... 1             \n",
       "3 35.5        ADECUADO      26.7      ADECUADO   ... 1             \n",
       "4 36.5        ADECUADO      30.5      ADECUADO   ... 1             \n",
       "5 36.4        ADECUADO      31.5      ADECUADO   ... 1             \n",
       "6 34.2        ADECUADO      26.7      ADECUADO   ... 1             \n",
       "  PUNTAJE_SPPB_I SPPB_FINAL ESTADO DE LA PERSONA AUTOREPORTE_DIABETES\n",
       "1 2              206.2285   CON                  1                   \n",
       "2 3              207.5598   SIN                  0                   \n",
       "3 2              224.0713   SIN                  0                   \n",
       "4 3              234.6934   SIN                  0                   \n",
       "5 1              198.2449   CON                  1                   \n",
       "6 3              208.1749   SIN                  0                   \n",
       "  COLESTEROL_HDL COLESTEROL_LDL TRIGLICERIDOS GLUCOSA COLESTEROL_TOTAL\n",
       "1 52             117            223            97     192             \n",
       "2 43             125             91            88     183             \n",
       "3 33             117            134            90     167             \n",
       "4 59              87             77            79     161             \n",
       "5 41              60            100           223     114             \n",
       "6 32             114            180            95     176             "
      ]
     },
     "metadata": {},
     "output_type": "display_data"
    }
   ],
   "source": [
    "library(readxl)\n",
    "d <- read_excel(\"C:\\\\Users\\\\YULY\\\\Desktop\\\\Desktop\\\\UNAL 2018\\\\consultoria\\\\consultoria numero 2\\\\datosanalisis.xlsx\")\n",
    "d$AUTOREPORTE_DIABETES[d$AUTOREPORTE_DIABETES == 2] <- 0\n",
    "head(d)"
   ]
  },
  {
   "cell_type": "code",
   "execution_count": 42,
   "metadata": {},
   "outputs": [
    {
     "data": {
      "text/html": [
       "<table>\n",
       "<thead><tr><th scope=col>PESO</th><th scope=col>TALLA</th><th scope=col>IMC</th><th scope=col>CINTURA</th><th scope=col>PANTORRILLA</th><th scope=col>I_PANTORRILLA</th><th scope=col>BRANQUIAL</th><th scope=col>I_BRAQUIAL</th><th scope=col>SPPB_FINAL</th><th scope=col>AUTOREPORTE_DIABETES</th><th scope=col>COLESTEROL_HDL</th><th scope=col>COLESTEROL_LDL</th><th scope=col>TRIGLICERIDOS</th><th scope=col>GLUCOSA</th><th scope=col>COLESTEROL_TOTAL</th></tr></thead>\n",
       "<tbody>\n",
       "\t<tr><td>91.6    </td><td>158.5   </td><td>36.46170</td><td>102.0   </td><td>40.0    </td><td>ADECUADO</td><td>35.0    </td><td>ADECUADO</td><td>206.2285</td><td>1       </td><td>52      </td><td>117     </td><td>223     </td><td> 97     </td><td>192     </td></tr>\n",
       "\t<tr><td>59.9    </td><td>164.9   </td><td>22.02853</td><td> 94.4   </td><td>31.1    </td><td>ADECUADO</td><td>26.9    </td><td>ADECUADO</td><td>207.5598</td><td>0       </td><td>43      </td><td>125     </td><td> 91     </td><td> 88     </td><td>183     </td></tr>\n",
       "\t<tr><td>65.5    </td><td>173.1   </td><td>21.85985</td><td> 91.5   </td><td>35.5    </td><td>ADECUADO</td><td>26.7    </td><td>ADECUADO</td><td>224.0713</td><td>0       </td><td>33      </td><td>117     </td><td>134     </td><td> 90     </td><td>167     </td></tr>\n",
       "\t<tr><td>63.2    </td><td>145.7   </td><td>29.77131</td><td> 97.6   </td><td>36.5    </td><td>ADECUADO</td><td>30.5    </td><td>ADECUADO</td><td>234.6934</td><td>0       </td><td>59      </td><td> 87     </td><td> 77     </td><td> 79     </td><td>161     </td></tr>\n",
       "\t<tr><td>70.2    </td><td>153.5   </td><td>29.79342</td><td>102.2   </td><td>36.4    </td><td>ADECUADO</td><td>31.5    </td><td>ADECUADO</td><td>198.2449</td><td>1       </td><td>41      </td><td> 60     </td><td>100     </td><td>223     </td><td>114     </td></tr>\n",
       "\t<tr><td>59.1    </td><td>148.1   </td><td>26.94495</td><td> 82.5   </td><td>34.2    </td><td>ADECUADO</td><td>26.7    </td><td>ADECUADO</td><td>208.1749</td><td>0       </td><td>32      </td><td>114     </td><td>180     </td><td> 95     </td><td>176     </td></tr>\n",
       "\t<tr><td>62.3    </td><td>157.0   </td><td>25.27486</td><td> 88.5   </td><td>38.2    </td><td>ADECUADO</td><td>30.1    </td><td>ADECUADO</td><td>185.0980</td><td>0       </td><td>42      </td><td> 93     </td><td>135     </td><td> 99     </td><td>153     </td></tr>\n",
       "\t<tr><td>53.5    </td><td>149.0   </td><td>24.09801</td><td> 81.5   </td><td>35.5    </td><td>ADECUADO</td><td>25.0    </td><td>ADECUADO</td><td>233.7999</td><td>0       </td><td>34      </td><td>140     </td><td>127     </td><td> 87     </td><td>198     </td></tr>\n",
       "\t<tr><td>71.8    </td><td>151.7   </td><td>31.19991</td><td> 97.3   </td><td>32.1    </td><td>ADECUADO</td><td>32.5    </td><td>ADECUADO</td><td>182.7249</td><td>0       </td><td>27      </td><td> 80     </td><td>269     </td><td> 98     </td><td>151     </td></tr>\n",
       "\t<tr><td>49.5    </td><td>152.0   </td><td>21.42486</td><td> 83.2   </td><td>39.2    </td><td>ADECUADO</td><td>26.6    </td><td>ADECUADO</td><td>216.7059</td><td>0       </td><td>41      </td><td>158     </td><td>137     </td><td> 97     </td><td>216     </td></tr>\n",
       "</tbody>\n",
       "</table>\n"
      ],
      "text/latex": [
       "\\begin{tabular}{r|lllllllllllllll}\n",
       " PESO & TALLA & IMC & CINTURA & PANTORRILLA & I\\_PANTORRILLA & BRANQUIAL & I\\_BRAQUIAL & SPPB\\_FINAL & AUTOREPORTE\\_DIABETES & COLESTEROL\\_HDL & COLESTEROL\\_LDL & TRIGLICERIDOS & GLUCOSA & COLESTEROL\\_TOTAL\\\\\n",
       "\\hline\n",
       "\t 91.6     & 158.5    & 36.46170 & 102.0    & 40.0     & ADECUADO & 35.0     & ADECUADO & 206.2285 & 1        & 52       & 117      & 223      &  97      & 192     \\\\\n",
       "\t 59.9     & 164.9    & 22.02853 &  94.4    & 31.1     & ADECUADO & 26.9     & ADECUADO & 207.5598 & 0        & 43       & 125      &  91      &  88      & 183     \\\\\n",
       "\t 65.5     & 173.1    & 21.85985 &  91.5    & 35.5     & ADECUADO & 26.7     & ADECUADO & 224.0713 & 0        & 33       & 117      & 134      &  90      & 167     \\\\\n",
       "\t 63.2     & 145.7    & 29.77131 &  97.6    & 36.5     & ADECUADO & 30.5     & ADECUADO & 234.6934 & 0        & 59       &  87      &  77      &  79      & 161     \\\\\n",
       "\t 70.2     & 153.5    & 29.79342 & 102.2    & 36.4     & ADECUADO & 31.5     & ADECUADO & 198.2449 & 1        & 41       &  60      & 100      & 223      & 114     \\\\\n",
       "\t 59.1     & 148.1    & 26.94495 &  82.5    & 34.2     & ADECUADO & 26.7     & ADECUADO & 208.1749 & 0        & 32       & 114      & 180      &  95      & 176     \\\\\n",
       "\t 62.3     & 157.0    & 25.27486 &  88.5    & 38.2     & ADECUADO & 30.1     & ADECUADO & 185.0980 & 0        & 42       &  93      & 135      &  99      & 153     \\\\\n",
       "\t 53.5     & 149.0    & 24.09801 &  81.5    & 35.5     & ADECUADO & 25.0     & ADECUADO & 233.7999 & 0        & 34       & 140      & 127      &  87      & 198     \\\\\n",
       "\t 71.8     & 151.7    & 31.19991 &  97.3    & 32.1     & ADECUADO & 32.5     & ADECUADO & 182.7249 & 0        & 27       &  80      & 269      &  98      & 151     \\\\\n",
       "\t 49.5     & 152.0    & 21.42486 &  83.2    & 39.2     & ADECUADO & 26.6     & ADECUADO & 216.7059 & 0        & 41       & 158      & 137      &  97      & 216     \\\\\n",
       "\\end{tabular}\n"
      ],
      "text/markdown": [
       "\n",
       "| PESO | TALLA | IMC | CINTURA | PANTORRILLA | I_PANTORRILLA | BRANQUIAL | I_BRAQUIAL | SPPB_FINAL | AUTOREPORTE_DIABETES | COLESTEROL_HDL | COLESTEROL_LDL | TRIGLICERIDOS | GLUCOSA | COLESTEROL_TOTAL |\n",
       "|---|---|---|---|---|---|---|---|---|---|---|---|---|---|---|\n",
       "| 91.6     | 158.5    | 36.46170 | 102.0    | 40.0     | ADECUADO | 35.0     | ADECUADO | 206.2285 | 1        | 52       | 117      | 223      |  97      | 192      |\n",
       "| 59.9     | 164.9    | 22.02853 |  94.4    | 31.1     | ADECUADO | 26.9     | ADECUADO | 207.5598 | 0        | 43       | 125      |  91      |  88      | 183      |\n",
       "| 65.5     | 173.1    | 21.85985 |  91.5    | 35.5     | ADECUADO | 26.7     | ADECUADO | 224.0713 | 0        | 33       | 117      | 134      |  90      | 167      |\n",
       "| 63.2     | 145.7    | 29.77131 |  97.6    | 36.5     | ADECUADO | 30.5     | ADECUADO | 234.6934 | 0        | 59       |  87      |  77      |  79      | 161      |\n",
       "| 70.2     | 153.5    | 29.79342 | 102.2    | 36.4     | ADECUADO | 31.5     | ADECUADO | 198.2449 | 1        | 41       |  60      | 100      | 223      | 114      |\n",
       "| 59.1     | 148.1    | 26.94495 |  82.5    | 34.2     | ADECUADO | 26.7     | ADECUADO | 208.1749 | 0        | 32       | 114      | 180      |  95      | 176      |\n",
       "| 62.3     | 157.0    | 25.27486 |  88.5    | 38.2     | ADECUADO | 30.1     | ADECUADO | 185.0980 | 0        | 42       |  93      | 135      |  99      | 153      |\n",
       "| 53.5     | 149.0    | 24.09801 |  81.5    | 35.5     | ADECUADO | 25.0     | ADECUADO | 233.7999 | 0        | 34       | 140      | 127      |  87      | 198      |\n",
       "| 71.8     | 151.7    | 31.19991 |  97.3    | 32.1     | ADECUADO | 32.5     | ADECUADO | 182.7249 | 0        | 27       |  80      | 269      |  98      | 151      |\n",
       "| 49.5     | 152.0    | 21.42486 |  83.2    | 39.2     | ADECUADO | 26.6     | ADECUADO | 216.7059 | 0        | 41       | 158      | 137      |  97      | 216      |\n",
       "\n"
      ],
      "text/plain": [
       "   PESO TALLA IMC      CINTURA PANTORRILLA I_PANTORRILLA BRANQUIAL I_BRAQUIAL\n",
       "1  91.6 158.5 36.46170 102.0   40.0        ADECUADO      35.0      ADECUADO  \n",
       "2  59.9 164.9 22.02853  94.4   31.1        ADECUADO      26.9      ADECUADO  \n",
       "3  65.5 173.1 21.85985  91.5   35.5        ADECUADO      26.7      ADECUADO  \n",
       "4  63.2 145.7 29.77131  97.6   36.5        ADECUADO      30.5      ADECUADO  \n",
       "5  70.2 153.5 29.79342 102.2   36.4        ADECUADO      31.5      ADECUADO  \n",
       "6  59.1 148.1 26.94495  82.5   34.2        ADECUADO      26.7      ADECUADO  \n",
       "7  62.3 157.0 25.27486  88.5   38.2        ADECUADO      30.1      ADECUADO  \n",
       "8  53.5 149.0 24.09801  81.5   35.5        ADECUADO      25.0      ADECUADO  \n",
       "9  71.8 151.7 31.19991  97.3   32.1        ADECUADO      32.5      ADECUADO  \n",
       "10 49.5 152.0 21.42486  83.2   39.2        ADECUADO      26.6      ADECUADO  \n",
       "   SPPB_FINAL AUTOREPORTE_DIABETES COLESTEROL_HDL COLESTEROL_LDL TRIGLICERIDOS\n",
       "1  206.2285   1                    52             117            223          \n",
       "2  207.5598   0                    43             125             91          \n",
       "3  224.0713   0                    33             117            134          \n",
       "4  234.6934   0                    59              87             77          \n",
       "5  198.2449   1                    41              60            100          \n",
       "6  208.1749   0                    32             114            180          \n",
       "7  185.0980   0                    42              93            135          \n",
       "8  233.7999   0                    34             140            127          \n",
       "9  182.7249   0                    27              80            269          \n",
       "10 216.7059   0                    41             158            137          \n",
       "   GLUCOSA COLESTEROL_TOTAL\n",
       "1   97     192             \n",
       "2   88     183             \n",
       "3   90     167             \n",
       "4   79     161             \n",
       "5  223     114             \n",
       "6   95     176             \n",
       "7   99     153             \n",
       "8   87     198             \n",
       "9   98     151             \n",
       "10  97     216             "
      ]
     },
     "metadata": {},
     "output_type": "display_data"
    }
   ],
   "source": [
    "d1<-d[,c(1,2,3,5,7,8,9,10,14,16,17,18,19,20,21)]\n",
    "d2 <-within(d1,{I_PANTORRILLA <- factor(I_PANTORRILLA, levels=c(\"RIESGO\",\"ADECUADO\") )})\n",
    "d2 <-within(d2,{I_BRAQUIAL <- factor(I_BRAQUIAL, levels=c(\"RIESGO\",\"ADECUADO\") )})\n",
    "head(d2,n=10)"
   ]
  },
  {
   "cell_type": "code",
   "execution_count": 43,
   "metadata": {},
   "outputs": [
    {
     "data": {
      "text/html": [
       "94.6747572815534"
      ],
      "text/latex": [
       "94.6747572815534"
      ],
      "text/markdown": [
       "94.6747572815534"
      ],
      "text/plain": [
       "[1] 94.67476"
      ]
     },
     "metadata": {},
     "output_type": "display_data"
    },
    {
     "data": {
      "text/html": [
       "91.1662431941924"
      ],
      "text/latex": [
       "91.1662431941924"
      ],
      "text/markdown": [
       "91.1662431941924"
      ],
      "text/plain": [
       "[1] 91.16624"
      ]
     },
     "metadata": {},
     "output_type": "display_data"
    }
   ],
   "source": [
    "require(dplyr)\n",
    "a<-filter(d2,AUTOREPORTE_DIABETES==1)\n",
    "b<-filter(d2,AUTOREPORTE_DIABETES==0)\n",
    "mean(a$CINTURA)\n",
    "mean(b$CINTURA)"
   ]
  },
  {
   "cell_type": "code",
   "execution_count": 44,
   "metadata": {},
   "outputs": [
    {
     "data": {
      "image/png": "[encoded data removed]",
      "text/plain": [
       "plot without title"
      ]
     },
     "metadata": {},
     "output_type": "display_data"
    }
   ],
   "source": [
    "par(mfrow=c(1,2))\n",
    "boxplot(a$CINTURA)\n",
    "boxplot(b$CINTURA)"
   ]
  },
  {
   "cell_type": "markdown",
   "metadata": {},
   "source": [
    "En lo que corresponde a las información anteriormente suministrada se logra identificar que el color está determinado por Dark=Oscuro y Bright=Brillante, considerando que la respuesta $Y$ es bernoulli, se genera el siguiente modelo lineal generealizado con función de enlace logit:\n"
   ]
  },
  {
   "cell_type": "code",
   "execution_count": 46,
   "metadata": {},
   "outputs": [
    {
     "name": "stderr",
     "output_type": "stream",
     "text": [
      "Warning message:\n",
      "\"glm.fit: fitted probabilities numerically 0 or 1 occurred\"Warning message:\n",
      "\"glm.fit: fitted probabilities numerically 0 or 1 occurred\"Warning message:\n",
      "\"glm.fit: algorithm did not converge\"Warning message:\n",
      "\"glm.fit: fitted probabilities numerically 0 or 1 occurred\"Warning message:\n",
      "\"glm.fit: algorithm did not converge\"Warning message:\n",
      "\"glm.fit: fitted probabilities numerically 0 or 1 occurred\""
     ]
    },
    {
     "data": {
      "text/html": [
       "<table>\n",
       "<thead><tr><th></th><th scope=col>df</th><th scope=col>BIC</th></tr></thead>\n",
       "<tbody>\n",
       "\t<tr><th scope=row>fit11</th><td>128     </td><td>1239.773</td></tr>\n",
       "\t<tr><th scope=row>fit21</th><td>128     </td><td>1240.021</td></tr>\n",
       "\t<tr><th scope=row>fit31</th><td>128     </td><td>1238.237</td></tr>\n",
       "\t<tr><th scope=row>fit41</th><td>128     </td><td>9165.938</td></tr>\n",
       "</tbody>\n",
       "</table>\n"
      ],
      "text/latex": [
       "\\begin{tabular}{r|ll}\n",
       "  & df & BIC\\\\\n",
       "\\hline\n",
       "\tfit11 & 128      & 1239.773\\\\\n",
       "\tfit21 & 128      & 1240.021\\\\\n",
       "\tfit31 & 128      & 1238.237\\\\\n",
       "\tfit41 & 128      & 9165.938\\\\\n",
       "\\end{tabular}\n"
      ],
      "text/markdown": [
       "\n",
       "| <!--/--> | df | BIC |\n",
       "|---|---|---|\n",
       "| fit11 | 128      | 1239.773 |\n",
       "| fit21 | 128      | 1240.021 |\n",
       "| fit31 | 128      | 1238.237 |\n",
       "| fit41 | 128      | 9165.938 |\n",
       "\n"
      ],
      "text/plain": [
       "      df  BIC     \n",
       "fit11 128 1239.773\n",
       "fit21 128 1240.021\n",
       "fit31 128 1238.237\n",
       "fit41 128 9165.938"
      ]
     },
     "metadata": {},
     "output_type": "display_data"
    }
   ],
   "source": [
    "eta<-  AUTOREPORTE_DIABETES~ PESO*TALLA*IMC*CINTURA*PANTORRILLA*BRANQUIAL*SPPB_FINAL\n",
    "#eta <- AUTOREPORTE_DIABETES~ 1 + IMC*CINTURA\n",
    "\n",
    "#eta <- AUTOREPORTE_DIABETES~ 1 + IMC*CINTURA*COLESTEROL_HDL*COLESTEROL_LDL*TRIGLICERIDOS*GLUCOSA*COLESTEROL_TOTAL\n",
    "#eta <- AUTOREPORTE_DIABETES~ 1 + IMC*CINTURA*COLESTEROL_HDL*COLESTEROL_LDL*TRIGLICERIDOS*COLESTEROL_TOTAL\n",
    "#eta <- AUTOREPORTE_DIABETES~ 1 + IMC*CINTURA*GLUCOSA*COLESTEROL_TOTAL\n",
    "#eta <- AUTOREPORTE_DIABETES~ 1 + CINTURA*GLUCOSA*COLESTEROL_TOTAL\n",
    "#eta <- AUTOREPORTE_DIABETES~ 1 + CINTURA*GLUCOSA\n",
    "\n",
    "#logit_v\n",
    "fit11<-glm(eta, family = binomial(\"logit\"), data = d2)\n",
    "\n",
    "#probit_v\n",
    "fit21<-glm(eta, family = binomial(\"probit\"), data = d2)\n",
    "\n",
    "#loglog_v\n",
    "fit31<-glm(eta, family = binomial(\"cloglog\"), data = d2)\n",
    "#cloglog es complementary loglog, que pasa con el 0...\n",
    "\n",
    "#cauchy_v\n",
    "fit41<-glm(eta, family = binomial( \"cauchit\"), data = d2)\n",
    "\n",
    "#AIC(fit11,fit21,fit31,fit41)\n",
    "BIC(fit11,fit21,fit31,fit41)"
   ]
  },
  {
   "cell_type": "markdown",
   "metadata": {},
   "source": [
    "\n",
    "### Función de enlace logit"
   ]
  },
  {
   "cell_type": "code",
   "execution_count": 62,
   "metadata": {},
   "outputs": [
    {
     "data": {
      "text/plain": [
       "\n",
       "Call:\n",
       "glm(formula = eta, family = binomial(\"logit\"), data = d2)\n",
       "\n",
       "Deviance Residuals: \n",
       "     Min        1Q    Median        3Q       Max  \n",
       "-2.30741  -0.56848  -0.34574  -0.03274   2.82754  \n",
       "\n",
       "Coefficients:\n",
       "                                                          Estimate Std. Error\n",
       "(Intercept)                                              2.784e+05  1.316e+06\n",
       "PESO                                                    -1.142e+06  9.050e+05\n",
       "TALLA                                                   -2.136e+03  8.500e+03\n",
       "IMC                                                     -9.651e+05  7.412e+05\n",
       "CINTURA                                                 -2.240e+03  1.564e+04\n",
       "PANTORRILLA                                             -1.675e+04  3.976e+04\n",
       "BRANQUIAL                                                3.149e+03  5.054e+04\n",
       "SPPB_FINAL                                              -1.934e+03  5.946e+03\n",
       "PESO:TALLA                                               2.410e+03  1.940e+03\n",
       "PESO:IMC                                                -2.217e+00  8.982e+02\n",
       "TALLA:IMC                                                1.816e+04  1.414e+04\n",
       "PESO:CINTURA                                             1.236e+04  9.517e+03\n",
       "TALLA:CINTURA                                            1.843e+01  1.006e+02\n",
       "IMC:CINTURA                                              1.046e+04  7.833e+03\n",
       "PESO:PANTORRILLA                                         3.567e+04  2.601e+04\n",
       "TALLA:PANTORRILLA                                        1.149e+02  2.555e+02\n",
       "IMC:PANTORRILLA                                          3.029e+04  2.131e+04\n",
       "CINTURA:PANTORRILLA                                      1.559e+02  4.682e+02\n",
       "PESO:BRANQUIAL                                           3.776e+04  3.247e+04\n",
       "TALLA:BRANQUIAL                                         -7.450e+00  3.258e+02\n",
       "IMC:BRANQUIAL                                            3.157e+04  2.648e+04\n",
       "CINTURA:BRANQUIAL                                       -4.676e+01  5.862e+02\n",
       "PANTORRILLA:BRANQUIAL                                    1.897e+02  1.499e+03\n",
       "PESO:SPPB_FINAL                                          4.856e+03  4.131e+03\n",
       "TALLA:SPPB_FINAL                                         1.389e+01  3.831e+01\n",
       "IMC:SPPB_FINAL                                           4.136e+03  3.388e+03\n",
       "CINTURA:SPPB_FINAL                                       1.694e+01  7.216e+01\n",
       "PANTORRILLA:SPPB_FINAL                                   1.077e+02  1.824e+02\n",
       "BRANQUIAL:SPPB_FINAL                                     8.681e+00  2.284e+02\n",
       "PESO:TALLA:IMC                                          -2.255e-01  5.824e+00\n",
       "PESO:TALLA:CINTURA                                      -2.598e+01  2.044e+01\n",
       "PESO:IMC:CINTURA                                         5.093e-01  9.585e+00\n",
       "TALLA:IMC:CINTURA                                       -1.969e+02  1.489e+02\n",
       "PESO:TALLA:PANTORRILLA                                  -7.599e+01  5.565e+01\n",
       "PESO:IMC:PANTORRILLA                                    -6.620e+00  2.524e+01\n",
       "TALLA:IMC:PANTORRILLA                                   -5.663e+02  4.068e+02\n",
       "PESO:CINTURA:PANTORRILLA                                -3.822e+02  2.723e+02\n",
       "TALLA:CINTURA:PANTORRILLA                               -1.089e+00  3.001e+00\n",
       "IMC:CINTURA:PANTORRILLA                                 -3.253e+02  2.242e+02\n",
       "PESO:TALLA:BRANQUIAL                                    -7.891e+01  6.958e+01\n",
       "PESO:IMC:BRANQUIAL                                       7.835e+00  2.963e+01\n",
       "TALLA:IMC:BRANQUIAL                                     -6.006e+02  5.067e+02\n",
       "PESO:CINTURA:BRANQUIAL                                  -4.107e+02  3.386e+02\n",
       "TALLA:CINTURA:BRANQUIAL                                  1.544e-01  3.765e+00\n",
       "IMC:CINTURA:BRANQUIAL                                   -3.442e+02  2.775e+02\n",
       "PESO:PANTORRILLA:BRANQUIAL                              -1.186e+03  9.244e+02\n",
       "TALLA:PANTORRILLA:BRANQUIAL                             -1.474e+00  9.617e+00\n",
       "IMC:PANTORRILLA:BRANQUIAL                               -9.971e+02  7.550e+02\n",
       "CINTURA:PANTORRILLA:BRANQUIAL                           -1.493e+00  1.732e+01\n",
       "PESO:TALLA:SPPB_FINAL                                   -1.024e+01  8.850e+00\n",
       "PESO:IMC:SPPB_FINAL                                      1.232e-01  4.044e+00\n",
       "TALLA:IMC:SPPB_FINAL                                    -7.747e+01  6.459e+01\n",
       "PESO:CINTURA:SPPB_FINAL                                 -5.376e+01  4.357e+01\n",
       "TALLA:CINTURA:SPPB_FINAL                                -1.257e-01  4.634e-01\n",
       "IMC:CINTURA:SPPB_FINAL                                  -4.585e+01  3.592e+01\n",
       "PESO:PANTORRILLA:SPPB_FINAL                             -1.521e+02  1.186e+02\n",
       "TALLA:PANTORRILLA:SPPB_FINAL                            -7.217e-01  1.170e+00\n",
       "IMC:PANTORRILLA:SPPB_FINAL                              -1.304e+02  9.731e+01\n",
       "CINTURA:PANTORRILLA:SPPB_FINAL                          -1.037e+00  2.181e+00\n",
       "PESO:BRANQUIAL:SPPB_FINAL                               -1.585e+02  1.484e+02\n",
       "TALLA:BRANQUIAL:SPPB_FINAL                              -1.137e-01  1.470e+00\n",
       "IMC:BRANQUIAL:SPPB_FINAL                                -1.337e+02  1.212e+02\n",
       "CINTURA:BRANQUIAL:SPPB_FINAL                             9.841e-04  2.704e+00\n",
       "PANTORRILLA:BRANQUIAL:SPPB_FINAL                        -1.915e+00  6.853e+00\n",
       "PESO:TALLA:IMC:CINTURA                                  -5.007e-04  6.197e-02\n",
       "PESO:TALLA:IMC:PANTORRILLA                               4.780e-02  1.632e-01\n",
       "PESO:TALLA:CINTURA:PANTORRILLA                           8.114e-01  5.836e-01\n",
       "PESO:IMC:CINTURA:PANTORRILLA                             5.656e-02  2.691e-01\n",
       "TALLA:IMC:CINTURA:PANTORRILLA                            6.081e+00  4.264e+00\n",
       "PESO:TALLA:IMC:BRANQUIAL                                -4.091e-02  1.919e-01\n",
       "PESO:TALLA:CINTURA:BRANQUIAL                             8.562e-01  7.277e-01\n",
       "PESO:IMC:CINTURA:BRANQUIAL                              -9.186e-02  3.162e-01\n",
       "TALLA:IMC:CINTURA:BRANQUIAL                              6.542e+00  5.289e+00\n",
       "PESO:TALLA:PANTORRILLA:BRANQUIAL                         2.505e+00  1.979e+00\n",
       "PESO:IMC:PANTORRILLA:BRANQUIAL                          -1.541e-03  8.153e-01\n",
       "TALLA:IMC:PANTORRILLA:BRANQUIAL                          1.883e+01  1.444e+01\n",
       "PESO:CINTURA:PANTORRILLA:BRANQUIAL                       1.277e+01  9.597e+00\n",
       "TALLA:CINTURA:PANTORRILLA:BRANQUIAL                      1.263e-02  1.108e-01\n",
       "IMC:CINTURA:PANTORRILLA:BRANQUIAL                        1.075e+01  7.875e+00\n",
       "PESO:TALLA:IMC:SPPB_FINAL                                1.328e-04  2.616e-02\n",
       "PESO:TALLA:CINTURA:SPPB_FINAL                            1.129e-01  9.355e-02\n",
       "PESO:IMC:CINTURA:SPPB_FINAL                             -3.447e-03  4.341e-02\n",
       "TALLA:IMC:CINTURA:SPPB_FINAL                             8.592e-01  6.821e-01\n",
       "PESO:TALLA:PANTORRILLA:SPPB_FINAL                        3.247e-01  2.537e-01\n",
       "PESO:IMC:PANTORRILLA:SPPB_FINAL                          3.357e-02  1.144e-01\n",
       "TALLA:IMC:PANTORRILLA:SPPB_FINAL                         2.421e+00  1.856e+00\n",
       "PESO:CINTURA:PANTORRILLA:SPPB_FINAL                      1.665e+00  1.245e+00\n",
       "TALLA:CINTURA:PANTORRILLA:SPPB_FINAL                     7.016e-03  1.396e-02\n",
       "IMC:CINTURA:PANTORRILLA:SPPB_FINAL                       1.430e+00  1.027e+00\n",
       "PESO:TALLA:BRANQUIAL:SPPB_FINAL                          3.307e-01  3.181e-01\n",
       "PESO:IMC:BRANQUIAL:SPPB_FINAL                           -3.751e-02  1.327e-01\n",
       "TALLA:IMC:BRANQUIAL:SPPB_FINAL                           2.530e+00  2.317e+00\n",
       "PESO:CINTURA:BRANQUIAL:SPPB_FINAL                        1.767e+00  1.552e+00\n",
       "TALLA:CINTURA:BRANQUIAL:SPPB_FINAL                       6.447e-04  1.734e-02\n",
       "IMC:CINTURA:BRANQUIAL:SPPB_FINAL                         1.493e+00  1.274e+00\n",
       "PESO:PANTORRILLA:BRANQUIAL:SPPB_FINAL                    5.006e+00  4.221e+00\n",
       "TALLA:PANTORRILLA:BRANQUIAL:SPPB_FINAL                   1.345e-02  4.390e-02\n",
       "IMC:PANTORRILLA:BRANQUIAL:SPPB_FINAL                     4.252e+00  3.453e+00\n",
       "CINTURA:PANTORRILLA:BRANQUIAL:SPPB_FINAL                 1.707e-02  8.049e-02\n",
       "PESO:TALLA:IMC:CINTURA:PANTORRILLA                      -4.251e-04  1.735e-03\n",
       "PESO:TALLA:IMC:CINTURA:BRANQUIAL                         4.835e-04  2.041e-03\n",
       "PESO:TALLA:IMC:PANTORRILLA:BRANQUIAL                    -1.932e-04  5.263e-03\n",
       "PESO:TALLA:CINTURA:PANTORRILLA:BRANQUIAL                -2.688e-02  2.060e-02\n",
       "PESO:IMC:CINTURA:PANTORRILLA:BRANQUIAL                   3.062e-04  8.737e-03\n",
       "TALLA:IMC:CINTURA:PANTORRILLA:BRANQUIAL                 -2.030e-01  1.500e-01\n",
       "PESO:TALLA:IMC:CINTURA:SPPB_FINAL                        1.143e-05  2.799e-04\n",
       "PESO:TALLA:IMC:PANTORRILLA:SPPB_FINAL                   -2.345e-04  7.380e-04\n",
       "PESO:TALLA:CINTURA:PANTORRILLA:SPPB_FINAL               -3.539e-03  2.667e-03\n",
       "PESO:IMC:CINTURA:PANTORRILLA:SPPB_FINAL                 -2.976e-04  1.228e-03\n",
       "TALLA:IMC:CINTURA:PANTORRILLA:SPPB_FINAL                -2.655e-02  1.950e-02\n",
       "PESO:TALLA:IMC:BRANQUIAL:SPPB_FINAL                      2.012e-04  8.573e-04\n",
       "PESO:TALLA:CINTURA:BRANQUIAL:SPPB_FINAL                 -3.677e-03  3.334e-03\n",
       "PESO:IMC:CINTURA:BRANQUIAL:SPPB_FINAL                    4.460e-04  1.428e-03\n",
       "TALLA:IMC:CINTURA:BRANQUIAL:SPPB_FINAL                  -2.825e-02  2.425e-02\n",
       "PESO:TALLA:PANTORRILLA:BRANQUIAL:SPPB_FINAL             -1.059e-02  9.038e-03\n",
       "PESO:IMC:PANTORRILLA:BRANQUIAL:SPPB_FINAL               -1.558e-04  3.667e-03\n",
       "TALLA:IMC:PANTORRILLA:BRANQUIAL:SPPB_FINAL              -7.969e-02  6.596e-02\n",
       "PESO:CINTURA:PANTORRILLA:BRANQUIAL:SPPB_FINAL           -5.512e-02  4.390e-02\n",
       "TALLA:CINTURA:PANTORRILLA:BRANQUIAL:SPPB_FINAL          -1.231e-04  5.142e-04\n",
       "IMC:CINTURA:PANTORRILLA:BRANQUIAL:SPPB_FINAL            -4.689e-02  3.610e-02\n",
       "PESO:TALLA:IMC:CINTURA:PANTORRILLA:BRANQUIAL             3.755e-07  5.617e-05\n",
       "PESO:TALLA:IMC:CINTURA:PANTORRILLA:SPPB_FINAL            2.135e-06  7.893e-06\n",
       "PESO:TALLA:IMC:CINTURA:BRANQUIAL:SPPB_FINAL             -2.418e-06  9.194e-06\n",
       "PESO:TALLA:IMC:PANTORRILLA:BRANQUIAL:SPPB_FINAL          1.820e-06  2.361e-05\n",
       "PESO:TALLA:CINTURA:PANTORRILLA:BRANQUIAL:SPPB_FINAL      1.162e-04  9.423e-05\n",
       "PESO:IMC:CINTURA:PANTORRILLA:BRANQUIAL:SPPB_FINAL        1.199e-07  3.970e-05\n",
       "TALLA:IMC:CINTURA:PANTORRILLA:BRANQUIAL:SPPB_FINAL       8.789e-04  6.868e-04\n",
       "PESO:TALLA:IMC:CINTURA:PANTORRILLA:BRANQUIAL:SPPB_FINAL -1.020e-08  2.545e-07\n",
       "                                                        z value Pr(>|z|)\n",
       "(Intercept)                                               0.211    0.833\n",
       "PESO                                                     -1.262    0.207\n",
       "TALLA                                                    -0.251    0.802\n",
       "IMC                                                      -1.302    0.193\n",
       "CINTURA                                                  -0.143    0.886\n",
       "PANTORRILLA                                              -0.421    0.673\n",
       "BRANQUIAL                                                 0.062    0.950\n",
       "SPPB_FINAL                                               -0.325    0.745\n",
       "PESO:TALLA                                                1.242    0.214\n",
       "PESO:IMC                                                 -0.002    0.998\n",
       "TALLA:IMC                                                 1.284    0.199\n",
       "PESO:CINTURA                                              1.298    0.194\n",
       "TALLA:CINTURA                                             0.183    0.855\n",
       "IMC:CINTURA                                               1.336    0.182\n",
       "PESO:PANTORRILLA                                          1.371    0.170\n",
       "TALLA:PANTORRILLA                                         0.450    0.653\n",
       "IMC:PANTORRILLA                                           1.422    0.155\n",
       "CINTURA:PANTORRILLA                                       0.333    0.739\n",
       "PESO:BRANQUIAL                                            1.163    0.245\n",
       "TALLA:BRANQUIAL                                          -0.023    0.982\n",
       "IMC:BRANQUIAL                                             1.192    0.233\n",
       "CINTURA:BRANQUIAL                                        -0.080    0.936\n",
       "PANTORRILLA:BRANQUIAL                                     0.127    0.899\n",
       "PESO:SPPB_FINAL                                           1.176    0.240\n",
       "TALLA:SPPB_FINAL                                          0.362    0.717\n",
       "IMC:SPPB_FINAL                                            1.221    0.222\n",
       "CINTURA:SPPB_FINAL                                        0.235    0.814\n",
       "PANTORRILLA:SPPB_FINAL                                    0.591    0.555\n",
       "BRANQUIAL:SPPB_FINAL                                      0.038    0.970\n",
       "PESO:TALLA:IMC                                           -0.039    0.969\n",
       "PESO:TALLA:CINTURA                                       -1.271    0.204\n",
       "PESO:IMC:CINTURA                                          0.053    0.958\n",
       "TALLA:IMC:CINTURA                                        -1.323    0.186\n",
       "PESO:TALLA:PANTORRILLA                                   -1.365    0.172\n",
       "PESO:IMC:PANTORRILLA                                     -0.262    0.793\n",
       "TALLA:IMC:PANTORRILLA                                    -1.392    0.164\n",
       "PESO:CINTURA:PANTORRILLA                                 -1.404    0.160\n",
       "TALLA:CINTURA:PANTORRILLA                                -0.363    0.717\n",
       "IMC:CINTURA:PANTORRILLA                                  -1.451    0.147\n",
       "PESO:TALLA:BRANQUIAL                                     -1.134    0.257\n",
       "PESO:IMC:BRANQUIAL                                        0.264    0.791\n",
       "TALLA:IMC:BRANQUIAL                                      -1.185    0.236\n",
       "PESO:CINTURA:BRANQUIAL                                   -1.213    0.225\n",
       "TALLA:CINTURA:BRANQUIAL                                   0.041    0.967\n",
       "IMC:CINTURA:BRANQUIAL                                    -1.240    0.215\n",
       "PESO:PANTORRILLA:BRANQUIAL                               -1.283    0.199\n",
       "TALLA:PANTORRILLA:BRANQUIAL                              -0.153    0.878\n",
       "IMC:PANTORRILLA:BRANQUIAL                                -1.321    0.187\n",
       "CINTURA:PANTORRILLA:BRANQUIAL                            -0.086    0.931\n",
       "PESO:TALLA:SPPB_FINAL                                    -1.157    0.247\n",
       "PESO:IMC:SPPB_FINAL                                       0.030    0.976\n",
       "TALLA:IMC:SPPB_FINAL                                     -1.199    0.230\n",
       "PESO:CINTURA:SPPB_FINAL                                  -1.234    0.217\n",
       "TALLA:CINTURA:SPPB_FINAL                                 -0.271    0.786\n",
       "IMC:CINTURA:SPPB_FINAL                                   -1.277    0.202\n",
       "PESO:PANTORRILLA:SPPB_FINAL                              -1.282    0.200\n",
       "TALLA:PANTORRILLA:SPPB_FINAL                             -0.617    0.537\n",
       "IMC:PANTORRILLA:SPPB_FINAL                               -1.340    0.180\n",
       "CINTURA:PANTORRILLA:SPPB_FINAL                           -0.476    0.634\n",
       "PESO:BRANQUIAL:SPPB_FINAL                                -1.068    0.286\n",
       "TALLA:BRANQUIAL:SPPB_FINAL                               -0.077    0.938\n",
       "IMC:BRANQUIAL:SPPB_FINAL                                 -1.102    0.270\n",
       "CINTURA:BRANQUIAL:SPPB_FINAL                              0.000    1.000\n",
       "PANTORRILLA:BRANQUIAL:SPPB_FINAL                         -0.280    0.780\n",
       "PESO:TALLA:IMC:CINTURA                                   -0.008    0.994\n",
       "PESO:TALLA:IMC:PANTORRILLA                                0.293    0.770\n",
       "PESO:TALLA:CINTURA:PANTORRILLA                            1.390    0.164\n",
       "PESO:IMC:CINTURA:PANTORRILLA                              0.210    0.834\n",
       "TALLA:IMC:CINTURA:PANTORRILLA                             1.426    0.154\n",
       "PESO:TALLA:IMC:BRANQUIAL                                 -0.213    0.831\n",
       "PESO:TALLA:CINTURA:BRANQUIAL                              1.177    0.239\n",
       "PESO:IMC:CINTURA:BRANQUIAL                               -0.291    0.771\n",
       "TALLA:IMC:CINTURA:BRANQUIAL                               1.237    0.216\n",
       "PESO:TALLA:PANTORRILLA:BRANQUIAL                          1.266    0.206\n",
       "PESO:IMC:PANTORRILLA:BRANQUIAL                           -0.002    0.998\n",
       "TALLA:IMC:PANTORRILLA:BRANQUIAL                           1.304    0.192\n",
       "PESO:CINTURA:PANTORRILLA:BRANQUIAL                        1.330    0.183\n",
       "TALLA:CINTURA:PANTORRILLA:BRANQUIAL                       0.114    0.909\n",
       "IMC:CINTURA:PANTORRILLA:BRANQUIAL                         1.366    0.172\n",
       "PESO:TALLA:IMC:SPPB_FINAL                                 0.005    0.996\n",
       "PESO:TALLA:CINTURA:SPPB_FINAL                             1.207    0.227\n",
       "PESO:IMC:CINTURA:SPPB_FINAL                              -0.079    0.937\n",
       "TALLA:IMC:CINTURA:SPPB_FINAL                              1.260    0.208\n",
       "PESO:TALLA:PANTORRILLA:SPPB_FINAL                         1.280    0.201\n",
       "PESO:IMC:PANTORRILLA:SPPB_FINAL                           0.293    0.769\n",
       "TALLA:IMC:PANTORRILLA:SPPB_FINAL                          1.304    0.192\n",
       "PESO:CINTURA:PANTORRILLA:SPPB_FINAL                       1.338    0.181\n",
       "TALLA:CINTURA:PANTORRILLA:SPPB_FINAL                      0.503    0.615\n",
       "IMC:CINTURA:PANTORRILLA:SPPB_FINAL                        1.393    0.164\n",
       "PESO:TALLA:BRANQUIAL:SPPB_FINAL                           1.040    0.298\n",
       "PESO:IMC:BRANQUIAL:SPPB_FINAL                            -0.283    0.777\n",
       "TALLA:IMC:BRANQUIAL:SPPB_FINAL                            1.092    0.275\n",
       "PESO:CINTURA:BRANQUIAL:SPPB_FINAL                         1.139    0.255\n",
       "TALLA:CINTURA:BRANQUIAL:SPPB_FINAL                        0.037    0.970\n",
       "IMC:CINTURA:BRANQUIAL:SPPB_FINAL                          1.172    0.241\n",
       "PESO:PANTORRILLA:BRANQUIAL:SPPB_FINAL                     1.186    0.236\n",
       "TALLA:PANTORRILLA:BRANQUIAL:SPPB_FINAL                    0.306    0.759\n",
       "IMC:PANTORRILLA:BRANQUIAL:SPPB_FINAL                      1.231    0.218\n",
       "CINTURA:PANTORRILLA:BRANQUIAL:SPPB_FINAL                  0.212    0.832\n",
       "PESO:TALLA:IMC:CINTURA:PANTORRILLA                       -0.245    0.806\n",
       "PESO:TALLA:IMC:CINTURA:BRANQUIAL                          0.237    0.813\n",
       "PESO:TALLA:IMC:PANTORRILLA:BRANQUIAL                     -0.037    0.971\n",
       "PESO:TALLA:CINTURA:PANTORRILLA:BRANQUIAL                 -1.305    0.192\n",
       "PESO:IMC:CINTURA:PANTORRILLA:BRANQUIAL                    0.035    0.972\n",
       "TALLA:IMC:CINTURA:PANTORRILLA:BRANQUIAL                  -1.353    0.176\n",
       "PESO:TALLA:IMC:CINTURA:SPPB_FINAL                         0.041    0.967\n",
       "PESO:TALLA:IMC:PANTORRILLA:SPPB_FINAL                    -0.318    0.751\n",
       "PESO:TALLA:CINTURA:PANTORRILLA:SPPB_FINAL                -1.327    0.184\n",
       "PESO:IMC:CINTURA:PANTORRILLA:SPPB_FINAL                  -0.242    0.808\n",
       "TALLA:IMC:CINTURA:PANTORRILLA:SPPB_FINAL                 -1.362    0.173\n",
       "PESO:TALLA:IMC:BRANQUIAL:SPPB_FINAL                       0.235    0.814\n",
       "PESO:TALLA:CINTURA:BRANQUIAL:SPPB_FINAL                  -1.103    0.270\n",
       "PESO:IMC:CINTURA:BRANQUIAL:SPPB_FINAL                     0.312    0.755\n",
       "TALLA:IMC:CINTURA:BRANQUIAL:SPPB_FINAL                   -1.165    0.244\n",
       "PESO:TALLA:PANTORRILLA:BRANQUIAL:SPPB_FINAL              -1.172    0.241\n",
       "PESO:IMC:PANTORRILLA:BRANQUIAL:SPPB_FINAL                -0.042    0.966\n",
       "TALLA:IMC:PANTORRILLA:BRANQUIAL:SPPB_FINAL               -1.208    0.227\n",
       "PESO:CINTURA:PANTORRILLA:BRANQUIAL:SPPB_FINAL            -1.255    0.209\n",
       "TALLA:CINTURA:PANTORRILLA:BRANQUIAL:SPPB_FINAL           -0.239    0.811\n",
       "IMC:CINTURA:PANTORRILLA:BRANQUIAL:SPPB_FINAL             -1.299    0.194\n",
       "PESO:TALLA:IMC:CINTURA:PANTORRILLA:BRANQUIAL              0.007    0.995\n",
       "PESO:TALLA:IMC:CINTURA:PANTORRILLA:SPPB_FINAL             0.271    0.787\n",
       "PESO:TALLA:IMC:CINTURA:BRANQUIAL:SPPB_FINAL              -0.263    0.793\n",
       "PESO:TALLA:IMC:PANTORRILLA:BRANQUIAL:SPPB_FINAL           0.077    0.939\n",
       "PESO:TALLA:CINTURA:PANTORRILLA:BRANQUIAL:SPPB_FINAL       1.233    0.218\n",
       "PESO:IMC:CINTURA:PANTORRILLA:BRANQUIAL:SPPB_FINAL         0.003    0.998\n",
       "TALLA:IMC:CINTURA:PANTORRILLA:BRANQUIAL:SPPB_FINAL        1.280    0.201\n",
       "PESO:TALLA:IMC:CINTURA:PANTORRILLA:BRANQUIAL:SPPB_FINAL  -0.040    0.968\n",
       "\n",
       "(Dispersion parameter for binomial family taken to be 1)\n",
       "\n",
       "    Null deviance: 569.62  on 653  degrees of freedom\n",
       "Residual deviance: 409.94  on 526  degrees of freedom\n",
       "AIC: 665.94\n",
       "\n",
       "Number of Fisher Scoring iterations: 10\n"
      ]
     },
     "metadata": {},
     "output_type": "display_data"
    }
   ],
   "source": [
    "summary(fit11)"
   ]
  },
  {
   "cell_type": "code",
   "execution_count": 63,
   "metadata": {},
   "outputs": [
    {
     "name": "stdout",
     "output_type": "stream",
     "text": [
      "\n",
      "  Family:  binomial \n",
      "    Link:  logit \n",
      "\n",
      "Initial model:\n",
      "AUTOREPORTE_DIABETES ~ 1  \n",
      "\n",
      "Step 0 :    \n",
      "              Df      BIC      AIC   Deviance+ Pearson^ p-value*\n",
      "+ CINTURA      1   574.0813 565.1151    0.0134   0.0045   0.0038\n",
      "+ IMC          1   574.9044 565.9382    0.0120   0.0054   0.0054\n",
      "+ PESO         1   575.3848 566.4186    0.0111   0.0029   0.0070\n",
      "<none>             576.1016 571.6185    0.0000   0.0000         \n",
      "+ BRANQUIAL    1   576.8210 567.8548    0.0086   0.0009   0.0165\n",
      "+ PANTORRILLA  1   579.9365 570.9703    0.0031  -0.0016   0.1026\n",
      "+ SPPB_FINAL   1   582.5617 573.5955   -0.0015  -0.0015   0.8796\n",
      "+ TALLA        1   582.5674 573.6012   -0.0015  -0.0015   0.8953\n",
      "\n",
      "Step 1 :  + CINTURA \n",
      "              Df      BIC      AIC   Deviance+ Pearson^ p-value*\n",
      "<none>             574.0813 565.1151    0.0134   0.0045         \n",
      "+ IMC          1   579.9764 566.5270    0.0129   0.0048   0.4415\n",
      "+ BRANQUIAL    1   580.1477 566.6983    0.0126   0.0032   0.5181\n",
      "+ PESO         1   580.3156 566.8663    0.0123   0.0034   0.6174\n",
      "+ TALLA        1   580.4862 567.0369    0.0120   0.0035   0.7800\n",
      "+ PANTORRILLA  1   580.5529 567.1036    0.0119   0.0032   0.9145\n",
      "+ SPPB_FINAL   1   580.5643 567.1150    0.0119   0.0030   0.9911\n",
      "\n",
      "+ Adjusted R-squared based on the residual deviance\n",
      "^ Adjusted R-squared based on the Pearson statistic\n",
      "* p-value of the Wald test\n",
      "\n",
      "Final model:\n",
      "AUTOREPORTE_DIABETES ~ 1 + CINTURA \n",
      "\n"
     ]
    }
   ],
   "source": [
    "source(\"macros.txt\")\n",
    "step_glm(fit11,direction = \"forward\",criterion = \"BIC\")  # direction=\"backward\" o \"forward\""
   ]
  },
  {
   "cell_type": "code",
   "execution_count": 65,
   "metadata": {},
   "outputs": [
    {
     "data": {
      "text/html": [
       "565.1151157805"
      ],
      "text/latex": [
       "565.1151157805"
      ],
      "text/markdown": [
       "565.1151157805"
      ],
      "text/plain": [
       "[1] 565.1151"
      ]
     },
     "metadata": {},
     "output_type": "display_data"
    }
   ],
   "source": [
    "#fit1<-glm(AUTOREPORTE_DIABETES~CINTURA, family = binomial(\"cloglog\"), data = d2)\n",
    "fit2<-glm(AUTOREPORTE_DIABETES~CINTURA, family = binomial(\"logit\"), data = d2)\n",
    "#summary(fit1)\n",
    "\n",
    "#AIC(fit1)\n",
    "AIC(fit2)\n",
    "#cloglog es complementary loglog, que pasa con el 0..."
   ]
  },
  {
   "cell_type": "code",
   "execution_count": 66,
   "metadata": {},
   "outputs": [
    {
     "data": {
      "text/html": [
       "<dl class=dl-horizontal>\n",
       "\t<dt>(Intercept)</dt>\n",
       "\t\t<dd>-4.27931617169241</dd>\n",
       "\t<dt>CINTURA</dt>\n",
       "\t\t<dd>0.0280085667484048</dd>\n",
       "</dl>\n"
      ],
      "text/latex": [
       "\\begin{description*}\n",
       "\\item[(Intercept)] -4.27931617169241\n",
       "\\item[CINTURA] 0.0280085667484048\n",
       "\\end{description*}\n"
      ],
      "text/markdown": [
       "(Intercept)\n",
       ":   -4.27931617169241CINTURA\n",
       ":   0.0280085667484048\n",
       "\n"
      ],
      "text/plain": [
       "(Intercept)     CINTURA \n",
       "-4.27931617  0.02800857 "
      ]
     },
     "metadata": {},
     "output_type": "display_data"
    },
    {
     "data": {
      "text/html": [
       "<table>\n",
       "<thead><tr><th></th><th scope=col>(Intercept)</th><th scope=col>CINTURA</th></tr></thead>\n",
       "<tbody>\n",
       "\t<tr><th scope=row>(Intercept)</th><td> 0.83899960  </td><td>-8.794030e-03</td></tr>\n",
       "\t<tr><th scope=row>CINTURA</th><td>-0.00879403  </td><td> 9.347639e-05</td></tr>\n",
       "</tbody>\n",
       "</table>\n"
      ],
      "text/latex": [
       "\\begin{tabular}{r|ll}\n",
       "  & (Intercept) & CINTURA\\\\\n",
       "\\hline\n",
       "\t(Intercept) &  0.83899960   & -8.794030e-03\\\\\n",
       "\tCINTURA & -0.00879403   &  9.347639e-05\\\\\n",
       "\\end{tabular}\n"
      ],
      "text/markdown": [
       "\n",
       "| <!--/--> | (Intercept) | CINTURA |\n",
       "|---|---|---|\n",
       "| (Intercept) |  0.83899960   | -8.794030e-03 |\n",
       "| CINTURA | -0.00879403   |  9.347639e-05 |\n",
       "\n"
      ],
      "text/plain": [
       "            (Intercept) CINTURA      \n",
       "(Intercept)  0.83899960 -8.794030e-03\n",
       "CINTURA     -0.00879403  9.347639e-05"
      ]
     },
     "metadata": {},
     "output_type": "display_data"
    },
    {
     "data": {
      "text/html": [
       "561.115115780499"
      ],
      "text/latex": [
       "561.115115780499"
      ],
      "text/markdown": [
       "561.115115780499"
      ],
      "text/plain": [
       "[1] 561.1151"
      ]
     },
     "metadata": {},
     "output_type": "display_data"
    },
    {
     "data": {
      "text/html": [
       "650.04545606961"
      ],
      "text/latex": [
       "650.04545606961"
      ],
      "text/markdown": [
       "650.04545606961"
      ],
      "text/plain": [
       "[1] 650.0455"
      ]
     },
     "metadata": {},
     "output_type": "display_data"
    },
    {
     "data": {
      "text/plain": [
       "'log Lik.' 561.1151 (df=2)"
      ]
     },
     "metadata": {},
     "output_type": "display_data"
    },
    {
     "data": {
      "text/html": [
       "565.1151157805"
      ],
      "text/latex": [
       "565.1151157805"
      ],
      "text/markdown": [
       "565.1151157805"
      ],
      "text/plain": [
       "[1] 565.1151"
      ]
     },
     "metadata": {},
     "output_type": "display_data"
    },
    {
     "data": {
      "text/html": [
       "574.081330483414"
      ],
      "text/latex": [
       "574.081330483414"
      ],
      "text/markdown": [
       "574.081330483414"
      ],
      "text/plain": [
       "[1] 574.0813"
      ]
     },
     "metadata": {},
     "output_type": "display_data"
    },
    {
     "data": {
      "text/html": [
       "<dl>\n",
       "\t<dt>$names</dt>\n",
       "\t\t<dd><ol class=list-inline>\n",
       "\t<li>'coefficients'</li>\n",
       "\t<li>'residuals'</li>\n",
       "\t<li>'fitted.values'</li>\n",
       "\t<li>'effects'</li>\n",
       "\t<li>'R'</li>\n",
       "\t<li>'rank'</li>\n",
       "\t<li>'qr'</li>\n",
       "\t<li>'family'</li>\n",
       "\t<li>'linear.predictors'</li>\n",
       "\t<li>'deviance'</li>\n",
       "\t<li>'aic'</li>\n",
       "\t<li>'null.deviance'</li>\n",
       "\t<li>'iter'</li>\n",
       "\t<li>'weights'</li>\n",
       "\t<li>'prior.weights'</li>\n",
       "\t<li>'df.residual'</li>\n",
       "\t<li>'df.null'</li>\n",
       "\t<li>'y'</li>\n",
       "\t<li>'converged'</li>\n",
       "\t<li>'boundary'</li>\n",
       "\t<li>'model'</li>\n",
       "\t<li>'call'</li>\n",
       "\t<li>'formula'</li>\n",
       "\t<li>'terms'</li>\n",
       "\t<li>'data'</li>\n",
       "\t<li>'offset'</li>\n",
       "\t<li>'control'</li>\n",
       "\t<li>'method'</li>\n",
       "\t<li>'contrasts'</li>\n",
       "\t<li>'xlevels'</li>\n",
       "</ol>\n",
       "</dd>\n",
       "\t<dt>$class</dt>\n",
       "\t\t<dd><ol class=list-inline>\n",
       "\t<li>'glm'</li>\n",
       "\t<li>'lm'</li>\n",
       "</ol>\n",
       "</dd>\n",
       "</dl>\n"
      ],
      "text/latex": [
       "\\begin{description}\n",
       "\\item[\\$names] \\begin{enumerate*}\n",
       "\\item 'coefficients'\n",
       "\\item 'residuals'\n",
       "\\item 'fitted.values'\n",
       "\\item 'effects'\n",
       "\\item 'R'\n",
       "\\item 'rank'\n",
       "\\item 'qr'\n",
       "\\item 'family'\n",
       "\\item 'linear.predictors'\n",
       "\\item 'deviance'\n",
       "\\item 'aic'\n",
       "\\item 'null.deviance'\n",
       "\\item 'iter'\n",
       "\\item 'weights'\n",
       "\\item 'prior.weights'\n",
       "\\item 'df.residual'\n",
       "\\item 'df.null'\n",
       "\\item 'y'\n",
       "\\item 'converged'\n",
       "\\item 'boundary'\n",
       "\\item 'model'\n",
       "\\item 'call'\n",
       "\\item 'formula'\n",
       "\\item 'terms'\n",
       "\\item 'data'\n",
       "\\item 'offset'\n",
       "\\item 'control'\n",
       "\\item 'method'\n",
       "\\item 'contrasts'\n",
       "\\item 'xlevels'\n",
       "\\end{enumerate*}\n",
       "\n",
       "\\item[\\$class] \\begin{enumerate*}\n",
       "\\item 'glm'\n",
       "\\item 'lm'\n",
       "\\end{enumerate*}\n",
       "\n",
       "\\end{description}\n"
      ],
      "text/markdown": [
       "$names\n",
       ":   1. 'coefficients'\n",
       "2. 'residuals'\n",
       "3. 'fitted.values'\n",
       "4. 'effects'\n",
       "5. 'R'\n",
       "6. 'rank'\n",
       "7. 'qr'\n",
       "8. 'family'\n",
       "9. 'linear.predictors'\n",
       "10. 'deviance'\n",
       "11. 'aic'\n",
       "12. 'null.deviance'\n",
       "13. 'iter'\n",
       "14. 'weights'\n",
       "15. 'prior.weights'\n",
       "16. 'df.residual'\n",
       "17. 'df.null'\n",
       "18. 'y'\n",
       "19. 'converged'\n",
       "20. 'boundary'\n",
       "21. 'model'\n",
       "22. 'call'\n",
       "23. 'formula'\n",
       "24. 'terms'\n",
       "25. 'data'\n",
       "26. 'offset'\n",
       "27. 'control'\n",
       "28. 'method'\n",
       "29. 'contrasts'\n",
       "30. 'xlevels'\n",
       "\n",
       "\n",
       "\n",
       "$class\n",
       ":   1. 'glm'\n",
       "2. 'lm'\n",
       "\n",
       "\n",
       "\n",
       "\n",
       "\n"
      ],
      "text/plain": [
       "$names\n",
       " [1] \"coefficients\"      \"residuals\"         \"fitted.values\"    \n",
       " [4] \"effects\"           \"R\"                 \"rank\"             \n",
       " [7] \"qr\"                \"family\"            \"linear.predictors\"\n",
       "[10] \"deviance\"          \"aic\"               \"null.deviance\"    \n",
       "[13] \"iter\"              \"weights\"           \"prior.weights\"    \n",
       "[16] \"df.residual\"       \"df.null\"           \"y\"                \n",
       "[19] \"converged\"         \"boundary\"          \"model\"            \n",
       "[22] \"call\"              \"formula\"           \"terms\"            \n",
       "[25] \"data\"              \"offset\"            \"control\"          \n",
       "[28] \"method\"            \"contrasts\"         \"xlevels\"          \n",
       "\n",
       "$class\n",
       "[1] \"glm\" \"lm\" \n"
      ]
     },
     "metadata": {},
     "output_type": "display_data"
    }
   ],
   "source": [
    "#model.matrix(fit1)                #Matriz modelo\n",
    "coef(fit2)                         #Estimación de los parámetros\n",
    "vcov(fit2)                         #Matriz de varianza y covarianza \n",
    "#fitted(fit2)                      #Valores ajustados\n",
    "deviance(fit2)                     #Deviance residual\n",
    "sum(resid(fit2,type=\"pearson\")^2)  #Estadística de Pearson\n",
    "-2*logLik(fit2)                    # Log-verosimilitud\n",
    "AIC(fit2)\n",
    "BIC(fit2)\n",
    "attributes(fit2)                  #otros atributos"
   ]
  },
  {
   "cell_type": "code",
   "execution_count": 67,
   "metadata": {},
   "outputs": [
    {
     "name": "stdout",
     "output_type": "stream",
     "text": [
      "\n",
      "  Family:  binomial \n",
      "    Link:  logit \n",
      "\n",
      "Initial model:\n",
      "AUTOREPORTE_DIABETES ~ 1  \n",
      "\n",
      "Step 0 :    \n",
      "              Df      BIC      AIC   Deviance+ Pearson^ p-value*\n",
      "+ CINTURA      1   574.0813 565.1151    0.0134   0.0045   0.0038\n",
      "+ IMC          1   574.9044 565.9382    0.0120   0.0054   0.0054\n",
      "+ PESO         1   575.3848 566.4186    0.0111   0.0029   0.0070\n",
      "<none>             576.1016 571.6185    0.0000   0.0000         \n",
      "+ BRANQUIAL    1   576.8210 567.8548    0.0086   0.0009   0.0165\n",
      "+ PANTORRILLA  1   579.9365 570.9703    0.0031  -0.0016   0.1026\n",
      "+ SPPB_FINAL   1   582.5617 573.5955   -0.0015  -0.0015   0.8796\n",
      "+ TALLA        1   582.5674 573.6012   -0.0015  -0.0015   0.8953\n",
      "\n",
      "Step 1 :  + CINTURA \n",
      "              Df      BIC      AIC   Deviance+ Pearson^ p-value*\n",
      "<none>             574.0813 565.1151    0.0134   0.0045         \n",
      "+ IMC          1   579.9764 566.5270    0.0129   0.0048   0.4415\n",
      "+ BRANQUIAL    1   580.1477 566.6983    0.0126   0.0032   0.5181\n",
      "+ PESO         1   580.3156 566.8663    0.0123   0.0034   0.6174\n",
      "+ TALLA        1   580.4862 567.0369    0.0120   0.0035   0.7800\n",
      "+ PANTORRILLA  1   580.5529 567.1036    0.0119   0.0032   0.9145\n",
      "+ SPPB_FINAL   1   580.5643 567.1150    0.0119   0.0030   0.9911\n",
      "\n",
      "+ Adjusted R-squared based on the residual deviance\n",
      "^ Adjusted R-squared based on the Pearson statistic\n",
      "* p-value of the Wald test\n",
      "\n",
      "Final model:\n",
      "AUTOREPORTE_DIABETES ~ 1 + CINTURA \n",
      "\n"
     ]
    }
   ],
   "source": [
    "#ESTAS LINEAS ES PARA LLAMAR LAS FUNCIONES REALIZADAS POR EL DOCENTE hernando vanegas\n",
    "setwd(\"C:\\\\Users\\\\YULY\\\\Desktop\\\\Desktop\\\\UNAL 2018\\\\MLGz\\\\MLG Vanegas\") #busca por default en una carpeta en especifica todo.\n",
    "source(\"macros.txt\")#Lllamar el archivo de macros que está en la carpeta especifica,(son una fuciines especificas del profesor)\n",
    "\n",
    "\n",
    "step_glm(fit11,direction = \"forward\",criterion = \"BIC\")  # direction=\"backward\" o \"forward\""
   ]
  },
  {
   "cell_type": "markdown",
   "metadata": {},
   "source": [
    "El anterior codigo establece el mejor modelo. Si usamos el proceso forward, establece: \n",
    "\n",
    "* **modelo inicial**:El que solo tiene intercepto.\n",
    "* **paso 0**: ¿Cuál agragar? **CONCLUSIÓN: colocar el efecto principal CINTURA**.\n",
    "\n",
    "* **paso 1**: se tienen la posibilidad de ingresar otro efecto principal o no hacer nada, esto puede decidirse con el BIC, AIC los cuales \n",
    "Luego el modelo final es:\n",
    "\n",
    "$$satellite = 1 + CINTURA$$"
   ]
  },
  {
   "cell_type": "markdown",
   "metadata": {},
   "source": [
    "Con respecto a lo anterior también es aconsejable el modelo ocn enlace **logit** pues es el que mejor se ajusta."
   ]
  },
  {
   "cell_type": "markdown",
   "metadata": {},
   "source": [
    "# MODELO FINAL (CON FUNCION DE ENLACE CLOGLOG)"
   ]
  },
  {
   "cell_type": "code",
   "execution_count": 54,
   "metadata": {},
   "outputs": [
    {
     "data": {
      "text/plain": [
       "\n",
       "Call:\n",
       "glm(formula = AUTOREPORTE_DIABETES ~ 1 + CINTURA, family = binomial(\"logit\"), \n",
       "    data = d2)\n",
       "\n",
       "Deviance Residuals: \n",
       "    Min       1Q   Median       3Q      Max  \n",
       "-0.8623  -0.6209  -0.5530  -0.4755   2.2313  \n",
       "\n",
       "Coefficients:\n",
       "             Estimate Std. Error z value Pr(>|z|)    \n",
       "(Intercept) -4.279316   0.915969  -4.672 2.98e-06 ***\n",
       "CINTURA      0.028009   0.009668   2.897  0.00377 ** \n",
       "---\n",
       "Signif. codes:  0 '***' 0.001 '**' 0.01 '*' 0.05 '.' 0.1 ' ' 1\n",
       "\n",
       "(Dispersion parameter for binomial family taken to be 1)\n",
       "\n",
       "    Null deviance: 569.62  on 653  degrees of freedom\n",
       "Residual deviance: 561.12  on 652  degrees of freedom\n",
       "AIC: 565.12\n",
       "\n",
       "Number of Fisher Scoring iterations: 4\n"
      ]
     },
     "metadata": {},
     "output_type": "display_data"
    }
   ],
   "source": [
    "fitmejor<-glm(AUTOREPORTE_DIABETES ~1+CINTURA, family = binomial(\"logit\"), data = d2)#factor para identificar cuales toma como 1ons\n",
    "summary(fitmejor)"
   ]
  },
  {
   "cell_type": "markdown",
   "metadata": {},
   "source": [
    "---\n",
    "\n",
    "## Test de Wald\n",
    "\n",
    "\n",
    " Ahora para hacer una hipótesis sobre la dosis, considero a $\\beta_2$. \n",
    "\n",
    "$$H_{0}: \\beta_2 = 0 \\;\\;\\;\\;\\; vs \\;\\;\\;\\;\\;\\; H_{1}: \\beta_2 \\neq  0 $$\n",
    "\n",
    "donde \n",
    "\n",
    "$$ \\xi _{W} = (\\hat{\\beta_2}  - \\beta_2^{0})' [\\hat{Var}(\\hat{\\beta_2})]{-1}(\\hat{\\beta_2}  - \\beta_2^{0})$$\n",
    "\n",
    "\n",
    "Para hacer inferencia con respecto a los datos se tiene:\n",
    "\n",
    "* Consideranddo que $Z_{\\hat{\\beta_2}}=4.786$, se contrasta con la estadistica normal (concluyendose que se rechaza $H_0$, ver significancia de $\\beta_2$).\n",
    "\n",
    "* $ \\xi _{W} = 22.90$ que al ser contrastado con una chi cuadrado con un grado de libertad $\\chi^2_{1}$ se tiene: $ 22.9=\\xi _{W} > \\chi^2_{1} =3.8416$ es decír que a un nivel de significancia aproximado de $100(\\alpha)\\%$ se rechaza la hiótesis nula. concluyendose que el ancho del caparazon actúa de manera significativa en el tener satelites.\n",
    "\n",
    "* considerando lo anterior $(Z_{\\hat{\\beta_2}})^2=(4.786)^2 = \\xi _{W} =  22.90$ se tiene la misma desición. veamos el calculo de la estadística de Wald y el p-valor:\n"
   ]
  },
  {
   "cell_type": "code",
   "execution_count": 39,
   "metadata": {},
   "outputs": [
    {
     "data": {
      "text/html": [
       "<strong>width:</strong> 22.9056651070915"
      ],
      "text/latex": [
       "\\textbf{width:} 22.9056651070915"
      ],
      "text/markdown": [
       "**width:** 22.9056651070915"
      ],
      "text/plain": [
       "   width \n",
       "22.90567 "
      ]
     },
     "metadata": {},
     "output_type": "display_data"
    }
   ],
   "source": [
    "(coef(fit3)[c(2)])^2 /(vcov(fit3)[c(2), c(2)])     #test de wald"
   ]
  },
  {
   "cell_type": "code",
   "execution_count": 41,
   "metadata": {},
   "outputs": [
    {
     "data": {
      "text/html": [
       "0"
      ],
      "text/latex": [
       "0"
      ],
      "text/markdown": [
       "0"
      ],
      "text/plain": [
       "[1] 0"
      ]
     },
     "metadata": {},
     "output_type": "display_data"
    }
   ],
   "source": [
    "pvalor<- 1-pchisq(( 22.90)^2,1);pvalor"
   ]
  },
  {
   "cell_type": "markdown",
   "metadata": {},
   "source": [
    "<div class=\"alert alert-success\">\n",
    "    <b>Desición:</b>\n",
    "    \n",
    "Se rechaza la hipótesis nula $H_{0}: \\beta_2 =0$ luego es sigfnificativo, concluyendose que el ancho del caparazon si está afectando la probabilidad de exito $\\mu_k$\n",
    "</div>"
   ]
  },
  {
   "cell_type": "markdown",
   "metadata": {},
   "source": [
    "<div class=\"alert alert-danger\" role=\"alert\">\n",
    "    <b>Nota:</b>\n",
    "    \n",
    "Recuerde que se compara con una $\\chi^2_{(1)}$ con un grado de libertad porque es solo un parámetro. $\\chi^2_{(1)}=(Z_{\\alpha})^2=(1.96)^2=3.8416$\n",
    "</div>"
   ]
  },
  {
   "cell_type": "code",
   "execution_count": 95,
   "metadata": {},
   "outputs": [
    {
     "data": {
      "text/html": [
       "8.50336866369969"
      ],
      "text/latex": [
       "8.50336866369969"
      ],
      "text/markdown": [
       "8.50336866369969"
      ],
      "text/plain": [
       "[1] 8.503369"
      ]
     },
     "metadata": {},
     "output_type": "display_data"
    }
   ],
   "source": [
    "fitmejor$null.deviance-fitmejor$deviance"
   ]
  },
  {
   "cell_type": "markdown",
   "metadata": {},
   "source": [
    "## Análisis de sensibilidad\n",
    "\n",
    "La siguiente gráfica es la de los residuos cuantil, mediante la función **residuals_glm()** la cual es generada por defecto."
   ]
  },
  {
   "cell_type": "code",
   "execution_count": 59,
   "metadata": {},
   "outputs": [
    {
     "name": "stdout",
     "output_type": "stream",
     "text": [
      "  |++++++++++++++++++++++++++++++++++++++++++++++++++| 100%\n"
     ]
    },
    {
     "data": {
      "image/png": "[encoded data removed]",
      "text/plain": [
       "Plot with title \" \""
      ]
     },
     "metadata": {},
     "output_type": "display_data"
    }
   ],
   "source": [
    "par(mfrow=c(1,2))\n",
    "envelope_glm(fitmejor,conf = 0.9, main=\"Envelope\")\n",
    "residuals_glm(fit11)  "
   ]
  },
  {
   "cell_type": "code",
   "execution_count": 98,
   "metadata": {},
   "outputs": [
    {
     "data": {
      "image/png": "[encoded data removed]",
      "text/plain": [
       "Plot with title \" \""
      ]
     },
     "metadata": {},
     "output_type": "display_data"
    }
   ],
   "source": [
    "residuals_glm(fit11)   #Por default residuos quantile"
   ]
  },
  {
   "cell_type": "code",
   "execution_count": 99,
   "metadata": {},
   "outputs": [
    {
     "data": {
      "image/png": "[encoded data removed]",
      "text/plain": [
       "Plot with title \" \""
      ]
     },
     "metadata": {},
     "output_type": "display_data"
    }
   ],
   "source": [
    "Cookdis_glm(fitmejor)   #hay que quitar la observacion mas alta"
   ]
  },
  {
   "cell_type": "code",
   "execution_count": 60,
   "metadata": {},
   "outputs": [
    {
     "ename": "ERROR",
     "evalue": "Error: Only gaussian, Gamma and inverse.gaussian families are supported!!\n",
     "output_type": "error",
     "traceback": [
      "Error: Only gaussian, Gamma and inverse.gaussian families are supported!!\nTraceback:\n",
      "1. vdtest(fit11)",
      "2. stop(\"Only gaussian, Gamma and inverse.gaussian families are supported!!\", \n .     call. = FALSE)"
     ]
    }
   ],
   "source": [
    "vdtest(fit11)\n",
    "bptest(fit11,studentize=FALSE)"
   ]
  },
  {
   "cell_type": "markdown",
   "metadata": {},
   "source": [
    "### ¿Qué sucede si quitamos los puntos alto leverage?\n",
    "\n",
    "Quitando el dato 325 se tiene:"
   ]
  },
  {
   "cell_type": "markdown",
   "metadata": {},
   "source": [
    "# REFERENCIAS\n",
    "\n",
    "Para poder instalar paquetes en jupyter, uso la siguiente linea.\n",
    "\n",
    "* install.packages(\"glmx\", \"/Users/YULY/anaconda/Lib/R/library\")"
   ]
  }
 ],
 "metadata": {
  "kernelspec": {
   "display_name": "R",
   "language": "R",
   "name": "ir"
  },
  "language_info": {
   "codemirror_mode": "r",
   "file_extension": ".r",
   "mimetype": "text/x-r-source",
   "name": "R",
   "pygments_lexer": "r",
   "version": "3.6.1"
  }
 },
 "nbformat": 4,
 "nbformat_minor": 2
}
