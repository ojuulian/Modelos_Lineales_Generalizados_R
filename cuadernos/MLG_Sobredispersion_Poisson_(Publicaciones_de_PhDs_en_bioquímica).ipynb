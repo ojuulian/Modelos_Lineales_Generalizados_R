{
 "cells": [
  {
   "cell_type": "markdown",
   "metadata": {},
   "source": [
    "# Modelo con Sobredispersion Poisson (Publicaciones de PhDs en bioquímica)\n",
    "\n",
    "### Oscar Julian Layton\n",
    "\n",
    "Publicaciones de Doctpres en Bioquímica, donde las variables son:\n",
    "\n",
    "* **$Y_k$= art**: El número de articulos publicados en los últimos tres años fem.\n",
    "* **género del estudiante**: (femenino o masculino)\n",
    "* **mar**: estado marital del estudiante: (soltero o casado)\n",
    "* **kid5**: número de hijos de 5 años de edad o menores\n",
    "* **phd**: Nivel de prestigio del programa de doctorado que cursó.\n",
    "* **ment**: Número de articulos publicados por el director de tesis en los últimos tres años. "
   ]
  },
  {
   "cell_type": "code",
   "execution_count": 9,
   "metadata": {},
   "outputs": [],
   "source": [
    "rm(list=ls())\n",
    "setwd(\"C:\\\\Users\\\\YULY\\\\Desktop\\\\Desktop\\\\UNAL 2018\\\\MLGz\\\\MLG Vanegas\")  #Asignando capeta busqueda por default\n",
    "library(sqldf)\n",
    "library(numDeriv)\n",
    "library(Rfast)\n",
    "source(\"macros.txt\")\n",
    "source(\"test.txt\")"
   ]
  },
  {
   "cell_type": "code",
   "execution_count": 10,
   "metadata": {},
   "outputs": [
    {
     "name": "stdout",
     "output_type": "stream",
     "text": [
      "'data.frame':\t915 obs. of  6 variables:\n",
      " $ art : int  0 0 0 0 0 0 0 0 0 0 ...\n",
      " $ fem : Factor w/ 2 levels \"Men\",\"Women\": 1 2 2 1 2 2 2 1 1 2 ...\n",
      " $ mar : Factor w/ 2 levels \"Single\",\"Married\": 2 1 1 2 1 2 1 2 1 2 ...\n",
      " $ kid5: num  0 0 0 1 0 2 0 2 0 0 ...\n",
      " $ phd : num  2.52 2.05 3.75 1.18 3.75 ...\n",
      " $ ment: int  7 6 6 3 26 2 3 4 6 0 ...\n",
      " - attr(*, \"datalabel\")= chr \"Academic Biochemists / S Long\"\n",
      " - attr(*, \"time.stamp\")= chr \"30 Jan 2001 10:49\"\n",
      " - attr(*, \"formats\")= chr  \"%9.0g\" \"%9.0g\" \"%9.0g\" \"%9.0g\" ...\n",
      " - attr(*, \"types\")= int  98 98 98 98 102 98\n",
      " - attr(*, \"val.labels\")= chr  \"\" \"sexlbl\" \"marlbl\" \"\" ...\n",
      " - attr(*, \"var.labels\")= chr  \"Articles in last 3 yrs of PhD\" \"Gender: 1=female 0=male\" \"Married: 1=yes 0=no\" \"Number of children < 6\" ...\n",
      " - attr(*, \"version\")= int 6\n",
      " - attr(*, \"label.table\")=List of 6\n",
      "  ..$ marlbl: Named num  0 1\n",
      "  .. ..- attr(*, \"names\")= chr  \"Single\" \"Married\"\n",
      "  ..$ sexlbl: Named num  0 1\n",
      "  .. ..- attr(*, \"names\")= chr  \"Men\" \"Women\"\n",
      "  ..$       : NULL\n",
      "  ..$       : NULL\n",
      "  ..$       : NULL\n",
      "  ..$       : NULL\n"
     ]
    },
    {
     "data": {
      "text/html": [
       "<table>\n",
       "<thead><tr><th scope=col>art</th><th scope=col>fem</th><th scope=col>mar</th><th scope=col>kid5</th><th scope=col>phd</th><th scope=col>ment</th></tr></thead>\n",
       "<tbody>\n",
       "\t<tr><td>0      </td><td>Men    </td><td>Married</td><td>0      </td><td>2.52   </td><td> 7     </td></tr>\n",
       "\t<tr><td>0      </td><td>Women  </td><td>Single </td><td>0      </td><td>2.05   </td><td> 6     </td></tr>\n",
       "\t<tr><td>0      </td><td>Women  </td><td>Single </td><td>0      </td><td>3.75   </td><td> 6     </td></tr>\n",
       "\t<tr><td>0      </td><td>Men    </td><td>Married</td><td>1      </td><td>1.18   </td><td> 3     </td></tr>\n",
       "\t<tr><td>0      </td><td>Women  </td><td>Single </td><td>0      </td><td>3.75   </td><td>26     </td></tr>\n",
       "\t<tr><td>0      </td><td>Women  </td><td>Married</td><td>2      </td><td>3.59   </td><td> 2     </td></tr>\n",
       "</tbody>\n",
       "</table>\n"
      ],
      "text/latex": [
       "\\begin{tabular}{r|llllll}\n",
       " art & fem & mar & kid5 & phd & ment\\\\\n",
       "\\hline\n",
       "\t 0       & Men     & Married & 0       & 2.52    &  7     \\\\\n",
       "\t 0       & Women   & Single  & 0       & 2.05    &  6     \\\\\n",
       "\t 0       & Women   & Single  & 0       & 3.75    &  6     \\\\\n",
       "\t 0       & Men     & Married & 1       & 1.18    &  3     \\\\\n",
       "\t 0       & Women   & Single  & 0       & 3.75    & 26     \\\\\n",
       "\t 0       & Women   & Married & 2       & 3.59    &  2     \\\\\n",
       "\\end{tabular}\n"
      ],
      "text/markdown": [
       "\n",
       "| art | fem | mar | kid5 | phd | ment |\n",
       "|---|---|---|---|---|---|\n",
       "| 0       | Men     | Married | 0       | 2.52    |  7      |\n",
       "| 0       | Women   | Single  | 0       | 2.05    |  6      |\n",
       "| 0       | Women   | Single  | 0       | 3.75    |  6      |\n",
       "| 0       | Men     | Married | 1       | 1.18    |  3      |\n",
       "| 0       | Women   | Single  | 0       | 3.75    | 26      |\n",
       "| 0       | Women   | Married | 2       | 3.59    |  2      |\n",
       "\n"
      ],
      "text/plain": [
       "  art fem   mar     kid5 phd  ment\n",
       "1 0   Men   Married 0    2.52  7  \n",
       "2 0   Women Single  0    2.05  6  \n",
       "3 0   Women Single  0    3.75  6  \n",
       "4 0   Men   Married 1    1.18  3  \n",
       "5 0   Women Single  0    3.75 26  \n",
       "6 0   Women Married 2    3.59  2  "
      ]
     },
     "metadata": {},
     "output_type": "display_data"
    }
   ],
   "source": [
    "###################### Lectura de los datos ######################\n",
    "data(bioChemists,package=\"pscl\")\n",
    "str(bioChemists)\n",
    "head(bioChemists)"
   ]
  },
  {
   "cell_type": "code",
   "execution_count": 11,
   "metadata": {},
   "outputs": [],
   "source": [
    "###################### Estimación del modelo ######################\n",
    "fit11 <- glm(art ~ fem + mar + kid5 + phd + ment, family=poisson(link=\"log\"), data=bioChemists)\n",
    "fit12 <- glm(art ~ fem + mar + kid5 + phd + ment, family=poisson(link=\"identity\"), data=bioChemists)\n",
    "fit13 <- glm(art ~ fem + mar + kid5 + phd + ment, family=poisson(link=\"sqrt\"), data=bioChemists)"
   ]
  },
  {
   "cell_type": "code",
   "execution_count": 12,
   "metadata": {},
   "outputs": [
    {
     "data": {
      "text/html": [
       "<table>\n",
       "<thead><tr><th></th><th scope=col>df</th><th scope=col>AIC</th></tr></thead>\n",
       "<tbody>\n",
       "\t<tr><th scope=row>fit11</th><td>6       </td><td>3314.113</td></tr>\n",
       "\t<tr><th scope=row>fit12</th><td>6       </td><td>3290.954</td></tr>\n",
       "\t<tr><th scope=row>fit13</th><td>6       </td><td>3299.727</td></tr>\n",
       "</tbody>\n",
       "</table>\n"
      ],
      "text/latex": [
       "\\begin{tabular}{r|ll}\n",
       "  & df & AIC\\\\\n",
       "\\hline\n",
       "\tfit11 & 6        & 3314.113\\\\\n",
       "\tfit12 & 6        & 3290.954\\\\\n",
       "\tfit13 & 6        & 3299.727\\\\\n",
       "\\end{tabular}\n"
      ],
      "text/markdown": [
       "\n",
       "| <!--/--> | df | AIC |\n",
       "|---|---|---|\n",
       "| fit11 | 6        | 3314.113 |\n",
       "| fit12 | 6        | 3290.954 |\n",
       "| fit13 | 6        | 3299.727 |\n",
       "\n"
      ],
      "text/plain": [
       "      df AIC     \n",
       "fit11 6  3314.113\n",
       "fit12 6  3290.954\n",
       "fit13 6  3299.727"
      ]
     },
     "metadata": {},
     "output_type": "display_data"
    },
    {
     "data": {
      "text/html": [
       "<table>\n",
       "<thead><tr><th></th><th scope=col>df</th><th scope=col>BIC</th></tr></thead>\n",
       "<tbody>\n",
       "\t<tr><th scope=row>fit11</th><td>6       </td><td>3343.026</td></tr>\n",
       "\t<tr><th scope=row>fit12</th><td>6       </td><td>3319.867</td></tr>\n",
       "\t<tr><th scope=row>fit13</th><td>6       </td><td>3328.641</td></tr>\n",
       "</tbody>\n",
       "</table>\n"
      ],
      "text/latex": [
       "\\begin{tabular}{r|ll}\n",
       "  & df & BIC\\\\\n",
       "\\hline\n",
       "\tfit11 & 6        & 3343.026\\\\\n",
       "\tfit12 & 6        & 3319.867\\\\\n",
       "\tfit13 & 6        & 3328.641\\\\\n",
       "\\end{tabular}\n"
      ],
      "text/markdown": [
       "\n",
       "| <!--/--> | df | BIC |\n",
       "|---|---|---|\n",
       "| fit11 | 6        | 3343.026 |\n",
       "| fit12 | 6        | 3319.867 |\n",
       "| fit13 | 6        | 3328.641 |\n",
       "\n"
      ],
      "text/plain": [
       "      df BIC     \n",
       "fit11 6  3343.026\n",
       "fit12 6  3319.867\n",
       "fit13 6  3328.641"
      ]
     },
     "metadata": {},
     "output_type": "display_data"
    }
   ],
   "source": [
    "###################### Valores del AIC y BIC ######################\n",
    "AIC(fit11,fit12,fit13)\n",
    "BIC(fit11,fit12,fit13)"
   ]
  },
  {
   "cell_type": "markdown",
   "metadata": {},
   "source": [
    "Se establece que el mejor modelo en terminos de AIC, BIC es la que tiene función de enlace Identidad."
   ]
  },
  {
   "cell_type": "code",
   "execution_count": 17,
   "metadata": {},
   "outputs": [
    {
     "data": {
      "text/plain": [
       "\n",
       "Call:\n",
       "glm(formula = art ~ fem + mar + kid5 + phd + ment, family = poisson(link = \"identity\"), \n",
       "    data = bioChemists)\n",
       "\n",
       "Deviance Residuals: \n",
       "    Min       1Q   Median       3Q      Max  \n",
       "-2.6789  -1.4607  -0.3622   0.5819   5.3712  \n",
       "\n",
       "Coefficients:\n",
       "             Estimate Std. Error z value Pr(>|z|)    \n",
       "(Intercept)  1.160633   0.160321   7.239 4.51e-13 ***\n",
       "femWomen    -0.318554   0.086570  -3.680 0.000233 ***\n",
       "marMarried   0.252454   0.098816   2.555 0.010626 *  \n",
       "kid5        -0.259634   0.057965  -4.479 7.49e-06 ***\n",
       "phd          0.015822   0.042982   0.368 0.712788    \n",
       "ment         0.067419   0.005897  11.433  < 2e-16 ***\n",
       "---\n",
       "Signif. codes:  0 '***' 0.001 '**' 0.01 '*' 0.05 '.' 0.1 ' ' 1\n",
       "\n",
       "(Dispersion parameter for poisson family taken to be 1)\n",
       "\n",
       "    Null deviance: 1817.4  on 914  degrees of freedom\n",
       "Residual deviance: 1611.2  on 909  degrees of freedom\n",
       "AIC: 3291\n",
       "\n",
       "Number of Fisher Scoring iterations: 6\n"
      ]
     },
     "metadata": {},
     "output_type": "display_data"
    },
    {
     "name": "stdout",
     "output_type": "stream",
     "text": [
      "\n",
      "  Family:  poisson \n",
      "    Link:  identity \n",
      "                                                     Df     Value\n",
      "Residual deviance                                   909 1611.2119\n",
      "Pearson's statistic                                 909 1654.3378\n",
      "Adjusted R-squared based on the residual deviance          0.1086\n",
      "Adjusted R-squared based on the Pearson's statistic        0.1695\n",
      "-2*log-Likelihood                                       3278.9536\n",
      "AIC                                                     3290.9536\n",
      "BIC                                                     3319.8671\n",
      "\n",
      "\n"
     ]
    }
   ],
   "source": [
    "###################### Resumen del modelo seleccionado ######################\n",
    "summary(fit12)\n",
    "gof_glm(fit12)"
   ]
  },
  {
   "cell_type": "markdown",
   "metadata": {},
   "source": [
    "En este punto se puede decir que: \n",
    "\n",
    "* Las mujeres publcan menos que los hombres. \n",
    "* Que el numero esperado de publicaciones en casados en mayor que en los solteros.\n",
    "* Que cuando mayor cantidad de niños menores de 5 años se espera un número menor de publicaciones.\n",
    "* Que cuando mayor sea el prestigio del doctorado se espera que sea mayor el número de publicaciones.\n",
    "* Cuando mayor sea el número de articulos publicados por el director de tesis, mayor articulos se espera tener."
   ]
  },
  {
   "cell_type": "code",
   "execution_count": 18,
   "metadata": {},
   "outputs": [
    {
     "data": {
      "text/html": [
       "1.7725103410341"
      ],
      "text/latex": [
       "1.7725103410341"
      ],
      "text/markdown": [
       "1.7725103410341"
      ],
      "text/plain": [
       "[1] 1.77251"
      ]
     },
     "metadata": {},
     "output_type": "display_data"
    }
   ],
   "source": [
    "1611.2119/909"
   ]
  },
  {
   "cell_type": "markdown",
   "metadata": {},
   "source": [
    "Conocemos que en el caso de la Poisson el $\\phi$ es conocido y es 1. No obstante para conocer $\\phi$ estimamos mediante:\n",
    "\n",
    "$$\\widehat{\\phi}= \\frac{D(y; \\widehat{\\mu})}{n-p}$$\n",
    "\n",
    "Se logra observar que hay indicios de sobredispersión, asi como se muestra en el siguiente ENVELOPE. "
   ]
  },
  {
   "cell_type": "code",
   "execution_count": 19,
   "metadata": {},
   "outputs": [
    {
     "name": "stdout",
     "output_type": "stream",
     "text": [
      "  |++++++++++++++++++++++++++++++++++++++++++++++++++| 100%\n"
     ]
    },
    {
     "data": {
      "image/png": "[encoded data removed]",
      "text/plain": [
       "Plot with title \" \""
      ]
     },
     "metadata": {},
     "output_type": "display_data"
    }
   ],
   "source": [
    "envelope_glm(fit12,rep=100)"
   ]
  },
  {
   "cell_type": "markdown",
   "metadata": {},
   "source": [
    "## Otra forma de atacar el problema BinomialNegativaI\n",
    "\n",
    "Ajustando un modelo Binomial Negativo se tiene:"
   ]
  },
  {
   "cell_type": "code",
   "execution_count": 20,
   "metadata": {},
   "outputs": [
    {
     "name": "stderr",
     "output_type": "stream",
     "text": [
      "Warning message in log(mu * phi):\n",
      "\"Se han producido NaNs\"Warning message in log(mu * phi):\n",
      "\"Se han producido NaNs\"Warning message in log(mu * phi):\n",
      "\"Se han producido NaNs\"Warning message in log(mu * phi):\n",
      "\"Se han producido NaNs\"Warning message in log(mu * phi):\n",
      "\"Se han producido NaNs\"Warning message in log(mu * phi):\n",
      "\"Se han producido NaNs\""
     ]
    },
    {
     "name": "stdout",
     "output_type": "stream",
     "text": [
      "\n",
      "\n",
      "  Family:  Negative Binomial I \n",
      "Predictor:  1 + fem + mar + kid5 + phd + ment \n",
      "\n",
      " Object     Link -2*log-likelihood df     AIC \n",
      "  fit21      log          3121.917  7 3135.917\n",
      "  fit22 identity          3110.320  7 3124.320\n",
      "  fit23     sqrt          3115.001  7 3129.001\n",
      "\n",
      "\n",
      "  Family:  Negative Binomial I \n",
      "Predictor:  1 + fem + mar + kid5 + phd + ment \n",
      "\n",
      " Object     Link -2*log-likelihood df     BIC \n",
      "  fit21      log          3121.917  7 3169.649\n",
      "  fit22 identity          3110.320  7 3158.053\n",
      "  fit23     sqrt          3115.001  7 3162.733\n"
     ]
    }
   ],
   "source": [
    "###################### Estimación del modelo ######################\n",
    "fit21 <- overglm(art ~ fem + mar + kid5 + phd + ment, family=\"nb1(log)\", data=bioChemists)\n",
    "fit22 <- overglm(art ~ fem + mar + kid5 + phd + ment, family=\"nb1(identity)\", data=bioChemists)\n",
    "fit23 <- overglm(art ~ fem + mar + kid5 + phd + ment, family=\"nb1(sqrt)\", data=bioChemists)\n",
    "AIC(fit21,fit22,fit23)\n",
    "BIC(fit21,fit22,fit23)\n"
   ]
  },
  {
   "cell_type": "markdown",
   "metadata": {},
   "source": [
    "Se observa por medio del AIC, BIC que la mejor función de enlace es la identidad."
   ]
  },
  {
   "cell_type": "code",
   "execution_count": 30,
   "metadata": {},
   "outputs": [
    {
     "name": "stdout",
     "output_type": "stream",
     "text": [
      "\n",
      "Sample size:  915 \n",
      "     Family:  Negative Binomial I\n",
      "       Link:  identity\n",
      " *************************************************************\n",
      "            Estimate Std.Error  z-value   Pr(>|z|)\n",
      "(Intercept)  1.09345   0.21053  5.19390 2.0593e-07\n",
      "femWomen    -0.29630   0.11411 -2.59672 0.00941179\n",
      "marMarried   0.25538   0.12777  1.99881 0.04562925\n",
      "kid5        -0.24980   0.07583 -3.29435 0.00098649\n",
      "phd          0.02401   0.05489  0.43738 0.66183221\n",
      "ment         0.07107   0.00918  7.73786 1.0111e-14\n",
      "\n",
      "            Estimate Std.Error\n",
      "Dispersion   0.42573   0.05217\n",
      " *************************************************************\n",
      "                 -2*log-likelihood:  3110.32 \n",
      "                               AIC:  3124.32 \n",
      "                               BIC:  3158.053 \n"
     ]
    }
   ],
   "source": [
    "summary(fit22)"
   ]
  },
  {
   "cell_type": "markdown",
   "metadata": {},
   "source": [
    "Comparando con los parámetros de la Poisson con respecto a la Binomial Negativa, se logra observar que los parámetros no cambian tanto sin embargo son menores 0.16 ; -0,31 ; 0.25 ; -0.25 ; 0.01 ; 0.06 (muy parecidos). en cuanto a los errores estandar de la Poisson son:   0.16 ; 0,08 ; 0.09 ; 0.05 ; 0.04 ; 0.005 es decir que se estaban subestimando (en la realidad deberian ser mayores). En cuanto a la significancia *phd* sigue siendo no significativo el de casado ya no es tan significativo.\n",
    "\n",
    "\n",
    "**\"El envelope para la Binomial Negativa no está hecho.\"**\n"
   ]
  },
  {
   "cell_type": "markdown",
   "metadata": {},
   "source": [
    "## Otra forma de atacar el problema BinomialNegativoII"
   ]
  },
  {
   "cell_type": "code",
   "execution_count": 35,
   "metadata": {},
   "outputs": [
    {
     "name": "stdout",
     "output_type": "stream",
     "text": [
      "\n",
      "\n",
      "  Family:  Negative Binomial II \n",
      "Predictor:  1 + fem + mar + kid5 + phd + ment \n",
      "\n",
      " Object Link -2*log-likelihood df     AIC \n",
      "  fit31  log          3129.397  7 3143.397\n",
      "  fit33 sqrt          3120.665  7 3134.665\n",
      "\n",
      "\n",
      "  Family:  Negative Binomial II \n",
      "Predictor:  1 + fem + mar + kid5 + phd + ment \n",
      "\n",
      " Object Link -2*log-likelihood df     BIC \n",
      "  fit31  log          3129.397  7 3177.130\n",
      "  fit33 sqrt          3120.665  7 3168.398\n"
     ]
    }
   ],
   "source": [
    "fit31 <- overglm(art ~ fem + mar + kid5 + phd + ment, family=\"nb2(log)\", data=bioChemists)\n",
    "fit33 <- overglm(art ~ fem + mar + kid5 + phd + ment, family=\"nb2(sqrt)\", data=bioChemists)\n",
    "AIC(fit31,fit33)\n",
    "BIC(fit31,fit33)"
   ]
  },
  {
   "cell_type": "markdown",
   "metadata": {},
   "source": [
    "Segun el AIC, BIC el mejor modelo es Negative Binomial II enlace raiz cuadrada\n",
    "\n",
    "## Otra forma a subdispersión es PoissonNormalInversa"
   ]
  },
  {
   "cell_type": "code",
   "execution_count": 22,
   "metadata": {},
   "outputs": [
    {
     "name": "stdout",
     "output_type": "stream",
     "text": [
      "\n",
      "\n",
      "  Family:  Poisson-Inverse.Gaussian \n",
      "Predictor:  1 + fem + mar + kid5 + phd + ment \n",
      "\n",
      " Object     Link -2*log-likelihood df     AIC \n",
      "  fit41      log          3536.501  7 3550.501\n",
      "  fit42 identity          3528.149  7 3542.149\n",
      "  fit43     sqrt          3531.854  7 3545.854\n",
      "\n",
      "\n",
      "  Family:  Poisson-Inverse.Gaussian \n",
      "Predictor:  1 + fem + mar + kid5 + phd + ment \n",
      "\n",
      " Object     Link -2*log-likelihood df     BIC \n",
      "  fit41      log          3536.501  7 3584.234\n",
      "  fit42 identity          3528.149  7 3575.882\n",
      "  fit43     sqrt          3531.854  7 3579.586\n"
     ]
    }
   ],
   "source": [
    "fit41 <- overglm(art ~ fem + mar + kid5 + phd + ment, family=\"poig(log)\", data=bioChemists)\n",
    "fit42 <- overglm(art ~ fem + mar + kid5 + phd + ment, family=\"poig(identity)\", data=bioChemists)\n",
    "fit43 <- overglm(art ~ fem + mar + kid5 + phd + ment, family=\"poig(sqrt)\", data=bioChemists)\n",
    "AIC(fit41,fit42,fit43)\n",
    "BIC(fit41,fit42,fit43)"
   ]
  },
  {
   "cell_type": "markdown",
   "metadata": {},
   "source": [
    "Segun el AIC, BIC el mejor modelo es Poisson-Inverse.Gaussian enlace identidad.\n",
    "\n",
    "Para seleccionar el mejor modelo se realiza el AIC, BIC"
   ]
  },
  {
   "cell_type": "code",
   "execution_count": 36,
   "metadata": {},
   "outputs": [
    {
     "name": "stdout",
     "output_type": "stream",
     "text": [
      "\n",
      "Predictor:  1 + fem + mar + kid5 + phd + ment \n",
      "\n",
      " Object                   Family     Link -2*log-likelihood df     AIC \n",
      "  fit22      Negative Binomial I identity          3110.320  7 3124.320\n",
      "  fit33     Negative Binomial II     sqrt          3120.665  7 3134.665\n",
      "  fit42 Poisson-Inverse.Gaussian identity          3528.149  7 3542.149\n",
      "  fit12                  Poisson identity          3278.954  6 3290.954\n",
      "\n",
      "Predictor:  1 + fem + mar + kid5 + phd + ment \n",
      "\n",
      " Object                   Family     Link -2*log-likelihood df     BIC \n",
      "  fit22      Negative Binomial I identity          3110.320  7 3158.053\n",
      "  fit33     Negative Binomial II     sqrt          3120.665  7 3168.398\n",
      "  fit42 Poisson-Inverse.Gaussian identity          3528.149  7 3575.882\n",
      "  fit12                  Poisson identity          3278.954  6 3319.867\n"
     ]
    }
   ],
   "source": [
    "AIC(fit22,fit33,fit42,fit12)\n",
    "BIC(fit22,fit33,fit42,fit12)"
   ]
  },
  {
   "cell_type": "markdown",
   "metadata": {},
   "source": [
    "El mejor modelo que se ajusta a las observaciones y que corrige el problema de sobredispersion es Negative Binomial I con enlace identity, no obstante el pero modelo es el Poisson-Inverse.Gaussian identity  "
   ]
  },
  {
   "cell_type": "code",
   "execution_count": 25,
   "metadata": {},
   "outputs": [
    {
     "name": "stderr",
     "output_type": "stream",
     "text": [
      "Warning message in log(mu * phi):\n",
      "\"Se han producido NaNs\"Warning message in log(mu * phi):\n",
      "\"Se han producido NaNs\"Warning message in log(mu * phi):\n",
      "\"Se han producido NaNs\"Warning message in log(mu * phi):\n",
      "\"Se han producido NaNs\""
     ]
    },
    {
     "name": "stdout",
     "output_type": "stream",
     "text": [
      "\n",
      "  Wald test \n",
      "\n",
      " Model 1:  art ~ fem + mar + kid5 + phd + ment \n",
      " Model 2:  art ~ fem + mar + kid5 + ment \n",
      "\n",
      "    Chi    Df   Pr(>Chi)\n",
      "  0.19131   1     0.6618\n"
     ]
    }
   ],
   "source": [
    "###################### Test de Wald ######################\n",
    "fit221 <-  overglm(art ~ fem + mar + kid5 + ment, family=\"nb1(identity)\", data=bioChemists)\n",
    "anova_glm(fit221,fit22,test=\"wald\")"
   ]
  },
  {
   "cell_type": "code",
   "execution_count": 26,
   "metadata": {},
   "outputs": [
    {
     "name": "stdout",
     "output_type": "stream",
     "text": [
      "\n",
      "  Rao's score test \n",
      "\n",
      " Model 1:  art ~ fem + mar + kid5 + phd + ment \n",
      " Model 2:  art ~ fem + mar + kid5 + ment \n",
      "\n",
      "    Chi    Df   Pr(>Chi)\n",
      "  0.19137   1     0.6618\n"
     ]
    }
   ],
   "source": [
    "###################### Test de score ######################\n",
    "anova_glm(fit221,fit22,test=\"score\")"
   ]
  },
  {
   "cell_type": "code",
   "execution_count": 27,
   "metadata": {},
   "outputs": [
    {
     "name": "stdout",
     "output_type": "stream",
     "text": [
      "\n",
      "  Likelihood-ratio test \n",
      "\n",
      " Model 1:  art ~ fem + mar + kid5 + phd + ment \n",
      " Model 2:  art ~ fem + mar + kid5 + ment \n",
      "\n",
      "    Chi    Df   Pr(>Chi)\n",
      "  0.19125   1     0.6619\n"
     ]
    }
   ],
   "source": [
    "###################### Test de razón de verosimilitudes ######################\n",
    "anova_glm(fit221,fit22,test=\"lrt\")"
   ]
  },
  {
   "cell_type": "code",
   "execution_count": 28,
   "metadata": {},
   "outputs": [
    {
     "name": "stdout",
     "output_type": "stream",
     "text": [
      "\n",
      "  Gradient test \n",
      "\n",
      " Model 1:  art ~ fem + mar + kid5 + phd + ment \n",
      " Model 2:  art ~ fem + mar + kid5 + ment \n",
      "\n",
      "   Chi    Df   Pr(>Chi)\n",
      "  0.1912   1     0.6619\n"
     ]
    }
   ],
   "source": [
    "###################### Test gradiente ######################\n",
    "anova_glm(fit221,fit22,test=\"gradient\")"
   ]
  },
  {
   "cell_type": "code",
   "execution_count": 33,
   "metadata": {},
   "outputs": [
    {
     "name": "stdout",
     "output_type": "stream",
     "text": [
      "\n",
      "Sample size:  915 \n",
      "     Family:  Negative Binomial I\n",
      "       Link:  identity\n",
      " *************************************************************\n",
      "            Estimate Std.Error  z-value   Pr(>|z|)\n",
      "(Intercept)  1.16352   0.13815  8.42244 < 2.22e-16\n",
      "femWomen    -0.29403   0.11400 -2.57922 0.00990246\n",
      "marMarried   0.25131   0.12743  1.97220 0.04858650\n",
      "kid5        -0.25123   0.07570 -3.31855 0.00090487\n",
      "ment         0.07183   0.00902  7.96428 1.6619e-15\n",
      "\n",
      "            Estimate Std.Error\n",
      "Dispersion   0.42573   0.05217\n",
      " *************************************************************\n",
      "                 -2*log-likelihood:  3110.512 \n",
      "                               AIC:  3122.512 \n",
      "                               BIC:  3151.425 \n"
     ]
    }
   ],
   "source": [
    "summary(fit221)"
   ]
  },
  {
   "cell_type": "code",
   "execution_count": 31,
   "metadata": {},
   "outputs": [
    {
     "data": {
      "image/png": "[encoded data removed]",
      "text/plain": [
       "Plot with title \"Normal Q-Q Plot\""
      ]
     },
     "metadata": {},
     "output_type": "display_data"
    }
   ],
   "source": [
    "################################# Diagnóstico del modelo seleccionado #################################\n",
    "###################### Análisis de residuos ######################\n",
    "par(mfrow=c(1,2))\n",
    "res <- residuals(fit221,plot=TRUE,type=\"quantile\",identify=1)\n",
    "qqnorm(res,pch=16)\n",
    "abline(0,1)"
   ]
  },
  {
   "cell_type": "code",
   "execution_count": 34,
   "metadata": {},
   "outputs": [
    {
     "data": {
      "image/png": "[encoded data removed]",
      "text/plain": [
       "plot without title"
      ]
     },
     "metadata": {},
     "output_type": "display_data"
    }
   ],
   "source": [
    "###################### Análisis de sensibilidad ######################\n",
    "CookDistance(fit221,plot=TRUE,out=FALSE)"
   ]
  },
  {
   "cell_type": "code",
   "execution_count": null,
   "metadata": {},
   "outputs": [],
   "source": [
    "###################### Intervalos de confianza ######################\n",
    "ci_glm(fit221)"
   ]
  },
  {
   "cell_type": "code",
   "execution_count": null,
   "metadata": {},
   "outputs": [],
   "source": []
  },
  {
   "cell_type": "code",
   "execution_count": null,
   "metadata": {},
   "outputs": [],
   "source": []
  },
  {
   "cell_type": "code",
   "execution_count": null,
   "metadata": {},
   "outputs": [],
   "source": []
  },
  {
   "cell_type": "markdown",
   "metadata": {},
   "source": [
    "## NOTA:   \n",
    "\n",
    "Para instalar librerias de R en jupyter notebooks usamos la siguiente linea \n",
    "\n",
    "* install.packages(\"ISLR\", \"/home/user/anaconda3/lib/R/library\")  no usar este comando\n",
    "* install.packages(\"sm\", \"/Users/YULY/anaconda/Lib/R/library\")\n",
    "\n",
    "Para más información verificar el siguiente enlace::\n",
    "\n",
    "https://www.pythond.com/23094/conda-como-instalar-paquetes-r-que-no-estan-disponibles-en-r-essentials.html\n",
    "\n",
    "* También puede usarse el siguiente comando desde r para instalar el entorno de r \n",
    "\n",
    "install.packages(\"CASdatasets\", \"/Users/YULY/anaconda/Lib/R/library\",repos = \"http://cas.uqam.ca/pub/R/\")\n"
   ]
  }
 ],
 "metadata": {
  "kernelspec": {
   "display_name": "R",
   "language": "R",
   "name": "ir"
  },
  "language_info": {
   "codemirror_mode": "r",
   "file_extension": ".r",
   "mimetype": "text/x-r-source",
   "name": "R",
   "pygments_lexer": "r",
   "version": "3.6.1"
  }
 },
 "nbformat": 4,
 "nbformat_minor": 2
}
