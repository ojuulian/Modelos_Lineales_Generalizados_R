{
 "cells": [
  {
   "cell_type": "markdown",
   "metadata": {},
   "source": [
    "<img src=\"./unal.png\" align=left width=\"150\" height=\"150\"></img>\n",
    "\n",
    "$\\;$\n",
    "\n",
    "---\n",
    "<h2 align=\"center\">Modelo con Sobredispersion Binomial (Germinación de la semilla de Orobanche)</h2>\n",
    "\n",
    "\n",
    "### Oscar Julian Layton\n",
    "\n",
    "Orobanche es un género de plantas parásitas sin clorofila que crecen en las raíces de las plantas con flores. En el curso de la investigación de los factores que afectan la germinación de la semilla de la especie Orobanche aegyptiaca, un lote de semillas se cepilló sobre una placa que contiene una dilución 1/125 de un extracto preparado a partir de las raíces de frijol o pepino. Se registró la cantidad de semillas que germinaron. Los resultados de los experimentos corresponden a dos variedades de Orobanche aegyptiaca, concretamente, O. aegyptiaca 75 y O. aegyptiaca 73.\n",
    "\n",
    "* **specie:** (aegyptiaca75\t, aegyptiaca73)\n",
    "* **extract:** variedades de Orobanche (Cucumber, Bean) (pepino,frijol)\n",
    "* **germinated:** Numero de semillas germinadas.\n",
    "* **seeds:** Número de semillas colocadas\n",
    "\n",
    "No obstante la variable de respuesta es la proporción GERMINATED/SEEDS"
   ]
  },
  {
   "cell_type": "code",
   "execution_count": 8,
   "metadata": {},
   "outputs": [],
   "source": [
    "rm(list=ls())\n",
    "setwd(\"\")  #Asignando capeta busqueda por default\n",
    "library(sqldf)\n",
    "library(numDeriv)\n",
    "library(Rfast)\n",
    "source(\"macros.txt\")\n",
    "source(\"test.txt\")"
   ]
  },
  {
   "cell_type": "code",
   "execution_count": 9,
   "metadata": {},
   "outputs": [
    {
     "name": "stdout",
     "output_type": "stream",
     "text": [
      "'data.frame':\t21 obs. of  4 variables:\n",
      " $ specie    : Factor w/ 2 levels \"aegyptiaca73\",..: 2 2 2 2 2 2 2 2 2 2 ...\n",
      " $ extract   : Factor w/ 2 levels \"Bean\",\"Cucumber\": 1 1 1 1 1 2 2 2 2 2 ...\n",
      " $ germinated: int  10 23 23 26 17 5 53 55 32 46 ...\n",
      " $ seeds     : int  39 62 81 51 39 6 74 72 51 79 ...\n"
     ]
    },
    {
     "data": {
      "text/html": [
       "<table>\n",
       "<thead><tr><th scope=col>specie</th><th scope=col>extract</th><th scope=col>germinated</th><th scope=col>seeds</th></tr></thead>\n",
       "<tbody>\n",
       "\t<tr><td>aegyptiaca75</td><td>Bean        </td><td>10          </td><td>39          </td></tr>\n",
       "\t<tr><td>aegyptiaca75</td><td>Bean        </td><td>23          </td><td>62          </td></tr>\n",
       "\t<tr><td>aegyptiaca75</td><td>Bean        </td><td>23          </td><td>81          </td></tr>\n",
       "\t<tr><td>aegyptiaca75</td><td>Bean        </td><td>26          </td><td>51          </td></tr>\n",
       "\t<tr><td>aegyptiaca75</td><td>Bean        </td><td>17          </td><td>39          </td></tr>\n",
       "\t<tr><td>aegyptiaca75</td><td>Cucumber    </td><td> 5          </td><td> 6          </td></tr>\n",
       "</tbody>\n",
       "</table>\n"
      ],
      "text/latex": [
       "\\begin{tabular}{r|llll}\n",
       " specie & extract & germinated & seeds\\\\\n",
       "\\hline\n",
       "\t aegyptiaca75 & Bean         & 10           & 39          \\\\\n",
       "\t aegyptiaca75 & Bean         & 23           & 62          \\\\\n",
       "\t aegyptiaca75 & Bean         & 23           & 81          \\\\\n",
       "\t aegyptiaca75 & Bean         & 26           & 51          \\\\\n",
       "\t aegyptiaca75 & Bean         & 17           & 39          \\\\\n",
       "\t aegyptiaca75 & Cucumber     &  5           &  6          \\\\\n",
       "\\end{tabular}\n"
      ],
      "text/markdown": [
       "\n",
       "| specie | extract | germinated | seeds |\n",
       "|---|---|---|---|\n",
       "| aegyptiaca75 | Bean         | 10           | 39           |\n",
       "| aegyptiaca75 | Bean         | 23           | 62           |\n",
       "| aegyptiaca75 | Bean         | 23           | 81           |\n",
       "| aegyptiaca75 | Bean         | 26           | 51           |\n",
       "| aegyptiaca75 | Bean         | 17           | 39           |\n",
       "| aegyptiaca75 | Cucumber     |  5           |  6           |\n",
       "\n"
      ],
      "text/plain": [
       "  specie       extract  germinated seeds\n",
       "1 aegyptiaca75 Bean     10         39   \n",
       "2 aegyptiaca75 Bean     23         62   \n",
       "3 aegyptiaca75 Bean     23         81   \n",
       "4 aegyptiaca75 Bean     26         51   \n",
       "5 aegyptiaca75 Bean     17         39   \n",
       "6 aegyptiaca75 Cucumber  5          6   "
      ]
     },
     "metadata": {},
     "output_type": "display_data"
    }
   ],
   "source": [
    "###################### Lectura de los datos ######################\n",
    "orobanche <- read.table(\"orobanche.txt\",header=TRUE)\n",
    "str(orobanche)\n",
    "head(orobanche)"
   ]
  },
  {
   "cell_type": "markdown",
   "metadata": {},
   "source": [
    "Considerando que el modelo es binomial, entonces la respuesta es la proporción germinated/seeds, los pesos weights=seeds es el número de semillas"
   ]
  },
  {
   "cell_type": "code",
   "execution_count": 10,
   "metadata": {},
   "outputs": [],
   "source": [
    "###################### Estimación del modelo ######################\n",
    "fit11 <- glm(germinated/seeds ~ specie + extract, weights=seeds, family=binomial(link=\"logit\"), data=orobanche)\n",
    "fit12 <- glm(germinated/seeds ~ specie + extract, weights=seeds, family=binomial(link=\"probit\"), data=orobanche)\n",
    "fit13 <- glm(germinated/seeds ~ specie + extract, weights=seeds, family=binomial(link=\"cloglog\"), data=orobanche)\n"
   ]
  },
  {
   "cell_type": "code",
   "execution_count": 11,
   "metadata": {},
   "outputs": [
    {
     "data": {
      "text/html": [
       "<table>\n",
       "<thead><tr><th></th><th scope=col>df</th><th scope=col>AIC</th></tr></thead>\n",
       "<tbody>\n",
       "\t<tr><th scope=row>fit11</th><td>3       </td><td>122.2821</td></tr>\n",
       "\t<tr><th scope=row>fit12</th><td>3       </td><td>122.2978</td></tr>\n",
       "\t<tr><th scope=row>fit13</th><td>3       </td><td>121.2496</td></tr>\n",
       "</tbody>\n",
       "</table>\n"
      ],
      "text/latex": [
       "\\begin{tabular}{r|ll}\n",
       "  & df & AIC\\\\\n",
       "\\hline\n",
       "\tfit11 & 3        & 122.2821\\\\\n",
       "\tfit12 & 3        & 122.2978\\\\\n",
       "\tfit13 & 3        & 121.2496\\\\\n",
       "\\end{tabular}\n"
      ],
      "text/markdown": [
       "\n",
       "| <!--/--> | df | AIC |\n",
       "|---|---|---|\n",
       "| fit11 | 3        | 122.2821 |\n",
       "| fit12 | 3        | 122.2978 |\n",
       "| fit13 | 3        | 121.2496 |\n",
       "\n"
      ],
      "text/plain": [
       "      df AIC     \n",
       "fit11 3  122.2821\n",
       "fit12 3  122.2978\n",
       "fit13 3  121.2496"
      ]
     },
     "metadata": {},
     "output_type": "display_data"
    },
    {
     "data": {
      "text/html": [
       "<table>\n",
       "<thead><tr><th></th><th scope=col>df</th><th scope=col>BIC</th></tr></thead>\n",
       "<tbody>\n",
       "\t<tr><th scope=row>fit11</th><td>3       </td><td>125.4157</td></tr>\n",
       "\t<tr><th scope=row>fit12</th><td>3       </td><td>125.4313</td></tr>\n",
       "\t<tr><th scope=row>fit13</th><td>3       </td><td>124.3831</td></tr>\n",
       "</tbody>\n",
       "</table>\n"
      ],
      "text/latex": [
       "\\begin{tabular}{r|ll}\n",
       "  & df & BIC\\\\\n",
       "\\hline\n",
       "\tfit11 & 3        & 125.4157\\\\\n",
       "\tfit12 & 3        & 125.4313\\\\\n",
       "\tfit13 & 3        & 124.3831\\\\\n",
       "\\end{tabular}\n"
      ],
      "text/markdown": [
       "\n",
       "| <!--/--> | df | BIC |\n",
       "|---|---|---|\n",
       "| fit11 | 3        | 125.4157 |\n",
       "| fit12 | 3        | 125.4313 |\n",
       "| fit13 | 3        | 124.3831 |\n",
       "\n"
      ],
      "text/plain": [
       "      df BIC     \n",
       "fit11 3  125.4157\n",
       "fit12 3  125.4313\n",
       "fit13 3  124.3831"
      ]
     },
     "metadata": {},
     "output_type": "display_data"
    }
   ],
   "source": [
    "###################### Valores del AIC y BIC ######################\n",
    "AIC(fit11,fit12,fit13)\n",
    "BIC(fit11,fit12,fit13)"
   ]
  },
  {
   "cell_type": "markdown",
   "metadata": {},
   "source": [
    "Aquí el mejor modelo en terminos de AIC, BIC es Binomial con función de enlace cloglog"
   ]
  },
  {
   "cell_type": "code",
   "execution_count": 26,
   "metadata": {},
   "outputs": [
    {
     "data": {
      "text/plain": [
       "\n",
       "Call:\n",
       "glm(formula = germinated/seeds ~ specie + extract, family = binomial(link = \"cloglog\"), \n",
       "    data = orobanche, weights = seeds)\n",
       "\n",
       "Deviance Residuals: \n",
       "    Min       1Q   Median       3Q      Max  \n",
       "-2.3206  -0.8813  -0.3608   0.9501   2.4933  \n",
       "\n",
       "Coefficients:\n",
       "                   Estimate Std. Error z value Pr(>|z|)    \n",
       "(Intercept)         -0.9130     0.1150  -7.936 2.08e-15 ***\n",
       "specieaegyptiaca75   0.2192     0.1100   1.992   0.0464 *  \n",
       "extractCucumber      0.7707     0.1042   7.398 1.38e-13 ***\n",
       "---\n",
       "Signif. codes:  0 '***' 0.001 '**' 0.01 '*' 0.05 '.' 0.1 ' ' 1\n",
       "\n",
       "(Dispersion parameter for binomial family taken to be 1)\n",
       "\n",
       "    Null deviance: 98.719  on 20  degrees of freedom\n",
       "Residual deviance: 38.653  on 18  degrees of freedom\n",
       "AIC: 121.25\n",
       "\n",
       "Number of Fisher Scoring iterations: 4\n"
      ]
     },
     "metadata": {},
     "output_type": "display_data"
    },
    {
     "name": "stdout",
     "output_type": "stream",
     "text": [
      "\n",
      "  Family:  binomial \n",
      "    Link:  cloglog \n",
      "                                                    Df    Value\n",
      "Residual deviance                                   18  38.6533\n",
      "Pearson's statistic                                 18  37.3293\n",
      "Adjusted R-squared based on the residual deviance        0.5649\n",
      "Adjusted R-squared based on the Pearson's statistic      0.5579\n",
      "-2*log-Likelihood                                      115.2496\n",
      "AIC                                                    121.2496\n",
      "BIC                                                    124.3831\n",
      "\n",
      "\n"
     ]
    }
   ],
   "source": [
    "###################### Resumen del modelo seleccionado ######################\n",
    "summary(fit13)\n",
    "gof_glm(fit13)"
   ]
  },
  {
   "cell_type": "markdown",
   "metadata": {},
   "source": [
    "Conocemos que en el caso de la Binomial el $\\phi$ es conocido y es 1. No obstante para conocer $\\phi$ estimamos mediante:\n",
    "\n",
    "$$\\widehat{\\phi}= \\frac{D(y; \\widehat{\\mu})}{n-p}$$\n"
   ]
  },
  {
   "cell_type": "code",
   "execution_count": 25,
   "metadata": {},
   "outputs": [
    {
     "data": {
      "text/html": [
       "2.14740555555556"
      ],
      "text/latex": [
       "2.14740555555556"
      ],
      "text/markdown": [
       "2.14740555555556"
      ],
      "text/plain": [
       "[1] 2.147406"
      ]
     },
     "metadata": {},
     "output_type": "display_data"
    }
   ],
   "source": [
    "38.6533/18"
   ]
  },
  {
   "cell_type": "markdown",
   "metadata": {},
   "source": [
    "Se puede ver que la estimación de $\\phi$ se encuentra muy lejos de 1, se esperaria que fuera muy cercano pero es mas del doble. Esto es un indicio a sobredispersión. Al igual como se especifica en el envelope, residuos positivos con tendencia a ser más positivos saliéndose de las bandas. Así mimso residuos negativos con tendencia a ser más negativos y saliéndose de las bandas."
   ]
  },
  {
   "cell_type": "code",
   "execution_count": 27,
   "metadata": {},
   "outputs": [
    {
     "name": "stdout",
     "output_type": "stream",
     "text": [
      "  |++++++++++++++++++++++++++++++++++++++++++++++++++| 100%\n"
     ]
    },
    {
     "data": {
      "image/png": "[encoded data removed]",
      "text/plain": [
       "Plot with title \" \""
      ]
     },
     "metadata": {},
     "output_type": "display_data"
    }
   ],
   "source": [
    "envelope_glm(fit13,rep=100)"
   ]
  },
  {
   "cell_type": "markdown",
   "metadata": {},
   "source": [
    "## Otra forma de atacar el problema BetaBinomial\n",
    "\n",
    "En este tipo de modelo los pesos (weigths) no significa lo mismo que los $m_k$ y es necesario colocarlo en términos de éxitos y fracasos "
   ]
  },
  {
   "cell_type": "code",
   "execution_count": 14,
   "metadata": {},
   "outputs": [
    {
     "name": "stdout",
     "output_type": "stream",
     "text": [
      "\n",
      "\n",
      "  Family:  Beta-Binomial \n",
      "Predictor:  1 + specie + extract \n",
      "\n",
      " Object    Link -2*log-likelihood df     AIC \n",
      "  fit21   logit          111.6637  4 119.6637\n",
      "  fit22  probit          111.6807  4 119.6807\n",
      "  fit23 cloglog          110.9556  4 118.9556\n",
      "\n",
      "\n",
      "  Family:  Beta-Binomial \n",
      "Predictor:  1 + specie + extract \n",
      "\n",
      " Object    Link -2*log-likelihood df     BIC \n",
      "  fit21   logit          111.6637  4 123.8418\n",
      "  fit22  probit          111.6807  4 123.8588\n",
      "  fit23 cloglog          110.9556  4 123.1337\n"
     ]
    }
   ],
   "source": [
    "###################### Estimación del modelo ######################\n",
    "fit21 <- overglm(cbind(germinated,seeds-germinated) ~ specie + extract, family=\"bb(logit)\",data=orobanche)#cbin paraconcatenar\n",
    "fit22 <- overglm(cbind(germinated,seeds-germinated) ~ specie + extract, family=\"bb(probit)\", data=orobanche)\n",
    "fit23 <- overglm(cbind(germinated,seeds-germinated) ~ specie + extract, family=\"bb(cloglog)\", data=orobanche)\n",
    "AIC(fit21,fit22,fit23)\n",
    "BIC(fit21,fit22,fit23)"
   ]
  },
  {
   "cell_type": "markdown",
   "metadata": {},
   "source": [
    "En este tipo de modelo, al identificar el AIC, BIC se logra determinar que el mejor modelo es el Beta-Binomial con función enlace cloglog. Por consiguiente se procede a comparar el complemento log-log de la binomial y la Beta-Binomial: "
   ]
  },
  {
   "cell_type": "code",
   "execution_count": 30,
   "metadata": {},
   "outputs": [
    {
     "name": "stdout",
     "output_type": "stream",
     "text": [
      "\n",
      "     Link:  cloglog \n",
      "Predictor:  1 + specie + extract \n",
      "\n",
      " Object        Family -2*log-likelihood df     AIC \n",
      "  fit23 Beta-Binomial          110.9556  4 118.9556\n",
      "  fit13      Binomial          115.2496  3 121.2496\n",
      "\n",
      "     Link:  cloglog \n",
      "Predictor:  1 + specie + extract \n",
      "\n",
      " Object        Family -2*log-likelihood df     BIC \n",
      "  fit23 Beta-Binomial          110.9556  4 123.1337\n",
      "  fit13      Binomial          115.2496  3 124.3831\n"
     ]
    }
   ],
   "source": [
    "AIC(fit23,fit13)\n",
    "BIC(fit23,fit13)"
   ]
  },
  {
   "cell_type": "markdown",
   "metadata": {},
   "source": [
    "Observando lo descrito en lña anterior línea se puede establecer que el mejor modelo en tperminos de AIC, BIC y que mejor describe el problema de la sobredispersión es la Beta-Binomila con función de enlace cloglog."
   ]
  },
  {
   "cell_type": "code",
   "execution_count": 32,
   "metadata": {},
   "outputs": [
    {
     "name": "stdout",
     "output_type": "stream",
     "text": [
      "\n",
      "Sample size:  21 \n",
      "     Family:  Beta-Binomial\n",
      "       Link:  cloglog\n",
      " *************************************************************\n",
      "                   Estimate Std.Error  z-value   Pr(>|z|)\n",
      "(Intercept)        -0.93241   0.15328 -6.08322 1.1779e-09\n",
      "specieaegyptiaca75  0.26967   0.14888  1.81128   0.070097\n",
      "extractCucumber     0.73943   0.14422  5.12701 2.9437e-07\n",
      "\n",
      "                   Estimate Std.Error\n",
      "Dispersion          0.01863   0.01422\n",
      " *************************************************************\n",
      "                 -2*log-likelihood:  110.956 \n",
      "                               AIC:  118.956 \n",
      "                               BIC:  123.134 \n"
     ]
    }
   ],
   "source": [
    "summary(fit23)"
   ]
  },
  {
   "cell_type": "markdown",
   "metadata": {},
   "source": [
    "Comparando con los parámetros del Binomial con respecto al Beta-Binomial, se logra observar que los parámetros no cambian tanto sin embargo son menores. en cuanto a los errores estandar de la Binomial son: (0.1150 - 0.1100  -0.1042) es decir que se estaban subestimando.\n",
    "\n",
    "---\n",
    "\n",
    "## Inferencia con respecto al modelo "
   ]
  },
  {
   "cell_type": "code",
   "execution_count": 16,
   "metadata": {},
   "outputs": [
    {
     "name": "stdout",
     "output_type": "stream",
     "text": [
      "\n",
      "  Wald test \n",
      "\n",
      " Model 1:  cbind(germinated, seeds - germinated) ~ specie + extract \n",
      " Model 2:  cbind(germinated, seeds - germinated) ~ extract \n",
      "\n",
      "   Chi    Df   Pr(>Chi)\n",
      "  2.6439   1     0.1039\n"
     ]
    }
   ],
   "source": [
    "###################### Test de Wald ######################\n",
    "fit211 <- overglm(cbind(germinated,seeds-germinated) ~ extract, family=\"bb(cloglog)\", data=orobanche)\n",
    "anova_glm(fit211,fit21,test=\"wald\")"
   ]
  },
  {
   "cell_type": "code",
   "execution_count": 17,
   "metadata": {},
   "outputs": [
    {
     "name": "stdout",
     "output_type": "stream",
     "text": [
      "\n",
      "  Rao's score test \n",
      "\n",
      " Model 1:  cbind(germinated, seeds - germinated) ~ specie + extract \n",
      " Model 2:  cbind(germinated, seeds - germinated) ~ extract \n",
      "\n",
      "   Chi    Df   Pr(>Chi)    \n",
      "  34.463   1  4.344e-09 ***\n"
     ]
    }
   ],
   "source": [
    "###################### Test de score ######################\n",
    "anova_glm(fit211,fit21,test=\"score\")"
   ]
  },
  {
   "cell_type": "code",
   "execution_count": 18,
   "metadata": {},
   "outputs": [
    {
     "name": "stdout",
     "output_type": "stream",
     "text": [
      "\n",
      "  Likelihood-ratio test \n",
      "\n",
      " Model 1:  cbind(germinated, seeds - germinated) ~ specie + extract \n",
      " Model 2:  cbind(germinated, seeds - germinated) ~ extract \n",
      "\n",
      "   Chi    Df   Pr(>Chi)  \n",
      "  2.7283   1    0.09858 .\n"
     ]
    }
   ],
   "source": [
    "###################### Test de razón de verosimilitudes ######################\n",
    "anova_glm(fit211,fit21,test=\"lrt\")\n"
   ]
  },
  {
   "cell_type": "code",
   "execution_count": 19,
   "metadata": {},
   "outputs": [
    {
     "name": "stdout",
     "output_type": "stream",
     "text": [
      "\n",
      "  Gradient test \n",
      "\n",
      " Model 1:  cbind(germinated, seeds - germinated) ~ specie + extract \n",
      " Model 2:  cbind(germinated, seeds - germinated) ~ extract \n",
      "\n",
      "   Chi    Df   Pr(>Chi)   \n",
      "  10.697   1   0.001073 **\n"
     ]
    }
   ],
   "source": [
    "###################### Test gradiente ######################\n",
    "anova_glm(fit211,fit21,test=\"gradient\")"
   ]
  },
  {
   "cell_type": "code",
   "execution_count": 20,
   "metadata": {},
   "outputs": [
    {
     "name": "stdout",
     "output_type": "stream",
     "text": [
      "\n",
      "Sample size:  21 \n",
      "     Family:  Beta-Binomial\n",
      "       Link:  cloglog\n",
      " *************************************************************\n",
      "                Estimate Std.Error  z-value   Pr(>|z|)\n",
      "(Intercept)     -0.75158   0.11630 -6.46247 1.0300e-10\n",
      "extractCucumber  0.71909   0.14868  4.83654 1.3212e-06\n",
      "\n",
      "                Estimate Std.Error\n",
      "Dispersion       0.02178   0.01606\n",
      " *************************************************************\n",
      "                 -2*log-likelihood:  114.392 \n",
      "                               AIC:  120.392 \n",
      "                               BIC:  123.526 \n"
     ]
    }
   ],
   "source": [
    "summary(fit211)"
   ]
  },
  {
   "cell_type": "code",
   "execution_count": 21,
   "metadata": {},
   "outputs": [
    {
     "data": {
      "image/png": "[encoded data removed]",
      "text/plain": [
       "Plot with title \"Normal Q-Q Plot\""
      ]
     },
     "metadata": {},
     "output_type": "display_data"
    }
   ],
   "source": [
    "################################# Diagnóstico del modelo seleccionado #################################\n",
    "###################### Análisis de residuos ######################\n",
    "par(mfrow=c(1,2))\n",
    "res <- residuals(fit211,plot=TRUE,type=\"quantile\",identify=1)\n",
    "qqnorm(res,pch=16)\n",
    "abline(0,1)\n"
   ]
  },
  {
   "cell_type": "code",
   "execution_count": 22,
   "metadata": {},
   "outputs": [
    {
     "data": {
      "image/png": "[encoded data removed]",
      "text/plain": [
       "plot without title"
      ]
     },
     "metadata": {},
     "output_type": "display_data"
    }
   ],
   "source": [
    "###################### Análisis de sensibilidad ######################\n",
    "CookDistance(fit211,plot=TRUE,out=FALSE,identify=2)"
   ]
  },
  {
   "cell_type": "code",
   "execution_count": 23,
   "metadata": {},
   "outputs": [
    {
     "name": "stdout",
     "output_type": "stream",
     "text": [
      "\n",
      " Approximate 95 percent confidence intervals based on the Wald test \n",
      "\n",
      "                Lower limit Upper limit\n",
      "(Intercept)      -0.9795193     -0.5236\n",
      "extractCucumber   0.4276824      1.0105\n",
      "Dispersion        0.0051347      0.0924\n"
     ]
    }
   ],
   "source": [
    "###################### Intervalos de confianza ######################\n",
    "ci_glm(fit211)\t"
   ]
  }
 ],
 "metadata": {
  "kernelspec": {
   "display_name": "R",
   "language": "R",
   "name": "ir"
  },
  "language_info": {
   "codemirror_mode": "r",
   "file_extension": ".r",
   "mimetype": "text/x-r-source",
   "name": "R",
   "pygments_lexer": "r",
   "version": "3.6.1"
  }
 },
 "nbformat": 4,
 "nbformat_minor": 2
}
