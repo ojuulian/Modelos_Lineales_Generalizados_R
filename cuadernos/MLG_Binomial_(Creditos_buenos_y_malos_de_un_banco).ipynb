{
 "cells": [
  {
   "cell_type": "markdown",
   "metadata": {},
   "source": [
    "<img src=\"./unal.png\" align=left width=\"150\" height=\"150\"></img>\n",
    "\n",
    "$\\;$\n",
    "\n",
    "---\n",
    "<h2 align=\"center\">MLG Banco (Estudio de creditos buenos)</h2>\n",
    "\n",
    "### Oscar Julian Layton\n",
    "\n",
    "Estos datos, analizados por Charpentier (2015, página 166) y disponibles en el objeto credit del paquete CASdatasets de R, corresponden a la información de 1000 créditos bancarios, en que los créditos considerados “buenos” y “malos” se identifican como class = 0 y class = 1, respectivamente. El objetivo del análisis es estimar la probabilidad que un crédito sea\n",
    "“bueno” a partir de algunas características del crédito como: \n",
    "\n",
    "* **duration**: Duración, en meses \n",
    "* **purpose**: Objetivo.\n",
    "* **credit.amount**: Valor, en marcos alemanes.\n",
    "\n",
    " Y algunas características como:\n",
    " \n",
    " \n",
    "* **credit.history**:  historial crediticio\n",
    "* **age**: año\n",
    "* **employment**: tiempo en su empleo actual\n",
    "* **personal.status**: estado civil y su género\n",
    "* **job**: tipo de trabajo\n",
    "* **housing**: tipo de alojamiento\n",
    "\n"
   ]
  },
  {
   "cell_type": "code",
   "execution_count": 38,
   "metadata": {},
   "outputs": [
    {
     "data": {
      "text/html": [
       "<table>\n",
       "<thead><tr><th scope=col>checking_status</th><th scope=col>duration</th><th scope=col>credit_history</th><th scope=col>purpose</th><th scope=col>credit_amount</th><th scope=col>savings</th><th scope=col>employment</th><th scope=col>installment_rate</th><th scope=col>personal_status</th><th scope=col>other_parties</th><th scope=col>...</th><th scope=col>property_magnitude</th><th scope=col>age</th><th scope=col>other_payment_plans</th><th scope=col>housing</th><th scope=col>existing_credits</th><th scope=col>job</th><th scope=col>num_dependents</th><th scope=col>telephone</th><th scope=col>foreign_worker</th><th scope=col>class</th></tr></thead>\n",
       "<tbody>\n",
       "\t<tr><td>A11 </td><td> 6  </td><td>A34 </td><td>A43 </td><td>1169</td><td>A65 </td><td>A75 </td><td>4   </td><td>A93 </td><td>A101</td><td>... </td><td>A121</td><td>67  </td><td>A143</td><td>A152</td><td>2   </td><td>A173</td><td>1   </td><td>A192</td><td>A201</td><td>0   </td></tr>\n",
       "\t<tr><td>A12 </td><td>48  </td><td>A32 </td><td>A43 </td><td>5951</td><td>A61 </td><td>A73 </td><td>2   </td><td>A92 </td><td>A101</td><td>... </td><td>A121</td><td>22  </td><td>A143</td><td>A152</td><td>1   </td><td>A173</td><td>1   </td><td>A191</td><td>A201</td><td>1   </td></tr>\n",
       "\t<tr><td>A14 </td><td>12  </td><td>A34 </td><td>A46 </td><td>2096</td><td>A61 </td><td>A74 </td><td>2   </td><td>A93 </td><td>A101</td><td>... </td><td>A121</td><td>49  </td><td>A143</td><td>A152</td><td>1   </td><td>A172</td><td>2   </td><td>A191</td><td>A201</td><td>0   </td></tr>\n",
       "\t<tr><td>A11 </td><td>42  </td><td>A32 </td><td>A42 </td><td>7882</td><td>A61 </td><td>A74 </td><td>2   </td><td>A93 </td><td>A103</td><td>... </td><td>A122</td><td>45  </td><td>A143</td><td>A153</td><td>1   </td><td>A173</td><td>2   </td><td>A191</td><td>A201</td><td>0   </td></tr>\n",
       "\t<tr><td>A11 </td><td>24  </td><td>A33 </td><td>A40 </td><td>4870</td><td>A61 </td><td>A73 </td><td>3   </td><td>A93 </td><td>A101</td><td>... </td><td>A124</td><td>53  </td><td>A143</td><td>A153</td><td>2   </td><td>A173</td><td>2   </td><td>A191</td><td>A201</td><td>1   </td></tr>\n",
       "\t<tr><td>A14 </td><td>36  </td><td>A32 </td><td>A46 </td><td>9055</td><td>A65 </td><td>A73 </td><td>2   </td><td>A93 </td><td>A101</td><td>... </td><td>A124</td><td>35  </td><td>A143</td><td>A153</td><td>1   </td><td>A172</td><td>2   </td><td>A192</td><td>A201</td><td>0   </td></tr>\n",
       "\t<tr><td>A14 </td><td>24  </td><td>A32 </td><td>A42 </td><td>2835</td><td>A63 </td><td>A75 </td><td>3   </td><td>A93 </td><td>A101</td><td>... </td><td>A122</td><td>53  </td><td>A143</td><td>A152</td><td>1   </td><td>A173</td><td>1   </td><td>A191</td><td>A201</td><td>0   </td></tr>\n",
       "\t<tr><td>A12 </td><td>36  </td><td>A32 </td><td>A41 </td><td>6948</td><td>A61 </td><td>A73 </td><td>2   </td><td>A93 </td><td>A101</td><td>... </td><td>A123</td><td>35  </td><td>A143</td><td>A151</td><td>1   </td><td>A174</td><td>1   </td><td>A192</td><td>A201</td><td>0   </td></tr>\n",
       "</tbody>\n",
       "</table>\n"
      ],
      "text/latex": [
       "\\begin{tabular}{r|lllllllllllllllllllll}\n",
       " checking\\_status & duration & credit\\_history & purpose & credit\\_amount & savings & employment & installment\\_rate & personal\\_status & other\\_parties & ... & property\\_magnitude & age & other\\_payment\\_plans & housing & existing\\_credits & job & num\\_dependents & telephone & foreign\\_worker & class\\\\\n",
       "\\hline\n",
       "\t A11  &  6   & A34  & A43  & 1169 & A65  & A75  & 4    & A93  & A101 & ...  & A121 & 67   & A143 & A152 & 2    & A173 & 1    & A192 & A201 & 0   \\\\\n",
       "\t A12  & 48   & A32  & A43  & 5951 & A61  & A73  & 2    & A92  & A101 & ...  & A121 & 22   & A143 & A152 & 1    & A173 & 1    & A191 & A201 & 1   \\\\\n",
       "\t A14  & 12   & A34  & A46  & 2096 & A61  & A74  & 2    & A93  & A101 & ...  & A121 & 49   & A143 & A152 & 1    & A172 & 2    & A191 & A201 & 0   \\\\\n",
       "\t A11  & 42   & A32  & A42  & 7882 & A61  & A74  & 2    & A93  & A103 & ...  & A122 & 45   & A143 & A153 & 1    & A173 & 2    & A191 & A201 & 0   \\\\\n",
       "\t A11  & 24   & A33  & A40  & 4870 & A61  & A73  & 3    & A93  & A101 & ...  & A124 & 53   & A143 & A153 & 2    & A173 & 2    & A191 & A201 & 1   \\\\\n",
       "\t A14  & 36   & A32  & A46  & 9055 & A65  & A73  & 2    & A93  & A101 & ...  & A124 & 35   & A143 & A153 & 1    & A172 & 2    & A192 & A201 & 0   \\\\\n",
       "\t A14  & 24   & A32  & A42  & 2835 & A63  & A75  & 3    & A93  & A101 & ...  & A122 & 53   & A143 & A152 & 1    & A173 & 1    & A191 & A201 & 0   \\\\\n",
       "\t A12  & 36   & A32  & A41  & 6948 & A61  & A73  & 2    & A93  & A101 & ...  & A123 & 35   & A143 & A151 & 1    & A174 & 1    & A192 & A201 & 0   \\\\\n",
       "\\end{tabular}\n"
      ],
      "text/markdown": [
       "\n",
       "| checking_status | duration | credit_history | purpose | credit_amount | savings | employment | installment_rate | personal_status | other_parties | ... | property_magnitude | age | other_payment_plans | housing | existing_credits | job | num_dependents | telephone | foreign_worker | class |\n",
       "|---|---|---|---|---|---|---|---|---|---|---|---|---|---|---|---|---|---|---|---|---|\n",
       "| A11  |  6   | A34  | A43  | 1169 | A65  | A75  | 4    | A93  | A101 | ...  | A121 | 67   | A143 | A152 | 2    | A173 | 1    | A192 | A201 | 0    |\n",
       "| A12  | 48   | A32  | A43  | 5951 | A61  | A73  | 2    | A92  | A101 | ...  | A121 | 22   | A143 | A152 | 1    | A173 | 1    | A191 | A201 | 1    |\n",
       "| A14  | 12   | A34  | A46  | 2096 | A61  | A74  | 2    | A93  | A101 | ...  | A121 | 49   | A143 | A152 | 1    | A172 | 2    | A191 | A201 | 0    |\n",
       "| A11  | 42   | A32  | A42  | 7882 | A61  | A74  | 2    | A93  | A103 | ...  | A122 | 45   | A143 | A153 | 1    | A173 | 2    | A191 | A201 | 0    |\n",
       "| A11  | 24   | A33  | A40  | 4870 | A61  | A73  | 3    | A93  | A101 | ...  | A124 | 53   | A143 | A153 | 2    | A173 | 2    | A191 | A201 | 1    |\n",
       "| A14  | 36   | A32  | A46  | 9055 | A65  | A73  | 2    | A93  | A101 | ...  | A124 | 35   | A143 | A153 | 1    | A172 | 2    | A192 | A201 | 0    |\n",
       "| A14  | 24   | A32  | A42  | 2835 | A63  | A75  | 3    | A93  | A101 | ...  | A122 | 53   | A143 | A152 | 1    | A173 | 1    | A191 | A201 | 0    |\n",
       "| A12  | 36   | A32  | A41  | 6948 | A61  | A73  | 2    | A93  | A101 | ...  | A123 | 35   | A143 | A151 | 1    | A174 | 1    | A192 | A201 | 0    |\n",
       "\n"
      ],
      "text/plain": [
       "  checking_status duration credit_history purpose credit_amount savings\n",
       "1 A11              6       A34            A43     1169          A65    \n",
       "2 A12             48       A32            A43     5951          A61    \n",
       "3 A14             12       A34            A46     2096          A61    \n",
       "4 A11             42       A32            A42     7882          A61    \n",
       "5 A11             24       A33            A40     4870          A61    \n",
       "6 A14             36       A32            A46     9055          A65    \n",
       "7 A14             24       A32            A42     2835          A63    \n",
       "8 A12             36       A32            A41     6948          A61    \n",
       "  employment installment_rate personal_status other_parties ...\n",
       "1 A75        4                A93             A101          ...\n",
       "2 A73        2                A92             A101          ...\n",
       "3 A74        2                A93             A101          ...\n",
       "4 A74        2                A93             A103          ...\n",
       "5 A73        3                A93             A101          ...\n",
       "6 A73        2                A93             A101          ...\n",
       "7 A75        3                A93             A101          ...\n",
       "8 A73        2                A93             A101          ...\n",
       "  property_magnitude age other_payment_plans housing existing_credits job \n",
       "1 A121               67  A143                A152    2                A173\n",
       "2 A121               22  A143                A152    1                A173\n",
       "3 A121               49  A143                A152    1                A172\n",
       "4 A122               45  A143                A153    1                A173\n",
       "5 A124               53  A143                A153    2                A173\n",
       "6 A124               35  A143                A153    1                A172\n",
       "7 A122               53  A143                A152    1                A173\n",
       "8 A123               35  A143                A151    1                A174\n",
       "  num_dependents telephone foreign_worker class\n",
       "1 1              A192      A201           0    \n",
       "2 1              A191      A201           1    \n",
       "3 2              A191      A201           0    \n",
       "4 2              A191      A201           0    \n",
       "5 2              A191      A201           1    \n",
       "6 2              A192      A201           0    \n",
       "7 1              A191      A201           0    \n",
       "8 1              A192      A201           0    "
      ]
     },
     "metadata": {},
     "output_type": "display_data"
    },
    {
     "data": {
      "text/html": [
       "'C:/Users/YULY/Desktop/Desktop/UNAL 2018/MLGz/MLG Vanegas'"
      ],
      "text/latex": [
       "'C:/Users/YULY/Desktop/Desktop/UNAL 2018/MLGz/MLG Vanegas'"
      ],
      "text/markdown": [
       "'C:/Users/YULY/Desktop/Desktop/UNAL 2018/MLGz/MLG Vanegas'"
      ],
      "text/plain": [
       "[1] \"C:/Users/YULY/Desktop/Desktop/UNAL 2018/MLGz/MLG Vanegas\""
      ]
     },
     "metadata": {},
     "output_type": "display_data"
    }
   ],
   "source": [
    "library(CASdatasets)\n",
    "library(xts)\n",
    "library(zoo)\n",
    "library(datasets)\n",
    "library(ggplot2)\n",
    "library(cowplot)\n",
    "data(credit)\n",
    "head(credit, n=8)\n",
    "\n",
    "#rm(list=ls())\n",
    "getwd()\n",
    "setwd(\"\")  #Asignando capeta busqueda por default\n",
    "source(\"macros.txt\")           # Llamar el archivo de macros que esta en la carpeta especifica,\n",
    "                               # macros son una fuciines especificas creadas porel profesor"
   ]
  },
  {
   "cell_type": "markdown",
   "metadata": {},
   "source": [
    "La información corresponde a 1.000 créditos bancarios de los cuales 700 están clasificados como\n",
    "buenos y 300 como malos; El rango de duración de estos créditos varía entre 4 y 72 meses,\n",
    "con un promedio de 20.9 meses. Estos créditos se encuentran clasificados en 11 categorías\n",
    "según su propósito, la categoría de mayor uso corresponde a carro nuevo (A40).\n",
    "Por otra parte, el valor promedio de los créditos fue de 3271 marcos alemanes y el promedio\n",
    "de los clientes que solicitan créditos es de 33 años.\n"
   ]
  },
  {
   "cell_type": "code",
   "execution_count": 6,
   "metadata": {},
   "outputs": [
    {
     "data": {
      "image/png": "[encoded data removed]",
      "text/plain": [
       "plot without title"
      ]
     },
     "metadata": {},
     "output_type": "display_data"
    }
   ],
   "source": [
    "C <-noquote(paste0(\"A\",c(41:49, 410)))\n",
    "credit <- within(credit,{purpose <- factor(purpose, levels=C)})\n",
    "p<-ggplot(credit, aes(x = factor(class), y = duration)) + geom_boxplot(outlier.colour = \"red\") +\n",
    "labs(title = \"Distribución de la duración por tipo de credito\", x = \"Clase: 0 (malo), 1 (bueno)\", y = \"Duración en meses\")\n",
    "\n",
    "q<-ggplot(credit, aes(x = factor(class), y = credit_amount)) + geom_boxplot(outlier.colour = \"red\") +\n",
    "labs(title = \"Distribución del monto por tipo de credito\", x = \"Clase: 0 (malo), 1 (bueno)\", y = \"Monto (en marcos alemanes)\")\n",
    "\n",
    "\n",
    "plot_grid(p, q, labels = \"AUTO\")"
   ]
  },
  {
   "cell_type": "code",
   "execution_count": null,
   "metadata": {},
   "outputs": [],
   "source": []
  },
  {
   "cell_type": "code",
   "execution_count": 20,
   "metadata": {},
   "outputs": [
    {
     "data": {
      "text/html": [
       "<table>\n",
       "<thead><tr><th scope=col>checking_status</th><th scope=col>duration</th></tr></thead>\n",
       "<tbody>\n",
       "\t<tr><td>A11</td><td> 6 </td></tr>\n",
       "\t<tr><td>A12</td><td>48 </td></tr>\n",
       "\t<tr><td>A14</td><td>12 </td></tr>\n",
       "\t<tr><td>A11</td><td>42 </td></tr>\n",
       "\t<tr><td>A11</td><td>24 </td></tr>\n",
       "\t<tr><td>A14</td><td>36 </td></tr>\n",
       "</tbody>\n",
       "</table>\n"
      ],
      "text/latex": [
       "\\begin{tabular}{r|ll}\n",
       " checking\\_status & duration\\\\\n",
       "\\hline\n",
       "\t A11 &  6 \\\\\n",
       "\t A12 & 48 \\\\\n",
       "\t A14 & 12 \\\\\n",
       "\t A11 & 42 \\\\\n",
       "\t A11 & 24 \\\\\n",
       "\t A14 & 36 \\\\\n",
       "\\end{tabular}\n"
      ],
      "text/markdown": [
       "\n",
       "| checking_status | duration |\n",
       "|---|---|\n",
       "| A11 |  6  |\n",
       "| A12 | 48  |\n",
       "| A14 | 12  |\n",
       "| A11 | 42  |\n",
       "| A11 | 24  |\n",
       "| A14 | 36  |\n",
       "\n"
      ],
      "text/plain": [
       "  checking_status duration\n",
       "1 A11              6      \n",
       "2 A12             48      \n",
       "3 A14             12      \n",
       "4 A11             42      \n",
       "5 A11             24      \n",
       "6 A14             36      "
      ]
     },
     "metadata": {},
     "output_type": "display_data"
    }
   ],
   "source": [
    "require(dplyr)\n",
    "head( select(credit, checking_status,duration) )"
   ]
  },
  {
   "cell_type": "code",
   "execution_count": 21,
   "metadata": {},
   "outputs": [
    {
     "data": {
      "text/html": [
       "<table>\n",
       "<thead><tr><th scope=col>checking_status</th><th scope=col>duration</th></tr></thead>\n",
       "<tbody>\n",
       "\t<tr><td>A11</td><td> 6 </td></tr>\n",
       "\t<tr><td>A12</td><td>48 </td></tr>\n",
       "\t<tr><td>A14</td><td>12 </td></tr>\n",
       "\t<tr><td>A11</td><td>42 </td></tr>\n",
       "\t<tr><td>A11</td><td>24 </td></tr>\n",
       "\t<tr><td>A14</td><td>36 </td></tr>\n",
       "</tbody>\n",
       "</table>\n"
      ],
      "text/latex": [
       "\\begin{tabular}{r|ll}\n",
       " checking\\_status & duration\\\\\n",
       "\\hline\n",
       "\t A11 &  6 \\\\\n",
       "\t A12 & 48 \\\\\n",
       "\t A14 & 12 \\\\\n",
       "\t A11 & 42 \\\\\n",
       "\t A11 & 24 \\\\\n",
       "\t A14 & 36 \\\\\n",
       "\\end{tabular}\n"
      ],
      "text/markdown": [
       "\n",
       "| checking_status | duration |\n",
       "|---|---|\n",
       "| A11 |  6  |\n",
       "| A12 | 48  |\n",
       "| A14 | 12  |\n",
       "| A11 | 42  |\n",
       "| A11 | 24  |\n",
       "| A14 | 36  |\n",
       "\n"
      ],
      "text/plain": [
       "  checking_status duration\n",
       "1 A11              6      \n",
       "2 A12             48      \n",
       "3 A14             12      \n",
       "4 A11             42      \n",
       "5 A11             24      \n",
       "6 A14             36      "
      ]
     },
     "metadata": {},
     "output_type": "display_data"
    }
   ],
   "source": [
    "base<- credit %>% select(checking_status,duration); head( base )"
   ]
  },
  {
   "cell_type": "code",
   "execution_count": 24,
   "metadata": {},
   "outputs": [],
   "source": [
    "creditos <- credit %>% mutate(p2 = purpose) %>% select(class, duration , purpose , credit_amount , credit_history\n",
    "            , age , employment , personal_status , job ,housing) \n",
    "creditos <- creditos %>% na.omit()\n",
    "historiales <- creditos %>% select(credit_history) %>% unique()\n",
    "creditos <- creditos %>% mutate (class = as.factor(class))"
   ]
  },
  {
   "cell_type": "code",
   "execution_count": 25,
   "metadata": {},
   "outputs": [
    {
     "data": {
      "image/png": "[encoded data removed]",
      "text/plain": [
       "plot without title"
      ]
     },
     "metadata": {},
     "output_type": "display_data"
    }
   ],
   "source": [
    "p <- ggplot(data = creditos, aes(x=credit_history, y=duration)) +\n",
    "    geom_boxplot(outlier.colour = \"red\") + \n",
    "    facet_wrap( ~ personal_status, scales=\"free\") +\n",
    "    labs(title = \"Distribución de duration por historia crediticia del cliente\",\n",
    "    subtitle = \"BoxPlot de duration por personal_status (A91, A92, A93,A94)\");p\n"
   ]
  },
  {
   "cell_type": "code",
   "execution_count": 27,
   "metadata": {},
   "outputs": [
    {
     "data": {
      "image/png": "[encoded data removed]",
      "text/plain": [
       "plot without title"
      ]
     },
     "metadata": {},
     "output_type": "display_data"
    }
   ],
   "source": [
    "p <- ggplot(data = creditos, aes(x=credit_history, y=credit_amount)) +\n",
    "geom_boxplot(outlier.colour = \"red\") + facet_wrap( ~ job, scales=\"free\") + \n",
    "labs(title = \"Distribución de la credit_amount por historia crediticia del cliente\",\n",
    "subtitle = \"BoxPlot de credit_amount por job (A171, A172, A173, A174)\");p"
   ]
  },
  {
   "cell_type": "markdown",
   "metadata": {},
   "source": [
    "Finalmente, podemos decir que hay diferencias entre algunas la duración de los créditos, los montos\n",
    "y el historial crediticio dependiendo del tipo de clientes (buenos y malos)."
   ]
  },
  {
   "cell_type": "markdown",
   "metadata": {},
   "source": [
    "# Ajuste de modelos\n",
    "\n",
    "Ajuste a los datos modelos que asumen que los 1000 valores de la variable respuesta, definida\n",
    "como 1 para un crédito “bueno” y 0 para un crédito “malo”, son realizaciones de variables\n",
    "aleatorias independientes con distribución de bernoulli. Considere diferentes funciones de\n",
    "enlace (logit, probit, complemento log-log y Cauchy) y el siguiente predictor lineal: \n",
    "\n",
    "$\\eta = 1$ + $duration+purpose$+$credit.amount$+$credit.history$+$age$+$employment$+$personal.status$+$job$+$housin$\n",
    "\n",
    "Los datos se analizan suponiendo que $y_1, · · · , y_{1000}$ son realizaciones de las variables aleatrias independientes $Y_1, · · · Y_{1000}$ tales que $Y_k \\sim Bernoulli(\\mu_k)$ donde $g(.)$ es una función de enlace (logit,probit, complemento log-log o Cauchy)"
   ]
  },
  {
   "cell_type": "code",
   "execution_count": 34,
   "metadata": {},
   "outputs": [],
   "source": [
    "eta <- class ~ 1 + duration + purpose + credit_amount + credit_history+ age + employment + personal_status + job + housing\n",
    "\n",
    "fit1 <- glm(eta, data = credit, family = binomial)\n",
    "fit2 <- glm(eta, data = credit, family = binomial(link = \"probit\"))\n",
    "fit3 <- glm(eta, data = credit, family = binomial(link = \"cloglog\"))\n",
    "fit4 <- glm(eta, data = credit, family = binomial(link = \"cauchit\"))\n",
    "#step_glm(fit1, criterion = \"BIC\", direction = \"forward\")\n",
    "#step_glm(fit2, criterion = \"BIC\", direction = \"forward\")\n",
    "#step_glm(fit3, criterion = \"BIC\", direction = \"forward\")\n",
    "#step_glm(fit4, criterion = \"BIC\", direction = \"forward\")\n",
    "\n",
    "eta1 <- class ~ 1 + duration + credit_history\n",
    "fit1 <- glm(eta1, data = credit, family = binomial)\n",
    "fit2 <- glm(eta1, data = credit, family = binomial(link = probit))\n",
    "fit3 <- glm(eta1, data = credit, family = binomial(link = cloglog))\n",
    "fit4 <- glm(eta1, data = credit, family = binomial(link = cauchit))\n",
    "\n",
    "#BIC(fit1, fit2, fit3, fit4)\n",
    "#AIC(fit1, fit2, fit3, fit4)\n",
    "#gof_glm(fit1)\n",
    "# R2_D = 0.0743\n",
    "# R2_P = 0.0054\n",
    "#gof_glm(fit2)\n",
    "# R2_D = 0.0749\n",
    "# R2_P = 0.0037\n",
    "#gof_glm(fit3)\n",
    "# R2_D = 0.0708\n",
    "# R2_P = 0.0101\n",
    "#gof_glm(fit4)\n",
    "# R2_D = 0.0706\n",
    "# R2_P = 0.0141"
   ]
  },
  {
   "cell_type": "code",
   "execution_count": 39,
   "metadata": {},
   "outputs": [
    {
     "name": "stdout",
     "output_type": "stream",
     "text": [
      "  |++++++++++++++++++++++++++++++++++++++++++++++++++| 100%\n",
      "  |++++++++++++++++++++++++++++++++++++++++++++++++++| 100%\n",
      "  |++++++++++++++++++++++++++++++++++++++++++++++++++| 100%\n"
     ]
    },
    {
     "data": {
      "image/png": "[encoded data removed]",
      "text/plain": [
       "Plot with title \"Residuos de Pearson\""
      ]
     },
     "metadata": {},
     "output_type": "display_data"
    }
   ],
   "source": [
    "#Análisis Residual\n",
    "par(mfrow=c(2,3))\n",
    "residuals_glm(fit2, xlab = \"Valores estimados\")\n",
    "title(\"Residuos Cualtil\")\n",
    "residuals_glm(fit2, xlab = \"Valores estimados\", type= \"deviance\")\n",
    "title(\"Residuos c desvío\")\n",
    "residuals_glm(fit2, xlab = \"Valores estimados\", type= \"pearson\")\n",
    "title(\"Residuos de Pearson\")\n",
    "envelope_glm(fit2)\n",
    "title(\"Residuos Cualtil\")\n",
    "envelope_glm(fit2, type= \"deviance\")\n",
    "title(\"Residuos c desvío\")\n",
    "envelope_glm(fit2, type= \"pearson\")\n",
    "title(\"Residuos de Pearson\")\n"
   ]
  },
  {
   "cell_type": "markdown",
   "metadata": {},
   "source": [
    "Haciendo uso de la distancia de cook, tenemos que para el modelo ajustado fit2, los posible valores\n",
    "influyentes corresponden a los indices 18, 79, 146, 226, 273, 450, 486, 647, 616, 668, 659, 736, 755,\n",
    "809, 946, 987. Sin embargo al realizar la estimación de los parámetros sin las presencia de los\n",
    "posibles valores influyentes, en todos los casos el parámetro sigue siendo significativo.\n"
   ]
  },
  {
   "cell_type": "code",
   "execution_count": 40,
   "metadata": {},
   "outputs": [
    {
     "ename": "ERROR",
     "evalue": "Error in case.deletion_glm(fit21, -c(18, 79, 146, 226, 273, 450, 486, : objeto 'fit21' no encontrado\n",
     "output_type": "error",
     "traceback": [
      "Error in case.deletion_glm(fit21, -c(18, 79, 146, 226, 273, 450, 486, : objeto 'fit21' no encontrado\nTraceback:\n",
      "1. case.deletion_glm(fit21, -c(18, 79, 146, 226, 273, 450, 486, \n .     647, 616, 668, 659, 736, 755, 809, 946, 987))"
     ]
    },
    {
     "data": {
      "image/png": "[encoded data removed]",
      "text/plain": [
       "Plot with title \" \""
      ]
     },
     "metadata": {},
     "output_type": "display_data"
    }
   ],
   "source": [
    "Cookdis_glm(fit2, identify= 16 )\n",
    "case.deletion_glm(fit21,-c(18,79,146,226,273,450,486,647,616,668,659,736,755,809,946,987))\n"
   ]
  },
  {
   "cell_type": "markdown",
   "metadata": {},
   "source": [
    "--- \n",
    "# Solución de Vanegas\n",
    "\n",
    "La variable respuesta es:\n",
    "\n",
    "$$Y_k: 1-class$$\n",
    "\n",
    "Esto es debido a que los ceros son los buenos"
   ]
  },
  {
   "cell_type": "code",
   "execution_count": 44,
   "metadata": {},
   "outputs": [],
   "source": [
    "eta <- 1-class ~ 1 + duration + purpose + credit_amount + credit_history+ age + employment + personal_status + job + housing\n",
    "\n",
    "fit1 <- glm(eta, data = credit, family = binomial(link=\"logit\"))\n",
    "fit2 <- glm(eta, data = credit, family = binomial(link = \"probit\"))\n",
    "fit3 <- glm(eta, data = credit, family = binomial(link = \"cloglog\"))\n",
    "fit4 <- glm(eta, data = credit, family = binomial(link = \"cauchit\"))"
   ]
  },
  {
   "cell_type": "markdown",
   "metadata": {},
   "source": [
    "Según el procedimiento forward, se tiene que:"
   ]
  },
  {
   "cell_type": "code",
   "execution_count": 46,
   "metadata": {},
   "outputs": [
    {
     "name": "stdout",
     "output_type": "stream",
     "text": [
      "\n",
      "  Family:  binomial \n",
      "    Link:  logit \n",
      "\n",
      "Initial model:\n",
      "1 - class ~ 1 + duration + purpose + credit_amount + credit_history + age + employment + personal_status + job + housing \n",
      "\n",
      "Step 0 :    \n",
      "                  Df       BIC       AIC   Deviance+  Pearson^  p-value*\n",
      "- job              3   1222.7525 1095.1509    0.1243   -0.0090    0.6213\n",
      "- purpose          9   1225.7498 1127.5947    0.0925   -0.0137 3.355e-06\n",
      "- personal_status  3   1226.5206 1098.9190    0.1211   -0.0087    0.1310\n",
      "- employment       4   1226.8599 1104.1660    0.1159   -0.0002    0.0148\n",
      "- housing          2   1235.3492 1102.8398    0.1186   -0.0250    0.0227\n",
      "- credit_amount    1   1235.6540 1098.2368    0.1232   -0.0155    0.3409\n",
      "- age              1   1239.2656 1101.8485    0.1202   -0.0153    0.0361\n",
      "<none>                 1241.6573 1099.3324    0.1231   -0.0162          \n",
      "- credit_history   4   1256.2681 1133.5742    0.0912   -0.0094 4.229e-08\n",
      "- duration         1   1259.9130 1122.4959    0.1028   -0.0149 8.121e-07\n",
      "\n",
      "Step 1 :  - job \n",
      "                  Df       BIC       AIC   Deviance+  Pearson^  p-value*\n",
      "- purpose          9   1205.8296 1122.3978    0.0946   -0.0105 4.761e-06\n",
      "- employment       4   1207.3559 1099.3853    0.1176    0.0028    0.0190\n",
      "- personal_status  3   1207.5469 1094.6685    0.1223   -0.0013    0.1345\n",
      "- housing          2   1216.2872 1098.5010    0.1199   -0.0176    0.0245\n",
      "- credit_amount    1   1217.0317 1094.3378    0.1242   -0.0085    0.2753\n",
      "- age              1   1220.1616 1097.4678    0.1215   -0.0084    0.0405\n",
      "<none>                 1222.7525 1095.1509    0.1243   -0.0090          \n",
      "- credit_history   4   1237.0798 1129.1092    0.0928   -0.0060 4.837e-08\n",
      "- duration         1   1240.6778 1117.9839    0.1043   -0.0088 9.122e-07\n",
      "\n",
      "Step 2 :  - purpose \n",
      "                  Df       BIC       AIC   Deviance+  Pearson^  p-value*\n",
      "- employment       4   1190.7456 1126.9447    0.0879   -0.0027    0.0160\n",
      "- personal_status  3   1190.8391 1122.1305    0.0926   -0.0042    0.1208\n",
      "- credit_amount    1   1199.0989 1120.5748    0.0954   -0.0101    0.6735\n",
      "- housing          2   1200.2495 1126.6332    0.0896   -0.0094    0.0155\n",
      "- age              1   1201.7606 1123.2365    0.0932   -0.0130    0.0958\n",
      "<none>                 1205.8296 1122.3978    0.0946   -0.0105          \n",
      "- credit_history   4   1218.2885 1154.4877    0.0651   -0.0092 9.859e-08\n",
      "- duration         1   1220.6757 1142.1516    0.0775   -0.0110 4.235e-06\n",
      "\n",
      "Step 3 :  - employment \n",
      "                  Df       BIC       AIC   Deviance+  Pearson^  p-value*\n",
      "- personal_status  3   1179.4409 1130.3634    0.0829    0.0068    0.0233\n",
      "- credit_amount    1   1184.1413 1125.2482    0.0886   -0.0027    0.5809\n",
      "- housing          2   1185.6359 1131.6506    0.0826   -0.0033    0.0122\n",
      "- age              1   1187.5134 1128.6203    0.0858   -0.0013    0.0586\n",
      "<none>                 1190.7456 1126.9447    0.0879   -0.0027          \n",
      "- duration         1   1202.3003 1143.4072    0.0736   -0.0070 2.184e-05\n",
      "- credit_history   4   1206.3942 1162.2244    0.0559   -0.0088 2.599e-08\n",
      "\n",
      "Step 4 :  - personal_status \n",
      "                 Df       BIC       AIC   Deviance+  Pearson^  p-value*\n",
      "- credit_amount   1   1172.8041 1128.6343    0.0836    0.0074    0.6018\n",
      "- housing         2   1175.3859 1136.1238    0.0767    0.0057    0.0071\n",
      "- age             1   1176.7973 1132.6275    0.0803    0.0040    0.0419\n",
      "<none>                1179.4409 1130.3634    0.0829    0.0068          \n",
      "- duration        1   1190.0913 1145.9215    0.0693    0.0007 3.434e-05\n",
      "- credit_history  4   1195.9148 1166.4683    0.0503   -0.0012 1.870e-08\n",
      "\n",
      "Step 5 :  - credit_amount \n",
      "                 Df       BIC       AIC   Deviance+  Pearson^  p-value*\n",
      "- housing         2   1169.1111 1134.7568    0.0771    0.0059    0.0059\n",
      "- age             1   1170.0716 1130.8096    0.0811    0.0051    0.0441\n",
      "<none>                1172.8041 1128.6343    0.0836    0.0074          \n",
      "- credit_history  4   1189.3691 1164.8303    0.0510   -0.0019 1.796e-08\n",
      "- duration        1   1197.6360 1158.3739    0.0584    0.0026 2.677e-08\n",
      "\n",
      "Step 6 :  - housing \n",
      "                 Df       BIC       AIC   Deviance+  Pearson^  p-value*\n",
      "- age             1   1166.7181 1137.2716    0.0743    0.0054    0.0364\n",
      "<none>                1169.1111 1134.7568    0.0771    0.0059          \n",
      "- credit_history  4   1189.9207 1175.1975    0.0411    0.0005 3.017e-09\n",
      "- duration        1   1197.7852 1168.3386    0.0488    0.0005 3.969e-09\n",
      "\n",
      "Step 7 :  - age \n",
      "                 Df       BIC       AIC   Deviance+  Pearson^  p-value*\n",
      "<none>                1166.7181 1137.2716    0.0743    0.0054          \n",
      "- credit_history  4   1190.9293 1181.1138    0.0356    0.0025 8.084e-10\n",
      "- duration        1   1195.8003 1171.2615    0.0457   -0.0040 3.254e-09\n",
      "\n",
      "+ Adjusted R-squared based on the residual deviance\n",
      "^ Adjusted R-squared based on the Pearson statistic\n",
      "* p-value of the Wald test\n",
      "\n",
      "Final model:\n",
      "1 - class ~ 1 + duration + credit_history \n",
      "\n"
     ]
    }
   ],
   "source": [
    "step_glm(fit1, criterion = \"BIC\", direction = \"backward\")\n",
    "#step_glm(fit2, criterion = \"BIC\", direction = \"forward\")\n",
    "#step_glm(fit3, criterion = \"BIC\", direction = \"forward\")\n",
    "#step_glm(fit4, criterion = \"BIC\", direction = \"forward\")"
   ]
  },
  {
   "cell_type": "markdown",
   "metadata": {},
   "source": [
    "Se conoce que el mejor predictor (coincide con todos) por medio de BIC está dado por:\n",
    "\n",
    "$$1 - class \\sim 1 + duration + credit\\_history $$"
   ]
  },
  {
   "cell_type": "code",
   "execution_count": 48,
   "metadata": {},
   "outputs": [],
   "source": [
    "eta1 <- 1-class ~ 1 + duration + credit_history\n",
    "fit1 <- glm(eta1, data = credit, family = binomial(link=\"logit\"))\n",
    "fit2 <- glm(eta1, data = credit, family = binomial(link = probit))\n",
    "fit3 <- glm(eta1, data = credit, family = binomial(link = cloglog))\n",
    "fit4 <- glm(eta1, data = credit, family = binomial(link = cauchit))"
   ]
  },
  {
   "cell_type": "code",
   "execution_count": 49,
   "metadata": {},
   "outputs": [
    {
     "data": {
      "text/html": [
       "<table>\n",
       "<thead><tr><th></th><th scope=col>df</th><th scope=col>AIC</th></tr></thead>\n",
       "<tbody>\n",
       "\t<tr><th scope=row>fit1</th><td>6       </td><td>1137.272</td></tr>\n",
       "\t<tr><th scope=row>fit2</th><td>6       </td><td>1136.547</td></tr>\n",
       "\t<tr><th scope=row>fit3</th><td>6       </td><td>1132.972</td></tr>\n",
       "\t<tr><th scope=row>fit4</th><td>6       </td><td>1141.818</td></tr>\n",
       "</tbody>\n",
       "</table>\n"
      ],
      "text/latex": [
       "\\begin{tabular}{r|ll}\n",
       "  & df & AIC\\\\\n",
       "\\hline\n",
       "\tfit1 & 6        & 1137.272\\\\\n",
       "\tfit2 & 6        & 1136.547\\\\\n",
       "\tfit3 & 6        & 1132.972\\\\\n",
       "\tfit4 & 6        & 1141.818\\\\\n",
       "\\end{tabular}\n"
      ],
      "text/markdown": [
       "\n",
       "| <!--/--> | df | AIC |\n",
       "|---|---|---|\n",
       "| fit1 | 6        | 1137.272 |\n",
       "| fit2 | 6        | 1136.547 |\n",
       "| fit3 | 6        | 1132.972 |\n",
       "| fit4 | 6        | 1141.818 |\n",
       "\n"
      ],
      "text/plain": [
       "     df AIC     \n",
       "fit1 6  1137.272\n",
       "fit2 6  1136.547\n",
       "fit3 6  1132.972\n",
       "fit4 6  1141.818"
      ]
     },
     "metadata": {},
     "output_type": "display_data"
    }
   ],
   "source": [
    "AIC(fit1,fit2,fit3,fit4)\n",
    "#BIC(fit1,fit2,fit3,fit4)"
   ]
  },
  {
   "cell_type": "markdown",
   "metadata": {},
   "source": [
    "## Modelo final"
   ]
  },
  {
   "cell_type": "code",
   "execution_count": 50,
   "metadata": {},
   "outputs": [
    {
     "data": {
      "text/plain": [
       "\n",
       "Call:\n",
       "glm(formula = eta1, family = binomial(link = cloglog), data = credit)\n",
       "\n",
       "Deviance Residuals: \n",
       "    Min       1Q   Median       3Q      Max  \n",
       "-2.2256  -1.1016   0.6572   0.8427   1.7451  \n",
       "\n",
       "Coefficients:\n",
       "                   Estimate Std. Error z value Pr(>|z|)    \n",
       "(Intercept)       -0.163221   0.278453  -0.586  0.55776    \n",
       "duration          -0.022944   0.003766  -6.093 1.11e-09 ***\n",
       "credit_historyA31  0.052663   0.345778   0.152  0.87895    \n",
       "credit_historyA32  0.764963   0.269636   2.837  0.00455 ** \n",
       "credit_historyA33  0.892380   0.297098   3.004  0.00267 ** \n",
       "credit_historyA34  1.207819   0.273886   4.410 1.03e-05 ***\n",
       "---\n",
       "Signif. codes:  0 '***' 0.001 '**' 0.01 '*' 0.05 '.' 0.1 ' ' 1\n",
       "\n",
       "(Dispersion parameter for binomial family taken to be 1)\n",
       "\n",
       "    Null deviance: 1221.7  on 999  degrees of freedom\n",
       "Residual deviance: 1121.0  on 994  degrees of freedom\n",
       "AIC: 1133\n",
       "\n",
       "Number of Fisher Scoring iterations: 5\n"
      ]
     },
     "metadata": {},
     "output_type": "display_data"
    }
   ],
   "source": [
    "summary(fit3)"
   ]
  },
  {
   "cell_type": "markdown",
   "metadata": {},
   "source": [
    "# INTERPRETACIÓN\n",
    "\n",
    "Se identificará el signo de los parámetros:\n",
    "\n",
    "* $\\widehat{\\mu}$: es la probabilidad de que le credito sea bueno. sin embargo _duration=-0.022944_ dio negativo esto quiere decir que a medida que dura más el crédito existe menor probabilidad de que el credito sea considerado como bueno. (la gente se cansa de pagar menos).\n",
    "\n",
    "\n",
    "* _Historial de crédito_ cuanto mayor sea el historial crediticio, existe mayor probabilidad de que sea un credito considerado como bueno. Esto se debe a que va aumentando de manera monotona los coeficientes.\n",
    "\n",
    "\n",
    "* El test de wald es no significativa para el nivel crediticio credit_historyA31, esto significa que tener este nivel de credito es lo mismo que tener la categoria base, en terminos de que la probabilidad ....."
   ]
  },
  {
   "cell_type": "code",
   "execution_count": 52,
   "metadata": {},
   "outputs": [
    {
     "name": "stderr",
     "output_type": "stream",
     "text": [
      "Loading required package: sqldf\n",
      "Loading required package: gsubfn\n",
      "Loading required package: proto\n",
      "Loading required package: RSQLite\n"
     ]
    },
    {
     "data": {
      "image/png": "[encoded data removed]",
      "text/plain": [
       "Plot with title \"credit_history\""
      ]
     },
     "metadata": {},
     "output_type": "display_data"
    }
   ],
   "source": [
    "require(sqldf)\n",
    "graphs_glm(fit3,1,2,pch=16)   #hace graficos marginales, con 1,2 establezco el grafico"
   ]
  },
  {
   "cell_type": "markdown",
   "metadata": {},
   "source": [
    "En las anteriores gráficas se puede observar que en la variable duración la particiona en dos grupos y para cada punto es la proporción de creditos buenos. en la segunda gráfica se logra observar que a medida que el puntaje de historial crediticio aumenta mayor es la probabilidad de que el creditpo sea bueno.\n",
    "\n",
    "* $\\widehat{\\mu}$ es la curva estimada"
   ]
  },
  {
   "cell_type": "code",
   "execution_count": 56,
   "metadata": {},
   "outputs": [
    {
     "name": "stdout",
     "output_type": "stream",
     "text": [
      "\n",
      " Approximate 90 percent confidence intervals based on the Wald test \n",
      "\n",
      "                  Lower limit Upper limit\n",
      "(Intercept)         -0.621235      0.2948\n",
      "duration            -0.029138     -0.0167\n",
      "credit_historyA31   -0.516090      0.6214\n",
      "credit_historyA32    0.321450      1.2085\n",
      "credit_historyA33    0.403697      1.3811\n",
      "credit_historyA34    0.757317      1.6583\n"
     ]
    }
   ],
   "source": [
    "ci_glm(fit3, conf=0.9, test = \"Wald\")"
   ]
  },
  {
   "cell_type": "markdown",
   "metadata": {},
   "source": [
    "en los anteriores intervalos de confianza se ve que en $\\beta_3$ se contiene al cero lo cual implica que es no significativa.\n",
    "\n",
    "---"
   ]
  }
 ],
 "metadata": {
  "kernelspec": {
   "display_name": "R",
   "language": "R",
   "name": "ir"
  },
  "language_info": {
   "codemirror_mode": "r",
   "file_extension": ".r",
   "mimetype": "text/x-r-source",
   "name": "R",
   "pygments_lexer": "r",
   "version": "3.6.1"
  }
 },
 "nbformat": 4,
 "nbformat_minor": 2
}
