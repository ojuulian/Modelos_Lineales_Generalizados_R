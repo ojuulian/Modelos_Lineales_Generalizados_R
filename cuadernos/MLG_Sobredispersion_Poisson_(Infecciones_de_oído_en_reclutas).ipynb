{
 "cells": [
  {
   "cell_type": "markdown",
   "metadata": {},
   "source": [
    "# Modelos con sobredispersión Poisson (Infecciones de oído en reclutas)\n",
    "\n",
    "### Oscar Julian Layton\n",
    "\n",
    "Estos datos corresponden a un estudio desarrollado en 1990 con 287 reclutas estadounidenses en el que se intenta relacionar el número de infecciones de oído y algunos factores. Los datos se presentan en el siguiente orden: \n",
    "\n",
    "* **Hábito de nadar** (ocasional o frecuente)\n",
    "* **Lugar en el que se suele nadar** (piscina o playa)\n",
    "* **Grupo de edad** (15-19, 20-25 o 25-29)\n",
    "* **Sexo** (masculino y femenino)\n",
    "* **Número de infecciones de oído diagnosticadas por el propio recluta**. "
   ]
  },
  {
   "cell_type": "code",
   "execution_count": 38,
   "metadata": {},
   "outputs": [],
   "source": [
    "rm(list=ls())\n",
    "setwd(\"C:\\\\Users\\\\YULY\\\\Desktop\\\\Desktop\\\\UNAL 2018\\\\MLGz\\\\MLG Vanegas\")  #Asignando capeta busqueda por default\n",
    "library(sqldf)\n",
    "library(numDeriv)\n",
    "library(Rfast)\n",
    "source(\"macros.txt\")\n",
    "source(\"test.txt\")"
   ]
  },
  {
   "cell_type": "code",
   "execution_count": 39,
   "metadata": {},
   "outputs": [
    {
     "name": "stdout",
     "output_type": "stream",
     "text": [
      "'data.frame':\t287 obs. of  5 variables:\n",
      " $ habito : Factor w/ 2 levels \"Freq\",\"Occas\": 2 2 2 2 2 2 2 2 2 2 ...\n",
      " $ local  : Factor w/ 2 levels \"Beach\",\"NonBeach\": 2 2 2 2 2 2 2 2 2 2 ...\n",
      " $ fetaria: Factor w/ 3 levels \"15-19\",\"20-24\",..: 1 1 1 1 1 1 1 1 1 1 ...\n",
      " $ sexo   : Factor w/ 2 levels \"Female\",\"Male\": 2 2 2 2 2 2 2 2 2 2 ...\n",
      " $ ninfec : num  0 0 0 0 0 0 0 0 0 0 ...\n"
     ]
    },
    {
     "data": {
      "text/html": [
       "<table>\n",
       "<thead><tr><th scope=col>habito</th><th scope=col>local</th><th scope=col>fetaria</th><th scope=col>sexo</th><th scope=col>ninfec</th></tr></thead>\n",
       "<tbody>\n",
       "\t<tr><td>Occas   </td><td>NonBeach</td><td>15-19   </td><td>Male    </td><td>0       </td></tr>\n",
       "\t<tr><td>Occas   </td><td>NonBeach</td><td>15-19   </td><td>Male    </td><td>0       </td></tr>\n",
       "\t<tr><td>Occas   </td><td>NonBeach</td><td>15-19   </td><td>Male    </td><td>0       </td></tr>\n",
       "\t<tr><td>Occas   </td><td>NonBeach</td><td>15-19   </td><td>Male    </td><td>0       </td></tr>\n",
       "\t<tr><td>Occas   </td><td>NonBeach</td><td>15-19   </td><td>Male    </td><td>0       </td></tr>\n",
       "\t<tr><td>Occas   </td><td>NonBeach</td><td>15-19   </td><td>Male    </td><td>0       </td></tr>\n",
       "</tbody>\n",
       "</table>\n"
      ],
      "text/latex": [
       "\\begin{tabular}{r|lllll}\n",
       " habito & local & fetaria & sexo & ninfec\\\\\n",
       "\\hline\n",
       "\t Occas    & NonBeach & 15-19    & Male     & 0       \\\\\n",
       "\t Occas    & NonBeach & 15-19    & Male     & 0       \\\\\n",
       "\t Occas    & NonBeach & 15-19    & Male     & 0       \\\\\n",
       "\t Occas    & NonBeach & 15-19    & Male     & 0       \\\\\n",
       "\t Occas    & NonBeach & 15-19    & Male     & 0       \\\\\n",
       "\t Occas    & NonBeach & 15-19    & Male     & 0       \\\\\n",
       "\\end{tabular}\n"
      ],
      "text/markdown": [
       "\n",
       "| habito | local | fetaria | sexo | ninfec |\n",
       "|---|---|---|---|---|\n",
       "| Occas    | NonBeach | 15-19    | Male     | 0        |\n",
       "| Occas    | NonBeach | 15-19    | Male     | 0        |\n",
       "| Occas    | NonBeach | 15-19    | Male     | 0        |\n",
       "| Occas    | NonBeach | 15-19    | Male     | 0        |\n",
       "| Occas    | NonBeach | 15-19    | Male     | 0        |\n",
       "| Occas    | NonBeach | 15-19    | Male     | 0        |\n",
       "\n"
      ],
      "text/plain": [
       "  habito local    fetaria sexo ninfec\n",
       "1 Occas  NonBeach 15-19   Male 0     \n",
       "2 Occas  NonBeach 15-19   Male 0     \n",
       "3 Occas  NonBeach 15-19   Male 0     \n",
       "4 Occas  NonBeach 15-19   Male 0     \n",
       "5 Occas  NonBeach 15-19   Male 0     \n",
       "6 Occas  NonBeach 15-19   Male 0     "
      ]
     },
     "metadata": {},
     "output_type": "display_data"
    },
    {
     "data": {
      "text/plain": [
       "\n",
       "  0   1   2   3   4   5   6   9  10  11  16  17 \n",
       "151  40  39  26  13   5   4   3   3   1   1   1 "
      ]
     },
     "metadata": {},
     "output_type": "display_data"
    }
   ],
   "source": [
    "###################### Lectura de los datos ######################\n",
    "recrutas <- data.frame(scan(\"recrutas.dat\", list(habito=\"\", local=\"\", fetaria=\"\", sexo=\"\", ninfec=0)))\n",
    "str(recrutas)\n",
    "head(recrutas)\n",
    "table(recrutas$ninfec)"
   ]
  },
  {
   "cell_type": "markdown",
   "metadata": {},
   "source": [
    "Ha de notarse de las variables que todas son categoricas excepto **ninfec** la cual hace correspondencia al número de infecciones donde 151 recrutas no obtuvieron infecciones diagnosticadas no obstante una persona acepta tener 17 infecciones de oido, *esto es claramente un **conteo** y la distribución que más se ajusta la variable rta es la Poisson.*\n",
    "\n",
    "A continuación se realiza el ajuste a tres modelos:"
   ]
  },
  {
   "cell_type": "code",
   "execution_count": 40,
   "metadata": {},
   "outputs": [],
   "source": [
    "###################### Estimación del modelo ######################\n",
    "fit11 <- glm(ninfec ~ habito + local + fetaria + sexo, family=poisson(link=\"log\"), data=recrutas)\n",
    "fit12 <- glm(ninfec ~ habito + local + fetaria + sexo, family=poisson(link=\"identity\"), data=recrutas)\n",
    "fit13 <- glm(ninfec ~ habito + local + fetaria + sexo, family=poisson(link=\"sqrt\"), data=recrutas)"
   ]
  },
  {
   "cell_type": "code",
   "execution_count": 41,
   "metadata": {},
   "outputs": [
    {
     "data": {
      "text/html": [
       "<table>\n",
       "<thead><tr><th></th><th scope=col>df</th><th scope=col>AIC</th></tr></thead>\n",
       "<tbody>\n",
       "\t<tr><th scope=row>fit11</th><td>6       </td><td>1139.828</td></tr>\n",
       "\t<tr><th scope=row>fit12</th><td>6       </td><td>1142.751</td></tr>\n",
       "\t<tr><th scope=row>fit13</th><td>6       </td><td>1140.079</td></tr>\n",
       "</tbody>\n",
       "</table>\n"
      ],
      "text/latex": [
       "\\begin{tabular}{r|ll}\n",
       "  & df & AIC\\\\\n",
       "\\hline\n",
       "\tfit11 & 6        & 1139.828\\\\\n",
       "\tfit12 & 6        & 1142.751\\\\\n",
       "\tfit13 & 6        & 1140.079\\\\\n",
       "\\end{tabular}\n"
      ],
      "text/markdown": [
       "\n",
       "| <!--/--> | df | AIC |\n",
       "|---|---|---|\n",
       "| fit11 | 6        | 1139.828 |\n",
       "| fit12 | 6        | 1142.751 |\n",
       "| fit13 | 6        | 1140.079 |\n",
       "\n"
      ],
      "text/plain": [
       "      df AIC     \n",
       "fit11 6  1139.828\n",
       "fit12 6  1142.751\n",
       "fit13 6  1140.079"
      ]
     },
     "metadata": {},
     "output_type": "display_data"
    },
    {
     "data": {
      "text/html": [
       "<table>\n",
       "<thead><tr><th></th><th scope=col>df</th><th scope=col>BIC</th></tr></thead>\n",
       "<tbody>\n",
       "\t<tr><th scope=row>fit11</th><td>6       </td><td>1161.785</td></tr>\n",
       "\t<tr><th scope=row>fit12</th><td>6       </td><td>1164.708</td></tr>\n",
       "\t<tr><th scope=row>fit13</th><td>6       </td><td>1162.036</td></tr>\n",
       "</tbody>\n",
       "</table>\n"
      ],
      "text/latex": [
       "\\begin{tabular}{r|ll}\n",
       "  & df & BIC\\\\\n",
       "\\hline\n",
       "\tfit11 & 6        & 1161.785\\\\\n",
       "\tfit12 & 6        & 1164.708\\\\\n",
       "\tfit13 & 6        & 1162.036\\\\\n",
       "\\end{tabular}\n"
      ],
      "text/markdown": [
       "\n",
       "| <!--/--> | df | BIC |\n",
       "|---|---|---|\n",
       "| fit11 | 6        | 1161.785 |\n",
       "| fit12 | 6        | 1164.708 |\n",
       "| fit13 | 6        | 1162.036 |\n",
       "\n"
      ],
      "text/plain": [
       "      df BIC     \n",
       "fit11 6  1161.785\n",
       "fit12 6  1164.708\n",
       "fit13 6  1162.036"
      ]
     },
     "metadata": {},
     "output_type": "display_data"
    }
   ],
   "source": [
    "###################### Valores del AIC y BIC ######################\n",
    "AIC(fit11,fit12,fit13)\n",
    "BIC(fit11,fit12,fit13)\n"
   ]
  },
  {
   "cell_type": "markdown",
   "metadata": {},
   "source": [
    "Según los anteriores AIC y BIC, se logra identificar que el mejor modelo está determinado por: el que tiene familia Poisson y función de enlace **log**.\n",
    "\n"
   ]
  },
  {
   "cell_type": "code",
   "execution_count": 42,
   "metadata": {},
   "outputs": [
    {
     "data": {
      "text/plain": [
       "\n",
       "Call:\n",
       "glm(formula = ninfec ~ habito + local + fetaria + sexo, family = poisson(link = \"log\"), \n",
       "    data = recrutas)\n",
       "\n",
       "Deviance Residuals: \n",
       "    Min       1Q   Median       3Q      Max  \n",
       "-2.3591  -1.5702  -1.1045   0.6067   6.8423  \n",
       "\n",
       "Coefficients:\n",
       "              Estimate Std. Error z value Pr(>|z|)    \n",
       "(Intercept)   -0.12261    0.13706  -0.895  0.37100    \n",
       "habitoOccas    0.61149    0.10500   5.823 5.77e-09 ***\n",
       "localNonBeach  0.53454    0.10668   5.011 5.43e-07 ***\n",
       "fetaria20-24  -0.37442    0.12836  -2.917  0.00354 ** \n",
       "fetaria25-29  -0.18973    0.13009  -1.458  0.14473    \n",
       "sexoMale      -0.08985    0.11231  -0.800  0.42371    \n",
       "---\n",
       "Signif. codes:  0 '***' 0.001 '**' 0.01 '*' 0.05 '.' 0.1 ' ' 1\n",
       "\n",
       "(Dispersion parameter for poisson family taken to be 1)\n",
       "\n",
       "    Null deviance: 824.51  on 286  degrees of freedom\n",
       "Residual deviance: 755.43  on 281  degrees of freedom\n",
       "AIC: 1139.8\n",
       "\n",
       "Number of Fisher Scoring iterations: 6\n"
      ]
     },
     "metadata": {},
     "output_type": "display_data"
    },
    {
     "name": "stdout",
     "output_type": "stream",
     "text": [
      "\n",
      "  Family:  poisson \n",
      "    Link:  log \n",
      "                                                     Df     Value\n",
      "Residual deviance                                   281  755.4332\n",
      "Pearson's statistic                                 281  949.7387\n",
      "Adjusted R-squared based on the residual deviance          0.0675\n",
      "Adjusted R-squared based on the Pearson's statistic        0.1429\n",
      "-2*log-Likelihood                                       1127.8280\n",
      "AIC                                                     1139.8280\n",
      "BIC                                                     1161.7849\n",
      "\n",
      "\n"
     ]
    }
   ],
   "source": [
    "###################### Resumen del modelo seleccionado ######################\n",
    "summary(fit11)\n",
    "gof_glm(fit11)"
   ]
  },
  {
   "cell_type": "markdown",
   "metadata": {},
   "source": [
    "Segun la salida del modelo selecionado con función de enlace **log**, se puede determinar que el sexo, el intercepto NO es significativo, además la franja etarea 25-29 no es significativa, la franja etarea  0-24 con respecto a la base si es significativa, etc. Los signos nos dicen que el que el que nada ocasionalemnte tiene un número esperado de infecciones con respecto al que nada normalmente.\n",
    "\n",
    "Así mismo el que nada en pisicna tiene un número esperado mayor de tener infeccion que el que nada en la playa y la franja etarea de 20-24 al ser negativa quiere decir que a mayor edad se espera un número mayor de infecciones de oido.\n",
    "\n",
    "Conocemos que en el caso de la Poisson el $\\phi$ es conocido y es 1. No obstante para conocer $\\phi$ estimamos mediante:\n",
    "\n",
    "$$\\widehat{\\phi}= \\frac{D(y; \\widehat{\\mu})}{n-p}$$\n"
   ]
  },
  {
   "cell_type": "code",
   "execution_count": 43,
   "metadata": {},
   "outputs": [
    {
     "data": {
      "text/html": [
       "2.6883743772242"
      ],
      "text/latex": [
       "2.6883743772242"
      ],
      "text/markdown": [
       "2.6883743772242"
      ],
      "text/plain": [
       "[1] 2.688374"
      ]
     },
     "metadata": {},
     "output_type": "display_data"
    }
   ],
   "source": [
    "755.4332/281"
   ]
  },
  {
   "cell_type": "markdown",
   "metadata": {},
   "source": [
    "Se puede ver que la estimación de $\\phi$ se encuentra muy lejos de 1, se esperaria que fuera muy cercano pero es mas del doble. Esto es un indicio a sobredispersión."
   ]
  },
  {
   "cell_type": "code",
   "execution_count": 44,
   "metadata": {},
   "outputs": [
    {
     "name": "stdout",
     "output_type": "stream",
     "text": [
      "  |++++++++++++++++++++++++++++++++++++++++++++++++++| 100%\n"
     ]
    },
    {
     "data": {
      "image/png": "[encoded data removed]",
      "text/plain": [
       "Plot with title \" \""
      ]
     },
     "metadata": {},
     "output_type": "display_data"
    }
   ],
   "source": [
    "envelope_glm(fit11,rep=100)"
   ]
  },
  {
   "cell_type": "markdown",
   "metadata": {},
   "source": [
    "* Al realizar el envelope en este ajuste se puede observar que el modelo **fit11** no es el más adecuado. Se puede observar que los residuos positivos se encuentran por encima del 0, estos residuos se encuentran por encima de la banda y nos residuos negativos debajo de la banda.\n",
    "\n",
    "* En este patrón en el envelope y las estimaciones del desvio/gl y pearson/gl da indicios de algo que se le denomina **sobredispersión**.\n",
    "\n",
    "* A continuación se realiza el ajuste a un modelo binomial negativo por medio de la función **overglm**=sobredispersion igualmente mediante las fuinciones de enlace los, identidad y raiz cuadrada.\n",
    "\n",
    "## Otra forma de atacar el problema BinomialNegativaI"
   ]
  },
  {
   "cell_type": "code",
   "execution_count": 45,
   "metadata": {},
   "outputs": [
    {
     "name": "stderr",
     "output_type": "stream",
     "text": [
      "Warning message in log(mu * phi):\n",
      "\"Se han producido NaNs\"Warning message in log(mu * phi + 1):\n",
      "\"Se han producido NaNs\"Warning message in log(mu * phi):\n",
      "\"Se han producido NaNs\""
     ]
    },
    {
     "name": "stdout",
     "output_type": "stream",
     "text": [
      "\n",
      "\n",
      "  Family:  Negative Binomial I \n",
      "Predictor:  1 + habito + local + fetaria + sexo \n",
      "\n",
      " Object     Link -2*log-likelihood df     AIC \n",
      "  fit21      log          890.6900  7 904.6900\n",
      "  fit22 identity          891.6108  7 905.6108\n",
      "  fit23     sqrt          890.8430  7 904.8430\n",
      "\n",
      "\n",
      "  Family:  Negative Binomial I \n",
      "Predictor:  1 + habito + local + fetaria + sexo \n",
      "\n",
      " Object     Link -2*log-likelihood df     BIC \n",
      "  fit21      log          890.6900  7 930.3064\n",
      "  fit22 identity          891.6108  7 931.2271\n",
      "  fit23     sqrt          890.8430  7 930.4594\n"
     ]
    }
   ],
   "source": [
    "###################### Estimación del modelo ######################\n",
    "fit21 <-  overglm(ninfec ~ habito + local + fetaria + sexo, family=\"nb1(log)\", data=recrutas)\n",
    "fit22 <-  overglm(ninfec ~ habito + local + fetaria + sexo, family=\"nb1(identity)\", data=recrutas)\n",
    "fit23 <-  overglm(ninfec ~ habito + local + fetaria + sexo, family=\"nb1(sqrt)\", data=recrutas)\n",
    "AIC(fit21,fit22,fit23)\n",
    "BIC(fit21,fit22,fit23)"
   ]
  },
  {
   "cell_type": "markdown",
   "metadata": {},
   "source": [
    "En la anterior salida se muestra los ajustes con sus respectivas funciones de enlace, BIC, AIC, etc. Donde se puede ver eu ela mejor opcion es el modelo con funcion de enlace *log*, Es decir fit21\n",
    "\n",
    "* Aqui los grados de libertad son 7 puesto que en el modelo Poisson $\\phi$ era conocido y era $\\phi=1$\n"
   ]
  },
  {
   "cell_type": "code",
   "execution_count": 46,
   "metadata": {},
   "outputs": [
    {
     "name": "stdout",
     "output_type": "stream",
     "text": [
      "\n",
      "Sample size:  287 \n",
      "     Family:  Negative Binomial I\n",
      "       Link:  log\n",
      " *************************************************************\n",
      "              Estimate Std.Error  z-value  Pr(>|z|)\n",
      "(Intercept)   -0.06082   0.22459 -0.27081 0.7865401\n",
      "habitoOccas    0.60305   0.19059  3.16413 0.0015555\n",
      "localNonBeach  0.54554   0.20287  2.68919 0.0071626\n",
      "fetaria20-24  -0.42924   0.23299 -1.84230 0.0654307\n",
      "fetaria25-29  -0.26250   0.24008 -1.09340 0.2742168\n",
      "sexoMale      -0.14002   0.21034 -0.66568 0.5056185\n",
      "\n",
      "              Estimate Std.Error\n",
      "Dispersion     1.73618   0.27213\n",
      " *************************************************************\n",
      "                 -2*log-likelihood:  890.69 \n",
      "                               AIC:  904.69 \n",
      "                               BIC:  930.306 \n"
     ]
    }
   ],
   "source": [
    "summary(fit21)"
   ]
  },
  {
   "cell_type": "markdown",
   "metadata": {},
   "source": [
    "Comparando con los parámetros de la Poisson con respecto a la Binomial Negativa, se logra observar que los parámetros no cambian tanto sin embargo son menores. en cuanto a los errores estandar de la Poisson son: 0,13 - 0,1 - 0.1 - 0.12- 0.13 -0.11 es decir que se estaban subestimando (en realidad eran mayores. En cuanto a la significancia la franja etarea ya no es significativa al 5%.\n",
    "\n",
    "**Conclusión:** Los que nadan ocasionalmente tienen un número esperado de infecciones de oido mayor a los que nadan frecuentemente y los que no nadan en la playa tienen un numero esperado de infeccion superior a los que nadan en la playa.?\n",
    "\n",
    "---\n",
    "\n",
    "### Test\n",
    "\n",
    "Para verificar si en realidad la *franja etarea* y *sexo* son significativos, es decir:\n",
    "\n",
    "$$H_o: \\beta_4 = \\beta_5 = \\beta_6= 0 \\;\\;\\;\\;\\;\\;\\;H_1: \\beta_4 \\neq \\beta_5 \\neq \\beta_6 \\neq0 $$"
   ]
  },
  {
   "cell_type": "code",
   "execution_count": 47,
   "metadata": {},
   "outputs": [
    {
     "name": "stdout",
     "output_type": "stream",
     "text": [
      "\n",
      "  Wald test \n",
      "\n",
      " Model 1:  ninfec ~ habito + local + fetaria + sexo \n",
      " Model 2:  ninfec ~ habito + local \n",
      "\n",
      "   Chi    Df   Pr(>Chi)\n",
      "  3.8493   3     0.2782\n"
     ]
    }
   ],
   "source": [
    "###################### Test de Wald ######################\n",
    "fit211 <-  overglm(ninfec ~ habito + local, family=\"nb1(log)\", data=recrutas)\n",
    "anova_glm(fit211,fit21,test=\"wald\")"
   ]
  },
  {
   "cell_type": "code",
   "execution_count": 48,
   "metadata": {},
   "outputs": [
    {
     "name": "stdout",
     "output_type": "stream",
     "text": [
      "\n",
      "  Rao's score test \n",
      "\n",
      " Model 1:  ninfec ~ habito + local + fetaria + sexo \n",
      " Model 2:  ninfec ~ habito + local \n",
      "\n",
      "   Chi    Df   Pr(>Chi)\n",
      "  3.9632   3     0.2655\n"
     ]
    }
   ],
   "source": [
    "###################### Test de score ######################\n",
    "anova_glm(fit211,fit21,test=\"score\")"
   ]
  },
  {
   "cell_type": "code",
   "execution_count": 49,
   "metadata": {},
   "outputs": [
    {
     "name": "stdout",
     "output_type": "stream",
     "text": [
      "\n",
      "  Likelihood-ratio test \n",
      "\n",
      " Model 1:  ninfec ~ habito + local + fetaria + sexo \n",
      " Model 2:  ninfec ~ habito + local \n",
      "\n",
      "   Chi    Df   Pr(>Chi)\n",
      "  3.8214   3     0.2814\n"
     ]
    }
   ],
   "source": [
    "###################### Test de razón de verosimilitudes ######################\n",
    "anova_glm(fit211,fit21,test=\"lrt\")"
   ]
  },
  {
   "cell_type": "code",
   "execution_count": 50,
   "metadata": {},
   "outputs": [
    {
     "name": "stdout",
     "output_type": "stream",
     "text": [
      "\n",
      "  Gradient test \n",
      "\n",
      " Model 1:  ninfec ~ habito + local + fetaria + sexo \n",
      " Model 2:  ninfec ~ habito + local \n",
      "\n",
      "   Chi    Df   Pr(>Chi)\n",
      "  3.7811   3     0.2861\n"
     ]
    }
   ],
   "source": [
    "###################### Test gradiente ######################\n",
    "anova_glm(fit211,fit21,test=\"gradient\")"
   ]
  },
  {
   "cell_type": "markdown",
   "metadata": {},
   "source": [
    "## Otra forma a subdispersión es BinomialNegativa II"
   ]
  },
  {
   "cell_type": "code",
   "execution_count": 51,
   "metadata": {},
   "outputs": [
    {
     "name": "stdout",
     "output_type": "stream",
     "text": [
      "\n",
      "\n",
      "  Family:  Negative Binomial II \n",
      "Predictor:  1 + habito + local + fetaria + sexo \n",
      "\n",
      " Object     Link -2*log-likelihood df     AIC \n",
      "  fit31      log          893.2357  7 907.2357\n",
      "  fit32 identity          893.8798  7 907.8798\n",
      "  fit33     sqrt          893.4959  7 907.4959\n",
      "\n",
      "\n",
      "  Family:  Negative Binomial II \n",
      "Predictor:  1 + habito + local + fetaria + sexo \n",
      "\n",
      " Object     Link -2*log-likelihood df     BIC \n",
      "  fit31      log          893.2357  7 932.8521\n",
      "  fit32 identity          893.8798  7 933.4961\n",
      "  fit33     sqrt          893.4959  7 933.1123\n"
     ]
    }
   ],
   "source": [
    "fit31 <-  overglm(ninfec ~ habito + local + fetaria + sexo, family=\"nb2(log)\", data=recrutas)\n",
    "fit32 <-  overglm(ninfec ~ habito + local + fetaria + sexo, family=\"nb2(identity)\", data=recrutas)\n",
    "fit33 <-  overglm(ninfec ~ habito + local + fetaria + sexo, family=\"nb2(sqrt)\", data=recrutas)\n",
    "AIC(fit31,fit32,fit33)\n",
    "BIC(fit31,fit32,fit33)"
   ]
  },
  {
   "cell_type": "markdown",
   "metadata": {},
   "source": [
    "Aquí el mejor modelo es el binomial NegativoII enlace log"
   ]
  },
  {
   "cell_type": "markdown",
   "metadata": {},
   "source": [
    "## Otra forma a subdispersión es PoissonNormalInversa"
   ]
  },
  {
   "cell_type": "code",
   "execution_count": 55,
   "metadata": {},
   "outputs": [
    {
     "name": "stdout",
     "output_type": "stream",
     "text": [
      "\n",
      "\n",
      "  Family:  Poisson-Inverse.Gaussian \n",
      "Predictor:  1 + habito + local + fetaria + sexo \n",
      "\n",
      " Object     Link -2*log-likelihood df     AIC \n",
      "  fit41      log          1032.977  7 1046.977\n",
      "  fit42 identity          1033.568  7 1047.568\n",
      "  fit43     sqrt          1033.163  7 1047.163\n",
      "\n",
      "\n",
      "  Family:  Poisson-Inverse.Gaussian \n",
      "Predictor:  1 + habito + local + fetaria + sexo \n",
      "\n",
      " Object     Link -2*log-likelihood df     BIC \n",
      "  fit41      log          1032.977  7 1072.593\n",
      "  fit42 identity          1033.568  7 1073.185\n",
      "  fit43     sqrt          1033.163  7 1072.779\n"
     ]
    }
   ],
   "source": [
    "fit41 <-  overglm(ninfec ~ habito + local + fetaria + sexo, family=\"poig(log)\", data=recrutas)\n",
    "fit42 <-  overglm(ninfec ~ habito + local + fetaria + sexo, family=\"poig(identity)\", data=recrutas)\n",
    "fit43 <-  overglm(ninfec ~ habito + local + fetaria + sexo, family=\"poig(sqrt)\", data=recrutas)\n",
    "AIC(fit41,fit42,fit43)\n",
    "BIC(fit41,fit42,fit43)"
   ]
  },
  {
   "cell_type": "markdown",
   "metadata": {},
   "source": [
    "Auí el mejor modelo es el PoissonNormalInverso enlace log.\n",
    "\n",
    "---\n",
    "\n",
    "Para poder determinar el mejor modelo, se realiza el AIC,BIC de las cuatro formas de subdispersión:"
   ]
  },
  {
   "cell_type": "code",
   "execution_count": 53,
   "metadata": {},
   "outputs": [
    {
     "name": "stdout",
     "output_type": "stream",
     "text": [
      "\n",
      "     Link:  log \n",
      "Predictor:  1 + habito + local + fetaria + sexo \n",
      "\n",
      " Object                   Family -2*log-likelihood df      AIC \n",
      "  fit21      Negative Binomial I          890.6900  7  904.6900\n",
      "  fit31     Negative Binomial II          893.2357  7  907.2357\n",
      "  fit41 Poisson-Inverse.Gaussian         1032.9766  7 1046.9766\n",
      "  fit11                  Poisson         1127.8280  6 1139.8280\n",
      "\n",
      "     Link:  log \n",
      "Predictor:  1 + habito + local + fetaria + sexo \n",
      "\n",
      " Object                   Family -2*log-likelihood df      BIC \n",
      "  fit21      Negative Binomial I          890.6900  7  930.3064\n",
      "  fit31     Negative Binomial II          893.2357  7  932.8521\n",
      "  fit41 Poisson-Inverse.Gaussian         1032.9766  7 1072.5929\n",
      "  fit11                  Poisson         1127.8280  6 1161.7849\n"
     ]
    }
   ],
   "source": [
    "AIC(fit21,fit31,fit41,fit11)\n",
    "BIC(fit21,fit31,fit41,fit11)"
   ]
  },
  {
   "cell_type": "markdown",
   "metadata": {},
   "source": [
    "Finalmente se tiene que el mejor modelo es el que está determinadpo por Negative Binomial I con funcion de enlace log. veamos el ajuste:"
   ]
  },
  {
   "cell_type": "code",
   "execution_count": 56,
   "metadata": {},
   "outputs": [
    {
     "name": "stdout",
     "output_type": "stream",
     "text": [
      "\n",
      "Sample size:  287 \n",
      "     Family:  Negative Binomial I\n",
      "       Link:  log\n",
      " *************************************************************\n",
      "              Estimate Std.Error  z-value  Pr(>|z|)\n",
      "(Intercept)   -0.06082   0.22459 -0.27081 0.7865401\n",
      "habitoOccas    0.60305   0.19059  3.16413 0.0015555\n",
      "localNonBeach  0.54554   0.20287  2.68919 0.0071626\n",
      "fetaria20-24  -0.42924   0.23299 -1.84230 0.0654307\n",
      "fetaria25-29  -0.26250   0.24008 -1.09340 0.2742168\n",
      "sexoMale      -0.14002   0.21034 -0.66568 0.5056185\n",
      "\n",
      "              Estimate Std.Error\n",
      "Dispersion     1.73618   0.27213\n",
      " *************************************************************\n",
      "                 -2*log-likelihood:  890.69 \n",
      "                               AIC:  904.69 \n",
      "                               BIC:  930.306 \n"
     ]
    }
   ],
   "source": [
    "summary(fit21)"
   ]
  },
  {
   "cell_type": "code",
   "execution_count": 57,
   "metadata": {},
   "outputs": [
    {
     "data": {
      "image/png": "[encoded data removed]",
      "text/plain": [
       "Plot with title \"Normal Q-Q Plot\""
      ]
     },
     "metadata": {},
     "output_type": "display_data"
    }
   ],
   "source": [
    "################################# Diagnóstico del modelo seleccionado #################################\n",
    "###################### Análisis de residuos ######################\n",
    "par(mfrow=c(1,2))\n",
    "res <- residuals(fit211,plot=TRUE,type=\"quantile\",identify=1)\n",
    "qqnorm(res,pch=16)\n",
    "abline(0,1)"
   ]
  },
  {
   "cell_type": "markdown",
   "metadata": {},
   "source": [
    "Para este caso no se tiene el envelope, sin embargo se tienen los residuos cuantil y estos deben distribuir normal(0,1) cuando son corresctos."
   ]
  },
  {
   "cell_type": "code",
   "execution_count": 58,
   "metadata": {},
   "outputs": [
    {
     "data": {
      "image/png": "[encoded data removed]",
      "text/plain": [
       "plot without title"
      ]
     },
     "metadata": {},
     "output_type": "display_data"
    }
   ],
   "source": [
    "###################### Análisis de sensibilidad ######################\n",
    "CookDistance(fit211,plot=TRUE,out=FALSE,identify=1)"
   ]
  },
  {
   "cell_type": "code",
   "execution_count": 59,
   "metadata": {},
   "outputs": [
    {
     "name": "stdout",
     "output_type": "stream",
     "text": [
      "\n",
      " Approximate 95 percent confidence intervals based on the Wald test \n",
      "\n",
      "              Lower limit Upper limit\n",
      "(Intercept)      -0.61460      0.0593\n",
      "habitoOccas       0.21651      0.9639\n",
      "localNonBeach     0.10886      0.8538\n",
      "Dispersion        1.31631      2.4222\n"
     ]
    }
   ],
   "source": [
    "###################### Intervalos de confianza ######################\n",
    "ci_glm(fit211)"
   ]
  },
  {
   "cell_type": "markdown",
   "metadata": {},
   "source": [
    "## NOTA:   \n",
    "\n",
    "Para instalar librerias de R en jupyter notebooks usamos la siguiente linea \n",
    "\n",
    "* install.packages(\"ISLR\", \"/home/user/anaconda3/lib/R/library\")  no usar este comando\n",
    "* install.packages(\"sm\", \"/Users/YULY/anaconda/Lib/R/library\")\n",
    "\n",
    "Para más información verificar el siguiente enlace::\n",
    "\n",
    "https://www.pythond.com/23094/conda-como-instalar-paquetes-r-que-no-estan-disponibles-en-r-essentials.html\n",
    "\n",
    "* También puede usarse el siguiente comando desde r para instalar el entorno de r \n",
    "\n",
    "install.packages(\"CASdatasets\", \"/Users/YULY/anaconda/Lib/R/library\",repos = \"http://cas.uqam.ca/pub/R/\")\n"
   ]
  }
 ],
 "metadata": {
  "kernelspec": {
   "display_name": "R",
   "language": "R",
   "name": "ir"
  },
  "language_info": {
   "codemirror_mode": "r",
   "file_extension": ".r",
   "mimetype": "text/x-r-source",
   "name": "R",
   "pygments_lexer": "r",
   "version": "3.6.1"
  }
 },
 "nbformat": 4,
 "nbformat_minor": 2
}
