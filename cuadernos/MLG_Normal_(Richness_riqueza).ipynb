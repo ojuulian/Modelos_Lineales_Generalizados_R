{
 "cells": [
  {
   "cell_type": "markdown",
   "metadata": {},
   "source": [
    "# Estimación De Riqueza De Especies (Richness)\n",
    "\n",
    "## Oscar Julian Layton\n",
    "\n",
    "El objetivo del análisis de estos datos (Crawley (2007, página 534)) es explicar las diferencias entre las parcelas con respecto a la riqueza de las especies usando las siguientes variables explicativas:\n",
    "\n",
    "* **(x2):** las diferencias en su biomasa \n",
    "* **nivel de pH de su suelo:**, el cual pertenece a una de **tres categorias** posibles: bajo (x3 = 0 y x4 = 0), medio (x3 = 1 y x4 = 0), y alto (x3 = 0 y x4 = 1). \n",
    "\n",
    "Aquí la variable de respuesta está tederminada por:\n",
    "\n",
    "* **y:(La riqueza de las especies):** se cuantifica mediante un recuento del número de especies de plantas en cada parcela. "
   ]
  },
  {
   "cell_type": "code",
   "execution_count": 4,
   "metadata": {},
   "outputs": [
    {
     "data": {
      "text/html": [
       "'C:/Users/YULY/Desktop/Desktop/UNAL 2018/MLGz/MLG Vanegas'"
      ],
      "text/latex": [
       "'C:/Users/YULY/Desktop/Desktop/UNAL 2018/MLGz/MLG Vanegas'"
      ],
      "text/markdown": [
       "'C:/Users/YULY/Desktop/Desktop/UNAL 2018/MLGz/MLG Vanegas'"
      ],
      "text/plain": [
       "[1] \"C:/Users/YULY/Desktop/Desktop/UNAL 2018/MLGz/MLG Vanegas\""
      ]
     },
     "metadata": {},
     "output_type": "display_data"
    }
   ],
   "source": [
    "#rm(list=ls())\n",
    "getwd()\n",
    "setwd(\"C:\\\\Users\\\\YULY\\\\Desktop\\\\Desktop\\\\UNAL 2018\\\\MLGz\\\\MLG Vanegas\")  #Asignando capeta busqueda por default\n",
    "source(\"macros.txt\")           # Llamar el archivo de macros que esta en la carpeta especifica,\n",
    "                               # macros son una fuciines especificas creadas porel profesor"
   ]
  },
  {
   "cell_type": "markdown",
   "metadata": {},
   "source": [
    "La lectura de los datos se realiza por medio de la siguiente linea:"
   ]
  },
  {
   "cell_type": "code",
   "execution_count": 5,
   "metadata": {},
   "outputs": [
    {
     "name": "stdout",
     "output_type": "stream",
     "text": [
      "'data.frame':\t90 obs. of  3 variables:\n",
      " $ pH     : Factor w/ 3 levels \"high\",\"low\",\"mid\": 1 1 1 1 1 1 1 1 1 1 ...\n",
      " $ Biomass: num  0.469 1.731 2.09 3.926 4.367 ...\n",
      " $ Species: int  30 39 44 35 25 29 23 18 19 12 ...\n"
     ]
    }
   ],
   "source": [
    "#################### Lectura de los datos ####################\n",
    "rickness<-read.table(\"rickness.txt\", header=TRUE, dec=\",\")\n",
    "str(rickness)                                                #ordena los factores alfanumericamente por eso hight, low, mid"
   ]
  },
  {
   "cell_type": "markdown",
   "metadata": {},
   "source": [
    " ### Organizando los niveles de la variable categórica"
   ]
  },
  {
   "cell_type": "code",
   "execution_count": 40,
   "metadata": {},
   "outputs": [
    {
     "data": {
      "text/html": [
       "<table>\n",
       "<thead><tr><th scope=col>pH</th><th scope=col>Biomass</th><th scope=col>Species</th></tr></thead>\n",
       "<tbody>\n",
       "\t<tr><td>high     </td><td>0.4692972</td><td>30       </td></tr>\n",
       "\t<tr><td>high     </td><td>1.7308704</td><td>39       </td></tr>\n",
       "\t<tr><td>high     </td><td>2.0897785</td><td>44       </td></tr>\n",
       "\t<tr><td>high     </td><td>3.9257871</td><td>35       </td></tr>\n",
       "\t<tr><td>high     </td><td>4.3667927</td><td>25       </td></tr>\n",
       "\t<tr><td>high     </td><td>5.4819747</td><td>29       </td></tr>\n",
       "\t<tr><td>high     </td><td>6.6846859</td><td>23       </td></tr>\n",
       "\t<tr><td>high     </td><td>7.5116506</td><td>18       </td></tr>\n",
       "\t<tr><td>high     </td><td>8.1322025</td><td>19       </td></tr>\n",
       "\t<tr><td>high     </td><td>9.5721286</td><td>12       </td></tr>\n",
       "</tbody>\n",
       "</table>\n"
      ],
      "text/latex": [
       "\\begin{tabular}{r|lll}\n",
       " pH & Biomass & Species\\\\\n",
       "\\hline\n",
       "\t high      & 0.4692972 & 30       \\\\\n",
       "\t high      & 1.7308704 & 39       \\\\\n",
       "\t high      & 2.0897785 & 44       \\\\\n",
       "\t high      & 3.9257871 & 35       \\\\\n",
       "\t high      & 4.3667927 & 25       \\\\\n",
       "\t high      & 5.4819747 & 29       \\\\\n",
       "\t high      & 6.6846859 & 23       \\\\\n",
       "\t high      & 7.5116506 & 18       \\\\\n",
       "\t high      & 8.1322025 & 19       \\\\\n",
       "\t high      & 9.5721286 & 12       \\\\\n",
       "\\end{tabular}\n"
      ],
      "text/markdown": [
       "\n",
       "| pH | Biomass | Species |\n",
       "|---|---|---|\n",
       "| high      | 0.4692972 | 30        |\n",
       "| high      | 1.7308704 | 39        |\n",
       "| high      | 2.0897785 | 44        |\n",
       "| high      | 3.9257871 | 35        |\n",
       "| high      | 4.3667927 | 25        |\n",
       "| high      | 5.4819747 | 29        |\n",
       "| high      | 6.6846859 | 23        |\n",
       "| high      | 7.5116506 | 18        |\n",
       "| high      | 8.1322025 | 19        |\n",
       "| high      | 9.5721286 | 12        |\n",
       "\n"
      ],
      "text/plain": [
       "   pH   Biomass   Species\n",
       "1  high 0.4692972 30     \n",
       "2  high 1.7308704 39     \n",
       "3  high 2.0897785 44     \n",
       "4  high 3.9257871 35     \n",
       "5  high 4.3667927 25     \n",
       "6  high 5.4819747 29     \n",
       "7  high 6.6846859 23     \n",
       "8  high 7.5116506 18     \n",
       "9  high 8.1322025 19     \n",
       "10 high 9.5721286 12     "
      ]
     },
     "metadata": {},
     "output_type": "display_data"
    }
   ],
   "source": [
    "rickness2<-within(rickness,{pH <-factor(pH, levels=c(\"low\",\"mid\",\"high\"))}) #organizando los nievles de ph en bajo medio, alto\n",
    "# rickness$pH <- factor(rickness$pH, levels(rickness$pH)[c(2,3,1)])    #otra forma de ordenar niveles\n",
    "head(rickness,n=10)"
   ]
  },
  {
   "cell_type": "markdown",
   "metadata": {},
   "source": [
    "### Gráfica\n",
    "\n",
    "A continuación se muestra la gráfica que representa al número de especies de plantas versus la biomasa en parcelas con pH bajo,\n",
    "medio y alto."
   ]
  },
  {
   "cell_type": "code",
   "execution_count": 7,
   "metadata": {},
   "outputs": [
    {
     "data": {
      "image/png": "[encoded data removed]",
      "text/plain": [
       "plot without title"
      ]
     },
     "metadata": {},
     "output_type": "display_data"
    }
   ],
   "source": [
    "#################### Gráfico de los datos ####################\n",
    "with(rickness2,{\n",
    "plot(Biomass,Species,col=as.numeric(pH),pch=20,xlab=\"Biomass\",\n",
    "     ylab=\"Number of plant species\")\n",
    "legend(8,45,legend=c(\"pH low\",\"pH mid\",\"pH high\"),\n",
    "     col=sort(unique(as.numeric(pH))),pch=20,bty=\"n\")})"
   ]
  },
  {
   "cell_type": "markdown",
   "metadata": {},
   "source": [
    "El gáfico de los datos indica que el número de especies de plantas en las parcelas disminuye linealmente a medida que aumenta la biomasa, y la velocidad a la que se produce esa disminución no depende del nivel de pH del suelo, lo cual sugiere que debe usarse un modelo de rectas paralelas, es decir, un modelo cuya componente sistemática incluye los efectos de biomasa y nivel de pH pero no la interacción entre ellos.\n",
    "\n",
    "\n",
    "\n",
    "A pesar de lo evidenciado por el gráfico de los datos el modelo propuesto para analizarlos supone que el efecto de la biomasa sobre el número esperado de especies de plantas depende del nivel de pH del suelo, es decir, los datos se analizan suponiendo que $y_1, . . . , y_90$ son realizaciones de las variables aleatorias $Y_1, . . . , Y_90$, las cuales son tales que\n",
    "\n",
    "$\\;$\n",
    "$$\\begin{equation*}\n",
    "     \\left\\{\n",
    "\t       \\begin{array}{ll}\n",
    "           Y_k = \\mu_k + \\epsilon_k\\\\\n",
    "\t\t \\mu_k=\\mathbf{x}_k'\\beta  \\\\\n",
    "\t\t \\epsilon_k \\overset{\\text{iid}}{\\sim} Normal(0, \\sigma^2)\n",
    "\t       \\end{array}\n",
    "\t     \\right.\n",
    "   \\end{equation*}\n",
    "   $$\n",
    "  \n",
    "  $\\;$\n",
    "$$\\begin{equation*}\n",
    "     \\left\\{\n",
    "\t       \\begin{array}{ll}\n",
    "           Y_k = \\mu_k + \\epsilon_k\\\\\n",
    "\t\t \\mu_k=\\mathbf{x}_k'\\beta = \\beta_1 + \\beta_2 x_{k2} + \\beta_3 x_{k3} + \\beta_4 x_{k4} + \\beta_5 x_{k2}x_{k3} + \\beta_6 x_{k2}x_{k4}  \\\\\n",
    "\t\t \\epsilon_k \\overset{\\text{iid}}{\\sim} Normal(0, \\sigma^2)\n",
    "\t       \\end{array}\n",
    "\t     \\right.\n",
    "   \\end{equation*}\n",
    "   $$\n"
   ]
  },
  {
   "cell_type": "markdown",
   "metadata": {},
   "source": [
    "### Ajuste del Modelo"
   ]
  },
  {
   "cell_type": "code",
   "execution_count": 8,
   "metadata": {},
   "outputs": [
    {
     "data": {
      "text/plain": [
       "\n",
       "Call:\n",
       "lm(formula = Species ~ 1 + Biomass + pH + Biomass * pH, data = rickness2)\n",
       "\n",
       "Residuals:\n",
       "   Min     1Q Median     3Q    Max \n",
       "-9.290 -2.554 -0.124  2.208 15.677 \n",
       "\n",
       "Coefficients:\n",
       "               Estimate Std. Error t value Pr(>|t|)    \n",
       "(Intercept)    17.84740    1.22510  14.568  < 2e-16 ***\n",
       "Biomass        -2.82778    0.45357  -6.235 1.74e-08 ***\n",
       "pHmid          11.18359    1.76813   6.325 1.17e-08 ***\n",
       "pHhigh         22.75667    1.83564  12.397  < 2e-16 ***\n",
       "Biomass:pHmid   0.26268    0.54557   0.481    0.631    \n",
       "Biomass:pHhigh  0.02733    0.51248   0.053    0.958    \n",
       "---\n",
       "Signif. codes:  0 '***' 0.001 '**' 0.01 '*' 0.05 '.' 0.1 ' ' 1\n",
       "\n",
       "Residual standard error: 3.818 on 84 degrees of freedom\n",
       "Multiple R-squared:  0.8531,\tAdjusted R-squared:  0.8444 \n",
       "F-statistic: 97.58 on 5 and 84 DF,  p-value: < 2.2e-16\n"
      ]
     },
     "metadata": {},
     "output_type": "display_data"
    }
   ],
   "source": [
    "#################### Ajuste del modelo ####################\n",
    "fit <- lm(Species ~ 1 + Biomass + pH + Biomass*pH, data=rickness2)   #lm modelo lineal, este modelo no tiene interaccion,  tiene dos efectos (Biomass , pH)\n",
    "summary(fit)                                             #la codificacion estÃ¡ en la estimacion de los parametros de la variable dummy, (se estÃ¡n estimando 4 betas)\n",
    "                                                         #en summary aparece la estad?stica F la cual dice que todos los btas son iguals a cero menos el intercepto   vz  h1:alguna beta es diferente de cero\n",
    "\n"
   ]
  },
  {
   "cell_type": "markdown",
   "metadata": {},
   "source": [
    "Analizando el modelo mediante la función **lm:modelo lineal**, las interacciones no son significativas esto puede ser visto en la gráfica puesto que daba indicios de paralelismo. Tal paralelismo o interacción de los datos se evaluan considerando el siguiente sistema de hipótesis:\n",
    "\n",
    "$$H_{0}: \\beta_5=\\beta_6 =0\\;\\;\\;\\;vs \\;\\;\\;\\; H_{1}: \\beta_5 \\neq \\beta_6 \\neq 0$$\n"
   ]
  },
  {
   "cell_type": "code",
   "execution_count": 9,
   "metadata": {},
   "outputs": [
    {
     "data": {
      "image/png": "[encoded data removed]",
      "text/plain": [
       "Plot with title \"pH\""
      ]
     },
     "metadata": {},
     "output_type": "display_data"
    }
   ],
   "source": [
    "graphs_glm(fit,1,2,pch=16)   #hace graficos marginales, con 1,2 establezco el grafico "
   ]
  },
  {
   "cell_type": "markdown",
   "metadata": {},
   "source": [
    "## Contraste de hipótesis de interacción\n"
   ]
  },
  {
   "cell_type": "code",
   "execution_count": 37,
   "metadata": {},
   "outputs": [
    {
     "name": "stdout",
     "output_type": "stream",
     "text": [
      "\n",
      " F test \n",
      "\n",
      " Model 1:  Species ~ 1 + Biomass + pH + Biomass * pH \n",
      " Model 2:  Species ~ 1 + Biomass + pH \n",
      "\n",
      "     F    Df1 Df2 Pr(>F)\n",
      "  0.21465   2  84 0.8073\n"
     ]
    }
   ],
   "source": [
    "fit2 <- lm(Species ~1+ Biomass + pH, data = rickness2)\n",
    "anova_glm(fit2,fit)    #H_o  :  b_5=b_6=0   se concluye que no hay interaccion, las rectas son paralelas, las rectas\n",
    "                        #tienen la misma pendianete.  \n",
    "                        #comparando la SCres, OBSERVANDO LA SALIDA RESIDUAL STANDAR ERROR ES SQRT(SIGMA{2)"
   ]
  },
  {
   "cell_type": "markdown",
   "metadata": {},
   "source": [
    "El resultado anterior generado por **anova_glm(fit2,fit)** está determinado al particionar ${\\beta}=\\mathbf{\\beta}=(\\beta_1 , \\beta_2)$ donde **s=2** es la dimensión del vector $\\beta_1$:\n",
    "\n",
    "$$F=\\frac{Q(\\mathbf{\\widehat{\\beta}}^{(0)})-Q(\\mathbf{\\widehat{\\beta}})}{s \\widehat{\\sigma}^2}\\;\\;\\;\\;\\;\\; ; \\;\\;\\;\\;\\;\\;\\;F \\sim F_{(1-\\alpha)}(s,n-p)$$\n",
    "\n",
    "$$F=\\frac{(3.783^2)*86 - (3.818^2)*84}{(2 )(3.818^2)}= 0.2152688$$\n",
    "\n",
    "Aquí: \n",
    "* #2 es la dimension del vector de hipotesisi nula\n",
    "* $Q(\\mathbf{\\widehat{\\beta}}^{(0)})= (\\widehat{\\sigma}^2)* gl $ es: **scres  del modelo sin interacción**\n",
    "* $Q(\\mathbf{\\widehat{\\beta}})= (\\widehat{\\sigma}^2)* gl  $ es:  **scres del modelo con interacción (se sabe que sigma es mas pequeño)**\n",
    "\n",
    "* pv=1-pf(0.2152688,2,84)= 0.8067681\n",
    "\n",
    "Estos resultados indican que no existe evidencia estadísticamente significativa para rechazar $H_0$, por lo que se puede concluir que no existe interacción entre los efectos de la biomasa y el nivel de pH del suelo, lo cual confirma lo evidenciado por el gráfico de los datos. Por lo tanto, el modelo seleccionado para analizar los datos es el siguiente: \n",
    "\n",
    "$$\\begin{equation*}\n",
    "     \\left\\{\n",
    "\t       \\begin{array}{ll}\n",
    "           Y_k = \\mu_k + \\epsilon_k\\\\\n",
    "\t\t \\mu_k=\\mathbf{x}_k'\\beta = \\beta_1 + \\beta_2 x_{k2} + \\beta_3 x_{k3} + \\beta_4 x_{k4} \\\\\n",
    "\t\t \\epsilon_k \\overset{\\text{iid}}{\\sim} Normal(0, \\sigma^2)\n",
    "\t       \\end{array}\n",
    "\t     \\right.\n",
    "   \\end{equation*}\n",
    "   $$\n"
   ]
  },
  {
   "cell_type": "code",
   "execution_count": 11,
   "metadata": {},
   "outputs": [
    {
     "name": "stdout",
     "output_type": "stream",
     "text": [
      "\n",
      "Initial model:\n",
      "Species ~ 1 + Biomass + pH + Biomass:pH \n",
      "\n",
      "Step 0 :    \n",
      "             Df      BIC      AIC   R-squared*   PRESS+     CP**  p-value\n",
      "- Biomass:pH  2   513.3235 500.8244     0.8472  15.0122   2.4293   0.8073\n",
      "<none>            521.8643 504.3656     0.8444  15.4643   6.0000         \n",
      "\n",
      "Step 1 :  - Biomass:pH \n",
      "          Df      BIC      AIC   R-squared*   PRESS+     CP**  p-value\n",
      "<none>         513.3235 500.8244     0.8472  15.0122   2.4293         \n",
      "- Biomass  1   632.1231 622.1238     0.4057  57.6001 248.2567   0.0000\n",
      "- pH       2   666.9625 659.4631     0.0903  86.5861 428.4049   0.0000\n",
      "\n",
      "*  Adjusted R-squared\n",
      "+  Allen's PRESS divided by the sample size\n",
      "** Mallows's CP\n",
      "\n",
      "\n",
      "Final model:\n",
      "Species ~ 1 + Biomass + pH \n",
      "\n"
     ]
    }
   ],
   "source": [
    "step_glm(fit, criterion=\"BIC\", direction = \"backward\")   #forward  o  backward"
   ]
  },
  {
   "cell_type": "markdown",
   "metadata": {},
   "source": [
    "El anterior codigo establece el mejor modelo. Si usamos el proceso backward, se tiene: \n",
    "\n",
    "* **paso 0**: Si quito la interacción tendría un BIC=513.3235 mucho menor que el bic de no hacer nada. luego es aconsejable quitar la interacción doble. Con el AIC me da la misma conclusión. Con el R^2 (Entre mayor + mejor ) tambien indica que es bueno quirtar la interaccion doble.  Con el R^2 basado en la estadística Pearson también (entre mayor mejor). Según el p-valor se establece que hay que sacar esa interacción.   **CONCLUSIÓN: Sacar la interacción doble**.\n",
    "\n",
    "* **paso 1**: se tienen dos efectos los cuales contrastandose con el BIC, AIC se es necesario *no hacer nada*, no obstante en el $R^2_d$ da la misma conclusión.\n",
    "\n",
    "Luego el modelo ideal está determinado por:\n",
    "\n",
    "$$Species = 1 + Biomass + pH$$"
   ]
  },
  {
   "cell_type": "code",
   "execution_count": 12,
   "metadata": {},
   "outputs": [
    {
     "data": {
      "text/plain": [
       "\n",
       "Call:\n",
       "lm(formula = Species ~ 1 + Biomass + pH, data = rickness2)\n",
       "\n",
       "Residuals:\n",
       "   Min     1Q Median     3Q    Max \n",
       "-8.965 -2.693  0.062  2.171 15.508 \n",
       "\n",
       "Coefficients:\n",
       "            Estimate Std. Error t value Pr(>|t|)    \n",
       "(Intercept)  17.6248     0.7890   22.34   <2e-16 ***\n",
       "Biomass      -2.7276     0.1717  -15.89   <2e-16 ***\n",
       "pHmid        11.9782     1.0020   11.95   <2e-16 ***\n",
       "pHhigh       22.6200     1.0818   20.91   <2e-16 ***\n",
       "---\n",
       "Signif. codes:  0 '***' 0.001 '**' 0.01 '*' 0.05 '.' 0.1 ' ' 1\n",
       "\n",
       "Residual standard error: 3.783 on 86 degrees of freedom\n",
       "Multiple R-squared:  0.8524,\tAdjusted R-squared:  0.8472 \n",
       "F-statistic: 165.5 on 3 and 86 DF,  p-value: < 2.2e-16\n"
      ]
     },
     "metadata": {},
     "output_type": "display_data"
    }
   ],
   "source": [
    "summary(fit2)"
   ]
  },
  {
   "cell_type": "markdown",
   "metadata": {},
   "source": [
    "---\n"
   ]
  },
  {
   "cell_type": "code",
   "execution_count": 13,
   "metadata": {},
   "outputs": [
    {
     "data": {
      "text/html": [
       "<dl class=dl-horizontal>\n",
       "\t<dt>(Intercept)</dt>\n",
       "\t\t<dd>17.6248427782178</dd>\n",
       "\t<dt>Biomass</dt>\n",
       "\t\t<dd>-2.72757972370234</dd>\n",
       "\t<dt>pHmid</dt>\n",
       "\t\t<dd>11.9781867807537</dd>\n",
       "\t<dt>pHhigh</dt>\n",
       "\t\t<dd>22.6200218485265</dd>\n",
       "</dl>\n"
      ],
      "text/latex": [
       "\\begin{description*}\n",
       "\\item[(Intercept)] 17.6248427782178\n",
       "\\item[Biomass] -2.72757972370234\n",
       "\\item[pHmid] 11.9781867807537\n",
       "\\item[pHhigh] 22.6200218485265\n",
       "\\end{description*}\n"
      ],
      "text/markdown": [
       "(Intercept)\n",
       ":   17.6248427782178Biomass\n",
       ":   -2.72757972370234pHmid\n",
       ":   11.9781867807537pHhigh\n",
       ":   22.6200218485265\n",
       "\n"
      ],
      "text/plain": [
       "(Intercept)     Biomass       pHmid      pHhigh \n",
       "   17.62484    -2.72758    11.97819    22.62002 "
      ]
     },
     "metadata": {},
     "output_type": "display_data"
    },
    {
     "data": {
      "text/html": [
       "<strong>Biomass:</strong> -2.72757972370234"
      ],
      "text/latex": [
       "\\textbf{Biomass:} -2.72757972370234"
      ],
      "text/markdown": [
       "**Biomass:** -2.72757972370234"
      ],
      "text/plain": [
       " Biomass \n",
       "-2.72758 "
      ]
     },
     "metadata": {},
     "output_type": "display_data"
    },
    {
     "data": {
      "text/html": [
       "<table>\n",
       "<thead><tr><th></th><th scope=col>(Intercept)</th><th scope=col>Biomass</th><th scope=col>pHmid</th><th scope=col>pHhigh</th></tr></thead>\n",
       "<tbody>\n",
       "\t<tr><th scope=row>(Intercept)</th><td> 0.6224985 </td><td>-0.06545830</td><td>-0.39203851</td><td>-0.29983955</td></tr>\n",
       "\t<tr><th scope=row>Biomass</th><td>-0.0654583 </td><td> 0.02947137</td><td>-0.03830197</td><td>-0.07981281</td></tr>\n",
       "\t<tr><th scope=row>pHmid</th><td>-0.3920385 </td><td>-0.03830197</td><td> 1.00399910</td><td> 0.58083768</td></tr>\n",
       "\t<tr><th scope=row>pHhigh</th><td>-0.2998396 </td><td>-0.07981281</td><td> 0.58083768</td><td> 1.17036547</td></tr>\n",
       "</tbody>\n",
       "</table>\n"
      ],
      "text/latex": [
       "\\begin{tabular}{r|llll}\n",
       "  & (Intercept) & Biomass & pHmid & pHhigh\\\\\n",
       "\\hline\n",
       "\t(Intercept) &  0.6224985  & -0.06545830 & -0.39203851 & -0.29983955\\\\\n",
       "\tBiomass & -0.0654583  &  0.02947137 & -0.03830197 & -0.07981281\\\\\n",
       "\tpHmid & -0.3920385  & -0.03830197 &  1.00399910 &  0.58083768\\\\\n",
       "\tpHhigh & -0.2998396  & -0.07981281 &  0.58083768 &  1.17036547\\\\\n",
       "\\end{tabular}\n"
      ],
      "text/markdown": [
       "\n",
       "| <!--/--> | (Intercept) | Biomass | pHmid | pHhigh |\n",
       "|---|---|---|---|---|\n",
       "| (Intercept) |  0.6224985  | -0.06545830 | -0.39203851 | -0.29983955 |\n",
       "| Biomass | -0.0654583  |  0.02947137 | -0.03830197 | -0.07981281 |\n",
       "| pHmid | -0.3920385  | -0.03830197 |  1.00399910 |  0.58083768 |\n",
       "| pHhigh | -0.2998396  | -0.07981281 |  0.58083768 |  1.17036547 |\n",
       "\n"
      ],
      "text/plain": [
       "            (Intercept) Biomass     pHmid       pHhigh     \n",
       "(Intercept)  0.6224985  -0.06545830 -0.39203851 -0.29983955\n",
       "Biomass     -0.0654583   0.02947137 -0.03830197 -0.07981281\n",
       "pHmid       -0.3920385  -0.03830197  1.00399910  0.58083768\n",
       "pHhigh      -0.2998396  -0.07981281  0.58083768  1.17036547"
      ]
     },
     "metadata": {},
     "output_type": "display_data"
    },
    {
     "data": {
      "text/html": [
       "<dl class=dl-horizontal>\n",
       "\t<dt>(Intercept)</dt>\n",
       "\t\t<dd>0.622498497135165</dd>\n",
       "\t<dt>Biomass</dt>\n",
       "\t\t<dd>0.0294713675550106</dd>\n",
       "\t<dt>pHmid</dt>\n",
       "\t\t<dd>1.00399910391309</dd>\n",
       "\t<dt>pHhigh</dt>\n",
       "\t\t<dd>1.17036546782251</dd>\n",
       "</dl>\n"
      ],
      "text/latex": [
       "\\begin{description*}\n",
       "\\item[(Intercept)] 0.622498497135165\n",
       "\\item[Biomass] 0.0294713675550106\n",
       "\\item[pHmid] 1.00399910391309\n",
       "\\item[pHhigh] 1.17036546782251\n",
       "\\end{description*}\n"
      ],
      "text/markdown": [
       "(Intercept)\n",
       ":   0.622498497135165Biomass\n",
       ":   0.0294713675550106pHmid\n",
       ":   1.00399910391309pHhigh\n",
       ":   1.17036546782251\n",
       "\n"
      ],
      "text/plain": [
       "(Intercept)     Biomass       pHmid      pHhigh \n",
       " 0.62249850  0.02947137  1.00399910  1.17036547 "
      ]
     },
     "metadata": {},
     "output_type": "display_data"
    },
    {
     "data": {
      "text/html": [
       "<dl class=dl-horizontal>\n",
       "\t<dt>(Intercept)</dt>\n",
       "\t\t<dd>0.788985739500509</dd>\n",
       "\t<dt>Biomass</dt>\n",
       "\t\t<dd>0.171672267868199</dd>\n",
       "\t<dt>pHmid</dt>\n",
       "\t\t<dd>1.00199755683988</dd>\n",
       "\t<dt>pHhigh</dt>\n",
       "\t\t<dd>1.0818343070094</dd>\n",
       "</dl>\n"
      ],
      "text/latex": [
       "\\begin{description*}\n",
       "\\item[(Intercept)] 0.788985739500509\n",
       "\\item[Biomass] 0.171672267868199\n",
       "\\item[pHmid] 1.00199755683988\n",
       "\\item[pHhigh] 1.0818343070094\n",
       "\\end{description*}\n"
      ],
      "text/markdown": [
       "(Intercept)\n",
       ":   0.788985739500509Biomass\n",
       ":   0.171672267868199pHmid\n",
       ":   1.00199755683988pHhigh\n",
       ":   1.0818343070094\n",
       "\n"
      ],
      "text/plain": [
       "(Intercept)     Biomass       pHmid      pHhigh \n",
       "  0.7889857   0.1716723   1.0019976   1.0818343 "
      ]
     },
     "metadata": {},
     "output_type": "display_data"
    },
    {
     "data": {
      "text/html": [
       "<dl class=dl-horizontal>\n",
       "\t<dt>1</dt>\n",
       "\t\t<dd>38.9648190423549</dd>\n",
       "\t<dt>2</dt>\n",
       "\t\t<dd>35.5237775484307</dd>\n",
       "\t<dt>3</dt>\n",
       "\t\t<dd>34.5448272149392</dd>\n",
       "\t<dt>4</dt>\n",
       "\t\t<dd>29.5369672350192</dd>\n",
       "\t<dt>5</dt>\n",
       "\t\t<dd>28.3340895288092</dd>\n",
       "\t<dt>6</dt>\n",
       "\t\t<dd>25.292341635544</dd>\n",
       "</dl>\n"
      ],
      "text/latex": [
       "\\begin{description*}\n",
       "\\item[1] 38.9648190423549\n",
       "\\item[2] 35.5237775484307\n",
       "\\item[3] 34.5448272149392\n",
       "\\item[4] 29.5369672350192\n",
       "\\item[5] 28.3340895288092\n",
       "\\item[6] 25.292341635544\n",
       "\\end{description*}\n"
      ],
      "text/markdown": [
       "1\n",
       ":   38.96481904235492\n",
       ":   35.52377754843073\n",
       ":   34.54482721493924\n",
       ":   29.53696723501925\n",
       ":   28.33408952880926\n",
       ":   25.292341635544\n",
       "\n"
      ],
      "text/plain": [
       "       1        2        3        4        5        6 \n",
       "38.96482 35.52378 34.54483 29.53697 28.33409 25.29234 "
      ]
     },
     "metadata": {},
     "output_type": "display_data"
    },
    {
     "data": {
      "text/html": [
       "<dl class=dl-horizontal>\n",
       "\t<dt>1</dt>\n",
       "\t\t<dd>-8.96481904235493</dd>\n",
       "\t<dt>2</dt>\n",
       "\t\t<dd>3.47622245156931</dd>\n",
       "\t<dt>3</dt>\n",
       "\t\t<dd>9.45517278506075</dd>\n",
       "\t<dt>4</dt>\n",
       "\t\t<dd>5.46303276498076</dd>\n",
       "\t<dt>5</dt>\n",
       "\t\t<dd>-3.33408952880917</dd>\n",
       "\t<dt>6</dt>\n",
       "\t\t<dd>3.70765836445604</dd>\n",
       "</dl>\n"
      ],
      "text/latex": [
       "\\begin{description*}\n",
       "\\item[1] -8.96481904235493\n",
       "\\item[2] 3.47622245156931\n",
       "\\item[3] 9.45517278506075\n",
       "\\item[4] 5.46303276498076\n",
       "\\item[5] -3.33408952880917\n",
       "\\item[6] 3.70765836445604\n",
       "\\end{description*}\n"
      ],
      "text/markdown": [
       "1\n",
       ":   -8.964819042354932\n",
       ":   3.476222451569313\n",
       ":   9.455172785060754\n",
       ":   5.463032764980765\n",
       ":   -3.334089528809176\n",
       ":   3.70765836445604\n",
       "\n"
      ],
      "text/plain": [
       "        1         2         3         4         5         6 \n",
       "-8.964819  3.476222  9.455173  5.463033 -3.334090  3.707658 "
      ]
     },
     "metadata": {},
     "output_type": "display_data"
    },
    {
     "data": {
      "text/html": [
       "<table>\n",
       "<thead><tr><th scope=col>(Intercept)</th><th scope=col>Biomass</th><th scope=col>pHmid</th><th scope=col>pHhigh</th></tr></thead>\n",
       "<tbody>\n",
       "\t<tr><td>1        </td><td>0.4692972</td><td>0        </td><td>1        </td></tr>\n",
       "\t<tr><td>1        </td><td>1.7308704</td><td>0        </td><td>1        </td></tr>\n",
       "\t<tr><td>1        </td><td>2.0897785</td><td>0        </td><td>1        </td></tr>\n",
       "\t<tr><td>1        </td><td>3.9257871</td><td>0        </td><td>1        </td></tr>\n",
       "\t<tr><td>1        </td><td>4.3667927</td><td>0        </td><td>1        </td></tr>\n",
       "\t<tr><td>1        </td><td>5.4819747</td><td>0        </td><td>1        </td></tr>\n",
       "</tbody>\n",
       "</table>\n"
      ],
      "text/latex": [
       "\\begin{tabular}{r|llll}\n",
       " (Intercept) & Biomass & pHmid & pHhigh\\\\\n",
       "\\hline\n",
       "\t 1         & 0.4692972 & 0         & 1        \\\\\n",
       "\t 1         & 1.7308704 & 0         & 1        \\\\\n",
       "\t 1         & 2.0897785 & 0         & 1        \\\\\n",
       "\t 1         & 3.9257871 & 0         & 1        \\\\\n",
       "\t 1         & 4.3667927 & 0         & 1        \\\\\n",
       "\t 1         & 5.4819747 & 0         & 1        \\\\\n",
       "\\end{tabular}\n"
      ],
      "text/markdown": [
       "\n",
       "| (Intercept) | Biomass | pHmid | pHhigh |\n",
       "|---|---|---|---|\n",
       "| 1         | 0.4692972 | 0         | 1         |\n",
       "| 1         | 1.7308704 | 0         | 1         |\n",
       "| 1         | 2.0897785 | 0         | 1         |\n",
       "| 1         | 3.9257871 | 0         | 1         |\n",
       "| 1         | 4.3667927 | 0         | 1         |\n",
       "| 1         | 5.4819747 | 0         | 1         |\n",
       "\n"
      ],
      "text/plain": [
       "  (Intercept) Biomass   pHmid pHhigh\n",
       "1 1           0.4692972 0     1     \n",
       "2 1           1.7308704 0     1     \n",
       "3 1           2.0897785 0     1     \n",
       "4 1           3.9257871 0     1     \n",
       "5 1           4.3667927 0     1     \n",
       "6 1           5.4819747 0     1     "
      ]
     },
     "metadata": {},
     "output_type": "display_data"
    },
    {
     "data": {
      "text/html": [
       "90"
      ],
      "text/latex": [
       "90"
      ],
      "text/markdown": [
       "90"
      ],
      "text/plain": [
       "[1] 90"
      ]
     },
     "metadata": {},
     "output_type": "display_data"
    },
    {
     "data": {
      "text/html": [
       "4"
      ],
      "text/latex": [
       "4"
      ],
      "text/markdown": [
       "4"
      ],
      "text/plain": [
       "[1] 4"
      ]
     },
     "metadata": {},
     "output_type": "display_data"
    }
   ],
   "source": [
    "coef(fit2)                                    #beta gorros\n",
    "coef(fit2)[2]                                 #segundo beta gorros\n",
    "vcov(fit2)                                    #sigma(xÂ´x)^-1  estimacion de la matriz de varianzas y con estimada  p*p\n",
    "diag(vcov(fit2))\n",
    "sqrt(diag(vcov(fit2)))                        #\n",
    "head(fitted(fit2))                                  #mu gorros\n",
    "head(residuals(fit2))\n",
    "x<-model.matrix(fit2) ; head(x)          #matrix x\n",
    "nrow(x)\n",
    "ncol(x)"
   ]
  },
  {
   "cell_type": "markdown",
   "metadata": {},
   "source": [
    "## Modelo final"
   ]
  },
  {
   "cell_type": "code",
   "execution_count": 14,
   "metadata": {},
   "outputs": [
    {
     "data": {
      "image/png": "[encoded data removed]",
      "text/plain": [
       "plot without title"
      ]
     },
     "metadata": {},
     "output_type": "display_data"
    }
   ],
   "source": [
    "#################### Grafico de los datos junto con el modelo ajustado ####################\n",
    "with(rickness2,{\n",
    "Biomass2 <- seq(min(Biomass),max(Biomass),length=100)\n",
    "ys <- predict(fit2,data.frame(Biomass=Biomass2,pH=\"high\"),type=\"response\")\n",
    "plot(Biomass2,ys,xlab=\"Biomass\",ylab=\"Number of plant species\",xlim=range(Biomass),\n",
    "     ylim=range(Species),type=\"l\",col=3)\n",
    "ys <- predict(fit2,data.frame(Biomass=Biomass2,pH=\"mid\"),type=\"response\")\n",
    "lines(Biomass2,ys,col=2)\n",
    "ys <- predict(fit2,data.frame(Biomass=Biomass2,pH=\"low\"),type=\"response\")\n",
    "lines(Biomass2,ys,col=1)\n",
    "points(Biomass,Species,col=as.numeric(pH),pch=20,xlab=\"Biomass\",ylab=\"Number of plant species\")\n",
    "legend(8,45,legend=c(\"pH low\",\"pH mid\",\"pH high\"),col=sort(unique(as.numeric(pH))),pch=20,bty=\"n\")})\n"
   ]
  },
  {
   "cell_type": "code",
   "execution_count": 15,
   "metadata": {},
   "outputs": [
    {
     "data": {
      "text/plain": [
       "\n",
       "Call:\n",
       "lm(formula = Species ~ 1 + Biomass + pH, data = rickness2)\n",
       "\n",
       "Residuals:\n",
       "   Min     1Q Median     3Q    Max \n",
       "-8.965 -2.693  0.062  2.171 15.508 \n",
       "\n",
       "Coefficients:\n",
       "            Estimate Std. Error t value Pr(>|t|)    \n",
       "(Intercept)  17.6248     0.7890   22.34   <2e-16 ***\n",
       "Biomass      -2.7276     0.1717  -15.89   <2e-16 ***\n",
       "pHmid        11.9782     1.0020   11.95   <2e-16 ***\n",
       "pHhigh       22.6200     1.0818   20.91   <2e-16 ***\n",
       "---\n",
       "Signif. codes:  0 '***' 0.001 '**' 0.01 '*' 0.05 '.' 0.1 ' ' 1\n",
       "\n",
       "Residual standard error: 3.783 on 86 degrees of freedom\n",
       "Multiple R-squared:  0.8524,\tAdjusted R-squared:  0.8472 \n",
       "F-statistic: 165.5 on 3 and 86 DF,  p-value: < 2.2e-16\n"
      ]
     },
     "metadata": {},
     "output_type": "display_data"
    }
   ],
   "source": [
    "summary(fit2)"
   ]
  },
  {
   "cell_type": "markdown",
   "metadata": {},
   "source": [
    "### Interpretación de los parámetros\n",
    "\n",
    "Para la interpretación de los parámetros se tendrá en cuenta que la base de la variable categórica está determinada por **PHlow: Phbajo**\n",
    "\n",
    "* El efecto del PH no depende de la biomasa por no existir interacción.\n",
    "\n",
    "**Interpretación del intercepto ($\\beta_1$)**\n",
    "\n",
    "* Permitiendose pensar en parcelas con biomasa cero, $\\beta_1= 17.6248$ representa el numero de especies (plantas) promedio en parcelas con PH bajo.\n",
    "\n",
    "**Interpretación del efecto de la biomasa ($\\beta_2$)**\n",
    "\n",
    "* Sin importar el nivel de pH en el suelo, el número esperado de especies de plantas en una parcela disminuye, aproximadamente, 2.73 especies por cada unidad que aumenta su biomasa.  (en otras palabras a medida que aumenta la biomasa, el número esperado de especies disminuye en 2.72 aproximadamente por cada unidad adicional en biomasa) *(otra interpretación está caraterizada al comparar dos parcelas con el mismo PH, por cada unidad adicional en la biomasa el numero de especies promedio disminuye  2.73 unidades)*\n",
    "\n",
    "**Interpretación del efecto del ph ($\\beta_3 , \\beta_4$)**\n",
    "\n",
    "* Si se comparan dos parcelas con la misma biomasa pero donde el suelo de la primera de ellas tiene pH medio mientras que el suelo de la segunda tiene pH bajo, entonces el número esperado de especies de plantas en la primera parcela es, aproximadamente, 11.98 especies mayor que en la segunda. \n",
    "\n",
    "* si se comparan dos parcelas con la misma biomasa pero donde el suelo de la primera de ellas tiene pH alto mientras que el suelo de la segunda tiene pH bajo, entonces el número esperado de especies de plantas en la primera parcela (la PHalto) es, aproximadamente, 22.62 especies mayor que en la segunda  (la de PHbajo). \n",
    "\n",
    "**Interpretación de $\\sigma$**\n",
    "\n",
    "* Distancia promedio entre la diferencia de el número de especies en una parcela particular y el valor promedio de la misma para parcelas con los mismos valores en biomasa y PH.\n",
    "\n",
    "Por otro lado, el valor del coeficiente de determinación ($R^2 = 0.852$) indica que $85.24 \\%$ de las diferencias entre las 90 parcelas de la muestra con respecto a la riqueza de las especies se explica por las diferencias entre las mismas en relación a la biomasa y al nivel de pH en el suelo.\n",
    "\n",
    "---\n",
    "## Análisis de sensibilidad\n",
    "\n"
   ]
  },
  {
   "cell_type": "code",
   "execution_count": 16,
   "metadata": {},
   "outputs": [
    {
     "data": {
      "text/html": [
       "<ol class=list-inline>\n",
       "\t<li>0.0742892496473362</li>\n",
       "\t<li>0.0543960558596308</li>\n",
       "\t<li>0.0499341253063852</li>\n",
       "\t<li>0.0354065492660725</li>\n",
       "\t<li>0.0339846718370835</li>\n",
       "\t<li>0.0339624210769433</li>\n",
       "\t<li>0.0396784655472727</li>\n",
       "\t<li>0.0470647265968791</li>\n",
       "\t<li>0.0544568870997852</li>\n",
       "\t<li>0.0777186036981721</li>\n",
       "\t<li>0.0816184171456583</li>\n",
       "\t<li>0.0614034104632165</li>\n",
       "\t<li>0.0451654806555367</li>\n",
       "\t<li>0.0380985508917929</li>\n",
       "\t<li>0.0335497249263335</li>\n",
       "\t<li>0.0337292248266167</li>\n",
       "\t<li>0.0388147741270016</li>\n",
       "\t<li>0.0443474307537894</li>\n",
       "\t<li>0.0596401053242549</li>\n",
       "\t<li>0.0743221862623959</li>\n",
       "\t<li>0.0690402854341145</li>\n",
       "\t<li>0.0623308972686062</li>\n",
       "\t<li>0.0472963172291595</li>\n",
       "\t<li>0.0393284113003807</li>\n",
       "\t<li>0.0346284701237884</li>\n",
       "\t<li>0.0334223699045715</li>\n",
       "\t<li>0.0379211991861232</li>\n",
       "\t<li>0.0427302144142015</li>\n",
       "\t<li>0.0633274706247996</li>\n",
       "\t<li>0.0858963147445814</li>\n",
       "\t<li>0.0563710792299148</li>\n",
       "\t<li>0.0427975347059388</li>\n",
       "\t<li>0.0352693537494154</li>\n",
       "\t<li>0.0338910349423259</li>\n",
       "\t<li>0.0372824770089953</li>\n",
       "\t<li>0.0401730583445237</li>\n",
       "\t<li>0.0692970296852864</li>\n",
       "\t<li>0.0514593691693008</li>\n",
       "\t<li>0.0381559243093534</li>\n",
       "\t<li>0.0340946731962883</li>\n",
       "\t<li>0.0335239492158405</li>\n",
       "\t<li>0.0377173492227372</li>\n",
       "\t<li>0.042745271173411</li>\n",
       "\t<li>0.0765106535105348</li>\n",
       "\t<li>0.0492593588759352</li>\n",
       "\t<li>0.0415182612677467</li>\n",
       "\t<li>0.0367522711667767</li>\n",
       "\t<li>0.0336070056042355</li>\n",
       "\t<li>0.0358510465382669</li>\n",
       "\t<li>0.0386060937980806</li>\n",
       "\t<li>0.080364547642543</li>\n",
       "\t<li>0.0519812558995906</li>\n",
       "\t<li>0.0419230068126759</li>\n",
       "\t<li>0.0340407698173296</li>\n",
       "\t<li>0.0333338106538424</li>\n",
       "\t<li>0.0358120539436518</li>\n",
       "\t<li>0.0430849704966396</li>\n",
       "\t<li>0.0469573220730187</li>\n",
       "\t<li>0.0493684280081084</li>\n",
       "\t<li>0.0448269739641788</li>\n",
       "\t<li>0.042589423108852</li>\n",
       "\t<li>0.0422627701326032</li>\n",
       "\t<li>0.0371280752602149</li>\n",
       "\t<li>0.0351071469866637</li>\n",
       "\t<li>0.0334600552980299</li>\n",
       "\t<li>0.033376906413423</li>\n",
       "\t<li>0.0336763140889528</li>\n",
       "\t<li>0.0355228614194311</li>\n",
       "\t<li>0.0432645402810552</li>\n",
       "\t<li>0.0468244619224684</li>\n",
       "\t<li>0.0430371427768122</li>\n",
       "\t<li>0.0395546438750946</li>\n",
       "\t<li>0.0383983597299194</li>\n",
       "\t<li>0.0342459232013253</li>\n",
       "\t<li>0.0339549255697869</li>\n",
       "\t<li>0.0342005209680631</li>\n",
       "\t<li>0.0335060662986894</li>\n",
       "\t<li>0.0366885246011382</li>\n",
       "\t<li>0.0377084034357265</li>\n",
       "\t<li>0.0473645309407548</li>\n",
       "\t<li>0.0410137727443667</li>\n",
       "\t<li>0.0427938702601987</li>\n",
       "\t<li>0.0346250798721905</li>\n",
       "\t<li>0.035826287451273</li>\n",
       "\t<li>0.034380448568918</li>\n",
       "\t<li>0.0333559829989517</li>\n",
       "\t<li>0.0345688335159997</li>\n",
       "\t<li>0.0369053175053322</li>\n",
       "\t<li>0.0427933305154912</li>\n",
       "\t<li>0.0477865346893045</li>\n",
       "</ol>\n"
      ],
      "text/latex": [
       "\\begin{enumerate*}\n",
       "\\item 0.0742892496473362\n",
       "\\item 0.0543960558596308\n",
       "\\item 0.0499341253063852\n",
       "\\item 0.0354065492660725\n",
       "\\item 0.0339846718370835\n",
       "\\item 0.0339624210769433\n",
       "\\item 0.0396784655472727\n",
       "\\item 0.0470647265968791\n",
       "\\item 0.0544568870997852\n",
       "\\item 0.0777186036981721\n",
       "\\item 0.0816184171456583\n",
       "\\item 0.0614034104632165\n",
       "\\item 0.0451654806555367\n",
       "\\item 0.0380985508917929\n",
       "\\item 0.0335497249263335\n",
       "\\item 0.0337292248266167\n",
       "\\item 0.0388147741270016\n",
       "\\item 0.0443474307537894\n",
       "\\item 0.0596401053242549\n",
       "\\item 0.0743221862623959\n",
       "\\item 0.0690402854341145\n",
       "\\item 0.0623308972686062\n",
       "\\item 0.0472963172291595\n",
       "\\item 0.0393284113003807\n",
       "\\item 0.0346284701237884\n",
       "\\item 0.0334223699045715\n",
       "\\item 0.0379211991861232\n",
       "\\item 0.0427302144142015\n",
       "\\item 0.0633274706247996\n",
       "\\item 0.0858963147445814\n",
       "\\item 0.0563710792299148\n",
       "\\item 0.0427975347059388\n",
       "\\item 0.0352693537494154\n",
       "\\item 0.0338910349423259\n",
       "\\item 0.0372824770089953\n",
       "\\item 0.0401730583445237\n",
       "\\item 0.0692970296852864\n",
       "\\item 0.0514593691693008\n",
       "\\item 0.0381559243093534\n",
       "\\item 0.0340946731962883\n",
       "\\item 0.0335239492158405\n",
       "\\item 0.0377173492227372\n",
       "\\item 0.042745271173411\n",
       "\\item 0.0765106535105348\n",
       "\\item 0.0492593588759352\n",
       "\\item 0.0415182612677467\n",
       "\\item 0.0367522711667767\n",
       "\\item 0.0336070056042355\n",
       "\\item 0.0358510465382669\n",
       "\\item 0.0386060937980806\n",
       "\\item 0.080364547642543\n",
       "\\item 0.0519812558995906\n",
       "\\item 0.0419230068126759\n",
       "\\item 0.0340407698173296\n",
       "\\item 0.0333338106538424\n",
       "\\item 0.0358120539436518\n",
       "\\item 0.0430849704966396\n",
       "\\item 0.0469573220730187\n",
       "\\item 0.0493684280081084\n",
       "\\item 0.0448269739641788\n",
       "\\item 0.042589423108852\n",
       "\\item 0.0422627701326032\n",
       "\\item 0.0371280752602149\n",
       "\\item 0.0351071469866637\n",
       "\\item 0.0334600552980299\n",
       "\\item 0.033376906413423\n",
       "\\item 0.0336763140889528\n",
       "\\item 0.0355228614194311\n",
       "\\item 0.0432645402810552\n",
       "\\item 0.0468244619224684\n",
       "\\item 0.0430371427768122\n",
       "\\item 0.0395546438750946\n",
       "\\item 0.0383983597299194\n",
       "\\item 0.0342459232013253\n",
       "\\item 0.0339549255697869\n",
       "\\item 0.0342005209680631\n",
       "\\item 0.0335060662986894\n",
       "\\item 0.0366885246011382\n",
       "\\item 0.0377084034357265\n",
       "\\item 0.0473645309407548\n",
       "\\item 0.0410137727443667\n",
       "\\item 0.0427938702601987\n",
       "\\item 0.0346250798721905\n",
       "\\item 0.035826287451273\n",
       "\\item 0.034380448568918\n",
       "\\item 0.0333559829989517\n",
       "\\item 0.0345688335159997\n",
       "\\item 0.0369053175053322\n",
       "\\item 0.0427933305154912\n",
       "\\item 0.0477865346893045\n",
       "\\end{enumerate*}\n"
      ],
      "text/markdown": [
       "1. 0.0742892496473362\n",
       "2. 0.0543960558596308\n",
       "3. 0.0499341253063852\n",
       "4. 0.0354065492660725\n",
       "5. 0.0339846718370835\n",
       "6. 0.0339624210769433\n",
       "7. 0.0396784655472727\n",
       "8. 0.0470647265968791\n",
       "9. 0.0544568870997852\n",
       "10. 0.0777186036981721\n",
       "11. 0.0816184171456583\n",
       "12. 0.0614034104632165\n",
       "13. 0.0451654806555367\n",
       "14. 0.0380985508917929\n",
       "15. 0.0335497249263335\n",
       "16. 0.0337292248266167\n",
       "17. 0.0388147741270016\n",
       "18. 0.0443474307537894\n",
       "19. 0.0596401053242549\n",
       "20. 0.0743221862623959\n",
       "21. 0.0690402854341145\n",
       "22. 0.0623308972686062\n",
       "23. 0.0472963172291595\n",
       "24. 0.0393284113003807\n",
       "25. 0.0346284701237884\n",
       "26. 0.0334223699045715\n",
       "27. 0.0379211991861232\n",
       "28. 0.0427302144142015\n",
       "29. 0.0633274706247996\n",
       "30. 0.0858963147445814\n",
       "31. 0.0563710792299148\n",
       "32. 0.0427975347059388\n",
       "33. 0.0352693537494154\n",
       "34. 0.0338910349423259\n",
       "35. 0.0372824770089953\n",
       "36. 0.0401730583445237\n",
       "37. 0.0692970296852864\n",
       "38. 0.0514593691693008\n",
       "39. 0.0381559243093534\n",
       "40. 0.0340946731962883\n",
       "41. 0.0335239492158405\n",
       "42. 0.0377173492227372\n",
       "43. 0.042745271173411\n",
       "44. 0.0765106535105348\n",
       "45. 0.0492593588759352\n",
       "46. 0.0415182612677467\n",
       "47. 0.0367522711667767\n",
       "48. 0.0336070056042355\n",
       "49. 0.0358510465382669\n",
       "50. 0.0386060937980806\n",
       "51. 0.080364547642543\n",
       "52. 0.0519812558995906\n",
       "53. 0.0419230068126759\n",
       "54. 0.0340407698173296\n",
       "55. 0.0333338106538424\n",
       "56. 0.0358120539436518\n",
       "57. 0.0430849704966396\n",
       "58. 0.0469573220730187\n",
       "59. 0.0493684280081084\n",
       "60. 0.0448269739641788\n",
       "61. 0.042589423108852\n",
       "62. 0.0422627701326032\n",
       "63. 0.0371280752602149\n",
       "64. 0.0351071469866637\n",
       "65. 0.0334600552980299\n",
       "66. 0.033376906413423\n",
       "67. 0.0336763140889528\n",
       "68. 0.0355228614194311\n",
       "69. 0.0432645402810552\n",
       "70. 0.0468244619224684\n",
       "71. 0.0430371427768122\n",
       "72. 0.0395546438750946\n",
       "73. 0.0383983597299194\n",
       "74. 0.0342459232013253\n",
       "75. 0.0339549255697869\n",
       "76. 0.0342005209680631\n",
       "77. 0.0335060662986894\n",
       "78. 0.0366885246011382\n",
       "79. 0.0377084034357265\n",
       "80. 0.0473645309407548\n",
       "81. 0.0410137727443667\n",
       "82. 0.0427938702601987\n",
       "83. 0.0346250798721905\n",
       "84. 0.035826287451273\n",
       "85. 0.034380448568918\n",
       "86. 0.0333559829989517\n",
       "87. 0.0345688335159997\n",
       "88. 0.0369053175053322\n",
       "89. 0.0427933305154912\n",
       "90. 0.0477865346893045\n",
       "\n",
       "\n"
      ],
      "text/plain": [
       " [1] 0.07428925 0.05439606 0.04993413 0.03540655 0.03398467 0.03396242\n",
       " [7] 0.03967847 0.04706473 0.05445689 0.07771860 0.08161842 0.06140341\n",
       "[13] 0.04516548 0.03809855 0.03354972 0.03372922 0.03881477 0.04434743\n",
       "[19] 0.05964011 0.07432219 0.06904029 0.06233090 0.04729632 0.03932841\n",
       "[25] 0.03462847 0.03342237 0.03792120 0.04273021 0.06332747 0.08589631\n",
       "[31] 0.05637108 0.04279753 0.03526935 0.03389103 0.03728248 0.04017306\n",
       "[37] 0.06929703 0.05145937 0.03815592 0.03409467 0.03352395 0.03771735\n",
       "[43] 0.04274527 0.07651065 0.04925936 0.04151826 0.03675227 0.03360701\n",
       "[49] 0.03585105 0.03860609 0.08036455 0.05198126 0.04192301 0.03404077\n",
       "[55] 0.03333381 0.03581205 0.04308497 0.04695732 0.04936843 0.04482697\n",
       "[61] 0.04258942 0.04226277 0.03712808 0.03510715 0.03346006 0.03337691\n",
       "[67] 0.03367631 0.03552286 0.04326454 0.04682446 0.04303714 0.03955464\n",
       "[73] 0.03839836 0.03424592 0.03395493 0.03420052 0.03350607 0.03668852\n",
       "[79] 0.03770840 0.04736453 0.04101377 0.04279387 0.03462508 0.03582629\n",
       "[85] 0.03438045 0.03335598 0.03456883 0.03690532 0.04279333 0.04778653"
      ]
     },
     "metadata": {},
     "output_type": "display_data"
    },
    {
     "data": {
      "image/png": "[encoded data removed]",
      "text/plain": [
       "Plot with title \" \""
      ]
     },
     "metadata": {},
     "output_type": "display_data"
    }
   ],
   "source": [
    "h_kk <- leverage_glm(fit2,out=TRUE);h_kk #out=TRUE genera automaticamente los valores de hkk, la gráfica es en eje y las h_kk "
   ]
  },
  {
   "cell_type": "code",
   "execution_count": 17,
   "metadata": {},
   "outputs": [
    {
     "data": {
      "image/png": "[encoded data removed]",
      "text/plain": [
       "plot without title"
      ]
     },
     "metadata": {},
     "output_type": "display_data"
    }
   ],
   "source": [
    "par(mfrow=c(1,2))\n",
    "with(rickness2,{\n",
    "plot(Biomass,Species,col=as.numeric(pH),pch=20,xlab=\"Biomass\",\n",
    "     ylab=\"Number of plant species\")\n",
    "legend(8,45,legend=c(\"pH low\",\"pH mid\",\"pH high\"),\n",
    "     col=sort(unique(as.numeric(pH))),pch=20,bty=\"n\")})\n",
    "\n",
    "with(rickness2,{plot(Biomass,h_kk,col=as.numeric(pH),pch=20,xlab=\"Biomass\",ylab=\"h_kk\")\n",
    "                legend(2,0.088,legend=c(\"pH low\",\"pH mid\",\"pH high\"),\n",
    "\t\t\t\tcol=sort(unique(as.numeric(pH))),pch=20,bty=\"n\")})\n"
   ]
  },
  {
   "cell_type": "markdown",
   "metadata": {},
   "source": [
    "* En la primera gráfica los valores con mayor $h_{kk}$ están situados en la mitad de la nuve de puntos (negra observaciones alrededor del 2), (roja observaciones alrededor del 4) y (verde observaciones alrededor del 5)\n",
    "* En la segunda gráfica en especial la sombreada por verde los valores cercanos a 5 generan mucha información y los lejanos, cercanos al valor de 10 poca información. Lo mismo para la grafica roja y negra."
   ]
  },
  {
   "cell_type": "code",
   "execution_count": 18,
   "metadata": {},
   "outputs": [
    {
     "data": {
      "image/png": "[encoded data removed]",
      "text/plain": [
       "Plot with title \" \""
      ]
     },
     "metadata": {},
     "output_type": "display_data"
    }
   ],
   "source": [
    "residuals_glm(fit2,identify=3)      #buscando los indivicuos con m?s r_k absolutos mas grandes,\n",
    "                                    #verificar queien sobreestima y quien subestima"
   ]
  },
  {
   "cell_type": "markdown",
   "metadata": {},
   "source": [
    "Los residuos correspondientes a las observaciones #3 y #18 son “altos”, lo que indica que el modelo ajustado subestima el número esperado de especies de plantas en la parcela #3, en la que $y_3 = 44$ y $\\mu_3 = 34.54$, y en la parcela #18, en la que $y_{18} = 36$ y $\\mu_{18} = 20.50$. De forma similar, los residuos correspondientes a las observaciones #1 y #20 son “bajos”, lo que indica que el modelo ajustado sobrestima el número esperado de especies de plantas en la parcela #1, en la que $y_1 = 30$ y $\\mu_1 = 38.96$, y en la parcela #20, en la que $y_{20} = 7$ y $\\mu_{20} = 14.63$."
   ]
  },
  {
   "cell_type": "code",
   "execution_count": 19,
   "metadata": {},
   "outputs": [
    {
     "data": {
      "image/png": "[encoded data removed]",
      "text/plain": [
       "Plot with title \" \""
      ]
     },
     "metadata": {},
     "output_type": "display_data"
    }
   ],
   "source": [
    "Cookdis_glm(fit2,identify=4)"
   ]
  },
  {
   "cell_type": "markdown",
   "metadata": {},
   "source": [
    "El gráfico de la distancia de Cook destaca las observaciones #1, #3, #18 y #20. Sin embargo, la eliminación de estas observaciones del conjunto de datos no introduce cambios inferenciales puesto que *(Continúa el signo y la significancia)*\n",
    "\n",
    "La estimación del intercepto aumentó un $1\\%$, mientras que la estimación de $\\beta_2$ disminuyó $3\\%$ todo al quitar la observación 1. (análisis similar a las otras observaciones #3, #18 y #20)  permanece prácticamente igual lo cual indica que al quitar el dato los datos las cosas siguen siendo prácticamente iguales con respecto a la significancia."
   ]
  },
  {
   "cell_type": "code",
   "execution_count": 20,
   "metadata": {},
   "outputs": [
    {
     "name": "stdout",
     "output_type": "stream",
     "text": [
      "\n",
      "            Estimate  Std. Error   Pr(>|t|)  | Estimate* Std. Error*  Pr(>|t|)*\n",
      "(Intercept)   17.6248      0.7890          0 |   17.8224      0.7691          0\n",
      "Biomass       -2.7276      0.1717          0 |   -2.8165      0.1701          0\n",
      "pHmid         11.9782      1.0020          0 |   12.0938      0.9727          0\n",
      "pHhigh        22.6200      1.0818          0 |   23.1837      1.0723          0\n",
      "            | Change(%)\n",
      "(Intercept) |     1.121\n",
      "Biomass     |    -3.260\n",
      "pHmid       |     0.965\n",
      "pHhigh      |     2.492\n",
      "\n",
      "(*) estimates, standard errors and p-values obtained using the specified subset of individuals.\n"
     ]
    }
   ],
   "source": [
    "case.deletion_glm(fit2,subset=-c(1))"
   ]
  },
  {
   "cell_type": "code",
   "execution_count": 21,
   "metadata": {},
   "outputs": [
    {
     "name": "stdout",
     "output_type": "stream",
     "text": [
      "  |++++++++++++++++++++++++++++++++++++++++++++++++++| 100%\n"
     ]
    },
    {
     "data": {
      "image/png": "[encoded data removed]",
      "text/plain": [
       "Plot with title \" \""
      ]
     },
     "metadata": {},
     "output_type": "display_data"
    }
   ],
   "source": [
    "envelope_glm(fit2,rep=100, conf=0.95,identify=2)"
   ]
  },
  {
   "cell_type": "markdown",
   "metadata": {},
   "source": [
    "La observación #18 salió de las bandas de confianza y es uno de los de **mayor residuo**\n",
    "\n",
    "---\n",
    "\n",
    "## Test de varianza constante\n",
    "\n",
    "\n",
    "La homocedasticidad, es una característica de un modelo de regresión lineal que implica que la varianza de los errores es constante a lo largo del tiempo. Supongase el *modelo normal lineal heterocedastico* descrito por:\n",
    "\n",
    "$\\;$\n",
    "$$\\begin{equation*}\n",
    "     \\left\\{\n",
    "\t       \\begin{array}{ll}\n",
    "           Y_k = \\mu_k + \\epsilon_k\\\\\n",
    "\t\t \\mu_k=\\mathbf{x}_k'\\beta  \\\\\n",
    "\t\t \\epsilon_k \\overset{\\text{iid}}{\\sim} Normal(0, \\sigma_k^2)\\\\\n",
    "         log(\\sigma_k^2) =\\vartheta_1 + Z_k \\vartheta \n",
    "\t       \\end{array}\n",
    "\t     \\right.\n",
    "   \\end{equation*}\n",
    "   $$\n",
    "  \n",
    "  \n",
    " Tengase en cuenta $\\Theta_{(p+q)}$ de dimensión (p+q) donde: $\\Theta= \\left ( \\beta ^r , \\vartheta _1, \\vartheta ^T \\right )^T$ con $\\beta$ de dimensión p, $\\vartheta _1$ de dimensión 1 y $\\vartheta ^T$ de dimensión q-1.\n",
    " \n",
    "La forma de proceder está en contrastar la siguiente hipótesis:\n",
    "\n",
    "$$H_{0}: \\vartheta =0\\;\\;\\;\\;\\;\\;\\;\\;vs \\;\\;\\;\\; \\;\\;\\;\\;H_{1}: \\vartheta \\neq  0$$\n",
    " \n",
    " \n",
    " <div class=\"alert alert-success\">\n",
    "  Si no rechazo $H_0$ entonces $H_0= \\vartheta =0$ implica que  $log(\\sigma_k^2) =\\vartheta _1$ lo cual da indicios de que $log(\\sigma_k^2)$ no depende de k lo cual acevera que existe varianza constante.\n",
    "</div>\n",
    "\n",
    "Dentro de todos los test existentes, en el modelo normal lineal los test de homogeneidad son iguales. *Sin embargo el test de Rao-Score es el mas barato de hacer*"
   ]
  },
  {
   "cell_type": "markdown",
   "metadata": {},
   "source": [
    "---\n",
    "#####  Test razon de verosimilutudes (para verificar homoceasticidad)\n",
    "\n",
    "$$\\zeta_{RV}=2[l( \\widehat{\\theta} )-l( \\widehat{\\theta}^{(0)} )]\\;\\;\\;\\;\\;\\;\\; ; \\;\\;\\;\\;\\;\\;\\; \\zeta_{RV}\\; \\overset{H_0}{\\underset{n \\to \\infty }{\\sim}} \\; \\chi^2_{(q-1)} $$\n",
    "\n",
    "*Verosimilitud del modelo completo* menos la *verosimilitud del modelo restringido*, aquí $\\widehat{\\theta}= {\\underset{\\theta \\in \\mathbb{R}^{p+q} }{argmax}}\\;l(\\theta)$\n",
    "\n",
    "---\n",
    "#####  Test razon de wald (necesita 1 parámetro a estimar $\\widehat{\\theta}$ )\n",
    "\n",
    "$$\\zeta_{w}=(\\widehat{\\vartheta} -0)^{T}[\\widehat{Var}(\\widehat{\\vartheta})]^{-1}(\\widehat{\\vartheta} -0) \\;\\;\\;\\;\\;\\;\\; ; \\;\\;\\;\\;\\;\\;\\; \\zeta_{w}\\; \\overset{H_0}{\\underset{n \\to \\infty }{\\sim}} \\; \\chi^2_{(q-1)} $$\n",
    "\n",
    "---\n",
    "#####  Test de Score o Rao  (necesita 1 parámetro a estimar $\\widehat{\\theta}^{(0)}$ )\n",
    "\n",
    "$$\\zeta_{s}=\\left \\{   [U_{\\vartheta}(\\theta)]^{T}Var(\\widehat{\\vartheta})[U_{\\vartheta}(\\theta)]   \\right \\} |_{\\theta=\\widehat{\\theta}^{(0)}}  \\;\\;\\;\\;\\;\\;\\; ; \\;\\;\\;\\;\\;\\;\\; \\zeta_{s}\\; \\overset{H_0}{\\underset{n \\to \\infty }{\\sim}} \\; \\chi^2_{(q-1)} $$\n",
    "\n",
    "Aquí $U(\\theta)= \\bigtriangledown l(\\theta)$ es el vector gradiente y $U_{\\vartheta}(\\theta)$ los últimos (q-1) valores del vector gradiente.\n",
    "\n",
    "---\n",
    "#####  Test gradiente  (necesita 2 maximizaciones $\\widehat{\\theta}$ y $\\widehat{\\theta}^{(0)}$)\n",
    "\n",
    "$$\\zeta_{G}= [U_{\\vartheta}(\\theta)]^{T}\\; \\widehat{\\theta}^{(0)} (\\widehat{\\vartheta} -0)  \\;\\;\\;\\;\\;\\;\\; ; \\;\\;\\;\\;\\;\\;\\; \\zeta_{s}\\; \\overset{H_0}{\\underset{n \\to \\infty }{\\sim}} \\; \\chi^2_{(q-1)} $$\n",
    "\n",
    "---"
   ]
  },
  {
   "cell_type": "code",
   "execution_count": 22,
   "metadata": {},
   "outputs": [
    {
     "name": "stdout",
     "output_type": "stream",
     "text": [
      "\n",
      "             Score test for varying dispersion\n",
      "\n",
      "          Statistic =  11.07537 \n",
      " degrees of freedom =  3 \n",
      "            p-value =  0.011325 \n",
      "\n"
     ]
    }
   ],
   "source": [
    "vdtest(fit2)"
   ]
  },
  {
   "cell_type": "markdown",
   "metadata": {},
   "source": [
    "El anterior test establece que: \n",
    "\n",
    "$$log(\\sigma_k^2) =\\vartheta_1 + \\vartheta_2 (Biomasa) + \\vartheta_3 (PHmedio) + \\vartheta_4 (PHalto) $$\n",
    "\n",
    "Donde:\n",
    "\n",
    "$$H_{0}: \\vartheta_2 = \\vartheta_3 = \\vartheta_4 = 0\\;\\;\\;\\;\\;\\;\\;\\;vs \\;\\;\\;\\; \\;\\;\\;\\;H_{1}: \\vartheta_2 \\neq \\vartheta_3 \\neq \\vartheta_4 \\neq 0$$\n",
    "\n",
    "Al $5\\% $ se rechaza $H_0$ envidenciandose que el modelo es heterocedastico"
   ]
  },
  {
   "cell_type": "code",
   "execution_count": 31,
   "metadata": {},
   "outputs": [
    {
     "name": "stdout",
     "output_type": "stream",
     "text": [
      "\n",
      "             Score test for varying dispersion\n",
      "\n",
      "          Statistic =  5.29641 \n",
      " degrees of freedom =  3 \n",
      "            p-value =  0.15134 \n",
      "\n"
     ]
    },
    {
     "ename": "ERROR",
     "evalue": "Error in bptest(fit22, studentize = FALSE): no se pudo encontrar la función \"bptest\"\n",
     "output_type": "error",
     "traceback": [
      "Error in bptest(fit22, studentize = FALSE): no se pudo encontrar la función \"bptest\"\nTraceback:\n"
     ]
    }
   ],
   "source": [
    "fit22 <- lm(Species ~ 1 + Biomass + pH, data=rickness2, subset=-c(18))\n",
    "vdtest(fit22)\n",
    "bptest(fit22,studentize=FALSE)"
   ]
  },
  {
   "cell_type": "markdown",
   "metadata": {},
   "source": [
    "Quitando la observación #18 se puede observar el test de varianza constante indicandose *No hay evidencia para rechazar H_0, es decir el modelo es homocedastico* **Toda la evidencia de heterocedasticidsad presente en el modelo estaba influenciada por un solo dato, el #18**"
   ]
  },
  {
   "cell_type": "code",
   "execution_count": 34,
   "metadata": {},
   "outputs": [
    {
     "name": "stdout",
     "output_type": "stream",
     "text": [
      "\n",
      " Exact 95 percent confidence intervals\n",
      "\n",
      "            Lower limit Upper limit\n",
      "(Intercept)     16.0564     19.1933\n",
      "Biomass         -3.0689     -2.3863\n",
      "pHmid            9.9863     13.9701\n",
      "pHhigh          20.4694     24.7706\n"
     ]
    },
    {
     "data": {
      "text/html": [
       "<dl class=dl-horizontal>\n",
       "\t<dt>(Intercept)</dt>\n",
       "\t\t<dd>17.6248427782178</dd>\n",
       "\t<dt>Biomass</dt>\n",
       "\t\t<dd>-2.72757972370234</dd>\n",
       "\t<dt>pHmid</dt>\n",
       "\t\t<dd>11.9781867807537</dd>\n",
       "\t<dt>pHhigh</dt>\n",
       "\t\t<dd>22.6200218485265</dd>\n",
       "</dl>\n"
      ],
      "text/latex": [
       "\\begin{description*}\n",
       "\\item[(Intercept)] 17.6248427782178\n",
       "\\item[Biomass] -2.72757972370234\n",
       "\\item[pHmid] 11.9781867807537\n",
       "\\item[pHhigh] 22.6200218485265\n",
       "\\end{description*}\n"
      ],
      "text/markdown": [
       "(Intercept)\n",
       ":   17.6248427782178Biomass\n",
       ":   -2.72757972370234pHmid\n",
       ":   11.9781867807537pHhigh\n",
       ":   22.6200218485265\n",
       "\n"
      ],
      "text/plain": [
       "(Intercept)     Biomass       pHmid      pHhigh \n",
       "   17.62484    -2.72758    11.97819    22.62002 "
      ]
     },
     "metadata": {},
     "output_type": "display_data"
    },
    {
     "data": {
      "text/html": [
       "<dl class=dl-horizontal>\n",
       "\t<dt>li.Biomass</dt>\n",
       "\t\t<dd>-3.06885289726016</dd>\n",
       "\t<dt>ls.Biomass</dt>\n",
       "\t\t<dd>-2.38630655014452</dd>\n",
       "</dl>\n"
      ],
      "text/latex": [
       "\\begin{description*}\n",
       "\\item[li.Biomass] -3.06885289726016\n",
       "\\item[ls.Biomass] -2.38630655014452\n",
       "\\end{description*}\n"
      ],
      "text/markdown": [
       "li.Biomass\n",
       ":   -3.06885289726016ls.Biomass\n",
       ":   -2.38630655014452\n",
       "\n"
      ],
      "text/plain": [
       "li.Biomass ls.Biomass \n",
       " -3.068853  -2.386307 "
      ]
     },
     "metadata": {},
     "output_type": "display_data"
    }
   ],
   "source": [
    "#################### Intervalos de confianza para beta #################### \n",
    "ci_glm(fit2, conf=0.95)\n",
    "\n",
    "betas <- coef(fit2)  ;betas\n",
    "\n",
    "alpha <- 0.05\n",
    "li <- betas[2] - qt(1-alpha/2,fit2$df.residual)*sqrt(diag(vcov(fit2)))[2]\n",
    "ls <- betas[2] + qt(1-alpha/2,fit2$df.residual)*sqrt(diag(vcov(fit2)))[2]\n",
    "c(li=li,ls=ls)"
   ]
  },
  {
   "cell_type": "markdown",
   "metadata": {},
   "source": [
    "# Estimación de $\\mu$ para individuos que no estan en la muestra\n",
    "\n",
    "Se realizará la estimación de tres individuos que tienen las siguientes características: \n",
    "\n",
    "* (Biomasa:4 y PH:Alto)\n",
    "* (Biomasa:2 y PH:Medio)\n",
    "* (Biomasa:1 y PH:Bajo)\n"
   ]
  },
  {
   "cell_type": "code",
   "execution_count": 36,
   "metadata": {},
   "outputs": [
    {
     "data": {
      "text/html": [
       "<dl class=dl-horizontal>\n",
       "\t<dt>1</dt>\n",
       "\t\t<dd>29.334545731935</dd>\n",
       "\t<dt>2</dt>\n",
       "\t\t<dd>24.1478701115669</dd>\n",
       "\t<dt>3</dt>\n",
       "\t\t<dd>14.8972630545155</dd>\n",
       "</dl>\n"
      ],
      "text/latex": [
       "\\begin{description*}\n",
       "\\item[1] 29.334545731935\n",
       "\\item[2] 24.1478701115669\n",
       "\\item[3] 14.8972630545155\n",
       "\\end{description*}\n"
      ],
      "text/markdown": [
       "1\n",
       ":   29.3345457319352\n",
       ":   24.14787011156693\n",
       ":   14.8972630545155\n",
       "\n"
      ],
      "text/plain": [
       "       1        2        3 \n",
       "29.33455 24.14787 14.89726 "
      ]
     },
     "metadata": {},
     "output_type": "display_data"
    }
   ],
   "source": [
    "#################### Estimaci?n de mu para individuos que no est?n en la muestra #################### \n",
    "\n",
    "newpar<-data.frame(Biomass=c(4,2,1),pH=c(\"high\",\"mid\",\"low\"))  # \n",
    "estimaciones <- predict(fit2,newpar) ;estimaciones             # \n",
    "\n"
   ]
  },
  {
   "cell_type": "markdown",
   "metadata": {},
   "source": [
    "## NOTA:   \n",
    "\n",
    "Para instalar librerias de R en jupyter notebooks usamos la siguiente linea \n",
    "\n",
    "* install.packages(\"ISLR\", \"/home/user/anaconda3/lib/R/library\")  no usar este comando\n",
    "* install.packages(\"sm\", \"/Users/YULY/anaconda/Lib/R/library\")\n",
    "\n",
    "Para más información verificar el siguiente enlace::\n",
    "\n",
    "https://www.pythond.com/23094/conda-como-instalar-paquetes-r-que-no-estan-disponibles-en-r-essentials.html\n",
    "\n",
    "* También puede usarse el siguiente comando desde r para instalar el entorno de r \n",
    "\n",
    "install.packages(\"CASdatasets\", \"/Users/YULY/anaconda/Lib/R/library\",repos = \"http://cas.uqam.ca/pub/R/\")\n"
   ]
  },
  {
   "cell_type": "markdown",
   "metadata": {},
   "source": [
    "---\n",
    "Algunas de las bases de datos están en el siguiente enlace: \n",
    "\n",
    "* http://users.stat.ufl.edu/~aa/glm/data/"
   ]
  },
  {
   "cell_type": "code",
   "execution_count": 30,
   "metadata": {},
   "outputs": [],
   "source": []
  }
 ],
 "metadata": {
  "kernelspec": {
   "display_name": "R",
   "language": "R",
   "name": "ir"
  },
  "language_info": {
   "codemirror_mode": "r",
   "file_extension": ".r",
   "mimetype": "text/x-r-source",
   "name": "R",
   "pygments_lexer": "r",
   "version": "3.6.1"
  }
 },
 "nbformat": 4,
 "nbformat_minor": 2
}
