{
 "cells": [
  {
   "cell_type": "markdown",
   "metadata": {},
   "source": [
    "# Rendimiento de automoviles (Consumo de gasolina)\n",
    "\n",
    "## Oscar Julian Layton\n",
    "\n",
    "Este conjunto de datos proporciona el número de roturas de urdimbre por telar, donde un telar corresponde a una longitud fija de hilo.\n",
    "\n",
    "* $Y_k:$ (breaks) El número de descansos\n",
    "* **wool:** El tipo de lana (A o B)\n",
    "* **tension:** El nivel de tensión (L, M, H)\n",
    "\n",
    "Los datos están compuestos por 54 observaciones caracterizadas por dos variables anteriormente descritas (wool, tension)"
   ]
  },
  {
   "cell_type": "code",
   "execution_count": 1,
   "metadata": {},
   "outputs": [
    {
     "data": {
      "text/html": [
       "'C:/Users/YULY'"
      ],
      "text/latex": [
       "'C:/Users/YULY'"
      ],
      "text/markdown": [
       "'C:/Users/YULY'"
      ],
      "text/plain": [
       "[1] \"C:/Users/YULY\""
      ]
     },
     "metadata": {},
     "output_type": "display_data"
    }
   ],
   "source": [
    "#rm(list=ls())\n",
    "getwd()\n",
    "setwd(\"C:\\\\Users\\\\YULY\\\\Desktop\\\\Desktop\\\\UNAL 2018\\\\MLGz\\\\MLG Vanegas\")  #Asignando capeta busqueda por default\n",
    "source(\"macros.txt\")           # Llamar el archivo de macros que esta en la carpeta especifica,\n",
    "                               # macros son una fuciines especificas creadas porel profesor"
   ]
  },
  {
   "cell_type": "markdown",
   "metadata": {},
   "source": [
    "La lectura de los datos se realiza por medio de la siguiente linea, en la cual se logra identificar que las variables están compuesta por dos categóricas wool: tipo de lana con niveles (A,B) , la variable tension que tiene tres niveles (L,M,H)"
   ]
  },
  {
   "cell_type": "code",
   "execution_count": 2,
   "metadata": {},
   "outputs": [
    {
     "data": {
      "text/html": [
       "<table>\n",
       "<thead><tr><th scope=col>breaks</th><th scope=col>wool</th><th scope=col>tension</th></tr></thead>\n",
       "<tbody>\n",
       "\t<tr><td>26</td><td>A </td><td>L </td></tr>\n",
       "\t<tr><td>30</td><td>A </td><td>L </td></tr>\n",
       "\t<tr><td>54</td><td>A </td><td>L </td></tr>\n",
       "\t<tr><td>25</td><td>A </td><td>L </td></tr>\n",
       "\t<tr><td>70</td><td>A </td><td>L </td></tr>\n",
       "\t<tr><td>52</td><td>A </td><td>L </td></tr>\n",
       "</tbody>\n",
       "</table>\n"
      ],
      "text/latex": [
       "\\begin{tabular}{r|lll}\n",
       " breaks & wool & tension\\\\\n",
       "\\hline\n",
       "\t 26 & A  & L \\\\\n",
       "\t 30 & A  & L \\\\\n",
       "\t 54 & A  & L \\\\\n",
       "\t 25 & A  & L \\\\\n",
       "\t 70 & A  & L \\\\\n",
       "\t 52 & A  & L \\\\\n",
       "\\end{tabular}\n"
      ],
      "text/markdown": [
       "\n",
       "| breaks | wool | tension |\n",
       "|---|---|---|\n",
       "| 26 | A  | L  |\n",
       "| 30 | A  | L  |\n",
       "| 54 | A  | L  |\n",
       "| 25 | A  | L  |\n",
       "| 70 | A  | L  |\n",
       "| 52 | A  | L  |\n",
       "\n"
      ],
      "text/plain": [
       "  breaks wool tension\n",
       "1 26     A    L      \n",
       "2 30     A    L      \n",
       "3 54     A    L      \n",
       "4 25     A    L      \n",
       "5 70     A    L      \n",
       "6 52     A    L      "
      ]
     },
     "metadata": {},
     "output_type": "display_data"
    },
    {
     "name": "stdout",
     "output_type": "stream",
     "text": [
      "'data.frame':\t54 obs. of  3 variables:\n",
      " $ breaks : num  26 30 54 25 70 52 51 26 67 18 ...\n",
      " $ wool   : Factor w/ 2 levels \"A\",\"B\": 1 1 1 1 1 1 1 1 1 1 ...\n",
      " $ tension: Factor w/ 3 levels \"L\",\"M\",\"H\": 1 1 1 1 1 1 1 1 1 2 ...\n"
     ]
    }
   ],
   "source": [
    "data(warpbreaks)\n",
    "head(warpbreaks)\n",
    "str(warpbreaks)"
   ]
  },
  {
   "cell_type": "markdown",
   "metadata": {},
   "source": [
    "Para facilitar la interpretación se procede a establecer un **nivel base** para cada variable categórica en este caso **A**"
   ]
  },
  {
   "cell_type": "code",
   "execution_count": 3,
   "metadata": {},
   "outputs": [
    {
     "data": {
      "text/html": [
       "<table>\n",
       "<thead><tr><th scope=col>breaks</th><th scope=col>wool</th><th scope=col>tension</th></tr></thead>\n",
       "<tbody>\n",
       "\t<tr><td>26</td><td>A </td><td>L </td></tr>\n",
       "\t<tr><td>30</td><td>A </td><td>L </td></tr>\n",
       "\t<tr><td>54</td><td>A </td><td>L </td></tr>\n",
       "\t<tr><td>25</td><td>A </td><td>L </td></tr>\n",
       "\t<tr><td>70</td><td>A </td><td>L </td></tr>\n",
       "\t<tr><td>52</td><td>A </td><td>L </td></tr>\n",
       "\t<tr><td>51</td><td>A </td><td>L </td></tr>\n",
       "\t<tr><td>26</td><td>A </td><td>L </td></tr>\n",
       "\t<tr><td>67</td><td>A </td><td>L </td></tr>\n",
       "\t<tr><td>18</td><td>A </td><td>M </td></tr>\n",
       "</tbody>\n",
       "</table>\n"
      ],
      "text/latex": [
       "\\begin{tabular}{r|lll}\n",
       " breaks & wool & tension\\\\\n",
       "\\hline\n",
       "\t 26 & A  & L \\\\\n",
       "\t 30 & A  & L \\\\\n",
       "\t 54 & A  & L \\\\\n",
       "\t 25 & A  & L \\\\\n",
       "\t 70 & A  & L \\\\\n",
       "\t 52 & A  & L \\\\\n",
       "\t 51 & A  & L \\\\\n",
       "\t 26 & A  & L \\\\\n",
       "\t 67 & A  & L \\\\\n",
       "\t 18 & A  & M \\\\\n",
       "\\end{tabular}\n"
      ],
      "text/markdown": [
       "\n",
       "| breaks | wool | tension |\n",
       "|---|---|---|\n",
       "| 26 | A  | L  |\n",
       "| 30 | A  | L  |\n",
       "| 54 | A  | L  |\n",
       "| 25 | A  | L  |\n",
       "| 70 | A  | L  |\n",
       "| 52 | A  | L  |\n",
       "| 51 | A  | L  |\n",
       "| 26 | A  | L  |\n",
       "| 67 | A  | L  |\n",
       "| 18 | A  | M  |\n",
       "\n"
      ],
      "text/plain": [
       "   breaks wool tension\n",
       "1  26     A    L      \n",
       "2  30     A    L      \n",
       "3  54     A    L      \n",
       "4  25     A    L      \n",
       "5  70     A    L      \n",
       "6  52     A    L      \n",
       "7  51     A    L      \n",
       "8  26     A    L      \n",
       "9  67     A    L      \n",
       "10 18     A    M      "
      ]
     },
     "metadata": {},
     "output_type": "display_data"
    }
   ],
   "source": [
    "warpbreaks2<-within(warpbreaks,{wool <-factor(wool, levels=c(\"A\",\"B\"))}) #organizando los nievles de wool \n",
    "# rickness$pH <- factor(rickness$pH, levels(rickness$pH)[c(2,3,1)])    #otra forma de ordenar niveles\n",
    "head(warpbreaks2,n=10)"
   ]
  },
  {
   "cell_type": "markdown",
   "metadata": {},
   "source": [
    "Al tratarse de la cantidad de veces que sucede un suceso en un intervalo de tiempo se establece que la variable aleatoria sigue una distribución Poisson, en este caso se procede a establecer la estimación de el siguiente MLG considerando todas las interacciones."
   ]
  },
  {
   "cell_type": "code",
   "execution_count": 4,
   "metadata": {},
   "outputs": [
    {
     "data": {
      "text/plain": [
       "\n",
       "Call:\n",
       "glm(formula = breaks ~ wool * tension, family = poisson(link = \"log\"), \n",
       "    data = warpbreaks2)\n",
       "\n",
       "Deviance Residuals: \n",
       "    Min       1Q   Median       3Q      Max  \n",
       "-3.3383  -1.4844  -0.1291   1.1725   3.5153  \n",
       "\n",
       "Coefficients:\n",
       "               Estimate Std. Error z value Pr(>|z|)    \n",
       "(Intercept)     3.79674    0.04994  76.030  < 2e-16 ***\n",
       "woolB          -0.45663    0.08019  -5.694 1.24e-08 ***\n",
       "tensionM       -0.61868    0.08440  -7.330 2.30e-13 ***\n",
       "tensionH       -0.59580    0.08378  -7.112 1.15e-12 ***\n",
       "woolB:tensionM  0.63818    0.12215   5.224 1.75e-07 ***\n",
       "woolB:tensionH  0.18836    0.12990   1.450    0.147    \n",
       "---\n",
       "Signif. codes:  0 '***' 0.001 '**' 0.01 '*' 0.05 '.' 0.1 ' ' 1\n",
       "\n",
       "(Dispersion parameter for poisson family taken to be 1)\n",
       "\n",
       "    Null deviance: 297.37  on 53  degrees of freedom\n",
       "Residual deviance: 182.31  on 48  degrees of freedom\n",
       "AIC: 468.97\n",
       "\n",
       "Number of Fisher Scoring iterations: 4\n"
      ]
     },
     "metadata": {},
     "output_type": "display_data"
    }
   ],
   "source": [
    "fit <- glm(breaks~ wool*tension, family = poisson(link=\"log\"), data=warpbreaks2)\n",
    "summary(fit)"
   ]
  },
  {
   "cell_type": "markdown",
   "metadata": {},
   "source": [
    "Se puede establecer qure el **Null Deviance** hace referencia a el desvio del modelo donde todos los betas excepto el intercepto son iguales a cero, n-p = 54-1=53 y el **Residual deviance**\n",
    "\n",
    "Anteriormente se ajusto un modelo con todas las interacciones, para poder determinar un modelo que sea parcimonioso y que no se base en solamente en un criterio de ajuste se procede a hacer el procedimiento backward para comparar por medio del criterio de información bayesiano **BIC**"
   ]
  },
  {
   "cell_type": "code",
   "execution_count": 5,
   "metadata": {},
   "outputs": [
    {
     "name": "stdout",
     "output_type": "stream",
     "text": [
      "\n",
      "  Family:  poisson \n",
      "    Link:  log \n",
      "\n",
      "Initial model:\n",
      "breaks ~ 1 + wool + tension + wool:tension \n",
      "\n",
      "Step 0 :    \n",
      "               Df      BIC      AIC   Deviance+ Pearson^  p-value*\n",
      "<none>              480.9031 468.9692    0.3231   0.3918          \n",
      "- wool:tension  2   501.0119 493.0560    0.2500   0.3114 9.066e-07\n",
      "\n",
      "+ Adjusted R-squared based on the residual deviance\n",
      "^ Adjusted R-squared based on the Pearson statistic\n",
      "* p-value of the Wald test\n",
      "\n",
      "Final model:\n",
      "breaks ~ 1 + wool + tension + wool:tension \n",
      "\n"
     ]
    }
   ],
   "source": [
    "step_glm(fit, criterion=\"BIC\", direction = \"backward\")   #forward  o  backward"
   ]
  },
  {
   "cell_type": "markdown",
   "metadata": {},
   "source": [
    "# INFERENCIA\n",
    "## Test de razón de verosimilitudes,  Wald, score, gradiente\n",
    "\n",
    "Al realizarse una regresión se quiere ver si el número de roturas en que cada uno de los dispositivos funcionó en el modo 1 po en el modo 2 me ayuda a explicar las diferencias en el numero de fallas que rpesentaron los disposiitivos. Por consiguiente se procede a hacer una regresión con respuesta Poisson, $Y_k$ es Poisson con media $\\mu_k$ donde $\\mu_k$ depende de las covariables (intercepto $\\beta_1$, $\\beta_2$ que depende de wool,  $\\beta_3$ que depende de tension), a qui la función de enlace es la canonica que en caso de la Poisson en la **LOGARITMO**.\n",
    "\n"
   ]
  },
  {
   "cell_type": "code",
   "execution_count": 24,
   "metadata": {},
   "outputs": [
    {
     "data": {
      "text/plain": [
       "\n",
       "Call:\n",
       "glm(formula = breaks ~ wool + tension, family = poisson(link = \"log\"), \n",
       "    data = warpbreaks)\n",
       "\n",
       "Deviance Residuals: \n",
       "    Min       1Q   Median       3Q      Max  \n",
       "-3.6871  -1.6503  -0.4269   1.1902   4.2616  \n",
       "\n",
       "Coefficients:\n",
       "            Estimate Std. Error z value Pr(>|z|)    \n",
       "(Intercept)  3.69196    0.04541  81.302  < 2e-16 ***\n",
       "woolB       -0.20599    0.05157  -3.994 6.49e-05 ***\n",
       "tensionM    -0.32132    0.06027  -5.332 9.73e-08 ***\n",
       "tensionH    -0.51849    0.06396  -8.107 5.21e-16 ***\n",
       "---\n",
       "Signif. codes:  0 '***' 0.001 '**' 0.01 '*' 0.05 '.' 0.1 ' ' 1\n",
       "\n",
       "(Dispersion parameter for poisson family taken to be 1)\n",
       "\n",
       "    Null deviance: 297.37  on 53  degrees of freedom\n",
       "Residual deviance: 210.39  on 50  degrees of freedom\n",
       "AIC: 493.06\n",
       "\n",
       "Number of Fisher Scoring iterations: 4\n"
      ]
     },
     "metadata": {},
     "output_type": "display_data"
    },
    {
     "data": {
      "text/html": [
       "<table>\n",
       "<thead><tr><th></th><th scope=col>(Intercept)</th><th scope=col>woolB</th><th scope=col>tensionM</th><th scope=col>tensionH</th></tr></thead>\n",
       "<tbody>\n",
       "\t<tr><th scope=row>(Intercept)</th><td> 0.002062131 </td><td>-1.193312e-03</td><td>-1.526712e-03</td><td>-1.526712e-03</td></tr>\n",
       "\t<tr><th scope=row>woolB</th><td>-0.001193312 </td><td> 2.659585e-03</td><td> 6.993012e-20</td><td> 1.873771e-19</td></tr>\n",
       "\t<tr><th scope=row>tensionM</th><td>-0.001526712 </td><td> 6.993012e-20</td><td> 3.631967e-03</td><td> 1.526712e-03</td></tr>\n",
       "\t<tr><th scope=row>tensionH</th><td>-0.001526712 </td><td> 1.873771e-19</td><td> 1.526712e-03</td><td> 4.090810e-03</td></tr>\n",
       "</tbody>\n",
       "</table>\n"
      ],
      "text/latex": [
       "\\begin{tabular}{r|llll}\n",
       "  & (Intercept) & woolB & tensionM & tensionH\\\\\n",
       "\\hline\n",
       "\t(Intercept) &  0.002062131  & -1.193312e-03 & -1.526712e-03 & -1.526712e-03\\\\\n",
       "\twoolB & -0.001193312  &  2.659585e-03 &  6.993012e-20 &  1.873771e-19\\\\\n",
       "\ttensionM & -0.001526712  &  6.993012e-20 &  3.631967e-03 &  1.526712e-03\\\\\n",
       "\ttensionH & -0.001526712  &  1.873771e-19 &  1.526712e-03 &  4.090810e-03\\\\\n",
       "\\end{tabular}\n"
      ],
      "text/markdown": [
       "\n",
       "| <!--/--> | (Intercept) | woolB | tensionM | tensionH |\n",
       "|---|---|---|---|---|\n",
       "| (Intercept) |  0.002062131  | -1.193312e-03 | -1.526712e-03 | -1.526712e-03 |\n",
       "| woolB | -0.001193312  |  2.659585e-03 |  6.993012e-20 |  1.873771e-19 |\n",
       "| tensionM | -0.001526712  |  6.993012e-20 |  3.631967e-03 |  1.526712e-03 |\n",
       "| tensionH | -0.001526712  |  1.873771e-19 |  1.526712e-03 |  4.090810e-03 |\n",
       "\n"
      ],
      "text/plain": [
       "            (Intercept)  woolB         tensionM      tensionH     \n",
       "(Intercept)  0.002062131 -1.193312e-03 -1.526712e-03 -1.526712e-03\n",
       "woolB       -0.001193312  2.659585e-03  6.993012e-20  1.873771e-19\n",
       "tensionM    -0.001526712  6.993012e-20  3.631967e-03  1.526712e-03\n",
       "tensionH    -0.001526712  1.873771e-19  1.526712e-03  4.090810e-03"
      ]
     },
     "metadata": {},
     "output_type": "display_data"
    },
    {
     "data": {
      "text/html": [
       "0.0020620681"
      ],
      "text/latex": [
       "0.0020620681"
      ],
      "text/markdown": [
       "0.0020620681"
      ],
      "text/plain": [
       "[1] 0.002062068"
      ]
     },
     "metadata": {},
     "output_type": "display_data"
    }
   ],
   "source": [
    "fit1 <- glm(breaks ~ wool + tension, family = poisson(link=\"log\"), data=warpbreaks) \n",
    "summary(fit1)\n",
    "vcov(fit1)"
   ]
  },
  {
   "cell_type": "markdown",
   "metadata": {},
   "source": [
    "--- \n",
    "\n",
    "Considerese el siguiente sistema de hipótesis:\n",
    "\n",
    "$$H_{0}: \\beta = 0 \\;\\;\\;\\;\\; vs \\;\\;\\;\\;\\;\\; H_{1}: \\beta \\neq  0 $$\n",
    "\n",
    "Donde $\\beta$ (que restringimos) es de dimensión 2 donde $\\beta = [\\beta'_3 , \\beta'_4]'$\n",
    "\n",
    "Luego se tiene 4 elecciones de la estadística de prueba:\n",
    "\n",
    "* 1 Test Razón de verosimilitudes.\n",
    "* 2 Test de Wald.\n",
    "* 3 Test de Score.\n",
    "* 4 Test gradiente.\n",
    "\n"
   ]
  },
  {
   "cell_type": "markdown",
   "metadata": {},
   "source": [
    "## 1.  Test razon de verosimilitudes\n",
    "Para evaluar si:\n",
    "\n",
    "$$H_{0}: \\beta_2 = \\beta_3=\\beta_4 \\;\\;\\;\\;\\; vs \\;\\;\\;\\;\\;\\;H_{1}: \\beta_2 \\neq \\beta_3 \\neq \\beta_4 \\neq  0 $$\n",
    "\n",
    "Considerando que el test de verosimilitudes está determinado por: $\\xi _{RV}=2[l(\\hat{\\beta})-l(\\hat{\\beta^{o}})]$ sumando y restando $\\hat{\\beta}$ del modelo saturado se obtiene:\n",
    "\n",
    "$$\\xi _{RV}=2[l(\\hat{\\beta})-l(\\hat{\\beta^{o}})]=\\phi^{-1} [D(y;\\hat{\\mu}^0)-D(y;\\hat{\\mu})]  $$\n",
    "\n",
    "Donde $D(y;\\hat{\\mu}^0)$ es el desvio del modelo restringido llamado **Null Deviance** y donde $D(y;\\hat{\\mu})$ es el desvio del modelo sin restricción llamado **Residual Deviance**\n",
    "\n",
    "**Null Deviance** Es el desvio de un modelo donde todos los betas excepto el intercepto son iguales a cero.\n",
    "\n",
    "\n",
    "Luego como $\\phi=1$ se tiene:\n",
    "\n",
    "$$\\xi _{RV}=Null deviance- Residual Deviance=297.37-210.39 =86.980$$\n",
    "\n",
    "\n",
    "Luego se rechaza $H_0$ a un nivel de significancia APROXIMADO del 100$ \\alpha\\%$ puesto que $\\xi _{RV}>\\chi^2(3)$ A firmandose que es significativo en el modelo."
   ]
  },
  {
   "cell_type": "code",
   "execution_count": 16,
   "metadata": {},
   "outputs": [
    {
     "data": {
      "text/html": [
       "86.9803230421515"
      ],
      "text/latex": [
       "86.9803230421515"
      ],
      "text/markdown": [
       "86.9803230421515"
      ],
      "text/plain": [
       "[1] 86.98032"
      ]
     },
     "metadata": {},
     "output_type": "display_data"
    },
    {
     "data": {
      "text/html": [
       "7.81472790325118"
      ],
      "text/latex": [
       "7.81472790325118"
      ],
      "text/markdown": [
       "7.81472790325118"
      ],
      "text/plain": [
       "[1] 7.814728"
      ]
     },
     "metadata": {},
     "output_type": "display_data"
    }
   ],
   "source": [
    "RV<-(fit1$null.deviance -fit1$deviance)/1   ;RV       # Estadística del test de razón de verosimilitudes\n",
    "qchisq(.95, df=3)                                     # pvalor"
   ]
  },
  {
   "cell_type": "markdown",
   "metadata": {},
   "source": [
    "#### Segunda forma\n",
    "\n",
    "Contrastando el siguiente sistema de hipótesis\n",
    "\n",
    "$$H_{0}: \\beta_2 = \\beta_3= \\beta_4=0\\;\\;\\;\\;\\; vs \\;\\;\\;\\;\\;\\; H_{1}: \\beta_2 \\neq \\beta_3 \\neq \\beta_4 \\neq 0 $$"
   ]
  },
  {
   "cell_type": "code",
   "execution_count": 8,
   "metadata": {},
   "outputs": [
    {
     "data": {
      "text/html": [
       "<table>\n",
       "<thead><tr><th scope=col>Resid. Df</th><th scope=col>Resid. Dev</th><th scope=col>Df</th><th scope=col>Deviance</th><th scope=col>Pr(&gt;Chi)</th></tr></thead>\n",
       "<tbody>\n",
       "\t<tr><td>53          </td><td>297.3722    </td><td>NA          </td><td>      NA    </td><td>          NA</td></tr>\n",
       "\t<tr><td>50          </td><td>210.3919    </td><td> 3          </td><td>86.98032    </td><td>9.750414e-19</td></tr>\n",
       "</tbody>\n",
       "</table>\n"
      ],
      "text/latex": [
       "\\begin{tabular}{r|lllll}\n",
       " Resid. Df & Resid. Dev & Df & Deviance & Pr(>Chi)\\\\\n",
       "\\hline\n",
       "\t 53           & 297.3722     & NA           &       NA     &           NA\\\\\n",
       "\t 50           & 210.3919     &  3           & 86.98032     & 9.750414e-19\\\\\n",
       "\\end{tabular}\n"
      ],
      "text/markdown": [
       "\n",
       "| Resid. Df | Resid. Dev | Df | Deviance | Pr(>Chi) |\n",
       "|---|---|---|---|---|\n",
       "| 53           | 297.3722     | NA           |       NA     |           NA |\n",
       "| 50           | 210.3919     |  3           | 86.98032     | 9.750414e-19 |\n",
       "\n"
      ],
      "text/plain": [
       "  Resid. Df Resid. Dev Df Deviance Pr(>Chi)    \n",
       "1 53        297.3722   NA       NA           NA\n",
       "2 50        210.3919    3 86.98032 9.750414e-19"
      ]
     },
     "metadata": {},
     "output_type": "display_data"
    }
   ],
   "source": [
    "#test de razon de verosimilitudes\n",
    "fit2 <- glm(breaks~ 1, family = poisson(link=\"log\"), data=warpbreaks2)  # modelo solo ocn el intercepto\n",
    "anova(fit2,fit1,test=\"LRT\")                                             #Test razon de verosimilitudes"
   ]
  },
  {
   "cell_type": "markdown",
   "metadata": {},
   "source": [
    "Luego se rechaza $H_0$ a un nivel de significancia APROXIMADO del 100$ \\alpha\\%$ puesto que  $\\xi _{RV}>\\chi^2(3)$ estableciendo que almenos uno de los betas es significativo.\n",
    "\n",
    "---"
   ]
  },
  {
   "cell_type": "markdown",
   "metadata": {},
   "source": [
    "## 2. Test de Wald\n",
    " \n",
    " Ahora para hacer una hipótesis sobre el tipo de lana, considero a $\\beta_2$. \n",
    "\n",
    "$$H_{0}: \\beta_2 = 0 \\;\\;\\;\\;\\; vs \\;\\;\\;\\;\\;\\; H_{1}: \\beta_2 \\neq  0 $$\n",
    "\n",
    "donde \n",
    "\n",
    "$$ \\xi _{W} = (\\hat{\\beta_2}  - \\beta_2^{0})' [\\hat{Var}(\\hat{\\beta_2})]{-1}(\\hat{\\beta_2}  - \\beta_2^{0})$$"
   ]
  },
  {
   "cell_type": "code",
   "execution_count": 9,
   "metadata": {},
   "outputs": [
    {
     "data": {
      "text/html": [
       "<strong>woolB:</strong> 15.9540798868803"
      ],
      "text/latex": [
       "\\textbf{woolB:} 15.9540798868803"
      ],
      "text/markdown": [
       "**woolB:** 15.9540798868803"
      ],
      "text/plain": [
       "   woolB \n",
       "15.95408 "
      ]
     },
     "metadata": {},
     "output_type": "display_data"
    }
   ],
   "source": [
    "(coef(fit1)[c(2)])^2 /(vcov(fit1)[c(2), c(2)])     #test de wald"
   ]
  },
  {
   "cell_type": "markdown",
   "metadata": {},
   "source": [
    "Aqui hay que notar que $\\xi _{W}=15.95407$ es el mismo test de wald para el casi univariado esto es porque:\n",
    "\n",
    "* Consideranddo que $Z_{\\hat{\\beta_2}}=-3.994$, se contrasta con la estadistica normal (concluyendose que se rechaza $H_0$).\n",
    "\n",
    "* Con una chi cuadrado con un grado de libertad $\\chi^2_{1}=3.84145$ considerando a $(zvalue)^2=(-3.994)^2=15.952036$ se tiene la misma desición. veamos el pvalor:"
   ]
  },
  {
   "cell_type": "code",
   "execution_count": 106,
   "metadata": {},
   "outputs": [
    {
     "data": {
      "text/html": [
       "6.49678632189676e-05"
      ],
      "text/latex": [
       "6.49678632189676e-05"
      ],
      "text/markdown": [
       "6.49678632189676e-05"
      ],
      "text/plain": [
       "[1] 6.496786e-05"
      ]
     },
     "metadata": {},
     "output_type": "display_data"
    }
   ],
   "source": [
    "1-pchisq(15.952036 ,df=1)"
   ]
  },
  {
   "cell_type": "markdown",
   "metadata": {},
   "source": [
    "---\n"
   ]
  },
  {
   "cell_type": "code",
   "execution_count": 113,
   "metadata": {},
   "outputs": [
    {
     "name": "stdout",
     "output_type": "stream",
     "text": [
      "\n",
      "  Wald test \n",
      "\n",
      " Model 1:  breaks ~ wool + tension \n",
      " Model 2:  breaks ~ 1 + wool \n",
      "\n",
      "   Chi   Df  Pr(>Chi)    \n",
      "  71.051  2 3.331e-16 ***\n"
     ]
    },
    {
     "data": {
      "text/html": [
       "3.33066907387547e-16"
      ],
      "text/latex": [
       "3.33066907387547e-16"
      ],
      "text/markdown": [
       "3.33066907387547e-16"
      ],
      "text/plain": [
       "[1] 3.330669e-16"
      ]
     },
     "metadata": {},
     "output_type": "display_data"
    }
   ],
   "source": [
    "fit<-glm(breaks~1+ wool ,family = poisson(link=\"log\"), data=warpbreaks)      # modelo solo ocn el intercepto\n",
    "anova_glm(fit,fit1,test=\"wald\") #test de wald\n",
    "1-pchisq(71.051,df = 2)         #pvalor"
   ]
  },
  {
   "cell_type": "markdown",
   "metadata": {},
   "source": [
    "## 3 Test de Score."
   ]
  },
  {
   "cell_type": "code",
   "execution_count": 115,
   "metadata": {},
   "outputs": [
    {
     "name": "stdout",
     "output_type": "stream",
     "text": [
      "\n",
      "  Rao test \n",
      "\n",
      " Model 1:  breaks ~ wool + tension \n",
      " Model 2:  breaks ~ 1 + wool \n",
      "\n",
      "  Chi   Df Pr(>Chi)    \n",
      "  72.27  2 2.22e-16 ***\n"
     ]
    },
    {
     "data": {
      "text/html": [
       "2.22044604925031e-16"
      ],
      "text/latex": [
       "2.22044604925031e-16"
      ],
      "text/markdown": [
       "2.22044604925031e-16"
      ],
      "text/plain": [
       "[1] 2.220446e-16"
      ]
     },
     "metadata": {},
     "output_type": "display_data"
    }
   ],
   "source": [
    "anova_glm(fit,fit1,test=\"rao\") #test de rao\n",
    "1-pchisq(72.27,df = 2)         #pvalor"
   ]
  },
  {
   "cell_type": "markdown",
   "metadata": {},
   "source": [
    "## 4 Test de gradiente."
   ]
  },
  {
   "cell_type": "code",
   "execution_count": 116,
   "metadata": {},
   "outputs": [
    {
     "name": "stdout",
     "output_type": "stream",
     "text": [
      "\n",
      "  Gradient test \n",
      "\n",
      " Model 1:  breaks ~ wool + tension \n",
      " Model 2:  breaks ~ 1 + wool \n",
      "\n",
      "   Chi   Df  Pr(>Chi)    \n",
      "  70.666  2 4.441e-16 ***\n"
     ]
    },
    {
     "data": {
      "text/html": [
       "4.44089209850063e-16"
      ],
      "text/latex": [
       "4.44089209850063e-16"
      ],
      "text/markdown": [
       "4.44089209850063e-16"
      ],
      "text/plain": [
       "[1] 4.440892e-16"
      ]
     },
     "metadata": {},
     "output_type": "display_data"
    }
   ],
   "source": [
    "anova_glm(fit,fit1,test=\"gradient\") #test de wald\n",
    "1-pchisq(70.666,df = 2)         #pvalor"
   ]
  },
  {
   "cell_type": "code",
   "execution_count": null,
   "metadata": {},
   "outputs": [],
   "source": []
  },
  {
   "cell_type": "code",
   "execution_count": null,
   "metadata": {},
   "outputs": [],
   "source": []
  },
  {
   "cell_type": "code",
   "execution_count": null,
   "metadata": {},
   "outputs": [],
   "source": []
  },
  {
   "cell_type": "markdown",
   "metadata": {},
   "source": [
    "No obstante esta prueba puede ser contrastada por medio de una prueba de razon de verosimilitudes *(diferencias de dos desvios)* el **desvio del modelo** y **desvio del modelo bajo la hipotesis nula.**"
   ]
  },
  {
   "cell_type": "code",
   "execution_count": 93,
   "metadata": {},
   "outputs": [
    {
     "data": {
      "text/html": [
       "<table>\n",
       "<thead><tr><th scope=col>Resid. Df</th><th scope=col>Resid. Dev</th><th scope=col>Df</th><th scope=col>Deviance</th><th scope=col>Pr(&gt;Chi)</th></tr></thead>\n",
       "<tbody>\n",
       "\t<tr><td>52          </td><td>281.3335    </td><td>NA          </td><td>      NA    </td><td>          NA</td></tr>\n",
       "\t<tr><td>50          </td><td>210.3919    </td><td> 2          </td><td>70.94157    </td><td>3.937619e-16</td></tr>\n",
       "</tbody>\n",
       "</table>\n"
      ],
      "text/latex": [
       "\\begin{tabular}{r|lllll}\n",
       " Resid. Df & Resid. Dev & Df & Deviance & Pr(>Chi)\\\\\n",
       "\\hline\n",
       "\t 52           & 281.3335     & NA           &       NA     &           NA\\\\\n",
       "\t 50           & 210.3919     &  2           & 70.94157     & 3.937619e-16\\\\\n",
       "\\end{tabular}\n"
      ],
      "text/markdown": [
       "\n",
       "| Resid. Df | Resid. Dev | Df | Deviance | Pr(>Chi) |\n",
       "|---|---|---|---|---|\n",
       "| 52           | 281.3335     | NA           |       NA     |           NA |\n",
       "| 50           | 210.3919     |  2           | 70.94157     | 3.937619e-16 |\n",
       "\n"
      ],
      "text/plain": [
       "  Resid. Df Resid. Dev Df Deviance Pr(>Chi)    \n",
       "1 52        281.3335   NA       NA           NA\n",
       "2 50        210.3919    2 70.94157 3.937619e-16"
      ]
     },
     "metadata": {},
     "output_type": "display_data"
    }
   ],
   "source": [
    "#test de razon de verosimilitudes\n",
    "fit3<-glm(breaks~1+wool ,family = poisson(link=\"log\"), data=warpbreaks2) \n",
    "anova(fit3,fit1, test = \"LRT\")                                           #Test razon de verosimilitudes"
   ]
  },
  {
   "cell_type": "markdown",
   "metadata": {},
   "source": [
    "$$H_{0}: \\beta_3 = \\beta_4=0\\;\\;\\;\\;\\; vs \\;\\;\\;\\;\\;\\; H_{1}: \\beta_3 \\neq \\beta_4 \\neq 0 $$\n",
    "\n",
    "Luego se rechaza $H_0$ a un nivel de significancia APROXIMADO del 100$ \\alpha\\%$ estableciendo que la tensión es significativa en el numero de roturas."
   ]
  },
  {
   "cell_type": "code",
   "execution_count": null,
   "metadata": {},
   "outputs": [],
   "source": []
  },
  {
   "cell_type": "code",
   "execution_count": null,
   "metadata": {},
   "outputs": [],
   "source": []
  },
  {
   "cell_type": "markdown",
   "metadata": {},
   "source": [
    "## NOTA:   \n",
    "\n",
    "Para instalar librerias de R en jupyter notebooks usamos la siguiente linea \n",
    "\n",
    "* install.packages(\"ISLR\", \"/home/user/anaconda3/lib/R/library\")  no usar este comando\n",
    "* install.packages(\"GLMsData\", \"/Users/YULY/anaconda/Lib/R/library\")\n",
    "\n",
    "Para más información verificar el siguiente enlace::\n",
    "\n",
    "https://www.pythond.com/23094/conda-como-instalar-paquetes-r-que-no-estan-disponibles-en-r-essentials.html\n",
    "\n",
    "* También puede usarse el siguiente comando desde r para instalar el entorno de r \n",
    "\n",
    "install.packages(\"CASdatasets\", \"/Users/YULY/anaconda/Lib/R/library\",repos = \"http://cas.uqam.ca/pub/R/\")\n",
    "\n",
    "\n",
    "\n",
    "\n",
    "* Pára graficar  http://www.simonqueenborough.info/R/statistics/lessons/Count_Data.html\n",
    "* Analisis en python https://stats.idre.ucla.edu/stata/dae/poisson-regression/\n",
    "* Análisis en ggplot2 https://stats.idre.ucla.edu/r/dae/poisson-regression/"
   ]
  },
  {
   "cell_type": "code",
   "execution_count": 122,
   "metadata": {},
   "outputs": [
    {
     "name": "stdout",
     "output_type": "stream",
     "text": [
      "package 'plotly' successfully unpacked and MD5 sums checked\n",
      "\n",
      "The downloaded binary packages are in\n",
      "\tC:\\Users\\YULY\\AppData\\Local\\Temp\\RtmpGoTBO9\\downloaded_packages\n"
     ]
    }
   ],
   "source": []
  }
 ],
 "metadata": {
  "kernelspec": {
   "display_name": "R",
   "language": "R",
   "name": "ir"
  },
  "language_info": {
   "codemirror_mode": "r",
   "file_extension": ".r",
   "mimetype": "text/x-r-source",
   "name": "R",
   "pygments_lexer": "r",
   "version": "3.6.1"
  }
 },
 "nbformat": 4,
 "nbformat_minor": 2
}
