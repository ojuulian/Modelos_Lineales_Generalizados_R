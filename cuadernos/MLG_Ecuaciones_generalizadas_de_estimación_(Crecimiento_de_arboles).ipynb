{
 "cells": [
  {
   "cell_type": "markdown",
   "metadata": {},
   "source": [
    "# Ecuaciones generalizadas de estimación (datos crecimiento de arboles)\n",
    "\n",
    "(Diggle et al. (1994, p´agina 5)) El principal objetivo del análisis de estos datos es evaluar\n",
    "el efecto de la contaminación del ozono sobre el crecimiento de los árboles. Como\n",
    "la contaminación por ozono es común en las zonas urbanas, el impacto del aumento de\n",
    "las concentraciones de ozono en el crecimiento de los árboles es de considerable interés.\n",
    "La respuesta es el tamaño del árbol, donde el tamaño se mide convencionalmente mediante el producto de la altura del árbol y el diámetro del tallo al cuadrado. En un primer grupo, un total de 54 árboles fueron cultivados bajo una atmosfera enriquecida\n",
    "con ozono (es decir, una exposición al ozono de 70 partes por billón), mientras que en un segundo grupo se cultivaron 25 árboles en condiciones atmosféricas normales. El tamaño de cada uno de los 79 árboles se observo 13 veces a traves del tiempo, es decir,  152, 174, 201, 227, 258, 469, 496, 528, 556, 579, 613, 639 y 674 días desde el comienzo del experimento. Por lo tanto, el objetivo es comparar los patrones de crecimiento de los árboles bajo las dos condiciones. Estos datos se encuentran en el archivo **spruce.xls**, donde:\n",
    "\n",
    "* tree: Identificador del arbol.\n",
    "* days,  Días desde el comienzo del experimento.\n",
    "* size, Tamaño del árbol.\n",
    "* treatment: Tratamiento aplicado atmósfera enriquecida con ozono (treatment=1), y atmósfera normal (treatment=0)."
   ]
  },
  {
   "cell_type": "code",
   "execution_count": 13,
   "metadata": {},
   "outputs": [],
   "source": [
    "rm(list=ls())\n",
    "setwd(\"C:\\\\Users\\\\YULY\\\\Desktop\\\\Desktop\\\\UNAL 2018\\\\MLGz\\\\MLG Vanegas\")\n",
    "library(sqldf)\n",
    "library(numDeriv)\n",
    "library(Rfast)\n",
    "source(\"macros.txt\")\n",
    "source(\"test.txt\")"
   ]
  },
  {
   "cell_type": "code",
   "execution_count": 18,
   "metadata": {},
   "outputs": [
    {
     "name": "stdout",
     "output_type": "stream",
     "text": [
      "Classes 'tbl_df', 'tbl' and 'data.frame':\t1027 obs. of  4 variables:\n",
      " $ tree     : chr  \"N1T01\" \"N1T01\" \"N1T01\" \"N1T01\" ...\n",
      " $ days     : num  152 174 201 227 258 469 496 528 556 579 ...\n",
      " $ size     : num  92.8 156 177.7 223.6 225.9 ...\n",
      " $ treatment: num  0 0 0 0 0 0 0 0 0 0 ...\n"
     ]
    },
    {
     "data": {
      "text/html": [
       "<table>\n",
       "<thead><tr><th scope=col>tree</th><th scope=col>days</th><th scope=col>size</th><th scope=col>treatment</th></tr></thead>\n",
       "<tbody>\n",
       "\t<tr><td>N1T01    </td><td>152      </td><td> 92.75856</td><td>0        </td></tr>\n",
       "\t<tr><td>N1T01    </td><td>174      </td><td>156.02246</td><td>0        </td></tr>\n",
       "\t<tr><td>N1T01    </td><td>201      </td><td>177.68281</td><td>0        </td></tr>\n",
       "\t<tr><td>N1T01    </td><td>227      </td><td>223.63159</td><td>0        </td></tr>\n",
       "\t<tr><td>N1T01    </td><td>258      </td><td>225.87912</td><td>0        </td></tr>\n",
       "\t<tr><td>N1T01    </td><td>469      </td><td>301.87107</td><td>0        </td></tr>\n",
       "\t<tr><td>N1T01    </td><td>496      </td><td>301.87107</td><td>0        </td></tr>\n",
       "\t<tr><td>N1T01    </td><td>528      </td><td>387.61012</td><td>0        </td></tr>\n",
       "\t<tr><td>N1T01    </td><td>556      </td><td>478.18611</td><td>0        </td></tr>\n",
       "\t<tr><td>N1T01    </td><td>579      </td><td>566.79631</td><td>0        </td></tr>\n",
       "\t<tr><td>N1T01    </td><td>613      </td><td>626.40680</td><td>0        </td></tr>\n",
       "\t<tr><td>N1T01    </td><td>639      </td><td>639.06106</td><td>0        </td></tr>\n",
       "\t<tr><td>N1T01    </td><td>674      </td><td>620.17395</td><td>0        </td></tr>\n",
       "\t<tr><td>N1T02    </td><td>152      </td><td>144.02689</td><td>0        </td></tr>\n",
       "\t<tr><td>N1T02    </td><td>174      </td><td>204.38388</td><td>0        </td></tr>\n",
       "</tbody>\n",
       "</table>\n"
      ],
      "text/latex": [
       "\\begin{tabular}{r|llll}\n",
       " tree & days & size & treatment\\\\\n",
       "\\hline\n",
       "\t N1T01     & 152       &  92.75856 & 0        \\\\\n",
       "\t N1T01     & 174       & 156.02246 & 0        \\\\\n",
       "\t N1T01     & 201       & 177.68281 & 0        \\\\\n",
       "\t N1T01     & 227       & 223.63159 & 0        \\\\\n",
       "\t N1T01     & 258       & 225.87912 & 0        \\\\\n",
       "\t N1T01     & 469       & 301.87107 & 0        \\\\\n",
       "\t N1T01     & 496       & 301.87107 & 0        \\\\\n",
       "\t N1T01     & 528       & 387.61012 & 0        \\\\\n",
       "\t N1T01     & 556       & 478.18611 & 0        \\\\\n",
       "\t N1T01     & 579       & 566.79631 & 0        \\\\\n",
       "\t N1T01     & 613       & 626.40680 & 0        \\\\\n",
       "\t N1T01     & 639       & 639.06106 & 0        \\\\\n",
       "\t N1T01     & 674       & 620.17395 & 0        \\\\\n",
       "\t N1T02     & 152       & 144.02689 & 0        \\\\\n",
       "\t N1T02     & 174       & 204.38388 & 0        \\\\\n",
       "\\end{tabular}\n"
      ],
      "text/markdown": [
       "\n",
       "| tree | days | size | treatment |\n",
       "|---|---|---|---|\n",
       "| N1T01     | 152       |  92.75856 | 0         |\n",
       "| N1T01     | 174       | 156.02246 | 0         |\n",
       "| N1T01     | 201       | 177.68281 | 0         |\n",
       "| N1T01     | 227       | 223.63159 | 0         |\n",
       "| N1T01     | 258       | 225.87912 | 0         |\n",
       "| N1T01     | 469       | 301.87107 | 0         |\n",
       "| N1T01     | 496       | 301.87107 | 0         |\n",
       "| N1T01     | 528       | 387.61012 | 0         |\n",
       "| N1T01     | 556       | 478.18611 | 0         |\n",
       "| N1T01     | 579       | 566.79631 | 0         |\n",
       "| N1T01     | 613       | 626.40680 | 0         |\n",
       "| N1T01     | 639       | 639.06106 | 0         |\n",
       "| N1T01     | 674       | 620.17395 | 0         |\n",
       "| N1T02     | 152       | 144.02689 | 0         |\n",
       "| N1T02     | 174       | 204.38388 | 0         |\n",
       "\n"
      ],
      "text/plain": [
       "   tree  days size      treatment\n",
       "1  N1T01 152   92.75856 0        \n",
       "2  N1T01 174  156.02246 0        \n",
       "3  N1T01 201  177.68281 0        \n",
       "4  N1T01 227  223.63159 0        \n",
       "5  N1T01 258  225.87912 0        \n",
       "6  N1T01 469  301.87107 0        \n",
       "7  N1T01 496  301.87107 0        \n",
       "8  N1T01 528  387.61012 0        \n",
       "9  N1T01 556  478.18611 0        \n",
       "10 N1T01 579  566.79631 0        \n",
       "11 N1T01 613  626.40680 0        \n",
       "12 N1T01 639  639.06106 0        \n",
       "13 N1T01 674  620.17395 0        \n",
       "14 N1T02 152  144.02689 0        \n",
       "15 N1T02 174  204.38388 0        "
      ]
     },
     "metadata": {},
     "output_type": "display_data"
    }
   ],
   "source": [
    "###################### Lectura de los datos ######################\n",
    "library(readxl)\n",
    "spruce <- read_excel(\"spruce.xls.xlsx\")\n",
    "str(spruce)\n",
    "head(spruce,n=15)"
   ]
  },
  {
   "cell_type": "code",
   "execution_count": 20,
   "metadata": {},
   "outputs": [
    {
     "data": {
      "image/png": "[encoded data removed]",
      "text/plain": [
       "plot without title"
      ]
     },
     "metadata": {},
     "output_type": "display_data"
    }
   ],
   "source": [
    "library(ggplot2)\n",
    "ggplot(spruce, aes(x = days, y = size)) +\n",
    "geom_point() +\n",
    "facet_grid(~ treatment)\n"
   ]
  },
  {
   "cell_type": "markdown",
   "metadata": {},
   "source": [
    "Del gráfico anterior podemos decir que a medida que aumenta el tiempo, la varianza de las observaciones aumenta en los dos tipos de atmósfera, támbien se puede decir que la dispersión en\n",
    "ambos tipos de atmósfera es simila, y crece respecto a la media.\n",
    "\n",
    "**B)**\n"
   ]
  },
  {
   "cell_type": "code",
   "execution_count": 23,
   "metadata": {},
   "outputs": [
    {
     "data": {
      "text/plain": [
       "\n",
       "Call:\n",
       "glm(formula = size ~ treatment + poly(days, degree = 4), family = Gamma(\"log\"), \n",
       "    data = spruce)\n",
       "\n",
       "Deviance Residuals: \n",
       "    Min       1Q   Median       3Q      Max  \n",
       "-1.6454  -0.5008  -0.1069   0.2551   1.3655  \n",
       "\n",
       "Coefficients:\n",
       "                        Estimate Std. Error t value Pr(>|t|)    \n",
       "(Intercept)              5.92243    0.03181 186.206  < 2e-16 ***\n",
       "treatment               -0.28732    0.03847  -7.469 1.73e-13 ***\n",
       "poly(days, degree = 4)1 19.94313    0.57339  34.781  < 2e-16 ***\n",
       "poly(days, degree = 4)2 -2.80481    0.57339  -4.892 1.16e-06 ***\n",
       "poly(days, degree = 4)3  5.45623    0.57339   9.516  < 2e-16 ***\n",
       "poly(days, degree = 4)4 -4.14353    0.57339  -7.226 9.70e-13 ***\n",
       "---\n",
       "Signif. codes:  0 '***' 0.001 '**' 0.01 '*' 0.05 '.' 0.1 ' ' 1\n",
       "\n",
       "(Dispersion parameter for Gamma family taken to be 0.328772)\n",
       "\n",
       "    Null deviance: 756.5  on 1026  degrees of freedom\n",
       "Residual deviance: 364.8  on 1021  degrees of freedom\n",
       "AIC: 13323\n",
       "\n",
       "Number of Fisher Scoring iterations: 5\n"
      ]
     },
     "metadata": {},
     "output_type": "display_data"
    },
    {
     "name": "stdout",
     "output_type": "stream",
     "text": [
      "  |++++++++++| 100%\n"
     ]
    },
    {
     "data": {
      "image/png": "[encoded data removed]",
      "text/plain": [
       "Plot with title \" \""
      ]
     },
     "metadata": {},
     "output_type": "display_data"
    }
   ],
   "source": [
    "fit1 <- glm(size ~ treatment+ poly(days, degree = 4), family=Gamma(\"log\"),data=spruce)\n",
    "summary(fit1)\n",
    "envelope_glm(fit1,rep=10)\n"
   ]
  },
  {
   "attachments": {},
   "cell_type": "markdown",
   "metadata": {},
   "source": [
    "El modelo ajustado corresponde a\n",
    "\n",
    "$$Y_k ∼ Gamma(µk, φ)$$\n",
    "$$log(µ_k) = \\beta_1 + \\beta_2 ∗ xk1 + \\beta_3 ∗ xk2 + \\beta_4 ∗ x2k2 + \\beta_5 ∗ x3k2 + \\beta_6 ∗ x4k2$$\n",
    "$$Y1, · · · ,Yn \\;\\; independientes$$\n",
    "\n",
    "donde $x_{k1}$ corresponde al tratamiento aplicado y $x_{k2}$ a la variable días. Los resultados obtenidos al\n",
    "ajustar este modelo indican que el tratamiento de la atmósfera enriquecida con ozono disminuye\n",
    "el creciemiento del árbol comparado con la atmósfera normal.\n"
   ]
  },
  {
   "cell_type": "code",
   "execution_count": 24,
   "metadata": {},
   "outputs": [
    {
     "name": "stdout",
     "output_type": "stream",
     "text": [
      "Iteration limit exceeded!!\n",
      "\n",
      "Variance to mean relation:  Gamma \n",
      "                     Link:  log \n",
      "         Linear predictor:  1 + treatment + poly(days, degree = 4) \n",
      "\n",
      " Object                   Correlation -2*quasi-likelihood  df    QIC  \n",
      "  fit11                          AR-1            42038.87   6 42086.19\n",
      "  fit12                  Exchangeable            42020.81   6 42067.68\n",
      "  fit13     Stationary-M-dependent(2)            39321.47   6 39366.01\n",
      "  fit14 Non-Stationary-M-dependent(2)            39084.82   6 39128.50\n"
     ]
    }
   ],
   "source": [
    "fit11 <- geeglm(size ~ treatment+poly(days, degree = 4), data=spruce, id=tree, family=quasi(variance = \"mu^2\", link = \"log\"), corstr=\"AR-1\")\n",
    "fit12 <- geeglm(size ~ treatment+poly(days, degree = 4), data=spruce, id=tree, family=quasi(variance = \"mu^2\", link = \"log\"),corstr=\"Exchangeable\")\n",
    "fit13 <- geeglm(size ~ treatment+poly(days, degree = 4), data=spruce, id=tree, family=quasi(variance = \"mu^2\", link = \"log\"),corstr=\"Stationary-M-dependent(2)\")\n",
    "fit14 <- geeglm(size ~ treatment+poly(days, degree = 4), data=spruce, id=tree, family=quasi(variance = \"mu^2\", link = \"log\"),corstr=\"Non-Stationary-M-dependent(2)\")\n",
    "QIC(fit11, fit12, fit13, fit14)\n"
   ]
  },
  {
   "cell_type": "code",
   "execution_count": 32,
   "metadata": {},
   "outputs": [
    {
     "name": "stdout",
     "output_type": "stream",
     "text": [
      "\n",
      "Sample size\n",
      "       Number of clusters:  79\n",
      "     Minimum cluster size:  13\n",
      "     Maximum cluster size:  13\n",
      "*************************************************************\n",
      "Model\n",
      "Variance to mean relation:  Gamma\n",
      "                     Link:  log\n",
      "    Correlation structure:  Non-Stationary-M-dependent(2)\n",
      "*************************************************************\n",
      "Coefficients\n",
      "                         Estimate Std.Error   z-value Pr(>|z|)\n",
      "(Intercept)               5.89414   0.10119  58.25090  < 2e-16\n",
      "treatment                -0.28336   0.12587  -2.25131 0.024366\n",
      "poly(days, degree = 4)1  19.91457   0.52317  38.06501  < 2e-16\n",
      "poly(days, degree = 4)2  -4.15698   0.27198 -15.28400  < 2e-16\n",
      "poly(days, degree = 4)3   4.14459   0.23623  17.54445  < 2e-16\n",
      "poly(days, degree = 4)4  -3.17370   0.21667 -14.64749  < 2e-16\n",
      "\n",
      "Dispersion  0.3536 \n",
      "*************************************************************\n",
      "Goodness-of-fit statistics\n",
      "      -2*quasi-likelihood:  39084.82 \n",
      "                      QIC:  39128.5 \n",
      "                     QICu:  39096.82 \n",
      " Deviance-based R-squared:  0.523 \n",
      "*************************************************************\n",
      "Working correlation\n",
      "       [1]    [2]    [3]  [4]    [5]    [6]    [7]    [8]    [9]   [10]  [11] \n",
      "[1]  1.0000 0.9849 0.9171    0 0.0000 0.0000 0.0000 0.0000 0.0000 0.0000     0\n",
      "[2]  0.9849 1.0000 0.9304    1 0.0000 0.0000 0.0000 0.0000 0.0000 0.0000     0\n",
      "[3]  0.9171 0.9304 1.0000    1 1.0000 0.0000 0.0000 0.0000 0.0000 0.0000     0\n",
      "[4]  0.0000 1.0000 1.0000    1 1.0000 1.0000 0.0000 0.0000 0.0000 0.0000     0\n",
      "[5]  0.0000 0.0000 1.0000    1 1.0000 1.0000 0.9066 0.0000 0.0000 0.0000     0\n",
      "[6]  0.0000 0.0000 0.0000    1 1.0000 1.0000 0.8735 0.8626 0.0000 0.0000     0\n",
      "[7]  0.0000 0.0000 0.0000    0 0.9066 0.8735 1.0000 0.8168 0.8265 0.0000     0\n",
      "[8]  0.0000 0.0000 0.0000    0 0.0000 0.8626 0.8168 1.0000 0.8534 0.9282     0\n",
      "[9]  0.0000 0.0000 0.0000    0 0.0000 0.0000 0.8265 0.8534 1.0000 1.0000     1\n",
      "[10] 0.0000 0.0000 0.0000    0 0.0000 0.0000 0.0000 0.9282 1.0000 1.0000     1\n",
      "[11] 0.0000 0.0000 0.0000    0 0.0000 0.0000 0.0000 0.0000 1.0000 1.0000     1\n",
      "[12] 0.0000 0.0000 0.0000    0 0.0000 0.0000 0.0000 0.0000 0.0000 1.0000     1\n",
      "[13] 0.0000 0.0000 0.0000    0 0.0000 0.0000 0.0000 0.0000 0.0000 0.0000     1\n",
      "     [12]  [13] \n",
      "[1]      0     0\n",
      "[2]      0     0\n",
      "[3]      0     0\n",
      "[4]      0     0\n",
      "[5]      0     0\n",
      "[6]      0     0\n",
      "[7]      0     0\n",
      "[8]      0     0\n",
      "[9]      0     0\n",
      "[10]     1     0\n",
      "[11]     1     1\n",
      "[12]     1     1\n",
      "[13]     1     1\n"
     ]
    }
   ],
   "source": [
    "summary(fit14)"
   ]
  },
  {
   "cell_type": "markdown",
   "metadata": {},
   "source": [
    "De acuerdo a la salida anterior el criterio QIC, indica que el modelo que mejor se ajusta a los\n",
    "datos, es el modelo que asume una estructura No estacinario M dependiente para la matriz de\n",
    "correlación, que corresponde al modelo fit14.\n",
    "\n",
    "Aquí en este modelo se conoce que **Number of clusters:79** hace correspondencia al número de clusters (79 árboles), 13 es el número maximo y nínimo de clusters, asi mismo **Variance to mean relation:  Gamma** establece que se está tomando la relación media varianza de la Gamma.\n",
    "\n",
    "se conoce que *treatment: Tratamiento aplicado atmósfera enriquecida con ozono (treatment=1), y atmósfera normal (treatment=0)*  es decír que es 1 para tratamiento enriquecido con ozono y 0 si no.\n",
    "\n",
    "* Dado que $\\beta_2= -0.28336$ es negativo y además la función de enlace es monotona creciente luego afirmamos que al comparar dos arboles con el mismo número de dias pero uno bajo la atmósfera enriquecida y el otro normal entonces el que creció bajo la atmósfera enriquecida tiene un tamaño esperado menor que el arbol nacido en condiciones de atmosfera normal.\n",
    "\n",
    "* Ese ozono desinibe el crecimiento del arbol \n",
    "\n",
    "**D)**"
   ]
  },
  {
   "cell_type": "code",
   "execution_count": 34,
   "metadata": {},
   "outputs": [],
   "source": [
    "fit2 <- geeglm(size ~ poly(days, degree = 4), data=spruce, id=tree, family=quasi(variance = \"mu^2\", link = \"log\"), corstr=\"Non-Stationary-M-dependent(2)\")"
   ]
  },
  {
   "cell_type": "code",
   "execution_count": 35,
   "metadata": {},
   "outputs": [
    {
     "name": "stdout",
     "output_type": "stream",
     "text": [
      "\n",
      "  Wald test \n",
      "\n",
      " Model 1:  size ~ treatment + poly(days, degree = 4) \n",
      " Model 2:  size ~ poly(days, degree = 4) \n",
      "\n",
      "   Chi    Df   Pr(>Chi)  \n",
      "  5.0684   1    0.02437 *\n"
     ]
    }
   ],
   "source": [
    "anova_glm(fit14,fit2,test=\"wald\")"
   ]
  },
  {
   "cell_type": "markdown",
   "metadata": {},
   "source": [
    "De acuerdo con el test de Wald, a un nivel de sinificancia aproximado del $5\\%$ la variable treatment\n",
    "es significatica por lo tanto podemos concluir que el patrón de crecimiento de los árboles depende\n",
    "del tipo de atmósfera bajo la cual crecen.\n",
    "\n",
    "# Interpretacion"
   ]
  },
  {
   "cell_type": "markdown",
   "metadata": {},
   "source": [
    "De acuerdo al modelo ajustado fit14, si comparamos el creciemineto de dos individuos cuyas características son iguales a excepción de la variable tratamiento entonces el crecimiento promedio de\n",
    "un árbol expuesto a la atmósfera enriquecida con ozono es 24,69% menor al de un árbol expuesto\n",
    "a una atmósfera normal."
   ]
  },
  {
   "cell_type": "markdown",
   "metadata": {},
   "source": [
    "# Diagnóstico del modelo\n",
    "\n",
    "\n"
   ]
  },
  {
   "cell_type": "code",
   "execution_count": 30,
   "metadata": {},
   "outputs": [
    {
     "data": {
      "image/png": "[encoded data removed]",
      "text/plain": [
       "plot without title"
      ]
     },
     "metadata": {},
     "output_type": "display_data"
    }
   ],
   "source": [
    "residuals(fit14,out=FALSE,plot=TRUE,type=\"mahalanobis\",identify=1)\n"
   ]
  },
  {
   "cell_type": "markdown",
   "metadata": {},
   "source": [
    "Los residuales basados en la distancia de Mahalanobis, nos indican que la observación que corresponde al árbol 01T09 podría tratarse de un dato influyente, sin embargo como se observa todos\n",
    "los valores se mantienen dentro de las bandas. Por otra parte haciendo uso de la distansia de cook\n",
    "se identifican como datos influyentes a las observaciones que corresponden a los árboles N1T02,\n",
    "N1T07, N2T07, O1T09 Y 02T10."
   ]
  },
  {
   "cell_type": "code",
   "execution_count": 31,
   "metadata": {},
   "outputs": [
    {
     "data": {
      "image/png": "[encoded data removed]",
      "text/plain": [
       "plot without title"
      ]
     },
     "metadata": {},
     "output_type": "display_data"
    }
   ],
   "source": [
    "CookDistance(fit14,plot=TRUE,out=FALSE,identify=5)"
   ]
  },
  {
   "cell_type": "code",
   "execution_count": null,
   "metadata": {},
   "outputs": [],
   "source": []
  }
 ],
 "metadata": {
  "kernelspec": {
   "display_name": "R",
   "language": "R",
   "name": "ir"
  },
  "language_info": {
   "codemirror_mode": "r",
   "file_extension": ".r",
   "mimetype": "text/x-r-source",
   "name": "R",
   "pygments_lexer": "r",
   "version": "3.6.1"
  }
 },
 "nbformat": 4,
 "nbformat_minor": 2
}
