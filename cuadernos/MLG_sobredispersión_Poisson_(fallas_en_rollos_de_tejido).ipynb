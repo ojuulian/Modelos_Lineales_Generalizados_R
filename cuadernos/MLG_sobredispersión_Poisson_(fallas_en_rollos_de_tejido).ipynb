{
 "cells": [
  {
   "cell_type": "markdown",
   "metadata": {},
   "source": [
    "# Modelos con sobredispersión (Fallas en rollos de tejido)\n",
    "\n",
    "(Hinde y Demetrio (1998)) En estos datos la variable de respuesta es el número de fallas en rollos de tejido y la variable explicativa es la longitud de los rollos. El objetivo principal del análisis es identificar si existe una asociación entre el número de fallas en los rollos y la longitud de los mismos."
   ]
  },
  {
   "cell_type": "code",
   "execution_count": 57,
   "metadata": {},
   "outputs": [],
   "source": [
    "rm(list=ls())\n",
    "setwd(\"C:\\\\Users\\\\YULY\\\\Desktop\\\\Desktop\\\\UNAL 2018\\\\MLGz\\\\MLG Vanegas\")\n",
    "library(sqldf)\n",
    "library(numDeriv)\n",
    "library(Rfast)\n",
    "source(\"macros.txt\")\n",
    "source(\"test.txt\")"
   ]
  },
  {
   "cell_type": "code",
   "execution_count": 58,
   "metadata": {},
   "outputs": [
    {
     "data": {
      "text/html": [
       "<table>\n",
       "<thead><tr><th scope=col>fallas</th><th scope=col>longitud</th></tr></thead>\n",
       "<tbody>\n",
       "\t<tr><td> 6 </td><td>551</td></tr>\n",
       "\t<tr><td> 4 </td><td>651</td></tr>\n",
       "\t<tr><td>17 </td><td>832</td></tr>\n",
       "\t<tr><td> 9 </td><td>375</td></tr>\n",
       "\t<tr><td>14 </td><td>715</td></tr>\n",
       "\t<tr><td> 8 </td><td>868</td></tr>\n",
       "</tbody>\n",
       "</table>\n"
      ],
      "text/latex": [
       "\\begin{tabular}{r|ll}\n",
       " fallas & longitud\\\\\n",
       "\\hline\n",
       "\t  6  & 551\\\\\n",
       "\t  4  & 651\\\\\n",
       "\t 17  & 832\\\\\n",
       "\t  9  & 375\\\\\n",
       "\t 14  & 715\\\\\n",
       "\t  8  & 868\\\\\n",
       "\\end{tabular}\n"
      ],
      "text/markdown": [
       "\n",
       "| fallas | longitud |\n",
       "|---|---|\n",
       "|  6  | 551 |\n",
       "|  4  | 651 |\n",
       "| 17  | 832 |\n",
       "|  9  | 375 |\n",
       "| 14  | 715 |\n",
       "|  8  | 868 |\n",
       "\n"
      ],
      "text/plain": [
       "  fallas longitud\n",
       "1  6     551     \n",
       "2  4     651     \n",
       "3 17     832     \n",
       "4  9     375     \n",
       "5 14     715     \n",
       "6  8     868     "
      ]
     },
     "metadata": {},
     "output_type": "display_data"
    }
   ],
   "source": [
    "#Lectura de los datos\n",
    "fallas<-c(6,4,17,9,14,8,5,7,7,7,6,8,28,4,10,4,8,9,23,9,6,1,9,4,9,14,17,10,7,3,9,2)\n",
    "longitud<-c(551,651,832,375,715,868,271,630,491,372,645,441,895,458,642,492,543,842,905,542,522,122,657,170,738,371,735,749,495,716,952,417)\n",
    "tejido<-data.frame(fallas, longitud); head(tejido)"
   ]
  },
  {
   "cell_type": "markdown",
   "metadata": {},
   "source": [
    "\n",
    "# A)\n",
    "Ajuste MLGs poisson con funciones de enlace identidad, logaritmo natural y raiz cuadrada donde el número de fallas en los rollos de tejido es la variable respuesta y la longitud de los rollos es la variable explicativa. Use los criterios AIC y BIC para seleccionar el “mejor” modelo. Evalúe si hay indicios de la presencia de sobredispersión.\n",
    "\n",
    "Considerando que el número de fallas es claramente un **conteo** y la distribución que más se ajusta la variable rta es la Poisson. A continuación se realiza el ajuste en referencia a las especificaciones A):"
   ]
  },
  {
   "cell_type": "code",
   "execution_count": 59,
   "metadata": {},
   "outputs": [],
   "source": [
    "###################### Estimación del modelo ######################\n",
    "fit11 <- glm(fallas ~ longitud, family=poisson(link=\"log\"), data=tejido)\n",
    "fit12 <- glm(fallas ~ longitud, family=poisson(link=\"identity\"), data=tejido)\n",
    "fit13 <- glm(fallas ~ longitud, family=poisson(link=\"sqrt\"), data=tejido)"
   ]
  },
  {
   "cell_type": "code",
   "execution_count": 60,
   "metadata": {},
   "outputs": [
    {
     "data": {
      "text/html": [
       "<table>\n",
       "<thead><tr><th></th><th scope=col>df</th><th scope=col>AIC</th></tr></thead>\n",
       "<tbody>\n",
       "\t<tr><th scope=row>fit11</th><td>2       </td><td>189.0559</td></tr>\n",
       "\t<tr><th scope=row>fit12</th><td>2       </td><td>191.7486</td></tr>\n",
       "\t<tr><th scope=row>fit13</th><td>2       </td><td>190.2910</td></tr>\n",
       "</tbody>\n",
       "</table>\n"
      ],
      "text/latex": [
       "\\begin{tabular}{r|ll}\n",
       "  & df & AIC\\\\\n",
       "\\hline\n",
       "\tfit11 & 2        & 189.0559\\\\\n",
       "\tfit12 & 2        & 191.7486\\\\\n",
       "\tfit13 & 2        & 190.2910\\\\\n",
       "\\end{tabular}\n"
      ],
      "text/markdown": [
       "\n",
       "| <!--/--> | df | AIC |\n",
       "|---|---|---|\n",
       "| fit11 | 2        | 189.0559 |\n",
       "| fit12 | 2        | 191.7486 |\n",
       "| fit13 | 2        | 190.2910 |\n",
       "\n"
      ],
      "text/plain": [
       "      df AIC     \n",
       "fit11 2  189.0559\n",
       "fit12 2  191.7486\n",
       "fit13 2  190.2910"
      ]
     },
     "metadata": {},
     "output_type": "display_data"
    },
    {
     "data": {
      "text/html": [
       "<table>\n",
       "<thead><tr><th></th><th scope=col>df</th><th scope=col>BIC</th></tr></thead>\n",
       "<tbody>\n",
       "\t<tr><th scope=row>fit11</th><td>2       </td><td>191.9873</td></tr>\n",
       "\t<tr><th scope=row>fit12</th><td>2       </td><td>194.6801</td></tr>\n",
       "\t<tr><th scope=row>fit13</th><td>2       </td><td>193.2225</td></tr>\n",
       "</tbody>\n",
       "</table>\n"
      ],
      "text/latex": [
       "\\begin{tabular}{r|ll}\n",
       "  & df & BIC\\\\\n",
       "\\hline\n",
       "\tfit11 & 2        & 191.9873\\\\\n",
       "\tfit12 & 2        & 194.6801\\\\\n",
       "\tfit13 & 2        & 193.2225\\\\\n",
       "\\end{tabular}\n"
      ],
      "text/markdown": [
       "\n",
       "| <!--/--> | df | BIC |\n",
       "|---|---|---|\n",
       "| fit11 | 2        | 191.9873 |\n",
       "| fit12 | 2        | 194.6801 |\n",
       "| fit13 | 2        | 193.2225 |\n",
       "\n"
      ],
      "text/plain": [
       "      df BIC     \n",
       "fit11 2  191.9873\n",
       "fit12 2  194.6801\n",
       "fit13 2  193.2225"
      ]
     },
     "metadata": {},
     "output_type": "display_data"
    }
   ],
   "source": [
    "###################### Valores del AIC y BIC ######################\n",
    "AIC(fit11,fit12,fit13)\n",
    "BIC(fit11,fit12,fit13)"
   ]
  },
  {
   "cell_type": "markdown",
   "metadata": {},
   "source": [
    "Según los anteriores AIC y BIC, se logra identificar que el mejor modelo está determinado por: el que tiene familia Poisson y función de enlace **log**.\n"
   ]
  },
  {
   "cell_type": "code",
   "execution_count": 61,
   "metadata": {},
   "outputs": [
    {
     "data": {
      "text/plain": [
       "\n",
       "Call:\n",
       "glm(formula = fallas ~ longitud, family = poisson(link = \"log\"), \n",
       "    data = tejido)\n",
       "\n",
       "Deviance Residuals: \n",
       "     Min        1Q    Median        3Q       Max  \n",
       "-2.74127  -1.13312  -0.03904   0.66179   3.07446  \n",
       "\n",
       "Coefficients:\n",
       "             Estimate Std. Error z value Pr(>|z|)    \n",
       "(Intercept) 0.9717506  0.2124693   4.574 4.79e-06 ***\n",
       "longitud    0.0019297  0.0003063   6.300 2.97e-10 ***\n",
       "---\n",
       "Signif. codes:  0 '***' 0.001 '**' 0.01 '*' 0.05 '.' 0.1 ' ' 1\n",
       "\n",
       "(Dispersion parameter for poisson family taken to be 1)\n",
       "\n",
       "    Null deviance: 103.714  on 31  degrees of freedom\n",
       "Residual deviance:  61.758  on 30  degrees of freedom\n",
       "AIC: 189.06\n",
       "\n",
       "Number of Fisher Scoring iterations: 4\n"
      ]
     },
     "metadata": {},
     "output_type": "display_data"
    },
    {
     "name": "stdout",
     "output_type": "stream",
     "text": [
      "\n",
      "  Family:  poisson \n",
      "    Link:  log \n",
      "                                                    Df    Value\n",
      "Residual deviance                                   30  61.7577\n",
      "Pearson's statistic                                 30  63.6580\n",
      "Adjusted R-squared based on the residual deviance        0.3847\n",
      "Adjusted R-squared based on the Pearson's statistic      0.4427\n",
      "-2*log-Likelihood                                      185.0559\n",
      "AIC                                                    189.0559\n",
      "BIC                                                    191.9873\n",
      "\n",
      "\n"
     ]
    }
   ],
   "source": [
    "###################### Resumen del modelo seleccionado ######################\n",
    "summary(fit11)\n",
    "gof_glm(fit11)"
   ]
  },
  {
   "cell_type": "markdown",
   "metadata": {},
   "source": [
    "Se conoce que en el caso de la Poisson el $\\phi$ es conocido y es 1. No obstante para conocer $\\phi$ estimamos mediante:\n",
    "\n",
    "$$\\widehat{\\phi}= \\frac{D(y; \\widehat{\\mu})}{n-p}$$\n",
    "\n",
    "$$\\widetilde{\\phi}= \\frac{P(y; \\widehat{\\mu})}{n-p}$$\n",
    "\n",
    "Donde estos valores son mas del doble, se esperaría que fuera cercano a 1, es decir que estamos en un indicio de sobredispersión. Veamos el envelope:"
   ]
  },
  {
   "cell_type": "code",
   "execution_count": 62,
   "metadata": {},
   "outputs": [
    {
     "data": {
      "text/html": [
       "2.05859"
      ],
      "text/latex": [
       "2.05859"
      ],
      "text/markdown": [
       "2.05859"
      ],
      "text/plain": [
       "[1] 2.05859"
      ]
     },
     "metadata": {},
     "output_type": "display_data"
    },
    {
     "data": {
      "text/html": [
       "2.12193333333333"
      ],
      "text/latex": [
       "2.12193333333333"
      ],
      "text/markdown": [
       "2.12193333333333"
      ],
      "text/plain": [
       "[1] 2.121933"
      ]
     },
     "metadata": {},
     "output_type": "display_data"
    }
   ],
   "source": [
    "61.7577/30\n",
    "63.6580/30"
   ]
  },
  {
   "cell_type": "code",
   "execution_count": 63,
   "metadata": {},
   "outputs": [
    {
     "name": "stdout",
     "output_type": "stream",
     "text": [
      "  |++++++++++++++++++++++++++++++++++++++++++++++++++| 100%\n"
     ]
    },
    {
     "data": {
      "image/png": "[encoded data removed]",
      "text/plain": [
       "Plot with title \" \""
      ]
     },
     "metadata": {},
     "output_type": "display_data"
    }
   ],
   "source": [
    "envelope_glm(fit11,rep=100)"
   ]
  },
  {
   "cell_type": "markdown",
   "metadata": {},
   "source": [
    "* Al realizar el envelope en este ajuste se puede observar que el modelo **fit11 Poisson con enlace log** no es el más adecuado. Se puede observar que los residuos positivos se encuentran por encima del 0, estos residuos se encuentran por encima de la banda y nos residuos negativos debajo de la banda.\n",
    "\n",
    "* Este patrón en el envelope y las estimaciones del desvio/gl y pearson/gl da indicios de algo que se le denomina **sobredispersión**.\n",
    "\n",
    "* A continuación se realiza el ajuste a un moddelo por medio de la función **overglm**=sobredispersion igualmente mediante las fuinciones de enlace los, identidad y raiz cuadrada."
   ]
  },
  {
   "cell_type": "markdown",
   "metadata": {},
   "source": [
    "# B)\n",
    "\n",
    "Ajuste modelos binomial negativa I, binomial negativa II y poisson-normal.inversa con funciones de enlace identidad, logaritmo natural y raiz cuadrada donde el número de fallas en los rollos de tejido es la variable respuesta y la longitud de\n",
    "los rollos es la variable explicativa. Use los criterios AIC y BIC para seleccionar el “mejor” modelo. Compare con lo obtenido en (A), especialmente las magnitudes de los errores estándar. Comente.\n",
    "\n",
    "### Forma de atacar el problema de sobredispersión por medio de la  BinomialNegativaI"
   ]
  },
  {
   "cell_type": "code",
   "execution_count": 64,
   "metadata": {},
   "outputs": [
    {
     "name": "stderr",
     "output_type": "stream",
     "text": [
      "Warning message in log(mu * phi):\n",
      "\"Se han producido NaNs\"Warning message in log(mu * phi + 1):\n",
      "\"Se han producido NaNs\"Warning message in log(mu * phi):\n",
      "\"Se han producido NaNs\"Warning message in log(mu * phi + 1):\n",
      "\"Se han producido NaNs\"Warning message in log(mu * phi):\n",
      "\"Se han producido NaNs\"Warning message in log(mu * phi + 1):\n",
      "\"Se han producido NaNs\"Warning message in log(mu * phi):\n",
      "\"Se han producido NaNs\"Warning message in log(mu * phi + 1):\n",
      "\"Se han producido NaNs\"Warning message in log(mu * phi):\n",
      "\"Se han producido NaNs\"Warning message in log(mu * phi + 1):\n",
      "\"Se han producido NaNs\""
     ]
    },
    {
     "name": "stdout",
     "output_type": "stream",
     "text": [
      "\n",
      "\n",
      "  Family:  Negative Binomial I \n",
      "Predictor:  1 + longitud \n",
      "\n",
      " Object     Link -2*log-likelihood df     AIC \n",
      "  fit21      log          174.5537  3 180.5537\n",
      "  fit22 identity          175.3380  3 181.3380\n",
      "  fit23     sqrt          174.9630  3 180.9630\n",
      "\n",
      "\n",
      "  Family:  Negative Binomial I \n",
      "Predictor:  1 + longitud \n",
      "\n",
      " Object     Link -2*log-likelihood df     BIC \n",
      "  fit21      log          174.5537  3 184.9509\n",
      "  fit22 identity          175.3380  3 185.7352\n",
      "  fit23     sqrt          174.9630  3 185.3602\n"
     ]
    }
   ],
   "source": [
    "###################### Estimación del modelo ######################\n",
    "fit21 <-  overglm(fallas ~ longitud, family=\"nb1(log)\", data=tejido)\n",
    "fit22 <-  overglm(fallas ~ longitud, family=\"nb1(identity)\", data=tejido)\n",
    "fit23 <-  overglm(fallas ~ longitud, family=\"nb1(sqrt)\", data=tejido)\n",
    "AIC(fit21,fit22,fit23)\n",
    "BIC(fit21,fit22,fit23)"
   ]
  },
  {
   "cell_type": "markdown",
   "metadata": {},
   "source": [
    "En la anterior salida se muestra los ajustes con sus respectivas funciones de enlace, BIC, AIC, etc. Donde se puede ver que la mejor opcion es el modelo con funcion de enlace *log*, Es decir fit21\n",
    "\n",
    "* Aqui los grados de libertad son 3 puesto que en el modelo Poisson, $\\phi$ era conocido y era $\\phi=1$\n",
    "\n",
    "### Forma de atacar el problema de sobredispersión por medio de la  BinomialNegativaII"
   ]
  },
  {
   "cell_type": "code",
   "execution_count": 65,
   "metadata": {},
   "outputs": [
    {
     "name": "stdout",
     "output_type": "stream",
     "text": [
      "\n",
      "\n",
      "  Family:  Negative Binomial II \n",
      "Predictor:  1 + longitud \n",
      "\n",
      " Object     Link -2*log-likelihood df     AIC \n",
      "  fit31      log          176.0436  3 182.0436\n",
      "  fit32 identity          176.9957  3 182.9957\n",
      "  fit33     sqrt          176.4584  3 182.4584\n",
      "\n",
      "\n",
      "  Family:  Negative Binomial II \n",
      "Predictor:  1 + longitud \n",
      "\n",
      " Object     Link -2*log-likelihood df     BIC \n",
      "  fit31      log          176.0436  3 186.4408\n",
      "  fit32 identity          176.9957  3 187.3929\n",
      "  fit33     sqrt          176.4584  3 186.8556\n"
     ]
    }
   ],
   "source": [
    "fit31 <-  overglm(fallas ~ longitud, family=\"nb2(log)\", data=tejido)\n",
    "fit32 <-  overglm(fallas ~ longitud, family=\"nb2(identity)\", data=tejido)\n",
    "fit33 <-  overglm(fallas ~ longitud, family=\"nb2(sqrt)\", data=tejido)\n",
    "AIC(fit31,fit32,fit33)\n",
    "BIC(fit31,fit32,fit33)"
   ]
  },
  {
   "cell_type": "markdown",
   "metadata": {},
   "source": [
    "Aquí el mejor modelo es el binomial NegativoII enlace log\n",
    "\n",
    "### Otra forma de atacar el problema a subdispersión es PoissonNormalInversa"
   ]
  },
  {
   "cell_type": "code",
   "execution_count": 66,
   "metadata": {},
   "outputs": [
    {
     "name": "stdout",
     "output_type": "stream",
     "text": [
      "\n",
      "\n",
      "  Family:  Poisson-Inverse.Gaussian \n",
      "Predictor:  1 + longitud \n",
      "\n",
      " Object     Link -2*log-likelihood df     AIC \n",
      "  fit41      log          188.3449  3 194.3449\n",
      "  fit42 identity          188.8230  3 194.8230\n",
      "  fit43     sqrt          188.6536  3 194.6536\n",
      "\n",
      "\n",
      "  Family:  Poisson-Inverse.Gaussian \n",
      "Predictor:  1 + longitud \n",
      "\n",
      " Object     Link -2*log-likelihood df     BIC \n",
      "  fit41      log          188.3449  3 198.7421\n",
      "  fit42 identity          188.8230  3 199.2202\n",
      "  fit43     sqrt          188.6536  3 199.0508\n"
     ]
    }
   ],
   "source": [
    "fit41 <-  overglm(fallas ~ longitud, family=\"poig(log)\", data=tejido)\n",
    "fit42 <-  overglm(fallas ~ longitud, family=\"poig(identity)\", data=tejido)\n",
    "fit43 <-  overglm(fallas ~ longitud, family=\"poig(sqrt)\", data=tejido)\n",
    "AIC(fit41,fit42,fit43)\n",
    "BIC(fit41,fit42,fit43)"
   ]
  },
  {
   "cell_type": "markdown",
   "metadata": {},
   "source": [
    "Auí el mejor modelo es el PoissonNormalInverso enlace log.\n",
    "\n",
    "---\n",
    "\n",
    "Para poder determinar el mejor modelo, se realiza el AIC,BIC de las cuatro formas de subdispersión:"
   ]
  },
  {
   "cell_type": "code",
   "execution_count": 67,
   "metadata": {},
   "outputs": [
    {
     "name": "stdout",
     "output_type": "stream",
     "text": [
      "\n",
      "     Link:  log \n",
      "Predictor:  1 + longitud \n",
      "\n",
      " Object                   Family -2*log-likelihood df     AIC \n",
      "  fit21      Negative Binomial I          174.5537  3 180.5537\n",
      "  fit31     Negative Binomial II          176.0436  3 182.0436\n",
      "  fit41 Poisson-Inverse.Gaussian          188.3449  3 194.3449\n",
      "\n",
      "     Link:  log \n",
      "Predictor:  1 + longitud \n",
      "\n",
      " Object                   Family -2*log-likelihood df     BIC \n",
      "  fit21      Negative Binomial I          174.5537  3 184.9509\n",
      "  fit31     Negative Binomial II          176.0436  3 186.4408\n",
      "  fit41 Poisson-Inverse.Gaussian          188.3449  3 198.7421\n"
     ]
    }
   ],
   "source": [
    "AIC(fit21,fit31,fit41)\n",
    "BIC(fit21,fit31,fit41)"
   ]
  },
  {
   "cell_type": "markdown",
   "metadata": {},
   "source": [
    "Finalmente se tiene que el mejor modelo es el que está determinadpo por Negative Binomial I con funcion de enlace log. veamos el ajuste:"
   ]
  },
  {
   "cell_type": "code",
   "execution_count": 68,
   "metadata": {},
   "outputs": [
    {
     "name": "stdout",
     "output_type": "stream",
     "text": [
      "\n",
      "Sample size:  32 \n",
      "     Family:  Negative Binomial I\n",
      "       Link:  log\n",
      " *************************************************************\n",
      "            Estimate Std.Error z-value   Pr(>|z|)\n",
      "(Intercept)  1.00147   0.27540 3.63640 0.00027647\n",
      "longitud     0.00188   0.00042 4.52651 5.9966e-06\n",
      "\n",
      "            Estimate Std.Error\n",
      "Dispersion    0.1045    0.0534\n",
      " *************************************************************\n",
      "                 -2*log-likelihood:  174.554 \n",
      "                               AIC:  180.554 \n",
      "                               BIC:  184.951 \n"
     ]
    }
   ],
   "source": [
    "summary(fit21)"
   ]
  },
  {
   "cell_type": "markdown",
   "metadata": {},
   "source": [
    "En referencia a las estimaciones de los parámetros del modelo se puede decir que siguen siendo significativos, en el modelo *poisson* los parámetros son $(0.9717506, 0.0019297)$ y existen cambios sutanciales con respecto a los del modelo *Negative Binomial I* , no pobstante al estar presente la sobredispersión se especifica que se está subestimando con los errores estándar en el modelo Poisson los cuales son: (0.2124693, 0.0003063), es decir que con el nuevo ajuste *Negative Binomial I* se esperan que sean mayores. En realidad sucede. \n"
   ]
  },
  {
   "cell_type": "markdown",
   "metadata": {},
   "source": [
    "\n",
    "# C) \n",
    "\n",
    "Use los criterios AIC y BIC para comparar los modelos seleccionados en (A) y (B). Cual de ellos parece describir mejor los datos?"
   ]
  },
  {
   "cell_type": "code",
   "execution_count": 69,
   "metadata": {},
   "outputs": [
    {
     "data": {
      "text/html": [
       "<table>\n",
       "<thead><tr><th></th><th scope=col>df</th><th scope=col>BIC</th></tr></thead>\n",
       "<tbody>\n",
       "\t<tr><th scope=row>fit11</th><td>2       </td><td>191.9873</td></tr>\n",
       "\t<tr><th scope=row>fit21</th><td>3       </td><td>      NA</td></tr>\n",
       "</tbody>\n",
       "</table>\n"
      ],
      "text/latex": [
       "\\begin{tabular}{r|ll}\n",
       "  & df & BIC\\\\\n",
       "\\hline\n",
       "\tfit11 & 2        & 191.9873\\\\\n",
       "\tfit21 & 3        &       NA\\\\\n",
       "\\end{tabular}\n"
      ],
      "text/markdown": [
       "\n",
       "| <!--/--> | df | BIC |\n",
       "|---|---|---|\n",
       "| fit11 | 2        | 191.9873 |\n",
       "| fit21 | 3        |       NA |\n",
       "\n"
      ],
      "text/plain": [
       "      df BIC     \n",
       "fit11 2  191.9873\n",
       "fit21 3        NA"
      ]
     },
     "metadata": {},
     "output_type": "display_data"
    },
    {
     "data": {
      "text/html": [
       "<table>\n",
       "<thead><tr><th></th><th scope=col>df</th><th scope=col>AIC</th></tr></thead>\n",
       "<tbody>\n",
       "\t<tr><th scope=row>fit11</th><td>2       </td><td>189.0559</td></tr>\n",
       "\t<tr><th scope=row>fit21</th><td>3       </td><td>180.5537</td></tr>\n",
       "</tbody>\n",
       "</table>\n"
      ],
      "text/latex": [
       "\\begin{tabular}{r|ll}\n",
       "  & df & AIC\\\\\n",
       "\\hline\n",
       "\tfit11 & 2        & 189.0559\\\\\n",
       "\tfit21 & 3        & 180.5537\\\\\n",
       "\\end{tabular}\n"
      ],
      "text/markdown": [
       "\n",
       "| <!--/--> | df | AIC |\n",
       "|---|---|---|\n",
       "| fit11 | 2        | 189.0559 |\n",
       "| fit21 | 3        | 180.5537 |\n",
       "\n"
      ],
      "text/plain": [
       "      df AIC     \n",
       "fit11 2  189.0559\n",
       "fit21 3  180.5537"
      ]
     },
     "metadata": {},
     "output_type": "display_data"
    }
   ],
   "source": [
    "BIC(fit11, fit21)\n",
    "AIC(fit11, fit21)"
   ]
  },
  {
   "cell_type": "markdown",
   "metadata": {},
   "source": [
    "En correspondencia a los valores del AIC, BIC del los dos modelos, se afirma que el mejor modelo está derterminado por *Negative Binomial I* con función de enlace log."
   ]
  },
  {
   "cell_type": "markdown",
   "metadata": {},
   "source": [
    "\n",
    "# D) \n",
    "\n",
    "Use el test de Wald y el test de razón de verosimilitudes para evaluar, al nivel de significancia aproximado de 5%, si el número de fallas en los rollos depende de la longitud de los mismos."
   ]
  },
  {
   "cell_type": "markdown",
   "metadata": {},
   "source": [
    "### Test Wald\n",
    "Para contrastar la prueba se tiene el siguiente sistema de hipótesis:\n",
    "\n",
    "$$H_{0}: \\beta_2=0 \\;\\;\\;\\;\\; vs \\;\\;\\;\\;\\;\\;H_{1}: \\beta_2 \\neq 0 $$\n",
    "\n",
    "donde \n",
    "\n",
    "$$ \\xi _{W} = (\\hat{\\beta_2}  - \\beta_2^{0})' [\\hat{Var}(\\hat{\\beta_2})]^{-1}(\\hat{\\beta_2}  - \\beta_2^{0})$$"
   ]
  },
  {
   "cell_type": "code",
   "execution_count": 70,
   "metadata": {},
   "outputs": [
    {
     "name": "stdout",
     "output_type": "stream",
     "text": [
      "\n",
      "  Wald test \n",
      "\n",
      " Model 1:  fallas ~ longitud \n",
      " Model 2:  fallas ~ 1 \n",
      "\n",
      "   Chi    Df   Pr(>Chi)    \n",
      "  20.489   1  5.997e-06 ***\n"
     ]
    }
   ],
   "source": [
    "fit <-  overglm(fallas ~ 1, family=\"nb1(log)\", data=tejido)\n",
    "anova_glm(fit21,fit,test=\"wald\") #test de wald"
   ]
  },
  {
   "cell_type": "markdown",
   "metadata": {},
   "source": [
    "Consideradndo las anteriores salidas se rechaza $H_0$ a un nivel de significancia APROXIMADO del 100$ \\alpha\\%$ puesto que $\\xi _{W}=20.489 >\\chi^2(1)$ Afirmandose que $\\beta_2$ es significativo en el modelo. Es decír **el número de fallas en los rollos SI depende de la longitud de los mismos.**\n",
    "\n",
    "### Test Razón de verosimilitudes"
   ]
  },
  {
   "cell_type": "code",
   "execution_count": 71,
   "metadata": {},
   "outputs": [
    {
     "name": "stdout",
     "output_type": "stream",
     "text": [
      "\n",
      "  Likelihood-ratio test \n",
      "\n",
      " Model 1:  fallas ~ longitud \n",
      " Model 2:  fallas ~ 1 \n",
      "\n",
      "   Chi    Df   Pr(>Chi)    \n",
      "  16.508   1  4.844e-05 ***\n"
     ]
    }
   ],
   "source": [
    "anova_glm(fit21,fit, test = \"lrt\")  "
   ]
  },
  {
   "cell_type": "markdown",
   "metadata": {},
   "source": [
    "Consideradndo las anteriores salidas se rechaza $H_0$ a un nivel de significancia APROXIMADO del 100$ \\alpha\\%$ puesto que $\\xi _{RV}=16.508 >\\chi^2(1)$ Afirmandose que $\\beta_2$ es significativo en el modelo. Es decír **el número de fallas en los rollos SI depende de la longitud de los mismos.**"
   ]
  },
  {
   "cell_type": "markdown",
   "metadata": {},
   "source": [
    "# E) \n",
    "\n",
    "Realice el análisis de diagnóstico al modelo. Comente."
   ]
  },
  {
   "cell_type": "code",
   "execution_count": 72,
   "metadata": {},
   "outputs": [
    {
     "data": {
      "image/png": "[encoded data removed]",
      "text/plain": [
       "Plot with title \"Normal Q-Q Plot\""
      ]
     },
     "metadata": {},
     "output_type": "display_data"
    }
   ],
   "source": [
    "################################# Diagnóstico del modelo seleccionado #################################\n",
    "###################### Análisis de residuos ######################\n",
    "par(mfrow=c(1,2))\n",
    "res <- residuals(fit21,plot=TRUE,type=\"quantile\",identify=1)\n",
    "qqnorm(res,pch=16)\n",
    "abline(0,1)"
   ]
  },
  {
   "cell_type": "markdown",
   "metadata": {},
   "source": [
    "Para este caso no se tiene el envelope, sin embargo se tienen los residuos cuantil y estos deben distribuir normal(0,1) cuando son correctos. En los que se puede ver que siguen el patron de linea recta."
   ]
  },
  {
   "cell_type": "code",
   "execution_count": 73,
   "metadata": {},
   "outputs": [
    {
     "data": {
      "image/png": "[encoded data removed]",
      "text/plain": [
       "plot without title"
      ]
     },
     "metadata": {},
     "output_type": "display_data"
    }
   ],
   "source": [
    "###################### Análisis de sensibilidad ######################\n",
    "CookDistance(fit21,plot=TRUE,out=FALSE,identify=1)"
   ]
  },
  {
   "cell_type": "markdown",
   "metadata": {},
   "source": [
    "Entre las observaciones que mayor distancia de Cook tienen están: (13,26,19,31,22)."
   ]
  },
  {
   "cell_type": "markdown",
   "metadata": {},
   "source": [
    "# F) \n",
    "Interprete las estimaciones de los parámetros del modelo excepto el intercepto."
   ]
  },
  {
   "cell_type": "markdown",
   "metadata": {},
   "source": [
    "## Interpretación\n",
    " \n",
    " $$\tlog(\\mu_k)=\\eta_k= \\beta_1 + \\beta_2 Longitud_{k}$$\n",
    " \n",
    "Considerando que se desea comparar la longitud de los rollos, se compara con respecto a dos rollos, donde uno de ellos tiene $\\delta$ unidades mayor que el otro se describe el número esperado de fallas como:\n",
    "\n",
    " $$\t\\mu_k = \\beta_1 + \\beta_2 (x_o + \\delta)$$\n",
    " \n",
    "Sacando exponencial para comparar los dos estudiantes y de esta manera determinar el numero esperado de fallas, se tiene:\n",
    "  \n",
    " $$\\mu_k= \\frac{ exp[ \\beta_1 + \\beta_2 (x_o + \\delta) ]}{exp[ \\beta_1 + \\beta_2 x_o ]} = exp(\\delta \\beta_2) $$\n",
    " \n",
    " De lo anterior se tiene:\n",
    " \n",
    "  $$exp(\\delta \\hat{\\beta_2}) = exp(  0.00188)=1.001882$$\n",
    " \n",
    "* Por cada unidad adicional en la longitud de los rollos, el número esperado de fallas es $1.8\\%$ mayor que elrollo de menor longitud.\n",
    "    "
   ]
  },
  {
   "cell_type": "code",
   "execution_count": null,
   "metadata": {},
   "outputs": [],
   "source": []
  }
 ],
 "metadata": {
  "kernelspec": {
   "display_name": "R",
   "language": "R",
   "name": "ir"
  },
  "language_info": {
   "codemirror_mode": "r",
   "file_extension": ".r",
   "mimetype": "text/x-r-source",
   "name": "R",
   "pygments_lexer": "r",
   "version": "3.6.1"
  }
 },
 "nbformat": 4,
 "nbformat_minor": 2
}
