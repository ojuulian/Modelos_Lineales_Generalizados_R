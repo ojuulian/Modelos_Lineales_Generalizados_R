{
 "cells": [
  {
   "cell_type": "markdown",
   "metadata": {},
   "source": [
    "## MLG Escarabajos muertos\n",
    "#### Oscar Julian Layton\n",
    "Datos de un estudio que examina la respuesta de escarabajos de harina confundidos a concentraciones crecientes de disulfuro de carbono gaseoso. Después de la exposición durante cinco horas, se determinó la concentración exacta de disulfuro de carbono y se registró el número de escarabajos de harina muertos. Para cada concentración de disulfuro de carbono se utilizaron lotes duplicados de escarabajos.\n",
    "\n",
    "* **Dosis**: concentración de disulfuro de carbono.\n",
    "* **Died**:  Número de escarabajos muertos.\n",
    "* **n**: Número de escarabajos expuestos.\n",
    "* $y_k =\\frac{Died}{n}$: Proporción de escarabajos muertos en el k-esimo grupo.\n",
    "\n",
    "La respuesta puede ser analizada por medio de una **binomial** puesto que al ser el número de escarabajos muertos son realizaciones de binomiales, esto es 8 binomiales además el número de ensayos varian en cada k y la probabilidad de exito $\\mu$ depende de la cantidad de quimico que se les asigno. No obstante se considera que:\n",
    "\n",
    "* $m_k Y_k \\sim Binomial(m_k, \\mu_k)$\n",
    "* $m_k$ Número de escarabajos expuestos en el k-esimo grupo.\n",
    "* $\\mu_k$ : El número de ensayos. es igual a 1\n",
    "* $\\mu_k$ : La probabilidad de que un escarabajo muera dado que fue expuesto a la k-esima dosis.\n",
    "* las variables aleatorias son indipendientes.\n",
    "* En el ejemplo de los escarabajos satelites, $m_k=1$ porque $y_k$ es bernoulli pues es dicotomica la rta"
   ]
  },
  {
   "cell_type": "code",
   "execution_count": 3,
   "metadata": {},
   "outputs": [
    {
     "name": "stderr",
     "output_type": "stream",
     "text": [
      "Loading required package: glmx\n"
     ]
    },
    {
     "data": {
      "text/html": [
       "<table>\n",
       "<thead><tr><th scope=col>dose</th><th scope=col>died</th><th scope=col>n</th></tr></thead>\n",
       "<tbody>\n",
       "\t<tr><td>1.6907</td><td> 6    </td><td>59    </td></tr>\n",
       "\t<tr><td>1.7242</td><td>13    </td><td>60    </td></tr>\n",
       "\t<tr><td>1.7552</td><td>18    </td><td>62    </td></tr>\n",
       "\t<tr><td>1.7842</td><td>28    </td><td>56    </td></tr>\n",
       "\t<tr><td>1.8113</td><td>52    </td><td>63    </td></tr>\n",
       "\t<tr><td>1.8369</td><td>53    </td><td>59    </td></tr>\n",
       "\t<tr><td>1.8610</td><td>61    </td><td>62    </td></tr>\n",
       "\t<tr><td>1.8839</td><td>60    </td><td>60    </td></tr>\n",
       "</tbody>\n",
       "</table>\n"
      ],
      "text/latex": [
       "\\begin{tabular}{r|lll}\n",
       " dose & died & n\\\\\n",
       "\\hline\n",
       "\t 1.6907 &  6     & 59    \\\\\n",
       "\t 1.7242 & 13     & 60    \\\\\n",
       "\t 1.7552 & 18     & 62    \\\\\n",
       "\t 1.7842 & 28     & 56    \\\\\n",
       "\t 1.8113 & 52     & 63    \\\\\n",
       "\t 1.8369 & 53     & 59    \\\\\n",
       "\t 1.8610 & 61     & 62    \\\\\n",
       "\t 1.8839 & 60     & 60    \\\\\n",
       "\\end{tabular}\n"
      ],
      "text/markdown": [
       "\n",
       "| dose | died | n |\n",
       "|---|---|---|\n",
       "| 1.6907 |  6     | 59     |\n",
       "| 1.7242 | 13     | 60     |\n",
       "| 1.7552 | 18     | 62     |\n",
       "| 1.7842 | 28     | 56     |\n",
       "| 1.8113 | 52     | 63     |\n",
       "| 1.8369 | 53     | 59     |\n",
       "| 1.8610 | 61     | 62     |\n",
       "| 1.8839 | 60     | 60     |\n",
       "\n"
      ],
      "text/plain": [
       "  dose   died n \n",
       "1 1.6907  6   59\n",
       "2 1.7242 13   60\n",
       "3 1.7552 18   62\n",
       "4 1.7842 28   56\n",
       "5 1.8113 52   63\n",
       "6 1.8369 53   59\n",
       "7 1.8610 61   62\n",
       "8 1.8839 60   60"
      ]
     },
     "metadata": {},
     "output_type": "display_data"
    }
   ],
   "source": [
    "require(glmx)\n",
    "data(BeetleMortality)\n",
    "beetles<-BeetleMortality;beetles"
   ]
  },
  {
   "cell_type": "markdown",
   "metadata": {},
   "source": [
    "A continuación se presenta los modelos dependiendo de la función de enclace:\n",
    "\n",
    "### Función de enlace logit"
   ]
  },
  {
   "cell_type": "code",
   "execution_count": 4,
   "metadata": {},
   "outputs": [
    {
     "data": {
      "text/plain": [
       "\n",
       "Call:\n",
       "glm(formula = died/n ~ dose, family = binomial(\"logit\"), data = beetles, \n",
       "    weights = n)\n",
       "\n",
       "Deviance Residuals: \n",
       "    Min       1Q   Median       3Q      Max  \n",
       "-1.5941  -0.3944   0.8329   1.2592   1.5940  \n",
       "\n",
       "Coefficients:\n",
       "            Estimate Std. Error z value Pr(>|z|)    \n",
       "(Intercept)  -60.717      5.181  -11.72   <2e-16 ***\n",
       "dose          34.270      2.912   11.77   <2e-16 ***\n",
       "---\n",
       "Signif. codes:  0 '***' 0.001 '**' 0.01 '*' 0.05 '.' 0.1 ' ' 1\n",
       "\n",
       "(Dispersion parameter for binomial family taken to be 1)\n",
       "\n",
       "    Null deviance: 284.202  on 7  degrees of freedom\n",
       "Residual deviance:  11.232  on 6  degrees of freedom\n",
       "AIC: 41.43\n",
       "\n",
       "Number of Fisher Scoring iterations: 4\n"
      ]
     },
     "metadata": {},
     "output_type": "display_data"
    }
   ],
   "source": [
    "fit1<-glm(died/n ~ dose, weights=n, data=beetles, family=binomial(\"logit\"))  # pesos:m_k= weights = n   \n",
    "#si no se especifica (\"logit\") la función usa por defecto la función de enlace canonica, esto es la logit\n",
    "#Al omitir weights que son los pesos m_k por default pone 1, en el caso de bernoullly o po\n",
    "summary(fit1)"
   ]
  },
  {
   "cell_type": "markdown",
   "metadata": {},
   "source": [
    "### Función de enlace probit"
   ]
  },
  {
   "cell_type": "code",
   "execution_count": 5,
   "metadata": {},
   "outputs": [
    {
     "data": {
      "text/plain": [
       "\n",
       "Call:\n",
       "glm(formula = died/n ~ dose, family = binomial(\"probit\"), data = beetles, \n",
       "    weights = n)\n",
       "\n",
       "Deviance Residuals: \n",
       "    Min       1Q   Median       3Q      Max  \n",
       "-1.5714  -0.4703   0.7501   1.0632   1.3449  \n",
       "\n",
       "Coefficients:\n",
       "            Estimate Std. Error z value Pr(>|z|)    \n",
       "(Intercept)  -34.935      2.648  -13.19   <2e-16 ***\n",
       "dose          19.728      1.487   13.27   <2e-16 ***\n",
       "---\n",
       "Signif. codes:  0 '***' 0.001 '**' 0.01 '*' 0.05 '.' 0.1 ' ' 1\n",
       "\n",
       "(Dispersion parameter for binomial family taken to be 1)\n",
       "\n",
       "    Null deviance: 284.20  on 7  degrees of freedom\n",
       "Residual deviance:  10.12  on 6  degrees of freedom\n",
       "AIC: 40.318\n",
       "\n",
       "Number of Fisher Scoring iterations: 4\n"
      ]
     },
     "metadata": {},
     "output_type": "display_data"
    }
   ],
   "source": [
    "fit2<-glm(died/n ~ dose, weights=n, data=beetles, family=binomial(\"probit\"))\n",
    "summary(fit2)"
   ]
  },
  {
   "cell_type": "markdown",
   "metadata": {},
   "source": [
    "### Función de enlace cloglog"
   ]
  },
  {
   "cell_type": "code",
   "execution_count": 6,
   "metadata": {},
   "outputs": [
    {
     "data": {
      "text/plain": [
       "\n",
       "Call:\n",
       "glm(formula = died/n ~ dose, family = binomial(\"cloglog\"), data = beetles, \n",
       "    weights = n)\n",
       "\n",
       "Deviance Residuals: \n",
       "     Min        1Q    Median        3Q       Max  \n",
       "-0.80329  -0.55135   0.03089   0.38315   1.28883  \n",
       "\n",
       "Coefficients:\n",
       "            Estimate Std. Error z value Pr(>|z|)    \n",
       "(Intercept)  -39.572      3.240  -12.21   <2e-16 ***\n",
       "dose          22.041      1.799   12.25   <2e-16 ***\n",
       "---\n",
       "Signif. codes:  0 '***' 0.001 '**' 0.01 '*' 0.05 '.' 0.1 ' ' 1\n",
       "\n",
       "(Dispersion parameter for binomial family taken to be 1)\n",
       "\n",
       "    Null deviance: 284.2024  on 7  degrees of freedom\n",
       "Residual deviance:   3.4464  on 6  degrees of freedom\n",
       "AIC: 33.644\n",
       "\n",
       "Number of Fisher Scoring iterations: 4\n"
      ]
     },
     "metadata": {},
     "output_type": "display_data"
    },
    {
     "data": {
      "text/html": [
       "<dl>\n",
       "\t<dt>$names</dt>\n",
       "\t\t<dd><ol class=list-inline>\n",
       "\t<li>'coefficients'</li>\n",
       "\t<li>'residuals'</li>\n",
       "\t<li>'fitted.values'</li>\n",
       "\t<li>'effects'</li>\n",
       "\t<li>'R'</li>\n",
       "\t<li>'rank'</li>\n",
       "\t<li>'qr'</li>\n",
       "\t<li>'family'</li>\n",
       "\t<li>'linear.predictors'</li>\n",
       "\t<li>'deviance'</li>\n",
       "\t<li>'aic'</li>\n",
       "\t<li>'null.deviance'</li>\n",
       "\t<li>'iter'</li>\n",
       "\t<li>'weights'</li>\n",
       "\t<li>'prior.weights'</li>\n",
       "\t<li>'df.residual'</li>\n",
       "\t<li>'df.null'</li>\n",
       "\t<li>'y'</li>\n",
       "\t<li>'converged'</li>\n",
       "\t<li>'boundary'</li>\n",
       "\t<li>'model'</li>\n",
       "\t<li>'call'</li>\n",
       "\t<li>'formula'</li>\n",
       "\t<li>'terms'</li>\n",
       "\t<li>'data'</li>\n",
       "\t<li>'offset'</li>\n",
       "\t<li>'control'</li>\n",
       "\t<li>'method'</li>\n",
       "\t<li>'contrasts'</li>\n",
       "\t<li>'xlevels'</li>\n",
       "</ol>\n",
       "</dd>\n",
       "\t<dt>$class</dt>\n",
       "\t\t<dd><ol class=list-inline>\n",
       "\t<li>'glm'</li>\n",
       "\t<li>'lm'</li>\n",
       "</ol>\n",
       "</dd>\n",
       "</dl>\n"
      ],
      "text/latex": [
       "\\begin{description}\n",
       "\\item[\\$names] \\begin{enumerate*}\n",
       "\\item 'coefficients'\n",
       "\\item 'residuals'\n",
       "\\item 'fitted.values'\n",
       "\\item 'effects'\n",
       "\\item 'R'\n",
       "\\item 'rank'\n",
       "\\item 'qr'\n",
       "\\item 'family'\n",
       "\\item 'linear.predictors'\n",
       "\\item 'deviance'\n",
       "\\item 'aic'\n",
       "\\item 'null.deviance'\n",
       "\\item 'iter'\n",
       "\\item 'weights'\n",
       "\\item 'prior.weights'\n",
       "\\item 'df.residual'\n",
       "\\item 'df.null'\n",
       "\\item 'y'\n",
       "\\item 'converged'\n",
       "\\item 'boundary'\n",
       "\\item 'model'\n",
       "\\item 'call'\n",
       "\\item 'formula'\n",
       "\\item 'terms'\n",
       "\\item 'data'\n",
       "\\item 'offset'\n",
       "\\item 'control'\n",
       "\\item 'method'\n",
       "\\item 'contrasts'\n",
       "\\item 'xlevels'\n",
       "\\end{enumerate*}\n",
       "\n",
       "\\item[\\$class] \\begin{enumerate*}\n",
       "\\item 'glm'\n",
       "\\item 'lm'\n",
       "\\end{enumerate*}\n",
       "\n",
       "\\end{description}\n"
      ],
      "text/markdown": [
       "$names\n",
       ":   1. 'coefficients'\n",
       "2. 'residuals'\n",
       "3. 'fitted.values'\n",
       "4. 'effects'\n",
       "5. 'R'\n",
       "6. 'rank'\n",
       "7. 'qr'\n",
       "8. 'family'\n",
       "9. 'linear.predictors'\n",
       "10. 'deviance'\n",
       "11. 'aic'\n",
       "12. 'null.deviance'\n",
       "13. 'iter'\n",
       "14. 'weights'\n",
       "15. 'prior.weights'\n",
       "16. 'df.residual'\n",
       "17. 'df.null'\n",
       "18. 'y'\n",
       "19. 'converged'\n",
       "20. 'boundary'\n",
       "21. 'model'\n",
       "22. 'call'\n",
       "23. 'formula'\n",
       "24. 'terms'\n",
       "25. 'data'\n",
       "26. 'offset'\n",
       "27. 'control'\n",
       "28. 'method'\n",
       "29. 'contrasts'\n",
       "30. 'xlevels'\n",
       "\n",
       "\n",
       "\n",
       "$class\n",
       ":   1. 'glm'\n",
       "2. 'lm'\n",
       "\n",
       "\n",
       "\n",
       "\n",
       "\n"
      ],
      "text/plain": [
       "$names\n",
       " [1] \"coefficients\"      \"residuals\"         \"fitted.values\"    \n",
       " [4] \"effects\"           \"R\"                 \"rank\"             \n",
       " [7] \"qr\"                \"family\"            \"linear.predictors\"\n",
       "[10] \"deviance\"          \"aic\"               \"null.deviance\"    \n",
       "[13] \"iter\"              \"weights\"           \"prior.weights\"    \n",
       "[16] \"df.residual\"       \"df.null\"           \"y\"                \n",
       "[19] \"converged\"         \"boundary\"          \"model\"            \n",
       "[22] \"call\"              \"formula\"           \"terms\"            \n",
       "[25] \"data\"              \"offset\"            \"control\"          \n",
       "[28] \"method\"            \"contrasts\"         \"xlevels\"          \n",
       "\n",
       "$class\n",
       "[1] \"glm\" \"lm\" \n"
      ]
     },
     "metadata": {},
     "output_type": "display_data"
    }
   ],
   "source": [
    "fit3<-glm(died/n ~ dose, weights=n, data=beetles, family=binomial(\"cloglog\"))\n",
    "summary(fit3)\n",
    "attributes(fit3)"
   ]
  },
  {
   "cell_type": "markdown",
   "metadata": {},
   "source": [
    "Antes de todo, se realiza el AIC o BIC para de esta manera poder determinar el mejor modelo que se ajusta a los datos, en este orden de ideas, se genera estos criterios de información para poder establecer interpretaciones."
   ]
  },
  {
   "cell_type": "code",
   "execution_count": 7,
   "metadata": {},
   "outputs": [
    {
     "data": {
      "text/html": [
       "<table>\n",
       "<thead><tr><th></th><th scope=col>df</th><th scope=col>AIC</th></tr></thead>\n",
       "<tbody>\n",
       "\t<tr><th scope=row>fit1</th><td>2       </td><td>41.43027</td></tr>\n",
       "\t<tr><th scope=row>fit2</th><td>2       </td><td>40.31780</td></tr>\n",
       "\t<tr><th scope=row>fit3</th><td>2       </td><td>33.64448</td></tr>\n",
       "</tbody>\n",
       "</table>\n"
      ],
      "text/latex": [
       "\\begin{tabular}{r|ll}\n",
       "  & df & AIC\\\\\n",
       "\\hline\n",
       "\tfit1 & 2        & 41.43027\\\\\n",
       "\tfit2 & 2        & 40.31780\\\\\n",
       "\tfit3 & 2        & 33.64448\\\\\n",
       "\\end{tabular}\n"
      ],
      "text/markdown": [
       "\n",
       "| <!--/--> | df | AIC |\n",
       "|---|---|---|\n",
       "| fit1 | 2        | 41.43027 |\n",
       "| fit2 | 2        | 40.31780 |\n",
       "| fit3 | 2        | 33.64448 |\n",
       "\n"
      ],
      "text/plain": [
       "     df AIC     \n",
       "fit1 2  41.43027\n",
       "fit2 2  40.31780\n",
       "fit3 2  33.64448"
      ]
     },
     "metadata": {},
     "output_type": "display_data"
    },
    {
     "data": {
      "text/html": [
       "<table>\n",
       "<thead><tr><th></th><th scope=col>df</th><th scope=col>BIC</th></tr></thead>\n",
       "<tbody>\n",
       "\t<tr><th scope=row>fit1</th><td>2       </td><td>41.58915</td></tr>\n",
       "\t<tr><th scope=row>fit2</th><td>2       </td><td>40.47668</td></tr>\n",
       "\t<tr><th scope=row>fit3</th><td>2       </td><td>33.80336</td></tr>\n",
       "</tbody>\n",
       "</table>\n"
      ],
      "text/latex": [
       "\\begin{tabular}{r|ll}\n",
       "  & df & BIC\\\\\n",
       "\\hline\n",
       "\tfit1 & 2        & 41.58915\\\\\n",
       "\tfit2 & 2        & 40.47668\\\\\n",
       "\tfit3 & 2        & 33.80336\\\\\n",
       "\\end{tabular}\n"
      ],
      "text/markdown": [
       "\n",
       "| <!--/--> | df | BIC |\n",
       "|---|---|---|\n",
       "| fit1 | 2        | 41.58915 |\n",
       "| fit2 | 2        | 40.47668 |\n",
       "| fit3 | 2        | 33.80336 |\n",
       "\n"
      ],
      "text/plain": [
       "     df BIC     \n",
       "fit1 2  41.58915\n",
       "fit2 2  40.47668\n",
       "fit3 2  33.80336"
      ]
     },
     "metadata": {},
     "output_type": "display_data"
    }
   ],
   "source": [
    "AIC(fit1,fit2,fit3)  \n",
    "BIC(fit1,fit2,fit3)   #Da lo mismo porque tienen la misma cantidad de parámetros"
   ]
  },
  {
   "cell_type": "markdown",
   "metadata": {},
   "source": [
    "Se observa que el mejor modelo es el ajuste 3 el cual corresponde al que usa la función de enlace **cloglog**"
   ]
  },
  {
   "cell_type": "code",
   "execution_count": 8,
   "metadata": {},
   "outputs": [
    {
     "name": "stdout",
     "output_type": "stream",
     "text": [
      "\n",
      "  Family:  binomial \n",
      "    Link:  logit \n",
      "                                                    Df   Value\n",
      "Residual deviance                                    6 11.2322\n",
      "Pearson's statistic                                  6 10.0268\n",
      "Adjusted R-squared based on the residual deviance       0.9539\n",
      "Adjusted R-squared based on the Pearson's statistic     0.9511\n",
      "-2*log-Likelihood                                      37.4303\n",
      "AIC                                                    41.4303\n",
      "BIC                                                    41.5892\n",
      "\n",
      "\n",
      "\n",
      "  Family:  binomial \n",
      "    Link:  probit \n",
      "                                                    Df   Value\n",
      "Residual deviance                                    6 10.1198\n",
      "Pearson's statistic                                  6  9.5134\n",
      "Adjusted R-squared based on the residual deviance       0.9585\n",
      "Adjusted R-squared based on the Pearson's statistic     0.9536\n",
      "-2*log-Likelihood                                      36.3178\n",
      "AIC                                                    40.3178\n",
      "BIC                                                    40.4767\n",
      "\n",
      "\n",
      "\n",
      "  Family:  binomial \n",
      "    Link:  cloglog \n",
      "                                                    Df   Value\n",
      "Residual deviance                                    6  3.4464\n",
      "Pearson's statistic                                  6  3.2947\n",
      "Adjusted R-squared based on the residual deviance       0.9859\n",
      "Adjusted R-squared based on the Pearson's statistic     0.9839\n",
      "-2*log-Likelihood                                      29.6445\n",
      "AIC                                                    33.6445\n",
      "BIC                                                    33.8034\n",
      "\n",
      "\n"
     ]
    }
   ],
   "source": [
    "#ESTAS LINEAS ES PARA LLAMAR LAS FUNCIONES REALIZADAS POR EL DOCENTE hernando vanegas\n",
    "setwd(\"C:\\\\Users\\\\YULY\\\\Desktop\\\\Desktop\\\\UNAL 2018\\\\MLGz\\\\MLG Vanegas\") #busca por default en una carpeta en especifica todo.\n",
    "source(\"macros.txt\")#Lllamar el archivo de macros que está en la carpeta especifica,(son una fuciines especificas del profesor)\n",
    "\n",
    "gof_glm(fit1)   #analisis del logit\n",
    "gof_glm(fit2)\n",
    "gof_glm(fit3)   #analisis del complementologlog"
   ]
  },
  {
   "cell_type": "markdown",
   "metadata": {},
   "source": [
    "Observando los $R_{D}^2$ se obtiene el mismo resultado el ajuste con clog log tiene el mayor $R_{D}^2$ y  $R_{P}^2$"
   ]
  },
  {
   "cell_type": "markdown",
   "metadata": {},
   "source": [
    "## GRÁFICA"
   ]
  },
  {
   "cell_type": "code",
   "execution_count": 9,
   "metadata": {},
   "outputs": [
    {
     "data": {
      "image/png": "[encoded data removed]",
      "text/plain": [
       "plot without title"
      ]
     },
     "metadata": {},
     "output_type": "display_data"
    }
   ],
   "source": [
    "###################### Gráfica ejemplo escarabajos funcion de en lace logit ######################\n",
    "propdied <- (beetles$died)/(beetles$n)\n",
    "plot(beetles$dose,propdied,xlim=range(beetles$dose),ylim=range(propdied),cex=0.5,lwd=3,\n",
    "     xlab=\"Dosis del plaguicida rotenona\",ylab=\"Tasa de mortalidad (%)\",col=\"blue\")\n"
   ]
  },
  {
   "cell_type": "code",
   "execution_count": 10,
   "metadata": {},
   "outputs": [],
   "source": [
    "###################### de enlace logit, probit y cloglog ######################\n",
    "dosisg <- seq(min(beetles$dose),max(beetles$dose),length=100)"
   ]
  },
  {
   "cell_type": "code",
   "execution_count": 11,
   "metadata": {},
   "outputs": [
    {
     "data": {
      "image/png": "[encoded data removed]",
      "text/plain": [
       "Plot with title \"\""
      ]
     },
     "metadata": {},
     "output_type": "display_data"
    }
   ],
   "source": [
    "attach(beetles)\n",
    "\n",
    "plot(dose,died/n,xlim=range(dose),ylim=range(died/n),cex=0.5,lwd=3,\n",
    "     xlab=\"Dosis del plaguicida rotenona\",ylab=\"Tasa de mortalidad (%)\",col=\"blue\")\n",
    "par(new=TRUE)\n",
    "dosisg <- seq(min(dose),max(dose),length=100)\n",
    "plot(dosisg,predict(fit1,data.frame(dose=dosisg),type=\"response\"),xlim=range(dose),ylim=range(fitted(fit1)),\n",
    "     col=\"black\",type=\"l\",xlab=\"\",ylab=\"\",main=\"\")\n",
    "par(new=TRUE)\n",
    "plot(dosisg,predict(fit2,data.frame(dose=dosisg),type=\"response\"),xlim=range(dose),ylim=range(fitted(fit1)),\n",
    "     col=\"green\",type=\"l\",xlab=\"\",ylab=\"\",main=\"\")\n",
    "par(new=TRUE)\n",
    "plot(dosisg,predict(fit3,data.frame(dose=dosisg),type=\"response\"),xlim=range(dose),ylim=range(fitted(fit1)),\n",
    "     col=\"red\",type=\"l\",xlab=\"\",ylab=\"\",main=\"\")"
   ]
  },
  {
   "cell_type": "markdown",
   "metadata": {},
   "source": [
    "  Dada la anterior gráfica la cual proporciona los diferentes modelos, se logra observar que la mejor que se ajusta a los datos está determinada por la curva roja, la cual hace referencia  a la función de enlace **cloglog** como anteriormente se había establecido."
   ]
  },
  {
   "cell_type": "markdown",
   "metadata": {},
   "source": [
    "### MODELO FINAL (CON FUNCION DE ENLACE CLOGLOG)"
   ]
  },
  {
   "cell_type": "code",
   "execution_count": 12,
   "metadata": {},
   "outputs": [
    {
     "data": {
      "text/plain": [
       "\n",
       "Call:\n",
       "glm(formula = died/n ~ dose, family = binomial(\"cloglog\"), data = beetles, \n",
       "    weights = n)\n",
       "\n",
       "Deviance Residuals: \n",
       "     Min        1Q    Median        3Q       Max  \n",
       "-0.80329  -0.55135   0.03089   0.38315   1.28883  \n",
       "\n",
       "Coefficients:\n",
       "            Estimate Std. Error z value Pr(>|z|)    \n",
       "(Intercept)  -39.572      3.240  -12.21   <2e-16 ***\n",
       "dose          22.041      1.799   12.25   <2e-16 ***\n",
       "---\n",
       "Signif. codes:  0 '***' 0.001 '**' 0.01 '*' 0.05 '.' 0.1 ' ' 1\n",
       "\n",
       "(Dispersion parameter for binomial family taken to be 1)\n",
       "\n",
       "    Null deviance: 284.2024  on 7  degrees of freedom\n",
       "Residual deviance:   3.4464  on 6  degrees of freedom\n",
       "AIC: 33.644\n",
       "\n",
       "Number of Fisher Scoring iterations: 4\n"
      ]
     },
     "metadata": {},
     "output_type": "display_data"
    }
   ],
   "source": [
    "summary(fit3)"
   ]
  },
  {
   "cell_type": "markdown",
   "metadata": {},
   "source": [
    "---\n",
    "\n",
    "## Test de Wald\n",
    "\n",
    "\n",
    " Ahora para hacer una hipótesis sobre la dosis, considero a $\\beta_2$. \n",
    "\n",
    "$$H_{0}: \\beta_2 = 0 \\;\\;\\;\\;\\; vs \\;\\;\\;\\;\\;\\; H_{1}: \\beta_2 \\neq  0 $$\n",
    "\n",
    "donde \n",
    "\n",
    "$$ \\xi _{W} = (\\hat{\\beta_2}  - \\beta_2^{0})' [\\hat{Var}(\\hat{\\beta_2})]{-1}(\\hat{\\beta_2}  - \\beta_2^{0})$$\n",
    "\n",
    "\n",
    "Para hacer inferencia con respecto a los datos se tiene:\n",
    "\n",
    "* Consideranddo que $Z_{\\hat{\\beta_2}}=12.25$, se contrasta con la estadistica normal (concluyendose que se rechaza $H_0$, ver significancia de $\\beta_2$).\n",
    "\n",
    "* $ \\xi _{W} = 150.04$ que al ser contrastado con una chi cuadrado con un grado de libertad $\\chi^2_{1}$ se tiene: $ 150.04=\\xi _{W} > \\chi^2_{1} $ es decír que a un nivel de significancia aproximado de $100(\\alpha)\\%$ se rechaza la hiótesis nula. concluyendose que la dosis actua de manera significativa en la proporcion de escarabajos muertos.\n",
    "\n",
    "* considerando lo anterior $(Z_{\\hat{\\beta_2}})^2=(12.25)^2 = \\xi _{W} = 150.04$ se tiene la misma desición. veamos el calculo de la estadística de Wald y el p-valor:"
   ]
  },
  {
   "cell_type": "code",
   "execution_count": 21,
   "metadata": {},
   "outputs": [
    {
     "data": {
      "text/html": [
       "<strong>dose:</strong> 150.048201631858"
      ],
      "text/latex": [
       "\\textbf{dose:} 150.048201631858"
      ],
      "text/markdown": [
       "**dose:** 150.048201631858"
      ],
      "text/plain": [
       "    dose \n",
       "150.0482 "
      ]
     },
     "metadata": {},
     "output_type": "display_data"
    }
   ],
   "source": [
    "(coef(fit3)[c(2)])^2 /(vcov(fit3)[c(2), c(2)])     #test de wald"
   ]
  },
  {
   "cell_type": "code",
   "execution_count": 22,
   "metadata": {},
   "outputs": [
    {
     "data": {
      "text/html": [
       "0"
      ],
      "text/latex": [
       "0"
      ],
      "text/markdown": [
       "0"
      ],
      "text/plain": [
       "[1] 0"
      ]
     },
     "metadata": {},
     "output_type": "display_data"
    }
   ],
   "source": [
    "pvalor<- 1-pchisq((12.25)^2,1);pvalor"
   ]
  },
  {
   "cell_type": "markdown",
   "metadata": {},
   "source": [
    "\n",
    "\n",
    "<div class=\"alert alert-success\">\n",
    "    <b>Desición:</b>\n",
    "    \n",
    "Se rechaza la hipótesis nula $H_{0}: \\beta_2 =0$ luego es sigfnificativo, concluyendose que la dosis si está afectando la probabilidad de exito $\\mu_k$\n",
    "</div>"
   ]
  },
  {
   "cell_type": "markdown",
   "metadata": {},
   "source": [
    "---\n",
    "\n",
    "## Test de razón de verosimilitudes\n",
    "\n",
    "Para evaluar si:\n",
    "\n",
    "$$H_{0}: \\beta_2 = 0 \\;\\;\\;\\;\\; vs \\;\\;\\;\\;\\;\\;H_{1}: \\beta_2 \\neq  0 $$\n",
    "\n",
    "Considerando que el test de verosimilitudes está determinado por: $\\xi _{RV}=2[l(\\hat{\\beta})-l(\\hat{\\beta^{o}})]$ sumando y restando $\\hat{\\beta}$ del modelo saturado se obtiene:\n",
    "\n",
    "$$\\xi _{RV}=2[l(\\hat{\\beta})-l(\\hat{\\beta^{o}})]=\\phi^{-1} [D(y;\\hat{\\mu}^0)-D(y;\\hat{\\mu})]  $$\n",
    "\n",
    "Donde $D(y;\\hat{\\mu}^0)$ es el desvio del modelo restringido llamado **Null Deviance** y donde $D(y;\\hat{\\mu})$ es el desvio del modelo sin restricción llamado **Residual Deviance**\n",
    "\n",
    "**Null Deviance** Es el desvio de un modelo donde todos los betas excepto el intercepto son iguales a cero.\n",
    "\n",
    "\n",
    "Luego como $\\phi=1$ se tiene:\n",
    "\n",
    "$$\\xi _{RV}=Null deviance- Residual Deviance=284.2024 - 3.4464 =280.756$$\n",
    "\n",
    "<div class=\"alert alert-success\">\n",
    "    <b>Desición:</b>\n",
    "    \n",
    "Luego se rechaza $H_0$ a un nivel de significancia APROXIMADO del $ 100(\\alpha)\\%$ puesto que $280.75=\\xi _{RV}>\\chi^2(1) =3.8416$ A firmandose que es significativo en el modelo. \n",
    "\n",
    "* Se rechaza igual como se realizó en el test de Wald\n",
    "</div>\n",
    "\n",
    "\n",
    "\n",
    "\n"
   ]
  },
  {
   "cell_type": "code",
   "execution_count": 27,
   "metadata": {},
   "outputs": [
    {
     "data": {
      "text/html": [
       "280.756010747807"
      ],
      "text/latex": [
       "280.756010747807"
      ],
      "text/markdown": [
       "280.756010747807"
      ],
      "text/plain": [
       "[1] 280.756"
      ]
     },
     "metadata": {},
     "output_type": "display_data"
    }
   ],
   "source": [
    "fit3$null.deviance-fit3$deviance"
   ]
  },
  {
   "cell_type": "markdown",
   "metadata": {},
   "source": [
    "<div class=\"alert alert-danger\" role=\"alert\">\n",
    "    <b>Nota:</b>\n",
    "    \n",
    "Recuerde que se compara con una $\\chi^2_{(1)}$ con un grado de libertad porque es solo un parámetro. $\\chi^2_{(1)}=(Z_{\\alpha})^2=(1.96)^2=3.8416$\n",
    "</div>"
   ]
  },
  {
   "cell_type": "markdown",
   "metadata": {},
   "source": [
    "#### Calculando $R_{D}^2$\n",
    "\n",
    "$$R^2_{D}=1-\\frac{Deviance mejor modelo}{Deviance peor modelo}=\\frac{3.44/6}{284.2/7}$$\n",
    "\n",
    "    EL Deviance del peor modelo en términos de ajuste es aquel que todos los betas son iguales a cero menos el intercepto"
   ]
  },
  {
   "cell_type": "code",
   "execution_count": 98,
   "metadata": {},
   "outputs": [
    {
     "name": "stdout",
     "output_type": "stream",
     "text": [
      "\n",
      "  Family:  binomial \n",
      "    Link:  cloglog \n",
      "                                                    Df   Value\n",
      "Residual deviance                                    6  3.4464\n",
      "Pearson's statistic                                  6  3.2947\n",
      "Adjusted R-squared based on the residual deviance       0.9859\n",
      "Adjusted R-squared based on the Pearson's statistic     0.9839\n",
      "-2*log-Likelihood                                      29.6445\n",
      "AIC                                                    33.6445\n",
      "BIC                                                    33.8034\n",
      "\n",
      "\n"
     ]
    }
   ],
   "source": [
    "gof_glm(fit3)"
   ]
  },
  {
   "cell_type": "code",
   "execution_count": 99,
   "metadata": {},
   "outputs": [
    {
     "data": {
      "text/html": [
       "0.985852179684328"
      ],
      "text/latex": [
       "0.985852179684328"
      ],
      "text/markdown": [
       "0.985852179684328"
      ],
      "text/plain": [
       "[1] 0.9858522"
      ]
     },
     "metadata": {},
     "output_type": "display_data"
    }
   ],
   "source": [
    "Rd<- 1-(fit3$deviance/6)/(fit3$null.deviance/7); Rd"
   ]
  },
  {
   "cell_type": "code",
   "execution_count": 84,
   "metadata": {},
   "outputs": [
    {
     "data": {
      "image/png": "[encoded data removed]",
      "text/plain": [
       "Plot with title \"dose\""
      ]
     },
     "metadata": {},
     "output_type": "display_data"
    }
   ],
   "source": [
    "#install.packages(\"sqldf\", \"/Users/YULY/anaconda/Lib/R/library\")\n",
    "require(sqldf)\n",
    "graphs_glm(fit.model =fit3,a=1,b=1,ngroup = 8,col = \"blue\" )   \n",
    "#el (a,b)=(2,2) establece cantidad de graficas matriz(1*1), ngroup=8, pch=  ,col="
   ]
  },
  {
   "cell_type": "markdown",
   "metadata": {},
   "source": [
    "La anterior gráfica representa el eje x(dosis), el eje y ($\\hat{\\mu}$ Proporción de escarabajos muertos).\n",
    "\n"
   ]
  },
  {
   "cell_type": "markdown",
   "metadata": {},
   "source": [
    "## Análisis de sensibilidad \n",
    "\n",
    "La siguiente gráfica es la de los residuos cuantil, mediante la función **residuals_glm()** la cual es generada por defecto."
   ]
  },
  {
   "cell_type": "code",
   "execution_count": 92,
   "metadata": {},
   "outputs": [
    {
     "data": {
      "image/png": "[encoded data removed]",
      "text/plain": [
       "Plot with title \" \""
      ]
     },
     "metadata": {},
     "output_type": "display_data"
    }
   ],
   "source": [
    "residuals_glm(fit3)   #Por default residuos quantile"
   ]
  },
  {
   "cell_type": "markdown",
   "metadata": {},
   "source": [
    "Para hacer un contraste con respecto a a los residuos de pearson se tiene:"
   ]
  },
  {
   "cell_type": "code",
   "execution_count": 93,
   "metadata": {},
   "outputs": [
    {
     "data": {
      "image/png": "[encoded data removed]",
      "text/plain": [
       "Plot with title \" \""
      ]
     },
     "metadata": {},
     "output_type": "display_data"
    }
   ],
   "source": [
    "residuals_glm(fit3,type = \"pearson\")   #Por default residuos quantile"
   ]
  },
  {
   "cell_type": "code",
   "execution_count": 94,
   "metadata": {},
   "outputs": [
    {
     "name": "stdout",
     "output_type": "stream",
     "text": [
      "  |++++++++++++++++++++++++++++++++++++++++++++++++++| 100%\n"
     ]
    },
    {
     "data": {
      "image/png": "[encoded data removed]",
      "text/plain": [
       "Plot with title \" \""
      ]
     },
     "metadata": {},
     "output_type": "display_data"
    }
   ],
   "source": [
    "envelope_glm(fit3)"
   ]
  },
  {
   "cell_type": "code",
   "execution_count": 95,
   "metadata": {},
   "outputs": [
    {
     "name": "stdout",
     "output_type": "stream",
     "text": [
      "  |++++++++++++++++++++++++++++++++++++++++++++++++++| 100%\n"
     ]
    },
    {
     "data": {
      "image/png": "[encoded data removed]",
      "text/plain": [
       "Plot with title \" \""
      ]
     },
     "metadata": {},
     "output_type": "display_data"
    }
   ],
   "source": [
    "envelope_glm(fit3,type = \"pearson\")"
   ]
  },
  {
   "cell_type": "code",
   "execution_count": 96,
   "metadata": {},
   "outputs": [
    {
     "data": {
      "image/png": "[encoded data removed]",
      "text/plain": [
       "Plot with title \" \""
      ]
     },
     "metadata": {},
     "output_type": "display_data"
    }
   ],
   "source": [
    "Cookdis_glm(fit3)"
   ]
  },
  {
   "cell_type": "code",
   "execution_count": 97,
   "metadata": {},
   "outputs": [
    {
     "name": "stdout",
     "output_type": "stream",
     "text": [
      "\n",
      "            Estimate  Std. Error   Pr(>|z|)  | Estimate* Std. Error*  Pr(>|z|)*\n",
      "(Intercept)   -39.572       3.240          0 |   -39.041       3.173          0\n",
      "dose           22.041       1.799          0 |    21.710       1.761          0\n",
      "            | Change(%)\n",
      "(Intercept) |     1.343\n",
      "dose        |    -1.504\n",
      "\n",
      "(*) estimates, standard errors and p-values obtained using the specified subset of individuals.\n"
     ]
    }
   ],
   "source": [
    "case.deletion_glm(fit3,subset = c(-5))"
   ]
  },
  {
   "cell_type": "markdown",
   "metadata": {},
   "source": [
    "La estimación del intercepto aumentó un $3\\%$, mientras que la estimación de $\\beta_2$ disminuyó $1.5\\%$ todo al quitar la observación 5. No obstante la significancia permaneció igual lo cual indica que al quitar el dato 5 las cosas siguen siendo prácticamente iguales.\n",
    "\n",
    "\n",
    "# Interpretación de los $\\beta$ dada la función de enlace Logit\n",
    "\n",
    "\n",
    "  $\\;$\n",
    "$$\\begin{equation*}\n",
    "     \\left\\{\n",
    "\t       \\begin{array}{ll}\n",
    "           n_k Y_k \\sim Binomial(n_k, \\mu_k)\\\\\n",
    "\t\t g(\\mu_k)=\\mathbf{x}_k'\\beta = \\beta_1 + \\beta_2 x_{k} \\\\\n",
    "\t\t Y_1,  Y_2, ..., Y_n\n",
    "\t       \\end{array}\n",
    "\t     \\right.\n",
    "   \\end{equation*}\n",
    "   $$\n",
    "   \n",
    "   \n",
    "$$\\begin{equation*}\n",
    "     \\left\\{\n",
    "\t       \\begin{array}{ll}\n",
    "           n_k Y_k \\sim Binomial(n_k, \\mu_k)\\\\\n",
    "\t\t log(\\frac{\\mu_k}{1-\\mu_k})=\\mathbf{x}_k'\\beta = \\beta_1 + \\beta_2 dose_{k2} \\\\\n",
    "\t\t Y_1,  Y_2, ..., Y_n\n",
    "\t       \\end{array}\n",
    "\t     \\right.\n",
    "   \\end{equation*}\n",
    "   $$\n",
    "   \n",
    "   \n",
    "\n",
    "Al tratarse de la función de enlace **logit** donde:\n",
    "\n",
    "$$log(\\frac{\\mu_k}{1-\\mu_k})= \\beta_1 + \\beta_2 dose_{k} $$\n",
    "\n",
    "--- \n",
    "\n",
    "Aplicando exponencial se tiene:\n",
    "\n",
    " $$\\frac{\\mu_k}{1-\\mu_k} = \\frac{ exp[ \\beta_1 + \\beta_2 dose_{k} ]}{ exp[ \\beta_1 + \\beta_2 dose_{k}]} $$\n",
    "\n",
    "\n",
    "Caso variable continua:\n",
    "\n",
    " $$\\frac{\\mu_k}{1-\\mu_k} = \\frac{ exp[ \\beta_1 + \\beta_2 (X_{0}+\\delta)]}{ exp[ \\beta_1 + \\beta_2 X_{0}]} = exp(\\beta_2 \\delta) $$\n",
    " \n",
    "Considerando que $\\hat{\\beta}_2=22.04$, se tiene:\n",
    "\n",
    "  $$exp(\\hat{\\beta}_2) = exp(22.04)= 3731215914.79$$\n",
    " \n",
    "* **Interpretación dosis:** Por cada unidad adicional en la dosis, el chance de tener escarabajos muertos aumenta $3731215914\\%$.\n",
    "\n",
    "<div class=\"alert alert-danger\" role=\"alert\">\n",
    "    <b>Nota:</b>\n",
    "    \n",
    "Recuerde que $\\delta$ depende de las unidades por ejemplo si se trata de x son cada 10.000 habitantes , $\\delta=10000$\n",
    "</div>"
   ]
  },
  {
   "cell_type": "code",
   "execution_count": 24,
   "metadata": {},
   "outputs": [
    {
     "data": {
      "text/html": [
       "<dl class=dl-horizontal>\n",
       "\t<dt>(Intercept)</dt>\n",
       "\t\t<dd>-39.5723092142111</dd>\n",
       "\t<dt>dose</dt>\n",
       "\t\t<dd>22.041169045266</dd>\n",
       "</dl>\n"
      ],
      "text/latex": [
       "\\begin{description*}\n",
       "\\item[(Intercept)] -39.5723092142111\n",
       "\\item[dose] 22.041169045266\n",
       "\\end{description*}\n"
      ],
      "text/markdown": [
       "(Intercept)\n",
       ":   -39.5723092142111dose\n",
       ":   22.041169045266\n",
       "\n"
      ],
      "text/plain": [
       "(Intercept)        dose \n",
       "  -39.57231    22.04117 "
      ]
     },
     "metadata": {},
     "output_type": "display_data"
    }
   ],
   "source": [
    "coef(fit3)"
   ]
  },
  {
   "cell_type": "markdown",
   "metadata": {},
   "source": [
    "# REFERENCIAS\n",
    "\n",
    "Para poder instalar paquetes en jupyter, uso la siguiente linea.\n",
    "\n",
    "* install.packages(\"glmx\", \"/Users/YULY/anaconda/Lib/R/library\")"
   ]
  }
 ],
 "metadata": {
  "kernelspec": {
   "display_name": "R",
   "language": "R",
   "name": "ir"
  },
  "language_info": {
   "codemirror_mode": "r",
   "file_extension": ".r",
   "mimetype": "text/x-r-source",
   "name": "R",
   "pygments_lexer": "r",
   "version": "3.6.1"
  }
 },
 "nbformat": 4,
 "nbformat_minor": 4
}
