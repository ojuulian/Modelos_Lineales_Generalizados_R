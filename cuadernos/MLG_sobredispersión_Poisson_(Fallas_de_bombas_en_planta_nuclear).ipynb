{
 "cells": [
  {
   "cell_type": "markdown",
   "metadata": {},
   "source": [
    "# Modelos con sobredispersión (Fallas de bombas en planta nuclear)\n",
    "\n",
    "\n",
    "(Gaver y O’Muircheartaigh (1987)) Estos datos tratan sobre el número de fallas y el tiempo de operación, medido en miles de horas, para 10 bombas de una planta nuclear. Las bombas funcionan en dos modos diferentes: en modo continuo y en modo\n",
    "intermitente. El objetivo es establecer si la tasa de fallas de las bombas depende del modo en que operan.\n",
    "\n",
    "* Es importante destacar que se desea analizar la tasa de fallas puesto que si hacemos comparabilidad con el número de fallas esta mal puesto que el numero de fallas depende de cuantas horas llevan operando (se esperaria que el que lleva más tiempo se tenga mas fallas). Por tal motivo se hace un análisis con respecto al numero de fallas con respecto al tiempo (horas) que llevan en operación. \"numero de fallas por hora\""
   ]
  },
  {
   "cell_type": "code",
   "execution_count": 8,
   "metadata": {},
   "outputs": [],
   "source": [
    "rm(list=ls())\n",
    "setwd(\"C:\\\\Users\\\\YULY\\\\Desktop\\\\Desktop\\\\UNAL 2018\\\\MLGz\\\\MLG Vanegas\")\n",
    "library(sqldf)\n",
    "library(numDeriv)\n",
    "library(Rfast)\n",
    "source(\"macros.txt\")\n",
    "source(\"test.txt\")"
   ]
  },
  {
   "cell_type": "code",
   "execution_count": 9,
   "metadata": {},
   "outputs": [
    {
     "data": {
      "text/html": [
       "<table>\n",
       "<thead><tr><th scope=col>fallas</th><th scope=col>tiempo</th><th scope=col>modo</th></tr></thead>\n",
       "<tbody>\n",
       "\t<tr><td> 5         </td><td> 94.320    </td><td>continuo   </td></tr>\n",
       "\t<tr><td> 1         </td><td> 15.720    </td><td>itermitente</td></tr>\n",
       "\t<tr><td> 5         </td><td> 62.880    </td><td>continuo   </td></tr>\n",
       "\t<tr><td>14         </td><td>125.760    </td><td>continuo   </td></tr>\n",
       "\t<tr><td> 3         </td><td>  5.240    </td><td>itermitente</td></tr>\n",
       "\t<tr><td>19         </td><td> 31.440    </td><td>continuo   </td></tr>\n",
       "\t<tr><td> 1         </td><td>  1.048    </td><td>itermitente</td></tr>\n",
       "\t<tr><td> 1         </td><td>  1.048    </td><td>itermitente</td></tr>\n",
       "\t<tr><td> 4         </td><td>  2.096    </td><td>itermitente</td></tr>\n",
       "\t<tr><td>22         </td><td> 10.480    </td><td>itermitente</td></tr>\n",
       "</tbody>\n",
       "</table>\n"
      ],
      "text/latex": [
       "\\begin{tabular}{r|lll}\n",
       " fallas & tiempo & modo\\\\\n",
       "\\hline\n",
       "\t  5          &  94.320     & continuo   \\\\\n",
       "\t  1          &  15.720     & itermitente\\\\\n",
       "\t  5          &  62.880     & continuo   \\\\\n",
       "\t 14          & 125.760     & continuo   \\\\\n",
       "\t  3          &   5.240     & itermitente\\\\\n",
       "\t 19          &  31.440     & continuo   \\\\\n",
       "\t  1          &   1.048     & itermitente\\\\\n",
       "\t  1          &   1.048     & itermitente\\\\\n",
       "\t  4          &   2.096     & itermitente\\\\\n",
       "\t 22          &  10.480     & itermitente\\\\\n",
       "\\end{tabular}\n"
      ],
      "text/markdown": [
       "\n",
       "| fallas | tiempo | modo |\n",
       "|---|---|---|\n",
       "|  5          |  94.320     | continuo    |\n",
       "|  1          |  15.720     | itermitente |\n",
       "|  5          |  62.880     | continuo    |\n",
       "| 14          | 125.760     | continuo    |\n",
       "|  3          |   5.240     | itermitente |\n",
       "| 19          |  31.440     | continuo    |\n",
       "|  1          |   1.048     | itermitente |\n",
       "|  1          |   1.048     | itermitente |\n",
       "|  4          |   2.096     | itermitente |\n",
       "| 22          |  10.480     | itermitente |\n",
       "\n"
      ],
      "text/plain": [
       "   fallas tiempo  modo       \n",
       "1   5      94.320 continuo   \n",
       "2   1      15.720 itermitente\n",
       "3   5      62.880 continuo   \n",
       "4  14     125.760 continuo   \n",
       "5   3       5.240 itermitente\n",
       "6  19      31.440 continuo   \n",
       "7   1       1.048 itermitente\n",
       "8   1       1.048 itermitente\n",
       "9   4       2.096 itermitente\n",
       "10 22      10.480 itermitente"
      ]
     },
     "metadata": {},
     "output_type": "display_data"
    },
    {
     "data": {
      "text/plain": [
       "\n",
       " 1  3  4  5 14 19 22 \n",
       " 3  1  1  2  1  1  1 "
      ]
     },
     "metadata": {},
     "output_type": "display_data"
    }
   ],
   "source": [
    "#Lectura de los datos\n",
    "fallas<-c(5,1,5,14,3,19,1,1,4,22)\n",
    "tiempo<-c(94.32, 15.72, 62.88, 125.76, 5.24, 31.44, 1.048, 1.048, 2.096, 10.48)\n",
    "modo<-c(\"continuo\", \"itermitente\",\"continuo\",\"continuo\",\"itermitente\",\"continuo\",\"itermitente\",\"itermitente\",\"itermitente\",\"itermitente\")\n",
    "bombas<-data.frame(fallas, tiempo, modo); bombas\n",
    "table(bombas$fallas)"
   ]
  },
  {
   "cell_type": "markdown",
   "metadata": {},
   "source": [
    "En lo que corresponde a las fallas de las 10 bombas de la planta nuclear se puede especificar que tres de las bombas tienen una falla, 2 bombas de la planta nuclear tienen 5 fallas y lo más preocupante una tiene 22 fallas."
   ]
  },
  {
   "cell_type": "markdown",
   "metadata": {},
   "source": [
    "\n",
    "# A)\n",
    "\n",
    "Ajuste un MLG poisson con función de enlace logaritmo natural donde el número de fallas de las bombas es la variable respuesta, el modo de operación es la variable explicativa, y el logaritmo natural del tiempo de operación es el offset. Evalúe si hay indicios de la presencia de sobredispersión."
   ]
  },
  {
   "cell_type": "markdown",
   "metadata": {},
   "source": [
    "Ha de notarse de las variables que una es de tipo categorico **modo** la cual hace correspondencia al tipo de funcionamiento de la bomba en la planta. El número de fallas es claramente un **conteo** y la distribución que más se ajusta la variable rta es la Poisson. A continuación se realiza el ajuste en referencia a las especificaciones A):"
   ]
  },
  {
   "cell_type": "code",
   "execution_count": 10,
   "metadata": {},
   "outputs": [
    {
     "data": {
      "text/plain": [
       "\n",
       "Call:\n",
       "glm(formula = fallas ~ modo * offset(log(tiempo)), family = poisson(link = \"log\"), \n",
       "    data = bombas)\n",
       "\n",
       "Deviance Residuals: \n",
       "    Min       1Q   Median       3Q      Max  \n",
       "-4.5761  -1.2104  -0.3688   1.0198   5.2020  \n",
       "\n",
       "Coefficients:\n",
       "                Estimate Std. Error z value Pr(>|z|)    \n",
       "(Intercept)      -1.9895     0.1525 -13.046  < 2e-16 ***\n",
       "modoitermitente   1.8820     0.2335   8.061 7.56e-16 ***\n",
       "---\n",
       "Signif. codes:  0 '***' 0.001 '**' 0.01 '*' 0.05 '.' 0.1 ' ' 1\n",
       "\n",
       "(Dispersion parameter for poisson family taken to be 1)\n",
       "\n",
       "    Null deviance: 124.538  on 9  degrees of freedom\n",
       "Residual deviance:  71.433  on 8  degrees of freedom\n",
       "AIC: 108.87\n",
       "\n",
       "Number of Fisher Scoring iterations: 5\n"
      ]
     },
     "metadata": {},
     "output_type": "display_data"
    }
   ],
   "source": [
    "###################### Estimación del modelo ######################\n",
    "fit11 <- glm(fallas ~ modo*offset(log(tiempo)), family=poisson(link=\"log\"), data=bombas)\n",
    "summary(fit11)"
   ]
  },
  {
   "cell_type": "markdown",
   "metadata": {},
   "source": [
    "La interpretación de los parámetros indica que la tasa esperada de fallas en las bombas es mayor cuando está en modo itermitente que cuando funcionan de modo continuo. "
   ]
  },
  {
   "cell_type": "code",
   "execution_count": 11,
   "metadata": {},
   "outputs": [
    {
     "name": "stdout",
     "output_type": "stream",
     "text": [
      "\n",
      "  Family:  poisson \n",
      "    Link:  log \n",
      "                                                    Df    Value\n",
      "Residual deviance                                    8  71.4325\n",
      "Pearson's statistic                                  8  89.2271\n",
      "Adjusted R-squared based on the residual deviance        0.3547\n",
      "Adjusted R-squared based on the Pearson's statistic      0.6099\n",
      "-2*log-Likelihood                                      104.8678\n",
      "AIC                                                    108.8678\n",
      "BIC                                                    109.4729\n",
      "\n",
      "\n"
     ]
    }
   ],
   "source": [
    "gof_glm(fit11)"
   ]
  },
  {
   "cell_type": "markdown",
   "metadata": {},
   "source": [
    "Se conoce que en el caso de la Poisson el $\\phi$ es conocido y es 1. No obstante para conocer $\\phi$ estimamos mediante:\n",
    "\n",
    "$$\\widehat{\\phi}= \\frac{D(y; \\widehat{\\mu})}{n-p}$$\n",
    "\n",
    "$$\\widetilde{\\phi}= \\frac{P(y; \\widehat{\\mu})}{n-p}$$\n",
    "\n",
    "Donde estos valores son demasiado grandes 11 y o veces, se esperaría que fuera cercano a 1, es decir que estamos en un indicio de sobredispersión. Veamos el envelope:"
   ]
  },
  {
   "cell_type": "code",
   "execution_count": 12,
   "metadata": {},
   "outputs": [
    {
     "data": {
      "text/html": [
       "8.9290625"
      ],
      "text/latex": [
       "8.9290625"
      ],
      "text/markdown": [
       "8.9290625"
      ],
      "text/plain": [
       "[1] 8.929063"
      ]
     },
     "metadata": {},
     "output_type": "display_data"
    },
    {
     "data": {
      "text/html": [
       "11.1533875"
      ],
      "text/latex": [
       "11.1533875"
      ],
      "text/markdown": [
       "11.1533875"
      ],
      "text/plain": [
       "[1] 11.15339"
      ]
     },
     "metadata": {},
     "output_type": "display_data"
    }
   ],
   "source": [
    "71.4325/8\n",
    "89.2271/8"
   ]
  },
  {
   "cell_type": "code",
   "execution_count": 6,
   "metadata": {},
   "outputs": [
    {
     "name": "stdout",
     "output_type": "stream",
     "text": [
      "  |++++++++++++++++++++++++++++++++++++++++++++++++++| 100%\n"
     ]
    },
    {
     "data": {
      "image/png": "[encoded data removed]",
      "text/plain": [
       "Plot with title \" \""
      ]
     },
     "metadata": {},
     "output_type": "display_data"
    }
   ],
   "source": [
    "envelope_glm(fit11,rep=100)"
   ]
  },
  {
   "cell_type": "markdown",
   "metadata": {},
   "source": [
    "Al igual como se especifica con las estimaciones de $\\phi$, en el envelope los residuos positivos tienden a ser más positivos saliéndose de las bandas. Así mimso residuos negativos con tendencia a ser más negativos y saliéndose de las bandas. Por lo cual se afirma el hecho de sobredispersión."
   ]
  },
  {
   "cell_type": "markdown",
   "metadata": {},
   "source": [
    "# B)\n",
    "\n",
    "Ajuste modelos binomial negativa I, binomial negativa II y poisson-normal.inversa con funcón de enlace logaritmo natural donde el número de fallas de las bombas es la variable respuesta, el modo de operación es la variable explicativa, y el logaritmo natural del tiempo de operación es el offset. Compare con lo obtenido en (A), especialmente las magnitudes de los errores estándar. Comente."
   ]
  },
  {
   "cell_type": "code",
   "execution_count": 7,
   "metadata": {},
   "outputs": [],
   "source": [
    "fit21 <-  overglm(fallas ~ modo*offset(log(tiempo)), family=\"nb1(log)\", data=bombas)\n",
    "fit31 <-  overglm(fallas ~ modo*offset(log(tiempo)), family=\"nb2(log)\", data=bombas)\n",
    "fit41 <-  overglm(fallas ~ modo*offset(log(tiempo)), family=\"poig(log)\", data=bombas)  #"
   ]
  },
  {
   "cell_type": "code",
   "execution_count": 8,
   "metadata": {},
   "outputs": [
    {
     "name": "stdout",
     "output_type": "stream",
     "text": [
      "\n",
      "     Link:  log \n",
      "Predictor:  1 + offset(log(tiempo)) + modo \n",
      "\n",
      " Object                   Family -2*log-likelihood df     BIC \n",
      "  fit21      Negative Binomial I          59.65156  3 66.55931\n",
      "  fit31     Negative Binomial II          65.80796  3 72.71571\n",
      "  fit41 Poisson-Inverse.Gaussian          61.10080  3 68.00856\n",
      "\n",
      "     Link:  log \n",
      "Predictor:  1 + offset(log(tiempo)) + modo \n",
      "\n",
      " Object                   Family -2*log-likelihood df     AIC \n",
      "  fit21      Negative Binomial I          59.65156  3 65.65156\n",
      "  fit31     Negative Binomial II          65.80796  3 71.80796\n",
      "  fit41 Poisson-Inverse.Gaussian          61.10080  3 67.10080\n"
     ]
    }
   ],
   "source": [
    "BIC(fit21,fit31,fit41)\n",
    "AIC(fit21,fit31,fit41)"
   ]
  },
  {
   "cell_type": "markdown",
   "metadata": {},
   "source": [
    "En correspondencia a las estimaciones del modelo, se puede especificar que el mejor modelo en terminos de menor AIC  y BIC, está determinado por:  Negative Binomial I con función de enlace log. Veamos las estimaciones:"
   ]
  },
  {
   "cell_type": "code",
   "execution_count": 9,
   "metadata": {},
   "outputs": [
    {
     "name": "stdout",
     "output_type": "stream",
     "text": [
      "\n",
      "Sample size:  10 \n",
      "     Family:  Negative Binomial I\n",
      "       Link:  log\n",
      " *************************************************************\n",
      "                Estimate Std.Error  z-value   Pr(>|z|)\n",
      "(Intercept)     -1.60355   0.47266 -3.39258 0.00069237\n",
      "modoitermitente  1.67300   0.64045  2.61223 0.00899524\n",
      "\n",
      "                Estimate Std.Error\n",
      "Dispersion       0.77035   0.37273\n",
      " *************************************************************\n",
      "                 -2*log-likelihood:  59.652 \n",
      "                               AIC:  65.652 \n",
      "                               BIC:  66.559 \n"
     ]
    }
   ],
   "source": [
    "summary(fit21)"
   ]
  },
  {
   "cell_type": "markdown",
   "metadata": {},
   "source": [
    "En referencia a las estimaciones de los parámetros del modelo se puede decir que siguen siendo significativos, en el modelo *poisson* los parámetros son $(-1.9895, 1.882)$ y existen cambios sutanciales con respecto a los del modelo *Negative Binomial I* , no pobstante al estar presente la sobredispersión se especifica que se está subestimando con los errores estándar en el modelo Poisson los cuales son: (0.15, 0.23), es decir que con el nuevo ajuste *Negative Binomial I* se esperan que sean mayores. En realidad sucede. \n",
    "\n"
   ]
  },
  {
   "cell_type": "markdown",
   "metadata": {},
   "source": [
    "# C) \n",
    "\n",
    "Use los criterios AIC y BIC para comparar los modelos seleccionados en (A) y (B). Cual de ellos parece describir mejor los datos?"
   ]
  },
  {
   "cell_type": "code",
   "execution_count": 10,
   "metadata": {},
   "outputs": [
    {
     "data": {
      "text/html": [
       "<table>\n",
       "<thead><tr><th></th><th scope=col>df</th><th scope=col>BIC</th></tr></thead>\n",
       "<tbody>\n",
       "\t<tr><th scope=row>fit11</th><td>2       </td><td>109.4729</td></tr>\n",
       "\t<tr><th scope=row>fit21</th><td>3       </td><td>      NA</td></tr>\n",
       "</tbody>\n",
       "</table>\n"
      ],
      "text/latex": [
       "\\begin{tabular}{r|ll}\n",
       "  & df & BIC\\\\\n",
       "\\hline\n",
       "\tfit11 & 2        & 109.4729\\\\\n",
       "\tfit21 & 3        &       NA\\\\\n",
       "\\end{tabular}\n"
      ],
      "text/markdown": [
       "\n",
       "| <!--/--> | df | BIC |\n",
       "|---|---|---|\n",
       "| fit11 | 2        | 109.4729 |\n",
       "| fit21 | 3        |       NA |\n",
       "\n"
      ],
      "text/plain": [
       "      df BIC     \n",
       "fit11 2  109.4729\n",
       "fit21 3        NA"
      ]
     },
     "metadata": {},
     "output_type": "display_data"
    },
    {
     "data": {
      "text/html": [
       "<table>\n",
       "<thead><tr><th></th><th scope=col>df</th><th scope=col>AIC</th></tr></thead>\n",
       "<tbody>\n",
       "\t<tr><th scope=row>fit11</th><td>2        </td><td>108.86776</td></tr>\n",
       "\t<tr><th scope=row>fit21</th><td>3        </td><td> 65.65156</td></tr>\n",
       "</tbody>\n",
       "</table>\n"
      ],
      "text/latex": [
       "\\begin{tabular}{r|ll}\n",
       "  & df & AIC\\\\\n",
       "\\hline\n",
       "\tfit11 & 2         & 108.86776\\\\\n",
       "\tfit21 & 3         &  65.65156\\\\\n",
       "\\end{tabular}\n"
      ],
      "text/markdown": [
       "\n",
       "| <!--/--> | df | AIC |\n",
       "|---|---|---|\n",
       "| fit11 | 2         | 108.86776 |\n",
       "| fit21 | 3         |  65.65156 |\n",
       "\n"
      ],
      "text/plain": [
       "      df AIC      \n",
       "fit11 2  108.86776\n",
       "fit21 3   65.65156"
      ]
     },
     "metadata": {},
     "output_type": "display_data"
    }
   ],
   "source": [
    "BIC(fit11, fit21)\n",
    "AIC(fit11, fit21)"
   ]
  },
  {
   "cell_type": "markdown",
   "metadata": {},
   "source": [
    "En correspondencia a los valores del AIC, BIC del los dos modelos, se afirma que el mejor modelo está derterminado por *Negative Binomial I* con función de enlace log."
   ]
  },
  {
   "cell_type": "markdown",
   "metadata": {},
   "source": [
    "# D) \n",
    "\n",
    "Use el test de Wald y el test de razón de verosimilitudes para evaluar, al nivel de significancia aproximado de 5%, si la tasa esperada de fallas en las bombas depende del modo en que ellas operan."
   ]
  },
  {
   "cell_type": "markdown",
   "metadata": {},
   "source": [
    "### Test Wald\n",
    "Para contrastar la prueba se tiene el siguiente sistema de hipótesis:\n",
    "\n",
    "$$H_{0}: \\beta_2=0 \\;\\;\\;\\;\\; vs \\;\\;\\;\\;\\;\\;H_{1}: \\beta_2 \\neq 0 $$\n",
    "\n",
    "donde \n",
    "\n",
    "$$ \\xi _{W} = (\\hat{\\beta_2}  - \\beta_2^{0})' [\\hat{Var}(\\hat{\\beta_2})]^{-1}(\\hat{\\beta_2}  - \\beta_2^{0})$$\n"
   ]
  },
  {
   "cell_type": "code",
   "execution_count": 11,
   "metadata": {},
   "outputs": [
    {
     "name": "stdout",
     "output_type": "stream",
     "text": [
      "\n",
      "  Wald test \n",
      "\n",
      " Model 1:  fallas ~ modo * offset(log(tiempo)) \n",
      " Model 2:  fallas ~ 1 \n",
      "\n",
      "   Chi    Df   Pr(>Chi)   \n",
      "  6.8238   1   0.008995 **\n"
     ]
    }
   ],
   "source": [
    "fit <-  overglm(fallas ~ 1, family=\"nb1(log)\", data=bombas)\n",
    "anova_glm(fit21,fit,test=\"wald\") #test de wald"
   ]
  },
  {
   "cell_type": "markdown",
   "metadata": {},
   "source": [
    "Consideradndo las anteriores salidas se rechaza $H_0$ a un nivel de significancia APROXIMADO del 100$ \\alpha\\%$ puesto que $\\xi _{W}=6.8238 >\\chi^2(1)$ Afirmandose que $\\beta_2$ es significativo en el modelo. Es decír **tasa esperada de fallas en las bombas SI depende del modo en que ellas operan.**\n",
    "\n",
    "### Test Razón de verosimilitudes"
   ]
  },
  {
   "cell_type": "code",
   "execution_count": 12,
   "metadata": {},
   "outputs": [
    {
     "name": "stdout",
     "output_type": "stream",
     "text": [
      "\n",
      "  Likelihood-ratio test \n",
      "\n",
      " Model 1:  fallas ~ modo * offset(log(tiempo)) \n",
      " Model 2:  fallas ~ 1 \n",
      "\n",
      "   Chi    Df   Pr(>Chi)\n",
      "  1.8445   1     0.1744\n"
     ]
    }
   ],
   "source": [
    "anova_glm(fit21,fit, test = \"lrt\")  "
   ]
  },
  {
   "cell_type": "markdown",
   "metadata": {},
   "source": [
    "# E) \n",
    "\n",
    "Realice el análisis de diagnóstico al modelo. Comente."
   ]
  },
  {
   "cell_type": "code",
   "execution_count": 13,
   "metadata": {},
   "outputs": [
    {
     "data": {
      "image/png": "[encoded data removed]",
      "text/plain": [
       "Plot with title \"Normal Q-Q Plot\""
      ]
     },
     "metadata": {},
     "output_type": "display_data"
    }
   ],
   "source": [
    "################################# Diagnóstico del modelo seleccionado #################################\n",
    "###################### Análisis de residuos ######################\n",
    "par(mfrow=c(1,2))\n",
    "res <- residuals(fit21,plot=TRUE,type=\"quantile\",identify=1)\n",
    "qqnorm(res,pch=16)\n",
    "abline(0,1)"
   ]
  },
  {
   "cell_type": "markdown",
   "metadata": {},
   "source": [
    "Para este caso no se tiene el envelope, sin embargo se tienen los residuos cuantil y estos deben distribuir normal(0,1) cuando son correctos. En los que se puede ver que siguen el patron de linea recta."
   ]
  },
  {
   "cell_type": "code",
   "execution_count": 14,
   "metadata": {},
   "outputs": [
    {
     "data": {
      "image/png": "[encoded data removed]",
      "text/plain": [
       "plot without title"
      ]
     },
     "metadata": {},
     "output_type": "display_data"
    }
   ],
   "source": [
    "###################### Análisis de sensibilidad ######################\n",
    "CookDistance(fit21,plot=TRUE,out=FALSE,identify=1)"
   ]
  },
  {
   "cell_type": "markdown",
   "metadata": {},
   "source": [
    "Se observa que la bomba 10 la cual trabaja de manera itermitente y que tiene 10 fallas es la observación que tiene mayor distancia de Coock, esto implica que hay que hacerse algo inmediatamente."
   ]
  },
  {
   "cell_type": "markdown",
   "metadata": {},
   "source": [
    "# F)\n",
    "\n",
    "Interprete las estimaciones de los parámetros del modelo excepto el intercepto."
   ]
  },
  {
   "cell_type": "markdown",
   "metadata": {},
   "source": [
    "\n",
    "$$log(\\mu_k)= \\beta_1^{*}  + \\beta_2 ModoItermitente_{k} + log(tiempo_k)$$\n",
    " \n",
    "\n",
    "Se describe el número esperado de fallas en bombas como:\n",
    "\n",
    "$$\\mu_k=  Exp[ \\beta_1^{*}  + \\beta_2 ModoItermitente_{k} + log(tiempo_k)]$$\n",
    " \n",
    "Considerando que se desea comparar a dos bombas, una de ellas con funcionamiento itermitente y otra funcionamiento normal (base) se tiene:\n",
    "  \n",
    " $$\\mu_k= \\frac{ exp[ \\beta_1^{*}+\\beta_2 (ModoItermitente_{k} +\\delta)+ log(tiempo_k)  ]}{exp[  \\beta_1^{*}  + \\beta_2 ModoItermitente_{k} + log(tiempo_k)  } = exp(\\delta \\beta_2) $$\n",
    " \n",
    "Al suponer que $\\hat{\\beta}_2=1.67300 $, se tiene:\n",
    "\n",
    "  $$exp(\\hat{\\beta}_2) = exp( 1.67300 )=5.328$$\n",
    " \n",
    "* Al comparar dos bombas una con funcionamineto continuo y otra itermitente se tiene que el número esperado de fallas por cada en bombas itermitentes es aproximadamente mayor en un $32\\%$ con respecto a los que trabajan normalmente (rango base).\n"
   ]
  }
 ],
 "metadata": {
  "kernelspec": {
   "display_name": "R",
   "language": "R",
   "name": "ir"
  },
  "language_info": {
   "codemirror_mode": "r",
   "file_extension": ".r",
   "mimetype": "text/x-r-source",
   "name": "R",
   "pygments_lexer": "r",
   "version": "3.6.1"
  }
 },
 "nbformat": 4,
 "nbformat_minor": 2
}
