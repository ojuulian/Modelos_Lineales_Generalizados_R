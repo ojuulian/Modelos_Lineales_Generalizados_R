{
 "cells": [
  {
   "cell_type": "markdown",
   "metadata": {},
   "source": [
    "<h2 align=\"center\">Modelos lineales Generalizados</h2>\n",
    "<h2 align=\"center\"></h2>\n",
    "\n",
    "Para dar un abordaje al modelamiento por medio de MLG ( Modelos Lineales Generealizados), se propone el siguiente contenido el cual contrasta la teoría y la práctica por medio de scrips en *jupyter notebook* \n",
    "\n",
    "\n",
    "\n",
    "<h3>Autor</h3>\n",
    "\n",
    "1. Oscar Julian Layton Galindo, ojlaytong@unal.edu.co\n",
    "\n",
    "\n",
    "\n",
    "<h3>Lenguaje de Programación </h3>\n",
    "\n",
    "R y Python 3.7"
   ]
  },
  {
   "cell_type": "markdown",
   "metadata": {},
   "source": [
    "<h2 align='center'> Contenido</h2>\n",
    "\n",
    "<h3>  Métodos de optimización </h3>\n",
    "\n",
    "1. [Algoritmo Newton Rapson.](./cuadernos/MLG_Newton_Rapson_Scoring_de_Fisher.ipynb)\n",
    "\n",
    "<h3>  Tests </h3>\n",
    "\n",
    "1. [Test de razón de verosimilitudes,  Wald, score, gradiente](./cuadernos/MLG_Tests_(MLG_Poisson_Maquinas_de_urdidumbre_de_telar).ipynb)\n",
    "\n",
    "\n",
    "\n",
    "<h3>  Modelamiento</h3>\n",
    "\n",
    "1. [MCP Mínimos cuadrados ponderados.](./cuadernos/MCP_Minimos_cuadrados_ponderados.ipynb)\n",
    "2. [STEP_GLM. (Clientes bancarios morosos.)](./cuadernos/MLG_STEP_GLM_Clientes_bancarios_morosos.ipynb)\n",
    "3. [MLG Binomial (Cangrejos satelites)](./cuadernos/MLG_Binomial_(Cangrejos_satelites).ipynb).\n",
    "4. [MLG Binomial (Creditos buenos y malos de un banco)](./cuadernos/MLG_Binomial_(Creditos_buenos_y_malos_de_un_banco).ipynb).\n",
    "5. [MLG Binomial (diabetes Mellitus)](./cuadernos/MLG_Binomial_(diabetes_Mellitus).ipynb).\n",
    "6. [MLG Binomial (Escarabajos muertos)](./cuadernos/MLG_Binomial_(Escarabajos_muertos).ipynb).\n",
    "7. [MLG Binomial (Ratones con cancer)](./cuadernos/MLG_Binomial_(Ratones_con_cancer).ipynb).\n",
    "8. [MLG Ecuaciones generalizadas de estimación (Crecimiento de arboles)](./cuadernos/MLG_Ecuaciones_generalizadas_de_estimación_(Crecimiento_de_arboles).ipynb).\n",
    "9. [MLG Ecuaciones generalizadas de estimación (datos cerdos sacrificados)](./cuadernos/MLG_Ecuaciones_generalizadas_de_estimación_(datos_cerdos_sacrificados).ipynb).\n",
    "10. [MLG Ecuaciones generalizadas de estimación (Efectos de contaminación en aire)](./cuadernos/MLG_Ecuaciones_generalizadas_de_estimación_(Efectos_de_contaminación_en_aire).ipynb).\n",
    "11. [MLG Modelos con sobredispersión Binomial (Ratas embarazadas)](./cuadernos/MLG_Modelos_con_sobredispersión_Binomial_(Ratas_embarazadas).ipynb).\n",
    "12. [MLG Normal (Consumo gasolina 32 autos mtcars)](./cuadernos/MLG_Normal_(Consumo_gasolina_32_autos_mtcars).ipynb).\n",
    "13. [MLG Normal (Richness riqueza)](./cuadernos/MLG_Normal_(Richness_riqueza).ipynb).\n",
    "14. [MLG Normal Inversa (características de 392 vehículos)](./cuadernos/MLG_Normal_Inversa_(características_de_392_vehículos).ipynb).\n",
    "15. [MLG Poisson (caso cáncer de pulmón)](./cuadernos/MLG_Poisson_(caso_cáncer_de_pulmón).ipynb).\n",
    "16. [MLG Poisson (El número de roturas en hilo durante el tejido)](./cuadernos/MLG_Poisson_(El_número_de_roturas_en_hilo_durante_el_tejido).ipynb).\n",
    "17. [MLG Poisson (Número de premios en estudiantes)](./cuadernos/MLG_Poisson_(Número_de_premios_en_estudiantes).ipynb).\n",
    "18. [MLG Sobredispersion Binomial (Germinación semillas de Orobanche)](./cuadernos/MLG_Sobredispersion_Binomial_(Germinación_semillas_de_Orobanche).ipynb).\n",
    "19. [MLG Sobredispersion Poisson (Infecciones de oído en reclutas)](./cuadernos/MLG_Sobredispersion_Poisson_(Infecciones_de_oído_en_reclutas).ipynb).\n",
    "20. [MLG Sobredispersion Poisson (Publicaciones de PhDs en bioquímica)](./cuadernos/MLG_Sobredispersion_Poisson_(Publicaciones_de_PhDs_en_bioquímica).ipynb).\n",
    "21. [MLG sobredispersión Poisson (Fallas de bombas en planta nuclear)](./cuadernos/MLG_sobredispersión_Poisson_(Fallas_de_bombas_en_planta_nuclear).ipynb).\n",
    "22. [MLG sobredispersión Poisson (fallas en rollos de tejido)](./cuadernos/MLG_sobredispersión_Poisson_(fallas_en_rollos_de_tejido).ipynb).\n",
    "13. [MLG sucursales de un banco Australiano](./cuadernos/MLG_sucursales_de_un_banco_Australiano.ipynb)."
   ]
  },
  {
   "cell_type": "markdown",
   "metadata": {},
   "source": [
    "<h3>Referencias</h3>\n",
    "\n",
    "1.  Agresti, A. (2015). Foundations of linear and generalized linear models. John Wiley & Sons.\n",
    "2.  Dobson, A. J., & Barnett, A. G. (2018). An introduction to generalized linear models. CRC press.\n",
    "3.  McCulloch, C. E., & Neuhaus, J. M. (2014). Generalized linear mixed models. Wiley StatsRef: Statistics Reference Online."
   ]
  }
 ],
 "metadata": {
  "kernelspec": {
   "display_name": "Python 3",
   "language": "python",
   "name": "python3"
  },
  "language_info": {
   "codemirror_mode": {
    "name": "ipython",
    "version": 3
   },
   "file_extension": ".py",
   "mimetype": "text/x-python",
   "name": "python",
   "nbconvert_exporter": "python",
   "pygments_lexer": "ipython3",
   "version": "3.7.4"
  }
 },
 "nbformat": 4,
 "nbformat_minor": 4
}
