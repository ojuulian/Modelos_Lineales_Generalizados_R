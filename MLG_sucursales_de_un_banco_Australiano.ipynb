{
 "cells": [
  {
   "cell_type": "markdown",
   "metadata": {},
   "source": [
    "## MLG Sucursales de un banco Australiano\n",
    "\n",
    "### Oscar Julian Layton\n",
    "\n",
    "Estos datos, analizados por Weisberg (2005, página 88) y disponibles en el objeto transact del paquete *alr3* de R, corresponden a una muestra de 261 sucursales de un banco australiano de gran tamaño que realiza transacciones de dos tipos. Para cada una de las sucursales en la muestra se registró el número de transacciones de cada tipo (T1 y T2 para las transacciones de los tipos 1 y 2, respectivamente) así como el tiempo total, en minutos, que tarda en tramitarlas (Time). El objetivo del análisis es estimar el tiempo esperado que las sucursales tardan en tramitar el total de las transacciones en función de la cantidad de transacciones de cada tipo.\n",
    "\n",
    "* **T1:** Hace referencia a transacciones de tipo 1.\n",
    "* **T2:** Hace referencia a transacciones de tipo 2.\n",
    "* **Time:** Tiempo en minutos que tarda hacer la transacción k.\n",
    "\n",
    "A continuación se presentan las primeras 10 observaciones."
   ]
  },
  {
   "cell_type": "code",
   "execution_count": 1,
   "metadata": {},
   "outputs": [
    {
     "name": "stderr",
     "output_type": "stream",
     "text": [
      "Loading required package: alr3\n",
      "Warning message:\n",
      "\"package 'alr3' was built under R version 3.6.2\"Loading required package: car\n",
      "Loading required package: carData\n"
     ]
    },
    {
     "data": {
      "text/html": [
       "<table>\n",
       "<thead><tr><th scope=col>T1</th><th scope=col>T2</th><th scope=col>Time</th></tr></thead>\n",
       "<tbody>\n",
       "\t<tr><td>  0  </td><td>1166 </td><td> 2396</td></tr>\n",
       "\t<tr><td>  0  </td><td>1656 </td><td> 2348</td></tr>\n",
       "\t<tr><td>  0  </td><td> 899 </td><td> 2403</td></tr>\n",
       "\t<tr><td>516  </td><td>3315 </td><td>13518</td></tr>\n",
       "\t<tr><td>623  </td><td>3969 </td><td>13437</td></tr>\n",
       "\t<tr><td>395  </td><td>3087 </td><td> 7914</td></tr>\n",
       "\t<tr><td>408  </td><td>2925 </td><td> 9111</td></tr>\n",
       "\t<tr><td>244  </td><td>1487 </td><td> 5818</td></tr>\n",
       "\t<tr><td>538  </td><td>4092 </td><td>12250</td></tr>\n",
       "\t<tr><td>  0  </td><td>2798 </td><td> 7300</td></tr>\n",
       "</tbody>\n",
       "</table>\n"
      ],
      "text/latex": [
       "\\begin{tabular}{r|lll}\n",
       " T1 & T2 & Time\\\\\n",
       "\\hline\n",
       "\t   0   & 1166  &  2396\\\\\n",
       "\t   0   & 1656  &  2348\\\\\n",
       "\t   0   &  899  &  2403\\\\\n",
       "\t 516   & 3315  & 13518\\\\\n",
       "\t 623   & 3969  & 13437\\\\\n",
       "\t 395   & 3087  &  7914\\\\\n",
       "\t 408   & 2925  &  9111\\\\\n",
       "\t 244   & 1487  &  5818\\\\\n",
       "\t 538   & 4092  & 12250\\\\\n",
       "\t   0   & 2798  &  7300\\\\\n",
       "\\end{tabular}\n"
      ],
      "text/markdown": [
       "\n",
       "| T1 | T2 | Time |\n",
       "|---|---|---|\n",
       "|   0   | 1166  |  2396 |\n",
       "|   0   | 1656  |  2348 |\n",
       "|   0   |  899  |  2403 |\n",
       "| 516   | 3315  | 13518 |\n",
       "| 623   | 3969  | 13437 |\n",
       "| 395   | 3087  |  7914 |\n",
       "| 408   | 2925  |  9111 |\n",
       "| 244   | 1487  |  5818 |\n",
       "| 538   | 4092  | 12250 |\n",
       "|   0   | 2798  |  7300 |\n",
       "\n"
      ],
      "text/plain": [
       "   T1  T2   Time \n",
       "1    0 1166  2396\n",
       "2    0 1656  2348\n",
       "3    0  899  2403\n",
       "4  516 3315 13518\n",
       "5  623 3969 13437\n",
       "6  395 3087  7914\n",
       "7  408 2925  9111\n",
       "8  244 1487  5818\n",
       "9  538 4092 12250\n",
       "10   0 2798  7300"
      ]
     },
     "metadata": {},
     "output_type": "display_data"
    }
   ],
   "source": [
    "require(alr3)\n",
    "data(transact)\n",
    "head(transact,n=10)              #primeras 10 observaciones de 394"
   ]
  },
  {
   "cell_type": "markdown",
   "metadata": {},
   "source": [
    "### A) Descripción de los datos\n",
    "\n",
    "Considerando que se realizan dos tipos de transacciones en el banco, se puede determinar el siguiente boxplot en el cual se logra identificar que en promedio existen 281 transacciones T1 en las sucursales del banco Ausatraliano, no obstante se puede identificar que existe una sucursal la cual realiza un número máximo de transacciones el cual es de 1450. Además el $50\\%$ de las transacciones está entre 85 y 43. No obstante las sucursales que realizan transacciones mayores a $Q3+1.5RI= 437 + 1.5(352)= 965$ pueden considerarse no comunes y son 3.\n",
    "\n"
   ]
  },
  {
   "cell_type": "code",
   "execution_count": 2,
   "metadata": {},
   "outputs": [
    {
     "name": "stderr",
     "output_type": "stream",
     "text": [
      "Loading required package: ggplot2\n"
     ]
    },
    {
     "data": {
      "text/plain": [
       "   Min. 1st Qu.  Median    Mean 3rd Qu.    Max. \n",
       "    0.0    85.0   214.0   281.2   437.0  1450.0 "
      ]
     },
     "metadata": {},
     "output_type": "display_data"
    },
    {
     "data": {
      "image/png": "[encoded data removed]",
      "text/plain": [
       "plot without title"
      ]
     },
     "metadata": {},
     "output_type": "display_data"
    }
   ],
   "source": [
    "require(ggplot2)\n",
    "pl <- ggplot(data=transact, aes(x=0, y=T1)) + geom_boxplot();pl\n",
    "summary(transact$T1)"
   ]
  },
  {
   "cell_type": "markdown",
   "metadata": {},
   "source": [
    "En lo que tiene que ver con las transacciones T2 se realiza el siguiente boxplot en el cual se puede obsevar que en promedio se generan 2422 en las sucursales del banco, no obstante el $50\\%$ de las transacciones tipo 2 está entre 1516 y 3175. En realidad las sucursales que realizan transacciones mayores a  $Q3+1.5RI= 3175 + 1.5(1659)= 5663$ pueden considerarse fuera de lo común y solo es una la cual tiene el número máximo de transacciones con 5791."
   ]
  },
  {
   "cell_type": "code",
   "execution_count": 3,
   "metadata": {},
   "outputs": [
    {
     "data": {
      "text/plain": [
       "   Min. 1st Qu.  Median    Mean 3rd Qu.    Max. \n",
       "    148    1516    2192    2422    3175    5791 "
      ]
     },
     "metadata": {},
     "output_type": "display_data"
    },
    {
     "data": {
      "image/png": "[encoded data removed]",
      "text/plain": [
       "plot without title"
      ]
     },
     "metadata": {},
     "output_type": "display_data"
    }
   ],
   "source": [
    "pl2 <- ggplot(data=transact, aes(x=0, y=T2)) + geom_boxplot();pl2\n",
    "summary(transact$T2)"
   ]
  },
  {
   "cell_type": "markdown",
   "metadata": {},
   "source": [
    "Lo que tiene que ver con  el tiempo generado al realizar las transacciones se tiene que en promedio las sucursales tardan  6607 minutos."
   ]
  },
  {
   "cell_type": "code",
   "execution_count": 4,
   "metadata": {},
   "outputs": [
    {
     "data": {
      "text/plain": [
       "   Min. 1st Qu.  Median    Mean 3rd Qu.    Max. \n",
       "    487    3618    5583    6607    8712   20741 "
      ]
     },
     "metadata": {},
     "output_type": "display_data"
    }
   ],
   "source": [
    "summary(transact$Time)"
   ]
  },
  {
   "cell_type": "markdown",
   "metadata": {},
   "source": [
    "### B) Ajuste de modelos\n",
    "\n",
    "Considerando que la variable de respuesta hace referencia al tiempo **(Time)** en minutos que es una variable de tipo continuo se procede a ajustar modelos con diferentes distribuciones:\n",
    "\n",
    "## Ajuste Normal\n",
    "\n",
    "##### Ajuste Normal con función de enlace Identidad"
   ]
  },
  {
   "cell_type": "markdown",
   "metadata": {},
   "source": [
    "\n",
    "$$\\begin{equation*}\n",
    "     \\left\\{\n",
    "\t       \\begin{array}{ll}\n",
    "\t\t Y_k \\sim Normal(\\mu_k, \\phi), \\\\\n",
    "\t\t \\mu_k= \\beta_1 + \\beta_2 T1_{k} +  \\beta_3 T2_{k}+ \\beta_4 T1:T2 \\\\\n",
    "\t\t Y_1, Y_2,...,Y_n ind\n",
    "\t       \\end{array}\n",
    "\t     \\right.\n",
    "   \\end{equation*}\n",
    "   $$\n",
    "   \n"
   ]
  },
  {
   "cell_type": "code",
   "execution_count": 5,
   "metadata": {},
   "outputs": [],
   "source": [
    "fitNormal1 <- glm(Time ~ 1+ T1*T2 ,data = transact, family = gaussian(link=\"identity\"))\n",
    "#summary(fitNormal1)"
   ]
  },
  {
   "cell_type": "markdown",
   "metadata": {},
   "source": [
    "#####  Ajuste Normal con función de enlace log\n",
    "\n",
    "$$\\begin{equation*}\n",
    "     \\left\\{\n",
    "\t       \\begin{array}{ll}\n",
    "\t\t Y_k \\sim Normal(\\mu_k, \\phi), \\\\\n",
    "\t\t log(\\mu_k)= \\beta_1 + \\beta_2 T1_{k} +  \\beta_3 T2_{k}+ \\beta_4 T1:T2 \\\\\n",
    "\t\t Y_1, Y_2,...,Y_n ind\n",
    "\t       \\end{array}\n",
    "\t     \\right.\n",
    "   \\end{equation*}\n",
    "   $$\n",
    "   "
   ]
  },
  {
   "cell_type": "code",
   "execution_count": 6,
   "metadata": {},
   "outputs": [],
   "source": [
    "fitNormal2 <- glm(Time ~ 1+ T1*T2 ,data = transact, family = gaussian(link=\"log\"))\n",
    "#summary(fitNormal2)"
   ]
  },
  {
   "cell_type": "markdown",
   "metadata": {},
   "source": [
    "##### Ajuste Normal con función de enlace inversa\n",
    "\n",
    "$$\\begin{equation*}\n",
    "     \\left\\{\n",
    "\t       \\begin{array}{ll}\n",
    "\t\t Y_k \\sim Normal(\\mu_k, \\phi), \\\\\n",
    "\t\t g^{-1}(\\mu_k)= \\beta_1 + \\beta_2 T1_{k} +  \\beta_3 T2_{k}+ \\beta_4 T1:T2 \\\\\n",
    "\t\t Y_1, Y_2,...,Y_n ind\n",
    "\t       \\end{array}\n",
    "\t     \\right.\n",
    "   \\end{equation*}\n",
    "   $$\n",
    "   "
   ]
  },
  {
   "cell_type": "code",
   "execution_count": 7,
   "metadata": {},
   "outputs": [],
   "source": [
    "fitNormal3 <- glm(Time ~ 1+ T1*T2 ,data = transact, family = gaussian(link=\"inverse\"))\n",
    "#summary(fitNormal3)"
   ]
  },
  {
   "cell_type": "markdown",
   "metadata": {},
   "source": [
    "## Ajuste Gama\n",
    "\n",
    "##### Ajuste Gama con función de enlace Identidad\n",
    "\n",
    "$$\\begin{equation*}\n",
    "     \\left\\{\n",
    "\t       \\begin{array}{ll}\n",
    "\t\t Y_k \\sim Gama(\\mu_k, \\phi), \\\\\n",
    "\t\t \\mu_k=  \\beta_1 + \\beta_2 T1_{k} +  \\beta_3 T2_{k}+ \\beta_4 T1:T2 \\\\\n",
    "\t\t Y_1, Y_2,...,Y_n ind\n",
    "\t       \\end{array}\n",
    "\t     \\right.\n",
    "   \\end{equation*}\n",
    "   $$\n",
    "   "
   ]
  },
  {
   "cell_type": "code",
   "execution_count": 8,
   "metadata": {},
   "outputs": [],
   "source": [
    "fitGama1 <- glm(Time ~ 1+ T1*T2 ,data = transact, family = Gamma(link=\"identity\"))\n",
    "#summary(fitGama1)"
   ]
  },
  {
   "cell_type": "markdown",
   "metadata": {},
   "source": [
    "##### Ajuste Gama con función de enlace log\n",
    "\n",
    "$$\\begin{equation*}\n",
    "     \\left\\{\n",
    "\t       \\begin{array}{ll}\n",
    "\t\t Y_k \\sim Gama(\\mu_k, \\phi), \\\\\n",
    "\t\t log(\\mu_k)=  \\beta_1 + \\beta_2 T1_{k} +  \\beta_3 T2_{k}+ \\beta_4 T1:T2 \\\\\n",
    "\t\t Y_1, Y_2,...,Y_n ind\n",
    "\t       \\end{array}\n",
    "\t     \\right.\n",
    "   \\end{equation*}\n",
    "   $$"
   ]
  },
  {
   "cell_type": "code",
   "execution_count": 9,
   "metadata": {},
   "outputs": [],
   "source": [
    "fitGama2 <- glm(Time ~ 1+ T1*T2 ,data = transact, family = Gamma(link=\"log\"))\n",
    "#summary(fitGama2)"
   ]
  },
  {
   "cell_type": "markdown",
   "metadata": {},
   "source": [
    "##### Ajuste Gama con función de enlace inversa\n",
    "\n",
    "$$\\begin{equation*}\n",
    "     \\left\\{\n",
    "\t       \\begin{array}{ll}\n",
    "\t\t Y_k \\sim Gama(\\mu_k, \\phi), \\\\\n",
    "\t\t g^{-1}(\\mu_k)=  \\beta_1 + \\beta_2 T1_{k} +  \\beta_3 T2_{k}+ \\beta_4 T1:T2 \\\\\n",
    "\t\t Y_1, Y_2,...,Y_n ind\n",
    "\t       \\end{array}\n",
    "\t     \\right.\n",
    "   \\end{equation*}\n",
    "   $$"
   ]
  },
  {
   "cell_type": "code",
   "execution_count": 10,
   "metadata": {},
   "outputs": [],
   "source": [
    "fitGama3 <- glm(Time ~ 1+ T1*T2 ,data = transact, family = Gamma(link=\"inverse\"))\n",
    "#summary(fitGama3)"
   ]
  },
  {
   "cell_type": "markdown",
   "metadata": {},
   "source": [
    "## Ajuste Normal Inversa\n",
    "\n",
    "##### Ajuste NI con función de enlace Identidad\n",
    "\n",
    "$$\\begin{equation*}\n",
    "     \\left\\{\n",
    "\t       \\begin{array}{ll}\n",
    "\t\t Y_k \\sim NI(\\mu_k, \\phi), \\\\\n",
    "\t\t \\mu_k=  \\beta_1 + \\beta_2 T1_{k} +  \\beta_3 T2_{k}+ \\beta_4 T1:T2 \\\\\n",
    "\t\t Y_1, Y_2,...,Y_n ind\n",
    "\t       \\end{array}\n",
    "\t     \\right.\n",
    "   \\end{equation*}\n",
    "   $$"
   ]
  },
  {
   "cell_type": "code",
   "execution_count": 11,
   "metadata": {},
   "outputs": [],
   "source": [
    "fitNI1<- glm(Time ~ 1+ T1*T2 ,data = transact, family = inverse.gaussian(link=\"identity\"))\n",
    "#summary(fitNI1)"
   ]
  },
  {
   "cell_type": "markdown",
   "metadata": {},
   "source": [
    "##### Ajuste NI con función de enlace log\n",
    "\n",
    "$$\\begin{equation*}\n",
    "     \\left\\{\n",
    "\t       \\begin{array}{ll}\n",
    "\t\t Y_k \\sim NI(\\mu_k, \\phi), \\\\\n",
    "\t\t log(\\mu_k)= \\beta_1 + \\beta_2 T1_{k} +  \\beta_3 T2_{k}+ \\beta_4 T1:T2 \\\\\n",
    "\t\t Y_1, Y_2,...,Y_n ind\n",
    "\t       \\end{array}\n",
    "\t     \\right.\n",
    "   \\end{equation*}\n",
    "   $$"
   ]
  },
  {
   "cell_type": "code",
   "execution_count": 12,
   "metadata": {},
   "outputs": [
    {
     "name": "stderr",
     "output_type": "stream",
     "text": [
      "Warning message:\n",
      "\"glm.fit: algorithm did not converge\""
     ]
    }
   ],
   "source": [
    "fitNI2<- glm(Time ~ 1+ T1*T2 ,data = transact, family = inverse.gaussian(link=\"log\"))\n",
    "#summary(fitNI2)"
   ]
  },
  {
   "cell_type": "markdown",
   "metadata": {},
   "source": [
    "##### Ajuste NI con función de enlace inversa\n",
    "\n",
    "$$\\begin{equation*}\n",
    "     \\left\\{\n",
    "\t       \\begin{array}{ll}\n",
    "\t\t Y_k \\sim NI(\\mu_k, \\phi), \\\\\n",
    "\t\t g^{-1}(\\mu_k)=  \\beta_1 + \\beta_2 T1_{k} +  \\beta_3 T2_{k}+ \\beta_4 T1:T2 \\\\\n",
    "\t\t Y_1, Y_2,...,Y_n ind\n",
    "\t       \\end{array}\n",
    "\t     \\right.\n",
    "   \\end{equation*}\n",
    "   $$"
   ]
  },
  {
   "cell_type": "code",
   "execution_count": 13,
   "metadata": {},
   "outputs": [
    {
     "data": {
      "text/plain": [
       "\n",
       "Call:\n",
       "glm(formula = Time ~ 1 + T1 * T2, family = inverse.gaussian(link = \"inverse\"), \n",
       "    data = transact)\n",
       "\n",
       "Deviance Residuals: \n",
       "      Min         1Q     Median         3Q        Max  \n",
       "-0.035709  -0.001957  -0.000251   0.002078   0.011557  \n",
       "\n",
       "Coefficients:\n",
       "              Estimate Std. Error t value Pr(>|t|)    \n",
       "(Intercept)  4.527e-04  1.194e-05   37.90   <2e-16 ***\n",
       "T1          -4.952e-07  3.494e-08  -14.17   <2e-16 ***\n",
       "T2          -8.844e-08  4.451e-09  -19.87   <2e-16 ***\n",
       "T1:T2        1.129e-10  9.113e-12   12.39   <2e-16 ***\n",
       "---\n",
       "Signif. codes:  0 '***' 0.001 '**' 0.01 '*' 0.05 '.' 0.1 ' ' 1\n",
       "\n",
       "(Dispersion parameter for inverse.gaussian family taken to be 1.619473e-05)\n",
       "\n",
       "    Null deviance: 0.0203280  on 260  degrees of freedom\n",
       "Residual deviance: 0.0069925  on 257  degrees of freedom\n",
       "AIC: 4751.4\n",
       "\n",
       "Number of Fisher Scoring iterations: 2\n"
      ]
     },
     "metadata": {},
     "output_type": "display_data"
    }
   ],
   "source": [
    "fitNI3<- glm(Time ~ 1+ T1*T2 ,data = transact, family = inverse.gaussian(link=\"inverse\"))\n",
    "summary(fitNI3)"
   ]
  },
  {
   "cell_type": "markdown",
   "metadata": {},
   "source": [
    "### B) Selección del modelo mediante BIC\n",
    "\n",
    "En correspondencia a los modelos establecidos, se calcula el BIC:"
   ]
  },
  {
   "cell_type": "code",
   "execution_count": 14,
   "metadata": {},
   "outputs": [
    {
     "data": {
      "text/html": [
       "<table>\n",
       "<thead><tr><th></th><th scope=col>df</th><th scope=col>BIC</th></tr></thead>\n",
       "<tbody>\n",
       "\t<tr><th scope=row>fitNormal1</th><td>5       </td><td>4440.679</td></tr>\n",
       "\t<tr><th scope=row>fitNormal2</th><td>5       </td><td>4473.419</td></tr>\n",
       "\t<tr><th scope=row>fitNormal3</th><td>5       </td><td>4558.522</td></tr>\n",
       "\t<tr><th scope=row>fitGama1</th><td>5       </td><td>4340.669</td></tr>\n",
       "\t<tr><th scope=row>fitGama2</th><td>5       </td><td>4459.558</td></tr>\n",
       "\t<tr><th scope=row>fitGama3</th><td>5       </td><td>4589.011</td></tr>\n",
       "\t<tr><th scope=row>fitNI1</th><td>5       </td><td>4408.796</td></tr>\n",
       "\t<tr><th scope=row>fitNI2</th><td>5       </td><td>4640.116</td></tr>\n",
       "\t<tr><th scope=row>fitNI3</th><td>5       </td><td>4769.174</td></tr>\n",
       "</tbody>\n",
       "</table>\n"
      ],
      "text/latex": [
       "\\begin{tabular}{r|ll}\n",
       "  & df & BIC\\\\\n",
       "\\hline\n",
       "\tfitNormal1 & 5        & 4440.679\\\\\n",
       "\tfitNormal2 & 5        & 4473.419\\\\\n",
       "\tfitNormal3 & 5        & 4558.522\\\\\n",
       "\tfitGama1 & 5        & 4340.669\\\\\n",
       "\tfitGama2 & 5        & 4459.558\\\\\n",
       "\tfitGama3 & 5        & 4589.011\\\\\n",
       "\tfitNI1 & 5        & 4408.796\\\\\n",
       "\tfitNI2 & 5        & 4640.116\\\\\n",
       "\tfitNI3 & 5        & 4769.174\\\\\n",
       "\\end{tabular}\n"
      ],
      "text/markdown": [
       "\n",
       "| <!--/--> | df | BIC |\n",
       "|---|---|---|\n",
       "| fitNormal1 | 5        | 4440.679 |\n",
       "| fitNormal2 | 5        | 4473.419 |\n",
       "| fitNormal3 | 5        | 4558.522 |\n",
       "| fitGama1 | 5        | 4340.669 |\n",
       "| fitGama2 | 5        | 4459.558 |\n",
       "| fitGama3 | 5        | 4589.011 |\n",
       "| fitNI1 | 5        | 4408.796 |\n",
       "| fitNI2 | 5        | 4640.116 |\n",
       "| fitNI3 | 5        | 4769.174 |\n",
       "\n"
      ],
      "text/plain": [
       "           df BIC     \n",
       "fitNormal1 5  4440.679\n",
       "fitNormal2 5  4473.419\n",
       "fitNormal3 5  4558.522\n",
       "fitGama1   5  4340.669\n",
       "fitGama2   5  4459.558\n",
       "fitGama3   5  4589.011\n",
       "fitNI1     5  4408.796\n",
       "fitNI2     5  4640.116\n",
       "fitNI3     5  4769.174"
      ]
     },
     "metadata": {},
     "output_type": "display_data"
    }
   ],
   "source": [
    "BIC(fitNormal1,fitNormal2,fitNormal3, fitGama1, fitGama2, fitGama3,fitNI1,fitNI2,fitNI3 )"
   ]
  },
  {
   "cell_type": "markdown",
   "metadata": {},
   "source": [
    "Según lo anterior, se puede establecer que el modelo que tiene mejor BIC es **fitGama1** el cual hace referencia a un ajuste Gama con función de enlace identidad. Ahora bien para seleccionar el mejor modelo se usa step_glm con el criterio BIC con procedimiento backward como se muestra en la siguiente línea :"
   ]
  },
  {
   "cell_type": "code",
   "execution_count": 15,
   "metadata": {},
   "outputs": [
    {
     "name": "stdout",
     "output_type": "stream",
     "text": [
      "\n",
      "  Family:  Gamma \n",
      "    Link:  identity \n",
      "\n",
      "Initial model:\n",
      "Time ~ 1 + T1 + T2 + T1:T2 \n",
      "\n",
      "Step 0 :    \n",
      "        Df       BIC       AIC   Deviance+  Pearson^  p-value*\n",
      "- T1:T2  1   4335.8227 4321.5646    0.9186    0.9099    0.4048\n",
      "<none>       4340.6686 4322.8460    0.9185    0.9102          \n",
      "\n",
      "Step 1 :  - T1:T2 \n",
      "       Df       BIC       AIC   Deviance+  Pearson^  p-value*\n",
      "<none>      4335.8227 4321.5646    0.9186    0.9099          \n",
      "- T1    1   4469.4578 4458.7642    0.8623    0.8519    0.0000\n",
      "- T2    1   4746.0136 4735.3200    0.6086    0.4987    0.0000\n",
      "\n",
      "+ Adjusted R-squared based on the residual deviance\n",
      "^ Adjusted R-squared based on the Pearson statistic\n",
      "* p-value of the Wald test\n",
      "\n",
      "Final model:\n",
      "Time ~ 1 + T1 + T2 \n",
      "\n"
     ]
    }
   ],
   "source": [
    "setwd(\"C:\\\\Users\\\\YULY\\\\Desktop\\\\Desktop\\\\UNAL 2018\\\\MLGz\\\\MLG Vanegas\")\n",
    "source(\"macros.txt\")\n",
    "\n",
    "step_glm(fitGama1, criterion=\"BIC\", direction = \"backward\")   #forward  o  backward"
   ]
  },
  {
   "cell_type": "markdown",
   "metadata": {},
   "source": [
    "El anterior codigo establece el mejor modelo. Se usa el proceso backward (que inicia con el modelo más complejo): \n",
    "\n",
    "* **paso 0**: Si se quita la interacción doble _T1*T2_ se tendría un BIC=4335.8 el cual es mucho menor que el bic de los demás efectos principales. **CONCLUSIÓN: Sacar la interacción doble del modelo**.\n",
    "\n",
    "* **paso 1**: Según las indicaciones del procedimiento se sugiere  no hacer nada más, es decir _none_ tendría el BIC=4335.8  mucho menor que el bic de los demás efectos principales. **CONCLUSIÓN: No quitar más efectos**.\n",
    "\n",
    "Obteniéndose el siguiente predictor lineal: \n",
    "\n",
    "\n",
    "$$\\eta \\sim 1 + T1 + T2 $$\n",
    "\n",
    "cuyo ajuste es:"
   ]
  },
  {
   "cell_type": "code",
   "execution_count": 16,
   "metadata": {},
   "outputs": [
    {
     "data": {
      "text/plain": [
       "\n",
       "Call:\n",
       "glm(formula = Time ~ 1 + T1 + T2, family = Gamma(link = \"identity\"), \n",
       "    data = transact)\n",
       "\n",
       "Deviance Residuals: \n",
       "     Min        1Q    Median        3Q       Max  \n",
       "-0.46866  -0.10718   0.00159   0.08656   0.67933  \n",
       "\n",
       "Coefficients:\n",
       "             Estimate Std. Error t value Pr(>|t|)    \n",
       "(Intercept) 152.95135   51.79999   2.953  0.00344 ** \n",
       "T1            5.70559    0.42561  13.406  < 2e-16 ***\n",
       "T2            2.00712    0.05799  34.612  < 2e-16 ***\n",
       "---\n",
       "Signif. codes:  0 '***' 0.001 '**' 0.01 '*' 0.05 '.' 0.1 ' ' 1\n",
       "\n",
       "(Dispersion parameter for Gamma family taken to be 0.02938704)\n",
       "\n",
       "    Null deviance: 92.603  on 260  degrees of freedom\n",
       "Residual deviance:  7.477  on 258  degrees of freedom\n",
       "AIC: 4321.6\n",
       "\n",
       "Number of Fisher Scoring iterations: 4\n"
      ]
     },
     "metadata": {},
     "output_type": "display_data"
    }
   ],
   "source": [
    "ajustefinal<- glm(Time ~ 1+ T1 + T2 ,data = transact, family = Gamma(link=\"identity\"))\n",
    "summary(ajustefinal)"
   ]
  },
  {
   "cell_type": "markdown",
   "metadata": {},
   "source": [
    "La anterior salida especifica la estimación de los parámetros a partir de 4 iteraciones del scoring de fisher."
   ]
  },
  {
   "cell_type": "markdown",
   "metadata": {},
   "source": [
    "### C) test de wald y razón de verosimilitudes\n",
    "\n",
    "#### Test de WALD\n",
    "\n",
    "En correspondencia al modelo anterior modelo propuesto surge una pregunta alusiva a si _¿existe evidencia estadísticamente significativa en que el efecto del peso del vehículo sobre su rendimiento esperado depende de la potencia del motor?_ Para responder esta pregunta se realiza el siguiente contraste de hipótesis:\n",
    "\n",
    "\n",
    "$$H_{0}: \\beta_2=0 \\;\\;\\;\\;\\; vs \\;\\;\\;\\;\\;\\;H_{1}: \\beta_2 \\neq 0 $$\n",
    "\n",
    "donde \n",
    "\n",
    "$$ \\xi _{W} = (\\hat{\\beta_2}  - \\beta_2^{0})' [\\hat{Var}(\\hat{\\beta_2})]^{-1}(\\hat{\\beta_2}  - \\beta_2^{0})$$\n"
   ]
  },
  {
   "cell_type": "code",
   "execution_count": 17,
   "metadata": {},
   "outputs": [
    {
     "data": {
      "text/html": [
       "<strong>T1:</strong> 179.709384006815"
      ],
      "text/latex": [
       "\\textbf{T1:} 179.709384006815"
      ],
      "text/markdown": [
       "**T1:** 179.709384006815"
      ],
      "text/plain": [
       "      T1 \n",
       "179.7094 "
      ]
     },
     "metadata": {},
     "output_type": "display_data"
    }
   ],
   "source": [
    "(coef(ajustefinal)[c(2)])^2 /(vcov(ajustefinal)[c(2), c(2)])     #test de wald"
   ]
  },
  {
   "cell_type": "markdown",
   "metadata": {},
   "source": [
    "Aqui hay que notar que $\\xi _{W}= 179$ es el mismo test de wald para el casi univariado, vease la salida presentada en _summary(ajustefinal)_ Dese cuenta que $\\xi _{W}= 179$ que este valor es el que hay que comparar con una $\\chi ^2 $ con un grado de libertad, 1df, concluyendose que hay evidencia para rechazar la hipótesis nula, al igual que especifica la salida _summary(ajustefinal)_ en su $p-valor=2e^{-16}$. Finalmente **el efecto del peso del vehículo sobre su rendimiento esperado  SI depende de la potencia del motor.**"
   ]
  },
  {
   "cell_type": "markdown",
   "metadata": {},
   "source": [
    "#### Otra forma del test de wald"
   ]
  },
  {
   "cell_type": "code",
   "execution_count": 18,
   "metadata": {},
   "outputs": [
    {
     "name": "stdout",
     "output_type": "stream",
     "text": [
      "\n",
      "  Wald test \n",
      "\n",
      " Model 1:  Time ~ 1 + T1 + T2 \n",
      " Model 2:  Time ~ 1 + T1 \n",
      "\n",
      "  Chi   Df  Pr(>Chi)    \n",
      "   1198  1 < 2.2e-16 ***\n"
     ]
    }
   ],
   "source": [
    "fit<- glm(Time ~ 1+ T1  ,data = transact, family = Gamma(link=\"identity\"))\n",
    "anova_glm(ajustefinal,fit,test=\"wald\") #test de wald"
   ]
  },
  {
   "cell_type": "markdown",
   "metadata": {},
   "source": [
    "Con el código anterior también se llega a la misma conclusión anterior. **el efecto del peso del vehículo sobre su rendimiento esperado  SI depende de la potencia del motor.**"
   ]
  },
  {
   "cell_type": "markdown",
   "metadata": {},
   "source": [
    "#### Test razón de verosimilitudes\n",
    "\n",
    "_¿existe evidencia estadísticamente significativa en que el efecto del peso del vehículo sobre su rendimiento esperado depende de la potencia del motor?_ Para responder esta pregunta se realiza el siguiente contraste de hipótesis:\n",
    "\n",
    "$$H_{0}: \\beta_2=0 \\;\\;\\;\\;\\; vs \\;\\;\\;\\;\\;\\;H_{1}: \\beta_2 \\neq 0 $$\n",
    "\n",
    "Consideradndo el siguiente código se rechaza $H_0$ a un nivel de significancia APROXIMADO del 100$ \\alpha\\%$ puesto que $\\xi _{RV}=974.25 >\\chi^2(1)$ A firmandose que $\\beta_2$ es significativo en el modelo. Es decír **el efecto del peso del vehículo sobre su rendimiento esperado  SI depende de la potencia del motor.**"
   ]
  },
  {
   "cell_type": "code",
   "execution_count": 19,
   "metadata": {},
   "outputs": [
    {
     "name": "stdout",
     "output_type": "stream",
     "text": [
      "\n",
      "  Likelihood-ratio test \n",
      "\n",
      " Model 1:  Time ~ 1 + T1 + T2 \n",
      " Model 2:  Time ~ 1 + T1 \n",
      "\n",
      "   Chi   Df  Pr(>Chi)    \n",
      "  974.25  1 < 2.2e-16 ***\n"
     ]
    }
   ],
   "source": [
    "anova_glm(ajustefinal,fit, test = \"LRT\")  "
   ]
  },
  {
   "cell_type": "markdown",
   "metadata": {},
   "source": [
    "### D) Análsis del diagnóstico del modelo\n",
    "\n",
    "La siguiente gráfica es la de los residuos cuantil, mediante la función **residuals_glm()** la cual genera por defecto los residuos cuantil."
   ]
  },
  {
   "cell_type": "code",
   "execution_count": 20,
   "metadata": {},
   "outputs": [
    {
     "data": {
      "image/png": "[encoded data removed]",
      "text/plain": [
       "Plot with title \" \""
      ]
     },
     "metadata": {},
     "output_type": "display_data"
    }
   ],
   "source": [
    "residuals_glm(ajustefinal,identify = 5)"
   ]
  },
  {
   "cell_type": "markdown",
   "metadata": {},
   "source": [
    "Los corresponsales bancarios que tienen altos residuos son (64,161,169) y menor residuo el auto 158."
   ]
  },
  {
   "cell_type": "code",
   "execution_count": 21,
   "metadata": {},
   "outputs": [
    {
     "data": {
      "image/png": "[encoded data removed]",
      "text/plain": [
       "Plot with title \" \""
      ]
     },
     "metadata": {},
     "output_type": "display_data"
    }
   ],
   "source": [
    "Cookdis_glm(ajustefinal,identify = 5)  "
   ]
  },
  {
   "cell_type": "markdown",
   "metadata": {},
   "source": [
    "Las sucursles que aproximadamente tienen más alta distancia de cook son (96,161,169,149,64)\n",
    "\n",
    " (64,161,169) y menor residuo el auto 158."
   ]
  },
  {
   "cell_type": "markdown",
   "metadata": {},
   "source": [
    "### ¿Qué sucede si quitamos los puntos alto leverage?\n",
    "\n",
    "Quitando el dato 64 se tiene:"
   ]
  },
  {
   "cell_type": "code",
   "execution_count": 22,
   "metadata": {},
   "outputs": [
    {
     "name": "stdout",
     "output_type": "stream",
     "text": [
      "\n",
      "            Estimate  Std. Error   Pr(>|t|)  | Estimate* Std. Error*  Pr(>|t|)*\n",
      "(Intercept) 152.95135    51.79999    0.00344 | 156.94716    49.65571    0.00176\n",
      "T1            5.70559     0.42561    0.00000 |   5.69857     0.40597    0.00000\n",
      "T2            2.00712     0.05799    0.00000 |   1.99692     0.05541    0.00000\n",
      "            | Change(%)\n",
      "(Intercept) |    2.6125\n",
      "T1          |   -0.1229\n",
      "T2          |   -0.5083\n",
      "\n",
      "(*) estimates, standard errors and p-values obtained using the specified subset of individuals.\n"
     ]
    }
   ],
   "source": [
    "case.deletion_glm(ajustefinal,subset = c(-64))"
   ]
  },
  {
   "cell_type": "markdown",
   "metadata": {},
   "source": [
    "* Quitando el dato 64 se tiene que **(Continúa el signo y la significancia)**\n",
    "\n",
    "La estimación del intercepto aumentó un $2\\%$, mientras que la estimación de $\\beta_2$ y $\\beta_3$ no tienen cambios significativos, al quitar la observación 64 indica que las cosas siguen siendo prácticamente iguales con respecto a la significancia."
   ]
  },
  {
   "cell_type": "code",
   "execution_count": 23,
   "metadata": {},
   "outputs": [
    {
     "name": "stdout",
     "output_type": "stream",
     "text": [
      "\n",
      "            Estimate  Std. Error   Pr(>|t|)  | Estimate* Std. Error*  Pr(>|t|)*\n",
      "(Intercept) 152.95135    51.79999    0.00344 | 167.54288    51.48255    0.00129\n",
      "T1            5.70559     0.42561    0.00000 |   5.87698     0.41797    0.00000\n",
      "T2            2.00712     0.05799    0.00000 |   1.97613     0.05725    0.00000\n",
      "            | Change(%)\n",
      "(Intercept) |     9.540\n",
      "T1          |     3.004\n",
      "T2          |    -1.544\n",
      "\n",
      "(*) estimates, standard errors and p-values obtained using the specified subset of individuals.\n"
     ]
    }
   ],
   "source": [
    "case.deletion_glm(ajustefinal,subset = c(-161))"
   ]
  },
  {
   "cell_type": "markdown",
   "metadata": {},
   "source": [
    "* Quitando el dato 161 se tiene que **(Continúa el signo y la significancia)**\n",
    "\n",
    "La estimación del intercepto aumentó un $9\\%$, asi mismo la estimación de $\\beta_2$ aumentó $3\\%$ todo al quitar la observación 161. No obstante la significancia permaneció igual."
   ]
  },
  {
   "cell_type": "code",
   "execution_count": 24,
   "metadata": {},
   "outputs": [
    {
     "name": "stdout",
     "output_type": "stream",
     "text": [
      "\n",
      "            Estimate  Std. Error   Pr(>|t|)  | Estimate* Std. Error*  Pr(>|t|)*\n",
      "(Intercept) 152.95135    51.79999    0.00344 | 138.09967    50.51760    0.00670\n",
      "T1            5.70559     0.42561    0.00000 |   5.58624     0.42171    0.00000\n",
      "T2            2.00712     0.05799    0.00000 |   2.02214     0.05727    0.00000\n",
      "            | Change(%)\n",
      "(Intercept) |    -9.710\n",
      "T1          |    -2.092\n",
      "T2          |     0.748\n",
      "\n",
      "(*) estimates, standard errors and p-values obtained using the specified subset of individuals.\n"
     ]
    }
   ],
   "source": [
    "case.deletion_glm(ajustefinal,subset = c(-169))"
   ]
  },
  {
   "cell_type": "markdown",
   "metadata": {},
   "source": [
    "* Quitando el dato 169 se tiene que **(Continúa el signo y la significancia)**\n",
    "\n",
    "La estimación del intercepto disminuyo un $9\\%$, asi mismo la estimación de $\\beta_2$ disminuyo pero en un $2\\%$ todo al quitar la observación 169."
   ]
  },
  {
   "cell_type": "code",
   "execution_count": 25,
   "metadata": {},
   "outputs": [
    {
     "name": "stdout",
     "output_type": "stream",
     "text": [
      "\n",
      "            Estimate  Std. Error   Pr(>|t|)  | Estimate* Std. Error*  Pr(>|t|)*\n",
      "(Intercept) 152.95135    51.79999    0.00344 | 180.87349    57.05507    0.00171\n",
      "T1            5.70559     0.42561    0.00000 |   5.75698     0.42691    0.00000\n",
      "T2            2.00712     0.05799    0.00000 |   1.98841     0.05997    0.00000\n",
      "            | Change(%)\n",
      "(Intercept) |    18.256\n",
      "T1          |     0.901\n",
      "T2          |    -0.932\n",
      "\n",
      "(*) estimates, standard errors and p-values obtained using the specified subset of individuals.\n"
     ]
    }
   ],
   "source": [
    "case.deletion_glm(ajustefinal,subset = c(-96))"
   ]
  },
  {
   "cell_type": "markdown",
   "metadata": {},
   "source": [
    "* Quitando el dato 96 se tiene que **(Continúa el signo y la significancia)**\n",
    "\n",
    "La estimación del intercepto aumentó un $18\\%$, la estimación de $\\beta_2$ aumentó poco. No obstante la significancia permaneció igual."
   ]
  },
  {
   "cell_type": "markdown",
   "metadata": {},
   "source": [
    "### Envelope\n",
    "\n",
    "En cosideración al modelo descrito se tiene el envelope con respecto a los residuos cuantil:"
   ]
  },
  {
   "cell_type": "code",
   "execution_count": 26,
   "metadata": {},
   "outputs": [
    {
     "name": "stdout",
     "output_type": "stream",
     "text": [
      "  |++++++++++++++++++++++++++++++++++++++++++++++++++| 100%\n"
     ]
    },
    {
     "data": {
      "image/png": "[encoded data removed]",
      "text/plain": [
       "Plot with title \" \""
      ]
     },
     "metadata": {},
     "output_type": "display_data"
    }
   ],
   "source": [
    "envelope_glm(ajustefinal)"
   ]
  },
  {
   "cell_type": "markdown",
   "metadata": {},
   "source": [
    "### supuesto de dispersión constante\n",
    "\n",
    "\n",
    "La homocedasticidad, es una característica de un modelo de regresión lineal que implica que la varianza de los errores es constante a lo largo del tiempo. Supongase el *modelo gamma heterocedastico* descrito por:\n",
    "\n",
    "$\\;$\n",
    "$$\\begin{equation*}\n",
    "     \\left\\{\n",
    "\t       \\begin{array}{ll}\n",
    "           Y_k = \\mu_k + \\epsilon_k\\\\\n",
    "\t\t \\mu_k=\\mathbf{x}_k'\\beta  \\\\\n",
    "\t\t Y_k \\sim Gama(\\mu_k, \\phi_k)\\\\\n",
    "         log(\\phi_k) =\\vartheta_1 + Z_k \\vartheta \n",
    "\t       \\end{array}\n",
    "\t     \\right.\n",
    "   \\end{equation*}\n",
    "   $$\n",
    "  \n",
    "  \n",
    " Tengase en cuenta $\\Theta_{(p+q)}$ de dimensión (p+q) donde: $\\Theta= \\left ( \\beta ^r , \\vartheta _1, \\vartheta ^T \\right )^T$ con $\\beta$ de dimensión p, $\\vartheta _1$ de dimensión 1 y $\\vartheta ^T$ de dimensión q-1.\n",
    " \n",
    "La forma de proceder está en contrastar la siguiente hipótesis:\n",
    "\n",
    "$$H_{0}: \\vartheta =0\\;\\;\\;\\;\\;\\;\\;\\;vs \\;\\;\\;\\; \\;\\;\\;\\;H_{1}: \\vartheta \\neq  0$$\n",
    " \n",
    " \n",
    " \n",
    "#####  Test de Score o Rao  (necesita 1 parámetro a estimar $\\widehat{\\theta}^{(0)}$ )\n",
    "\n",
    "$$\\zeta_{s}=\\left \\{   [U_{\\vartheta}(\\theta)]^{T}Var(\\widehat{\\vartheta})[U_{\\vartheta}(\\theta)]   \\right \\} |_{\\theta=\\widehat{\\theta}^{(0)}}  \\;\\;\\;\\;\\;\\;\\; ; \\;\\;\\;\\;\\;\\;\\; \\zeta_{s}\\; \\overset{H_0}{\\underset{n \\to \\infty }{\\sim}} \\; \\chi^2_{(q-1)} $$\n",
    "\n",
    "Aquí $U(\\theta)= \\bigtriangledown l(\\theta)$ es el vector gradiente y $U_{\\vartheta}(\\theta)$ los últimos (q-1) valores del vector gradiente.\n",
    "\n"
   ]
  },
  {
   "cell_type": "code",
   "execution_count": 27,
   "metadata": {},
   "outputs": [
    {
     "name": "stdout",
     "output_type": "stream",
     "text": [
      "\n",
      "             Score test for varying dispersion\n",
      "\n",
      "          Statistic =  8.25206 \n",
      " degrees of freedom =  2 \n",
      "            p-value =  0.016147 \n",
      "\n"
     ]
    },
    {
     "ename": "ERROR",
     "evalue": "Error in bptest(ajustefinal, studentize = FALSE): no se pudo encontrar la función \"bptest\"\n",
     "output_type": "error",
     "traceback": [
      "Error in bptest(ajustefinal, studentize = FALSE): no se pudo encontrar la función \"bptest\"\nTraceback:\n"
     ]
    }
   ],
   "source": [
    "vdtest(ajustefinal)\n",
    "bptest(ajustefinal,studentize=FALSE)"
   ]
  },
  {
   "cell_type": "markdown",
   "metadata": {},
   "source": [
    "# Interepretación de los parámetros\n",
    "\n",
    "Considerando que el modelo propuesto (Normal inversa con función de enlace identidad) sigue los supuestos anteriormente especificados, se tiene:\n",
    "\n",
    "$$\\begin{equation*}\n",
    "     \\left\\{\n",
    "\t       \\begin{array}{ll}\n",
    "\t\t Y_k \\sim NI(\\mu_k, \\phi), \\\\\n",
    "\t\t \\mu_k=  \\beta_1 + \\beta_2 T1_{k} +  \\beta_3 T2_{k} \\\\\n",
    "\t\t Y_1, Y_2,...,Y_n ind\n",
    "\t       \\end{array}\n",
    "\t     \\right.\n",
    "   \\end{equation*}\n",
    "   $$\n",
    "\n",
    "\n",
    "**Interpretación del efecto de T1 ($\\beta_2$)**\n",
    "\n",
    "* Al comparar dos sucursales con el mismo número de transacciones T2, por cada unidad adicional transacciones tipo 1 el tiempo esperado aumenta  5.7 unidades\n",
    "\n",
    "**Interpretación del efecto de T2 ($\\beta_3$)**\n",
    "\n",
    "* Si se comparan dos sucursales con el mismo numero de transacciones tipo 1 pero donde una sucursal tiene una unidad adicional en transaciones T2, entonces el tiempo esperado en realizar T2 de la mayor es, aproximadamente 2.00 minutos mayor que en la menor. "
   ]
  }
 ],
 "metadata": {
  "kernelspec": {
   "display_name": "R",
   "language": "R",
   "name": "ir"
  },
  "language_info": {
   "codemirror_mode": "r",
   "file_extension": ".r",
   "mimetype": "text/x-r-source",
   "name": "R",
   "pygments_lexer": "r",
   "version": "3.6.1"
  }
 },
 "nbformat": 4,
 "nbformat_minor": 2
}
